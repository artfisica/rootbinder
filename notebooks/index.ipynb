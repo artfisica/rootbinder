{
 "cells": [
  {
   "cell_type": "markdown",
   "metadata": {},
   "source": [
    "  <div id=\"logo ATLAS\" style=\"float:left; clear:both; padding: 0.0cm 0.0cm 0.0cm 0.0cm; text-align: center; width:92%; margin:0px auto; background-color:white; border:none!important;\">\n",
    "            <img class=\"img-responsive\" src=\"http://atlas-opendata.web.cern.ch/atlas-opendata/DataAndTools/pictures/opendata-top-transblack.png\" alt=\"Visualisations\" style=\"width:60%\">\n",
    "  </div>"
   ]
  },
  {
   "cell_type": "markdown",
   "metadata": {},
   "source": [
    "<CENTER>\n",
    "\n",
    "    <h1><b>Example of ROOTbook using ATLAS public datasets</b></h1>\n",
    "\n",
    "    <table style=\"border-style: hidden; border-collapse: collapse;\">\n",
    "    <tr>\n",
    "        <td style=\"border-style: hidden;\">\n",
    "            <a data-content=\"Image\" href=\"../notebooks/PyROOT_Example.ipynb\" class=\"test\"><img class='thumbnail'style='float: left; height: 200px; margin-right: 15px; margin-top: 15px; -web-kit-shadow: None !important; box-shadow: None !important; margin-bottom: 0px;' src=\"../images/pythonLogo.png\"></a>\n",
    "        </td>\n",
    "  <td style=\"border-style: hidden;\">\n",
    "  <a data-content=\"Image\" href=\"SummerStudents/ATLAS_Open_Data_ Z_Analysis_v0-0-1a.ipynb\" class=\"test\"><img class='thumbnail'style='float: left; height: 200px; margin-right: 15px; margin-top: 15px; -web-kit-shadow: None !important; box-shadow: None !important; margin-bottom: 0px;' src=\"../images/cppLogo_v2.png\"></a>\n",
    "  </td>\n",
    "</tr>\n",
    "\n",
    "<tr>\n",
    "  <td style=\"border-style: hidden;\">\n",
    "  <p style=\"font-size:22px; font-weight: 200; line-height: 1.2em;text-align:center;\" align =\"right\">Python</p>\n",
    "  </td>\n",
    "  <td style=\"border-style: hidden;\">\n",
    "  <p style=\"font-size:22px; font-weight: 200; line-height: 1.2em;text-align:center;\">C++</p>\n",
    "  </td>\n",
    "</tr>\n",
    "</table>\n",
    "\n",
    "</CENTER>"
   ]
  },
  {
   "cell_type": "markdown",
   "metadata": {},
   "source": [
    "View these notebooks on [GitHub](https://github.com/artfisica/rootbinder/tree/master/notebooks/)"
   ]
  }
 ],
 "metadata": {
  "kernelspec": {
   "display_name": "Python 2",
   "language": "python",
   "name": "python2"
  },
  "language_info": {
   "codemirror_mode": {
    "name": "ipython",
    "version": 2
   },
   "file_extension": ".py",
   "mimetype": "text/x-python",
   "name": "python",
   "nbconvert_exporter": "python",
   "pygments_lexer": "ipython2",
   "version": "2.7.10"
  }
 },
 "nbformat": 4,
 "nbformat_minor": 0
}
