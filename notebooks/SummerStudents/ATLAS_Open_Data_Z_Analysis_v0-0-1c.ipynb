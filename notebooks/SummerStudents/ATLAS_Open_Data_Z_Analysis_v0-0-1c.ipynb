{
 "cells": [
  {
   "cell_type": "markdown",
   "metadata": {},
   "source": [
    "  <div id=\"logo ATLAS\" style=\"float:left; clear:both; padding: 0.0cm 0.0cm 0.0cm 0.0cm; text-align: center; width:92%; margin:0px auto; background-color:white; border:none!important;\">\n",
    "            <img class=\"img-responsive\" src=\"http://atlas-opendata.web.cern.ch/atlas-opendata/DataAndTools/pictures/opendata-top-transblack.png\" alt=\"Visualisations\" style=\"width:60%\">\n",
    "  </div>\n",
    "  \n",
    "  <div id=\"Z_analysis\" style=\"float:left; clear:both; padding: 0.0cm 0.0cm 0.0cm 0.0cm; text-align: center; width:92%; margin:0px auto; background-color:#d1ecfc; border:none!important;\">\n",
    "    <table width=\"100%\" border=\"0\" style=\"float:center; clear:both; border:none!important;\">\n",
    "      <tr>\n",
    "        <td style=\"width:50%; text-align: left; padding: 1cm 0.5cm 1cm 0.5cm;\">\n",
    "          <h1 style=\"font-family:verdana; font-size:260%;\">The <b><a href=\"#\">Z Analysis</a> ROOTbook</b></h1>\n",
    "          <p style=\"font-family:verdana; font-size:110%;\">\n",
    "            Many analyses selecting leptons suffer from Z + jets as a contributing background due to its large production cross section. It is therefore vital to check the correct modelling of this process by the Monte-Carlo simulated data.\n",
    "            It is important to measure well known Standard Model particles, to confirm that we understand properly the detector and software. We are then ready to search for new physics.\n",
    "          </p>\n",
    "        </td>\n",
    "        <td style=\"width:50%; padding: 0.2cm 0.2cm 0.2cm 0.2cm;\">\n",
    "            <img class=\"img-responsive\" src=\"http://atlas-opendata.web.cern.ch/atlas-opendata/DataAndTools/pictures/handmade_ZAnalysis.png\" alt=\"Visualisations\" style=\"width:100%\">\n",
    "        </td>\n",
    "      </tr>\n",
    "    </table>\n",
    "  </div>"
   ]
  },
  {
   "cell_type": "markdown",
   "metadata": {},
   "source": [
    "<CENTER>\n",
    "    <h1>Example of a Z Analysis ROOT C++ kernel</h1>\n",
    "</CENTER>"
   ]
  },
  {
   "cell_type": "markdown",
   "metadata": {},
   "source": [
    "This example will help you to make and fill histogrms as in the Outreach Note and at the same time, to practice the comments style of your notebooks"
   ]
  },
  {
   "cell_type": "code",
   "execution_count": null,
   "metadata": {
    "collapsed": true
   },
   "outputs": [],
   "source": [
    "%jsroot on"
   ]
  },
  {
   "cell_type": "markdown",
   "metadata": {},
   "source": [
    "<b>First Steps:</b> Create Chains for MonteCarlo and Data files. A chain is a collection of files containg TTree objects. When the chain is created, the first parameter is the default name for the Tree to be processed later on."
   ]
  },
  {
   "cell_type": "code",
   "execution_count": null,
   "metadata": {
    "collapsed": true
   },
   "outputs": [],
   "source": [
    "TChain *MonteCarlo = new TChain(\"mini\");\n",
    "TChain *Data = new TChain(\"mini\");"
   ]
  },
  {
   "cell_type": "markdown",
   "metadata": {},
   "source": [
    "Add the files to the chains:"
   ]
  },
  {
   "cell_type": "code",
   "execution_count": null,
   "metadata": {
    "collapsed": false
   },
   "outputs": [],
   "source": [
    "//Z\n",
    "MonteCarlo->Add(\"http://atlas-opendata.web.cern.ch/atlas-opendata/release/samples/MC/mc_147770.Zee.root\");\n",
    "MonteCarlo->Add(\"http://atlas-opendata.web.cern.ch/atlas-opendata/release/samples/MC/mc_147771.Zmumu.root\");\n",
    "MonteCarlo->Add(\"http://atlas-opendata.web.cern.ch/atlas-opendata/release/samples/MC/mc_147772.Ztautau.root\");\n",
    "\n",
    "//Diboson\n",
    "MonteCarlo->Add(\"http://atlas-opendata.web.cern.ch/atlas-opendata/release/samples/MC/mc_105985.WW.root\");\n",
    "MonteCarlo->Add(\"http://atlas-opendata.web.cern.ch/atlas-opendata/release/samples/MC/mc_105986.ZZ.root\");\n",
    "MonteCarlo->Add(\"http://atlas-opendata.web.cern.ch/atlas-opendata/release/samples/MC/mc_105987.WZ.root\");\n",
    "//Drell Yan\n",
    "MonteCarlo->Add(\"http://atlas-opendata.web.cern.ch/atlas-opendata/release/samples/MC/mc_173041.DYeeM08to15.root\");\n",
    "MonteCarlo->Add(\"http://atlas-opendata.web.cern.ch/atlas-opendata/release/samples/MC/mc_173042.DYeeM15to40.root\");\n",
    "MonteCarlo->Add(\"http://atlas-opendata.web.cern.ch/atlas-opendata/release/samples/MC/mc_173043.DYmumuM08to15.root\");\n",
    "MonteCarlo->Add(\"http://atlas-opendata.web.cern.ch/atlas-opendata/release/samples/MC/mc_173044.DYmumuM15to40.root\");\n",
    "MonteCarlo->Add(\"http://atlas-opendata.web.cern.ch/atlas-opendata/release/samples/MC/mc_173045.DYtautauM08to15.root\");\n",
    "MonteCarlo->Add(\"http://atlas-opendata.web.cern.ch/atlas-opendata/release/samples/MC/mc_173046.DYtautauM15to40.root\");\n",
    "//Stop\n",
    "MonteCarlo->Add(\"http://atlas-opendata.web.cern.ch/atlas-opendata/release/samples/MC/mc_110090.stop_tchan_top.root\");\n",
    "MonteCarlo->Add(\"http://atlas-opendata.web.cern.ch/atlas-opendata/release/samples/MC/mc_110091.stop_tchan_antitop.root\");\n",
    "MonteCarlo->Add(\"http://atlas-opendata.web.cern.ch/atlas-opendata/release/samples/MC/mc_110119.stop_schan.root\");\n",
    "MonteCarlo->Add(\"http://atlas-opendata.web.cern.ch/atlas-opendata/release/samples/MC/mc_110140.stop_wtchan.root\");\n",
    "//TTBar\n",
    "MonteCarlo->Add(\"http://atlas-opendata.web.cern.ch/atlas-opendata/release/samples/MC/mc_117049.ttbar_had.root\");\n",
    "MonteCarlo->Add(\"http://atlas-opendata.web.cern.ch/atlas-opendata/release/samples/MC/mc_117050.ttbar_lep.root\");\n",
    "//W\n",
    "MonteCarlo->Add(\"http://atlas-opendata.web.cern.ch/atlas-opendata/release/samples/MC/mc_167740.WenuWithB.root\");\n",
    "MonteCarlo->Add(\"http://atlas-opendata.web.cern.ch/atlas-opendata/release/samples/MC/mc_167741.WenuJetsBVeto.root\");\n",
    "MonteCarlo->Add(\"http://atlas-opendata.web.cern.ch/atlas-opendata/release/samples/MC/mc_167742.WenuNoJetsBVeto.root\");\n",
    "MonteCarlo->Add(\"http://atlas-opendata.web.cern.ch/atlas-opendata/release/samples/MC/mc_167743.WmunuWithB.root\");\n",
    "MonteCarlo->Add(\"http://atlas-opendata.web.cern.ch/atlas-opendata/release/samples/MC/mc_167744.WmunuJetsBVeto.root\");\n",
    "MonteCarlo->Add(\"http://atlas-opendata.web.cern.ch/atlas-opendata/release/samples/MC/mc_167745.WmunuNoJetsBVeto.root\");\n",
    "MonteCarlo->Add(\"http://atlas-opendata.web.cern.ch/atlas-opendata/release/samples/MC/mc_167746.WtaunuWithB.root\");\n",
    "MonteCarlo->Add(\"http://atlas-opendata.web.cern.ch/atlas-opendata/release/samples/MC/mc_167747.WtaunuJetsBVeto.root\");\n",
    "MonteCarlo->Add(\"http://atlas-opendata.web.cern.ch/atlas-opendata/release/samples/MC/mc_167748.WtaunuNoJetsBVeto.root\");\n",
    "\n",
    "//Data\n",
    "MonteCarlo->Add(\"http://atlas-opendata.web.cern.ch/atlas-opendata/release/samples/Data/DataEgamma.root\");\n",
    "MonteCarlo->Add(\"http://atlas-opendata.web.cern.ch/atlas-opendata/release/samples/Data/DataMuons.root\");\n",
    "\n"
   ]
  },
  {
   "cell_type": "markdown",
   "metadata": {},
   "source": [
    "Define the variables for MonteCarlo chain:"
   ]
  },
  {
   "cell_type": "code",
   "execution_count": null,
   "metadata": {
    "collapsed": true
   },
   "outputs": [],
   "source": [
    "Float_t Luminosity = 1000;\n",
    "//MonteCarlo\n",
    "\n",
    "Int_t   MonteCarlo_lep_n = -1,\n",
    "        MonteCarlo_lep_type[5],\n",
    "        MonteCarlo_runNumber=-1, \n",
    "        MonteCarlo_jet_n=-1,\n",
    "        MonteCarlo_pvxp_n=-999;\n",
    "        \n",
    "\n",
    "Float_t MonteCarlo_lep_pt[5],\n",
    "        MonteCarlo_lep_charge[5], \n",
    "        MonteCarlo_lep_eta[5],\n",
    "        MonteCarlo_lep_phi[5],\n",
    "        MonteCarlo_lep_E[5],\n",
    "        MonteCarlo_lep_etcone20[5],\n",
    "        MonteCarlo_lep_ptcone30[5],\n",
    "        MonteCarlo_lep_z0[5],\n",
    "        MonteCarlo_lep_d0[5],\n",
    "        MonteCarlo_jet_pt[10],\n",
    "        MonteCarlo_jet_eta[10],\n",
    "        MonteCarlo_jet_m[10],\n",
    "        MonteCarlo_jet_jvf[10],\n",
    "        MonteCarlo_jet_MV1[10],\n",
    "        MonteCarlo_vxp_z=-999,\n",
    "        MonteCarlo_met_et=-999,\n",
    "        MonteCarlo_scaleFactor_PILEUP=-999,\n",
    "        MonteCarlo_scaleFactor_ELE=-999,\n",
    "        MonteCarlo_scaleFactor_MUON=-999,\n",
    "        MonteCarlo_scaleFactor_BTAG=-999,\n",
    "        MonteCarlo_scaleFactor_TRIGGER=-999,\n",
    "        MonteCarlo_scaleFactor_JVFSF=-999,\n",
    "        MonteCarlo_scaleFactor_ZVERTEX=-999,\n",
    "        MonteCarlo_mcWeight=-999;"
   ]
  },
  {
   "cell_type": "markdown",
   "metadata": {},
   "source": [
    "Read the variables from the files and define them for MonteCarlo chain:"
   ]
  },
  {
   "cell_type": "code",
   "execution_count": null,
   "metadata": {
    "collapsed": false
   },
   "outputs": [],
   "source": [
    "//MonteCarlo\n",
    "MonteCarlo->SetBranchAddress(\"lep_pt\",   &MonteCarlo_lep_pt);\n",
    "MonteCarlo->SetBranchAddress(\"lep_charge\",   &MonteCarlo_lep_charge);\n",
    "MonteCarlo->SetBranchAddress(\"lep_n\",   &MonteCarlo_lep_n);\n",
    "MonteCarlo->SetBranchAddress(\"lep_type\",   &MonteCarlo_lep_type);\n",
    "MonteCarlo->SetBranchAddress(\"lep_eta\",   &MonteCarlo_lep_eta);\n",
    "MonteCarlo->SetBranchAddress(\"lep_phi\",   &MonteCarlo_lep_phi);\n",
    "MonteCarlo->SetBranchAddress(\"lep_E\",   &MonteCarlo_lep_E);\n",
    "MonteCarlo->SetBranchAddress(\"lep_etcone20\",   &MonteCarlo_lep_etcone20);\n",
    "MonteCarlo->SetBranchAddress(\"lep_ptcone30\",   &MonteCarlo_lep_ptcone30);\n",
    "MonteCarlo->SetBranchAddress(\"lep_z0\",   &MonteCarlo_lep_z0);\n",
    "MonteCarlo->SetBranchAddress(\"lep_trackd0pvunbiased\",   &MonteCarlo_lep_d0);\n",
    "MonteCarlo->SetBranchAddress(\"jet_n\",   &MonteCarlo_jet_n);\n",
    "MonteCarlo->SetBranchAddress(\"jet_pt\",   &MonteCarlo_jet_pt);\n",
    "MonteCarlo->SetBranchAddress(\"jet_eta\",   &MonteCarlo_jet_eta);\n",
    "MonteCarlo->SetBranchAddress(\"jet_m\",   &MonteCarlo_jet_m);\n",
    "MonteCarlo->SetBranchAddress(\"jet_jvf\",   &MonteCarlo_jet_jvf);\n",
    "MonteCarlo->SetBranchAddress(\"jet_MV1\",   &MonteCarlo_jet_MV1);\n",
    "MonteCarlo->SetBranchAddress(\"pvxp_n\",   &MonteCarlo_pvxp_n);\n",
    "MonteCarlo->SetBranchAddress(\"vxp_z\",   &MonteCarlo_vxp_z);\n",
    "MonteCarlo->SetBranchAddress(\"met_et\",   &MonteCarlo_met_et);\n",
    "MonteCarlo->SetBranchAddress(\"channelNumber\",   &MonteCarlo_runNumber);\n",
    "MonteCarlo->SetBranchAddress(\"scaleFactor_PILEUP\",   &MonteCarlo_scaleFactor_PILEUP);\n",
    "MonteCarlo->SetBranchAddress(\"scaleFactor_ELE\",   &MonteCarlo_scaleFactor_ELE);\n",
    "MonteCarlo->SetBranchAddress(\"scaleFactor_MUON\",   &MonteCarlo_scaleFactor_MUON);\n",
    "MonteCarlo->SetBranchAddress(\"scaleFactor_BTAG\",   &MonteCarlo_scaleFactor_BTAG);\n",
    "MonteCarlo->SetBranchAddress(\"scaleFactor_TRIGGER\",   &MonteCarlo_scaleFactor_TRIGGER);\n",
    "MonteCarlo->SetBranchAddress(\"scaleFactor_JVFSF\",   &MonteCarlo_scaleFactor_JVFSF);\n",
    "MonteCarlo->SetBranchAddress(\"scaleFactor_ZVERTEX\",   &MonteCarlo_scaleFactor_ZVERTEX);\n",
    "MonteCarlo->SetBranchAddress(\"mcWeight\",   &MonteCarlo_mcWeight);"
   ]
  },
  {
   "cell_type": "markdown",
   "metadata": {},
   "source": [
    "Define the variables for Data chain:"
   ]
  },
  {
   "cell_type": "code",
   "execution_count": null,
   "metadata": {
    "collapsed": true
   },
   "outputs": [],
   "source": [
    "//Data\n",
    "Int_t  Data_lep_n = -1,\n",
    "       Data_lep_type[5],\n",
    "       Data_runNumber=-1;\n",
    "\n",
    "Float_t Data_lep_pt[5],\n",
    "        Data_lep_charge[5], \n",
    "        Data_lep_eta[5],\n",
    "        Data_lep_phi[5],\n",
    "        Data_lep_E[5],\n",
    "        Data_lep_etcone20[5],\n",
    "        Data_lep_ptcone30[5];"
   ]
  },
  {
   "cell_type": "markdown",
   "metadata": {},
   "source": [
    "Read the variables from the files and define them for Data chain:"
   ]
  },
  {
   "cell_type": "code",
   "execution_count": null,
   "metadata": {
    "collapsed": true
   },
   "outputs": [],
   "source": [
    "//Data\n",
    "Data->SetBranchAddress(\"lep_pt\",   &Data_lep_pt);\n",
    "Data->SetBranchAddress(\"lep_charge\",   &Data_lep_charge);\n",
    "Data->SetBranchAddress(\"lep_n\",   &Data_lep_n);\n",
    "Data->SetBranchAddress(\"lep_type\",   &Data_lep_type);\n",
    "Data->SetBranchAddress(\"lep_eta\",   &Data_lep_eta);\n",
    "Data->SetBranchAddress(\"lep_phi\",   &Data_lep_phi);\n",
    "Data->SetBranchAddress(\"lep_E\",   &Data_lep_E);\n",
    "Data->SetBranchAddress(\"lep_etcone20\",   &Data_lep_etcone20);\n",
    "Data->SetBranchAddress(\"lep_ptcone30\",   &Data_lep_ptcone30);\n",
    "Data->SetBranchAddress(\"channelNumber\",   &Data_runNumber);"
   ]
  },
  {
   "cell_type": "markdown",
   "metadata": {},
   "source": [
    "Draw the histograms for each varibale, for each file of each data set: "
   ]
  },
  {
   "cell_type": "markdown",
   "metadata": {},
   "source": [
    "Define PT histograms Z analysis:"
   ]
  },
  {
   "cell_type": "code",
   "execution_count": null,
   "metadata": {
    "collapsed": true
   },
   "outputs": [],
   "source": [
    "//PT HISTOGRAMS\n",
    "//Zee histrogram - last cut only \n",
    "TH1F *h_lep_pt_Zee = new TH1F(\"h_lep_pt_Zee\",\"h_lep_pt_Zee\",20,0,200);\n",
    "h_lep_pt_Zee->SetFillColor(kRed);\n",
    "//Zmumu histrogram - last cut only \n",
    "TH1F *h_lep_pt_Zmumu = new TH1F(\"h_lep_pt_Zmumu\",\"h_lep_pt_Zmumu\",20,0,200);\n",
    "h_lep_pt_Zmumu->SetFillColor(kYellow);\n",
    "//Ztautau histrogram - last cut only \n",
    "TH1F *h_lep_pt_Ztautau = new TH1F(\"h_lep_pt_Ztautau\",\"h_lep_pt_Ztautau\",20,0,200);\n",
    "h_lep_pt_Ztautau->SetFillColor(kBlue);\n",
    "\n",
    "//Merged Zee,Zmumu,Ztautau\n",
    "TH1F *h_lep_pt_mergedZ = new TH1F(\"h_lep_pt_mergedZ\",\"h_lep_pt_mergedZ\",20,0,200);\n",
    "h_lep_pt_mergedZ->SetFillColor(kBlue);"
   ]
  },
  {
   "cell_type": "markdown",
   "metadata": {},
   "source": [
    "Define PT histograms for Diboson analysis"
   ]
  },
  {
   "cell_type": "code",
   "execution_count": null,
   "metadata": {
    "collapsed": true
   },
   "outputs": [],
   "source": [
    "//Diboson WW histrogram\n",
    "TH1F *h_lep_pt_Dww = new TH1F(\"h_lep_pt_Dww\",\"h_lep_pt_Dww\",20,0,200);\n",
    "h_lep_pt_Dww->SetFillColor(kRed);\n",
    "//Diboson ZZ histrogram\n",
    "TH1F *h_lep_pt_Dzz = new TH1F(\"h_lep_pt_Dzz\",\"h_lep_pt_Dzz\",20,0,200);\n",
    "h_lep_pt_Dzz->SetFillColor(kYellow);\n",
    "//Diboson WZ histrogram\n",
    "TH1F *h_lep_pt_Dwz = new TH1F(\"h_lep_pt_Dwz\",\"h_lep_pt_Dwz\",20,0,200);\n",
    "h_lep_pt_Dwz->SetFillColor(kBlue);\n",
    "\n",
    "//Merged Diboson WW,ZZ,WZ histogram\n",
    "TH1F *h_lep_pt_mergedD = new TH1F(\"h_lep_pt_mergedD\",\"h_lep_pt_mergedD\",20,0,200);\n",
    "h_lep_pt_mergedD->SetFillColor(kGreen);"
   ]
  },
  {
   "cell_type": "markdown",
   "metadata": {},
   "source": [
    "Define PT histograms for Drell Yan analysis"
   ]
  },
  {
   "cell_type": "code",
   "execution_count": null,
   "metadata": {
    "collapsed": true
   },
   "outputs": [],
   "source": [
    "//DYee1 histrogram\n",
    "TH1F *h_lep_pt_DYee1 = new TH1F(\"h_lep_pt_DYee1\",\"h_lep_pt_DYee1\",20,0,200);\n",
    "h_lep_pt_DYee1->SetFillColor(kRed);\n",
    "//DYee2 histrogram\n",
    "TH1F *h_lep_pt_DYee2 = new TH1F(\"h_lep_pt_DYee2\",\"h_lep_pt_DYee2\",20,0,200);\n",
    "h_lep_pt_DYee2->SetFillColor(kYellow);\n",
    "//DYmumu1 histrogram\n",
    "TH1F *h_lep_pt_DYmumu1 = new TH1F(\"h_lep_pt_DYmumu1 \",\"h_lep_pt_DYmumu1\",20,0,200);\n",
    "h_lep_pt_DYmumu1->SetFillColor(kBlue);\n",
    "//DYmumu2 histrogram\n",
    "TH1F *h_lep_pt_DYmumu2 = new TH1F(\"h_lep_pt_DYmumu2\",\"h_lep_pt_DYmumu2\",20,0,200);\n",
    "h_lep_pt_DYmumu2->SetFillColor(kGreen);\n",
    "//DYtautau1 histrogram\n",
    "TH1F *h_lep_pt_DYtautau1 = new TH1F(\"h_lep_pt_DYtautau1\",\"h_lep_pt_DYtautau1\",20,0,200);\n",
    "h_lep_pt_DYtautau1->SetFillColor(kOrange);\n",
    "//DYtautau2 histrogram\n",
    "TH1F *h_lep_pt_DYtautau2 = new TH1F(\"h_lep_pt_DYtautau2\",\"h_lep_pt_DYtautau2\",20,0,200);\n",
    "h_lep_pt_DYtautau2->SetFillColor(kPink);\n",
    "\n",
    "//Merged DY EE,MUMU,TAUTAU histogram\n",
    "TH1F *h_lep_pt_mergedDY = new TH1F(\"h_lep_pt_mergedDY\",\"h_lep_pt_mergedDY\",20,0,200);\n",
    "h_lep_pt_mergedDY->SetFillColor(kGray);"
   ]
  },
  {
   "cell_type": "markdown",
   "metadata": {},
   "source": [
    "Define PT histograms for Stop analysis"
   ]
  },
  {
   "cell_type": "code",
   "execution_count": null,
   "metadata": {
    "collapsed": true
   },
   "outputs": [],
   "source": [
    "//Stop tchan_top histrogram \n",
    "TH1F *h_lep_pt_Stchan_top = new TH1F(\"h_lep_pt_Stchan_top\",\"h_lep_pt_Stchan_top\",20,0,200);\n",
    "h_lep_pt_Stchan_top->SetFillColor(kRed);\n",
    "//Stop tchan_antitop histrogram\n",
    "TH1F *h_lep_pt_Stchan_antitop = new TH1F(\"h_lep_pt_Stchan_antitop\",\"h_lep_pt_Stchan_antitop\",20,0,200);\n",
    "h_lep_pt_Stchan_antitop->SetFillColor(kYellow);\n",
    "//Stop schan histogram\n",
    "TH1F *h_lep_pt_Sschan = new TH1F(\"h_lep_pt_Sschan \",\"h_lep_pt_Sschan\",20,0,200);\n",
    "h_lep_pt_Sschan->SetFillColor(kBlue);\n",
    "//Stop wtchan histogram\n",
    "TH1F *h_lep_pt_Swtchan = new TH1F(\"h_lep_pt_Swtchan\",\"h_lep_pt_Swtchan\",20,0,200);\n",
    "h_lep_pt_Swtchan->SetFillColor(kGreen);\n",
    "\n",
    "//Merged stop \n",
    "TH1F *h_lep_pt_mergedS = new TH1F(\"h_lep_pt_mergedS\",\"h_lep_pt_mergedS\",20,0,200);\n",
    "h_lep_pt_mergedS->SetFillColor(kGray);"
   ]
  },
  {
   "cell_type": "markdown",
   "metadata": {},
   "source": [
    "Define PT histograms for TTBar analysis"
   ]
  },
  {
   "cell_type": "code",
   "execution_count": null,
   "metadata": {
    "collapsed": true
   },
   "outputs": [],
   "source": [
    "//TTBar had histrogram \n",
    "TH1F *h_lep_pt_TThad = new TH1F(\"h_lep_pt_TThad\",\"h_lep_pt_TThad\",20,0,200);\n",
    "h_lep_pt_TThad->SetFillColor(kRed);\n",
    "//TTBar lep histrogram\n",
    "TH1F *h_lep_pt_TTlep = new TH1F(\"h_lep_pt_TTlep\",\"h_lep_pt_TTlep\",20,0,200);\n",
    "h_lep_pt_TTlep->SetFillColor(kYellow);\n",
    "\n",
    "//Merged TTBar\n",
    "TH1F *h_lep_pt_mergedTT = new TH1F(\"h_lep_pt_mergedTT\",\"h_lep_pt_mergedTT\",20,0,200);\n",
    "h_lep_pt_mergedTT->SetFillColor(kGray);"
   ]
  },
  {
   "cell_type": "markdown",
   "metadata": {},
   "source": [
    "Define PT histograms for W analysis"
   ]
  },
  {
   "cell_type": "code",
   "execution_count": null,
   "metadata": {
    "collapsed": true
   },
   "outputs": [],
   "source": [
    "//W HISTOGRAMS\n",
    "//WenuW hisogram\n",
    "TH1F *h_lep_pt_WenuW = new TH1F(\"h_lep_pt_WenuW\",\"h_lep_pt_WenuW\",20,0,200);\n",
    "h_lep_pt_WenuW->SetFillColor(kRed);\n",
    "//WenuJ histrogram - last cut only \n",
    "TH1F *h_lep_pt_WenuJ = new TH1F(\"h_lep_pt_WenuJ\",\"h_lep_pt_WenuJ\",20,0,200);\n",
    "h_lep_pt_WenuJ->SetFillColor(kYellow);\n",
    "//WenuN histrogram - last cut only \n",
    "TH1F *h_lep_pt_WenuN = new TH1F(\"h_lep_pt_WenuN\",\"h_lep_pt_WenuN\",20,0,200);\n",
    "h_lep_pt_WenuN->SetFillColor(kBlue);\n",
    "//WmunuW hisogram\n",
    "TH1F *h_lep_pt_WmunuW = new TH1F(\"h_lep_pt_WmunuW\",\"h_lep_pt_WmunuW\",20,0,200);\n",
    "h_lep_pt_WmunuW->SetFillColor(kRed);\n",
    "//WmunuJ histrogram - last cut only \n",
    "TH1F *h_lep_pt_WmunuJ = new TH1F(\"h_lep_pt_WmunuJ\",\"h_lep_pt_WmunuJ\",20,0,200);\n",
    "h_lep_pt_WmunuJ->SetFillColor(kYellow);\n",
    "//WmunuN histrogram - last cut only \n",
    "TH1F *h_lep_pt_WmunuN = new TH1F(\"h_lep_pt_WmunuN\",\"h_lep_pt_WmunuN\",20,0,200);\n",
    "h_lep_pt_WmunuN->SetFillColor(kBlue);\n",
    "//WtaunuW hisogram\n",
    "TH1F *h_lep_pt_WtaunuW = new TH1F(\"h_lep_pt_WtaunuW\",\"h_lep_pt_WtaunuW\",20,0,200);\n",
    "h_lep_pt_WtaunuW->SetFillColor(kRed);\n",
    "//WtaunuJ histrogram - last cut only \n",
    "TH1F *h_lep_pt_WtaunuJ = new TH1F(\"h_lep_pt_WtaunuJ\",\"h_lep_pt_WtaunuJ\",20,0,200);\n",
    "h_lep_pt_WtaunuJ->SetFillColor(kYellow);\n",
    "//WtaunuN histrogram - last cut only \n",
    "TH1F *h_lep_pt_WtaunuN = new TH1F(\"h_lep_pt_WtaunuN\",\"h_lep_pt_WtaunuN\",20,0,200);\n",
    "h_lep_pt_WtaunuN->SetFillColor(kBlue);\n",
    "\n",
    "//Merged Wenu,Wmunu,Wtaunu\n",
    "TH1F *h_lep_pt_mergedW = new TH1F(\"h_lep_pt_mergedW\",\"h_lep_pt_mergedW\",20,0,200);\n",
    "h_lep_pt_mergedW->SetFillColor(kGreen);"
   ]
  },
  {
   "cell_type": "markdown",
   "metadata": {},
   "source": [
    "Define ETA histograms for Z analysis"
   ]
  },
  {
   "cell_type": "code",
   "execution_count": null,
   "metadata": {
    "collapsed": true
   },
   "outputs": [],
   "source": [
    "//ETA HISTOGRAMS\n",
    "//Zee histrogram - last cut only \n",
    "TH1F *h_lep_eta_Zee = new TH1F(\"h_lep_eta_Zee\",\"h_lep_eta_Zee\",33,-3,3);\n",
    "h_lep_eta_Zee->SetFillColor(kRed);\n",
    "//Zmumu histrogram - last cut only \n",
    "TH1F *h_lep_eta_Zmumu = new TH1F(\"h_lep_eta_Zmumu\",\"h_lep_eta_Zmumu\",33,-3,3);\n",
    "h_lep_eta_Zmumu->SetFillColor(kYellow);\n",
    "//Ztautau histrogram - last cut only \n",
    "TH1F *h_lep_eta_Ztautau = new TH1F(\"h_lep_eta_Ztautau\",\"h_lep_eta_Ztautau\",33,-3,3);\n",
    "h_lep_eta_Ztautau->SetFillColor(kBlue);\n",
    "\n",
    "//Merged Zee,Zmumu,Ztautau\n",
    "TH1F *h_lep_eta_mergedZ = new TH1F(\"h_lep_eta_mergedZ\",\"h_lep_eta_mergedZ\",33,-3,3);\n",
    "h_lep_eta_mergedZ->SetFillColor(kGreen);"
   ]
  },
  {
   "cell_type": "markdown",
   "metadata": {},
   "source": [
    "Define ETA histograms for Diboson analysis"
   ]
  },
  {
   "cell_type": "code",
   "execution_count": null,
   "metadata": {
    "collapsed": true
   },
   "outputs": [],
   "source": [
    "//Diboson WW histrogram\n",
    "TH1F *h_lep_eta_Dww = new TH1F(\"h_lep_eta_Dww\",\"h_lep_eta_Dww\",33,-3,3);\n",
    "h_lep_eta_Dww->SetFillColor(kRed);\n",
    "//Diboson ZZ histrogram\n",
    "TH1F *h_lep_eta_Dzz = new TH1F(\"h_lep_eta_Dzz\",\"h_lep_eta_Dzz\",33,-3,3);\n",
    "h_lep_eta_Dzz->SetFillColor(kYellow);\n",
    "//Diboson WZ histrogram\n",
    "TH1F *h_lep_eta_Dwz = new TH1F(\"h_lep_eta_Dwz\",\"h_lep_eta_Dwz\",33,-3,3);\n",
    "h_lep_eta_Dwz->SetFillColor(kBlue);\n",
    "\n",
    "//Merged Dibson WW,ZZ,WZ histogram\n",
    "TH1F *h_lep_eta_mergedD = new TH1F(\"h_lep_eta_mergedD\",\"h_lep_eta_mergedD\",33,-3,3);\n",
    "h_lep_eta_mergedD->SetFillColor(kGreen);"
   ]
  },
  {
   "cell_type": "markdown",
   "metadata": {},
   "source": [
    "Define ETA histograms for Drell Yan analysis"
   ]
  },
  {
   "cell_type": "code",
   "execution_count": null,
   "metadata": {
    "collapsed": true
   },
   "outputs": [],
   "source": [
    "//DYee1 histrogram\n",
    "TH1F *h_lep_eta_DYee1 = new TH1F(\"h_lep_eta_DYee1\",\"h_lep_eta_DYee1\",33,-3,3);\n",
    "h_lep_eta_DYee1->SetFillColor(kRed);\n",
    "//DYee2 histrogram\n",
    "TH1F *h_lep_eta_DYee2 = new TH1F(\"h_lep_eta_DYee2\",\"h_lep_eta_DYee2\",33,-3,3);\n",
    "h_lep_eta_DYee2->SetFillColor(kYellow);\n",
    "//DYmumu1 histrogram\n",
    "TH1F *h_lep_eta_DYmumu1 = new TH1F(\"h_lep_eta_DYmumu1\",\"h_lep_eta_DYmumu1\",33,-3,3);\n",
    "h_lep_eta_DYmumu1->SetFillColor(kBlue);\n",
    "//DYmumu2 histrogram\n",
    "TH1F *h_lep_eta_DYmumu2 = new TH1F(\"h_lep_eta_DYmumu2\",\"h_lep_eta_DYmumu2\",33,-3,3);\n",
    "h_lep_eta_DYmumu2->SetFillColor(kGreen);\n",
    "//DYtautau1 histrogram\n",
    "TH1F *h_lep_eta_DYtautau1 = new TH1F(\"h_lep_eta_DYtautau1\",\"h_lep_eta_DYtautau1\",33,-3,3);\n",
    "h_lep_eta_DYtautau1->SetFillColor(kOrange);\n",
    "//DYtautau2 histrogram\n",
    "TH1F *h_lep_eta_DYtautau2 = new TH1F(\"h_lep_eta_DYtautau2\",\"h_lep_eta_DYtautau2\",33,-3,3);\n",
    "h_lep_eta_DYtautau2->SetFillColor(kPink);\n",
    "\n",
    "//Merged DY EE,MUMU,TAUTAU histogram\n",
    "TH1F *h_lep_eta_mergedDY = new TH1F(\"h_lep_eta_mergedDY\",\"h_lep_eta_mergedDY\",33,-3,3);\n",
    "h_lep_eta_mergedDY->SetFillColor(kGray);"
   ]
  },
  {
   "cell_type": "markdown",
   "metadata": {},
   "source": [
    "Define ETA histograms for Stop analysis"
   ]
  },
  {
   "cell_type": "code",
   "execution_count": null,
   "metadata": {
    "collapsed": true
   },
   "outputs": [],
   "source": [
    "//Stop tchan_top histrogram \n",
    "TH1F *h_lep_eta_Stchan_top = new TH1F(\"h_lep_eta_Stchan_top\",\"h_lep_eta_Stchan_top\",33,-3,3);\n",
    "h_lep_eta_Stchan_top->SetFillColor(kRed);\n",
    "//Stop tchan_antitop histrogram\n",
    "TH1F *h_lep_eta_Stchan_antitop = new TH1F(\"h_lep_eta_Stchan_antitop\",\"h_lep_eta_Stchan_antitop\",33,-3,3);\n",
    "h_lep_eta_Stchan_antitop->SetFillColor(kYellow);\n",
    "//Stop schan histogram\n",
    "TH1F *h_lep_eta_Sschan = new TH1F(\"h_lep_eta_Sschan \",\"h_lep_eta_Sschan\",33,-3,3);\n",
    "h_lep_eta_Sschan->SetFillColor(kBlue);\n",
    "//Stop wtchan histogram\n",
    "TH1F *h_lep_eta_Swtchan = new TH1F(\"h_lep_eta_Swtchan\",\"h_lep_eta_Swtchan\",33,-3,3);\n",
    "h_lep_eta_Swtchan->SetFillColor(kGreen);\n",
    "\n",
    "//Merged stop \n",
    "TH1F *h_lep_eta_mergedS = new TH1F(\"h_lep_eta_mergedS\",\"h_lep_eta_mergedS\",33,-3,3);\n",
    "h_lep_eta_mergedS->SetFillColor(kGray);"
   ]
  },
  {
   "cell_type": "markdown",
   "metadata": {},
   "source": [
    "Define ETA histograms for TTBar analysis"
   ]
  },
  {
   "cell_type": "code",
   "execution_count": null,
   "metadata": {
    "collapsed": true
   },
   "outputs": [],
   "source": [
    "//TTBar had histrogram \n",
    "TH1F *h_lep_eta_TThad = new TH1F(\"h_lep_eta_TThad\",\"h_lep_eta_TThad\",33,-3,3);\n",
    "h_lep_eta_TThad->SetFillColor(kRed);\n",
    "//TTBar lep histrogram\n",
    "TH1F *h_lep_eta_TTlep = new TH1F(\"h_lep_eta_TTlep\",\"h_lep_eta_TTlep\",33,-3,3);\n",
    "h_lep_eta_TTlep->SetFillColor(kYellow);\n",
    "\n",
    "//Merged TTBar\n",
    "TH1F *h_lep_eta_mergedTT = new TH1F(\"h_lep_eta_mergedTT\",\"h_lep_eta_mergedTT\",33,-3,3);\n",
    "h_lep_eta_mergedTT->SetFillColor(kGray);"
   ]
  },
  {
   "cell_type": "markdown",
   "metadata": {},
   "source": [
    "Define ETA histograms for W analysis"
   ]
  },
  {
   "cell_type": "code",
   "execution_count": null,
   "metadata": {
    "collapsed": true
   },
   "outputs": [],
   "source": [
    "//W HISTOGRAMS\n",
    "//WenuW hisogram\n",
    "TH1F *h_lep_eta_WenuW = new TH1F(\"h_lep_eta_WenuW\",\"h_lep_eta_WenuW\",33,-3,3);\n",
    "h_lep_eta_WenuW->SetFillColor(kRed);\n",
    "//WenuJ histrogram - last cut only \n",
    "TH1F *h_lep_eta_WenuJ = new TH1F(\"h_lep_eta_WenuJ\",\"h_lep_eta_WenuJ\",33,-3,3);\n",
    "h_lep_eta_WenuJ->SetFillColor(kYellow);\n",
    "//WenuN histrogram - last cut only \n",
    "TH1F *h_lep_eta_WenuN = new TH1F(\"h_lep_eta_WenuN\",\"h_lep_eta_WenuN\",33,-3,3);\n",
    "h_lep_eta_WenuN->SetFillColor(kBlue);\n",
    "//WmunuW hisogram\n",
    "TH1F *h_lep_eta_WmunuW = new TH1F(\"h_lep_eta_WmunuW\",\"h_lep_eta_WmunuW\",33,-3,3);\n",
    "h_lep_eta_WmunuW->SetFillColor(kRed);\n",
    "//WmunuJ histrogram - last cut only \n",
    "TH1F *h_lep_eta_WmunuJ = new TH1F(\"h_lep_eta_WmunuJ\",\"h_lep_eta_WmunuJ\",33,-3,3);\n",
    "h_lep_eta_WmunuJ->SetFillColor(kYellow);\n",
    "//WmunuN histrogram - last cut only \n",
    "TH1F *h_lep_eta_WmunuN = new TH1F(\"h_lep_eta_WmunuN\",\"h_lep_eta_WmunuN\",33,-3,3);\n",
    "h_lep_eta_WmunuN->SetFillColor(kBlue);\n",
    "//WtaunuW hisogram\n",
    "TH1F *h_lep_eta_WtaunuW = new TH1F(\"h_lep_eta_WtaunuW\",\"h_lep_eta_WtaunuW\",33,-3,3);\n",
    "h_lep_eta_WtaunuW->SetFillColor(kRed);\n",
    "//WtaunuJ histrogram - last cut only \n",
    "TH1F *h_lep_eta_WtaunuJ = new TH1F(\"h_lep_eta_WtaunuJ\",\"h_lep_eta_WtaunuJ\",33,-3,3);\n",
    "h_lep_eta_WtaunuJ->SetFillColor(kYellow);\n",
    "//WtaunuN histrogram - last cut only \n",
    "TH1F *h_lep_eta_WtaunuN = new TH1F(\"h_lep_eta_WtaunuN\",\"h_lep_eta_WtaunuN\",33,-3,3);\n",
    "h_lep_eta_WtaunuN->SetFillColor(kBlue);\n",
    "\n",
    "//Merged Wenu,Wmunu,Wtaunu\n",
    "TH1F *h_lep_eta_mergedW = new TH1F(\"h_lep_eta_mergedW\",\"h_lep_eta_mergedW\",33,-3,3);\n",
    "h_lep_eta_mergedW->SetFillColor(kGreen);"
   ]
  },
  {
   "cell_type": "markdown",
   "metadata": {},
   "source": [
    "Define PHI Histograms for Z analysis"
   ]
  },
  {
   "cell_type": "code",
   "execution_count": null,
   "metadata": {
    "collapsed": true
   },
   "outputs": [],
   "source": [
    "//PHI HISTOGRAMS\n",
    "//Zee histrogram - last cut only \n",
    "TH1F *h_lep_phi_Zee = new TH1F(\"h_lep_phi_Zee\",\"h_lep_phi_Zee\",40,-4,4);\n",
    "h_lep_phi_Zee->SetFillColor(kRed);\n",
    "//Zmumu histrogram - last cut only \n",
    "TH1F *h_lep_phi_Zmumu = new TH1F(\"h_lep_phi_Zmumu\",\"h_lep_phi_Zmumu\",40,-4,4);\n",
    "h_lep_phi_Zmumu->SetFillColor(kYellow);\n",
    "//Ztautau histrogram - last cut only \n",
    "TH1F *h_lep_phi_Ztautau = new TH1F(\"h_lep_phi_Ztautau\",\"h_lep_phi_Ztautau\",40,-4,4);\n",
    "h_lep_phi_Ztautau->SetFillColor(kBlue);\n",
    "\n",
    "//Merged Zee,Zmumu,Ztautau\n",
    "TH1F *h_lep_phi_mergedZ = new TH1F(\"h_lep_phi_mergedZ\",\"h_lep_phi_mergedZ\",40,-4,4);\n",
    "h_lep_phi_mergedZ->SetFillColor(kGreen);"
   ]
  },
  {
   "cell_type": "markdown",
   "metadata": {},
   "source": [
    "Define PHI Histograms for Diboson analysis"
   ]
  },
  {
   "cell_type": "code",
   "execution_count": null,
   "metadata": {
    "collapsed": true
   },
   "outputs": [],
   "source": [
    "//Diboson WW histrogram\n",
    "TH1F *h_lep_phi_Dww = new TH1F(\"h_lep_phi_Dww\",\"h_lep_phi_Dww\",40,-4,4);\n",
    "h_lep_phi_Dww->SetFillColor(kRed);\n",
    "//Diboson ZZ histrogram\n",
    "TH1F *h_lep_phi_Dzz = new TH1F(\"h_lep_phi_Dzz\",\"h_lep_phi_Dzz\",40,-4,4);\n",
    "h_lep_phi_Dzz->SetFillColor(kYellow);\n",
    "//Diboson WZ histrogram\n",
    "TH1F *h_lep_phi_Dwz = new TH1F(\"h_lep_phi_Dwz\",\"h_lep_phi_Dwz\",40,-4,4);\n",
    "h_lep_phi_Dwz->SetFillColor(kBlue);\n",
    "\n",
    "//Merged Diboson WW,ZZ,WZ histogram\n",
    "TH1F *h_lep_phi_mergedD = new TH1F(\"h_lep_phi_mergedD\",\"h_lep_phi_mergedD\",40,-4,4);\n",
    "h_lep_phi_mergedD->SetFillColor(kGreen);"
   ]
  },
  {
   "cell_type": "markdown",
   "metadata": {},
   "source": [
    "Define PHI Histograms for Drell Yan analysis"
   ]
  },
  {
   "cell_type": "code",
   "execution_count": null,
   "metadata": {
    "collapsed": true
   },
   "outputs": [],
   "source": [
    "//DYee1 histrogram\n",
    "TH1F *h_lep_phi_DYee1 = new TH1F(\"h_lep_phi_DYee1\",\"h_lep_phi_DYee1\",40,-4,4);\n",
    "h_lep_phi_DYee1->SetFillColor(kRed);\n",
    "//DYee2 histrogram\n",
    "TH1F *h_lep_phi_DYee2 = new TH1F(\"h_lep_phi_DYee2\",\"h_lep_phi_DYee2\",40,-4,4);\n",
    "h_lep_phi_DYee2->SetFillColor(kYellow);\n",
    "//DYmumu1 histrogram\n",
    "TH1F *h_lep_phi_DYmumu1 = new TH1F(\"h_lep_phi_DYmumu1 \",\"h_lep_phi_DYmumu1\",40,-4,4);\n",
    "h_lep_phi_DYmumu1->SetFillColor(kBlue);\n",
    "//DYmumu2 histrogram\n",
    "TH1F *h_lep_phi_DYmumu2 = new TH1F(\"h_lep_phi_DYmumu2\",\"h_lep_phi_DYmumu2\",40,-4,4);\n",
    "h_lep_phi_DYmumu2->SetFillColor(kGreen);\n",
    "//DYtautau1 histrogram\n",
    "TH1F *h_lep_phi_DYtautau1 = new TH1F(\"h_lep_phi_DYtautau1\",\"h_lep_phi_DYtautau1\",40,-4,4);\n",
    "h_lep_phi_DYtautau1->SetFillColor(kOrange);\n",
    "//DYtautau2 histrogram\n",
    "TH1F *h_lep_phi_DYtautau2 = new TH1F(\"h_lep_phi_DYtautau2\",\"h_lep_phi_DYtautau2\",40,-4,4);\n",
    "h_lep_phi_DYtautau2->SetFillColor(kPink);\n",
    "\n",
    "//Merged DY EE,MUMU,TAUTAU histogram\n",
    "TH1F *h_lep_phi_mergedDY = new TH1F(\"h_lep_phi_mergedDY\",\"h_lep_phi_mergedDY\",40,-4,4);\n",
    "h_lep_phi_mergedDY->SetFillColor(kGray);"
   ]
  },
  {
   "cell_type": "markdown",
   "metadata": {},
   "source": [
    "Define PHI Histograms for Stop analysis"
   ]
  },
  {
   "cell_type": "code",
   "execution_count": null,
   "metadata": {
    "collapsed": true
   },
   "outputs": [],
   "source": [
    "//Stop tchan_top histrogram \n",
    "TH1F *h_lep_phi_Stchan_top = new TH1F(\"h_lep_phi_Stchan_top\",\"h_lep_phi_Stchan_top\",40,-4,4);\n",
    "h_lep_phi_Stchan_top->SetFillColor(kRed);\n",
    "//Stop tchan_antitop histrogram\n",
    "TH1F *h_lep_phi_Stchan_antitop = new TH1F(\"h_lep_phi_Stchan_antitop\",\"h_lep_phi_Stchan_antitop\",40,-4,4);\n",
    "h_lep_phi_Stchan_antitop->SetFillColor(kYellow);\n",
    "//Stop schan histogram\n",
    "TH1F *h_lep_phi_Sschan = new TH1F(\"h_lep_phi_Sschan \",\"h_lep_phi_Sschan\",40,-4,4);\n",
    "h_lep_phi_Sschan->SetFillColor(kBlue);\n",
    "//Stop wtchan histogram\n",
    "TH1F *h_lep_phi_Swtchan = new TH1F(\"h_lep_phi_Swtchan\",\"h_lep_phi_Swtchan\",40,-4,4);\n",
    "h_lep_phi_Swtchan->SetFillColor(kGreen);\n",
    "\n",
    "//Merged stop \n",
    "TH1F *h_lep_phi_mergedS = new TH1F(\"h_lep_phi_mergedS\",\"h_lep_phi_mergedS\",40,-4,4);\n",
    "h_lep_phi_mergedS->SetFillColor(kGray);"
   ]
  },
  {
   "cell_type": "markdown",
   "metadata": {},
   "source": [
    "Define PHI Histograms TTBar Z analysis"
   ]
  },
  {
   "cell_type": "code",
   "execution_count": null,
   "metadata": {
    "collapsed": true
   },
   "outputs": [],
   "source": [
    "//TTBar had histrogram \n",
    "TH1F *h_lep_phi_TThad = new TH1F(\"h_lep_phi_TThad\",\"h_lep_phi_TThad\",40,-4,4);\n",
    "h_lep_phi_TThad->SetFillColor(kRed);\n",
    "//TTBar lep histrogram\n",
    "TH1F *h_lep_phi_TTlep = new TH1F(\"h_lep_phi_TTlep\",\"h_lep_phi_TTlep\",40,-4,4);\n",
    "h_lep_phi_TTlep->SetFillColor(kYellow);\n",
    "\n",
    "//Merged TTBar\n",
    "TH1F *h_lep_phi_mergedTT = new TH1F(\"h_lep_phi_mergedTT\",\"h_lep_phi_mergedTT\",40,-4,4);\n",
    "h_lep_phi_mergedTT->SetFillColor(kGray);"
   ]
  },
  {
   "cell_type": "markdown",
   "metadata": {},
   "source": [
    "Define PHI Histograms for W analysis"
   ]
  },
  {
   "cell_type": "code",
   "execution_count": null,
   "metadata": {
    "collapsed": true
   },
   "outputs": [],
   "source": [
    "//W HISTOGRAMS\n",
    "//WenuW hisogram\n",
    "TH1F *h_lep_phi_WenuW = new TH1F(\"h_lep_phi_WenuW\",\"h_lep_phi_WenuW\",40,-4,4);\n",
    "h_lep_phi_WenuW->SetFillColor(kRed);\n",
    "//WenuJ histrogram - last cut only \n",
    "TH1F *h_lep_phi_WenuJ = new TH1F(\"h_lep_phi_WenuJ\",\"h_lep_phi_WenuJ\",40,-4,4);\n",
    "h_lep_phi_WenuJ->SetFillColor(kYellow);\n",
    "//WenuN histrogram - last cut only \n",
    "TH1F *h_lep_phi_WenuN = new TH1F(\"h_lep_phi_WenuN\",\"h_lep_phi_WenuN\",40,-4,4);\n",
    "h_lep_phi_WenuN->SetFillColor(kBlue);\n",
    "//WmunuW hisogram\n",
    "TH1F *h_lep_phi_WmunuW = new TH1F(\"h_lep_phi_WmunuW\",\"h_lep_phi_WmunuW\",40,-4,4);\n",
    "h_lep_phi_WmunuW->SetFillColor(kRed);\n",
    "//WmunuJ histrogram - last cut only \n",
    "TH1F *h_lep_phi_WmunuJ = new TH1F(\"h_lep_phi_WmunuJ\",\"h_lep_phi_WmunuJ\",40,-4,4);\n",
    "h_lep_phi_WmunuJ->SetFillColor(kYellow);\n",
    "//WmunuN histrogram - last cut only \n",
    "TH1F *h_lep_phi_WmunuN = new TH1F(\"h_lep_phi_WmunuN\",\"h_lep_phi_WmunuN\",40,-4,4);\n",
    "h_lep_phi_WmunuN->SetFillColor(kBlue);\n",
    "//WtaunuW hisogram\n",
    "TH1F *h_lep_phi_WtaunuW = new TH1F(\"h_lep_phi_WtaunuW\",\"h_lep_phi_WtaunuW\",40,-4,4);\n",
    "h_lep_phi_WtaunuW->SetFillColor(kRed);\n",
    "//WtaunuJ histrogram - last cut only \n",
    "TH1F *h_lep_phi_WtaunuJ = new TH1F(\"h_lep_phi_WtaunuJ\",\"h_lep_phi_WtaunuJ\",40,-4,4);\n",
    "h_lep_phi_WtaunuJ->SetFillColor(kYellow);\n",
    "//WtaunuN histrogram - last cut only \n",
    "TH1F *h_lep_phi_WtaunuN = new TH1F(\"h_lep_phi_WtaunuN\",\"h_lep_phi_WtaunuN\",40,-4,4);\n",
    "h_lep_phi_WtaunuN->SetFillColor(kBlue);\n",
    "\n",
    "//Merged Wenu,Wmunu,Wtaunu\n",
    "TH1F *h_lep_phi_mergedW = new TH1F(\"h_lep_phi_mergedW\",\"h_lep_phi_mergedW\",40,-4,4);\n",
    "h_lep_phi_mergedW->SetFillColor(kGreen);"
   ]
  },
  {
   "cell_type": "markdown",
   "metadata": {},
   "source": [
    "Define ENERGY histograms for Z analysis "
   ]
  },
  {
   "cell_type": "code",
   "execution_count": null,
   "metadata": {
    "collapsed": true
   },
   "outputs": [],
   "source": [
    "//E HISTOGRAMS\n",
    "//Zee histrogram - last cut only \n",
    "TH1F *h_lep_E_Zee = new TH1F(\"h_lep_E_Zee\",\"h_lep_E_Zee\",30,0,1000);\n",
    "h_lep_E_Zee->SetFillColor(kRed);\n",
    "//Zmumu histrogram - last cut only \n",
    "TH1F *h_lep_E_Zmumu = new TH1F(\"h_lep_E_Zmumu\",\"h_lep_E_Zmumu\",30,0,1000);\n",
    "h_lep_E_Zmumu->SetFillColor(kYellow);\n",
    "//Ztautau histrogram - last cut only \n",
    "TH1F *h_lep_E_Ztautau = new TH1F(\"h_lep_E_Ztautau\",\"h_lep_E_Ztautau\",30,0,1000);\n",
    "h_lep_E_Ztautau->SetFillColor(kBlue);\n",
    "\n",
    "//Merged Zee,Zmumu,Ztautau\n",
    "TH1F *h_lep_E_mergedZ = new TH1F(\"h_lep_E_mergedZ\",\"h_lep_E_mergedZ\",30,0,1000);\n",
    "h_lep_E_mergedZ->SetFillColor(kGreen);"
   ]
  },
  {
   "cell_type": "markdown",
   "metadata": {},
   "source": [
    "Define ENERGY histograms for Diboson analysis "
   ]
  },
  {
   "cell_type": "code",
   "execution_count": null,
   "metadata": {
    "collapsed": true
   },
   "outputs": [],
   "source": [
    "//Diboson WW histrogram\n",
    "TH1F *h_lep_E_Dww = new TH1F(\"h_lep_E_Dww\",\"h_lep_E_Dww\",30,0,1000);\n",
    "h_lep_E_Dww->SetFillColor(kRed);\n",
    "//Diboson ZZ histrogram\n",
    "TH1F *h_lep_E_Dzz = new TH1F(\"h_lep_E_Dzz\",\"h_lep_E_Dzz\",30,0,1000);\n",
    "h_lep_E_Dzz->SetFillColor(kYellow);\n",
    "//Diboson WZ histrogram\n",
    "TH1F *h_lep_E_Dwz = new TH1F(\"h_lep_E_Dwz\",\"h_lep_E_Dwz\",30,0,1000);\n",
    "h_lep_E_Dwz->SetFillColor(kBlue);\n",
    "\n",
    "//Merged Diboson WW,ZZ,WZ histogram\n",
    "TH1F *h_lep_E_mergedD = new TH1F(\"h_lep_E_mergedD\",\"h_lep_E_mergedD\",30,0,1000);\n",
    "h_lep_E_mergedD->SetFillColor(kGreen);"
   ]
  },
  {
   "cell_type": "markdown",
   "metadata": {},
   "source": [
    "Define ENERGY histograms for Drell Yan analysis "
   ]
  },
  {
   "cell_type": "code",
   "execution_count": null,
   "metadata": {
    "collapsed": true
   },
   "outputs": [],
   "source": [
    "//DYee1 histrogram\n",
    "TH1F *h_lep_E_DYee1 = new TH1F(\"h_lep_E_DYee1\",\"h_lep_E_DYee1\",30,0,1000);\n",
    "h_lep_E_DYee1->SetFillColor(kRed);\n",
    "//DYee2 histrogram\n",
    "TH1F *h_lep_E_DYee2 = new TH1F(\"h_lep_E_DYee2\",\"h_lep_E_DYee2\",30,0,1000);\n",
    "h_lep_E_DYee2->SetFillColor(kYellow);\n",
    "//DYmumu1 histrogram\n",
    "TH1F *h_lep_E_DYmumu1 = new TH1F(\"h_lep_E_DYmumu1 \",\"h_lep_E_DYmumu1\",30,0,1000);\n",
    "h_lep_E_DYmumu1->SetFillColor(kBlue);\n",
    "//DYmumu2 histrogram\n",
    "TH1F *h_lep_E_DYmumu2 = new TH1F(\"h_lep_E_DYmumu2\",\"h_lep_E_DYmumu2\",30,0,1000);\n",
    "h_lep_E_DYmumu2->SetFillColor(kGreen);\n",
    "//DYtautau1 histrogram\n",
    "TH1F *h_lep_E_DYtautau1 = new TH1F(\"h_lep_E_DYtautau1\",\"h_lep_E_DYtautau1\",30,0,1000);\n",
    "h_lep_E_DYtautau1->SetFillColor(kOrange);\n",
    "//DYtautau2 histrogram\n",
    "TH1F *h_lep_E_DYtautau2 = new TH1F(\"h_lep_E_DYtautau2\",\"h_lep_E_DYtautau2\",30,0,1000);\n",
    "h_lep_E_DYtautau2->SetFillColor(kPink);\n",
    "\n",
    "//Merged DY EE,MUMU,TAUTAU histogram\n",
    "TH1F *h_lep_E_mergedDY = new TH1F(\"h_lep_E_mergedDY\",\"h_lep_E_mergedDY\",30,0,1000);\n",
    "h_lep_E_mergedDY->SetFillColor(kGray);"
   ]
  },
  {
   "cell_type": "markdown",
   "metadata": {},
   "source": [
    "Define ENERGY histograms for Stop analysis "
   ]
  },
  {
   "cell_type": "code",
   "execution_count": null,
   "metadata": {
    "collapsed": true
   },
   "outputs": [],
   "source": [
    "//Stop tchan_top histrogram \n",
    "TH1F *h_lep_E_Stchan_top = new TH1F(\"h_lep_E_Stchan_top\",\"h_lep_E_Stchan_top\",30,0,1000);\n",
    "h_lep_E_Stchan_top->SetFillColor(kRed);\n",
    "//Stop tchan_antitop histrogram\n",
    "TH1F *h_lep_E_Stchan_antitop = new TH1F(\"h_lep_E_Stchan_antitop\",\"h_lep_E_Stchan_antitop\",30,0,1000);\n",
    "h_lep_E_Stchan_antitop->SetFillColor(kYellow);\n",
    "//Stop schan histogram\n",
    "TH1F *h_lep_E_Sschan = new TH1F(\"h_lep_E_Sschan \",\"h_lep_E_Sschan\",30,0,1000);\n",
    "h_lep_E_Sschan->SetFillColor(kBlue);\n",
    "//Stop wtchan histogram\n",
    "TH1F *h_lep_E_Swtchan = new TH1F(\"h_lep_E_Swtchan\",\"h_lep_E_Swtchan\",30,0,1000);\n",
    "h_lep_E_Swtchan->SetFillColor(kGreen);\n",
    "\n",
    "//Merged stop \n",
    "TH1F *h_lep_E_mergedS = new TH1F(\"h_lep_E_mergedS\",\"h_lep_E_mergedS\",30,0,1000);\n",
    "h_lep_E_mergedS->SetFillColor(kGray);"
   ]
  },
  {
   "cell_type": "markdown",
   "metadata": {},
   "source": [
    "Define ENERGY histograms for TTBar analysis "
   ]
  },
  {
   "cell_type": "code",
   "execution_count": null,
   "metadata": {
    "collapsed": true
   },
   "outputs": [],
   "source": [
    "//TTBar had histrogram \n",
    "TH1F *h_lep_E_TThad = new TH1F(\"h_lep_E_TThad\",\"h_lep_E_TThad\",30,0,1000);\n",
    "h_lep_E_TThad->SetFillColor(kRed);\n",
    "//TTBar lep histrogram\n",
    "TH1F *h_lep_E_TTlep = new TH1F(\"h_lep_E_TTlep\",\"h_lep_E_TTlep\",30,0,1000);\n",
    "h_lep_E_TTlep->SetFillColor(kYellow);\n",
    "\n",
    "//Merged TTBar\n",
    "TH1F *h_lep_E_mergedTT = new TH1F(\"h_lep_E_mergedTT\",\"h_lep_E_mergedTT\",30,0,1000);\n",
    "h_lep_E_mergedTT->SetFillColor(kGray);"
   ]
  },
  {
   "cell_type": "markdown",
   "metadata": {},
   "source": [
    "Define ENERGY histograms for W analysis "
   ]
  },
  {
   "cell_type": "code",
   "execution_count": null,
   "metadata": {
    "collapsed": true
   },
   "outputs": [],
   "source": [
    "//W HISTOGRAMS\n",
    "//WenuW hisogram\n",
    "TH1F *h_lep_E_WenuW = new TH1F(\"h_lep_E_WenuW\",\"h_lep_E_WenuW\",30,0,1000);\n",
    "h_lep_E_WenuW->SetFillColor(kRed);\n",
    "//WenuJ histrogram - last cut only \n",
    "TH1F *h_lep_E_WenuJ = new TH1F(\"h_lep_E_WenuJ\",\"h_lep_E_WenuJ\",30,0,1000);\n",
    "h_lep_E_WenuJ->SetFillColor(kYellow);\n",
    "//WenuN histrogram - last cut only \n",
    "TH1F *h_lep_E_WenuN = new TH1F(\"h_lep_E_WenuN\",\"h_lep_E_WenuN\",30,0,1000);\n",
    "h_lep_E_WenuN->SetFillColor(kBlue);\n",
    "//WmunuW hisogram\n",
    "TH1F *h_lep_E_WmunuW = new TH1F(\"h_lep_E_WmunuW\",\"h_lep_E_WmunuW\",30,0,1000);\n",
    "h_lep_E_WmunuW->SetFillColor(kRed);\n",
    "//WmunuJ histrogram - last cut only \n",
    "TH1F *h_lep_E_WmunuJ = new TH1F(\"h_lep_E_WmunuJ\",\"h_lep_E_WmunuJ\",30,0,1000);\n",
    "h_lep_E_WmunuJ->SetFillColor(kYellow);\n",
    "//WmunuN histrogram - last cut only \n",
    "TH1F *h_lep_E_WmunuN = new TH1F(\"h_lep_E_WmunuN\",\"h_lep_E_WmunuN\",30,0,1000);\n",
    "h_lep_E_WmunuN->SetFillColor(kBlue);\n",
    "//WtaunuW hisogram\n",
    "TH1F *h_lep_E_WtaunuW = new TH1F(\"h_lep_E_WtaunuW\",\"h_lep_E_WtaunuW\",30,0,1000);\n",
    "h_lep_E_WtaunuW->SetFillColor(kRed);\n",
    "//WtaunuJ histrogram - last cut only \n",
    "TH1F *h_lep_E_WtaunuJ = new TH1F(\"h_lep_E_WtaunuJ\",\"h_lep_E_WtaunuJ\",30,0,1000);\n",
    "h_lep_E_WtaunuJ->SetFillColor(kYellow);\n",
    "//WtaunuN histrogram - last cut only \n",
    "TH1F *h_lep_E_WtaunuN = new TH1F(\"h_lep_E_WtaunuN\",\"h_lep_E_WtaunuN\",30,0,1000);\n",
    "h_lep_E_WtaunuN->SetFillColor(kBlue);\n",
    "\n",
    "//Merged Wenu,Wmunu,Wtaunu\n",
    "TH1F *h_lep_E_mergedW = new TH1F(\"h_lep_E_mergedW\",\"h_lep_E_mergedW\",30,0,1000);\n",
    "h_lep_E_mergedW->SetFillColor(kGreen);"
   ]
  },
  {
   "cell_type": "markdown",
   "metadata": {},
   "source": [
    "Define CHARGE histograms for Z analysis "
   ]
  },
  {
   "cell_type": "code",
   "execution_count": null,
   "metadata": {
    "collapsed": true
   },
   "outputs": [],
   "source": [
    "//CHARGE HISTOGRAMS\n",
    "//Zee histrogram - last cut only \n",
    "TH1F *h_lep_charge_Zee = new TH1F(\"h_lep_charge_Zee\",\"h_lep_charge_Zee\",35,-1.5,1.5);\n",
    "h_lep_charge_Zee->SetFillColor(kRed);\n",
    "//Zmumu histrogram - last cut only \n",
    "TH1F *h_lep_charge_Zmumu = new TH1F(\"h_lep_charge_Zmumu\",\"h_lep_charge_Zmumu\",35,-1.5,1.5);\n",
    "h_lep_charge_Zmumu->SetFillColor(kYellow);\n",
    "//Ztautau histrogram - last cut only \n",
    "TH1F *h_lep_charge_Ztautau = new TH1F(\"h_lep_charge_Ztautau\",\"h_lep_charge_Ztautau\",35,-1.5,1.5);\n",
    "h_lep_charge_Ztautau->SetFillColor(kBlue);\n",
    "\n",
    "//Merged Zee,Zmumu,Ztautau\n",
    "TH1F *h_lep_charge_mergedZ = new TH1F(\"h_lep_charge_mergedZ\",\"h_lep_charge_mergedZ\",35,-1.5,1.5);\n",
    "h_lep_charge_mergedZ->SetFillColor(kGreen);"
   ]
  },
  {
   "cell_type": "markdown",
   "metadata": {},
   "source": [
    "Define CHARGE histograms for Diboson analysis "
   ]
  },
  {
   "cell_type": "code",
   "execution_count": null,
   "metadata": {
    "collapsed": true
   },
   "outputs": [],
   "source": [
    "//Diboson WW histrogram\n",
    "TH1F *h_lep_charge_Dww = new TH1F(\"h_lep_charge_Dww\",\"h_lep_charge_Dww\",35,-1.5,1.5);\n",
    "h_lep_charge_Dww->SetFillColor(kRed);\n",
    "//Diboson ZZ histrogram\n",
    "TH1F *h_lep_charge_Dzz = new TH1F(\"h_lep_charge_Dzz\",\"h_lep_charge_Dzz\",35,-1.5,1.5);\n",
    "h_lep_charge_Dzz->SetFillColor(kYellow);\n",
    "//Diboson WZ histrogram\n",
    "TH1F *h_lep_charge_Dwz = new TH1F(\"h_lep_charge_Dwz\",\"h_lep_charge_Dwz\",35,-1.5,1.5);\n",
    "h_lep_charge_Dwz->SetFillColor(kBlue);\n",
    "\n",
    "//Merged Diboson WW,ZZ,WZ histogram\n",
    "TH1F *h_lep_charge_mergedD = new TH1F(\"h_lep_charge_mergedD\",\"h_lep_charge_mergedD\",35,-1.5,1.5);\n",
    "h_lep_charge_mergedD->SetFillColor(kGreen);"
   ]
  },
  {
   "cell_type": "markdown",
   "metadata": {},
   "source": [
    "Define CHARGE histograms for Drell Yan analysis "
   ]
  },
  {
   "cell_type": "code",
   "execution_count": null,
   "metadata": {
    "collapsed": true
   },
   "outputs": [],
   "source": [
    "//DYee1 histrogram\n",
    "TH1F *h_lep_charge_DYee1 = new TH1F(\"h_lep_charge_DYee1\",\"h_lep_charge_DYee1\",35,-1.5,1.5);\n",
    "h_lep_charge_DYee1->SetFillColor(kRed);\n",
    "//DYee2 histrogram\n",
    "TH1F *h_lep_charge_DYee2 = new TH1F(\"h_lep_charge_DYee2\",\"h_lep_charge_DYee2\",35,-1.5,1.5);\n",
    "h_lep_charge_DYee2->SetFillColor(kYellow);\n",
    "//DYmumu1 histrogram\n",
    "TH1F *h_lep_charge_DYmumu1 = new TH1F(\"h_lep_charge_DYmumu1 \",\"h_lep_charge_DYmumu1\",35,-1.5,1.5);\n",
    "h_lep_charge_DYmumu1->SetFillColor(kBlue);\n",
    "//DYmumu2 histrogram\n",
    "TH1F *h_lep_charge_DYmumu2 = new TH1F(\"h_lep_charge_DYmumu2\",\"h_lep_charge_DYmumu2\",35,-1.5,1.5);\n",
    "h_lep_charge_DYmumu2->SetFillColor(kGreen);\n",
    "//DYtautau1 histrogram\n",
    "TH1F *h_lep_charge_DYtautau1 = new TH1F(\"h_lep_charge_DYtautau1\",\"h_lep_charge_DYtautau1\",35,-1.5,1.5);\n",
    "h_lep_charge_DYtautau1->SetFillColor(kOrange);\n",
    "//DYtautau2 histrogram\n",
    "TH1F *h_lep_charge_DYtautau2 = new TH1F(\"h_lep_charge_DYtautau2\",\"h_lep_charge_DYtautau2\",35,-1.5,1.5);\n",
    "h_lep_charge_DYtautau2->SetFillColor(kPink);\n",
    "\n",
    "//Merged DY EE,MUMU,TAUTAU histogram\n",
    "TH1F *h_lep_charge_mergedDY = new TH1F(\"h_lep_charge_mergedDY\",\"h_lep_charge_mergedDY\",35,-1.5,1.5);\n",
    "h_lep_charge_mergedDY->SetFillColor(kGray);"
   ]
  },
  {
   "cell_type": "markdown",
   "metadata": {},
   "source": [
    "Define CHARGE histograms for Stop analysis "
   ]
  },
  {
   "cell_type": "code",
   "execution_count": null,
   "metadata": {
    "collapsed": true
   },
   "outputs": [],
   "source": [
    "//Stop tchan_top histrogram \n",
    "TH1F *h_lep_charge_Stchan_top = new TH1F(\"h_lep_charge_Stchan_top\",\"h_lep_charge_Stchan_top\",35,-1.5,1.5);\n",
    "h_lep_charge_Stchan_top->SetFillColor(kRed);\n",
    "//Stop tchan_antitop histrogram\n",
    "TH1F *h_lep_charge_Stchan_antitop = new TH1F(\"h_lep_charge_Stchan_antitop\",\"h_lep_charge_Stchan_antitop\",35,-1.5,1.50);\n",
    "h_lep_charge_Stchan_antitop->SetFillColor(kYellow);\n",
    "//Stop schan histogram\n",
    "TH1F *h_lep_charge_Sschan = new TH1F(\"h_lep_charge_Sschan \",\"h_lep_charge_Sschan\",35,-1.5,1.5);\n",
    "h_lep_charge_Sschan->SetFillColor(kBlue);\n",
    "//Stop wtchan histogram\n",
    "TH1F *h_lep_charge_Swtchan = new TH1F(\"h_lep_charge_Swtchan\",\"h_lep_charge_Swtchan\",35,-1.5,1.5);\n",
    "h_lep_charge_Swtchan->SetFillColor(kGreen);\n",
    "\n",
    "//Merged stop \n",
    "TH1F *h_lep_charge_mergedS = new TH1F(\"h_lep_charge_mergedS\",\"h_lep_charge_mergedS\",35,-1.5,1.5);\n",
    "h_lep_charge_mergedS->SetFillColor(kGray);"
   ]
  },
  {
   "cell_type": "markdown",
   "metadata": {},
   "source": [
    "Define CHARGE histograms for TTBar analysis "
   ]
  },
  {
   "cell_type": "code",
   "execution_count": null,
   "metadata": {
    "collapsed": true
   },
   "outputs": [],
   "source": [
    "//TTBar had histrogram \n",
    "TH1F *h_lep_charge_TThad = new TH1F(\"h_lep_charge_TThad\",\"h_lep_charge_TThad\",35,-1.5,1.5);\n",
    "h_lep_charge_TThad->SetFillColor(kRed);\n",
    "//TTBar lep histrogram\n",
    "TH1F *h_lep_charge_TTlep = new TH1F(\"h_lep_charge_TTlep\",\"h_lep_charge_TTlep\",35,-1.5,1.5);\n",
    "h_lep_charge_TTlep->SetFillColor(kYellow);\n",
    "\n",
    "//Merged TTBar\n",
    "TH1F *h_lep_charge_mergedTT = new TH1F(\"h_lep_charge_mergedTT\",\"h_lep_charge_mergedTT\",35,-1.5,1.5);\n",
    "h_lep_charge_mergedTT->SetFillColor(kGray);"
   ]
  },
  {
   "cell_type": "markdown",
   "metadata": {},
   "source": [
    "Define CHARGE histograms for W analysis "
   ]
  },
  {
   "cell_type": "code",
   "execution_count": null,
   "metadata": {
    "collapsed": true
   },
   "outputs": [],
   "source": [
    "//W HISTOGRAMS\n",
    "//WenuW hisogram\n",
    "TH1F *h_lep_charge_WenuW = new TH1F(\"h_lep_charge_WenuW\",\"h_lep_charge_WenuW\",35,-1.5,1.5);\n",
    "h_lep_charge_WenuW->SetFillColor(kRed);\n",
    "//WenuJ histrogram - last cut only \n",
    "TH1F *h_lep_charge_WenuJ = new TH1F(\"h_lep_charge_WenuJ\",\"h_lep_charge_WenuJ\",35,-1.5,1.5);\n",
    "h_lep_charge_WenuJ->SetFillColor(kYellow);\n",
    "//WenuN histrogram - last cut only \n",
    "TH1F *h_lep_charge_WenuN = new TH1F(\"h_lep_charge_WenuN\",\"h_lep_charge_WenuN\",35,-1.5,1.5);\n",
    "h_lep_charge_WenuN->SetFillColor(kBlue);\n",
    "//WmunuW hisogram\n",
    "TH1F *h_lep_charge_WmunuW = new TH1F(\"h_lep_charge_WmunuW\",\"h_lep_charge_WmunuW\",35,-1.5,1.5);\n",
    "h_lep_charge_WmunuW->SetFillColor(kRed);\n",
    "//WmunuJ histrogram - last cut only \n",
    "TH1F *h_lep_charge_WmunuJ = new TH1F(\"h_lep_charge_WmunuJ\",\"h_lep_charge_WmunuJ\",35,-1.5,1.5);\n",
    "h_lep_charge_WmunuJ->SetFillColor(kYellow);\n",
    "//WmunuN histrogram - last cut only \n",
    "TH1F *h_lep_charge_WmunuN = new TH1F(\"h_lep_charge_WmunuN\",\"h_lep_charge_WmunuN\",35,-1.5,1.5);\n",
    "h_lep_charge_WmunuN->SetFillColor(kBlue);\n",
    "//WtaunuW hisogram\n",
    "TH1F *h_lep_charge_WtaunuW = new TH1F(\"h_lep_charge_WtaunuW\",\"h_lep_charge_WtaunuW\",35,-1.5,1.5);\n",
    "h_lep_charge_WtaunuW->SetFillColor(kRed);\n",
    "//WtaunuJ histrogram - last cut only \n",
    "TH1F *h_lep_charge_WtaunuJ = new TH1F(\"h_lep_charge_WtaunuJ\",\"h_lep_charge_WtaunuJ\",35,-1.5,1.5);\n",
    "h_lep_charge_WtaunuJ->SetFillColor(kYellow);\n",
    "//WtaunuN histrogram - last cut only \n",
    "TH1F *h_lep_charge_WtaunuN = new TH1F(\"h_lep_charge_WtaunuN\",\"h_lep_charge_WtaunuN\",35,-1.5,1.5);\n",
    "h_lep_charge_WtaunuN->SetFillColor(kBlue);\n",
    "\n",
    "//Merged Wenu,Wmunu,Wtaunu\n",
    "TH1F *h_lep_charge_mergedW = new TH1F(\"h_lep_charge_mergedW\",\"h_lep_charge_mergedW\",35,-1.5,1.5);\n",
    "h_lep_charge_mergedW->SetFillColor(kGreen);"
   ]
  },
  {
   "cell_type": "markdown",
   "metadata": {},
   "source": [
    "Define ETC20 histograms for Z analysis"
   ]
  },
  {
   "cell_type": "code",
   "execution_count": null,
   "metadata": {
    "collapsed": true
   },
   "outputs": [],
   "source": [
    "//ETC20 HISTOGRAMS\n",
    "//Zee histrogram - last cut only \n",
    "TH1F *h_lep_etc20_Zee = new TH1F(\"h_lep_etc20_Zee\",\"h_lep_etc20_Zee\",40,-3,10);\n",
    "h_lep_etc20_Zee->SetFillColor(kRed);\n",
    "//Zmumu histrogram - last cut only \n",
    "TH1F *h_lep_etc20_Zmumu = new TH1F(\"h_lep_etc20_Zmumu\",\"h_lep_etc20_Zmumu\",40,-3,10);\n",
    "h_lep_etc20_Zmumu->SetFillColor(kYellow);\n",
    "//Ztautau histrogram - last cut only \n",
    "TH1F *h_lep_etc20_Ztautau = new TH1F(\"h_lep_etc20_Ztautau\",\"h_lep_etc20_Ztautau\",40,-3,10);\n",
    "h_lep_etc20_Ztautau->SetFillColor(kBlue);\n",
    "\n",
    "//Merged Zee,Zmumu,Ztautau\n",
    "TH1F *h_lep_etc20_mergedZ = new TH1F(\"h_lep_etc20_mergedZ\",\"h_lep_etc20_mergedZ\",40,-3,10);\n",
    "h_lep_etc20_mergedZ->SetFillColor(kGreen);"
   ]
  },
  {
   "cell_type": "markdown",
   "metadata": {},
   "source": [
    "Define ETC20 histograms for Diboson analysis"
   ]
  },
  {
   "cell_type": "code",
   "execution_count": null,
   "metadata": {
    "collapsed": true
   },
   "outputs": [],
   "source": [
    "//Diboson WW histrogram\n",
    "TH1F *h_lep_etc20_Dww = new TH1F(\"h_lep_etc20_Dww\",\"h_lep_etc20_Dww\",40,-3,10);\n",
    "h_lep_etc20_Dww->SetFillColor(kRed);\n",
    "//Diboson ZZ histrogram\n",
    "TH1F *h_lep_etc20_Dzz = new TH1F(\"h_lep_etc20_Dzz\",\"h_lep_etc20_Dzz\",40,-3,10);\n",
    "h_lep_etc20_Dzz->SetFillColor(kYellow);\n",
    "//Diboson WZ histrogram\n",
    "TH1F *h_lep_etc20_Dwz = new TH1F(\"h_lep_etc20_Dwz\",\"h_lep_etc20_Dwz\",40,-3,10);\n",
    "h_lep_etc20_Dwz->SetFillColor(kBlue);\n",
    "\n",
    "//Merged Diboson WW,ZZ,WZ histogram\n",
    "TH1F *h_lep_etc20_mergedD = new TH1F(\"h_lep_etc20_mergedD\",\"h_lep_etc20_mergedD\",40,-3,10);\n",
    "h_lep_etc20_mergedD->SetFillColor(kGreen);"
   ]
  },
  {
   "cell_type": "markdown",
   "metadata": {},
   "source": [
    "Define ETC20 histograms for Drell Yan analysis"
   ]
  },
  {
   "cell_type": "code",
   "execution_count": null,
   "metadata": {
    "collapsed": true
   },
   "outputs": [],
   "source": [
    "//DYee1 histrogram\n",
    "TH1F *h_lep_etc20_DYee1 = new TH1F(\"h_lep_etc20_DYee1\",\"h_lep_etc20_DYee1\",40,-3,10);\n",
    "h_lep_etc20_DYee1->SetFillColor(kRed);\n",
    "//DYee2 histrogram\n",
    "TH1F *h_lep_etc20_DYee2 = new TH1F(\"h_lep_etc20_DYee2\",\"h_lep_etc20_DYee2\",40,-3,10);\n",
    "h_lep_etc20_DYee2->SetFillColor(kYellow);\n",
    "//DYmumu1 histrogram\n",
    "TH1F *h_lep_etc20_DYmumu1 = new TH1F(\"h_lep_etc20_DYmumu1 \",\"h_lep_etc20_DYmumu1\",40,-3,10);\n",
    "h_lep_etc20_DYmumu1->SetFillColor(kBlue);\n",
    "//DYmumu2 histrogram\n",
    "TH1F *h_lep_etc20_DYmumu2 = new TH1F(\"h_lep_etc20_DYmumu2\",\"h_lep_etc20_DYmumu2\",40,-3,10);\n",
    "h_lep_etc20_DYmumu2->SetFillColor(kGreen);\n",
    "//DYtautau1 histrogram\n",
    "TH1F *h_lep_etc20_DYtautau1 = new TH1F(\"h_lep_etc20_DYtautau1\",\"h_lep_etc20_DYtautau1\",40,-3,10);\n",
    "h_lep_etc20_DYtautau1->SetFillColor(kOrange);\n",
    "//DYtautau2 histrogram\n",
    "TH1F *h_lep_etc20_DYtautau2 = new TH1F(\"h_lep_etc20_DYtautau2\",\"h_lep_etc20_DYtautau2\",40,-3,10);\n",
    "h_lep_etc20_DYtautau2->SetFillColor(kPink);\n",
    "\n",
    "//Merged DY EE,MUMU,TAUTAU histogram\n",
    "TH1F *h_lep_etc20_mergedDY = new TH1F(\"h_lep_etc20_mergedDY\",\"h_lep_etc20_mergedDY\",40,-3,10);\n",
    "h_lep_etc20_mergedDY->SetFillColor(kGray);"
   ]
  },
  {
   "cell_type": "markdown",
   "metadata": {},
   "source": [
    "Define ETC20 histograms for Stop analysis"
   ]
  },
  {
   "cell_type": "code",
   "execution_count": null,
   "metadata": {
    "collapsed": true
   },
   "outputs": [],
   "source": [
    "//Stop tchan_top histrogram \n",
    "TH1F *h_lep_etc20_Stchan_top = new TH1F(\"h_lep_etc20_Stchan_top\",\"h_lep_etc20_Stchan_top\",40,-3,10);\n",
    "h_lep_etc20_Stchan_top->SetFillColor(kRed);\n",
    "//Stop tchan_antitop histrogram\n",
    "TH1F *h_lep_etc20_Stchan_antitop = new TH1F(\"h_lep_etc20_Stchan_antitop\",\"h_lep_etc20_Stchan_antitop\",40,-3,10);\n",
    "h_lep_etc20_Stchan_antitop->SetFillColor(kYellow);\n",
    "//Stop schan histogram\n",
    "TH1F *h_lep_etc20_Sschan = new TH1F(\"h_lep_etc20_Sschan \",\"h_lep_etc20_Sschan\",40,-3,10);\n",
    "h_lep_etc20_Sschan->SetFillColor(kBlue);\n",
    "//Stop wtchan histogram\n",
    "TH1F *h_lep_etc20_Swtchan = new TH1F(\"h_lep_etc20_Swtchan\",\"h_lep_etc20_Swtchan\",40,-3,10);\n",
    "h_lep_etc20_Swtchan->SetFillColor(kGreen);\n",
    "\n",
    "//Merged stop \n",
    "TH1F *h_lep_etc20_mergedS = new TH1F(\"h_lep_etc20_mergedS\",\"h_lep_etc20_mergedS\",40,-3,10);\n",
    "h_lep_etc20_mergedS->SetFillColor(kGray);"
   ]
  },
  {
   "cell_type": "markdown",
   "metadata": {},
   "source": [
    "Define ETC20 histograms for TTBar analysis"
   ]
  },
  {
   "cell_type": "code",
   "execution_count": null,
   "metadata": {
    "collapsed": true
   },
   "outputs": [],
   "source": [
    "//TTBar had histrogram \n",
    "TH1F *h_lep_etc20_TThad = new TH1F(\"h_lep_etc20_TThad\",\"h_lep_etc20_TThad\",40,-3,10);\n",
    "h_lep_etc20_TThad->SetFillColor(kRed);\n",
    "//TTBar lep histrogram\n",
    "TH1F *h_lep_etc20_TTlep = new TH1F(\"h_lep_etc20_TTlep\",\"h_lep_etc20_TTlep\",40,-3,10);\n",
    "h_lep_etc20_TTlep->SetFillColor(kYellow);\n",
    "\n",
    "//Merged TTBar\n",
    "TH1F *h_lep_etc20_mergedTT = new TH1F(\"h_lep_etc20_mergedTT\",\"h_lep_etc20_mergedTT\",40,-3,10);\n",
    "h_lep_etc20_mergedTT->SetFillColor(kGray);\n"
   ]
  },
  {
   "cell_type": "markdown",
   "metadata": {},
   "source": [
    "Define ETC20 histograms for W analysis"
   ]
  },
  {
   "cell_type": "code",
   "execution_count": null,
   "metadata": {
    "collapsed": true
   },
   "outputs": [],
   "source": [
    "//W HISTOGRAMS\n",
    "//WenuW hisogram\n",
    "TH1F *h_lep_etc20_WenuW = new TH1F(\"h_lep_etc20_WenuW\",\"h_lep_etc20_WenuW\",40,-3,10);\n",
    "h_lep_etc20_WenuW->SetFillColor(kRed);\n",
    "//WenuJ histrogram - last cut only \n",
    "TH1F *h_lep_etc20_WenuJ = new TH1F(\"h_lep_etc20_WenuJ\",\"h_lep_etc20_WenuJ\",40,-3,10);\n",
    "h_lep_etc20_WenuJ->SetFillColor(kYellow);\n",
    "//WenuN histrogram - last cut only \n",
    "TH1F *h_lep_etc20_WenuN = new TH1F(\"h_lep_etc20_WenuN\",\"h_lep_etc20_WenuN\",40,-3,10);\n",
    "h_lep_etc20_WenuN->SetFillColor(kBlue);\n",
    "//WmunuW hisogram\n",
    "TH1F *h_lep_etc20_WmunuW = new TH1F(\"h_lep_etc20_WmunuW\",\"h_lep_etc20_WmunuW\",40,-3,10);\n",
    "h_lep_etc20_WmunuW->SetFillColor(kRed);\n",
    "//WmunuJ histrogram - last cut only \n",
    "TH1F *h_lep_etc20_WmunuJ = new TH1F(\"h_lep_etc20_WmunuJ\",\"h_lep_etc20_WmunuJ\",40,-3,10);\n",
    "h_lep_etc20_WmunuJ->SetFillColor(kYellow);\n",
    "//WmunuN histrogram - last cut only \n",
    "TH1F *h_lep_etc20_WmunuN = new TH1F(\"h_lep_etc20_WmunuN\",\"h_lep_etc20_WmunuN\",40,-3,10);\n",
    "h_lep_etc20_WmunuN->SetFillColor(kBlue);\n",
    "//WtaunuW hisogram\n",
    "TH1F *h_lep_etc20_WtaunuW = new TH1F(\"h_lep_etc20_WtaunuW\",\"h_lep_etc20_WtaunuW\",40,-3,10);\n",
    "h_lep_etc20_WtaunuW->SetFillColor(kRed);\n",
    "//WtaunuJ histrogram - last cut only \n",
    "TH1F *h_lep_etc20_WtaunuJ = new TH1F(\"h_lep_etc20_WtaunuJ\",\"h_lep_etc20_WtaunuJ\",40,-3,10);\n",
    "h_lep_etc20_WtaunuJ->SetFillColor(kYellow);\n",
    "//WtaunuN histrogram - last cut only \n",
    "TH1F *h_lep_etc20_WtaunuN = new TH1F(\"h_lep_etc20_WtaunuN\",\"h_lep_etc20_WtaunuN\",40,-3,10);\n",
    "h_lep_etc20_WtaunuN->SetFillColor(kBlue);\n",
    "\n",
    "//Merged Wenu,Wmunu,Wtaunu\n",
    "TH1F *h_lep_etc20_mergedW = new TH1F(\"h_lep_etc20_mergedW\",\"h_lep_etc20_mergedW\",40,-3,10);\n",
    "h_lep_etc20_mergedW->SetFillColor(kGreen);"
   ]
  },
  {
   "cell_type": "markdown",
   "metadata": {},
   "source": [
    "Define PTC30 histogram for Z analysis "
   ]
  },
  {
   "cell_type": "code",
   "execution_count": null,
   "metadata": {
    "collapsed": true
   },
   "outputs": [],
   "source": [
    "//PTC HISTOGRAMS\n",
    "//Zee histrogram - last cut only \n",
    "TH1F *h_lep_ptc30_Zee = new TH1F(\"h_lep_ptc30_Zee\",\"h_lep_ptc30_Zee\",40,-3,10);\n",
    "h_lep_ptc30_Zee->SetFillColor(kRed);\n",
    "//Zmumu histrogram - last cut only \n",
    "TH1F *h_lep_ptc30_Zmumu = new TH1F(\"h_lep_ptc30_Zmumu\",\"h_lep_ptc30_Zmumu\",40,-3,10);\n",
    "h_lep_ptc30_Zmumu->SetFillColor(kYellow);\n",
    "//Ztautau histrogram - last cut only \n",
    "TH1F *h_lep_ptc30_Ztautau = new TH1F(\"h_lep_ptc30_Ztautau\",\"h_lep_ptc30_Ztautau\",40,-3,10);\n",
    "h_lep_ptc30_Ztautau->SetFillColor(kBlue);\n",
    "\n",
    "//Merged Zee,Zmumu,Ztautau\n",
    "TH1F *h_lep_ptc30_mergedZ = new TH1F(\"h_lep_ptc30_mergedZ\",\"h_lep_ptc30_mergedZ\",40,-3,10);\n",
    "h_lep_ptc30_mergedZ->SetFillColor(kGreen);"
   ]
  },
  {
   "cell_type": "markdown",
   "metadata": {},
   "source": [
    "Define PTC30 histogram for Diboson analysis "
   ]
  },
  {
   "cell_type": "code",
   "execution_count": null,
   "metadata": {
    "collapsed": true
   },
   "outputs": [],
   "source": [
    "//Diboson WW histrogram\n",
    "TH1F *h_lep_ptc30_Dww = new TH1F(\"h_lep_ptc30_Dww\",\"h_lep_ptc30_Dww\",40,-3,10);\n",
    "h_lep_ptc30_Dww->SetFillColor(kRed);\n",
    "//Diboson ZZ histrogram\n",
    "TH1F *h_lep_ptc30_Dzz = new TH1F(\"h_lep_ptc30_Dzz\",\"h_lep_ptc30_Dzz\",40,-3,10);\n",
    "h_lep_ptc30_Dzz->SetFillColor(kYellow);\n",
    "//Diboson WZ histrogram\n",
    "TH1F *h_lep_ptc30_Dwz = new TH1F(\"h_lep_ptc30_Dwz\",\"h_lep_ptc30_Dwz\",40,-3,10);\n",
    "h_lep_ptc30_Dwz->SetFillColor(kBlue);\n",
    "\n",
    "//Merged Diboson WW,ZZ,WZ histogram\n",
    "TH1F *h_lep_ptc30_mergedD = new TH1F(\"h_lep_ptc30_mergedD\",\"h_lep_ptc30_mergedD\",40,-3,10);\n",
    "h_lep_ptc30_mergedD->SetFillColor(kGreen);"
   ]
  },
  {
   "cell_type": "markdown",
   "metadata": {},
   "source": [
    "Define PTC30 histogram for Drell Yan analysis "
   ]
  },
  {
   "cell_type": "code",
   "execution_count": null,
   "metadata": {
    "collapsed": true
   },
   "outputs": [],
   "source": [
    "//DYee1 histrogram\n",
    "TH1F *h_lep_ptc30_DYee1 = new TH1F(\"h_lep_ptc30_DYee1\",\"h_lep_ptc30_DYee1\",40,-3,10);\n",
    "h_lep_ptc30_DYee1->SetFillColor(kRed);\n",
    "//DYee2 histrogram\n",
    "TH1F *h_lep_ptc30_DYee2 = new TH1F(\"h_lep_ptc30_DYee2\",\"h_lep_ptc30_DYee2\",40,-3,10);\n",
    "h_lep_ptc30_DYee2->SetFillColor(kYellow);\n",
    "//DYmumu1 histrogram\n",
    "TH1F *h_lep_ptc30_DYmumu1 = new TH1F(\"h_lep_ptc30_DYmumu1 \",\"h_lep_ptc30_DYmumu1\",40,-3,10);\n",
    "h_lep_ptc30_DYmumu1->SetFillColor(kBlue);\n",
    "//DYmumu2 histrogram\n",
    "TH1F *h_lep_ptc30_DYmumu2 = new TH1F(\"h_lep_ptc30_DYmumu2\",\"h_lep_ptc30_DYmumu2\",40,-3,10);\n",
    "h_lep_ptc30_DYmumu2->SetFillColor(kGreen);\n",
    "//DYtautau1 histrogram\n",
    "TH1F *h_lep_ptc30_DYtautau1 = new TH1F(\"h_lep_ptc30_DYtautau1\",\"h_lep_ptc30_DYtautau1\",40,-3,10);\n",
    "h_lep_ptc30_DYtautau1->SetFillColor(kOrange);\n",
    "//DYtautau2 histrogram\n",
    "TH1F *h_lep_ptc30_DYtautau2 = new TH1F(\"h_lep_ptc30_DYtautau2\",\"h_lep_ptc30_DYtautau2\",40,-3,10);\n",
    "h_lep_ptc30_DYtautau2->SetFillColor(kPink);\n",
    "\n",
    "//Merged DY EE,MUMU,TAUTAU histogram\n",
    "TH1F *h_lep_ptc30_mergedDY = new TH1F(\"h_lep_ptc30_mergedDY\",\"h_lep_ptc30_mergedDY\",40,-3,10);\n",
    "h_lep_ptc30_mergedDY->SetFillColor(kGray);"
   ]
  },
  {
   "cell_type": "markdown",
   "metadata": {},
   "source": [
    "Define PTC30 histogram for Stop analysis "
   ]
  },
  {
   "cell_type": "code",
   "execution_count": null,
   "metadata": {
    "collapsed": true
   },
   "outputs": [],
   "source": [
    "//Stop tchan_top histrogram \n",
    "TH1F *h_lep_ptc30_Stchan_top = new TH1F(\"h_lep_ptc30_Stchan_top\",\"h_lep_ptc30_Stchan_top\",40,-3,10);\n",
    "h_lep_ptc30_Stchan_top->SetFillColor(kRed);\n",
    "//Stop tchan_antitop histrogram\n",
    "TH1F *h_lep_ptc30_Stchan_antitop = new TH1F(\"h_lep_ptc30_Stchan_antitop\",\"h_lep_ptc30_Stchan_antitop\",40,-3,10);\n",
    "h_lep_ptc30_Stchan_antitop->SetFillColor(kYellow);\n",
    "//Stop schan histogram\n",
    "TH1F *h_lep_ptc30_Sschan = new TH1F(\"h_lep_ptc30_Sschan \",\"h_lep_ptc30_Sschan\",40,-3,10);\n",
    "h_lep_ptc30_Sschan->SetFillColor(kBlue);\n",
    "//Stop wtchan histogram\n",
    "TH1F *h_lep_ptc30_Swtchan = new TH1F(\"h_lep_ptc30_Swtchan\",\"h_lep_ptc30_Swtchan\",40,-3,10);\n",
    "h_lep_ptc30_Swtchan->SetFillColor(kGreen);\n",
    "\n",
    "//Merged stop \n",
    "TH1F *h_lep_ptc30_mergedS = new TH1F(\"h_lep_ptc30_mergedS\",\"h_lep_ptc30_mergedS\",40,-3,10);\n",
    "h_lep_ptc30_mergedS->SetFillColor(kGray);"
   ]
  },
  {
   "cell_type": "markdown",
   "metadata": {},
   "source": [
    "Define PTC30 histogram for TTBar analysis "
   ]
  },
  {
   "cell_type": "code",
   "execution_count": null,
   "metadata": {
    "collapsed": false
   },
   "outputs": [],
   "source": [
    "//TTBar had histrogram \n",
    "TH1F *h_lep_ptc30_TThad = new TH1F(\"h_lep_ptc30_TThad\",\"h_lep_ptc30_TThad\",40,-3,10);\n",
    "h_lep_ptc30_TThad->SetFillColor(kRed);\n",
    "//TTBar lep histrogram\n",
    "TH1F *h_lep_ptc30_TTlep = new TH1F(\"h_lep_ptc30_TTlep\",\"h_lep_ptc30_TTlep\",40,-3,10);\n",
    "h_lep_ptc30_TTlep->SetFillColor(kYellow);\n",
    "\n",
    "//Merged TTBar\n",
    "TH1F *h_lep_ptc30_mergedTT = new TH1F(\"h_lep_ptc30_mergedTT\",\"h_lep_ptc30_mergedTT\",40,-3,10);\n",
    "h_lep_ptc30_mergedTT->SetFillColor(kGray);"
   ]
  },
  {
   "cell_type": "markdown",
   "metadata": {},
   "source": [
    "Define PTC30 histogram for W analysis "
   ]
  },
  {
   "cell_type": "code",
   "execution_count": null,
   "metadata": {
    "collapsed": true
   },
   "outputs": [],
   "source": [
    "//W HISTOGRAMS\n",
    "//WenuW hisogram\n",
    "TH1F *h_lep_ptc30_WenuW = new TH1F(\"h_lep_ptc30_WenuW\",\"h_lep_ptc30_WenuW\",40,-3,10);\n",
    "h_lep_ptc30_WenuW->SetFillColor(kRed);\n",
    "//WenuJ histrogram - last cut only \n",
    "TH1F *h_lep_ptc30_WenuJ = new TH1F(\"h_lep_ptc30_WenuJ\",\"h_lep_ptc30_WenuJ\",40,-3,10);\n",
    "h_lep_ptc30_WenuJ->SetFillColor(kYellow);\n",
    "//WenuN histrogram - last cut only \n",
    "TH1F *h_lep_ptc30_WenuN = new TH1F(\"h_lep_ptc30_WenuN\",\"h_lep_ptc30_WenuN\",40,-3,10);\n",
    "h_lep_ptc30_WenuN->SetFillColor(kBlue);\n",
    "//WmunuW hisogram\n",
    "TH1F *h_lep_ptc30_WmunuW = new TH1F(\"h_lep_ptc30_WmunuW\",\"h_lep_ptc30_WmunuW\",40,-3,10);\n",
    "h_lep_ptc30_WmunuW->SetFillColor(kRed);\n",
    "//WmunuJ histrogram - last cut only \n",
    "TH1F *h_lep_ptc30_WmunuJ = new TH1F(\"h_lep_ptc30_WmunuJ\",\"h_lep_ptc30_WmunuJ\",40,-3,10);\n",
    "h_lep_ptc30_WmunuJ->SetFillColor(kYellow);\n",
    "//WmunuN histrogram - last cut only \n",
    "TH1F *h_lep_ptc30_WmunuN = new TH1F(\"h_lep_ptc30_WmunuN\",\"h_lep_ptc30_WmunuN\",40,-3,10);\n",
    "h_lep_ptc30_WmunuN->SetFillColor(kBlue);\n",
    "//WtaunuW hisogram\n",
    "TH1F *h_lep_ptc30_WtaunuW = new TH1F(\"h_lep_ptc30_WtaunuW\",\"h_lep_ptc30_WtaunuW\",40,-3,10);\n",
    "h_lep_ptc30_WtaunuW->SetFillColor(kRed);\n",
    "//WtaunuJ histrogram - last cut only \n",
    "TH1F *h_lep_ptc30_WtaunuJ = new TH1F(\"h_lep_ptc30_WtaunuJ\",\"h_lep_ptc30_WtaunuJ\",40,-3,10);\n",
    "h_lep_ptc30_WtaunuJ->SetFillColor(kYellow);\n",
    "//WtaunuN histrogram - last cut only \n",
    "TH1F *h_lep_ptc30_WtaunuN = new TH1F(\"h_lep_ptc30_WtaunuN\",\"h_lep_ptc30_WtaunuN\",40,-3,10);\n",
    "h_lep_ptc30_WtaunuN->SetFillColor(kBlue);\n",
    "\n",
    "//Merged Wenu,Wmunu,Wtaunu\n",
    "TH1F *h_lep_ptc30_mergedW = new TH1F(\"h_lep_ptc30_mergedW\",\"h_lep_ptc30_mergedW\",40,-3,10);\n",
    "h_lep_ptc30_mergedW->SetFillColor(kGreen);"
   ]
  },
  {
   "cell_type": "markdown",
   "metadata": {},
   "source": [
    "Define Z0 histograms for Z analysis "
   ]
  },
  {
   "cell_type": "code",
   "execution_count": null,
   "metadata": {
    "collapsed": true
   },
   "outputs": [],
   "source": [
    "//Z0 HISTOGRAMS\n",
    "//Zee histrogram - last cut only \n",
    "TH1F *h_lep_z0_Zee = new TH1F(\"h_lep_z0_Zee\",\"h_lep_z0_Zee\",30,-1,1);\n",
    "h_lep_z0_Zee->SetFillColor(kRed);\n",
    "//Zmumu histrogram - last cut only \n",
    "TH1F *h_lep_z0_Zmumu = new TH1F(\"h_lep_z0_Zmumu\",\"h_lep_z0_Zmumu\",30,-1,1);\n",
    "h_lep_z0_Zmumu->SetFillColor(kYellow);\n",
    "//Ztautau histrogram - last cut only \n",
    "TH1F *h_lep_z0_Ztautau = new TH1F(\"h_lep_z0_Ztautau\",\"h_lep_z0_Ztautau\",30,-1,1);\n",
    "h_lep_z0_Ztautau->SetFillColor(kBlue);\n",
    "\n",
    "//Merged Zee,Zmumu,Ztautau\n",
    "TH1F *h_lep_z0_mergedZ = new TH1F(\"h_lep_z0_mergedZ\",\"h_lep_z0_mergedZ\",30,-1,1);\n",
    "h_lep_z0_mergedZ->SetFillColor(kGreen);"
   ]
  },
  {
   "cell_type": "markdown",
   "metadata": {},
   "source": [
    "Define Z0 histograms for Diboson analysis "
   ]
  },
  {
   "cell_type": "code",
   "execution_count": null,
   "metadata": {
    "collapsed": true
   },
   "outputs": [],
   "source": [
    "//Diboson WW histrogram\n",
    "TH1F *h_lep_z0_Dww = new TH1F(\"h_lep_z0_Dww\",\"h_lep_z0_Dww\",30,-1,1);\n",
    "h_lep_z0_Dww->SetFillColor(kRed);\n",
    "//Diboson ZZ histrogram\n",
    "TH1F *h_lep_z0_Dzz = new TH1F(\"h_lep_z0_Dzz\",\"h_lep_z0_Dzz\",30,-1,1);\n",
    "h_lep_z0_Dzz->SetFillColor(kYellow);\n",
    "//Diboson WZ histrogram\n",
    "TH1F *h_lep_z0_Dwz = new TH1F(\"h_lep_z0_Dwz\",\"h_lep_z0_Dwz\",30,-1,1);\n",
    "h_lep_z0_Dwz->SetFillColor(kBlue);\n",
    "\n",
    "//Merged Diboson WW,ZZ,WZ histogram\n",
    "TH1F *h_lep_z0_mergedD = new TH1F(\"h_lep_z0_mergedD\",\"h_lep_z0_mergedD\",30,-1,1);\n",
    "h_lep_z0_mergedD->SetFillColor(kGreen);"
   ]
  },
  {
   "cell_type": "markdown",
   "metadata": {},
   "source": [
    "Define Z0 histograms for Drell Yan analysis "
   ]
  },
  {
   "cell_type": "code",
   "execution_count": null,
   "metadata": {
    "collapsed": true
   },
   "outputs": [],
   "source": [
    "//DYee1 histrogram\n",
    "TH1F *h_lep_z0_DYee1 = new TH1F(\"h_lep_z0_DYee1\",\"h_lep_z0_DYee1\",30,-1,1);\n",
    "h_lep_z0_DYee1->SetFillColor(kRed);\n",
    "//DYee2 histrogram\n",
    "TH1F *h_lep_z0_DYee2 = new TH1F(\"h_lep_z0_DYee2\",\"h_lep_z0_DYee2\",30,-1,1);\n",
    "h_lep_z0_DYee2->SetFillColor(kYellow);\n",
    "//DYmumu1 histrogram\n",
    "TH1F *h_lep_z0_DYmumu1 = new TH1F(\"h_lep_z0_DYmumu1 \",\"h_lep_z0_DYmumu1\",30,-1,1);\n",
    "h_lep_z0_DYmumu1->SetFillColor(kBlue);\n",
    "//DYmumu2 histrogram\n",
    "TH1F *h_lep_z0_DYmumu2 = new TH1F(\"h_lep_z0_DYmumu2\",\"h_lep_z0_DYmumu2\",30,-1,1);\n",
    "h_lep_z0_DYmumu2->SetFillColor(kGreen);\n",
    "//DYtautau1 histrogram\n",
    "TH1F *h_lep_z0_DYtautau1 = new TH1F(\"h_lep_z0_DYtautau1\",\"h_lep_z0_DYtautau1\",30,-1,1);\n",
    "h_lep_z0_DYtautau1->SetFillColor(kOrange);\n",
    "//DYtautau2 histrogram\n",
    "TH1F *h_lep_z0_DYtautau2 = new TH1F(\"h_lep_z0_DYtautau2\",\"h_lep_z0_DYtautau2\",30,-1,1);\n",
    "h_lep_z0_DYtautau2->SetFillColor(kPink);\n",
    "\n",
    "//Merged DY EE,MUMU,TAUTAU histogram\n",
    "TH1F *h_lep_z0_mergedDY = new TH1F(\"h_lep_z0_mergedDY\",\"h_lep_z0_mergedDY\",30,-1,1);\n",
    "h_lep_z0_mergedDY->SetFillColor(kGray);"
   ]
  },
  {
   "cell_type": "markdown",
   "metadata": {},
   "source": [
    "Define Z0 histograms for Stop analysis "
   ]
  },
  {
   "cell_type": "code",
   "execution_count": null,
   "metadata": {
    "collapsed": true
   },
   "outputs": [],
   "source": [
    "//Stop tchan_top histrogram \n",
    "TH1F *h_lep_z0_Stchan_top = new TH1F(\"h_lep_z0_Stchan_top\",\"h_lep_z0_Stchan_top\",30,-1,1);\n",
    "h_lep_z0_Stchan_top->SetFillColor(kRed);\n",
    "//Stop tchan_antitop histrogram\n",
    "TH1F *h_lep_z0_Stchan_antitop = new TH1F(\"h_lep_z0_Stchan_antitop\",\"h_lep_z0_Stchan_antitop\",30,-1,1);\n",
    "h_lep_z0_Stchan_antitop->SetFillColor(kYellow);\n",
    "//Stop schan histogram\n",
    "TH1F *h_lep_z0_Sschan = new TH1F(\"h_lep_z0_Sschan \",\"h_lep_z0_Sschan\",30,-1,1);\n",
    "h_lep_z0_Sschan->SetFillColor(kBlue);\n",
    "//Stop wtchan histogram\n",
    "TH1F *h_lep_z0_Swtchan = new TH1F(\"h_lep_z0_Swtchan\",\"h_lep_z0_Swtchan\",30,-1,1);\n",
    "h_lep_z0_Swtchan->SetFillColor(kGreen);\n",
    "\n",
    "//Merged stop \n",
    "TH1F *h_lep_z0_mergedS = new TH1F(\"h_lep_z0_mergedS\",\"h_lep_z0_mergedS\",30,-1,1);\n",
    "h_lep_z0_mergedS->SetFillColor(kGray);"
   ]
  },
  {
   "cell_type": "markdown",
   "metadata": {},
   "source": [
    "Define Z0 histograms for TTBar analysis "
   ]
  },
  {
   "cell_type": "code",
   "execution_count": null,
   "metadata": {
    "collapsed": true
   },
   "outputs": [],
   "source": [
    "//TTBar had histrogram \n",
    "TH1F *h_lep_z0_TThad = new TH1F(\"h_lep_z0_TThad\",\"h_lep_z0_TThad\",30,-1,1);\n",
    "h_lep_z0_TThad->SetFillColor(kRed);\n",
    "//TTBar lep histrogram\n",
    "TH1F *h_lep_z0_TTlep = new TH1F(\"h_lep_z0_TTlep\",\"h_lep_z0_TTlep\",30,-1,1);\n",
    "h_lep_z0_TTlep->SetFillColor(kYellow);\n",
    "\n",
    "//Merged TTBar\n",
    "TH1F *h_lep_z0_mergedTT = new TH1F(\"h_lep_z0_mergedTT\",\"h_lep_z0_mergedTT\",30,-1,1);\n",
    "h_lep_z0_mergedTT->SetFillColor(kGray);"
   ]
  },
  {
   "cell_type": "markdown",
   "metadata": {},
   "source": [
    "Define Z0 histograms for W analysis "
   ]
  },
  {
   "cell_type": "code",
   "execution_count": null,
   "metadata": {
    "collapsed": true
   },
   "outputs": [],
   "source": [
    "//W HISTOGRAMS\n",
    "//WenuW hisogram\n",
    "TH1F *h_lep_z0_WenuW = new TH1F(\"h_lep_z0_WenuW\",\"h_lep_z0_WenuW\",30,-1,1);\n",
    "h_lep_z0_WenuW->SetFillColor(kRed);\n",
    "//WenuJ histrogram - last cut only \n",
    "TH1F *h_lep_z0_WenuJ = new TH1F(\"h_lep_z0_WenuJ\",\"h_lep_z0_WenuJ\",30,-1,1);\n",
    "h_lep_z0_WenuJ->SetFillColor(kYellow);\n",
    "//WenuN histrogram - last cut only \n",
    "TH1F *h_lep_z0_WenuN = new TH1F(\"h_lep_z0_WenuN\",\"h_lep_z0_WenuN\",30,-1,1);\n",
    "h_lep_z0_WenuN->SetFillColor(kBlue);\n",
    "//WmunuW hisogram\n",
    "TH1F *h_lep_z0_WmunuW = new TH1F(\"h_lep_z0_WmunuW\",\"h_lep_z0_WmunuW\",30,-1,1);\n",
    "h_lep_z0_WmunuW->SetFillColor(kRed);\n",
    "//WmunuJ histrogram - last cut only \n",
    "TH1F *h_lep_z0_WmunuJ = new TH1F(\"h_lep_z0_WmunuJ\",\"h_lep_z0_WmunuJ\",30,-1,1);\n",
    "h_lep_z0_WmunuJ->SetFillColor(kYellow);\n",
    "//WmunuN histrogram - last cut only \n",
    "TH1F *h_lep_z0_WmunuN = new TH1F(\"h_lep_z0_WmunuN\",\"h_lep_z0_WmunuN\",30,-1,1);\n",
    "h_lep_z0_WmunuN->SetFillColor(kBlue);\n",
    "//WtaunuW hisogram\n",
    "TH1F *h_lep_z0_WtaunuW = new TH1F(\"h_lep_z0_WtaunuW\",\"h_lep_z0_WtaunuW\",30,-1,1);\n",
    "h_lep_z0_WtaunuW->SetFillColor(kRed);\n",
    "//WtaunuJ histrogram - last cut only \n",
    "TH1F *h_lep_z0_WtaunuJ = new TH1F(\"h_lep_z0_WtaunuJ\",\"h_lep_z0_WtaunuJ\",30,-1,1);\n",
    "h_lep_z0_WtaunuJ->SetFillColor(kYellow);\n",
    "//WtaunuN histrogram - last cut only \n",
    "TH1F *h_lep_z0_WtaunuN = new TH1F(\"h_lep_z0_WtaunuN\",\"h_lep_z0_WtaunuN\",30,-1,1);\n",
    "h_lep_z0_WtaunuN->SetFillColor(kBlue);\n",
    "\n",
    "//Merged Wenu,Wmunu,Wtaunu\n",
    "TH1F *h_lep_z0_mergedW = new TH1F(\"h_lep_z0_mergedW\",\"h_lep_z0_mergedW\",30,-1,1);\n",
    "h_lep_z0_mergedW->SetFillColor(kGreen);"
   ]
  },
  {
   "cell_type": "markdown",
   "metadata": {},
   "source": [
    "Define D0 histograms for Z analysis"
   ]
  },
  {
   "cell_type": "code",
   "execution_count": null,
   "metadata": {
    "collapsed": true
   },
   "outputs": [],
   "source": [
    "//D0 HISTOGRAMS\n",
    "//Zee histrogram - last cut only \n",
    "TH1F *h_lep_d0_Zee = new TH1F(\"h_lep_d0_Zee\",\"h_lep_d0_Zee\",5,-1,1);\n",
    "h_lep_d0_Zee->SetFillColor(kRed);\n",
    "//Zmumu histrogram - last cut only \n",
    "TH1F *h_lep_d0_Zmumu = new TH1F(\"h_lep_d0_Zmumu\",\"h_lep_d0_Zmumu\",5,-1,1);\n",
    "h_lep_d0_Zmumu->SetFillColor(kYellow);\n",
    "//Ztautau histrogram - last cut only \n",
    "TH1F *h_lep_d0_Ztautau = new TH1F(\"h_lep_d0_Ztautau\",\"h_lep_d0_Ztautau\",5,-1,1);\n",
    "h_lep_d0_Ztautau->SetFillColor(kBlue);\n",
    "\n",
    "//Merged Zee,Zmumu,Ztautau\n",
    "TH1F *h_lep_d0_mergedZ = new TH1F(\"h_lep_d0_mergedZ\",\"h_lep_d0_mergedZ\",5,-1,1);\n",
    "h_lep_d0_mergedZ->SetFillColor(kGreen);"
   ]
  },
  {
   "cell_type": "markdown",
   "metadata": {},
   "source": [
    "Define D0 histograms for Diboson analysis"
   ]
  },
  {
   "cell_type": "code",
   "execution_count": null,
   "metadata": {
    "collapsed": true
   },
   "outputs": [],
   "source": [
    "//Diboson WW histrogram\n",
    "TH1F *h_lep_d0_Dww = new TH1F(\"h_lep_d0_Dww\",\"h_lep_d0_Dww\",5,-1,1);\n",
    "h_lep_d0_Dww->SetFillColor(kRed);\n",
    "//Diboson ZZ histrogram\n",
    "TH1F *h_lep_d0_Dzz = new TH1F(\"h_lep_d0_Dzz\",\"h_lep_d0_Dzz\",5,-1,1);\n",
    "h_lep_d0_Dzz->SetFillColor(kYellow);\n",
    "//Diboson WZ histrogram\n",
    "TH1F *h_lep_d0_Dwz = new TH1F(\"h_lep_d0_Dwz\",\"h_lep_d0_Dwz\",5,-1,1);\n",
    "h_lep_d0_Dwz->SetFillColor(kBlue);\n",
    "\n",
    "//Merged Diboson WW,ZZ,WZ histogram\n",
    "TH1F *h_lep_d0_mergedD = new TH1F(\"h_lep_d0_mergedD\",\"h_lep_d0_mergedD\",5,-1,1);\n",
    "h_lep_d0_mergedD->SetFillColor(kGreen);"
   ]
  },
  {
   "cell_type": "markdown",
   "metadata": {},
   "source": [
    "Define D0 histograms for Drell Yan analysis"
   ]
  },
  {
   "cell_type": "code",
   "execution_count": null,
   "metadata": {
    "collapsed": true
   },
   "outputs": [],
   "source": [
    "//DYee1 histrogram\n",
    "TH1F *h_lep_d0_DYee1 = new TH1F(\"h_lep_d0_DYee1\",\"h_lep_d0_DYee1\",5,-1,1);\n",
    "h_lep_d0_DYee1->SetFillColor(kRed);\n",
    "//DYee2 histrogram\n",
    "TH1F *h_lep_d0_DYee2 = new TH1F(\"h_lep_d0_DYee2\",\"h_lep_d0_DYee2\",5,-1,1);\n",
    "h_lep_d0_DYee2->SetFillColor(kYellow);\n",
    "//DYmumu1 histrogram\n",
    "TH1F *h_lep_d0_DYmumu1 = new TH1F(\"h_lep_d0_DYmumu1 \",\"h_lep_d0_DYmumu1\",5,-1,1);\n",
    "h_lep_d0_DYmumu1->SetFillColor(kBlue);\n",
    "//DYmumu2 histrogram\n",
    "TH1F *h_lep_d0_DYmumu2 = new TH1F(\"h_lep_d0_DYmumu2\",\"h_lep_d0_DYmumu2\",5,-1,1);\n",
    "h_lep_d0_DYmumu2->SetFillColor(kGreen);\n",
    "//DYtautau1 histrogram\n",
    "TH1F *h_lep_d0_DYtautau1 = new TH1F(\"h_lep_d0_DYtautau1\",\"h_lep_d0_DYtautau1\",5,-1,1);\n",
    "h_lep_d0_DYtautau1->SetFillColor(kOrange);\n",
    "//DYtautau2 histrogram\n",
    "TH1F *h_lep_d0_DYtautau2 = new TH1F(\"h_lep_d0_DYtautau2\",\"h_lep_d0_DYtautau2\",5,-1,1);\n",
    "h_lep_d0_DYtautau2->SetFillColor(kPink);\n",
    "\n",
    "//Merged DY EE,MUMU,TAUTAU histogram\n",
    "TH1F *h_lep_d0_mergedDY = new TH1F(\"h_lep_d0_mergedDY\",\"h_lep_d0_mergedDY\",5,-1,1);\n",
    "h_lep_d0_mergedDY->SetFillColor(kGray);"
   ]
  },
  {
   "cell_type": "markdown",
   "metadata": {},
   "source": [
    "Define D0 histograms for Stop analysis"
   ]
  },
  {
   "cell_type": "code",
   "execution_count": null,
   "metadata": {
    "collapsed": true
   },
   "outputs": [],
   "source": [
    "//Stop tchan_top histrogram \n",
    "TH1F *h_lep_d0_Stchan_top = new TH1F(\"h_lep_d0_Stchan_top\",\"h_lep_d0_Stchan_top\",5,-1,1);\n",
    "h_lep_d0_Stchan_top->SetFillColor(kRed);\n",
    "//Stop tchan_antitop histrogram\n",
    "TH1F *h_lep_d0_Stchan_antitop = new TH1F(\"h_lep_d0_Stchan_antitop\",\"h_lep_d0_Stchan_antitop\",5,-1,1);\n",
    "h_lep_d0_Stchan_antitop->SetFillColor(kYellow);\n",
    "//Stop schan histogram\n",
    "TH1F *h_lep_d0_Sschan = new TH1F(\"h_lep_d0_Sschan \",\"h_lep_d0_Sschan\",5,-1,1);\n",
    "h_lep_d0_Sschan->SetFillColor(kBlue);\n",
    "//Stop wtchan histogram\n",
    "TH1F *h_lep_d0_Swtchan = new TH1F(\"h_lep_d0_Swtchan\",\"h_lep_d0_Swtchan\",5,-1,1);\n",
    "h_lep_d0_Swtchan->SetFillColor(kGreen);\n",
    "\n",
    "//Merged stop \n",
    "TH1F *h_lep_d0_mergedS = new TH1F(\"h_lep_d0_mergedS\",\"h_lep_d0_mergedS\",5,-1,1);\n",
    "h_lep_d0_mergedS->SetFillColor(kGray);"
   ]
  },
  {
   "cell_type": "markdown",
   "metadata": {},
   "source": [
    "Define D0 histograms for TTBar analysis"
   ]
  },
  {
   "cell_type": "code",
   "execution_count": null,
   "metadata": {
    "collapsed": true
   },
   "outputs": [],
   "source": [
    "//TTBar had histrogram \n",
    "TH1F *h_lep_d0_TThad = new TH1F(\"h_lep_d0_TThad\",\"h_lep_d0_TThad\",5,-1,1);\n",
    "h_lep_d0_TThad->SetFillColor(kRed);\n",
    "//TTBar lep histrogram\n",
    "TH1F *h_lep_d0_TTlep = new TH1F(\"h_lep_d0_TTlep\",\"h_lep_d0_TTlep\",5,-1,1);\n",
    "h_lep_d0_TTlep->SetFillColor(kYellow);\n",
    "\n",
    "//Merged TTBar\n",
    "TH1F *h_lep_d0_mergedTT = new TH1F(\"h_lep_d0_mergedTT\",\"h_lep_d0_mergedTT\",5,-1,1);\n",
    "h_lep_d0_mergedTT->SetFillColor(kGray);"
   ]
  },
  {
   "cell_type": "markdown",
   "metadata": {},
   "source": [
    "Define D0 histograms for W analysis"
   ]
  },
  {
   "cell_type": "code",
   "execution_count": null,
   "metadata": {
    "collapsed": true
   },
   "outputs": [],
   "source": [
    "//W HISTOGRAMS\n",
    "//WenuW hisogram\n",
    "TH1F *h_lep_d0_WenuW = new TH1F(\"h_lep_d0_WenuW\",\"h_lep_d0_WenuW\",5,-1,1);\n",
    "h_lep_d0_WenuW->SetFillColor(kRed);\n",
    "//WenuJ histrogram - last cut only \n",
    "TH1F *h_lep_d0_WenuJ = new TH1F(\"h_lep_d0_WenuJ\",\"h_lep_d0_WenuJ\",5,-1,1);\n",
    "h_lep_d0_WenuJ->SetFillColor(kYellow);\n",
    "//WenuN histrogram - last cut only \n",
    "TH1F *h_lep_d0_WenuN = new TH1F(\"h_lep_d0_WenuN\",\"h_lep_d0_WenuN\",5,-1,1);\n",
    "h_lep_d0_WenuN->SetFillColor(kBlue);\n",
    "//WmunuW hisogram\n",
    "TH1F *h_lep_d0_WmunuW = new TH1F(\"h_lep_d0_WmunuW\",\"h_lep_d0_WmunuW\",5,-1,1);\n",
    "h_lep_d0_WmunuW->SetFillColor(kRed);\n",
    "//WmunuJ histrogram - last cut only \n",
    "TH1F *h_lep_d0_WmunuJ = new TH1F(\"h_lep_d0_WmunuJ\",\"h_lep_d0_WmunuJ\",5,-1,1);\n",
    "h_lep_d0_WmunuJ->SetFillColor(kYellow);\n",
    "//WmunuN histrogram - last cut only \n",
    "TH1F *h_lep_d0_WmunuN = new TH1F(\"h_lep_d0_WmunuN\",\"h_lep_d0_WmunuN\",5,-1,1);\n",
    "h_lep_d0_WmunuN->SetFillColor(kBlue);\n",
    "//WtaunuW hisogram\n",
    "TH1F *h_lep_d0_WtaunuW = new TH1F(\"h_lep_d0_WtaunuW\",\"h_lep_d0_WtaunuW\",5,-1,1);\n",
    "h_lep_d0_WtaunuW->SetFillColor(kRed);\n",
    "//WtaunuJ histrogram - last cut only \n",
    "TH1F *h_lep_d0_WtaunuJ = new TH1F(\"h_lep_d0_WtaunuJ\",\"h_lep_d0_WtaunuJ\",5,-1,1);\n",
    "h_lep_d0_WtaunuJ->SetFillColor(kYellow);\n",
    "//WtaunuN histrogram - last cut only \n",
    "TH1F *h_lep_d0_WtaunuN = new TH1F(\"h_lep_d0_WtaunuN\",\"h_lep_d0_WtaunuN\",5,-1,1);\n",
    "h_lep_d0_WtaunuN->SetFillColor(kBlue);\n",
    "\n",
    "//Merged Wenu,Wmunu,Wtaunu\n",
    "TH1F *h_lep_d0_mergedW = new TH1F(\"h_lep_d0_mergedW\",\"h_lep_d0_mergedW\",5,-1,1);\n",
    "h_lep_d0_mergedW->SetFillColor(kGreen);"
   ]
  },
  {
   "cell_type": "markdown",
   "metadata": {},
   "source": [
    "Define PT Traillep histograms for Z analysis "
   ]
  },
  {
   "cell_type": "code",
   "execution_count": null,
   "metadata": {
    "collapsed": true
   },
   "outputs": [],
   "source": [
    "//PT_TL HISTOGRAMS\n",
    "//Zee histrogram - last cut only \n",
    "TH1F *h_lep_pt_tl_Zee = new TH1F(\"h_lep_pt_tl_Zee\",\"h_lep_pt_tl_Zee\",20,0,200);\n",
    "h_lep_pt_tl_Zee->SetFillColor(kRed);\n",
    "//Zmumu histrogram - last cut only \n",
    "TH1F *h_lep_pt_tl_Zmumu = new TH1F(\"h_lep_pt_tl_Zmumu\",\"h_lep_pt_tl_Zmumu\",20,0,200);\n",
    "h_lep_pt_tl_Zmumu->SetFillColor(kYellow);\n",
    "//Ztautau histrogram - last cut only \n",
    "TH1F *h_lep_pt_tl_Ztautau = new TH1F(\"h_lep_pt_tl_Ztautau\",\"h_lep_pt_tl_Ztautau\",20,0,200);\n",
    "h_lep_pt_tl_Ztautau->SetFillColor(kBlue);\n",
    "\n",
    "//Merged Zee,Zmumu,Ztautau\n",
    "TH1F *h_lep_pt_tl_mergedZ = new TH1F(\"h_lep_pt_tl_mergedZ\",\"h_lep_pt_tl_mergedZ\",20,0,200);\n",
    "h_lep_pt_tl_mergedZ->SetFillColor(kGreen);"
   ]
  },
  {
   "cell_type": "markdown",
   "metadata": {},
   "source": [
    "Define PT Traillep histograms for Diboson analysis "
   ]
  },
  {
   "cell_type": "code",
   "execution_count": null,
   "metadata": {
    "collapsed": true
   },
   "outputs": [],
   "source": [
    "//Diboson WW histrogram\n",
    "TH1F *h_lep_pt_tl_Dww = new TH1F(\"h_lep_pt_tl_Dww\",\"h_lep_pt_tl_Dww\",20,0,200);\n",
    "h_lep_pt_tl_Dww->SetFillColor(kRed);\n",
    "//Diboson ZZ histrogram\n",
    "TH1F *h_lep_pt_tl_Dzz = new TH1F(\"h_lep_pt_tl_Dzz\",\"h_lep_pt_tl_Dzz\",20,0,200);\n",
    "h_lep_pt_tl_Dzz->SetFillColor(kYellow);\n",
    "//Diboson WZ histrogram\n",
    "TH1F *h_lep_pt_tl_Dwz = new TH1F(\"h_lep_pt_tl_Dwz\",\"h_lep_pt_tl_Dwz\",20,0,200);\n",
    "h_lep_pt_tl_Dwz->SetFillColor(kBlue);\n",
    "\n",
    "//Merged Diboson WW,ZZ,WZ histogram\n",
    "TH1F *h_lep_pt_tl_mergedD = new TH1F(\"h_lep_pt_tl_mergedD\",\"h_lep_pt_tl_mergedD\",20,0,200);\n",
    "h_lep_pt_tl_mergedD->SetFillColor(kGreen);"
   ]
  },
  {
   "cell_type": "markdown",
   "metadata": {},
   "source": [
    "Define PT Traillep histograms for Drell Yan analysis "
   ]
  },
  {
   "cell_type": "code",
   "execution_count": null,
   "metadata": {
    "collapsed": true
   },
   "outputs": [],
   "source": [
    "//DYee1 histrogram\n",
    "TH1F *h_lep_pt_tl_DYee1 = new TH1F(\"h_lep_pt_tl_DYee1\",\"h_lep_pt_tl_DYee1\",20,0,200);\n",
    "h_lep_pt_tl_DYee1->SetFillColor(kRed);\n",
    "//DYee2 histrogram\n",
    "TH1F *h_lep_pt_tl_DYee2 = new TH1F(\"h_lep_pt_tl_DYee2\",\"h_lep_pt_tl_DYee2\",20,0,200);\n",
    "h_lep_pt_tl_DYee2->SetFillColor(kYellow);\n",
    "//DYmumu1 histrogram\n",
    "TH1F *h_lep_pt_tl_DYmumu1 = new TH1F(\"h_lep_pt_tl_DYmumu1 \",\"h_lep_pt_tl_DYmumu1\",20,0,200);\n",
    "h_lep_pt_tl_DYmumu1->SetFillColor(kBlue);\n",
    "//DYmumu2 histrogram\n",
    "TH1F *h_lep_pt_tl_DYmumu2 = new TH1F(\"h_lep_pt_tl_DYmumu2\",\"h_lep_pt_tl_DYmumu2\",20,0,200);\n",
    "h_lep_pt_tl_DYmumu2->SetFillColor(kGreen);\n",
    "//DYtautau1 histrogram\n",
    "TH1F *h_lep_pt_tl_DYtautau1 = new TH1F(\"h_lep_pt_tl_DYtautau1\",\"h_lep_pt_tl_DYtautau1\",20,0,200);\n",
    "h_lep_pt_tl_DYtautau1->SetFillColor(kOrange);\n",
    "//DYtautau2 histrogram\n",
    "TH1F *h_lep_pt_tl_DYtautau2 = new TH1F(\"h_lep_pt_tl_DYtautau2\",\"h_lep_pt_tl_DYtautau2\",20,0,200);\n",
    "h_lep_pt_tl_DYtautau2->SetFillColor(kPink);\n",
    "\n",
    "//Merged DY EE,MUMU,TAUTAU histogram\n",
    "TH1F *h_lep_pt_tl_mergedDY = new TH1F(\"h_lep_pt_tl_mergedDY\",\"h_lep_pt_tl_mergedDY\",20,0,200);\n",
    "h_lep_pt_tl_mergedDY->SetFillColor(kGray);"
   ]
  },
  {
   "cell_type": "markdown",
   "metadata": {},
   "source": [
    "Define PT Traillep histograms for Stop analysis "
   ]
  },
  {
   "cell_type": "code",
   "execution_count": null,
   "metadata": {
    "collapsed": true
   },
   "outputs": [],
   "source": [
    "//Stop tchan_top histrogram \n",
    "TH1F *h_lep_pt_tl_Stchan_top = new TH1F(\"h_lep_pt_tl_Stchan_top\",\"h_lep_pt_tl_Stchan_top\",20,0,200);\n",
    "h_lep_pt_tl_Stchan_top->SetFillColor(kRed);\n",
    "//Stop tchan_antitop histrogram\n",
    "TH1F *h_lep_pt_tl_Stchan_antitop = new TH1F(\"h_lep_pt_tl_Stchan_antitop\",\"h_lep_pt_tl_Stchan_antitop\",20,0,200);\n",
    "h_lep_pt_tl_Stchan_antitop->SetFillColor(kYellow);\n",
    "//Stop schan histogram\n",
    "TH1F *h_lep_pt_tl_Sschan = new TH1F(\"h_lep_pt_tl_Sschan \",\"h_lep_pt_tl_Sschan\",20,0,200);\n",
    "h_lep_pt_tl_Sschan->SetFillColor(kBlue);\n",
    "//Stop wtchan histogram\n",
    "TH1F *h_lep_pt_tl_Swtchan = new TH1F(\"h_lep_pt_tl_Swtchan\",\"h_lep_pt_tl_Swtchan\",20,0,200);\n",
    "h_lep_pt_tl_Swtchan->SetFillColor(kGreen);\n",
    "\n",
    "//Merged stop \n",
    "TH1F *h_lep_pt_tl_mergedS = new TH1F(\"h_lep_pt_tl_mergedS\",\"h_lep_pt_tl_mergedS\",20,0,200);\n",
    "h_lep_pt_tl_mergedS->SetFillColor(kGray);"
   ]
  },
  {
   "cell_type": "markdown",
   "metadata": {},
   "source": [
    "Define PT Traillep histograms for TTBar analysis "
   ]
  },
  {
   "cell_type": "code",
   "execution_count": null,
   "metadata": {
    "collapsed": true
   },
   "outputs": [],
   "source": [
    "//TTBar had histrogram \n",
    "TH1F *h_lep_pt_tl_TThad = new TH1F(\"h_lep_pt_tl_TThad\",\"h_lep_pt_tl_TThad\",20,0,200);\n",
    "h_lep_pt_tl_TThad->SetFillColor(kRed);\n",
    "//TTBar lep histrogram\n",
    "TH1F *h_lep_pt_tl_TTlep = new TH1F(\"h_lep_pt_tl_TTlep\",\"h_lep_pt_tl_TTlep\",20,0,200);\n",
    "h_lep_pt_tl_TTlep->SetFillColor(kYellow);\n",
    "\n",
    "//Merged TTBar\n",
    "TH1F *h_lep_pt_tl_mergedTT = new TH1F(\"h_lep_pt_tl_mergedTT\",\"h_lep_pt_tl_mergedTT\",20,0,200);\n",
    "h_lep_pt_tl_mergedTT->SetFillColor(kGray);"
   ]
  },
  {
   "cell_type": "markdown",
   "metadata": {},
   "source": [
    "Define PT Traillep histograms for W analysis "
   ]
  },
  {
   "cell_type": "code",
   "execution_count": null,
   "metadata": {
    "collapsed": true
   },
   "outputs": [],
   "source": [
    "//W HISTOGRAMS\n",
    "//WenuW hisogram\n",
    "TH1F *h_lep_pt_tl_WenuW = new TH1F(\"h_lep_pt_tl_WenuW\",\"h_lep_pt_tl_WenuW\",20,0,200);\n",
    "h_lep_pt_tl_WenuW->SetFillColor(kRed);\n",
    "//WenuJ histrogram - last cut only \n",
    "TH1F *h_lep_pt_tl_WenuJ = new TH1F(\"h_lep_pt_tl_WenuJ\",\"h_lep_pt_tl_WenuJ\",20,0,200);\n",
    "h_lep_pt_tl_WenuJ->SetFillColor(kYellow);\n",
    "//WenuN histrogram - last cut only \n",
    "TH1F *h_lep_pt_tl_WenuN = new TH1F(\"h_lep_pt_tl_WenuN\",\"h_lep_pt_tl_WenuN\",20,0,200);\n",
    "h_lep_pt_tl_WenuN->SetFillColor(kBlue);\n",
    "//WmunuW hisogram\n",
    "TH1F *h_lep_pt_tl_WmunuW = new TH1F(\"h_lep_pt_tl_WmunuW\",\"h_lep_pt_tl_WmunuW\",20,0,200);\n",
    "h_lep_pt_tl_WmunuW->SetFillColor(kRed);\n",
    "//WmunuJ histrogram - last cut only \n",
    "TH1F *h_lep_pt_tl_WmunuJ = new TH1F(\"h_lep_pt_tl_WmunuJ\",\"h_lep_pt_tl_WmunuJ\",20,0,200);\n",
    "h_lep_pt_tl_WmunuJ->SetFillColor(kYellow);\n",
    "//WmunuN histrogram - last cut only \n",
    "TH1F *h_lep_pt_tl_WmunuN = new TH1F(\"h_lep_pt_tl_WmunuN\",\"h_lep_pt_tl_WmunuN\",20,0,200);\n",
    "h_lep_pt_tl_WmunuN->SetFillColor(kBlue);\n",
    "//WtaunuW hisogram\n",
    "TH1F *h_lep_pt_tl_WtaunuW = new TH1F(\"h_lep_pt_tl_WtaunuW\",\"h_lep_pt_tl_WtaunuW\",20,0,200);\n",
    "h_lep_pt_tl_WtaunuW->SetFillColor(kRed);\n",
    "//WtaunuJ histrogram - last cut only \n",
    "TH1F *h_lep_pt_tl_WtaunuJ = new TH1F(\"h_lep_pt_tl_WtaunuJ\",\"h_lep_pt_tl_WtaunuJ\",20,0,200);\n",
    "h_lep_pt_tl_WtaunuJ->SetFillColor(kYellow);\n",
    "//WtaunuN histrogram - last cut only \n",
    "TH1F *h_lep_pt_tl_WtaunuN = new TH1F(\"h_lep_pt_tl_WtaunuN\",\"h_lep_pt_tl_WtaunuN\",20,0,200);\n",
    "h_lep_pt_tl_WtaunuN->SetFillColor(kBlue);\n",
    "\n",
    "//Merged Wenu,Wmunu,Wtaunu\n",
    "TH1F *h_lep_pt_tl_mergedW = new TH1F(\"h_lep_pt_tl_mergedW\",\"h_lep_pt_tl_mergedW\",20,0,200);\n",
    "h_lep_pt_tl_mergedW->SetFillColor(kGreen);"
   ]
  },
  {
   "cell_type": "markdown",
   "metadata": {},
   "source": [
    "Define ETA Traillep histograms for Z analysis "
   ]
  },
  {
   "cell_type": "code",
   "execution_count": null,
   "metadata": {
    "collapsed": true
   },
   "outputs": [],
   "source": [
    "//ETA_TL HISTOGRAMS\n",
    "//Zee histrogram - last cut only \n",
    "TH1F *h_lep_eta_tl_Zee = new TH1F(\"h_lep_eta_tl_Zee\",\"h_lep_eta_tl_Zee\",33,-3,3);\n",
    "h_lep_eta_tl_Zee->SetFillColor(kRed);\n",
    "//Zmumu histrogram - last cut only \n",
    "TH1F *h_lep_eta_tl_Zmumu = new TH1F(\"h_lep_eta_tl_Zmumu\",\"h_lep_eta_tl_Zmumu\",33,-3,3);\n",
    "h_lep_eta_tl_Zmumu->SetFillColor(kYellow);\n",
    "//Ztautau histrogram - last cut only \n",
    "TH1F *h_lep_eta_tl_Ztautau = new TH1F(\"h_lep_eta_tl_Ztautau\",\"h_lep_eta_tl_Ztautau\",33,-3,3);\n",
    "h_lep_eta_tl_Ztautau->SetFillColor(kBlue);\n",
    "\n",
    "//Merged Zee,Zmumu,Ztautau\n",
    "TH1F *h_lep_eta_tl_mergedZ = new TH1F(\"h_lep_eta_tl_mergedZ\",\"h_lep_eta_tl_mergedZ\",33,-3,3);\n",
    "h_lep_eta_tl_mergedZ->SetFillColor(kGreen);"
   ]
  },
  {
   "cell_type": "markdown",
   "metadata": {},
   "source": [
    "Define ETA Traillep histograms for Diboson analysis"
   ]
  },
  {
   "cell_type": "code",
   "execution_count": null,
   "metadata": {
    "collapsed": true
   },
   "outputs": [],
   "source": [
    "//Diboson WW histrogram\n",
    "TH1F *h_lep_eta_tl_Dww = new TH1F(\"h_lep_eta_tl_Dww\",\"h_lep_eta_tl_Dww\",33,-3,3);\n",
    "h_lep_eta_tl_Dww->SetFillColor(kRed);\n",
    "//Diboson ZZ histrogram\n",
    "TH1F *h_lep_eta_tl_Dzz = new TH1F(\"h_lep_eta_tl_Dzz\",\"h_lep_eta_tl_Dzz\",33,-3,3);\n",
    "h_lep_eta_tl_Dzz->SetFillColor(kYellow);\n",
    "//Diboson WZ histrogram\n",
    "TH1F *h_lep_eta_tl_Dwz = new TH1F(\"h_lep_eta_tl_Dwz\",\"h_lep_eta_tl_Dwz\",33,-3,3);\n",
    "h_lep_eta_tl_Dwz->SetFillColor(kBlue);\n",
    "\n",
    "//Merged Dibson WW,ZZ,WZ histogram\n",
    "TH1F *h_lep_eta_tl_mergedD = new TH1F(\"h_lep_eta_tl_mergedD\",\"h_lep_eta_tl_mergedD\",33,-3,3);\n",
    "h_lep_eta_tl_mergedD->SetFillColor(kGreen);"
   ]
  },
  {
   "cell_type": "markdown",
   "metadata": {},
   "source": [
    "Define ETA Traillep histograms for Drell Yan analysis"
   ]
  },
  {
   "cell_type": "code",
   "execution_count": null,
   "metadata": {
    "collapsed": true
   },
   "outputs": [],
   "source": [
    "//DYee1 histrogram\n",
    "TH1F *h_lep_eta_tl_DYee1 = new TH1F(\"h_lep_eta_tl_DYee1\",\"h_lep_eta_tl_DYee1\",33,-3,3);\n",
    "h_lep_eta_tl_DYee1->SetFillColor(kRed);\n",
    "//DYee2 histrogram\n",
    "TH1F *h_lep_eta_tl_DYee2 = new TH1F(\"h_lep_eta_tl_DYee2\",\"h_lep_eta_tl_DYee2\",33,-3,3);\n",
    "h_lep_eta_tl_DYee2->SetFillColor(kYellow);\n",
    "//DYmumu1 histrogram\n",
    "TH1F *h_lep_eta_tl_DYmumu1 = new TH1F(\"h_lep_eta_tl_DYmumu1\",\"h_lep_eta_tl_DYmumu1\",33,-3,3);\n",
    "h_lep_eta_tl_DYmumu1->SetFillColor(kBlue);\n",
    "//DYmumu2 histrogram\n",
    "TH1F *h_lep_eta_tl_DYmumu2 = new TH1F(\"h_lep_eta_tl_DYmumu2\",\"h_lep_eta_tl_DYmumu2\",33,-3,3);\n",
    "h_lep_eta_tl_DYmumu2->SetFillColor(kGreen);\n",
    "//DYtautau1 histrogram\n",
    "TH1F *h_lep_eta_tl_DYtautau1 = new TH1F(\"h_lep_eta_tl_DYtautau1\",\"h_lep_eta_tl_DYtautau1\",33,-3,3);\n",
    "h_lep_eta_tl_DYtautau1->SetFillColor(kOrange);\n",
    "//DYtautau2 histrogram\n",
    "TH1F *h_lep_eta_tl_DYtautau2 = new TH1F(\"h_lep_eta_tl_DYtautau2\",\"h_lep_eta_tl_DYtautau2\",33,-3,3);\n",
    "h_lep_eta_tl_DYtautau2->SetFillColor(kPink);\n",
    "\n",
    "//Merged DY EE,MUMU,TAUTAU histogram\n",
    "TH1F *h_lep_eta_tl_mergedDY = new TH1F(\"h_lep_eta_tl_mergedDY\",\"h_lep_eta_tl_mergedDY\",33,-3,3);\n",
    "h_lep_eta_tl_mergedDY->SetFillColor(kGray);"
   ]
  },
  {
   "cell_type": "markdown",
   "metadata": {},
   "source": [
    "Define ETA Traillep histograms for Stop analysis"
   ]
  },
  {
   "cell_type": "code",
   "execution_count": null,
   "metadata": {
    "collapsed": true
   },
   "outputs": [],
   "source": [
    "//Stop tchan_top histrogram \n",
    "TH1F *h_lep_eta_tl_Stchan_top = new TH1F(\"h_lep_eta_tl_Stchan_top\",\"h_lep_eta_tl_Stchan_top\",33,-3,3);\n",
    "h_lep_eta_tl_Stchan_top->SetFillColor(kRed);\n",
    "//Stop tchan_antitop histrogram\n",
    "TH1F *h_lep_eta_tl_Stchan_antitop = new TH1F(\"h_lep_eta_tl_Stchan_antitop\",\"h_lep_eta_tl_Stchan_antitop\",33,-3,3);\n",
    "h_lep_eta_tl_Stchan_antitop->SetFillColor(kYellow);\n",
    "//Stop schan histogram\n",
    "TH1F *h_lep_eta_tl_Sschan = new TH1F(\"h_lep_eta_tl_Sschan \",\"h_lep_eta_tl_Sschan\",33,-3,3);\n",
    "h_lep_eta_tl_Sschan->SetFillColor(kBlue);\n",
    "//Stop wtchan histogram\n",
    "TH1F *h_lep_eta_tl_Swtchan = new TH1F(\"h_lep_eta_tl_Swtchan\",\"h_lep_eta_tl_Swtchan\",33,-3,3);\n",
    "h_lep_eta_tl_Swtchan->SetFillColor(kGreen);\n",
    "\n",
    "//Merged stop \n",
    "TH1F *h_lep_eta_tl_mergedS = new TH1F(\"h_lep_eta_tl_mergedS\",\"h_lep_eta_tl_mergedS\",33,-3,3);\n",
    "h_lep_eta_tl_mergedS->SetFillColor(kGray);"
   ]
  },
  {
   "cell_type": "markdown",
   "metadata": {},
   "source": [
    "Define ETA Traillep histograms for TTBar analysis"
   ]
  },
  {
   "cell_type": "code",
   "execution_count": null,
   "metadata": {
    "collapsed": true
   },
   "outputs": [],
   "source": [
    "//TTBar had histrogram \n",
    "TH1F *h_lep_eta_tl_TThad = new TH1F(\"h_lep_eta_tl_TThad\",\"h_lep_eta_tl_TThad\",33,-3,3);\n",
    "h_lep_eta_tl_TThad->SetFillColor(kRed);\n",
    "//TTBar lep histrogram\n",
    "TH1F *h_lep_eta_tl_TTlep = new TH1F(\"h_lep_eta_tl_TTlep\",\"h_lep_eta_tl_TTlep\",33,-3,3);\n",
    "h_lep_eta_tl_TTlep->SetFillColor(kYellow);\n",
    "\n",
    "//Merged TTBar\n",
    "TH1F *h_lep_eta_tl_mergedTT = new TH1F(\"h_lep_eta_tl_mergedTT\",\"h_lep_eta_tl_mergedTT\",33,-3,3);\n",
    "h_lep_eta_tl_mergedTT->SetFillColor(kGray);"
   ]
  },
  {
   "cell_type": "markdown",
   "metadata": {},
   "source": [
    "Define ETA Traillep histograms for W analysis"
   ]
  },
  {
   "cell_type": "code",
   "execution_count": null,
   "metadata": {
    "collapsed": true
   },
   "outputs": [],
   "source": [
    "//W HISTOGRAMS\n",
    "//WenuW hisogram\n",
    "TH1F *h_lep_eta_tl_WenuW = new TH1F(\"h_lep_tl_eta_WenuW\",\"h_lep_eta_tl_WenuW\",33,-3,3);\n",
    "h_lep_eta_WenuW->SetFillColor(kRed);\n",
    "//WenuJ histrogram - last cut only \n",
    "TH1F *h_lep_eta_tl_WenuJ = new TH1F(\"h_lep_eta_tl_WenuJ\",\"h_lep_eta_tl_WenuJ\",33,-3,3);\n",
    "h_lep_eta_tl_WenuJ->SetFillColor(kYellow);\n",
    "//WenuN histrogram - last cut only \n",
    "TH1F *h_lep_eta_tl_WenuN = new TH1F(\"h_lep_eta_tl_WenuN\",\"h_lep_eta_tl_WenuN\",33,-3,3);\n",
    "h_lep_eta_tl_WenuN->SetFillColor(kBlue);\n",
    "//WmunuW hisogram\n",
    "TH1F *h_lep_eta_tl_WmunuW = new TH1F(\"h_lep_eta_tl_WmunuW\",\"h_lep_eta_tl_WmunuW\",33,-3,3);\n",
    "h_lep_eta_tl_WmunuW->SetFillColor(kRed);\n",
    "//WmunuJ histrogram - last cut only \n",
    "TH1F *h_lep_eta_tl_WmunuJ = new TH1F(\"h_lep_eta_tl_WmunuJ\",\"h_lep_eta_tl_WmunuJ\",33,-3,3);\n",
    "h_lep_eta_tl_WmunuJ->SetFillColor(kYellow);\n",
    "//WmunuN histrogram - last cut only \n",
    "TH1F *h_lep_eta_tl_WmunuN = new TH1F(\"h_lep_eta_tl_WmunuN\",\"h_lep_eta_tl_WmunuN\",33,-3,3);\n",
    "h_lep_eta_tl_WmunuN->SetFillColor(kBlue);\n",
    "//WtaunuW hisogram\n",
    "TH1F *h_lep_eta_tl_WtaunuW = new TH1F(\"h_lep_eta_tl_WtaunuW\",\"h_lep_eta_tl_WtaunuW\",33,-3,3);\n",
    "h_lep_eta_tl_WtaunuW->SetFillColor(kRed);\n",
    "//WtaunuJ histrogram - last cut only \n",
    "TH1F *h_lep_eta_tl_WtaunuJ = new TH1F(\"h_lep_eta_tl_WtaunuJ\",\"h_lep_eta_tl_WtaunuJ\",33,-3,3);\n",
    "h_lep_eta_tl_WtaunuJ->SetFillColor(kYellow);\n",
    "//WtaunuN histrogram - last cut only \n",
    "TH1F *h_lep_eta_tl_WtaunuN = new TH1F(\"h_lep_eta_tl_WtaunuN\",\"h_lep_eta_tl_WtaunuN\",33,-3,3);\n",
    "h_lep_eta_tl_WtaunuN->SetFillColor(kBlue);\n",
    "\n",
    "//Merged Wenu,Wmunu,Wtaunu\n",
    "TH1F *h_lep_eta_tl_mergedW = new TH1F(\"h_lep_eta_tl_mergedW\",\"h_lep_eta_tl_mergedW\",33,-3,3);\n",
    "h_lep_eta_tl_mergedW->SetFillColor(kGreen);"
   ]
  },
  {
   "cell_type": "markdown",
   "metadata": {},
   "source": [
    "Define PHI Traillep histograms for Z analysis "
   ]
  },
  {
   "cell_type": "code",
   "execution_count": null,
   "metadata": {
    "collapsed": true
   },
   "outputs": [],
   "source": [
    "//PHI_TL HISTOGRAMS\n",
    "//Zee histrogram - last cut only \n",
    "TH1F *h_lep_phi_tl_Zee = new TH1F(\"h_lep_phi_tl_Zee\",\"h_lep_phi_tl_Zee\",40,-4,4);\n",
    "h_lep_phi_tl_Zee->SetFillColor(kRed);\n",
    "//Zmumu histrogram - last cut only \n",
    "TH1F *h_lep_phi_tl_Zmumu = new TH1F(\"h_lep_phi_tl_Zmumu\",\"h_lep_phi_tl_Zmumu\",40,-4,4);\n",
    "h_lep_phi_tl_Zmumu->SetFillColor(kYellow);\n",
    "//Ztautau histrogram - last cut only \n",
    "TH1F *h_lep_phi_tl_Ztautau = new TH1F(\"h_lep_phi_tl_Ztautau\",\"h_lep_phi_tl_Ztautau\",40,-4,4);\n",
    "h_lep_phi_tl_Ztautau->SetFillColor(kBlue);\n",
    "\n",
    "//Merged Zee,Zmumu,Ztautau\n",
    "TH1F *h_lep_phi_tl_mergedZ = new TH1F(\"h_lep_phi_tl_mergedZ\",\"h_lep_phi_tl_mergedZ\",40,-4,4);\n",
    "h_lep_phi_tl_mergedZ->SetFillColor(kGreen);"
   ]
  },
  {
   "cell_type": "markdown",
   "metadata": {},
   "source": [
    "Define PHI Traillep histograms for Diboson analysis "
   ]
  },
  {
   "cell_type": "code",
   "execution_count": null,
   "metadata": {
    "collapsed": true
   },
   "outputs": [],
   "source": [
    "//Diboson WW histrogram\n",
    "TH1F *h_lep_phi_tl_Dww = new TH1F(\"h_lep_phi_tl_Dww\",\"h_lep_phi_tl_Dww\",40,-4,4);\n",
    "h_lep_phi_tl_Dww->SetFillColor(kRed);\n",
    "//Diboson ZZ histrogram\n",
    "TH1F *h_lep_phi_tl_Dzz = new TH1F(\"h_lep_phi_tl_Dzz\",\"h_lep_phi_tl_Dzz\",40,-4,4);\n",
    "h_lep_phi_tl_Dzz->SetFillColor(kYellow);\n",
    "//Diboson WZ histrogram\n",
    "TH1F *h_lep_phi_tl_Dwz = new TH1F(\"h_lep_phi_tl_Dwz\",\"h_lep_phi_tl_Dwz\",40,-4,4);\n",
    "h_lep_phi_tl_Dwz->SetFillColor(kBlue);\n",
    "\n",
    "//Merged Diboson WW,ZZ,WZ histogram\n",
    "TH1F *h_lep_phi_tl_mergedD = new TH1F(\"h_lep_phi_tl_mergedD\",\"h_lep_phi_tl_mergedD\",40,-4,4);\n",
    "h_lep_phi_tl_mergedD->SetFillColor(kGreen);"
   ]
  },
  {
   "cell_type": "markdown",
   "metadata": {},
   "source": [
    "Define PHI Traillep histograms for Drell Yan analysis "
   ]
  },
  {
   "cell_type": "code",
   "execution_count": null,
   "metadata": {
    "collapsed": true
   },
   "outputs": [],
   "source": [
    "//DYee1 histrogram\n",
    "TH1F *h_lep_phi_tl_DYee1 = new TH1F(\"h_lep_phi_tl_DYee1\",\"h_lep_phi_tl_DYee1\",40,-4,4);\n",
    "h_lep_phi_tl_DYee1->SetFillColor(kRed);\n",
    "//DYee2 histrogram\n",
    "TH1F *h_lep_phi_tl_DYee2 = new TH1F(\"h_lep_phi_tl_DYee2\",\"h_lep_phi_tl_DYee2\",40,-4,4);\n",
    "h_lep_phi_tl_DYee2->SetFillColor(kYellow);\n",
    "//DYmumu1 histrogram\n",
    "TH1F *h_lep_phi_tl_DYmumu1 = new TH1F(\"h_lep_phi_tl_DYmumu1 \",\"h_lep_phi_tl_DYmumu1\",40,-4,4);\n",
    "h_lep_phi_tl_DYmumu1->SetFillColor(kBlue);\n",
    "//DYmumu2 histrogram\n",
    "TH1F *h_lep_phi_tl_DYmumu2 = new TH1F(\"h_lep_phi_tl_DYmumu2\",\"h_lep_phi_tl_DYmumu2\",40,-4,4);\n",
    "h_lep_phi_tl_DYmumu2->SetFillColor(kGreen);\n",
    "//DYtautau1 histrogram\n",
    "TH1F *h_lep_phi_tl_DYtautau1 = new TH1F(\"h_lep_phi_tl_DYtautau1\",\"h_lep_phi_tl_DYtautau1\",40,-4,4);\n",
    "h_lep_phi_tl_DYtautau1->SetFillColor(kOrange);\n",
    "//DYtautau2 histrogram\n",
    "TH1F *h_lep_phi_tl_DYtautau2 = new TH1F(\"h_lep_phi_tl_DYtautau2\",\"h_lep_phi_tl_DYtautau2\",40,-4,4);\n",
    "h_lep_phi_tl_DYtautau2->SetFillColor(kPink);\n",
    "\n",
    "//Merged DY EE,MUMU,TAUTAU histogram\n",
    "TH1F *h_lep_phi_tl_mergedDY = new TH1F(\"h_lep_phi_tl_mergedDY\",\"h_lep_phi_tl_mergedDY\",40,-4,4);\n",
    "h_lep_phi_tl_mergedDY->SetFillColor(kGray);"
   ]
  },
  {
   "cell_type": "markdown",
   "metadata": {},
   "source": [
    "Define PHI Traillep histograms for Stop analysis "
   ]
  },
  {
   "cell_type": "code",
   "execution_count": null,
   "metadata": {
    "collapsed": true
   },
   "outputs": [],
   "source": [
    "//Stop tchan_top histrogram \n",
    "TH1F *h_lep_phi_tl_Stchan_top = new TH1F(\"h_lep_phi_tl_Stchan_top\",\"h_lep_phi_tl_Stchan_top\",40,-4,4);\n",
    "h_lep_phi_tl_Stchan_top->SetFillColor(kRed);\n",
    "//Stop tchan_antitop histrogram\n",
    "TH1F *h_lep_phi_tl_Stchan_antitop = new TH1F(\"h_lep_phi_tl_Stchan_antitop\",\"h_lep_phi_tl_Stchan_antitop\",40,-4,4);\n",
    "h_lep_phi_tl_Stchan_antitop->SetFillColor(kYellow);\n",
    "//Stop schan histogram\n",
    "TH1F *h_lep_phi_tl_Sschan = new TH1F(\"h_lep_phi_tl_Sschan \",\"h_lep_phi_tl_Sschan\",40,-4,4);\n",
    "h_lep_phi_tl_Sschan->SetFillColor(kBlue);\n",
    "//Stop wtchan histogram\n",
    "TH1F *h_lep_phi_tl_Swtchan = new TH1F(\"h_lep_phi_tl_Swtchan\",\"h_lep_phi_tl_Swtchan\",40,-4,4);\n",
    "h_lep_phi_tl_Swtchan->SetFillColor(kGreen);\n",
    "\n",
    "//Merged stop \n",
    "TH1F *h_lep_phi_tl_mergedS = new TH1F(\"h_lep_phi_tl_mergedS\",\"h_lep_phi_tl_mergedS\",40,-4,4);\n",
    "h_lep_phi_tl_mergedS->SetFillColor(kGray);"
   ]
  },
  {
   "cell_type": "markdown",
   "metadata": {},
   "source": [
    "Define PHI Traillep histograms for TTBar analysis "
   ]
  },
  {
   "cell_type": "code",
   "execution_count": null,
   "metadata": {
    "collapsed": true
   },
   "outputs": [],
   "source": [
    "//TTBar had histrogram \n",
    "TH1F *h_lep_phi_tl_TThad = new TH1F(\"h_lep_phi_tl_TThad\",\"h_lep_phi_tl_TThad\",40,-4,4);\n",
    "h_lep_phi_tl_TThad->SetFillColor(kRed);\n",
    "//TTBar lep histrogram\n",
    "TH1F *h_lep_phi_tl_TTlep = new TH1F(\"h_lep_phi_tl_TTlep\",\"h_lep_phi_tl_TTlep\",40,-4,4);\n",
    "h_lep_phi_tl_TTlep->SetFillColor(kYellow);\n",
    "\n",
    "//Merged TTBar\n",
    "TH1F *h_lep_phi_tl_mergedTT = new TH1F(\"h_lep_phi_tl_mergedTT\",\"h_lep_phi_tl_mergedTT\",40,-4,4);\n",
    "h_lep_phi_tl_mergedTT->SetFillColor(kGray);"
   ]
  },
  {
   "cell_type": "markdown",
   "metadata": {},
   "source": [
    "Define PHI Traillep histograms for W analysis "
   ]
  },
  {
   "cell_type": "code",
   "execution_count": null,
   "metadata": {
    "collapsed": true
   },
   "outputs": [],
   "source": [
    "//W HISTOGRAMS\n",
    "//WenuW hisogram\n",
    "TH1F *h_lep_phi_tl_WenuW = new TH1F(\"h_lep_phi_tl_WenuW\",\"h_lep_phi_tl_WenuW\",40,-4,4);\n",
    "h_lep_phi_tl_WenuW->SetFillColor(kRed);\n",
    "//WenuJ histrogram - last cut only \n",
    "TH1F *h_lep_phi_tl_WenuJ = new TH1F(\"h_lep_phi_tl_WenuJ\",\"h_lep_phi_tl_WenuJ\",40,-4,4);\n",
    "h_lep_phi_tl_WenuJ->SetFillColor(kYellow);\n",
    "//WenuN histrogram - last cut only \n",
    "TH1F *h_lep_phi_tl_WenuN = new TH1F(\"h_lep_phi_tl_WenuN\",\"h_lep_phi_tl_WenuN\",40,-4,4);\n",
    "h_lep_phi_tl_WenuN->SetFillColor(kBlue);\n",
    "//WmunuW hisogram\n",
    "TH1F *h_lep_phi_tl_WmunuW = new TH1F(\"h_lep_phi_tl_WmunuW\",\"h_lep_phi_tl_WmunuW\",40,-4,4);\n",
    "h_lep_phi_tl_WmunuW->SetFillColor(kRed);\n",
    "//WmunuJ histrogram - last cut only \n",
    "TH1F *h_lep_phi_tl_WmunuJ = new TH1F(\"h_lep_phi_tl_WmunuJ\",\"h_lep_phi_tl_WmunuJ\",40,-4,4);\n",
    "h_lep_phi_tl_WmunuJ->SetFillColor(kYellow);\n",
    "//WmunuN histrogram - last cut only \n",
    "TH1F *h_lep_phi_tl_WmunuN = new TH1F(\"h_lep_phi_tl_WmunuN\",\"h_lep_phi_tl_WmunuN\",40,-4,4);\n",
    "h_lep_phi_tl_WmunuN->SetFillColor(kBlue);\n",
    "//WtaunuW hisogram\n",
    "TH1F *h_lep_phi_tl_WtaunuW = new TH1F(\"h_lep_phi_tl_WtaunuW\",\"h_lep_phi_tl_WtaunuW\",40,-4,4);\n",
    "h_lep_phi_tl_WtaunuW->SetFillColor(kRed);\n",
    "//WtaunuJ histrogram - last cut only \n",
    "TH1F *h_lep_phi_tl_WtaunuJ = new TH1F(\"h_lep_phi_tl_WtaunuJ\",\"h_lep_phi_tl_WtaunuJ\",40,-4,4);\n",
    "h_lep_phi_tl_WtaunuJ->SetFillColor(kYellow);\n",
    "//WtaunuN histrogram - last cut only \n",
    "TH1F *h_lep_phi_tl_WtaunuN = new TH1F(\"h_lep_phi_tl_WtaunuN\",\"h_lep_phi_tl_WtaunuN\",40,-4,4);\n",
    "h_lep_phi_tl_WtaunuN->SetFillColor(kBlue);\n",
    "\n",
    "//Merged Wenu,Wmunu,Wtaunu\n",
    "TH1F *h_lep_phi_tl_mergedW = new TH1F(\"h_lep_phi_tl_mergedW\",\"h_lep_phi_tl_mergedW\",40,-4,4);\n",
    "h_lep_phi_tl_mergedW->SetFillColor(kGreen);"
   ]
  },
  {
   "cell_type": "markdown",
   "metadata": {
    "collapsed": false
   },
   "source": [
    "Define ENERGY Traillep histograms for Z analysis "
   ]
  },
  {
   "cell_type": "code",
   "execution_count": null,
   "metadata": {
    "collapsed": true
   },
   "outputs": [],
   "source": [
    "//E_TL HISTOGRAMS\n",
    "//Zee histrogram - last cut only \n",
    "TH1F *h_lep_E_tl_Zee = new TH1F(\"h_lep_E_tl_Zee\",\"h_lep_E_tl_Zee\",30,0,1000);\n",
    "h_lep_E_tl_Zee->SetFillColor(kRed);\n",
    "//Zmumu histrogram - last cut only \n",
    "TH1F *h_lep_E_tl_Zmumu = new TH1F(\"h_lep_E_tl_Zmumu\",\"h_lep_E_tl_Zmumu\",30,0,1000);\n",
    "h_lep_E_tl_Zmumu->SetFillColor(kYellow);\n",
    "//Ztautau histrogram - last cut only \n",
    "TH1F *h_lep_E_tl_Ztautau = new TH1F(\"h_lep_E_tl_Ztautau\",\"h_lep_E_tl_Ztautau\",30,0,1000);\n",
    "h_lep_E_tl_Ztautau->SetFillColor(kBlue);\n",
    "\n",
    "//Merged Zee,Zmumu,Ztautau\n",
    "TH1F *h_lep_E_tl_mergedZ = new TH1F(\"h_lep_E_tl_mergedZ\",\"h_lep_E_tl_mergedZ\",30,0,1000);\n",
    "h_lep_E_tl_mergedZ->SetFillColor(kGreen);"
   ]
  },
  {
   "cell_type": "markdown",
   "metadata": {},
   "source": [
    "Define ENERGY Traillep histograms for Diboson analysis"
   ]
  },
  {
   "cell_type": "code",
   "execution_count": null,
   "metadata": {
    "collapsed": true
   },
   "outputs": [],
   "source": [
    "//Diboson WW histrogram\n",
    "TH1F *h_lep_E_tl_Dww = new TH1F(\"h_lep_E_tl_Dww\",\"h_lep_E_tl_Dww\",30,0,1000);\n",
    "h_lep_E_tl_Dww->SetFillColor(kRed);\n",
    "//Diboson ZZ histrogram\n",
    "TH1F *h_lep_E_tl_Dzz = new TH1F(\"h_lep_E_tl_Dzz\",\"h_lep_E_tl_Dzz\",30,0,1000);\n",
    "h_lep_E_tl_Dzz->SetFillColor(kYellow);\n",
    "//Diboson WZ histrogram\n",
    "TH1F *h_lep_E_tl_Dwz = new TH1F(\"h_lep_E_tl_Dwz\",\"h_lep_E_tl_Dwz\",30,0,1000);\n",
    "h_lep_E_tl_Dwz->SetFillColor(kBlue);\n",
    "\n",
    "//Merged Diboson WW,ZZ,WZ histogram\n",
    "TH1F *h_lep_E_tl_mergedD = new TH1F(\"h_lep_E_tl_mergedD\",\"h_lep_E_tl_mergedD\",30,0,1000);\n",
    "h_lep_E_tl_mergedD->SetFillColor(kGreen);"
   ]
  },
  {
   "cell_type": "markdown",
   "metadata": {},
   "source": [
    "Define ENERGY Traillep histograms for Drell Yan analysis"
   ]
  },
  {
   "cell_type": "code",
   "execution_count": null,
   "metadata": {
    "collapsed": true
   },
   "outputs": [],
   "source": [
    "//DYee1 histrogram\n",
    "TH1F *h_lep_E_tl_DYee1 = new TH1F(\"h_lep_E_tl_DYee1\",\"h_lep_E_tl_DYee1\",30,0,1000);\n",
    "h_lep_E_tl_DYee1->SetFillColor(kRed);\n",
    "//DYee2 histrogram\n",
    "TH1F *h_lep_E_tl_DYee2 = new TH1F(\"h_lep_E_tl_DYee2\",\"h_lep_E_tl_DYee2\",30,0,1000);\n",
    "h_lep_E_tl_DYee2->SetFillColor(kYellow);\n",
    "//DYmumu1 histrogram\n",
    "TH1F *h_lep_E_tl_DYmumu1 = new TH1F(\"h_lep_E_tl_DYmumu1 \",\"h_lep_E_tl_DYmumu1\",30,0,1000);\n",
    "h_lep_E_tl_DYmumu1->SetFillColor(kBlue);\n",
    "//DYmumu2 histrogram\n",
    "TH1F *h_lep_E_tl_DYmumu2 = new TH1F(\"h_lep_E_tl_DYmumu2\",\"h_lep_E_tl_DYmumu2\",30,0,1000);\n",
    "h_lep_E_tl_DYmumu2->SetFillColor(kGreen);\n",
    "//DYtautau1 histrogram\n",
    "TH1F *h_lep_E_tl_DYtautau1 = new TH1F(\"h_lep_E_tl_DYtautau1\",\"h_lep_E_tl_DYtautau1\",30,0,1000);\n",
    "h_lep_E_tl_DYtautau1->SetFillColor(kOrange);\n",
    "//DYtautau2 histrogram\n",
    "TH1F *h_lep_E_tl_DYtautau2 = new TH1F(\"h_lep_E_tl_DYtautau2\",\"h_lep_E_tl_DYtautau2\",30,0,1000);\n",
    "h_lep_E_tl_DYtautau2->SetFillColor(kPink);\n",
    "\n",
    "//Merged DY EE,MUMU,TAUTAU histogram\n",
    "TH1F *h_lep_E_tl_mergedDY = new TH1F(\"h_lep_E_tl_mergedDY\",\"h_lep_E_tl_mergedDY\",30,0,1000);\n",
    "h_lep_E_tl_mergedDY->SetFillColor(kGray);"
   ]
  },
  {
   "cell_type": "markdown",
   "metadata": {},
   "source": [
    "Define ENERGY Traillep histograms for Stop analysis"
   ]
  },
  {
   "cell_type": "code",
   "execution_count": null,
   "metadata": {
    "collapsed": true
   },
   "outputs": [],
   "source": [
    "//Stop tchan_top histrogram \n",
    "TH1F *h_lep_E_tl_Stchan_top = new TH1F(\"h_lep_E_tl_Stchan_top\",\"h_lep_E_tl_Stchan_top\",30,0,1000);\n",
    "h_lep_E_tl_Stchan_top->SetFillColor(kRed);\n",
    "//Stop tchan_antitop histrogram\n",
    "TH1F *h_lep_E_tl_Stchan_antitop = new TH1F(\"h_lep_E_tl_Stchan_antitop\",\"h_lep_E_tl_Stchan_antitop\",30,0,1000);\n",
    "h_lep_E_tl_Stchan_antitop->SetFillColor(kYellow);\n",
    "//Stop schan histogram\n",
    "TH1F *h_lep_E_tl_Sschan = new TH1F(\"h_lep_E_tl_Sschan \",\"h_lep_E_tl_Sschan\",30,0,1000);\n",
    "h_lep_E_tl_Sschan->SetFillColor(kBlue);\n",
    "//Stop wtchan histogram\n",
    "TH1F *h_lep_E_tl_Swtchan = new TH1F(\"h_lep_E_tl_Swtchan\",\"h_lep_E_tl_Swtchan\",30,0,1000);\n",
    "h_lep_E_tl_Swtchan->SetFillColor(kGreen);\n",
    "\n",
    "//Merged stop \n",
    "TH1F *h_lep_E_tl_mergedS = new TH1F(\"h_lep_E_tl_mergedS\",\"h_lep_E_tl_mergedS\",30,0,1000);\n",
    "h_lep_E_tl_mergedS->SetFillColor(kGray);"
   ]
  },
  {
   "cell_type": "markdown",
   "metadata": {},
   "source": [
    "Define ENERGY Traillep histograms for TTBar analysis"
   ]
  },
  {
   "cell_type": "code",
   "execution_count": null,
   "metadata": {
    "collapsed": true
   },
   "outputs": [],
   "source": [
    "//TTBar had histrogram \n",
    "TH1F *h_lep_E_tl_TThad = new TH1F(\"h_lep_E_tl_TThad\",\"h_lep_E_tl_TThad\",30,0,1000);\n",
    "h_lep_E_tl_TThad->SetFillColor(kRed);\n",
    "//TTBar lep histrogram\n",
    "TH1F *h_lep_E_tl_TTlep = new TH1F(\"h_lep_E_tl_TTlep\",\"h_lep_E_tl_TTlep\",30,0,1000);\n",
    "h_lep_E_tl_TTlep->SetFillColor(kYellow);\n",
    "\n",
    "//Merged TTBar\n",
    "TH1F *h_lep_E_tl_mergedTT = new TH1F(\"h_lep_E_tl_mergedTT\",\"h_lep_E_tl_mergedTT\",30,0,1000);\n",
    "h_lep_E_tl_mergedTT->SetFillColor(kGray);"
   ]
  },
  {
   "cell_type": "markdown",
   "metadata": {},
   "source": [
    "Define ENERGY Traillep histograms for W analysis"
   ]
  },
  {
   "cell_type": "code",
   "execution_count": null,
   "metadata": {
    "collapsed": true
   },
   "outputs": [],
   "source": [
    "//W HISTOGRAMS\n",
    "//WenuW hisogram\n",
    "TH1F *h_lep_E_tl_WenuW = new TH1F(\"h_lep_E_tl_WenuW\",\"h_lep_E_tl_WenuW\",30,0,1000);\n",
    "h_lep_E_tl_WenuW->SetFillColor(kRed);\n",
    "//WenuJ histrogram - last cut only \n",
    "TH1F *h_lep_E_tl_WenuJ = new TH1F(\"h_lep_E_tl_WenuJ\",\"h_lep_E_tl_WenuJ\",30,0,1000);\n",
    "h_lep_E_tl_WenuJ->SetFillColor(kYellow);\n",
    "//WenuN histrogram - last cut only \n",
    "TH1F *h_lep_E_tl_WenuN = new TH1F(\"h_lep_E_tl_WenuN\",\"h_lep_E_tl_WenuN\",30,0,1000);\n",
    "h_lep_E_tl_WenuN->SetFillColor(kBlue);\n",
    "//WmunuW hisogram\n",
    "TH1F *h_lep_E_tl_WmunuW = new TH1F(\"h_lep_E_tl_WmunuW\",\"h_lep_E_tl_WmunuW\",30,0,1000);\n",
    "h_lep_E_tl_WmunuW->SetFillColor(kRed);\n",
    "//WmunuJ histrogram - last cut only \n",
    "TH1F *h_lep_E_tl_WmunuJ = new TH1F(\"h_lep_E_tl_WmunuJ\",\"h_lep_E_tl_WmunuJ\",30,0,1000);\n",
    "h_lep_E_tl_WmunuJ->SetFillColor(kYellow);\n",
    "//WmunuN histrogram - last cut only \n",
    "TH1F *h_lep_E_tl_WmunuN = new TH1F(\"h_lep_E_tl_WmunuN\",\"h_lep_E_tl_WmunuN\",30,0,1000);\n",
    "h_lep_E_tl_WmunuN->SetFillColor(kBlue);\n",
    "//WtaunuW hisogram\n",
    "TH1F *h_lep_E_tl_WtaunuW = new TH1F(\"h_lep_E_tl_WtaunuW\",\"h_lep_E_tl_WtaunuW\",30,0,1000);\n",
    "h_lep_E_tl_WtaunuW->SetFillColor(kRed);\n",
    "//WtaunuJ histrogram - last cut only \n",
    "TH1F *h_lep_E_tl_WtaunuJ = new TH1F(\"h_lep_E_tl_WtaunuJ\",\"h_lep_E_tl_WtaunuJ\",30,0,1000);\n",
    "h_lep_E_tl_WtaunuJ->SetFillColor(kYellow);\n",
    "//WtaunuN histrogram - last cut only \n",
    "TH1F *h_lep_E_tl_WtaunuN = new TH1F(\"h_lep_E_tl_WtaunuN\",\"h_lep_E_tl_WtaunuN\",30,0,1000);\n",
    "h_lep_E_tl_WtaunuN->SetFillColor(kBlue);\n",
    "\n",
    "//Merged Wenu,Wmunu,Wtaunu\n",
    "TH1F *h_lep_E_tl_mergedW = new TH1F(\"h_lep_E_tl_mergedW\",\"h_lep_E_tl_mergedW\",30,0,1000);\n",
    "h_lep_E_tl_mergedW->SetFillColor(kGreen);"
   ]
  },
  {
   "cell_type": "markdown",
   "metadata": {},
   "source": [
    "Define CHARGE Traillep histograms for Z analysis "
   ]
  },
  {
   "cell_type": "code",
   "execution_count": null,
   "metadata": {
    "collapsed": false
   },
   "outputs": [],
   "source": [
    "//CHARGE_TL HISTOGRAMS\n",
    "//Zee histrogram - last cut only \n",
    "TH1F *h_lep_charge_tl_Zee = new TH1F(\"h_lep_charge_tl_Zee\",\"h_lep_charge_tl_Zee\",35,-1.5,1.5);\n",
    "h_lep_charge_tl_Zee->SetFillColor(kRed);\n",
    "//Zmumu histrogram - last cut only \n",
    "TH1F *h_lep_charge_tl_Zmumu = new TH1F(\"h_lep_charge_tl_Zmumu\",\"h_lep_charge_tl_Zmumu\",35,-1.5,1.5);\n",
    "h_lep_charge_tl_Zmumu->SetFillColor(kYellow);\n",
    "//Ztautau histrogram - last cut only \n",
    "TH1F *h_lep_charge_tl_Ztautau = new TH1F(\"h_lep_charge_tl_Ztautau\",\"h_lep_charge_tl_Ztautau\",35,-1.5,1.5);\n",
    "h_lep_charge_tl_Ztautau->SetFillColor(kBlue);\n",
    "\n",
    "//Merged Zee,Zmumu,Ztautau\n",
    "TH1F *h_lep_charge_tl_mergedZ = new TH1F(\"h_lep_charge_tl_mergedZ\",\"h_lep_charge_tl_mergedZ\",35,-1.5,1.5);\n",
    "h_lep_charge_tl_mergedZ->SetFillColor(kGreen);"
   ]
  },
  {
   "cell_type": "markdown",
   "metadata": {},
   "source": [
    "Define CHARGE Traillep histograms for Diboson analysis "
   ]
  },
  {
   "cell_type": "code",
   "execution_count": null,
   "metadata": {
    "collapsed": true
   },
   "outputs": [],
   "source": [
    "//Diboson WW histrogram\n",
    "TH1F *h_lep_charge_tl_Dww = new TH1F(\"h_lep_charge_tl_Dww\",\"h_lep_charge_tl_Dww\",35,-1.5,1.5);\n",
    "h_lep_charge_tl_Dww->SetFillColor(kRed);\n",
    "//Diboson ZZ histrogram\n",
    "TH1F *h_lep_charge_tl_Dzz = new TH1F(\"h_lep_charge_tl_Dzz\",\"h_lep_charge_tl_Dzz\",35,-1.5,1.5);\n",
    "h_lep_charge_tl_Dzz->SetFillColor(kYellow);\n",
    "//Diboson WZ histrogram\n",
    "TH1F *h_lep_charge_tl_Dwz = new TH1F(\"h_lep_charge_tl_Dwz\",\"h_lep_charge_tl_Dwz\",35,-1.5,1.5);\n",
    "h_lep_charge_tl_Dwz->SetFillColor(kBlue);\n",
    "\n",
    "//Merged Diboson WW,ZZ,WZ histogram\n",
    "TH1F *h_lep_charge_tl_mergedD = new TH1F(\"h_lep_charge_tl_mergedD\",\"h_lep_charge_tl_mergedD\",35,-1.5,1.5);\n",
    "h_lep_charge_tl_mergedD->SetFillColor(kGreen);"
   ]
  },
  {
   "cell_type": "markdown",
   "metadata": {},
   "source": [
    "Define CHARGE Traillep histograms for Drell Yan analysis "
   ]
  },
  {
   "cell_type": "code",
   "execution_count": null,
   "metadata": {
    "collapsed": true
   },
   "outputs": [],
   "source": [
    "//DYee1 histrogram\n",
    "TH1F *h_lep_charge_tl_DYee1 = new TH1F(\"h_lep_charge_tl_DYee1\",\"h_lep_charge_tl_DYee1\",35,-1.5,1.5);\n",
    "h_lep_charge_tl_DYee1->SetFillColor(kRed);\n",
    "//DYee2 histrogram\n",
    "TH1F *h_lep_charge_tl_DYee2 = new TH1F(\"h_lep_charge_tl_DYee2\",\"h_lep_charge_tl_DYee2\",35,-1.5,1.5);\n",
    "h_lep_charge_tl_DYee2->SetFillColor(kYellow);\n",
    "//DYmumu1 histrogram\n",
    "TH1F *h_lep_charge_tl_DYmumu1 = new TH1F(\"h_lep_charge_tl_DYmumu1 \",\"h_lep_charge_tl_DYmumu1\",35,-1.5,1.5);\n",
    "h_lep_charge_tl_DYmumu1->SetFillColor(kBlue);\n",
    "//DYmumu2 histrogram\n",
    "TH1F *h_lep_charge_tl_DYmumu2 = new TH1F(\"h_lep_charge_tl_DYmumu2\",\"h_lep_charge_tl_DYmumu2\",35,-1.5,1.5);\n",
    "h_lep_charge_tl_DYmumu2->SetFillColor(kGreen);\n",
    "//DYtautau1 histrogram\n",
    "TH1F *h_lep_charge_tl_DYtautau1 = new TH1F(\"h_lep_charge_tl_DYtautau1\",\"h_lep_charge_tl_DYtautau1\",35,-1.5,1.5);\n",
    "h_lep_charge_tl_DYtautau1->SetFillColor(kOrange);\n",
    "//DYtautau2 histrogram\n",
    "TH1F *h_lep_charge_tl_DYtautau2 = new TH1F(\"h_lep_charge_tl_DYtautau2\",\"h_lep_charge_tl_DYtautau2\",35,-1.5,1.5);\n",
    "h_lep_charge_tl_DYtautau2->SetFillColor(kPink);\n",
    "\n",
    "//Merged DY EE,MUMU,TAUTAU histogram\n",
    "TH1F *h_lep_charge_tl_mergedDY = new TH1F(\"h_lep_charge_tl_mergedDY\",\"h_lep_charge_tl_mergedDY\",35,-1.5,1.5);\n",
    "h_lep_charge_tl_mergedDY->SetFillColor(kGray);"
   ]
  },
  {
   "cell_type": "markdown",
   "metadata": {},
   "source": [
    "Define CHARGE Traillep histograms for Stop analysis "
   ]
  },
  {
   "cell_type": "code",
   "execution_count": null,
   "metadata": {
    "collapsed": true
   },
   "outputs": [],
   "source": [
    "//Stop tchan_top histrogram \n",
    "TH1F *h_lep_charge_tl_Stchan_top = new TH1F(\"h_lep_charge_tl_Stchan_top\",\"h_lep_charge_tl_Stchan_top\",35,-1.5,1.5);\n",
    "h_lep_charge_tl_Stchan_top->SetFillColor(kRed);\n",
    "//Stop tchan_antitop histrogram\n",
    "TH1F *h_lep_charge_tl_Stchan_antitop = new TH1F(\"h_lep_charge_tl_Stchan_antitop\",\"h_lep_charge_tl_Stchan_antitop\",35,-1.5,1.50);\n",
    "h_lep_charge_tl_Stchan_antitop->SetFillColor(kYellow);\n",
    "//Stop schan histogram\n",
    "TH1F *h_lep_charge_tl_Sschan = new TH1F(\"h_lep_charge_tl_Sschan \",\"h_lep_charge_tl_Sschan\",35,-1.5,1.5);\n",
    "h_lep_charge_tl_Sschan->SetFillColor(kBlue);\n",
    "//Stop wtchan histogram\n",
    "TH1F *h_lep_charge_tl_Swtchan = new TH1F(\"h_lep_charge_tl_Swtchan\",\"h_lep_charge_tl_Swtchan\",35,-1.5,1.5);\n",
    "h_lep_charge_tl_Swtchan->SetFillColor(kGreen);\n",
    "\n",
    "//Merged stop \n",
    "TH1F *h_lep_charge_tl_mergedS = new TH1F(\"h_lep_charge_tl_mergedS\",\"h_lep_charge_tl_mergedS\",35,-1.5,1.5);\n",
    "h_lep_charge_tl_mergedS->SetFillColor(kGray);"
   ]
  },
  {
   "cell_type": "markdown",
   "metadata": {},
   "source": [
    "Define CHARGE Traillep histograms for TTBar analysis "
   ]
  },
  {
   "cell_type": "code",
   "execution_count": null,
   "metadata": {
    "collapsed": true
   },
   "outputs": [],
   "source": [
    "//TTBar had histrogram \n",
    "TH1F *h_lep_charge_tl_TThad = new TH1F(\"h_lep_charge_tl_TThad\",\"h_lep_charge_tl_TThad\",35,-1.5,1.5);\n",
    "h_lep_charge_tl_TThad->SetFillColor(kRed);\n",
    "//TTBar lep histrogram\n",
    "TH1F *h_lep_charge_tl_TTlep = new TH1F(\"h_lep_charge_tl_TTlep\",\"h_lep_charge_tl_TTlep\",35,-1.5,1.5);\n",
    "h_lep_charge_tl_TTlep->SetFillColor(kYellow);\n",
    "\n",
    "//Merged TTBar\n",
    "TH1F *h_lep_charge_tl_mergedTT = new TH1F(\"h_lep_charge_tl_mergedTT\",\"h_lep_charge_tl_mergedTT\",35,-1.5,1.5);\n",
    "h_lep_charge_tl_mergedTT->SetFillColor(kGray);"
   ]
  },
  {
   "cell_type": "markdown",
   "metadata": {},
   "source": [
    "Define CHARGE Traillep histograms for W analysis "
   ]
  },
  {
   "cell_type": "code",
   "execution_count": null,
   "metadata": {
    "collapsed": true
   },
   "outputs": [],
   "source": [
    "//W HISTOGRAMS\n",
    "//WenuW hisogram\n",
    "TH1F *h_lep_charge_tl_WenuW = new TH1F(\"h_lep_charge_tl_WenuW\",\"h_lep_charge_tl_WenuW\",35,-1.5,1.5);\n",
    "h_lep_charge_tl_WenuW->SetFillColor(kRed);\n",
    "//WenuJ histrogram - last cut only \n",
    "TH1F *h_lep_charge_tl_WenuJ = new TH1F(\"h_lep_charge_tl_WenuJ\",\"h_lep_charge_tl_WenuJ\",35,-1.5,1.5);\n",
    "h_lep_charge_tl_WenuJ->SetFillColor(kYellow);\n",
    "//WenuN histrogram - last cut only \n",
    "TH1F *h_lep_charge_tl_WenuN = new TH1F(\"h_lep_charge_tl_WenuN\",\"h_lep_charge_tl_WenuN\",35,-1.5,1.5);\n",
    "h_lep_charge_tl_WenuN->SetFillColor(kBlue);\n",
    "//WmunuW hisogram\n",
    "TH1F *h_lep_charge_tl_WmunuW = new TH1F(\"h_lep_charge_tl_WmunuW\",\"h_lep_charge_tl_WmunuW\",35,-1.5,1.5);\n",
    "h_lep_charge_tl_WmunuW->SetFillColor(kRed);\n",
    "//WmunuJ histrogram - last cut only \n",
    "TH1F *h_lep_charge_tl_WmunuJ = new TH1F(\"h_lep_charge_tl_WmunuJ\",\"h_lep_charge_tl_WmunuJ\",35,-1.5,1.5);\n",
    "h_lep_charge_tl_WmunuJ->SetFillColor(kYellow);\n",
    "//WmunuN histrogram - last cut only \n",
    "TH1F *h_lep_charge_tl_WmunuN = new TH1F(\"h_lep_charge_tl_WmunuN\",\"h_lep_charge_tl_WmunuN\",35,-1.5,1.5);\n",
    "h_lep_charge_tl_WmunuN->SetFillColor(kBlue);\n",
    "//WtaunuW hisogram\n",
    "TH1F *h_lep_charge_tl_WtaunuW = new TH1F(\"h_lep_charge_tl_WtaunuW\",\"h_lep_charge_tl_WtaunuW\",35,-1.5,1.5);\n",
    "h_lep_charge_tl_WtaunuW->SetFillColor(kRed);\n",
    "//WtaunuJ histrogram - last cut only \n",
    "TH1F *h_lep_charge_tl_WtaunuJ = new TH1F(\"h_lep_charge_tl_WtaunuJ\",\"h_lep_charge_tl_WtaunuJ\",35,-1.5,1.5);\n",
    "h_lep_charge_tl_WtaunuJ->SetFillColor(kYellow);\n",
    "//WtaunuN histrogram - last cut only \n",
    "TH1F *h_lep_charge_tl_WtaunuN = new TH1F(\"h_lep_charge_tl_WtaunuN\",\"h_lep_charge_tl_WtaunuN\",35,-1.5,1.5);\n",
    "h_lep_charge_tl_WtaunuN->SetFillColor(kBlue);\n",
    "\n",
    "//Merged Wenu,Wmunu,Wtaunu\n",
    "TH1F *h_lep_charge_tl_mergedW = new TH1F(\"h_lep_charge_tl_mergedW\",\"h_lep_charge_tl_mergedW\",35,-1.5,1.5);\n",
    "h_lep_charge_tl_mergedW->SetFillColor(kGreen);"
   ]
  },
  {
   "cell_type": "markdown",
   "metadata": {},
   "source": [
    "Define ETC20 Traillep histograms for Z analysis "
   ]
  },
  {
   "cell_type": "code",
   "execution_count": null,
   "metadata": {
    "collapsed": true
   },
   "outputs": [],
   "source": [
    "//ETC20_TL HISTOGRAMS\n",
    "//Zee histrogram - last cut only \n",
    "TH1F *h_lep_etc20_tl_Zee = new TH1F(\"h_lep_etc20_tl_Zee\",\"h_lep_etc20_tl_Zee\",40,-3,10);\n",
    "h_lep_etc20_tl_Zee->SetFillColor(kRed);\n",
    "//Zmumu histrogram - last cut only \n",
    "TH1F *h_lep_etc20_tl_Zmumu = new TH1F(\"h_lep_etc20_tl_Zmumu\",\"h_lep_etc20_tl_Zmumu\",40,-3,10);\n",
    "h_lep_etc20_tl_Zmumu->SetFillColor(kYellow);\n",
    "//Ztautau histrogram - last cut only \n",
    "TH1F *h_lep_etc20_tl_Ztautau = new TH1F(\"h_lep_etc20_tl_Ztautau\",\"h_lep_etc20_tl_Ztautau\",40,-3,10);\n",
    "h_lep_etc20_tl_Ztautau->SetFillColor(kBlue);\n",
    "\n",
    "//Merged Zee,Zmumu,Ztautau\n",
    "TH1F *h_lep_etc20_tl_mergedZ = new TH1F(\"h_lep_etc20_tl_mergedZ\",\"h_lep_etc20_tl_mergedZ\",40,-3,10);\n",
    "h_lep_etc20_tl_mergedZ->SetFillColor(kGreen);"
   ]
  },
  {
   "cell_type": "markdown",
   "metadata": {},
   "source": [
    "Define ETC20 Traillep histograms for Diboson analysis "
   ]
  },
  {
   "cell_type": "code",
   "execution_count": null,
   "metadata": {
    "collapsed": true
   },
   "outputs": [],
   "source": [
    "//Diboson WW histrogram\n",
    "TH1F *h_lep_etc20_tl_Dww = new TH1F(\"h_lep_etc20_tl_Dww\",\"h_lep_etc20_tl_Dww\",40,-3,10);\n",
    "h_lep_etc20_tl_Dww->SetFillColor(kRed);\n",
    "//Diboson ZZ histrogram\n",
    "TH1F *h_lep_etc20_tl_Dzz = new TH1F(\"h_lep_etc20_tl_Dzz\",\"h_lep_etc20_tl_Dzz\",40,-3,10);\n",
    "h_lep_etc20_tl_Dzz->SetFillColor(kYellow);\n",
    "//Diboson WZ histrogram\n",
    "TH1F *h_lep_etc20_tl_Dwz = new TH1F(\"h_lep_etc20_tl_Dwz\",\"h_lep_etc20_tl_Dwz\",40,-3,10);\n",
    "h_lep_etc20_tl_Dwz->SetFillColor(kBlue);\n",
    "\n",
    "//Merged Diboson WW,ZZ,WZ histogram\n",
    "TH1F *h_lep_etc20_tl_mergedD = new TH1F(\"h_lep_etc20_tl_mergedD\",\"h_lep_etc20_tl_mergedD\",40,-3,10);\n",
    "h_lep_etc20_tl_mergedD->SetFillColor(kGreen);"
   ]
  },
  {
   "cell_type": "markdown",
   "metadata": {},
   "source": [
    "Define ETC20 Traillep histograms for Drell Yan analysis "
   ]
  },
  {
   "cell_type": "code",
   "execution_count": null,
   "metadata": {
    "collapsed": true
   },
   "outputs": [],
   "source": [
    "//DYee1 histrogram\n",
    "TH1F *h_lep_etc20_tl_DYee1 = new TH1F(\"h_lep_etc20_tl_DYee1\",\"h_lep_etc20_tl_DYee1\",40,-3,10);\n",
    "h_lep_etc20_tl_DYee1->SetFillColor(kRed);\n",
    "//DYee2 histrogram\n",
    "TH1F *h_lep_etc20_tl_DYee2 = new TH1F(\"h_lep_etc20_tl_DYee2\",\"h_lep_etc20_tl_DYee2\",40,-3,10);\n",
    "h_lep_etc20_tl_DYee2->SetFillColor(kYellow);\n",
    "//DYmumu1 histrogram\n",
    "TH1F *h_lep_etc20_tl_DYmumu1 = new TH1F(\"h_lep_etc20_tl_DYmumu1 \",\"h_lep_etc20_tl_DYmumu1\",40,-3,10);\n",
    "h_lep_etc20_tl_DYmumu1->SetFillColor(kBlue);\n",
    "//DYmumu2 histrogram\n",
    "TH1F *h_lep_etc20_tl_DYmumu2 = new TH1F(\"h_lep_etc20_tl_DYmumu2\",\"h_lep_etc20_tl_DYmumu2\",40,-3,10);\n",
    "h_lep_etc20_tl_DYmumu2->SetFillColor(kGreen);\n",
    "//DYtautau1 histrogram\n",
    "TH1F *h_lep_etc20_tl_DYtautau1 = new TH1F(\"h_lep_etc20_tl_DYtautau1\",\"h_lep_etc20_tl_DYtautau1\",40,-3,10);\n",
    "h_lep_etc20_tl_DYtautau1->SetFillColor(kOrange);\n",
    "//DYtautau2 histrogram\n",
    "TH1F *h_lep_etc20_tl_DYtautau2 = new TH1F(\"h_lep_etc20_tl_DYtautau2\",\"h_lep_etc20_tl_DYtautau2\",40,-3,10);\n",
    "h_lep_etc20_tl_DYtautau2->SetFillColor(kPink);\n",
    "\n",
    "//Merged DY EE,MUMU,TAUTAU histogram\n",
    "TH1F *h_lep_etc20_tl_mergedDY = new TH1F(\"h_lep_etc20_tl_mergedDY\",\"h_lep_etc20_tl_mergedDY\",40,-3,10);\n",
    "h_lep_etc20_tl_mergedDY->SetFillColor(kGray);"
   ]
  },
  {
   "cell_type": "markdown",
   "metadata": {},
   "source": [
    "Define ETC20 Traillep histograms for Stop analysis "
   ]
  },
  {
   "cell_type": "code",
   "execution_count": null,
   "metadata": {
    "collapsed": true
   },
   "outputs": [],
   "source": [
    "//Stop tchan_top histrogram \n",
    "TH1F *h_lep_etc20_tl_Stchan_top = new TH1F(\"h_lep_etc20_tl_Stchan_top\",\"h_lep_etc20_tl_Stchan_top\",40,-3,10);\n",
    "h_lep_etc20_tl_Stchan_top->SetFillColor(kRed);\n",
    "//Stop tchan_antitop histrogram\n",
    "TH1F *h_lep_etc20_tl_Stchan_antitop = new TH1F(\"h_lep_etc20_tl_Stchan_antitop\",\"h_lep_etc20_tl_Stchan_antitop\",40,-3,10);\n",
    "h_lep_etc20_tl_Stchan_antitop->SetFillColor(kYellow);\n",
    "//Stop schan histogram\n",
    "TH1F *h_lep_etc20_tl_Sschan = new TH1F(\"h_lep_etc20_tl_Sschan \",\"h_lep_etc20_tl_Sschan\",40,-3,10);\n",
    "h_lep_etc20_tl_Sschan->SetFillColor(kBlue);\n",
    "//Stop wtchan histogram\n",
    "TH1F *h_lep_etc20_tl_Swtchan = new TH1F(\"h_lep_etc20_tl_Swtchan\",\"h_lep_etc20_tl_Swtchan\",40,-3,10);\n",
    "h_lep_etc20_tl_Swtchan->SetFillColor(kGreen);\n",
    "\n",
    "//Merged stop \n",
    "TH1F *h_lep_etc20_tl_mergedS = new TH1F(\"h_lep_etc20_tl_mergedS\",\"h_lep_etc20_tl_mergedS\",40,-3,10);\n",
    "h_lep_etc20_tl_mergedS->SetFillColor(kGray);"
   ]
  },
  {
   "cell_type": "markdown",
   "metadata": {},
   "source": [
    "Define ETC20 Traillep histograms for TTBar analysis "
   ]
  },
  {
   "cell_type": "code",
   "execution_count": null,
   "metadata": {
    "collapsed": true
   },
   "outputs": [],
   "source": [
    "//TTBar had histrogram \n",
    "TH1F *h_lep_etc20_tl_TThad = new TH1F(\"h_lep_etc20_tl_TThad\",\"h_lep_etc20_tl_TThad\",40,-3,10);\n",
    "h_lep_etc20_tl_TThad->SetFillColor(kRed);\n",
    "//TTBar lep histrogram\n",
    "TH1F *h_lep_etc20_tl_TTlep = new TH1F(\"h_lep_etc20_tl_TTlep\",\"h_lep_etc20_tl_TTlep\",40,-3,10);\n",
    "h_lep_etc20_tl_TTlep->SetFillColor(kYellow);\n",
    "\n",
    "//Merged TTBar\n",
    "TH1F *h_lep_etc20_tl_mergedTT = new TH1F(\"h_lep_etc20_tl_mergedTT\",\"h_lep_etc20_tl_mergedTT\",40,-3,10);\n",
    "h_lep_etc20_tl_mergedTT->SetFillColor(kGray);"
   ]
  },
  {
   "cell_type": "markdown",
   "metadata": {},
   "source": [
    "Define ETC20 Traillep histograms for W analysis "
   ]
  },
  {
   "cell_type": "code",
   "execution_count": null,
   "metadata": {
    "collapsed": true
   },
   "outputs": [],
   "source": [
    "//W HISTOGRAMS\n",
    "//WenuW hisogram\n",
    "TH1F *h_lep_etc20_tl_WenuW = new TH1F(\"h_lep_etc20_tl_WenuW\",\"h_lep_etc20_tl_WenuW\",40,-3,10);\n",
    "h_lep_etc20_tl_WenuW->SetFillColor(kRed);\n",
    "//WenuJ histrogram - last cut only \n",
    "TH1F *h_lep_etc20_tl_WenuJ = new TH1F(\"h_lep_etc20_tl_WenuJ\",\"h_lep_etc20_tl_WenuJ\",40,-3,10);\n",
    "h_lep_etc20_tl_WenuJ->SetFillColor(kYellow);\n",
    "//WenuN histrogram - last cut only \n",
    "TH1F *h_lep_etc20_tl_WenuN = new TH1F(\"h_lep_etc20_tl_WenuN\",\"h_lep_etc20_tl_WenuN\",40,-3,10);\n",
    "h_lep_etc20_tl_WenuN->SetFillColor(kBlue);\n",
    "//WmunuW hisogram\n",
    "TH1F *h_lep_etc20_tl_WmunuW = new TH1F(\"h_lep_etc20_tl_WmunuW\",\"h_lep_etc20_tl_WmunuW\",40,-3,10);\n",
    "h_lep_etc20_tl_WmunuW->SetFillColor(kRed);\n",
    "//WmunuJ histrogram - last cut only \n",
    "TH1F *h_lep_etc20_tl_WmunuJ = new TH1F(\"h_lep_etc20_tl_WmunuJ\",\"h_lep_etc20_tl_WmunuJ\",40,-3,10);\n",
    "h_lep_etc20_tl_WmunuJ->SetFillColor(kYellow);\n",
    "//WmunuN histrogram - last cut only \n",
    "TH1F *h_lep_etc20_tl_WmunuN = new TH1F(\"h_lep_etc20_tl_WmunuN\",\"h_lep_etc20_tl_WmunuN\",40,-3,10);\n",
    "h_lep_etc20_tl_WmunuN->SetFillColor(kBlue);\n",
    "//WtaunuW hisogram\n",
    "TH1F *h_lep_etc20_tl_WtaunuW = new TH1F(\"h_lep_etc20_tl_WtaunuW\",\"h_lep_etc20_tl_WtaunuW\",40,-3,10);\n",
    "h_lep_etc20_tl_WtaunuW->SetFillColor(kRed);\n",
    "//WtaunuJ histrogram - last cut only \n",
    "TH1F *h_lep_etc20_tl_WtaunuJ = new TH1F(\"h_lep_etc20_tl_WtaunuJ\",\"h_lep_etc20_tl_WtaunuJ\",40,-3,10);\n",
    "h_lep_etc20_tl_WtaunuJ->SetFillColor(kYellow);\n",
    "//WtaunuN histrogram - last cut only \n",
    "TH1F *h_lep_etc20_tl_WtaunuN = new TH1F(\"h_lep_etc20_tl_WtaunuN\",\"h_lep_etc20_tl_WtaunuN\",40,-3,10);\n",
    "h_lep_etc20_tl_WtaunuN->SetFillColor(kBlue);\n",
    "\n",
    "//Merged Wenu,Wmunu,Wtaunu\n",
    "TH1F *h_lep_etc20_tl_mergedW = new TH1F(\"h_lep_etc20_tl_mergedW\",\"h_lep_etc20_tl_mergedW\",40,-3,10);\n",
    "h_lep_etc20_tl_mergedW->SetFillColor(kGreen);"
   ]
  },
  {
   "cell_type": "markdown",
   "metadata": {},
   "source": [
    "Define PTC30 Traillep histograms for Z analysis "
   ]
  },
  {
   "cell_type": "code",
   "execution_count": null,
   "metadata": {
    "collapsed": true
   },
   "outputs": [],
   "source": [
    "//PTC_TL HISTOGRAMS\n",
    "//Zee histrogram - last cut only \n",
    "TH1F *h_lep_ptc30_tl_Zee = new TH1F(\"h_lep_ptc30_tl_Zee\",\"h_lep_ptc30_tl_Zee\",40,-3,10);\n",
    "h_lep_ptc30_tl_Zee->SetFillColor(kRed);\n",
    "//Zmumu histrogram - last cut only \n",
    "TH1F *h_lep_ptc30_tl_Zmumu = new TH1F(\"h_lep_ptc30_tl_Zmumu\",\"h_lep_ptc30_tl_Zmumu\",40,-3,10);\n",
    "h_lep_ptc30_tl_Zmumu->SetFillColor(kYellow);\n",
    "//Ztautau histrogram - last cut only \n",
    "TH1F *h_lep_ptc30_tl_Ztautau = new TH1F(\"h_lep_ptc30_tl_Ztautau\",\"h_lep_ptc30_tl_Ztautau\",40,-3,10);\n",
    "h_lep_ptc30_tl_Ztautau->SetFillColor(kBlue);\n",
    "\n",
    "//Merged Zee,Zmumu,Ztautau\n",
    "TH1F *h_lep_ptc30_tl_mergedZ = new TH1F(\"h_lep_ptc30_tl_mergedZ\",\"h_lep_ptc30_tl_mergedZ\",40,-3,10);\n",
    "h_lep_ptc30_tl_mergedZ->SetFillColor(kGreen);"
   ]
  },
  {
   "cell_type": "markdown",
   "metadata": {},
   "source": [
    "Define PTC30 Traillep histograms for Diboson analysis "
   ]
  },
  {
   "cell_type": "code",
   "execution_count": null,
   "metadata": {
    "collapsed": true
   },
   "outputs": [],
   "source": [
    "//Diboson WW histrogram\n",
    "TH1F *h_lep_ptc30_tl_Dww = new TH1F(\"h_lep_ptc30_tl_Dww\",\"h_lep_ptc30_tl_Dww\",40,-3,10);\n",
    "h_lep_ptc30_tl_Dww->SetFillColor(kRed);\n",
    "//Diboson ZZ histrogram\n",
    "TH1F *h_lep_ptc30_tl_Dzz = new TH1F(\"h_lep_ptc30_tl_Dzz\",\"h_lep_ptc30_tl_Dzz\",40,-3,10);\n",
    "h_lep_ptc30_tl_Dzz->SetFillColor(kYellow);\n",
    "//Diboson WZ histrogram\n",
    "TH1F *h_lep_ptc30_tl_Dwz = new TH1F(\"h_lep_ptc30_tl_Dwz\",\"h_lep_ptc30_tl_Dwz\",40,-3,10);\n",
    "h_lep_ptc30_tl_Dwz->SetFillColor(kBlue);\n",
    "\n",
    "//Merged Diboson WW,ZZ,WZ histogram\n",
    "TH1F *h_lep_ptc30_tl_mergedD = new TH1F(\"h_lep_ptc30_tl_mergedD\",\"h_lep_ptc30_tl_mergedD\",40,-3,10);\n",
    "h_lep_ptc30_tl_mergedD->SetFillColor(kGreen);"
   ]
  },
  {
   "cell_type": "markdown",
   "metadata": {},
   "source": [
    "Define PTC30 Traillep histograms for Drell Yan analysis "
   ]
  },
  {
   "cell_type": "code",
   "execution_count": null,
   "metadata": {
    "collapsed": true
   },
   "outputs": [],
   "source": [
    "//DYee1 histrogram\n",
    "TH1F *h_lep_ptc30_tl_DYee1 = new TH1F(\"h_lep_ptc30_tl_DYee1\",\"h_lep_ptc30_tl_DYee1\",40,-3,10);\n",
    "h_lep_ptc30_tl_DYee1->SetFillColor(kRed);\n",
    "//DYee2 histrogram\n",
    "TH1F *h_lep_ptc30_tl_DYee2 = new TH1F(\"h_lep_ptc30_tl_DYee2\",\"h_lep_ptc30_tl_DYee2\",40,-3,10);\n",
    "h_lep_ptc30_tl_DYee2->SetFillColor(kYellow);\n",
    "//DYmumu1 histrogram\n",
    "TH1F *h_lep_ptc30_tl_DYmumu1 = new TH1F(\"h_lep_ptc30_tl_DYmumu1 \",\"h_lep_ptc30_tl_DYmumu1\",40,-3,10);\n",
    "h_lep_ptc30_tl_DYmumu1->SetFillColor(kBlue);\n",
    "//DYmumu2 histrogram\n",
    "TH1F *h_lep_ptc30_tl_DYmumu2 = new TH1F(\"h_lep_ptc30_tl_DYmumu2\",\"h_lep_ptc30_tl_DYmumu2\",40,-3,10);\n",
    "h_lep_ptc30_tl_DYmumu2->SetFillColor(kGreen);\n",
    "//DYtautau1 histrogram\n",
    "TH1F *h_lep_ptc30_tl_DYtautau1 = new TH1F(\"h_lep_ptc30_tl_DYtautau1\",\"h_lep_ptc30_tl_DYtautau1\",40,-3,10);\n",
    "h_lep_ptc30_tl_DYtautau1->SetFillColor(kOrange);\n",
    "//DYtautau2 histrogram\n",
    "TH1F *h_lep_ptc30_tl_DYtautau2 = new TH1F(\"h_lep_ptc30_tl_DYtautau2\",\"h_lep_ptc30_tl_DYtautau2\",40,-3,10);\n",
    "h_lep_ptc30_tl_DYtautau2->SetFillColor(kPink);\n",
    "\n",
    "//Merged DY EE,MUMU,TAUTAU histogram\n",
    "TH1F *h_lep_ptc30_tl_mergedDY = new TH1F(\"h_lep_ptc30_tl_mergedDY\",\"h_lep_ptc30_tl_mergedDY\",40,-3,10);\n",
    "h_lep_ptc30_tl_mergedDY->SetFillColor(kGray);"
   ]
  },
  {
   "cell_type": "markdown",
   "metadata": {},
   "source": [
    "Define PTC30 Traillep histograms for Stop analysis "
   ]
  },
  {
   "cell_type": "code",
   "execution_count": null,
   "metadata": {
    "collapsed": true
   },
   "outputs": [],
   "source": [
    "//Stop tchan_top histrogram \n",
    "TH1F *h_lep_ptc30_tl_Stchan_top = new TH1F(\"h_lep_ptc30_tl_Stchan_top\",\"h_lep_ptc30_tl_Stchan_top\",40,-3,10);\n",
    "h_lep_ptc30_tl_Stchan_top->SetFillColor(kRed);\n",
    "//Stop tchan_antitop histrogram\n",
    "TH1F *h_lep_ptc30_tl_Stchan_antitop = new TH1F(\"h_lep_ptc30_tl_Stchan_antitop\",\"h_lep_ptc30_tl_Stchan_antitop\",40,-3,10);\n",
    "h_lep_ptc30_tl_Stchan_antitop->SetFillColor(kYellow);\n",
    "//Stop schan histogram\n",
    "TH1F *h_lep_ptc30_tl_Sschan = new TH1F(\"h_lep_ptc30_tl_Sschan \",\"h_lep_ptc30_tl_Sschan\",40,-3,10);\n",
    "h_lep_ptc30_tl_Sschan->SetFillColor(kBlue);\n",
    "//Stop wtchan histogram\n",
    "TH1F *h_lep_ptc30_tl_Swtchan = new TH1F(\"h_lep_ptc30_tl_Swtchan\",\"h_lep_ptc30_tl_Swtchan\",40,-3,10);\n",
    "h_lep_ptc30_tl_Swtchan->SetFillColor(kGreen);\n",
    "\n",
    "//Merged stop \n",
    "TH1F *h_lep_ptc30_tl_mergedS = new TH1F(\"h_lep_ptc30_tl_mergedS\",\"h_lep_ptc30_tl_mergedS\",40,-3,10);\n",
    "h_lep_ptc30_tl_mergedS->SetFillColor(kGray);"
   ]
  },
  {
   "cell_type": "markdown",
   "metadata": {},
   "source": [
    "Define PTC30 Traillep histograms for TTBar analysis "
   ]
  },
  {
   "cell_type": "code",
   "execution_count": null,
   "metadata": {
    "collapsed": true
   },
   "outputs": [],
   "source": [
    "//TTBar had histrogram \n",
    "TH1F *h_lep_ptc30_tl_TThad = new TH1F(\"h_lep_ptc30_tl_TThad\",\"h_lep_ptc30_tl_TThad\",40,-3,10);\n",
    "h_lep_ptc30_tl_TThad->SetFillColor(kRed);\n",
    "//TTBar lep histrogram\n",
    "TH1F *h_lep_ptc30_tl_TTlep = new TH1F(\"h_lep_ptc30_tl_TTlep\",\"h_lep_ptc30_tl_TTlep\",40,-3,10);\n",
    "h_lep_ptc30_tl_TTlep->SetFillColor(kYellow);\n",
    "\n",
    "//Merged TTBar\n",
    "TH1F *h_lep_ptc30_tl_mergedTT = new TH1F(\"h_lep_ptc30_tl_mergedTT\",\"h_lep_ptc30_tl_mergedTT\",40,-3,10);\n",
    "h_lep_ptc30_tl_mergedTT->SetFillColor(kGray);"
   ]
  },
  {
   "cell_type": "markdown",
   "metadata": {},
   "source": [
    "Define PTC30 Traillep histograms for W analysis "
   ]
  },
  {
   "cell_type": "code",
   "execution_count": null,
   "metadata": {
    "collapsed": true
   },
   "outputs": [],
   "source": [
    "//W HISTOGRAMS\n",
    "//WenuW hisogram\n",
    "TH1F *h_lep_ptc30_tl_WenuW = new TH1F(\"h_lep_ptc30_tl_WenuW\",\"h_lep_ptc30_tl_WenuW\",40,-3,10);\n",
    "h_lep_ptc30_tl_WenuW->SetFillColor(kRed);\n",
    "//WenuJ histrogram - last cut only \n",
    "TH1F *h_lep_ptc30_tl_WenuJ = new TH1F(\"h_lep_ptc30_tl_WenuJ\",\"h_lep_ptc30_tl_WenuJ\",40,-3,10);\n",
    "h_lep_ptc30_tl_WenuJ->SetFillColor(kYellow);\n",
    "//WenuN histrogram - last cut only \n",
    "TH1F *h_lep_ptc30_tl_WenuN = new TH1F(\"h_lep_ptc30_tl_WenuN\",\"h_lep_ptc30_tl_WenuN\",40,-3,10);\n",
    "h_lep_ptc30_tl_WenuN->SetFillColor(kBlue);\n",
    "//WmunuW hisogram\n",
    "TH1F *h_lep_ptc30_tl_WmunuW = new TH1F(\"h_lep_ptc30_tl_WmunuW\",\"h_lep_ptc30_tl_WmunuW\",40,-3,10);\n",
    "h_lep_ptc30_tl_WmunuW->SetFillColor(kRed);\n",
    "//WmunuJ histrogram - last cut only \n",
    "TH1F *h_lep_ptc30_tl_WmunuJ = new TH1F(\"h_lep_ptc30_tl_WmunuJ\",\"h_lep_ptc30_tl_WmunuJ\",40,-3,10);\n",
    "h_lep_ptc30_tl_WmunuJ->SetFillColor(kYellow);\n",
    "//WmunuN histrogram - last cut only \n",
    "TH1F *h_lep_ptc30_tl_WmunuN = new TH1F(\"h_lep_ptc30_tl_WmunuN\",\"h_lep_ptc30_tl_WmunuN\",40,-3,10);\n",
    "h_lep_ptc30_tl_WmunuN->SetFillColor(kBlue);\n",
    "//WtaunuW hisogram\n",
    "TH1F *h_lep_ptc30_tl_WtaunuW = new TH1F(\"h_lep_ptc30_tl_WtaunuW\",\"h_lep_ptc30_tl_WtaunuW\",40,-3,10);\n",
    "h_lep_ptc30_tl_WtaunuW->SetFillColor(kRed);\n",
    "//WtaunuJ histrogram - last cut only \n",
    "TH1F *h_lep_ptc30_tl_WtaunuJ = new TH1F(\"h_lep_ptc30_tl_WtaunuJ\",\"h_lep_ptc30_tl_WtaunuJ\",40,-3,10);\n",
    "h_lep_ptc30_tl_WtaunuJ->SetFillColor(kYellow);\n",
    "//WtaunuN histrogram - last cut only \n",
    "TH1F *h_lep_ptc30_tl_WtaunuN = new TH1F(\"h_lep_ptc30_tl_WtaunuN\",\"h_lep_ptc30_tl_WtaunuN\",40,-3,10);\n",
    "h_lep_ptc30_tl_WtaunuN->SetFillColor(kBlue);\n",
    "\n",
    "//Merged Wenu,Wmunu,Wtaunu\n",
    "TH1F *h_lep_ptc30_tl_mergedW = new TH1F(\"h_lep_ptc30_tl_mergedW\",\"h_lep_ptc30_tl_mergedW\",40,-3,10);\n",
    "h_lep_ptc30_tl_mergedW->SetFillColor(kGreen);"
   ]
  },
  {
   "cell_type": "markdown",
   "metadata": {},
   "source": [
    "Define Z0 Traillep histograms for Z analysis"
   ]
  },
  {
   "cell_type": "code",
   "execution_count": null,
   "metadata": {
    "collapsed": true
   },
   "outputs": [],
   "source": [
    "//Z0_TL HISTOGRAMS\n",
    "//Zee histrogram - last cut only \n",
    "TH1F *h_lep_z0_tl_Zee = new TH1F(\"h_lep_z0_tl_Zee\",\"h_lep_z0_tl_Zee\",30,-1,1);\n",
    "h_lep_z0_tl_Zee->SetFillColor(kRed);\n",
    "//Zmumu histrogram - last cut only \n",
    "TH1F *h_lep_z0_tl_Zmumu = new TH1F(\"h_lep_z0_tl_Zmumu\",\"h_lep_z0_tl_Zmumu\",30,-1,1);\n",
    "h_lep_z0_tl_Zmumu->SetFillColor(kYellow);\n",
    "//Ztautau histrogram - last cut only \n",
    "TH1F *h_lep_z0_tl_Ztautau = new TH1F(\"h_lep_z0_tl_Ztautau\",\"h_lep_z0_tl_Ztautau\",30,-1,1);\n",
    "h_lep_z0_tl_Ztautau->SetFillColor(kBlue);\n",
    "\n",
    "//Merged Zee,Zmumu,Ztautau\n",
    "TH1F *h_lep_z0_tl_mergedZ = new TH1F(\"h_lep_z0_tl_mergedZ\",\"h_lep_z0_tl_mergedZ\",30,-1,1);\n",
    "h_lep_z0_tl_mergedZ->SetFillColor(kGreen);"
   ]
  },
  {
   "cell_type": "markdown",
   "metadata": {},
   "source": [
    "Define Z0 Traillep histograms for Diboson analysis"
   ]
  },
  {
   "cell_type": "code",
   "execution_count": null,
   "metadata": {
    "collapsed": true
   },
   "outputs": [],
   "source": [
    "//Diboson WW histrogram\n",
    "TH1F *h_lep_z0_tl_Dww = new TH1F(\"h_lep_z0_tl_Dww\",\"h_lep_z0_tl_Dww\",30,-1,1);\n",
    "h_lep_z0_tl_Dww->SetFillColor(kRed);\n",
    "//Diboson ZZ histrogram\n",
    "TH1F *h_lep_z0_tl_Dzz = new TH1F(\"h_lep_z0_tl_Dzz\",\"h_lep_z0_tl_Dzz\",30,-1,1);\n",
    "h_lep_z0_tl_Dzz->SetFillColor(kYellow);\n",
    "//Diboson WZ histrogram\n",
    "TH1F *h_lep_z0_tl_Dwz = new TH1F(\"h_lep_z0_tl_Dwz\",\"h_lep_z0_tl_Dwz\",30,-1,1);\n",
    "h_lep_z0_tl_Dwz->SetFillColor(kBlue);\n",
    "\n",
    "//Merged Diboson WW,ZZ,WZ histogram\n",
    "TH1F *h_lep_z0_tl_mergedD = new TH1F(\"h_lep_z0_tl_mergedD\",\"h_lep_z0_tl_mergedD\",30,-1,1);\n",
    "h_lep_z0_tl_mergedD->SetFillColor(kGreen);"
   ]
  },
  {
   "cell_type": "markdown",
   "metadata": {},
   "source": [
    "Define Z0 Traillep histograms for Drell Yan analysis"
   ]
  },
  {
   "cell_type": "code",
   "execution_count": null,
   "metadata": {
    "collapsed": true
   },
   "outputs": [],
   "source": [
    "//DYee1 histrogram\n",
    "TH1F *h_lep_z0_tl_DYee1 = new TH1F(\"h_lep_z0_tl_DYee1\",\"h_lep_z0_tl_DYee1\",30,-1,1);\n",
    "h_lep_z0_tl_DYee1->SetFillColor(kRed);\n",
    "//DYee2 histrogram\n",
    "TH1F *h_lep_z0_tl_DYee2 = new TH1F(\"h_lep_z0_tl_DYee2\",\"h_lep_z0_tl_DYee2\",30,-1,1);\n",
    "h_lep_z0_tl_DYee2->SetFillColor(kYellow);\n",
    "//DYmumu1 histrogram\n",
    "TH1F *h_lep_z0_tl_DYmumu1 = new TH1F(\"h_lep_z0_tl_DYmumu1 \",\"h_lep_z0_tl_DYmumu1\",30,-1,1);\n",
    "h_lep_z0_tl_DYmumu1->SetFillColor(kBlue);\n",
    "//DYmumu2 histrogram\n",
    "TH1F *h_lep_z0_tl_DYmumu2 = new TH1F(\"h_lep_z0_tl_DYmumu2\",\"h_lep_z0_tl_DYmumu2\",30,-1,1);\n",
    "h_lep_z0_tl_DYmumu2->SetFillColor(kGreen);\n",
    "//DYtautau1 histrogram\n",
    "TH1F *h_lep_z0_tl_DYtautau1 = new TH1F(\"h_lep_z0_tl_DYtautau1\",\"h_lep_z0_tl_DYtautau1\",30,-1,1);\n",
    "h_lep_z0_tl_DYtautau1->SetFillColor(kOrange);\n",
    "//DYtautau2 histrogram\n",
    "TH1F *h_lep_z0_tl_DYtautau2 = new TH1F(\"h_lep_z0_tl_DYtautau2\",\"h_lep_z0_tl_DYtautau2\",30,-1,1);\n",
    "h_lep_z0_tl_DYtautau2->SetFillColor(kPink);\n",
    "\n",
    "//Merged DY EE,MUMU,TAUTAU histogram\n",
    "TH1F *h_lep_z0_tl_mergedDY = new TH1F(\"h_lep_z0_tl_mergedDY\",\"h_lep_z0_tl_mergedDY\",30,-1,1);\n",
    "h_lep_z0_tl_mergedDY->SetFillColor(kGray);"
   ]
  },
  {
   "cell_type": "markdown",
   "metadata": {},
   "source": [
    "Define Z0 Traillep histograms for Stop analysis"
   ]
  },
  {
   "cell_type": "code",
   "execution_count": null,
   "metadata": {
    "collapsed": true
   },
   "outputs": [],
   "source": [
    "//Stop tchan_top histrogram \n",
    "TH1F *h_lep_z0_tl_Stchan_top = new TH1F(\"h_lep_z0_tl_Stchan_top\",\"h_lep_z0_tl_Stchan_top\",30,-1,1);\n",
    "h_lep_z0_tl_Stchan_top->SetFillColor(kRed);\n",
    "//Stop tchan_antitop histrogram\n",
    "TH1F *h_lep_z0_tl_Stchan_antitop = new TH1F(\"h_lep_z0_tl_Stchan_antitop\",\"h_lep_z0_tl_Stchan_antitop\",30,-1,1);\n",
    "h_lep_z0_tl_Stchan_antitop->SetFillColor(kYellow);\n",
    "//Stop schan histogram\n",
    "TH1F *h_lep_z0_tl_Sschan = new TH1F(\"h_lep_z0_tl_Sschan \",\"h_lep_z0_tl_Sschan\",30,-1,1);\n",
    "h_lep_z0_tl_Sschan->SetFillColor(kBlue);\n",
    "//Stop wtchan histogram\n",
    "TH1F *h_lep_z0_tl_Swtchan = new TH1F(\"h_lep_z0_tl_Swtchan\",\"h_lep_z0_tl_Swtchan\",30,-1,1);\n",
    "h_lep_z0_tl_Swtchan->SetFillColor(kGreen);\n",
    "\n",
    "//Merged stop \n",
    "TH1F *h_lep_z0_tl_mergedS = new TH1F(\"h_lep_z0_tl_mergedS\",\"h_lep_z0_tl_mergedS\",30,-1,1);\n",
    "h_lep_z0_tl_mergedS->SetFillColor(kGray);"
   ]
  },
  {
   "cell_type": "markdown",
   "metadata": {},
   "source": [
    "Define Z0 Traillep histograms for TTBar analysis"
   ]
  },
  {
   "cell_type": "code",
   "execution_count": null,
   "metadata": {
    "collapsed": true
   },
   "outputs": [],
   "source": [
    "//TTBar had histrogram \n",
    "TH1F *h_lep_z0_tl_TThad = new TH1F(\"h_lep_z0_tl_TThad\",\"h_lep_z0_tl_TThad\",30,-1,1);\n",
    "h_lep_z0_tl_TThad->SetFillColor(kRed);\n",
    "//TTBar lep histrogram\n",
    "TH1F *h_lep_z0_tl_TTlep = new TH1F(\"h_lep_z0_tl_TTlep\",\"h_lep_z0_tl_TTlep\",30,-1,1);\n",
    "h_lep_z0_tl_TTlep->SetFillColor(kYellow);\n",
    "\n",
    "//Merged TTBar\n",
    "TH1F *h_lep_z0_tl_mergedTT = new TH1F(\"h_lep_z0_tl_mergedTT\",\"h_lep_z0_tl_mergedTT\",30,-1,1);\n",
    "h_lep_z0_tl_mergedTT->SetFillColor(kGray);"
   ]
  },
  {
   "cell_type": "markdown",
   "metadata": {},
   "source": [
    "Define Z0 Traillep histograms for W analysis"
   ]
  },
  {
   "cell_type": "code",
   "execution_count": null,
   "metadata": {
    "collapsed": true
   },
   "outputs": [],
   "source": [
    "//W HISTOGRAMS\n",
    "//WenuW hisogram\n",
    "TH1F *h_lep_z0_tl_WenuW = new TH1F(\"h_lep_z0_tl_WenuW\",\"h_lep_z0_tl_WenuW\",30,-1,1);\n",
    "h_lep_z0_tl_WenuW->SetFillColor(kRed);\n",
    "//WenuJ histrogram - last cut only \n",
    "TH1F *h_lep_z0_tl_WenuJ = new TH1F(\"h_lep_z0_tl_WenuJ\",\"h_lep_z0_tl_WenuJ\",30,-1,1);\n",
    "h_lep_z0_tl_WenuJ->SetFillColor(kYellow);\n",
    "//WenuN histrogram - last cut only \n",
    "TH1F *h_lep_z0_tl_WenuN = new TH1F(\"h_lep_z0_tl_WenuN\",\"h_lep_z0_tl_WenuN\",30,-1,1);\n",
    "h_lep_z0_tl_WenuN->SetFillColor(kBlue);\n",
    "//WmunuW hisogram\n",
    "TH1F *h_lep_z0_tl_WmunuW = new TH1F(\"h_lep_z0_tl_WmunuW\",\"h_lep_z0_tl_WmunuW\",30,-1,1);\n",
    "h_lep_z0_tl_WmunuW->SetFillColor(kRed);\n",
    "//WmunuJ histrogram - last cut only \n",
    "TH1F *h_lep_z0_tl_WmunuJ = new TH1F(\"h_lep_z0_tl_WmunuJ\",\"h_lep_z0_tl_WmunuJ\",30,-1,1);\n",
    "h_lep_z0_tl_WmunuJ->SetFillColor(kYellow);\n",
    "//WmunuN histrogram - last cut only \n",
    "TH1F *h_lep_z0_tl_WmunuN = new TH1F(\"h_lep_z0_tl_WmunuN\",\"h_lep_z0_tl_WmunuN\",30,-1,1);\n",
    "h_lep_z0_tl_WmunuN->SetFillColor(kBlue);\n",
    "//WtaunuW hisogram\n",
    "TH1F *h_lep_z0_tl_WtaunuW = new TH1F(\"h_lep_z0_tl_WtaunuW\",\"h_lep_z0_tl_WtaunuW\",30,-1,1);\n",
    "h_lep_z0_tl_WtaunuW->SetFillColor(kRed);\n",
    "//WtaunuJ histrogram - last cut only \n",
    "TH1F *h_lep_z0_tl_WtaunuJ = new TH1F(\"h_lep_z0_tl_WtaunuJ\",\"h_lep_z0_tl_WtaunuJ\",30,-1,1);\n",
    "h_lep_z0_tl_WtaunuJ->SetFillColor(kYellow);\n",
    "//WtaunuN histrogram - last cut only \n",
    "TH1F *h_lep_z0_tl_WtaunuN = new TH1F(\"h_lep_z0_tl_WtaunuN\",\"h_lep_z0_tl_WtaunuN\",30,-1,1);\n",
    "h_lep_z0_tl_WtaunuN->SetFillColor(kBlue);\n",
    "\n",
    "//Merged Wenu,Wmunu,Wtaunu\n",
    "TH1F *h_lep_z0_tl_mergedW = new TH1F(\"h_lep_z0_tl_mergedW\",\"h_lep_z0_tl_mergedW\",30,-1,1);\n",
    "h_lep_z0_tl_mergedW->SetFillColor(kGreen);"
   ]
  },
  {
   "cell_type": "markdown",
   "metadata": {},
   "source": [
    "Define D0 Traillep histograms Z analysis "
   ]
  },
  {
   "cell_type": "code",
   "execution_count": null,
   "metadata": {
    "collapsed": true
   },
   "outputs": [],
   "source": [
    "//D0_TL HISTOGRAMS\n",
    "//Zee histrogram - last cut only \n",
    "TH1F *h_lep_d0_tl_Zee = new TH1F(\"h_lep_d0_tl_Zee\",\"h_lep_d0_tl_Zee\",5,-1,1);\n",
    "h_lep_d0_tl_Zee->SetFillColor(kRed);\n",
    "//Zmumu histrogram - last cut only \n",
    "TH1F *h_lep_d0_tl_Zmumu = new TH1F(\"h_lep_d0_tl_Zmumu\",\"h_lep_d0_tl_Zmumu\",5,-1,1);\n",
    "h_lep_d0_tl_Zmumu->SetFillColor(kYellow);\n",
    "//Ztautau histrogram - last cut only \n",
    "TH1F *h_lep_d0_tl_Ztautau = new TH1F(\"h_lep_d0_tl_Ztautau\",\"h_lep_d0_tl_Ztautau\",5,-1,1);\n",
    "h_lep_d0_tl_Ztautau->SetFillColor(kBlue);\n",
    "\n",
    "//Merged Zee,Zmumu,Ztautau\n",
    "TH1F *h_lep_d0_tl_mergedZ = new TH1F(\"h_lep_d0_tl_mergedZ\",\"h_lep_d0_tl_mergedZ\",5,-1,1);\n",
    "h_lep_d0_tl_mergedZ->SetFillColor(kGreen);"
   ]
  },
  {
   "cell_type": "markdown",
   "metadata": {},
   "source": [
    "Define D0 Traillep histograms Diboson analysis "
   ]
  },
  {
   "cell_type": "code",
   "execution_count": null,
   "metadata": {
    "collapsed": true
   },
   "outputs": [],
   "source": [
    "//Diboson WW histrogram\n",
    "TH1F *h_lep_d0_tl_Dww = new TH1F(\"h_lep_d0_tl_Dww\",\"h_lep_d0_tl_Dww\",5,-1,1);\n",
    "h_lep_d0_tl_Dww->SetFillColor(kRed);\n",
    "//Diboson ZZ histrogram\n",
    "TH1F *h_lep_d0_tl_Dzz = new TH1F(\"h_lep_d0_tl_Dzz\",\"h_lep_d0_tl_Dzz\",5,-1,1);\n",
    "h_lep_d0_tl_Dzz->SetFillColor(kYellow);\n",
    "//Diboson WZ histrogram\n",
    "TH1F *h_lep_d0_tl_Dwz = new TH1F(\"h_lep_d0_tl_Dwz\",\"h_lep_d0_tl_Dwz\",5,-1,1);\n",
    "h_lep_d0_tl_Dwz->SetFillColor(kBlue);\n",
    "\n",
    "//Merged Diboson WW,ZZ,WZ histogram\n",
    "TH1F *h_lep_d0_tl_mergedD = new TH1F(\"h_lep_d0_tl_mergedD\",\"h_lep_d0_tl_mergedD\",5,-1,1);\n",
    "h_lep_d0_tl_mergedD->SetFillColor(kGreen);"
   ]
  },
  {
   "cell_type": "markdown",
   "metadata": {},
   "source": [
    "Define D0 Traillep histograms Drell Yan analysis "
   ]
  },
  {
   "cell_type": "code",
   "execution_count": null,
   "metadata": {
    "collapsed": true
   },
   "outputs": [],
   "source": [
    "//DYee1 histrogram\n",
    "TH1F *h_lep_d0_tl_DYee1 = new TH1F(\"h_lep_d0_tl_DYee1\",\"h_lep_d0_tl_DYee1\",5,-1,1);\n",
    "h_lep_d0_tl_DYee1->SetFillColor(kRed);\n",
    "//DYee2 histrogram\n",
    "TH1F *h_lep_d0_tl_DYee2 = new TH1F(\"h_lep_d0_tl_DYee2\",\"h_lep_d0_tl_DYee2\",5,-1,1);\n",
    "h_lep_d0_tl_DYee2->SetFillColor(kYellow);\n",
    "//DYmumu1 histrogram\n",
    "TH1F *h_lep_d0_tl_DYmumu1 = new TH1F(\"h_lep_d0_tl_DYmumu1 \",\"h_lep_d0_tl_DYmumu1\",5,-1,1);\n",
    "h_lep_d0_tl_DYmumu1->SetFillColor(kBlue);\n",
    "//DYmumu2 histrogram\n",
    "TH1F *h_lep_d0_tl_DYmumu2 = new TH1F(\"h_lep_d0_tl_DYmumu2\",\"h_lep_d0_tl_DYmumu2\",5,-1,1);\n",
    "h_lep_d0_tl_DYmumu2->SetFillColor(kGreen);\n",
    "//DYtautau1 histrogram\n",
    "TH1F *h_lep_d0_tl_DYtautau1 = new TH1F(\"h_lep_d0_tl_DYtautau1\",\"h_lep_d0_tl_DYtautau1\",5,-1,1);\n",
    "h_lep_d0_tl_DYtautau1->SetFillColor(kOrange);\n",
    "//DYtautau2 histrogram\n",
    "TH1F *h_lep_d0_tl_DYtautau2 = new TH1F(\"h_lep_d0_tl_DYtautau2\",\"h_lep_d0_tl_DYtautau2\",5,-1,1);\n",
    "h_lep_d0_tl_DYtautau2->SetFillColor(kPink);\n",
    "\n",
    "//Merged DY EE,MUMU,TAUTAU histogram\n",
    "TH1F *h_lep_d0_tl_mergedDY = new TH1F(\"h_lep_d0_tl_mergedDY\",\"h_lep_d0_tl_mergedDY\",5,-1,1);\n",
    "h_lep_d0_tl_mergedDY->SetFillColor(kGray);"
   ]
  },
  {
   "cell_type": "markdown",
   "metadata": {},
   "source": [
    "Define D0 Traillep histograms Stop analysis "
   ]
  },
  {
   "cell_type": "code",
   "execution_count": null,
   "metadata": {
    "collapsed": true
   },
   "outputs": [],
   "source": [
    "//Stop tchan_top histrogram \n",
    "TH1F *h_lep_d0_tl_Stchan_top = new TH1F(\"h_lep_d0_tl_Stchan_top\",\"h_lep_d0_tl_Stchan_top\",5,-1,1);\n",
    "h_lep_d0_tl_Stchan_top->SetFillColor(kRed);\n",
    "//Stop tchan_antitop histrogram\n",
    "TH1F *h_lep_d0_tl_Stchan_antitop = new TH1F(\"h_lep_d0_tl_Stchan_antitop\",\"h_lep_d0_tl_Stchan_antitop\",5,-1,1);\n",
    "h_lep_d0_tl_Stchan_antitop->SetFillColor(kYellow);\n",
    "//Stop schan histogram\n",
    "TH1F *h_lep_d0_tl_Sschan = new TH1F(\"h_lep_d0_tl_Sschan \",\"h_lep_d0_tl_Sschan\",5,-1,1);\n",
    "h_lep_d0_tl_Sschan->SetFillColor(kBlue);\n",
    "//Stop wtchan histogram\n",
    "TH1F *h_lep_d0_tl_Swtchan = new TH1F(\"h_lep_d0_tl_Swtchan\",\"h_lep_d0_tl_Swtchan\",5,-1,1);\n",
    "h_lep_d0_tl_Swtchan->SetFillColor(kGreen);\n",
    "\n",
    "//Merged stop \n",
    "TH1F *h_lep_d0_tl_mergedS = new TH1F(\"h_lep_d0_tl_mergedS\",\"h_lep_d0_tl_mergedS\",5,-1,1);\n",
    "h_lep_d0_tl_mergedS->SetFillColor(kGray);"
   ]
  },
  {
   "cell_type": "markdown",
   "metadata": {},
   "source": [
    "Define D0 Traillep histograms TTBar analysis "
   ]
  },
  {
   "cell_type": "code",
   "execution_count": null,
   "metadata": {
    "collapsed": true
   },
   "outputs": [],
   "source": [
    "//TTBar had histrogram \n",
    "TH1F *h_lep_d0_tl_TThad = new TH1F(\"h_lep_d0_tl_TThad\",\"h_lep_d0_tl_TThad\",5,-1,1);\n",
    "h_lep_d0_tl_TThad->SetFillColor(kRed);\n",
    "//TTBar lep histrogram\n",
    "TH1F *h_lep_d0_tl_TTlep = new TH1F(\"h_lep_d0_tl_TTlep\",\"h_lep_d0_tl_TTlep\",5,-1,1);\n",
    "h_lep_d0_tl_TTlep->SetFillColor(kYellow);\n",
    "\n",
    "//Merged TTBar\n",
    "TH1F *h_lep_d0_tl_mergedTT = new TH1F(\"h_lep_d0_tl_mergedTT\",\"h_lep_d0_tl_mergedTT\",5,-1,1);\n",
    "h_lep_d0_tl_mergedTT->SetFillColor(kGray);"
   ]
  },
  {
   "cell_type": "markdown",
   "metadata": {},
   "source": [
    "Define D0 Traillep histograms W analysis "
   ]
  },
  {
   "cell_type": "code",
   "execution_count": null,
   "metadata": {
    "collapsed": true
   },
   "outputs": [],
   "source": [
    "//W HISTOGRAMS\n",
    "//WenuW hisogram\n",
    "TH1F *h_lep_d0_tl_WenuW = new TH1F(\"h_lep_d0_tl_WenuW\",\"h_lep_d0_tl_WenuW\",5,-1,1);\n",
    "h_lep_d0_tl_WenuW->SetFillColor(kRed);\n",
    "//WenuJ histrogram - last cut only \n",
    "TH1F *h_lep_d0_tl_WenuJ = new TH1F(\"h_lep_d0_tl_WenuJ\",\"h_lep_d0_tl_WenuJ\",5,-1,1);\n",
    "h_lep_d0_tl_WenuJ->SetFillColor(kYellow);\n",
    "//WenuN histrogram - last cut only \n",
    "TH1F *h_lep_d0_tl_WenuN = new TH1F(\"h_lep_d0_tl_WenuN\",\"h_lep_d0_tl_WenuN\",5,-1,1);\n",
    "h_lep_d0_tl_WenuN->SetFillColor(kBlue);\n",
    "//WmunuW hisogram\n",
    "TH1F *h_lep_d0_tl_WmunuW = new TH1F(\"h_lep_d0_tl_WmunuW\",\"h_lep_d0_tl_WmunuW\",5,-1,1);\n",
    "h_lep_d0_tl_WmunuW->SetFillColor(kRed);\n",
    "//WmunuJ histrogram - last cut only \n",
    "TH1F *h_lep_d0_tl_WmunuJ = new TH1F(\"h_lep_d0_tl_WmunuJ\",\"h_lep_d0_tl_WmunuJ\",5,-1,1);\n",
    "h_lep_d0_tl_WmunuJ->SetFillColor(kYellow);\n",
    "//WmunuN histrogram - last cut only \n",
    "TH1F *h_lep_d0_tl_WmunuN = new TH1F(\"h_lep_d0_tl_WmunuN\",\"h_lep_d0_tl_WmunuN\",5,-1,1);\n",
    "h_lep_d0_tl_WmunuN->SetFillColor(kBlue);\n",
    "//WtaunuW hisogram\n",
    "TH1F *h_lep_d0_tl_WtaunuW = new TH1F(\"h_lep_d0_tl_WtaunuW\",\"h_lep_d0_tl_WtaunuW\",5,-1,1);\n",
    "h_lep_d0_tl_WtaunuW->SetFillColor(kRed);\n",
    "//WtaunuJ histrogram - last cut only \n",
    "TH1F *h_lep_d0_tl_WtaunuJ = new TH1F(\"h_lep_d0_tl_WtaunuJ\",\"h_lep_d0_tl_WtaunuJ\",5,-1,1);\n",
    "h_lep_d0_tl_WtaunuJ->SetFillColor(kYellow);\n",
    "//WtaunuN histrogram - last cut only \n",
    "TH1F *h_lep_d0_tl_WtaunuN = new TH1F(\"h_lep_d0_tl_WtaunuN\",\"h_lep_d0_tl_WtaunuN\",5,-1,1);\n",
    "h_lep_d0_tl_WtaunuN->SetFillColor(kBlue);\n",
    "\n",
    "//Merged Wenu,Wmunu,Wtaunu\n",
    "TH1F *h_lep_d0_tl_mergedW = new TH1F(\"h_lep_d0_tl_mergedW\",\"h_lep_d0_tl_mergedW\",5,-1,1);\n",
    "h_lep_d0_tl_mergedW->SetFillColor(kGreen);"
   ]
  },
  {
   "cell_type": "markdown",
   "metadata": {},
   "source": [
    "Define JET_N histograms Z analysis "
   ]
  },
  {
   "cell_type": "code",
   "execution_count": null,
   "metadata": {
    "collapsed": false
   },
   "outputs": [],
   "source": [
    "//JET_N HISTOGRAMS\n",
    "//Zee histrogram - last cut only \n",
    "TH1F *h_jet_n_Zee = new TH1F(\"h_jet_n_Zee\",\"h_jet_n_Zee\",40,-5,10);\n",
    "h_jet_n_Zee->SetFillColor(kRed);\n",
    "//Zmumu histrogram - last cut only \n",
    "TH1F *h_jet_n_Zmumu = new TH1F(\"h_jet_n_Zmumu\",\"h_jet_n_Zmumu\",40,-5,10);\n",
    "h_jet_n_Zmumu->SetFillColor(kYellow);\n",
    "//Ztautau histrogram - last cut only \n",
    "TH1F *h_jet_n_Ztautau = new TH1F(\"h_jet_n_Ztautau\",\"h_jet_n_Ztautau\",40,-5,10);\n",
    "h_jet_n_Ztautau->SetFillColor(kBlue);\n",
    "\n",
    "//Merged Zee,Zmumu,Ztautau\n",
    "TH1F *h_jet_n_mergedZ = new TH1F(\"h_jet_n_mergedZ\",\"h_jet_n_mergedZ\",40,-5,10);\n",
    "h_jet_n_mergedZ->SetFillColor(kGreen);"
   ]
  },
  {
   "cell_type": "markdown",
   "metadata": {},
   "source": [
    "Define JET_N histograms Diboson analysis "
   ]
  },
  {
   "cell_type": "code",
   "execution_count": null,
   "metadata": {
    "collapsed": true
   },
   "outputs": [],
   "source": [
    "//Diboson WW histrogram\n",
    "TH1F *h_jet_n_Dww = new TH1F(\"h_jet_n_Dww\",\"h_jet_n_Dww\",40,-5,10);\n",
    "h_jet_n_Dww->SetFillColor(kRed);\n",
    "//Diboson ZZ histrogram\n",
    "TH1F *h_jet_n_Dzz = new TH1F(\"h_jet_n_Dzz\",\"h_jet_n_Dzz\",40,-5,10);\n",
    "h_jet_n_Dzz->SetFillColor(kYellow);\n",
    "//Diboson WZ histrogram\n",
    "TH1F *h_jet_n_Dwz = new TH1F(\"h_jet_n_Dwz\",\"h_jet_n_Dwz\",40,-5,10);\n",
    "h_jet_n_Dwz->SetFillColor(kBlue);\n",
    "\n",
    "//Merged Diboson WW,ZZ,WZ histogram\n",
    "TH1F *h_jet_n_mergedD = new TH1F(\"h_jet_n_mergedD\",\"h_jet_n_mergedD\",40,-5,10);\n",
    "h_jet_n_mergedD->SetFillColor(kGreen);"
   ]
  },
  {
   "cell_type": "markdown",
   "metadata": {},
   "source": [
    "Define JET_N histograms Drell Yan analysis "
   ]
  },
  {
   "cell_type": "code",
   "execution_count": null,
   "metadata": {
    "collapsed": true
   },
   "outputs": [],
   "source": [
    "//DYee1 histrogram\n",
    "TH1F *h_jet_n_DYee1 = new TH1F(\"h_jet_n_DYee1\",\"h_jet_n_DYee1\",40,-5,10);\n",
    "h_jet_n_DYee1->SetFillColor(kRed);\n",
    "//DYee2 histrogram\n",
    "TH1F *h_jet_n_DYee2 = new TH1F(\"h_jet_n_DYee2\",\"h_jet_n_DYee2\",40,-5,10);\n",
    "h_jet_n_DYee2->SetFillColor(kYellow);\n",
    "//DYmumu1 histrogram\n",
    "TH1F *h_jet_n_DYmumu1 = new TH1F(\"h_jet_n_DYmumu1 \",\"h_jet_n_DYmumu1\",40,-5,10);\n",
    "h_jet_n_DYmumu1->SetFillColor(kBlue);\n",
    "//DYmumu2 histrogram\n",
    "TH1F *h_jet_n_DYmumu2 = new TH1F(\"h_jet_n_DYmumu2\",\"h_jet_n_DYmumu2\",40,-5,10);\n",
    "h_jet_n_DYmumu2->SetFillColor(kGreen);\n",
    "//DYtautau1 histrogram\n",
    "TH1F *h_jet_n_DYtautau1 = new TH1F(\"h_jet_n_DYtautau1\",\"h_jet_n_DYtautau1\",40,-5,10);\n",
    "h_jet_n_DYtautau1->SetFillColor(kOrange);\n",
    "//DYtautau2 histrogram\n",
    "TH1F *h_jet_n_DYtautau2 = new TH1F(\"h_jet_n_DYtautau2\",\"h_jet_n_DYtautau2\",40,-5,10);\n",
    "h_jet_n_DYtautau2->SetFillColor(kPink);\n",
    "\n",
    "//Merged DY EE,MUMU,TAUTAU histogram\n",
    "TH1F *h_jet_n_mergedDY = new TH1F(\"h_jet_n_mergedDY\",\"h_jet_n_mergedDY\",40,-5,10);\n",
    "h_jet_n_mergedDY->SetFillColor(kGray);"
   ]
  },
  {
   "cell_type": "markdown",
   "metadata": {},
   "source": [
    "Define JET_N histograms Stop analysis "
   ]
  },
  {
   "cell_type": "code",
   "execution_count": null,
   "metadata": {
    "collapsed": true
   },
   "outputs": [],
   "source": [
    "//Stop tchan_top histrogram \n",
    "TH1F *h_jet_n_Stchan_top = new TH1F(\"h_jet_n_Stchan_top\",\"h_jet_n_Stchan_top\",40,-5,10);\n",
    "h_jet_n_Stchan_top->SetFillColor(kRed);\n",
    "//Stop tchan_antitop histrogram\n",
    "TH1F *h_jet_n_Stchan_antitop = new TH1F(\"h_jet_n_Stchan_antitop\",\"h_jet_n_Stchan_antitop\",40,-5,10);\n",
    "h_jet_n_Stchan_antitop->SetFillColor(kYellow);\n",
    "//Stop schan histogram\n",
    "TH1F *h_jet_n_Sschan = new TH1F(\"h_jet_n_Sschan \",\"h_jet_n_Sschan\",40,-5,10);\n",
    "h_jet_n_Sschan->SetFillColor(kBlue);\n",
    "//Stop wtchan histogram\n",
    "TH1F *h_jet_n_Swtchan = new TH1F(\"h_jet_n_Swtchan\",\"h_jet_n_Swtchan\",40,-5,10);\n",
    "h_jet_n_Swtchan->SetFillColor(kGreen);\n",
    "\n",
    "//Merged stop \n",
    "TH1F *h_jet_n_mergedS = new TH1F(\"h_jet_n_mergedS\",\"h_jet_n_mergedS\",40,-5,10);\n",
    "h_jet_n_mergedS->SetFillColor(kGray);"
   ]
  },
  {
   "cell_type": "markdown",
   "metadata": {},
   "source": [
    "Define JET_N histograms TTBar analysis "
   ]
  },
  {
   "cell_type": "code",
   "execution_count": null,
   "metadata": {
    "collapsed": true
   },
   "outputs": [],
   "source": [
    "//TTBar had histrogram \n",
    "TH1F *h_jet_n_TThad = new TH1F(\"h_jet_n_TThad\",\"h_jet_n_TThad\",40,-5,10);\n",
    "h_jet_n_TThad->SetFillColor(kRed);\n",
    "//TTBar lep histrogram\n",
    "TH1F *h_jet_n_TTlep = new TH1F(\"h_jet_n_TTlep\",\"h_jet_n_TTlep\",40,-5,10);\n",
    "h_jet_n_TTlep->SetFillColor(kYellow);\n",
    "\n",
    "//Merged TTBar\n",
    "TH1F *h_jet_n_mergedTT = new TH1F(\"h_jet_n_mergedTT\",\"h_jet_n_mergedTT\",40,-5,10);\n",
    "h_jet_n_mergedTT->SetFillColor(kGray);"
   ]
  },
  {
   "cell_type": "markdown",
   "metadata": {},
   "source": [
    "Define JET_N histograms W analysis "
   ]
  },
  {
   "cell_type": "code",
   "execution_count": null,
   "metadata": {
    "collapsed": true
   },
   "outputs": [],
   "source": [
    "//W HISTOGRAMS\n",
    "//WenuW hisogram\n",
    "TH1F *h_jet_n_WenuW = new TH1F(\"h_jet_n_WenuW\",\"h_jet_n_WenuW\",40,-5,10);\n",
    "h_jet_n_WenuW->SetFillColor(kRed);\n",
    "//WenuJ histrogram - last cut only \n",
    "TH1F *h_jet_n_WenuJ = new TH1F(\"h_jet_n_WenuJ\",\"h_jet_n_WenuJ\",40,-5,10);\n",
    "h_jet_n_WenuJ->SetFillColor(kYellow);\n",
    "//WenuN histrogram - last cut only \n",
    "TH1F *h_jet_n_WenuN = new TH1F(\"h_jet_n_WenuN\",\"h_jet_n_WenuN\",40,-5,10);\n",
    "h_jet_n_WenuN->SetFillColor(kBlue);\n",
    "//WmunuW hisogram\n",
    "TH1F *h_jet_n_WmunuW = new TH1F(\"h_jet_n_WmunuW\",\"h_jet_n_WmunuW\",40,-5,10);\n",
    "h_jet_n_WmunuW->SetFillColor(kRed);\n",
    "//WmunuJ histrogram - last cut only \n",
    "TH1F *h_jet_n_WmunuJ = new TH1F(\"h_jet_n_WmunuJ\",\"h_jet_n_WmunuJ\",40,-5,10);\n",
    "h_jet_n_WmunuJ->SetFillColor(kYellow);\n",
    "//WmunuN histrogram - last cut only \n",
    "TH1F *h_jet_n_WmunuN = new TH1F(\"h_jet_n_WmunuN\",\"h_jet_n_WmunuN\",40,-5,10);\n",
    "h_jet_n_WmunuN->SetFillColor(kBlue);\n",
    "//WtaunuW hisogram\n",
    "TH1F *h_jet_n_WtaunuW = new TH1F(\"h_jet_n_WtaunuW\",\"h_jet_n_WtaunuW\",40,-5,10);\n",
    "h_jet_n_WtaunuW->SetFillColor(kRed);\n",
    "//WtaunuJ histrogram - last cut only \n",
    "TH1F *h_jet_n_WtaunuJ = new TH1F(\"h_jet_n_WtaunuJ\",\"h_jet_n_WtaunuJ\",40,-5,10);\n",
    "h_jet_n_WtaunuJ->SetFillColor(kYellow);\n",
    "//WtaunuN histrogram - last cut only \n",
    "TH1F *h_jet_n_WtaunuN = new TH1F(\"h_jet_n_WtaunuN\",\"h_jet_n_WtaunuN\",40,-5,10);\n",
    "h_jet_n_WtaunuN->SetFillColor(kBlue);\n",
    "\n",
    "//Merged Wenu,Wmunu,Wtaunu\n",
    "TH1F *h_jet_n_mergedW = new TH1F(\"h_jet_n_mergedW\",\"h_jet_n_mergedW\",40,-5,10);\n",
    "h_jet_n_mergedW->SetFillColor(kGreen);"
   ]
  },
  {
   "cell_type": "markdown",
   "metadata": {},
   "source": [
    "JET PT histograms for each analysis"
   ]
  },
  {
   "cell_type": "markdown",
   "metadata": {},
   "source": [
    "Define JET PT histograms Z analysis"
   ]
  },
  {
   "cell_type": "code",
   "execution_count": null,
   "metadata": {
    "collapsed": true
   },
   "outputs": [],
   "source": [
    "//PT HISTOGRAMS\n",
    "//Zee histrogram - last cut only \n",
    "TH1F *h_jet_pt_Zee = new TH1F(\"h_jet_pt_Zee\",\"h_jet_pt_Zee\",55,0,200);\n",
    "h_jet_pt_Zee->SetFillColor(kRed);\n",
    "//Zmumu histrogram - last cut only \n",
    "TH1F *h_jet_pt_Zmumu = new TH1F(\"h_jet_pt_Zmumu\",\"h_jet_pt_Zmumu\",55,0,200);\n",
    "h_jet_pt_Zmumu->SetFillColor(kYellow);\n",
    "//Ztautau histrogram - last cut only \n",
    "TH1F *h_jet_pt_Ztautau = new TH1F(\"h_jet_pt_Ztautau\",\"h_jet_pt_Ztautau\",55,0,200);\n",
    "h_jet_pt_Ztautau->SetFillColor(kBlue);\n",
    "\n",
    "//Merged Zee,Zmumu,Ztautau\n",
    "TH1F *h_jet_pt_mergedZ = new TH1F(\"h_jet_pt_mergedZ\",\"h_jet_pt_mergedZ\",55,0,200);\n",
    "h_jet_pt_mergedZ->SetFillColor(kGreen);"
   ]
  },
  {
   "cell_type": "markdown",
   "metadata": {},
   "source": [
    "Define JET PT histograms Diboson analysis"
   ]
  },
  {
   "cell_type": "code",
   "execution_count": null,
   "metadata": {
    "collapsed": true
   },
   "outputs": [],
   "source": [
    "//Diboson WW histrogram\n",
    "TH1F *h_jet_pt_Dww = new TH1F(\"h_jet_pt_Dww\",\"h_jet_pt_Dww\",55,0,200);\n",
    "h_jet_pt_Dww->SetFillColor(kRed);\n",
    "//Diboson ZZ histrogram\n",
    "TH1F *h_jet_pt_Dzz = new TH1F(\"h_jet_pt_Dzz\",\"h_jet_pt_Dzz\",55,0,200);\n",
    "h_jet_pt_Dzz->SetFillColor(kYellow);\n",
    "//Diboson WZ histrogram\n",
    "TH1F *h_jet_pt_Dwz = new TH1F(\"h_jet_pt_Dwz\",\"h_jet_pt_Dwz\",55,0,200);\n",
    "h_jet_pt_Dwz->SetFillColor(kBlue);\n",
    "\n",
    "//Merged Diboson WW,ZZ,WZ histogram\n",
    "TH1F *h_jet_pt_mergedD = new TH1F(\"h_jet_pt_mergedD\",\"h_jet_pt_mergedD\",55,0,200);\n",
    "h_jet_pt_mergedD->SetFillColor(kGreen);"
   ]
  },
  {
   "cell_type": "markdown",
   "metadata": {},
   "source": [
    "Define JET PT histograms Drell Yan analysis"
   ]
  },
  {
   "cell_type": "code",
   "execution_count": null,
   "metadata": {
    "collapsed": true
   },
   "outputs": [],
   "source": [
    "//DYee1 histrogram\n",
    "TH1F *h_jet_pt_DYee1 = new TH1F(\"h_jet_pt_DYee1\",\"h_jet_pt_DYee1\",55,0,200);\n",
    "h_jet_pt_DYee1->SetFillColor(kRed);\n",
    "//DYee2 histrogram\n",
    "TH1F *h_jet_pt_DYee2 = new TH1F(\"h_jet_pt_DYee2\",\"h_jet_pt_DYee2\",55,0,200);\n",
    "h_jet_pt_DYee2->SetFillColor(kYellow);\n",
    "//DYmumu1 histrogram\n",
    "TH1F *h_jet_pt_DYmumu1 = new TH1F(\"h_jet_pt_DYmumu1 \",\"h_jet_pt_DYmumu1\",55,0,200);\n",
    "h_jet_pt_DYmumu1->SetFillColor(kBlue);\n",
    "//DYmumu2 histrogram\n",
    "TH1F *h_jet_pt_DYmumu2 = new TH1F(\"h_jet_pt_DYmumu2\",\"h_jet_pt_DYmumu2\",55,0,200);\n",
    "h_jet_pt_DYmumu2->SetFillColor(kGreen);\n",
    "//DYtautau1 histrogram\n",
    "TH1F *h_jet_pt_DYtautau1 = new TH1F(\"h_jet_pt_DYtautau1\",\"h_jet_pt_DYtautau1\",55,0,200);\n",
    "h_jet_pt_DYtautau1->SetFillColor(kOrange);\n",
    "//DYtautau2 histrogram\n",
    "TH1F *h_jet_pt_DYtautau2 = new TH1F(\"h_jet_pt_DYtautau2\",\"h_jet_pt_DYtautau2\",55,0,200);\n",
    "h_jet_pt_DYtautau2->SetFillColor(kPink);\n",
    "\n",
    "//Merged DY EE,MUMU,TAUTAU histogram\n",
    "TH1F *h_jet_pt_mergedDY = new TH1F(\"h_jet_pt_mergedDY\",\"h_jet_pt_mergedDY\",55,0,200);\n",
    "h_jet_pt_mergedDY->SetFillColor(kGray);"
   ]
  },
  {
   "cell_type": "markdown",
   "metadata": {},
   "source": [
    "Define JET PT histograms Stop analysis"
   ]
  },
  {
   "cell_type": "code",
   "execution_count": null,
   "metadata": {
    "collapsed": true
   },
   "outputs": [],
   "source": [
    "//Stop tchan_top histrogram \n",
    "TH1F *h_jet_pt_Stchan_top = new TH1F(\"h_jet_pt_Stchan_top\",\"h_jet_pt_Stchan_top\",55,0,200);\n",
    "h_jet_pt_Stchan_top->SetFillColor(kRed);\n",
    "//Stop tchan_antitop histrogram\n",
    "TH1F *h_jet_pt_Stchan_antitop = new TH1F(\"h_jet_pt_Stchan_antitop\",\"h_jet_pt_Stchan_antitop\",55,0,200);\n",
    "h_jet_pt_Stchan_antitop->SetFillColor(kYellow);\n",
    "//Stop schan histogram\n",
    "TH1F *h_jet_pt_Sschan = new TH1F(\"h_jet_pt_Sschan \",\"h_jet_pt_Sschan\",55,0,200);\n",
    "h_jet_pt_Sschan->SetFillColor(kBlue);\n",
    "//Stop wtchan histogram\n",
    "TH1F *h_jet_pt_Swtchan = new TH1F(\"h_jet_pt_Swtchan\",\"h_jet_pt_Swtchan\",55,0,200);\n",
    "h_jet_pt_Swtchan->SetFillColor(kGreen);\n",
    "\n",
    "//Merged stop \n",
    "TH1F *h_jet_pt_mergedS = new TH1F(\"h_jet_pt_mergedS\",\"h_jet_pt_mergedS\",55,0,200);\n",
    "h_jet_pt_mergedS->SetFillColor(kGray);"
   ]
  },
  {
   "cell_type": "markdown",
   "metadata": {},
   "source": [
    "Define JET PT histograms TTBar analysis"
   ]
  },
  {
   "cell_type": "code",
   "execution_count": null,
   "metadata": {
    "collapsed": true
   },
   "outputs": [],
   "source": [
    "//TTBar had histrogram \n",
    "TH1F *h_jet_pt_TThad = new TH1F(\"h_jet_pt_TThad\",\"h_jet_pt_TThad\",55,0,200);\n",
    "h_jet_pt_TThad->SetFillColor(kRed);\n",
    "//TTBar lep histrogram\n",
    "TH1F *h_jet_pt_TTlep = new TH1F(\"h_jet_pt_TTlep\",\"h_jet_pt_TTlep\",55,0,200);\n",
    "h_jet_pt_TTlep->SetFillColor(kYellow);\n",
    "\n",
    "//Merged TTBar\n",
    "TH1F *h_jet_pt_mergedTT = new TH1F(\"h_jet_pt_mergedTT\",\"h_jet_pt_mergedTT\",55,0,200);\n",
    "h_jet_pt_mergedTT->SetFillColor(kGray);"
   ]
  },
  {
   "cell_type": "markdown",
   "metadata": {},
   "source": [
    "Define JET PT histograms W analysis"
   ]
  },
  {
   "cell_type": "code",
   "execution_count": null,
   "metadata": {
    "collapsed": true
   },
   "outputs": [],
   "source": [
    "//W HISTOGRAMS\n",
    "//WenuW hisogram\n",
    "TH1F *h_jet_pt_WenuW = new TH1F(\"h_jet_pt_WenuW\",\"h_jet_pt_WenuW\",55,0,200);\n",
    "h_jet_pt_WenuW->SetFillColor(kRed);\n",
    "//WenuJ histrogram - last cut only \n",
    "TH1F *h_jet_pt_WenuJ = new TH1F(\"h_jet_pt_WenuJ\",\"h_jet_pt_WenuJ\",55,0,200);\n",
    "h_jet_pt_WenuJ->SetFillColor(kYellow);\n",
    "//WenuN histrogram - last cut only \n",
    "TH1F *h_jet_pt_WenuN = new TH1F(\"h_jet_pt_WenuN\",\"h_jet_pt_WenuN\",55,0,200);\n",
    "h_jet_pt_WenuN->SetFillColor(kBlue);\n",
    "//WmunuW hisogram\n",
    "TH1F *h_jet_pt_WmunuW = new TH1F(\"h_jet_pt_WmunuW\",\"h_jet_pt_WmunuW\",55,0,200);\n",
    "h_jet_pt_WmunuW->SetFillColor(kRed);\n",
    "//WmunuJ histrogram - last cut only \n",
    "TH1F *h_jet_pt_WmunuJ = new TH1F(\"h_jet_pt_WmunuJ\",\"h_jet_pt_WmunuJ\",55,0,200);\n",
    "h_jet_pt_WmunuJ->SetFillColor(kYellow);\n",
    "//WmunuN histrogram - last cut only \n",
    "TH1F *h_jet_pt_WmunuN = new TH1F(\"h_jet_pt_WmunuN\",\"h_jet_pt_WmunuN\",55,0,200);\n",
    "h_jet_pt_WmunuN->SetFillColor(kBlue);\n",
    "//WtaunuW hisogram\n",
    "TH1F *h_jet_pt_WtaunuW = new TH1F(\"h_jet_pt_WtaunuW\",\"h_jet_pt_WtaunuW\",55,0,200);\n",
    "h_jet_pt_WtaunuW->SetFillColor(kRed);\n",
    "//WtaunuJ histrogram - last cut only \n",
    "TH1F *h_jet_pt_WtaunuJ = new TH1F(\"h_jet_pt_WtaunuJ\",\"h_jet_pt_WtaunuJ\",55,0,200);\n",
    "h_jet_pt_WtaunuJ->SetFillColor(kYellow);\n",
    "//WtaunuN histrogram - last cut only \n",
    "TH1F *h_jet_pt_WtaunuN = new TH1F(\"h_jet_pt_WtaunuN\",\"h_jet_pt_WtaunuN\",55,0,200);\n",
    "h_jet_pt_WtaunuN->SetFillColor(kBlue);\n",
    "\n",
    "//Merged Wenu,Wmunu,Wtaunu\n",
    "TH1F *h_jet_pt_mergedW = new TH1F(\"h_jet_pt_mergedW\",\"h_jet_pt_mergedW\",55,0,200);\n",
    "h_jet_pt_mergedW->SetFillColor(kGreen);"
   ]
  },
  {
   "cell_type": "markdown",
   "metadata": {},
   "source": [
    "JET_ETA histograms for each analysis"
   ]
  },
  {
   "cell_type": "markdown",
   "metadata": {},
   "source": [
    "Define JET PT histograms Z analysis"
   ]
  },
  {
   "cell_type": "code",
   "execution_count": null,
   "metadata": {
    "collapsed": true
   },
   "outputs": [],
   "source": [
    "//ETA HISTOGRAMS\n",
    "//Zee histrogram - last cut only \n",
    "TH1F *h_jet_eta_Zee = new TH1F(\"h_jet_eta_Zee\",\"h_jet_eta_Zee\",33,-3,3);\n",
    "h_jet_eta_Zee->SetFillColor(kRed);\n",
    "//Zmumu histrogram - last cut only \n",
    "TH1F *h_jet_eta_Zmumu = new TH1F(\"h_jet_eta_Zmumu\",\"h_jet_eta_Zmumu\",33,-3,3);\n",
    "h_jet_eta_Zmumu->SetFillColor(kYellow);\n",
    "//Ztautau histrogram - last cut only \n",
    "TH1F *h_jet_eta_Ztautau = new TH1F(\"h_jet_eta_Ztautau\",\"h_jet_eta_Ztautau\",33,-3,3);\n",
    "h_jet_eta_Ztautau->SetFillColor(kBlue);\n",
    "\n",
    "//Merged Zee,Zmumu,Ztautau\n",
    "TH1F *h_jet_eta_mergedZ = new TH1F(\"h_jet_eta_mergedZ\",\"h_jet_eta_mergedZ\",33,-3,3);\n",
    "h_jet_eta_mergedZ->SetFillColor(kGreen);"
   ]
  },
  {
   "cell_type": "markdown",
   "metadata": {},
   "source": [
    "Define JET PT histograms Diboson analysis"
   ]
  },
  {
   "cell_type": "code",
   "execution_count": null,
   "metadata": {
    "collapsed": true
   },
   "outputs": [],
   "source": [
    "//Diboson WW histrogram\n",
    "TH1F *h_jet_eta_Dww = new TH1F(\"h_jet_eta_Dww\",\"h_jet_eta_Dww\",33,-3,3);\n",
    "h_jet_eta_Dww->SetFillColor(kRed);\n",
    "//Diboson ZZ histrogram\n",
    "TH1F *h_jet_eta_Dzz = new TH1F(\"h_jet_eta_Dzz\",\"h_jet_eta_Dzz\",33,-3,3);\n",
    "h_jet_eta_Dzz->SetFillColor(kYellow);\n",
    "//Diboson WZ histrogram\n",
    "TH1F *h_jet_eta_Dwz = new TH1F(\"h_jet_eta_Dwz\",\"h_jet_eta_Dwz\",33,-3,3);\n",
    "h_jet_eta_Dwz->SetFillColor(kBlue);\n",
    "\n",
    "//Merged Dibson WW,ZZ,WZ histogram\n",
    "TH1F *h_jet_eta_mergedD = new TH1F(\"h_jet_eta_mergedD\",\"h_jet_eta_mergedD\",33,-3,3);\n",
    "h_jet_eta_mergedD->SetFillColor(kGreen);"
   ]
  },
  {
   "cell_type": "markdown",
   "metadata": {},
   "source": [
    "Define JET PT histograms Drell Yan analysis"
   ]
  },
  {
   "cell_type": "code",
   "execution_count": null,
   "metadata": {
    "collapsed": true
   },
   "outputs": [],
   "source": [
    "//DYee1 histrogram\n",
    "TH1F *h_jet_eta_DYee1 = new TH1F(\"h_jet_eta_DYee1\",\"h_jet_eta_DYee1\",33,-3,3);\n",
    "h_jet_eta_DYee1->SetFillColor(kRed);\n",
    "//DYee2 histrogram\n",
    "TH1F *h_jet_eta_DYee2 = new TH1F(\"h_jet_eta_DYee2\",\"h_jet_eta_DYee2\",33,-3,3);\n",
    "h_jet_eta_DYee2->SetFillColor(kYellow);\n",
    "//DYmumu1 histrogram\n",
    "TH1F *h_jet_eta_DYmumu1 = new TH1F(\"h_jet_eta_DYmumu1\",\"h_jet_eta_DYmumu1\",33,-3,3);\n",
    "h_jet_eta_DYmumu1->SetFillColor(kBlue);\n",
    "//DYmumu2 histrogram\n",
    "TH1F *h_jet_eta_DYmumu2 = new TH1F(\"h_jet_eta_DYmumu2\",\"h_jet_eta_DYmumu2\",33,-3,3);\n",
    "h_jet_eta_DYmumu2->SetFillColor(kGreen);\n",
    "//DYtautau1 histrogram\n",
    "TH1F *h_jet_eta_DYtautau1 = new TH1F(\"h_jet_eta_DYtautau1\",\"h_jet_eta_DYtautau1\",33,-3,3);\n",
    "h_jet_eta_DYtautau1->SetFillColor(kOrange);\n",
    "//DYtautau2 histrogram\n",
    "TH1F *h_jet_eta_DYtautau2 = new TH1F(\"h_jet_eta_DYtautau2\",\"h_jet_eta_DYtautau2\",33,-3,3);\n",
    "h_jet_eta_DYtautau2->SetFillColor(kPink);\n",
    "\n",
    "//Merged DY EE,MUMU,TAUTAU histogram\n",
    "TH1F *h_jet_eta_mergedDY = new TH1F(\"h_jet_eta_mergedDY\",\"h_jet_eta_mergedDY\",33,-3,3);\n",
    "h_jet_eta_mergedDY->SetFillColor(kGray);"
   ]
  },
  {
   "cell_type": "markdown",
   "metadata": {},
   "source": [
    "Define JET PT histograms Stop analysis"
   ]
  },
  {
   "cell_type": "code",
   "execution_count": null,
   "metadata": {
    "collapsed": true
   },
   "outputs": [],
   "source": [
    "//Stop tchan_top histrogram \n",
    "TH1F *h_jet_eta_Stchan_top = new TH1F(\"h_jet_eta_Stchan_top\",\"h_jet_eta_Stchan_top\",33,-3,3);\n",
    "h_jet_eta_Stchan_top->SetFillColor(kRed);\n",
    "//Stop tchan_antitop histrogram\n",
    "TH1F *h_jet_eta_Stchan_antitop = new TH1F(\"h_jet_eta_Stchan_antitop\",\"h_jet_eta_Stchan_antitop\",33,-3,3);\n",
    "h_jet_eta_Stchan_antitop->SetFillColor(kYellow);\n",
    "//Stop schan histogram\n",
    "TH1F *h_jet_eta_Sschan = new TH1F(\"h_jet_eta_Sschan \",\"h_jet_eta_Sschan\",33,-3,3);\n",
    "h_jet_eta_Sschan->SetFillColor(kBlue);\n",
    "//Stop wtchan histogram\n",
    "TH1F *h_jet_eta_Swtchan = new TH1F(\"h_jet_eta_Swtchan\",\"h_jet_eta_Swtchan\",33,-3,3);\n",
    "h_jet_eta_Swtchan->SetFillColor(kGreen);\n",
    "\n",
    "//Merged stop \n",
    "TH1F *h_jet_eta_mergedS = new TH1F(\"h_jet_eta_mergedS\",\"h_jet_eta_mergedS\",33,-3,3);\n",
    "h_jet_eta_mergedS->SetFillColor(kGray);"
   ]
  },
  {
   "cell_type": "markdown",
   "metadata": {},
   "source": [
    "Define JET PT histograms TTBar analysis"
   ]
  },
  {
   "cell_type": "code",
   "execution_count": null,
   "metadata": {
    "collapsed": true
   },
   "outputs": [],
   "source": [
    "//TTBar had histrogram \n",
    "TH1F *h_jet_eta_TThad = new TH1F(\"h_jet_eta_TThad\",\"h_jet_eta_TThad\",33,-3,3);\n",
    "h_jet_eta_TThad->SetFillColor(kRed);\n",
    "//TTBar lep histrogram\n",
    "TH1F *h_jet_eta_TTlep = new TH1F(\"h_jet_eta_TTlep\",\"h_jet_eta_TTlep\",33,-3,3);\n",
    "h_jet_eta_TTlep->SetFillColor(kYellow);\n",
    "\n",
    "//Merged TTBar\n",
    "TH1F *h_jet_eta_mergedTT = new TH1F(\"h_jet_eta_mergedTT\",\"h_jet_eta_mergedTT\",33,-3,3);\n",
    "h_jet_eta_mergedTT->SetFillColor(kGray);"
   ]
  },
  {
   "cell_type": "markdown",
   "metadata": {},
   "source": [
    "Define JET PT histograms W analysis"
   ]
  },
  {
   "cell_type": "code",
   "execution_count": null,
   "metadata": {
    "collapsed": true
   },
   "outputs": [],
   "source": [
    "//W HISTOGRAMS\n",
    "//WenuW hisogram\n",
    "TH1F *h_jet_eta_WenuW = new TH1F(\"h_jet_eta_WenuW\",\"h_jet_eta_WenuW\",33,-3,3);\n",
    "h_jet_eta_WenuW->SetFillColor(kRed);\n",
    "//WenuJ histrogram - last cut only \n",
    "TH1F *h_jet_eta_WenuJ = new TH1F(\"h_jet_eta_WenuJ\",\"h_jet_eta_WenuJ\",33,-3,3);\n",
    "h_jet_eta_WenuJ->SetFillColor(kYellow);\n",
    "//WenuN histrogram - last cut only \n",
    "TH1F *h_jet_eta_WenuN = new TH1F(\"h_jet_eta_WenuN\",\"h_jet_eta_WenuN\",33,-3,3);\n",
    "h_jet_eta_WenuN->SetFillColor(kBlue);\n",
    "//WmunuW hisogram\n",
    "TH1F *h_jet_eta_WmunuW = new TH1F(\"h_jet_eta_WmunuW\",\"h_jet_eta_WmunuW\",33,-3,3);\n",
    "h_jet_eta_WmunuW->SetFillColor(kRed);\n",
    "//WmunuJ histrogram - last cut only \n",
    "TH1F *h_jet_eta_WmunuJ = new TH1F(\"h_jet_eta_WmunuJ\",\"h_jet_eta_WmunuJ\",33,-3,3);\n",
    "h_jet_eta_WmunuJ->SetFillColor(kYellow);\n",
    "//WmunuN histrogram - last cut only \n",
    "TH1F *h_jet_eta_WmunuN = new TH1F(\"h_jet_eta_WmunuN\",\"h_jet_eta_WmunuN\",33,-3,3);\n",
    "h_jet_eta_WmunuN->SetFillColor(kBlue);\n",
    "//WtaunuW hisogram\n",
    "TH1F *h_jet_eta_WtaunuW = new TH1F(\"h_jet_eta_WtaunuW\",\"h_jet_eta_WtaunuW\",33,-3,3);\n",
    "h_jet_eta_WtaunuW->SetFillColor(kRed);\n",
    "//WtaunuJ histrogram - last cut only \n",
    "TH1F *h_jet_eta_WtaunuJ = new TH1F(\"h_jet_eta_WtaunuJ\",\"h_jet_eta_WtaunuJ\",33,-3,3);\n",
    "h_jet_eta_WtaunuJ->SetFillColor(kYellow);\n",
    "//WtaunuN histrogram - last cut only \n",
    "TH1F *h_jet_eta_WtaunuN = new TH1F(\"h_jet_eta_WtaunuN\",\"h_jet_eta_WtaunuN\",33,-3,3);\n",
    "h_jet_eta_WtaunuN->SetFillColor(kBlue);\n",
    "\n",
    "//Merged Wenu,Wmunu,Wtaunu\n",
    "TH1F *h_jet_eta_mergedW = new TH1F(\"h_jet_eta_mergedW\",\"h_jet_eta_mergedW\",33,-3,3);\n",
    "h_jet_eta_mergedW->SetFillColor(kGreen);"
   ]
  },
  {
   "cell_type": "markdown",
   "metadata": {},
   "source": [
    "Define JET_M histograms for each anaysis"
   ]
  },
  {
   "cell_type": "markdown",
   "metadata": {},
   "source": [
    "Define JET PT histograms Z analysis"
   ]
  },
  {
   "cell_type": "code",
   "execution_count": null,
   "metadata": {
    "collapsed": false
   },
   "outputs": [],
   "source": [
    "//JET_M HISTOGRAMS\n",
    "//Zee histrogram - last cut only \n",
    "TH1F *h_jet_m_Zee = new TH1F(\"h_jet_m_Zee\",\"h_jet_m_Zee\",70,0,100);\n",
    "h_jet_m_Zee->SetFillColor(kRed);\n",
    "//Zmumu histrogram - last cut only \n",
    "TH1F *h_jet_m_Zmumu = new TH1F(\"h_jet_m_Zmumu\",\"h_jet_m_Zmumu\",70,0,100);\n",
    "h_jet_m_Zmumu->SetFillColor(kYellow);\n",
    "//Ztautau histrogram - last cut only \n",
    "TH1F *h_jet_m_Ztautau = new TH1F(\"h_jet_m_Ztautau\",\"h_jet_m_Ztautau\",70,0,100);\n",
    "h_jet_m_Ztautau->SetFillColor(kBlue);\n",
    "\n",
    "//Merged Zee,Zmumu,Ztautau\n",
    "TH1F *h_jet_m_mergedZ = new TH1F(\"h_jet_m_mergedZ\",\"h_jet_m_mergedZ\",70,0,100);\n",
    "h_jet_m_mergedZ->SetFillColor(kGreen);"
   ]
  },
  {
   "cell_type": "markdown",
   "metadata": {},
   "source": [
    "Define JET PT histograms Diboson analysis"
   ]
  },
  {
   "cell_type": "code",
   "execution_count": null,
   "metadata": {
    "collapsed": true
   },
   "outputs": [],
   "source": [
    "//Diboson WW histrogram\n",
    "TH1F *h_jet_m_Dww = new TH1F(\"h_jet_m_Dww\",\"h_jet_m_Dww\",70,0,100);\n",
    "h_jet_m_Dww->SetFillColor(kRed);\n",
    "//Diboson ZZ histrogram\n",
    "TH1F *h_jet_m_Dzz = new TH1F(\"h_jet_m_Dzz\",\"h_jet_m_Dzz\",70,0,100);\n",
    "h_jet_m_Dzz->SetFillColor(kYellow);\n",
    "//Diboson WZ histrogram\n",
    "TH1F *h_jet_m_Dwz = new TH1F(\"h_jet_m_Dwz\",\"h_jet_m_Dwz\",70,0,100);\n",
    "h_jet_m_Dwz->SetFillColor(kBlue);\n",
    "\n",
    "//Merged Diboson WW,ZZ,WZ histogram\n",
    "TH1F *h_jet_m_mergedD = new TH1F(\"h_jet_m_mergedD\",\"h_jet_m_mergedD\",70,0,100);\n",
    "h_jet_m_mergedD->SetFillColor(kGreen);"
   ]
  },
  {
   "cell_type": "markdown",
   "metadata": {},
   "source": [
    "Define JET PT histograms Drell Yan analysis"
   ]
  },
  {
   "cell_type": "code",
   "execution_count": null,
   "metadata": {
    "collapsed": true
   },
   "outputs": [],
   "source": [
    "//DYee1 histrogram\n",
    "TH1F *h_jet_m_DYee1 = new TH1F(\"h_jet_m_DYee1\",\"h_jet_m_DYee1\",70,0,100);\n",
    "h_jet_m_DYee1->SetFillColor(kRed);\n",
    "//DYee2 histrogram\n",
    "TH1F *h_jet_m_DYee2 = new TH1F(\"h_jet_m_DYee2\",\"h_jet_m_DYee2\",70,0,100);\n",
    "h_jet_m_DYee2->SetFillColor(kYellow);\n",
    "//DYmumu1 histrogram\n",
    "TH1F *h_jet_m_DYmumu1 = new TH1F(\"h_jet_m_DYmumu1 \",\"h_jet_m_DYmumu1\",70,0,100);\n",
    "h_jet_m_DYmumu1->SetFillColor(kBlue);\n",
    "//DYmumu2 histrogram\n",
    "TH1F *h_jet_m_DYmumu2 = new TH1F(\"h_jet_m_DYmumu2\",\"h_jet_m_DYmumu2\",70,0,100);\n",
    "h_jet_m_DYmumu2->SetFillColor(kGreen);\n",
    "//DYtautau1 histrogram\n",
    "TH1F *h_jet_m_DYtautau1 = new TH1F(\"h_jet_m_DYtautau1\",\"h_jet_m_DYtautau1\",70,0,100);\n",
    "h_jet_m_DYtautau1->SetFillColor(kOrange);\n",
    "//DYtautau2 histrogram\n",
    "TH1F *h_jet_m_DYtautau2 = new TH1F(\"h_jet_m_DYtautau2\",\"h_jet_m_DYtautau2\",70,0,100);\n",
    "h_jet_m_DYtautau2->SetFillColor(kPink);\n",
    "\n",
    "//Merged DY EE,MUMU,TAUTAU histogram\n",
    "TH1F *h_jet_m_mergedDY = new TH1F(\"h_jet_m_mergedDY\",\"h_jet_m_mergedDY\",70,0,100);\n",
    "h_jet_m_mergedDY->SetFillColor(kGray);"
   ]
  },
  {
   "cell_type": "markdown",
   "metadata": {},
   "source": [
    "Define JET PT histograms Stop analysis"
   ]
  },
  {
   "cell_type": "code",
   "execution_count": null,
   "metadata": {
    "collapsed": true
   },
   "outputs": [],
   "source": [
    "//Stop tchan_top histrogram \n",
    "TH1F *h_jet_m_Stchan_top = new TH1F(\"h_jet_m_Stchan_top\",\"h_jet_m_Stchan_top\",70,0,100);\n",
    "h_jet_m_Stchan_top->SetFillColor(kRed);\n",
    "//Stop tchan_antitop histrogram\n",
    "TH1F *h_jet_m_Stchan_antitop = new TH1F(\"h_jet_m_Stchan_antitop\",\"h_jet_m_Stchan_antitop\",70,0,100);\n",
    "h_jet_m_Stchan_antitop->SetFillColor(kYellow);\n",
    "//Stop schan histogram\n",
    "TH1F *h_jet_m_Sschan = new TH1F(\"h_jet_m_Sschan \",\"h_jet_m_Sschan\",70,0,100);\n",
    "h_jet_m_Sschan->SetFillColor(kBlue);\n",
    "//Stop wtchan histogram\n",
    "TH1F *h_jet_m_Swtchan = new TH1F(\"h_jet_m_Swtchan\",\"h_jet_m_Swtchan\",70,0,100);\n",
    "h_jet_m_Swtchan->SetFillColor(kGreen);\n",
    "\n",
    "//Merged stop \n",
    "TH1F *h_jet_m_mergedS = new TH1F(\"h_jet_m_mergedS\",\"h_jet_m_mergedS\",70,0,100);\n",
    "h_jet_m_mergedS->SetFillColor(kGray);"
   ]
  },
  {
   "cell_type": "markdown",
   "metadata": {},
   "source": [
    "Define JET PT histograms TTBar analysis"
   ]
  },
  {
   "cell_type": "code",
   "execution_count": null,
   "metadata": {
    "collapsed": true
   },
   "outputs": [],
   "source": [
    "//TTBar had histrogram \n",
    "TH1F *h_jet_m_TThad = new TH1F(\"h_jet_m_TThad\",\"h_jet_m_TThad\",70,0,100);\n",
    "h_jet_m_TThad->SetFillColor(kRed);\n",
    "//TTBar lep histrogram\n",
    "TH1F *h_jet_m_TTlep = new TH1F(\"h_jet_m_TTlep\",\"h_jet_m_TTlep\",70,0,100);\n",
    "h_jet_m_TTlep->SetFillColor(kYellow);\n",
    "\n",
    "//Merged TTBar\n",
    "TH1F *h_jet_m_mergedTT = new TH1F(\"h_jet_m_mergedTT\",\"h_jet_m_mergedTT\",70,0,100);\n",
    "h_jet_m_mergedTT->SetFillColor(kGray);"
   ]
  },
  {
   "cell_type": "markdown",
   "metadata": {},
   "source": [
    "Define JET PT histograms W analysis"
   ]
  },
  {
   "cell_type": "code",
   "execution_count": null,
   "metadata": {
    "collapsed": true
   },
   "outputs": [],
   "source": [
    "//W HISTOGRAMS\n",
    "//WenuW hisogram\n",
    "TH1F *h_jet_m_WenuW = new TH1F(\"h_jet_m_WenuW\",\"h_jet_m_WenuW\",70,0,100);\n",
    "h_jet_m_WenuW->SetFillColor(kRed);\n",
    "//WenuJ histrogram - last cut only \n",
    "TH1F *h_jet_m_WenuJ = new TH1F(\"h_jet_m_WenuJ\",\"h_jet_m_WenuJ\",70,0,100);\n",
    "h_jet_m_WenuJ->SetFillColor(kYellow);\n",
    "//WenuN histrogram - last cut only \n",
    "TH1F *h_jet_m_WenuN = new TH1F(\"h_jet_m_WenuN\",\"h_jet_m_WenuN\",70,0,100);\n",
    "h_jet_m_WenuN->SetFillColor(kBlue);\n",
    "//WmunuW hisogram\n",
    "TH1F *h_jet_m_WmunuW = new TH1F(\"h_jet_m_WmunuW\",\"h_jet_m_WmunuW\",70,0,100);\n",
    "h_jet_m_WmunuW->SetFillColor(kRed);\n",
    "//WmunuJ histrogram - last cut only \n",
    "TH1F *h_jet_m_WmunuJ = new TH1F(\"h_jet_m_WmunuJ\",\"h_jet_m_WmunuJ\",70,0,100);\n",
    "h_jet_m_WmunuJ->SetFillColor(kYellow);\n",
    "//WmunuN histrogram - last cut only \n",
    "TH1F *h_jet_m_WmunuN = new TH1F(\"h_jet_m_WmunuN\",\"h_jet_m_WmunuN\",70,0,100);\n",
    "h_jet_m_WmunuN->SetFillColor(kBlue);\n",
    "//WtaunuW hisogram\n",
    "TH1F *h_jet_m_WtaunuW = new TH1F(\"h_jet_m_WtaunuW\",\"h_jet_m_WtaunuW\",70,0,100);\n",
    "h_jet_m_WtaunuW->SetFillColor(kRed);\n",
    "//WtaunuJ histrogram - last cut only \n",
    "TH1F *h_jet_m_WtaunuJ = new TH1F(\"h_jet_m_WtaunuJ\",\"h_jet_m_WtaunuJ\",70,0,100);\n",
    "h_jet_m_WtaunuJ->SetFillColor(kYellow);\n",
    "//WtaunuN histrogram - last cut only \n",
    "TH1F *h_jet_m_WtaunuN = new TH1F(\"h_jet_m_WtaunuN\",\"h_jet_m_WtaunuN\",70,0,100);\n",
    "h_jet_m_WtaunuN->SetFillColor(kBlue);\n",
    "\n",
    "//Merged Wenu,Wmunu,Wtaunu\n",
    "TH1F *h_jet_m_mergedW = new TH1F(\"h_jet_m_mergedW\",\"h_jet_m_mergedW\",70,0,100);\n",
    "h_jet_m_mergedW->SetFillColor(kGreen);"
   ]
  },
  {
   "cell_type": "markdown",
   "metadata": {},
   "source": [
    "Define JET VERTEX FRACTION histograms each analysis"
   ]
  },
  {
   "cell_type": "markdown",
   "metadata": {},
   "source": [
    "Define JET VERTEX FRACTION histograms Z analysis"
   ]
  },
  {
   "cell_type": "code",
   "execution_count": null,
   "metadata": {
    "collapsed": true
   },
   "outputs": [],
   "source": [
    "//JVF HISTOGRAMS\n",
    "//Zee histrogram - last cut only \n",
    "TH1F *h_jet_jvf_Zee = new TH1F(\"h_jet_jvf_Zee\",\"h_jet_jvf_Zee\",70,-3,3);\n",
    "h_jet_jvf_Zee->SetFillColor(kRed);\n",
    "//Zmumu histrogram - last cut only \n",
    "TH1F *h_jet_jvf_Zmumu = new TH1F(\"h_jet_jvf_Zmumu\",\"h_jet_jvf_Zmumu\",70,-3,3);\n",
    "h_jet_jvf_Zmumu->SetFillColor(kYellow);\n",
    "//Ztautau histrogram - last cut only \n",
    "TH1F *h_jet_jvf_Ztautau = new TH1F(\"h_jet_jvf_Ztautau\",\"h_jet_jvf_Ztautau\",70,-3,3);\n",
    "h_jet_jvf_Ztautau->SetFillColor(kBlue);\n",
    "\n",
    "//Merged Zee,Zmumu,Ztautau\n",
    "TH1F *h_jet_jvf_mergedZ = new TH1F(\"h_jet_jvf_mergedZ\",\"h_jet_jvf_mergedZ\",70,-3,3);\n",
    "h_jet_jvf_mergedZ->SetFillColor(kGreen);"
   ]
  },
  {
   "cell_type": "markdown",
   "metadata": {},
   "source": [
    "Define JET VERTEX FRACTION histograms Diboson analysis"
   ]
  },
  {
   "cell_type": "code",
   "execution_count": null,
   "metadata": {
    "collapsed": true
   },
   "outputs": [],
   "source": [
    "//Diboson WW histrogram\n",
    "TH1F *h_jet_jvf_Dww = new TH1F(\"h_jet_jvf_Dww\",\"h_jet_jvf_Dww\",70,-3,3);\n",
    "h_jet_jvf_Dww->SetFillColor(kRed);\n",
    "//Diboson ZZ histrogram\n",
    "TH1F *h_jet_jvf_Dzz = new TH1F(\"h_jet_jvf_Dzz\",\"h_jet_jvf_Dzz\",70,-3,3);\n",
    "h_jet_jvf_Dzz->SetFillColor(kYellow);\n",
    "//Diboson WZ histrogram\n",
    "TH1F *h_jet_jvf_Dwz = new TH1F(\"h_jet_jvf_Dwz\",\"h_jet_jvf_Dwz\",70,-3,3);\n",
    "h_jet_jvf_Dwz->SetFillColor(kBlue);\n",
    "\n",
    "//Merged Dibson WW,ZZ,WZ histogram\n",
    "TH1F *h_jet_jvf_mergedD = new TH1F(\"h_jet_jvf_mergedD\",\"h_jet_jvf_mergedD\",70,-3,3);\n",
    "h_jet_jvf_mergedD->SetFillColor(kGreen);"
   ]
  },
  {
   "cell_type": "markdown",
   "metadata": {},
   "source": [
    "Define JET VERTEX FRACTION histograms Drell Yan analysis"
   ]
  },
  {
   "cell_type": "code",
   "execution_count": null,
   "metadata": {
    "collapsed": true
   },
   "outputs": [],
   "source": [
    "//DYee1 histrogram\n",
    "TH1F *h_jet_jvf_DYee1 = new TH1F(\"h_jet_jvf_DYee1\",\"h_jet_jvf_DYee1\",70,-3,3);\n",
    "h_jet_jvf_DYee1->SetFillColor(kRed);\n",
    "//DYee2 histrogram\n",
    "TH1F *h_jet_jvf_DYee2 = new TH1F(\"h_jet_jvf_DYee2\",\"h_jet_jvf_DYee2\",70,-3,3);\n",
    "h_jet_jvf_DYee2->SetFillColor(kYellow);\n",
    "//DYmumu1 histrogram\n",
    "TH1F *h_jet_jvf_DYmumu1 = new TH1F(\"h_jet_jvf_DYmumu1\",\"h_jet_jvf_DYmumu1\",70,-3,3);\n",
    "h_jet_jvf_DYmumu1->SetFillColor(kBlue);\n",
    "//DYmumu2 histrogram\n",
    "TH1F *h_jet_jvf_DYmumu2 = new TH1F(\"h_jet_jvf_DYmumu2\",\"h_jet_jvf_DYmumu2\",70,-3,3);\n",
    "h_jet_jvf_DYmumu2->SetFillColor(kGreen);\n",
    "//DYtautau1 histrogram\n",
    "TH1F *h_jet_jvf_DYtautau1 = new TH1F(\"h_jet_jvf_DYtautau1\",\"h_jet_jvf_DYtautau1\",70,-3,3);\n",
    "h_jet_jvf_DYtautau1->SetFillColor(kOrange);\n",
    "//DYtautau2 histrogram\n",
    "TH1F *h_jet_jvf_DYtautau2 = new TH1F(\"h_jet_jvf_DYtautau2\",\"h_jet_jvf_DYtautau2\",70,-3,3);\n",
    "h_jet_jvf_DYtautau2->SetFillColor(kPink);\n",
    "\n",
    "//Merged DY EE,MUMU,TAUTAU histogram\n",
    "TH1F *h_jet_jvf_mergedDY = new TH1F(\"h_jet_jvf_mergedDY\",\"h_jet_jvf_mergedDY\",70,-3,3);\n",
    "h_jet_jvf_mergedDY->SetFillColor(kGray);"
   ]
  },
  {
   "cell_type": "markdown",
   "metadata": {},
   "source": [
    "Define JET VERTEX FRACTION histograms Stop analysis"
   ]
  },
  {
   "cell_type": "code",
   "execution_count": null,
   "metadata": {
    "collapsed": true
   },
   "outputs": [],
   "source": [
    "//Stop tchan_top histrogram \n",
    "TH1F *h_jet_jvf_Stchan_top = new TH1F(\"h_jet_jvf_Stchan_top\",\"h_jet_jvf_Stchan_top\",70,-3,3);\n",
    "h_jet_jvf_Stchan_top->SetFillColor(kRed);\n",
    "//Stop tchan_antitop histrogram\n",
    "TH1F *h_jet_jvf_Stchan_antitop = new TH1F(\"h_jet_jvf_Stchan_antitop\",\"h_jet_jvf_Stchan_antitop\",70,-3,3);\n",
    "h_jet_jvf_Stchan_antitop->SetFillColor(kYellow);\n",
    "//Stop schan histogram\n",
    "TH1F *h_jet_jvf_Sschan = new TH1F(\"h_jet_jvf_Sschan \",\"h_jet_jvf_Sschan\",70,-3,3);\n",
    "h_jet_jvf_Sschan->SetFillColor(kBlue);\n",
    "//Stop wtchan histogram\n",
    "TH1F *h_jet_jvf_Swtchan = new TH1F(\"h_jet_jvf_Swtchan\",\"h_jet_jvf_Swtchan\",70,-3,3);\n",
    "h_jet_jvf_Swtchan->SetFillColor(kGreen);\n",
    "\n",
    "//Merged stop \n",
    "TH1F *h_jet_jvf_mergedS = new TH1F(\"h_jet_jvf_mergedS\",\"h_jet_jvf_mergedS\",70,-3,3);\n",
    "h_jet_jvf_mergedS->SetFillColor(kGray);"
   ]
  },
  {
   "cell_type": "markdown",
   "metadata": {},
   "source": [
    "Define JET VERTEX FRACTION histograms TTBar analysis"
   ]
  },
  {
   "cell_type": "code",
   "execution_count": null,
   "metadata": {
    "collapsed": true
   },
   "outputs": [],
   "source": [
    "//TTBar had histrogram \n",
    "TH1F *h_jet_jvf_TThad = new TH1F(\"h_jet_jvf_TThad\",\"h_jet_jvf_TThad\",70,-3,3);\n",
    "h_jet_jvf_TThad->SetFillColor(kRed);\n",
    "//TTBar lep histrogram\n",
    "TH1F *h_jet_jvf_TTlep = new TH1F(\"h_jet_jvf_TTlep\",\"h_jet_jvf_TTlep\",70,-3,3);\n",
    "h_jet_jvf_TTlep->SetFillColor(kYellow);\n",
    "\n",
    "//Merged TTBar\n",
    "TH1F *h_jet_jvf_mergedTT = new TH1F(\"h_jet_jvf_mergedTT\",\"h_jet_jvf_mergedTT\",70,-3,3);\n",
    "h_jet_jvf_mergedTT->SetFillColor(kGray);"
   ]
  },
  {
   "cell_type": "markdown",
   "metadata": {},
   "source": [
    "Define JET VERTEX FRACTION histograms W analysis"
   ]
  },
  {
   "cell_type": "code",
   "execution_count": null,
   "metadata": {
    "collapsed": true
   },
   "outputs": [],
   "source": [
    "//W HISTOGRAMS\n",
    "//WenuW hisogram\n",
    "TH1F *h_jet_jvf_WenuW = new TH1F(\"h_jet_jvf_WenuW\",\"h_jet_jvf_WenuW\",70,-3,3);\n",
    "h_jet_jvf_WenuW->SetFillColor(kRed);\n",
    "//WenuJ histrogram - last cut only \n",
    "TH1F *h_jet_jvf_WenuJ = new TH1F(\"h_jet_jvf_WenuJ\",\"h_jet_jvf_WenuJ\",70,-3,3);\n",
    "h_jet_jvf_WenuJ->SetFillColor(kYellow);\n",
    "//WenuN histrogram - last cut only \n",
    "TH1F *h_jet_jvf_WenuN = new TH1F(\"h_jet_jvf_WenuN\",\"h_jet_jvf_WenuN\",70,-3,3);\n",
    "h_jet_jvf_WenuN->SetFillColor(kBlue);\n",
    "//WmunuW hisogram\n",
    "TH1F *h_jet_jvf_WmunuW = new TH1F(\"h_jet_jvf_WmunuW\",\"h_jet_jvf_WmunuW\",70,-3,3);\n",
    "h_jet_jvf_WmunuW->SetFillColor(kRed);\n",
    "//WmunuJ histrogram - last cut only \n",
    "TH1F *h_jet_jvf_WmunuJ = new TH1F(\"h_jet_jvf_WmunuJ\",\"h_jet_jvf_WmunuJ\",70,-3,3);\n",
    "h_jet_jvf_WmunuJ->SetFillColor(kYellow);\n",
    "//WmunuN histrogram - last cut only \n",
    "TH1F *h_jet_jvf_WmunuN = new TH1F(\"h_jet_jvf_WmunuN\",\"h_jet_jvf_WmunuN\",70,-3,3);\n",
    "h_jet_jvf_WmunuN->SetFillColor(kBlue);\n",
    "//WtaunuW hisogram\n",
    "TH1F *h_jet_jvf_WtaunuW = new TH1F(\"h_jet_jvf_WtaunuW\",\"h_jet_jvf_WtaunuW\",70,-3,3);\n",
    "h_jet_jvf_WtaunuW->SetFillColor(kRed);\n",
    "//WtaunuJ histrogram - last cut only \n",
    "TH1F *h_jet_jvf_WtaunuJ = new TH1F(\"h_jet_jvf_WtaunuJ\",\"h_jet_jvf_WtaunuJ\",70,-3,3);\n",
    "h_jet_jvf_WtaunuJ->SetFillColor(kYellow);\n",
    "//WtaunuN histrogram - last cut only \n",
    "TH1F *h_jet_jvf_WtaunuN = new TH1F(\"h_jet_jvf_WtaunuN\",\"h_jet_jvf_WtaunuN\",70,-3,3);\n",
    "h_jet_jvf_WtaunuN->SetFillColor(kBlue);\n",
    "\n",
    "//Merged Wenu,Wmunu,Wtaunu\n",
    "TH1F *h_jet_jvf_mergedW = new TH1F(\"h_jet_jvf_mergedW\",\"h_jet_jvf_mergedW\",70,-3,3);\n",
    "h_jet_jvf_mergedW->SetFillColor(kGreen);"
   ]
  },
  {
   "cell_type": "markdown",
   "metadata": {},
   "source": [
    "Define JET_MV1 histograms for each anaysis"
   ]
  },
  {
   "cell_type": "markdown",
   "metadata": {},
   "source": [
    "Define MV1 histograms Z analysis"
   ]
  },
  {
   "cell_type": "code",
   "execution_count": null,
   "metadata": {
    "collapsed": true
   },
   "outputs": [],
   "source": [
    "//ETA HISTOGRAMS\n",
    "//Zee histrogram - last cut only \n",
    "TH1F *h_jet_MV1_Zee = new TH1F(\"h_jet_MV1_Zee\",\"h_jet_MV1_Zee\",70,0,2);\n",
    "h_jet_MV1_Zee->SetFillColor(kRed);\n",
    "//Zmumu histrogram - last cut only \n",
    "TH1F *h_jet_MV1_Zmumu = new TH1F(\"h_jet_MV1_Zmumu\",\"h_jet_MV1_Zmumu\",70,0,2);\n",
    "h_jet_MV1_Zmumu->SetFillColor(kYellow);\n",
    "//Ztautau histrogram - last cut only \n",
    "TH1F *h_jet_MV1_Ztautau = new TH1F(\"h_jet_MV1_Ztautau\",\"h_jet_MV1_Ztautau\",70,0,2);\n",
    "h_jet_MV1_Ztautau->SetFillColor(kBlue);\n",
    "\n",
    "//Merged Zee,Zmumu,Ztautau\n",
    "TH1F *h_jet_MV1_mergedZ = new TH1F(\"h_jet_MV1_mergedZ\",\"h_jet_MV1_mergedZ\",70,0,2);\n",
    "h_jet_MV1_mergedZ->SetFillColor(kGreen);"
   ]
  },
  {
   "cell_type": "markdown",
   "metadata": {},
   "source": [
    "Define MV1 histograms Diboson analysis"
   ]
  },
  {
   "cell_type": "code",
   "execution_count": null,
   "metadata": {
    "collapsed": true
   },
   "outputs": [],
   "source": [
    "//Diboson WW histrogram\n",
    "TH1F *h_jet_MV1_Dww = new TH1F(\"h_jet_MV1_Dww\",\"h_jet_MV1_Dww\",70,0,2);\n",
    "h_jet_MV1_Dww->SetFillColor(kRed);\n",
    "//Diboson ZZ histrogram\n",
    "TH1F *h_jet_MV1_Dzz = new TH1F(\"h_jet_MV1_Dzz\",\"h_jet_MV1_Dzz\",70,0,2);\n",
    "h_jet_MV1_Dzz->SetFillColor(kYellow);\n",
    "//Diboson WZ histrogram\n",
    "TH1F *h_jet_MV1_Dwz = new TH1F(\"h_jet_MV1_Dwz\",\"h_jet_MV1_Dwz\",70,0,2);\n",
    "h_jet_MV1_Dwz->SetFillColor(kBlue);\n",
    "\n",
    "//Merged Dibson WW,ZZ,WZ histogram\n",
    "TH1F *h_jet_MV1_mergedD = new TH1F(\"h_jet_MV1_mergedD\",\"h_jet_MV1_mergedD\",70,0,2);\n",
    "h_jet_MV1_mergedD->SetFillColor(kGreen);"
   ]
  },
  {
   "cell_type": "markdown",
   "metadata": {},
   "source": [
    "Define MV1 histograms Drell Yan analysis"
   ]
  },
  {
   "cell_type": "code",
   "execution_count": null,
   "metadata": {
    "collapsed": true
   },
   "outputs": [],
   "source": [
    "//DYee1 histrogram\n",
    "TH1F *h_jet_MV1_DYee1 = new TH1F(\"h_jet_MV1_DYee1\",\"h_jet_MV1_DYee1\",70,0,2);\n",
    "h_jet_MV1_DYee1->SetFillColor(kRed);\n",
    "//DYee2 histrogram\n",
    "TH1F *h_jet_MV1_DYee2 = new TH1F(\"h_jet_MV1_DYee2\",\"h_jet_MV1_DYee2\",70,0,2);\n",
    "h_jet_MV1_DYee2->SetFillColor(kYellow);\n",
    "//DYmumu1 histrogram\n",
    "TH1F *h_jet_MV1_DYmumu1 = new TH1F(\"h_jet_MV1_DYmumu1\",\"h_jet_MV1_DYmumu1\",70,0,2);\n",
    "h_jet_MV1_DYmumu1->SetFillColor(kBlue);\n",
    "//DYmumu2 histrogram\n",
    "TH1F *h_jet_MV1_DYmumu2 = new TH1F(\"h_jet_MV1_DYmumu2\",\"h_jet_MV1_DYmumu2\",70,0,2);\n",
    "h_jet_MV1_DYmumu2->SetFillColor(kGreen);\n",
    "//DYtautau1 histrogram\n",
    "TH1F *h_jet_MV1_DYtautau1 = new TH1F(\"h_jet_MV1_DYtautau1\",\"h_jet_MV1_DYtautau1\",70,0,2);\n",
    "h_jet_MV1_DYtautau1->SetFillColor(kOrange);\n",
    "//DYtautau2 histrogram\n",
    "TH1F *h_jet_MV1_DYtautau2 = new TH1F(\"h_jet_MV1_DYtautau2\",\"h_jet_MV1_DYtautau2\",70,0,2);\n",
    "h_jet_MV1_DYtautau2->SetFillColor(kPink);\n",
    "\n",
    "//Merged DY EE,MUMU,TAUTAU histogram\n",
    "TH1F *h_jet_MV1_mergedDY = new TH1F(\"h_jet_MV1_mergedDY\",\"h_jet_MV1_mergedDY\",70,0,2);\n",
    "h_jet_MV1_mergedDY->SetFillColor(kGray);"
   ]
  },
  {
   "cell_type": "markdown",
   "metadata": {},
   "source": [
    "Define MV1 histograms Stop analysis"
   ]
  },
  {
   "cell_type": "code",
   "execution_count": null,
   "metadata": {
    "collapsed": true
   },
   "outputs": [],
   "source": [
    "//Stop tchan_top histrogram \n",
    "TH1F *h_jet_MV1_Stchan_top = new TH1F(\"h_jet_MV1_Stchan_top\",\"h_jet_MV1_Stchan_top\",70,0,2);\n",
    "h_jet_MV1_Stchan_top->SetFillColor(kRed);\n",
    "//Stop tchan_antitop histrogram\n",
    "TH1F *h_jet_MV1_Stchan_antitop = new TH1F(\"h_jet_MV1_Stchan_antitop\",\"h_jet_MV1_Stchan_antitop\",70,0,2);\n",
    "h_jet_MV1_Stchan_antitop->SetFillColor(kYellow);\n",
    "//Stop schan histogram\n",
    "TH1F *h_jet_MV1_Sschan = new TH1F(\"h_jet_MV1_Sschan \",\"h_jet_MV1_Sschan\",70,0,2);\n",
    "h_jet_MV1_Sschan->SetFillColor(kBlue);\n",
    "//Stop wtchan histogram\n",
    "TH1F *h_jet_MV1_Swtchan = new TH1F(\"h_jet_MV1_Swtchan\",\"h_jet_MV1_Swtchan\",70,0,2);\n",
    "h_jet_MV1_Swtchan->SetFillColor(kGreen);\n",
    "\n",
    "//Merged stop \n",
    "TH1F *h_jet_MV1_mergedS = new TH1F(\"h_jet_MV1_mergedS\",\"h_jet_MV1_mergedS\",70,0,2);\n",
    "h_jet_MV1_mergedS->SetFillColor(kGray);"
   ]
  },
  {
   "cell_type": "markdown",
   "metadata": {},
   "source": [
    "Define MV1 histograms TTBar analysis"
   ]
  },
  {
   "cell_type": "code",
   "execution_count": null,
   "metadata": {
    "collapsed": true
   },
   "outputs": [],
   "source": [
    "//TTBar had histrogram \n",
    "TH1F *h_jet_MV1_TThad = new TH1F(\"h_jet_MV1_TThad\",\"h_jet_MV1_TThad\",70,0,2);\n",
    "h_jet_MV1_TThad->SetFillColor(kRed);\n",
    "//TTBar lep histrogram\n",
    "TH1F *h_jet_MV1_TTlep = new TH1F(\"h_jet_MV1_TTlep\",\"h_jet_MV1_TTlep\",70,0,2);\n",
    "h_jet_MV1_TTlep->SetFillColor(kYellow);\n",
    "\n",
    "//Merged TTBar\n",
    "TH1F *h_jet_MV1_mergedTT = new TH1F(\"h_jet_MV1_mergedTT\",\"h_jet_MV1_mergedTT\",70,0,2);\n",
    "h_jet_MV1_mergedTT->SetFillColor(kGray);"
   ]
  },
  {
   "cell_type": "markdown",
   "metadata": {},
   "source": [
    "Define MV1 histograms W analysis"
   ]
  },
  {
   "cell_type": "code",
   "execution_count": null,
   "metadata": {
    "collapsed": true
   },
   "outputs": [],
   "source": [
    "//W HISTOGRAMS\n",
    "//WenuW hisogram\n",
    "TH1F *h_jet_MV1_WenuW = new TH1F(\"h_jet_MV1_WenuW\",\"h_jet_MV1_WenuW\",70,0,2);\n",
    "h_jet_MV1_WenuW->SetFillColor(kRed);\n",
    "//WenuJ histrogram - last cut only \n",
    "TH1F *h_jet_MV1_WenuJ = new TH1F(\"h_jet_MV1_WenuJ\",\"h_jet_MV1_WenuJ\",70,0,2);\n",
    "h_jet_MV1_WenuJ->SetFillColor(kYellow);\n",
    "//WenuN histrogram - last cut only \n",
    "TH1F *h_jet_MV1_WenuN = new TH1F(\"h_jet_MV1_WenuN\",\"h_jet_MV1_WenuN\",70,0,2);\n",
    "h_jet_MV1_WenuN->SetFillColor(kBlue);\n",
    "//WmunuW hisogram\n",
    "TH1F *h_jet_MV1_WmunuW = new TH1F(\"h_jet_MV1_WmunuW\",\"h_jet_MV1_WmunuW\",70,0,2);\n",
    "h_jet_MV1_WmunuW->SetFillColor(kRed);\n",
    "//WmunuJ histrogram - last cut only \n",
    "TH1F *h_jet_MV1_WmunuJ = new TH1F(\"h_jet_MV1_WmunuJ\",\"h_jet_MV1_WmunuJ\",70,0,2);\n",
    "h_jet_MV1_WmunuJ->SetFillColor(kYellow);\n",
    "//WmunuN histrogram - last cut only \n",
    "TH1F *h_jet_MV1_WmunuN = new TH1F(\"h_jet_MV1_WmunuN\",\"h_jet_MV1_WmunuN\",70,0,2);\n",
    "h_jet_MV1_WmunuN->SetFillColor(kBlue);\n",
    "//WtaunuW hisogram\n",
    "TH1F *h_jet_MV1_WtaunuW = new TH1F(\"h_jet_MV1_WtaunuW\",\"h_jet_MV1_WtaunuW\",70,0,2);\n",
    "h_jet_MV1_WtaunuW->SetFillColor(kRed);\n",
    "//WtaunuJ histrogram - last cut only \n",
    "TH1F *h_jet_MV1_WtaunuJ = new TH1F(\"h_jet_MV1_WtaunuJ\",\"h_jet_MV1_WtaunuJ\",70,0,2);\n",
    "h_jet_MV1_WtaunuJ->SetFillColor(kYellow);\n",
    "//WtaunuN histrogram - last cut only \n",
    "TH1F *h_jet_MV1_WtaunuN = new TH1F(\"h_jet_MV1_WtaunuN\",\"h_jet_MV1_WtaunuN\",70,0,2);\n",
    "h_jet_MV1_WtaunuN->SetFillColor(kBlue);\n",
    "\n",
    "//Merged Wenu,Wmunu,Wtaunu\n",
    "TH1F *h_jet_MV1_mergedW = new TH1F(\"h_jet_MV1_mergedW\",\"h_jet_MV1_mergedW\",70,0,2);\n",
    "h_jet_MV1_mergedW->SetFillColor(kGreen);"
   ]
  },
  {
   "cell_type": "markdown",
   "metadata": {},
   "source": [
    "Define N VERTEX histograms for each anaysis"
   ]
  },
  {
   "cell_type": "markdown",
   "metadata": {},
   "source": [
    "Define N VERTEX histograms Z analysis"
   ]
  },
  {
   "cell_type": "code",
   "execution_count": null,
   "metadata": {
    "collapsed": true
   },
   "outputs": [],
   "source": [
    "//N VERTEX HISTOGRAMS\n",
    "//Zee histrogram - last cut only \n",
    "TH1F *h_pvxp_n_Zee = new TH1F(\"h_pvxp_n_Zee\",\"h_pvxp_n_Zee\",30,0,40);\n",
    "h_jet_eta_Zee->SetFillColor(kRed);\n",
    "//Zmumu histrogram - last cut only \n",
    "TH1F *h_pvxp_n_Zmumu = new TH1F(\"h_pvxp_n_Zmumu\",\"h_pvxp_n_Zmumu\",30,0,40);\n",
    "h_pvxp_n_Zmumu->SetFillColor(kYellow);\n",
    "//Ztautau histrogram - last cut only \n",
    "TH1F *h_pvxp_n_Ztautau = new TH1F(\"h_pvxp_n_Ztautau\",\"h_pvxp_n_Ztautau\",30,0,40);\n",
    "h_pvxp_n_Ztautau->SetFillColor(kBlue);\n",
    "\n",
    "//Merged Zee,Zmumu,Ztautau\n",
    "TH1F *h_pvxp_n_mergedZ = new TH1F(\"h_pvxp_n_mergedZ\",\"h_pvxp_n_mergedZ\",30,0,40);\n",
    "h_pvxp_n_mergedZ->SetFillColor(kGreen);"
   ]
  },
  {
   "cell_type": "markdown",
   "metadata": {},
   "source": [
    "Define N VERTEX histograms Diboson analysis"
   ]
  },
  {
   "cell_type": "code",
   "execution_count": null,
   "metadata": {
    "collapsed": true
   },
   "outputs": [],
   "source": [
    "//Diboson WW histrogram\n",
    "TH1F *h_pvxp_n_Dww = new TH1F(\"h_pvxp_n_Dww\",\"h_pvxp_n_Dww\",30,0,40);\n",
    "h_pvxp_n_Dww->SetFillColor(kRed);\n",
    "//Diboson ZZ histrogram\n",
    "TH1F *h_pvxp_n_Dzz = new TH1F(\"h_pvxp_n_Dzz\",\"h_pvxp_n_Dzz\",30,0,40);\n",
    "h_pvxp_n_Dzz->SetFillColor(kYellow);\n",
    "//Diboson WZ histrogram\n",
    "TH1F *h_pvxp_n_Dwz = new TH1F(\"h_pvxp_n_Dwz\",\"h_pvxp_n_Dwz\",30,0,40);\n",
    "h_pvxp_n_Dwz->SetFillColor(kBlue);\n",
    "\n",
    "//Merged Dibson WW,ZZ,WZ histogram\n",
    "TH1F *h_pvxp_n_mergedD = new TH1F(\"h_pvxp_n_mergedD\",\"h_pvxp_n_mergedD\",30,0,40);\n",
    "h_pvxp_n_mergedD->SetFillColor(kGreen);"
   ]
  },
  {
   "cell_type": "markdown",
   "metadata": {},
   "source": [
    "Define N VERTEX histograms Drell Yan analysis"
   ]
  },
  {
   "cell_type": "code",
   "execution_count": null,
   "metadata": {
    "collapsed": true
   },
   "outputs": [],
   "source": [
    "//DYee1 histrogram\n",
    "TH1F *h_pvxp_n_DYee1 = new TH1F(\"h_pvxp_n_DYee1\",\"h_pvxp_n_DYee1\",30,0,40);\n",
    "h_pvxp_n_DYee1->SetFillColor(kRed);\n",
    "//DYee2 histrogram\n",
    "TH1F *h_pvxp_n_DYee2 = new TH1F(\"h_pvxp_n_DYee2\",\"h_pvxp_n_DYee2\",30,0,40);\n",
    "h_pvxp_n_DYee2->SetFillColor(kYellow);\n",
    "//DYmumu1 histrogram\n",
    "TH1F *h_pvxp_n_DYmumu1 = new TH1F(\"h_pvxp_n_DYmumu1\",\"h_pvxp_n_DYmumu1\",30,0,40);\n",
    "h_pvxp_n_DYmumu1->SetFillColor(kBlue);\n",
    "//DYmumu2 histrogram\n",
    "TH1F *h_pvxp_n_DYmumu2 = new TH1F(\"h_pvxp_n_DYmumu2\",\"h_pvxp_n_DYmumu2\",30,0,40);\n",
    "h_pvxp_n_DYmumu2->SetFillColor(kGreen);\n",
    "//DYtautau1 histrogram\n",
    "TH1F *h_pvxp_n_DYtautau1 = new TH1F(\"h_pvxp_n_DYtautau1\",\"h_pvxp_n_DYtautau1\",30,0,40);\n",
    "h_pvxp_n_DYtautau1->SetFillColor(kOrange);\n",
    "//DYtautau2 histrogram\n",
    "TH1F *h_pvxp_n_DYtautau2 = new TH1F(\"h_pvxp_n_DYtautau2\",\"h_pvxp_n_DYtautau2\",30,0,40);\n",
    "h_pvxp_n_DYtautau2->SetFillColor(kPink);\n",
    "\n",
    "//Merged DY EE,MUMU,TAUTAU histogram\n",
    "TH1F *h_pvxp_n_mergedDY = new TH1F(\"h_pvxp_n_mergedDY\",\"h_pvxp_n_mergedDY\",30,0,40);\n",
    "h_pvxp_n_mergedDY->SetFillColor(kGray);"
   ]
  },
  {
   "cell_type": "markdown",
   "metadata": {},
   "source": [
    "Define N VERTEX histograms Stop analysis"
   ]
  },
  {
   "cell_type": "code",
   "execution_count": null,
   "metadata": {
    "collapsed": true
   },
   "outputs": [],
   "source": [
    "//Stop tchan_top histrogram \n",
    "TH1F *h_pvxp_n_Stchan_top = new TH1F(\"h_pvxp_n_Stchan_top\",\"h_pvxp_n_Stchan_top\",30,0,40);\n",
    "h_pvxp_n_Stchan_top->SetFillColor(kRed);\n",
    "//Stop tchan_antitop histrogram\n",
    "TH1F *h_pvxp_n_Stchan_antitop = new TH1F(\"h_pvxp_n_Stchan_antitop\",\"h_pvxp_n_Stchan_antitop\",30,0,40);\n",
    "h_pvxp_n_Stchan_antitop->SetFillColor(kYellow);\n",
    "//Stop schan histogram\n",
    "TH1F *h_pvxp_n_Sschan = new TH1F(\"h_pvxp_n_Sschan \",\"h_pvxp_n_Sschan\",30,0,40);\n",
    "h_pvxp_n_Sschan->SetFillColor(kBlue);\n",
    "//Stop wtchan histogram\n",
    "TH1F *h_pvxp_n_Swtchan = new TH1F(\"h_pvxp_n_Swtchan\",\"h_pvxp_n_Swtchan\",30,0,40);\n",
    "h_pvxp_n_Swtchan->SetFillColor(kGreen);\n",
    "\n",
    "//Merged stop \n",
    "TH1F *h_pvxp_n_mergedS = new TH1F(\"h_pvxp_n_mergedS\",\"h_pvxp_n_mergedS\",30,0,40);\n",
    "h_pvxp_n_mergedS->SetFillColor(kGray);"
   ]
  },
  {
   "cell_type": "markdown",
   "metadata": {},
   "source": [
    "Define N VERTEX histograms TTBar analysis"
   ]
  },
  {
   "cell_type": "code",
   "execution_count": null,
   "metadata": {
    "collapsed": true
   },
   "outputs": [],
   "source": [
    "//TTBar had histrogram \n",
    "TH1F *h_pvxp_n_TThad = new TH1F(\"h_pvxp_n_TThad\",\"h_pvxp_n_TThad\",30,0,40);\n",
    "h_pvxp_n_TThad->SetFillColor(kRed);\n",
    "//TTBar lep histrogram\n",
    "TH1F *h_pvxp_n_TTlep = new TH1F(\"h_pvxp_n_TTlep\",\"h_pvxp_n_TTlep\",30,0,40);\n",
    "h_pvxp_n_TTlep->SetFillColor(kYellow);\n",
    "\n",
    "//Merged TTBar\n",
    "TH1F *h_pvxp_n_mergedTT = new TH1F(\"h_pvxp_n_mergedTT\",\"h_pvxp_n_mergedTT\",30,0,40);\n",
    "h_pvxp_n_mergedTT->SetFillColor(kGray);"
   ]
  },
  {
   "cell_type": "markdown",
   "metadata": {},
   "source": [
    "Define N VERTEX histograms W analysis"
   ]
  },
  {
   "cell_type": "code",
   "execution_count": null,
   "metadata": {
    "collapsed": true
   },
   "outputs": [],
   "source": [
    "//W HISTOGRAMS\n",
    "//WenuW hisogram\n",
    "TH1F *h_pvxp_n_WenuW = new TH1F(\"h_pvxp_n_WenuW\",\"h_pvxp_n_WenuW\",30,0,40);\n",
    "h_pvxp_n_WenuW->SetFillColor(kRed);\n",
    "//WenuJ histrogram - last cut only \n",
    "TH1F *h_pvxp_n_WenuJ = new TH1F(\"h_pvxp_n_WenuJ\",\"h_pvxp_n_WenuJ\",30,0,40);\n",
    "h_pvxp_n_WenuJ->SetFillColor(kYellow);\n",
    "//WenuN histrogram - last cut only \n",
    "TH1F *h_pvxp_n_WenuN = new TH1F(\"h_pvxp_n_WenuN\",\"h_pvxp_n_WenuN\",30,0,40);\n",
    "h_pvxp_n_WenuN->SetFillColor(kBlue);\n",
    "//WmunuW hisogram\n",
    "TH1F *h_pvxp_n_WmunuW = new TH1F(\"h_pvxp_n_WmunuW\",\"h_pvxp_n_WmunuW\",30,0,40);\n",
    "h_pvxp_n_WmunuW->SetFillColor(kRed);\n",
    "//WmunuJ histrogram - last cut only \n",
    "TH1F *h_pvxp_n_WmunuJ = new TH1F(\"h_pvxp_n_WmunuJ\",\"h_pvxp_n_WmunuJ\",30,0,40);\n",
    "h_pvxp_n_WmunuJ->SetFillColor(kYellow);\n",
    "//WmunuN histrogram - last cut only \n",
    "TH1F *h_pvxp_n_WmunuN = new TH1F(\"h_pvxp_n_WmunuN\",\"h_pvxp_n_WmunuN\",30,0,40);\n",
    "h_pvxp_n_WmunuN->SetFillColor(kBlue);\n",
    "//WtaunuW hisogram\n",
    "TH1F *h_pvxp_n_WtaunuW = new TH1F(\"h_pvxp_n_WtaunuW\",\"h_pvxp_n_WtaunuW\",30,0,40);\n",
    "h_pvxp_n_WtaunuW->SetFillColor(kRed);\n",
    "//WtaunuJ histrogram - last cut only \n",
    "TH1F *h_pvxp_n_WtaunuJ = new TH1F(\"h_pvxp_n_WtaunuJ\",\"h_pvxp_n_WtaunuJ\",30,0,40);\n",
    "h_pvxp_n_WtaunuJ->SetFillColor(kYellow);\n",
    "//WtaunuN histrogram - last cut only \n",
    "TH1F *h_pvxp_n_WtaunuN = new TH1F(\"h_pvxp_n_WtaunuN\",\"h_pvxp_n_WtaunuN\",30,0,40);\n",
    "h_pvxp_n_WtaunuN->SetFillColor(kBlue);\n",
    "\n",
    "//Merged Wenu,Wmunu,Wtaunu\n",
    "TH1F *h_pvxp_n_mergedW = new TH1F(\"h_pvxp_n_mergedW\",\"h_pvxp_n_mergedW\",30,0,40);\n",
    "h_pvxp_n_mergedW->SetFillColor(kGreen);"
   ]
  },
  {
   "cell_type": "markdown",
   "metadata": {},
   "source": [
    "Define Z VERTEX histograms for each anaysis"
   ]
  },
  {
   "cell_type": "markdown",
   "metadata": {},
   "source": [
    "Define N VERTEX histograms Z analysis"
   ]
  },
  {
   "cell_type": "code",
   "execution_count": null,
   "metadata": {
    "collapsed": true
   },
   "outputs": [],
   "source": [
    "//Z VERTEX HISTOGRAMS\n",
    "//Zee histrogram - last cut only \n",
    "TH1F *h_vxp_z_Zee = new TH1F(\"h_vxp_z_Zee\",\"h_vxp_z_Zee\",50,-220,220);\n",
    "h_vxp_z_Zee->SetFillColor(kRed);\n",
    "//Zmumu histrogram - last cut only \n",
    "TH1F *h_vxp_z_Zmumu = new TH1F(\"h_vxp_z_Zmumu\",\"h_vxp_z_Zmumu\",50,-220,220);\n",
    "h_vxp_z_Zmumu->SetFillColor(kYellow);\n",
    "//Ztautau histrogram - last cut only \n",
    "TH1F *h_vxp_z_Ztautau = new TH1F(\"h_vxp_z_Ztautau\",\"h_vxp_z_Ztautau\",50,-220,220);\n",
    "h_vxp_z_Ztautau->SetFillColor(kBlue);\n",
    "\n",
    "//Merged Zee,Zmumu,Ztautau\n",
    "TH1F *h_vxp_z_mergedZ = new TH1F(\"h_vxp_z_mergedZ\",\"h_vxp_z_mergedZ\",50,-220,220);\n",
    "h_vxp_z_mergedZ->SetFillColor(kGreen);"
   ]
  },
  {
   "cell_type": "markdown",
   "metadata": {},
   "source": [
    "Define N VERTEX histograms Diboson analysis"
   ]
  },
  {
   "cell_type": "code",
   "execution_count": null,
   "metadata": {
    "collapsed": true
   },
   "outputs": [],
   "source": [
    "//Diboson WW histrogram\n",
    "TH1F *h_vxp_z_Dww = new TH1F(\"h_vxp_z_Dww\",\"h_vxp_z_Dww\",50,-220,220);\n",
    "h_vxp_z_Dww->SetFillColor(kRed);\n",
    "//Diboson ZZ histrogram\n",
    "TH1F *h_vxp_z_Dzz = new TH1F(\"h_vxp_z_Dzz\",\"h_vxp_z_Dzz\",50,-220,220);\n",
    "h_vxp_z_Dzz->SetFillColor(kYellow);\n",
    "//Diboson WZ histrogram\n",
    "TH1F *h_vxp_z_Dwz = new TH1F(\"h_vxp_z_Dwz\",\"h_vxp_z_Dwz\",50,-220,220);\n",
    "h_vxp_z_Dwz->SetFillColor(kBlue);\n",
    "\n",
    "//Merged Dibson WW,ZZ,WZ histogram\n",
    "TH1F *h_vxp_z_mergedD = new TH1F(\"h_vxp_z_mergedD\",\"h_vxp_z_mergedD\",50,-220,220);\n",
    "h_vxp_z_mergedD->SetFillColor(kGreen);"
   ]
  },
  {
   "cell_type": "markdown",
   "metadata": {},
   "source": [
    "Define N VERTEX histograms Drell Yan analysis"
   ]
  },
  {
   "cell_type": "code",
   "execution_count": null,
   "metadata": {
    "collapsed": true
   },
   "outputs": [],
   "source": [
    "//DYee1 histrogram\n",
    "TH1F *h_vxp_z_DYee1 = new TH1F(\"h_vxp_z_DYee1\",\"h_vxp_z_DYee1\",50,-220,220);\n",
    "h_jet_eta_DYee1->SetFillColor(kRed);\n",
    "//DYee2 histrogram\n",
    "TH1F *h_vxp_z_DYee2 = new TH1F(\"h_vxp_z_DYee2\",\"h_vxp_z_DYee2\",50,-220,220);\n",
    "h_vxp_z_DYee2->SetFillColor(kYellow);\n",
    "//DYmumu1 histrogram\n",
    "TH1F *h_vxp_z_DYmumu1 = new TH1F(\"h_vxp_z_DYmumu1\",\"h_vxp_z_DYmumu1\",50,-220,220);\n",
    "h_vxp_z_DYmumu1->SetFillColor(kBlue);\n",
    "//DYmumu2 histrogram\n",
    "TH1F *h_vxp_z_DYmumu2 = new TH1F(\"h_vxp_z_DYmumu2\",\"h_vxp_z_DYmumu2\",50,-220,220);\n",
    "h_vxp_z_DYmumu2->SetFillColor(kGreen);\n",
    "//DYtautau1 histrogram\n",
    "TH1F *h_vxp_z_DYtautau1 = new TH1F(\"h_vxp_z_DYtautau1\",\"h_vxp_z_DYtautau1\",50,-220,220);\n",
    "h_vxp_z_DYtautau1->SetFillColor(kOrange);\n",
    "//DYtautau2 histrogram\n",
    "TH1F *h_vxp_z_DYtautau2 = new TH1F(\"h_vxp_z_DYtautau2\",\"h_vxp_z_DYtautau2\",50,-220,2203);\n",
    "h_vxp_z_DYtautau2->SetFillColor(kPink);\n",
    "\n",
    "//Merged DY EE,MUMU,TAUTAU histogram\n",
    "TH1F *h_vxp_z_mergedDY = new TH1F(\"h_vxp_z_mergedDY\",\"h_vxp_z_mergedDY\",50,-220,220);\n",
    "h_vxp_z_mergedDY->SetFillColor(kGray);"
   ]
  },
  {
   "cell_type": "markdown",
   "metadata": {},
   "source": [
    "Define N VERTEX histograms Stop analysis"
   ]
  },
  {
   "cell_type": "code",
   "execution_count": null,
   "metadata": {
    "collapsed": true
   },
   "outputs": [],
   "source": [
    "//Stop tchan_top histrogram \n",
    "TH1F *h_vxp_z_Stchan_top = new TH1F(\"h_vxp_z_Stchan_top\",\"h_vxp_z_Stchan_top\",50,-220,220);\n",
    "h_vxp_z_Stchan_top->SetFillColor(kRed);\n",
    "//Stop tchan_antitop histrogram\n",
    "TH1F *h_vxp_z_Stchan_antitop = new TH1F(\"h_vxp_z_Stchan_antitop\",\"h_vxp_z_Stchan_antitop\",50,-220,220);\n",
    "h_vxp_z_Stchan_antitop->SetFillColor(kYellow);\n",
    "//Stop schan histogram\n",
    "TH1F *h_vxp_z_Sschan = new TH1F(\"h_vxp_z_Sschan \",\"h_vxp_z_Sschan\",50,-220,220);\n",
    "h_vxp_z_Sschan->SetFillColor(kBlue);\n",
    "//Stop wtchan histogram\n",
    "TH1F *h_vxp_z_Swtchan = new TH1F(\"h_vxp_z_Swtchan\",\"h_vxp_z_Swtchan\",50,-220,220);\n",
    "h_vxp_z_Swtchan->SetFillColor(kGreen);\n",
    "\n",
    "//Merged stop \n",
    "TH1F *h_vxp_z_mergedS = new TH1F(\"h_vxp_z_mergedS\",\"h_vxp_z_mergedS\",50,-220,220);\n",
    "h_vxp_z_mergedS->SetFillColor(kGray);"
   ]
  },
  {
   "cell_type": "markdown",
   "metadata": {},
   "source": [
    "Define N VERTEX histograms TTBar analysis"
   ]
  },
  {
   "cell_type": "code",
   "execution_count": null,
   "metadata": {
    "collapsed": true
   },
   "outputs": [],
   "source": [
    "//TTBar had histrogram \n",
    "TH1F *h_vxp_z_TThad = new TH1F(\"h_vxp_z_TThad\",\"h_vxp_z_TThad\",50,-220,220);\n",
    "h_vxp_z_TThad->SetFillColor(kRed);\n",
    "//TTBar lep histrogram\n",
    "TH1F *h_vxp_z_TTlep = new TH1F(\"h_vxp_z_TTlep\",\"h_vxp_z_TTlep\",50,-220,220);\n",
    "h_vxp_z_TTlep->SetFillColor(kYellow);\n",
    "\n",
    "//Merged TTBar\n",
    "TH1F *h_vxp_z_mergedTT = new TH1F(\"h_vxp_z_mergedTT\",\"h_vxp_z_mergedTT\",50,-220,220);\n",
    "h_vxp_z_mergedTT->SetFillColor(kGray);"
   ]
  },
  {
   "cell_type": "markdown",
   "metadata": {},
   "source": [
    "Define N VERTEX histograms W analysis"
   ]
  },
  {
   "cell_type": "code",
   "execution_count": null,
   "metadata": {
    "collapsed": true
   },
   "outputs": [],
   "source": [
    "//W HISTOGRAMS\n",
    "//WenuW hisogram\n",
    "TH1F *h_vxp_z_WenuW = new TH1F(\"h_vxp_z_WenuW\",\"h_vxp_z_WenuW\",50,-220,220);\n",
    "h_vxp_z_WenuW->SetFillColor(kRed);\n",
    "//WenuJ histrogram - last cut only \n",
    "TH1F *h_vxp_z_WenuJ = new TH1F(\"h_vxp_z_WenuJ\",\"h_vxp_z_WenuJ\",50,-220,220);\n",
    "h_vxp_z_WenuJ->SetFillColor(kYellow);\n",
    "//WenuN histrogram - last cut only \n",
    "TH1F *h_vxp_z_WenuN = new TH1F(\"h_vxp_z_WenuN\",\"h_vxp_z_WenuN\",50,-220,220);\n",
    "h_vxp_z_WenuN->SetFillColor(kBlue);\n",
    "//WmunuW hisogram\n",
    "TH1F *h_vxp_z_WmunuW = new TH1F(\"h_vxp_z_WmunuW\",\"h_vxp_z_WmunuW\",50,-220,220);\n",
    "h_vxp_z_WmunuW->SetFillColor(kRed);\n",
    "//WmunuJ histrogram - last cut only \n",
    "TH1F *h_vxp_z_WmunuJ = new TH1F(\"h_vxp_z_WmunuJ\",\"h_vxp_z_WmunuJ\",50,-220,220);\n",
    "h_vxp_z_WmunuJ->SetFillColor(kYellow);\n",
    "//WmunuN histrogram - last cut only \n",
    "TH1F *h_vxp_z_WmunuN = new TH1F(\"h_vxp_z_WmunuN\",\"h_vxp_z_WmunuN\",50,-220,220);\n",
    "h_vxp_z_WmunuN->SetFillColor(kBlue);\n",
    "//WtaunuW hisogram\n",
    "TH1F *h_vxp_z_WtaunuW = new TH1F(\"h_vxp_z_WtaunuW\",\"h_vxp_z_WtaunuW\",50,-220,220);\n",
    "h_vxp_z_WtaunuW->SetFillColor(kRed);\n",
    "//WtaunuJ histrogram - last cut only \n",
    "TH1F *h_vxp_z_WtaunuJ = new TH1F(\"h_vxp_z_WtaunuJ\",\"h_vxp_z_WtaunuJ\",50,-220,220);\n",
    "h_vxp_z_WtaunuJ->SetFillColor(kYellow);\n",
    "//WtaunuN histrogram - last cut only \n",
    "TH1F *h_vxp_z_WtaunuN = new TH1F(\"h_vxp_z_WtaunuN\",\"h_vxp_z_WtaunuN\",50,-220,220);\n",
    "h_vxp_z_WtaunuN->SetFillColor(kBlue);\n",
    "\n",
    "//Merged Wenu,Wmunu,Wtaunu\n",
    "TH1F *h_vxp_z_mergedW = new TH1F(\"h_vxp_z_mergedW\",\"h_vxp_z_mergedW\",50,-220,220);\n",
    "h_vxp_z_mergedW->SetFillColor(kGreen);"
   ]
  },
  {
   "cell_type": "markdown",
   "metadata": {},
   "source": [
    "Define MET_ET histograms for Z anaysis"
   ]
  },
  {
   "cell_type": "code",
   "execution_count": null,
   "metadata": {
    "collapsed": true
   },
   "outputs": [],
   "source": [
    "//MET_ET HISTOGRAMS\n",
    "//Zee histrogram - last cut only \n",
    "TH1F *h_met_et_Zee = new TH1F(\"h_met_et_Zee\",\"h_met_et_Zee\",25,0,200);\n",
    "h_met_et_Zee->SetFillColor(kRed);\n",
    "//Zmumu histrogram - last cut only \n",
    "TH1F *h_met_et_Zmumu = new TH1F(\"h_met_et_Zmumu\",\"h_met_et_Zmumu\",25,0,200);\n",
    "h_met_et_Zmumu->SetFillColor(kYellow);\n",
    "//Ztautau histrogram - last cut only \n",
    "TH1F *h_met_et_Ztautau = new TH1F(\"h_met_et_Ztautau\",\"h_met_et_Ztautau\",25,0,200);\n",
    "h_met_et_Ztautau->SetFillColor(kBlue);\n",
    "\n",
    "//Merged Zee,Zmumu,Ztautau\n",
    "TH1F *h_met_et_mergedZ = new TH1F(\"h_met_et_mergedZ\",\"h_met_et_mergedZ\",25,0,200);\n",
    "h_met_et_mergedZ->SetFillColor(kGreen);\n",
    "\n",
    "//Diboson WW histrogram\n",
    "TH1F *h_met_et_Dww = new TH1F(\"h_met_et_Dww\",\"h_met_et_Dww\",25,0,200);\n",
    "h_met_et_Dww->SetFillColor(kRed);\n",
    "//Diboson ZZ histrogram\n",
    "TH1F *h_met_et_Dzz = new TH1F(\"h_met_et_Dzz\",\"h_met_et_Dzz\",25,0,200);\n",
    "h_met_et_Dzz->SetFillColor(kYellow);\n",
    "//Diboson WZ histrogram\n",
    "TH1F *h_met_et_Dwz = new TH1F(\"h_met_et_Dwz\",\"h_met_et_Dwz\",25,0,200);\n",
    "h_met_et_Dwz->SetFillColor(kBlue);\n",
    "\n",
    "//Merged Dibson WW,ZZ,WZ histogram\n",
    "TH1F *h_met_et_mergedD = new TH1F(\"h_met_et_mergedD\",\"h_met_et_mergedD\",25,0,200);\n",
    "h_met_et_mergedD->SetFillColor(kGreen);\n",
    "\n",
    "//DYee1 histrogram\n",
    "TH1F *h_met_et_DYee1 = new TH1F(\"h_met_et_DYee1\",\"h_met_et_DYee1\",25,0,200);\n",
    "h_met_et_DYee1->SetFillColor(kRed);\n",
    "//DYee2 histrogram\n",
    "TH1F *h_met_et_DYee2 = new TH1F(\"h_met_et_DYee2\",\"h_met_et_DYee2\",25,0,200);\n",
    "h_met_et_DYee2->SetFillColor(kYellow);\n",
    "//DYmumu1 histrogram\n",
    "TH1F *h_met_et_DYmumu1 = new TH1F(\"h_met_et_DYmumu1\",\"h_met_et_DYmumu1\",25,0,200);\n",
    "h_met_et_DYmumu1->SetFillColor(kBlue);\n",
    "//DYmumu2 histrogram\n",
    "TH1F *h_met_et_DYmumu2 = new TH1F(\"h_met_et_DYmumu2\",\"h_met_et_DYmumu2\",25,0,200);\n",
    "h_met_et_DYmumu2->SetFillColor(kGreen);\n",
    "//DYtautau1 histrogram\n",
    "TH1F *h_met_et_DYtautau1 = new TH1F(\"h_met_et_DYtautau1\",\"h_met_et_DYtautau1\",25,0,200);\n",
    "h_met_et_DYtautau1->SetFillColor(kOrange);\n",
    "//DYtautau2 histrogram\n",
    "TH1F *h_met_et_DYtautau2 = new TH1F(\"h_met_et_DYtautau2\",\"h_met_et_DYtautau2\",25,0,200);\n",
    "h_met_et_DYtautau2->SetFillColor(kPink);\n",
    "\n",
    "//Merged DY EE,MUMU,TAUTAU histogram\n",
    "TH1F *h_met_et_mergedDY = new TH1F(\"h_met_et_mergedDY\",\"h_met_et_mergedDY\",25,0,200);\n",
    "h_met_et_mergedDY->SetFillColor(kGray);\n",
    "\n",
    "//Stop tchan_top histrogram \n",
    "TH1F *h_met_et_Stchan_top = new TH1F(\"h_met_et_Stchan_top\",\"h_met_et_Stchan_top\",25,0,200);\n",
    "h_met_et_Stchan_top->SetFillColor(kRed);\n",
    "//Stop tchan_antitop histrogram\n",
    "TH1F *h_met_et_Stchan_antitop = new TH1F(\"h_met_et_Stchan_antitop\",\"h_met_et_Stchan_antitop\",25,0,200);\n",
    "h_met_et_Stchan_antitop->SetFillColor(kYellow);\n",
    "//Stop schan histogram\n",
    "TH1F *h_met_et_Sschan = new TH1F(\"h_met_et_Sschan \",\"h_met_et_Sschan\",25,0,200);\n",
    "h_met_et_Sschan->SetFillColor(kBlue);\n",
    "//Stop wtchan histogram\n",
    "TH1F *h_met_et_Swtchan = new TH1F(\"h_met_et_Swtchan\",\"h_met_et_Swtchan\",25,0,200);\n",
    "h_met_et_Swtchan->SetFillColor(kGreen);\n",
    "\n",
    "//Merged stop \n",
    "TH1F *h_met_et_mergedS = new TH1F(\"h_met_et_mergedS\",\"h_met_et_mergedS\",25,0,200);\n",
    "h_met_et_mergedS->SetFillColor(kGray);\n",
    "\n",
    "//TTBar had histrogram \n",
    "TH1F *h_met_et_TThad = new TH1F(\"h_met_et_TThad\",\"h_met_et_TThad\",25,0,200);\n",
    "h_met_et_TThad->SetFillColor(kRed);\n",
    "//TTBar lep histrogram\n",
    "TH1F *h_met_et_TTlep = new TH1F(\"h_met_et_TTlep\",\"h_met_et_TTlep\",25,0,200);\n",
    "h_met_et_TTlep->SetFillColor(kYellow);\n",
    "\n",
    "//Merged TTBar\n",
    "TH1F *h_met_et_mergedTT = new TH1F(\"h_met_et_mergedTT\",\"h_met_et_mergedTT\",25,0,200);\n",
    "h_met_et_mergedTT->SetFillColor(kGray);\n",
    "\n",
    "\n",
    "//W HISTOGRAMS\n",
    "//WenuW hisogram\n",
    "TH1F *h_met_et_WenuW = new TH1F(\"h_met_et_WenuW\",\"h_met_et_WenuW\",25,0,200);\n",
    "h_met_et_WenuW->SetFillColor(kRed);\n",
    "//WenuJ histrogram - last cut only \n",
    "TH1F *h_met_et_WenuJ = new TH1F(\"h_met_et_WenuJ\",\"h_met_et_WenuJ\",25,0,200);\n",
    "h_met_et_WenuJ->SetFillColor(kYellow);\n",
    "//WenuN histrogram - last cut only \n",
    "TH1F *h_met_et_WenuN = new TH1F(\"h_met_et_WenuN\",\"h_met_et_WenuN\",25,0,200);\n",
    "h_met_et_WenuN->SetFillColor(kBlue);\n",
    "//WmunuW hisogram\n",
    "TH1F *h_met_et_WmunuW = new TH1F(\"h_met_et_WmunuW\",\"h_met_et_WmunuW\",25,0,200);\n",
    "h_met_et_WmunuW->SetFillColor(kRed);\n",
    "//WmunuJ histrogram - last cut only \n",
    "TH1F *h_met_et_WmunuJ = new TH1F(\"h_met_et_WmunuJ\",\"h_met_et_WmunuJ\",25,0,200);\n",
    "h_met_et_WmunuJ->SetFillColor(kYellow);\n",
    "//WmunuN histrogram - last cut only \n",
    "TH1F *h_met_et_WmunuN = new TH1F(\"h_met_et_WmunuN\",\"h_met_et_WmunuN\",25,0,200);\n",
    "h_met_et_WmunuN->SetFillColor(kBlue);\n",
    "//WtaunuW hisogram\n",
    "TH1F *h_met_et_WtaunuW = new TH1F(\"h_met_et_WtaunuW\",\"h_met_et_WtaunuW\",25,0,200);\n",
    "h_met_et_WtaunuW->SetFillColor(kRed);\n",
    "//WtaunuJ histrogram - last cut only \n",
    "TH1F *h_met_et_WtaunuJ = new TH1F(\"h_met_et_WtaunuJ\",\"h_met_et_WtaunuJ\",25,0,200);\n",
    "h_met_et_WtaunuJ->SetFillColor(kYellow);\n",
    "//WtaunuN histrogram - last cut only \n",
    "TH1F *h_met_et_WtaunuN = new TH1F(\"h_met_et_WtaunuN\",\"h_met_et_WtaunuN\",25,0,200);\n",
    "h_met_et_WtaunuN->SetFillColor(kBlue);\n",
    "\n",
    "//Merged Wenu,Wmunu,Wtaunu\n",
    "TH1F *h_met_et_mergedW = new TH1F(\"h_met_et_mergedW\",\"h_met_et_mergedW\",25,0,200);\n",
    "h_met_et_mergedW->SetFillColor(kGreen);"
   ]
  },
  {
   "cell_type": "markdown",
   "metadata": {},
   "source": [
    "Define INVARIANT MASS histograms for each anaysis"
   ]
  },
  {
   "cell_type": "markdown",
   "metadata": {},
   "source": [
    "Define Invarinat Mass histograms for Z anaysis"
   ]
  },
  {
   "cell_type": "code",
   "execution_count": null,
   "metadata": {
    "collapsed": true
   },
   "outputs": [],
   "source": [
    "//INVARIANT MASS HISTOGRAMS\n",
    "//Zee histrogram - last cut only \n",
    "TH1F *h_inv_mass_Zee = new TH1F(\"h_inv_mass_Zee\",\"h_inv_mass_Zee\",25,60,120);\n",
    "h_inv_mass_Zee->SetFillColor(kRed);\n",
    "//Zmumu histrogram - last cut only \n",
    "TH1F *h_inv_mass_Zmumu = new TH1F(\"h_inv_mass_Zmumu\",\"h_inv_mass_Zmumu\",25,60,120);\n",
    "h_inv_mass_Zmumu->SetFillColor(kYellow);\n",
    "//Ztautau histrogram - last cut only \n",
    "TH1F *h_inv_mass_Ztautau = new TH1F(\"h_inv_mass_Ztautau\",\"h_inv_mass_Ztautau\",25,60,120);\n",
    "h_inv_mass_Ztautau->SetFillColor(kBlue);\n",
    "\n",
    "//Merged Zee,Zmumu,Ztautau\n",
    "TH1F *h_inv_mass_mergedZ = new TH1F(\"h_inv_mass_mergedZ\",\"h_inv_mass_mergedZ\",25,60,120);\n",
    "h_inv_mass_mergedZ->SetFillColor(kGreen);\n",
    "\n",
    "//Diboson WW histrogram\n",
    "TH1F *h_inv_mass_Dww = new TH1F(\"h_inv_mass_Dww\",\"h_inv_mass_Dww\",25,60,120);\n",
    "h_inv_mass_Dww->SetFillColor(kRed);\n",
    "//Diboson ZZ histrogram\n",
    "TH1F *h_inv_mass_Dzz = new TH1F(\"h_inv_mass_Dzz\",\"h_inv_mass_Dzz\",25,60,120);\n",
    "h_inv_mass_Dzz->SetFillColor(kYellow);\n",
    "//Diboson WZ histrogram\n",
    "TH1F *h_inv_mass_Dwz = new TH1F(\"h_inv_mass_Dwz\",\"h_inv_mass_Dwz\",25,60,120);\n",
    "h_inv_mass_Dwz->SetFillColor(kBlue);\n",
    "\n",
    "//Merged Dibson WW,ZZ,WZ histogram\n",
    "TH1F *h_inv_mass_mergedD = new TH1F(\"h_inv_mass_mergedD\",\"h_inv_mass_mergedD\",25,60,120);\n",
    "h_inv_mass_mergedD->SetFillColor(kGreen);\n",
    "\n",
    "//DYee1 histrogram\n",
    "TH1F *h_inv_mass_DYee1 = new TH1F(\"h_inv_mass_DYee1\",\"h_inv_mass_DYee1\",25,60,120);\n",
    "h_inv_mass_DYee1->SetFillColor(kRed);\n",
    "//DYee2 histrogram\n",
    "TH1F *h_inv_mass_DYee2 = new TH1F(\"h_inv_mass_DYee2\",\"h_inv_mass_DYee2\",25,60,120);\n",
    "h_inv_mass_DYee2->SetFillColor(kYellow);\n",
    "//DYmumu1 histrogram\n",
    "TH1F *h_inv_mass_DYmumu1 = new TH1F(\"h_inv_mass_DYmumu1\",\"h_inv_mass_DYmumu1\",25,60,120);\n",
    "h_inv_mass_DYmumu1->SetFillColor(kBlue);\n",
    "//DYmumu2 histrogram\n",
    "TH1F *h_inv_mass_DYmumu2 = new TH1F(\"h_inv_mass_DYmumu2\",\"h_inv_mass_DYmumu2\",25,60,120);\n",
    "h_inv_mass_DYmumu2->SetFillColor(kGreen);\n",
    "//DYtautau1 histrogram\n",
    "TH1F *h_inv_mass_DYtautau1 = new TH1F(\"h_inv_mass_DYtautau1\",\"h_inv_mass_DYtautau1\",25,60,120);\n",
    "h_inv_mass_DYtautau1->SetFillColor(kOrange);\n",
    "//DYtautau2 histrogram\n",
    "TH1F *h_inv_mass_DYtautau2 = new TH1F(\"h_inv_mass_DYtautau2\",\"h_inv_mass_DYtautau2\",25,60,120);\n",
    "h_inv_mass_DYtautau2->SetFillColor(kPink);\n",
    "\n",
    "//Merged DY EE,MUMU,TAUTAU histogram\n",
    "TH1F *h_inv_mass_mergedDY = new TH1F(\"h_inv_mass_mergedDY\",\"h_inv_mass_mergedDY\",25,60,120);\n",
    "h_inv_mass_mergedDY->SetFillColor(kGray);\n",
    "\n",
    "//Stop tchan_top histrogram \n",
    "TH1F *h_inv_mass_Stchan_top = new TH1F(\"h_inv_mass_Stchan_top\",\"h_inv_mass_Stchan_top\",25,60,120);\n",
    "h_inv_mass_Stchan_top->SetFillColor(kRed);\n",
    "//Stop tchan_antitop histrogram\n",
    "TH1F *h_inv_mass_Stchan_antitop = new TH1F(\"h_inv_mass_Stchan_antitop\",\"h_inv_mass_Stchan_antitop\",25,60,120);\n",
    "h_inv_mass_Stchan_antitop->SetFillColor(kYellow);\n",
    "//Stop schan histogram\n",
    "TH1F *h_inv_mass_Sschan = new TH1F(\"h_inv_mass_Sschan \",\"h_inv_mass_Sschan\",25,60,120);\n",
    "h_inv_mass_Sschan->SetFillColor(kBlue);\n",
    "//Stop wtchan histogram\n",
    "TH1F *h_inv_mass_Swtchan = new TH1F(\"h_inv_mass_Swtchan\",\"h_inv_mass_Swtchan\",25,60,120);\n",
    "h_inv_mass_Swtchan->SetFillColor(kGreen);\n",
    "\n",
    "//Merged stop \n",
    "TH1F *h_inv_mass_mergedS = new TH1F(\"h_inv_mass_mergedS\",\"h_inv_mass_mergedS\",25,60,120);\n",
    "h_inv_mass_mergedS->SetFillColor(kGray);\n",
    "\n",
    "//TTBar had histrogram \n",
    "TH1F *h_inv_mass_TThad = new TH1F(\"h_inv_mass_TThad\",\"h_inv_mass_TThad\",25,60,120);\n",
    "h_inv_mass_TThad->SetFillColor(kRed);\n",
    "//TTBar lep histrogram\n",
    "TH1F *h_inv_mass_TTlep = new TH1F(\"h_inv_mass_TTlep\",\"h_inv_mass_TTlep\",25,60,120);\n",
    "h_inv_mass_TTlep->SetFillColor(kYellow);\n",
    "\n",
    "//Merged TTBar\n",
    "TH1F *h_inv_mass_mergedTT = new TH1F(\"h_inv_mass_mergedTT\",\"h_inv_mass_mergedTT\",25,60,120);\n",
    "h_inv_mass_mergedTT->SetFillColor(kGray);\n",
    "\n",
    "\n",
    "//W HISTOGRAMS\n",
    "//WenuW hisogram\n",
    "TH1F *h_inv_mass_WenuW = new TH1F(\"h_inv_mass_WenuW\",\"h_inv_mass_WenuW\",25,60,120);\n",
    "h_inv_mass_WenuW->SetFillColor(kRed);\n",
    "//WenuJ histrogram - last cut only \n",
    "TH1F *h_inv_mass_WenuJ = new TH1F(\"h_inv_mass_WenuJ\",\"h_inv_mass_WenuJ\",25,60,120);\n",
    "h_inv_mass_WenuJ->SetFillColor(kYellow);\n",
    "//WenuN histrogram - last cut only \n",
    "TH1F *h_inv_mass_WenuN = new TH1F(\"h_inv_mass_WenuN\",\"h_inv_mass_WenuN\",25,60,120);\n",
    "h_inv_mass_WenuN->SetFillColor(kBlue);\n",
    "//WmunuW hisogram\n",
    "TH1F *h_inv_mass_WmunuW = new TH1F(\"h_inv_mass_WmunuW\",\"h_inv_mass_WmunuW\",25,60,120);\n",
    "h_inv_mass_WmunuW->SetFillColor(kRed);\n",
    "//WmunuJ histrogram - last cut only \n",
    "TH1F *h_inv_mass_WmunuJ = new TH1F(\"h_inv_mass_WmunuJ\",\"h_inv_mass_WmunuJ\",25,60,120);\n",
    "h_inv_mass_WmunuJ->SetFillColor(kYellow);\n",
    "//WmunuN histrogram - last cut only \n",
    "TH1F *h_inv_mass_WmunuN = new TH1F(\"h_inv_mass_WmunuN\",\"h_inv_mass_WmunuN\",25,60,120);\n",
    "h_inv_mass_WmunuN->SetFillColor(kBlue);\n",
    "//WtaunuW hisogram\n",
    "TH1F *h_inv_mass_WtaunuW = new TH1F(\"h_inv_mass_WtaunuW\",\"h_inv_mass_WtaunuW\",25,60,120);\n",
    "h_inv_mass_WtaunuW->SetFillColor(kRed);\n",
    "//WtaunuJ histrogram - last cut only \n",
    "TH1F *h_inv_mass_WtaunuJ = new TH1F(\"h_inv_mass_WtaunuJ\",\"h_inv_mass_WtaunuJ\",25,60,120);\n",
    "h_inv_mass_WtaunuJ->SetFillColor(kYellow);\n",
    "//WtaunuN histrogram - last cut only \n",
    "TH1F *h_inv_mass_WtaunuN = new TH1F(\"h_inv_mass_WtaunuN\",\"h_inv_mass_WtaunuN\",25,60,120);\n",
    "h_inv_mass_WtaunuN->SetFillColor(kBlue);\n",
    "\n",
    "//Merged Wenu,Wmunu,Wtaunu\n",
    "TH1F *h_inv_mass_mergedW = new TH1F(\"h_inv_mass_mergedW\",\"h_inv_mass_mergedW\",25,60,120);\n",
    "h_inv_mass_mergedW->SetFillColor(kGreen);"
   ]
  },
  {
   "cell_type": "markdown",
   "metadata": {},
   "source": [
    "Data histogrms"
   ]
  },
  {
   "cell_type": "code",
   "execution_count": null,
   "metadata": {
    "collapsed": false
   },
   "outputs": [],
   "source": [
    "//DATA HISTOGRAMS\n",
    "//Egamma histrogram \n",
    "TH1F *h_lep_pt_Data = new TH1F(\"h_lep_pt_Data\",\"h_lep_pt_Data\",20,0,200);\n",
    "h_lep_pt_Data->SetFillColor(kRed);\n",
    "//Muons histrogram \n",
    "TH1F *h_lep_pt_Muons = new TH1F(\"h_lep_pt_Muons\",\"h_lep_pt_Muons\",20,0,200);\n",
    "h_lep_pt_Muons->SetFillColor(kYellow);\n"
   ]
  },
  {
   "cell_type": "markdown",
   "metadata": {
    "collapsed": true
   },
   "source": [
    "Set atributes for Lepton PT histograms"
   ]
  },
  {
   "cell_type": "markdown",
   "metadata": {},
   "source": [
    "Set Lepton PT atributes for Z histograms "
   ]
  },
  {
   "cell_type": "code",
   "execution_count": null,
   "metadata": {
    "collapsed": false
   },
   "outputs": [],
   "source": [
    "//PT Histograms\n",
    "//Zee histrogram\n",
    "h_lep_pt_Dww->SetMarkerStyle(8);\n",
    "h_lep_pt_Zee->SetMarkerSize(0.5);\n",
    "h_lep_pt_Zee->SetLineColor(kRed);\n",
    "//Zmumu histrogram \n",
    "h_lep_pt_Dww->SetMarkerStyle(8);\n",
    "h_lep_pt_Zmumu->SetMarkerSize(0.5);\n",
    "h_lep_pt_Zmumu->SetLineColor(kYellow);\n",
    "//Ztautau histrogram\n",
    "h_lep_pt_Dww->SetMarkerStyle(8);\n",
    "h_lep_pt_Ztautau->SetMarkerSize(0.5);\n",
    "h_lep_pt_Ztautau->SetLineColor(kBlue);\n",
    "//Merged Zee,Zmumu,Ztautau\n",
    "h_lep_pt_mergedZ->SetMarkerStyle(8);\n",
    "h_lep_pt_mergedZ->SetMarkerSize(0.5);\n",
    "h_lep_pt_mergedZ->SetLineColor(kBlue);"
   ]
  },
  {
   "cell_type": "markdown",
   "metadata": {},
   "source": [
    "Set Lepton PT atributes for Diboson histograms "
   ]
  },
  {
   "cell_type": "code",
   "execution_count": null,
   "metadata": {
    "collapsed": true
   },
   "outputs": [],
   "source": [
    "//Diboson WW histogram\n",
    "h_lep_pt_Dww->SetMarkerStyle(8);\n",
    "h_lep_pt_Dww->SetMarkerSize(0.5);\n",
    "h_lep_pt_Dww->SetLineColor(kRed);\n",
    "//Diboson ZZ histogram\n",
    "h_lep_pt_Dzz->SetMarkerStyle(8);\n",
    "h_lep_pt_Dzz->SetMarkerSize(0.5);\n",
    "h_lep_pt_Dzz->SetLineColor(kYellow);\n",
    "//Diboson WZ histogram\n",
    "h_lep_pt_Dwz->SetMarkerStyle(8);\n",
    "h_lep_pt_Dwz->SetMarkerSize(0.5);\n",
    "h_lep_pt_Dwz->SetLineColor(kBlue);\n",
    "//Merged Diboson WW,ZZ,WZ histogram\n",
    "h_lep_pt_mergedD->SetMarkerStyle(8);\n",
    "h_lep_pt_mergedD->SetMarkerSize(0.5);\n",
    "h_lep_pt_mergedD->SetLineColor(kOrange);"
   ]
  },
  {
   "cell_type": "markdown",
   "metadata": {},
   "source": [
    "Set Lepton PT atributes for Drell Yan histograms "
   ]
  },
  {
   "cell_type": "code",
   "execution_count": null,
   "metadata": {
    "collapsed": true
   },
   "outputs": [],
   "source": [
    "//DYee1 histogram\n",
    "h_lep_pt_DYee1->SetMarkerStyle(8);\n",
    "h_lep_pt_DYee1->SetMarkerSize(0.5);\n",
    "h_lep_pt_DYee1->SetLineColor(kRed);\n",
    "//DYee2 histogram\n",
    "h_lep_pt_DYee2->SetMarkerStyle(8);\n",
    "h_lep_pt_DYee2->SetMarkerSize(0.5);\n",
    "h_lep_pt_DYee2->SetLineColor(kYellow);\n",
    "//DYmumu1 histrogram\n",
    "h_lep_pt_DYmumu1->SetMarkerStyle(8);\n",
    "h_lep_pt_DYmumu1->SetMarkerSize(0.5);\n",
    "h_lep_pt_DYmumu1->SetLineColor(kBlue);\n",
    "//DYmumu2 histrogram\n",
    "h_lep_pt_DYmumu2->SetMarkerStyle(8);\n",
    "h_lep_pt_DYmumu2->SetMarkerSize(0.5);\n",
    "h_lep_pt_DYmumu2->SetLineColor(kGreen);\n",
    "//DYtautau1 histrogram\n",
    "h_lep_pt_DYtautau1->SetMarkerStyle(8);\n",
    "h_lep_pt_DYtautau1->SetMarkerSize(0.5);\n",
    "h_lep_pt_DYtautau1->SetLineColor(kOrange);\n",
    "//DYtautau2 histrogram\n",
    "h_lep_pt_DYtautau2->SetMarkerStyle(8);\n",
    "h_lep_pt_DYtautau2->SetMarkerSize(0.5);\n",
    "h_lep_pt_DYtautau2->SetLineColor(kPink);\n",
    "\n",
    "//Merged DY EE,MUMU,TAUTAU histogram\n",
    "h_lep_pt_mergedDY->SetMarkerStyle(8);\n",
    "h_lep_pt_mergedDY->SetMarkerSize(0.5);\n",
    "h_lep_pt_mergedDY->SetLineColor(kBlue+8);"
   ]
  },
  {
   "cell_type": "markdown",
   "metadata": {},
   "source": [
    "Set Lepton PT atributes for Stop histograms "
   ]
  },
  {
   "cell_type": "code",
   "execution_count": null,
   "metadata": {
    "collapsed": true
   },
   "outputs": [],
   "source": [
    "//Stop tchan_top histrogram \n",
    "h_lep_pt_Stchan_top->SetMarkerStyle(8);\n",
    "h_lep_pt_Stchan_top->SetMarkerSize(0.5);\n",
    "h_lep_pt_Stchan_top->SetLineColor(kRed);\n",
    "//Stop tchan_antitop histrogram\n",
    "h_lep_pt_Stchan_antitop->SetMarkerStyle(8);\n",
    "h_lep_pt_Stchan_antitop->SetMarkerSize(0.5);\n",
    "h_lep_pt_Stchan_antitop->SetLineColor(kYellow);\n",
    "//Stop schan histogram\n",
    "h_lep_pt_Sschan->SetMarkerStyle(8);\n",
    "h_lep_pt_Sschan->SetMarkerSize(0.5);\n",
    "h_lep_pt_Sschan->SetLineColor(kBlue);\n",
    "//Stop wtchan histogram\n",
    "h_lep_pt_Swtchan->SetMarkerStyle(8);\n",
    "h_lep_pt_Swtchan->SetMarkerSize(0.5);\n",
    "h_lep_pt_Swtchan->SetLineColor(kGreen);\n",
    "\n",
    "//Merged stop\n",
    "h_lep_pt_mergedS->SetMarkerStyle(8);\n",
    "h_lep_pt_mergedS->SetMarkerSize(0.5);\n",
    "h_lep_pt_mergedS->SetLineColor(kYellow);"
   ]
  },
  {
   "cell_type": "markdown",
   "metadata": {},
   "source": [
    "Set Lepton PT atributes for TTBar histograms "
   ]
  },
  {
   "cell_type": "code",
   "execution_count": null,
   "metadata": {
    "collapsed": true
   },
   "outputs": [],
   "source": [
    "//TTBar had histrogram \n",
    "h_lep_pt_TThad->SetMarkerStyle(8);\n",
    "h_lep_pt_TThad->SetMarkerSize(0.5);\n",
    "h_lep_pt_TThad->SetLineColor(kRed);\n",
    "//TTBar lep histrogram\n",
    "h_lep_pt_TTlep->SetMarkerStyle(8);\n",
    "h_lep_pt_TTlep->SetMarkerSize(0.5);\n",
    "h_lep_pt_TTlep->SetLineColor(kYellow);\n",
    "\n",
    "//Merged TTBar\n",
    "h_lep_pt_mergedTT->SetMarkerStyle(8);\n",
    "h_lep_pt_mergedTT->SetMarkerSize(0.5);\n",
    "h_lep_pt_mergedTT->SetLineColor(kGreen);\n"
   ]
  },
  {
   "cell_type": "markdown",
   "metadata": {},
   "source": [
    "Set Lepton PT atributes for W histograms "
   ]
  },
  {
   "cell_type": "code",
   "execution_count": null,
   "metadata": {
    "collapsed": true
   },
   "outputs": [],
   "source": [
    "//W WenuW histogram  \n",
    "h_lep_pt_WenuW->SetMarkerStyle(8);\n",
    "h_lep_pt_WenuW->SetMarkerSize(0.5);\n",
    "h_lep_pt_WenuW->SetLineColor(kRed);\n",
    "\n",
    "//W WenuJ histrogram \n",
    "h_lep_pt_WenuJ->SetMarkerStyle(8);\n",
    "h_lep_pt_WenuJ->SetMarkerSize(0.5);\n",
    "h_lep_pt_WenuJ->SetLineColor(kYellow);\n",
    "//W WenuN histrogram\n",
    "h_lep_pt_WenuN->SetMarkerStyle(8);\n",
    "h_lep_pt_WenuN->SetMarkerSize(0.5);\n",
    "h_lep_pt_WenuN->SetLineColor(kBlue);\n",
    "\n",
    "//WmunuW histrogram\n",
    "h_lep_pt_WmunuW->SetMarkerStyle(8);\n",
    "h_lep_pt_WmunuW->SetMarkerSize(0.5);\n",
    "h_lep_pt_WmunuW->SetLineColor(kGreen);\n",
    "//W WmunuJ histrogram\n",
    "h_lep_pt_WmunuJ->SetMarkerStyle(8);\n",
    "h_lep_pt_WmunuJ->SetMarkerSize(0.5);\n",
    "h_lep_pt_WmunuJ->SetLineColor(kOrange);\n",
    "//W WmunuN histrogram\n",
    "h_lep_pt_WmunuN->SetMarkerStyle(8);\n",
    "h_lep_pt_WmunuN->SetMarkerSize(0.5);\n",
    "h_lep_pt_WmunuN->SetLineColor(kPink);\n",
    "//W WtaunuW histogram  \n",
    "h_lep_pt_WtaunuW->SetMarkerStyle(8);\n",
    "h_lep_pt_WtaunuW->SetMarkerSize(0.5);\n",
    "h_lep_pt_WtaunuW->SetLineColor(kViolet);\n",
    "\n",
    "//W WtaunuJ histrogram \n",
    "h_lep_pt_WtaunuJ->SetMarkerStyle(8);\n",
    "h_lep_pt_WtaunuJ->SetMarkerSize(0.5);\n",
    "h_lep_pt_WtaunuJ->SetLineColor(kAzure);\n",
    "//W WtaunuN histrogram\n",
    "h_lep_pt_WtaunuN->SetMarkerStyle(8);\n",
    "h_lep_pt_WtaunuN->SetMarkerSize(0.5);\n",
    "h_lep_pt_WtaunuN->SetLineColor(kTeal);\n",
    "//Merged W Wenu,Wmunu,Wtaunu\n",
    "h_lep_pt_mergedW->SetMarkerStyle(8);\n",
    "h_lep_pt_mergedW->SetMarkerSize(0.5);\n",
    "h_lep_pt_mergedW->SetLineColor(kRed);"
   ]
  },
  {
   "cell_type": "markdown",
   "metadata": {},
   "source": [
    "Set atributes for Lepton ETA histograms"
   ]
  },
  {
   "cell_type": "markdown",
   "metadata": {},
   "source": [
    "Set Lepton ETA atributes for Z histograms "
   ]
  },
  {
   "cell_type": "code",
   "execution_count": null,
   "metadata": {
    "collapsed": true
   },
   "outputs": [],
   "source": [
    "//ETA HISTOGRAMS\n",
    "\n",
    "//Zee histrogram\n",
    "h_lep_eta_Zee->SetMarkerStyle(8);\n",
    "h_lep_eta_Zee->SetMarkerSize(0.5);\n",
    "h_lep_eta_Zee->SetLineColor(kRed);\n",
    "//Zmumu histrogram \n",
    "h_lep_eta_Zmumu->SetMarkerStyle(8);\n",
    "h_lep_eta_Zmumu->SetMarkerSize(0.5);\n",
    "h_lep_eta_Zmumu->SetLineColor(kYellow);\n",
    "//Ztautau histrogram\n",
    "h_lep_eta_Ztautau->SetMarkerStyle(8);\n",
    "h_lep_eta_Ztautau->SetMarkerSize(0.5);\n",
    "h_lep_eta_Ztautau->SetLineColor(kBlue);\n",
    "//Merged Zee,Zmumu,Ztautau\n",
    "h_lep_eta_mergedZ->SetMarkerStyle(8);\n",
    "h_lep_eta_mergedZ->SetMarkerSize(0.5);\n",
    "h_lep_eta_mergedZ->SetLineColor(kGreen);"
   ]
  },
  {
   "cell_type": "markdown",
   "metadata": {},
   "source": [
    "Set Lepton ETA atributes for Diboson histograms "
   ]
  },
  {
   "cell_type": "code",
   "execution_count": null,
   "metadata": {
    "collapsed": true
   },
   "outputs": [],
   "source": [
    "//Diboson WW histogram\n",
    "h_lep_eta_Dww->SetMarkerStyle(8);\n",
    "h_lep_eta_Dww->SetMarkerSize(0.5);\n",
    "h_lep_eta_Dww->SetLineColor(kRed);\n",
    "//Diboson ZZ histogram\n",
    "h_lep_eta_Dzz->SetMarkerStyle(8);\n",
    "h_lep_eta_Dzz->SetMarkerSize(0.5);\n",
    "h_lep_eta_Dzz->SetLineColor(kYellow);\n",
    "//Diboson WZ histogram\n",
    "h_lep_eta_Dwz->SetMarkerStyle(8);\n",
    "h_lep_eta_Dwz->SetMarkerSize(0.5);\n",
    "h_lep_eta_Dwz->SetLineColor(kBlue);\n",
    "//Merged Diboson WW,ZZ,WZ histogram\n",
    "h_lep_eta_mergedD->SetMarkerStyle(8);\n",
    "h_lep_eta_mergedD->SetMarkerSize(0.5);\n",
    "h_lep_eta_mergedD->SetLineColor(kGreen);"
   ]
  },
  {
   "cell_type": "markdown",
   "metadata": {},
   "source": [
    "Set Lepton ETA atributes for Drell Yan histograms "
   ]
  },
  {
   "cell_type": "code",
   "execution_count": null,
   "metadata": {
    "collapsed": true
   },
   "outputs": [],
   "source": [
    "//DYee1 histogram\n",
    "h_lep_eta_DYee1->SetMarkerStyle(8);\n",
    "h_lep_eta_DYee1->SetMarkerSize(0.5);\n",
    "h_lep_eta_DYee1->SetLineColor(kRed);\n",
    "//DYee2 histogram\n",
    "h_lep_eta_DYee2->SetMarkerStyle(8);\n",
    "h_lep_eta_DYee2->SetMarkerSize(0.5);\n",
    "h_lep_eta_DYee2->SetLineColor(kYellow);\n",
    "//DYmumu1 histrogram\n",
    "h_lep_eta_DYmumu1->SetMarkerStyle(8);\n",
    "h_lep_eta_DYmumu1->SetMarkerSize(0.5);\n",
    "h_lep_eta_DYmumu1->SetLineColor(kBlue);\n",
    "//DYmumu2 histrogram\n",
    "h_lep_eta_DYmumu2->SetMarkerStyle(8);\n",
    "h_lep_eta_DYmumu2->SetMarkerSize(0.5);\n",
    "h_lep_eta_DYmumu2->SetLineColor(kGreen);\n",
    "//DYtautau1 histrogram\n",
    "h_lep_eta_DYtautau1->SetMarkerStyle(8);\n",
    "h_lep_eta_DYtautau1->SetMarkerSize(0.5);\n",
    "h_lep_eta_DYtautau1->SetLineColor(kOrange);\n",
    "//DYtautau2 histrogram\n",
    "h_lep_eta_DYtautau2->SetMarkerStyle(8);\n",
    "h_lep_eta_DYtautau2->SetMarkerSize(0.5);\n",
    "h_lep_eta_DYtautau2->SetLineColor(kPink);\n",
    "\n",
    "//Merged DY EE,MUMU,TAUTAU histogram\n",
    "h_lep_eta_mergedDY->SetMarkerStyle(8);\n",
    "h_lep_eta_mergedDY->SetMarkerSize(0.5);\n",
    "h_lep_eta_mergedDY->SetLineColor(kGray);"
   ]
  },
  {
   "cell_type": "markdown",
   "metadata": {},
   "source": [
    "Set Lepton ETA atributes for Stop histograms "
   ]
  },
  {
   "cell_type": "code",
   "execution_count": null,
   "metadata": {
    "collapsed": true
   },
   "outputs": [],
   "source": [
    "//Stop tchan_top histrogram \n",
    "h_lep_eta_Stchan_top->SetMarkerStyle(8);\n",
    "h_lep_eta_Stchan_top->SetMarkerSize(0.5);\n",
    "h_lep_eta_Stchan_top->SetLineColor(kRed);\n",
    "//Stop tchan_antitop histrogram\n",
    "h_lep_eta_Stchan_antitop->SetMarkerStyle(8);\n",
    "h_lep_eta_Stchan_antitop->SetMarkerSize(0.5);\n",
    "h_lep_eta_Stchan_antitop->SetLineColor(kYellow);\n",
    "//Stop schan histogram\n",
    "h_lep_eta_Sschan->SetMarkerStyle(8);\n",
    "h_lep_eta_Sschan->SetMarkerSize(0.5);\n",
    "h_lep_eta_Sschan->SetLineColor(kBlue);\n",
    "//Stop wtchan histogram\n",
    "h_lep_eta_Swtchan->SetMarkerStyle(8);\n",
    "h_lep_eta_Swtchan->SetMarkerSize(0.5);\n",
    "h_lep_eta_Swtchan->SetLineColor(kGreen);\n",
    "\n",
    "//Merged stop\n",
    "h_lep_eta_mergedS->SetMarkerStyle(8);\n",
    "h_lep_eta_mergedS->SetMarkerSize(0.5);\n",
    "h_lep_eta_mergedS->SetLineColor(kGray);"
   ]
  },
  {
   "cell_type": "raw",
   "metadata": {},
   "source": [
    "Set Lepton ETA atributes for TTBar histograms "
   ]
  },
  {
   "cell_type": "code",
   "execution_count": null,
   "metadata": {
    "collapsed": true
   },
   "outputs": [],
   "source": [
    "//TTBar had histrogram \n",
    "h_lep_eta_TThad->SetMarkerStyle(8);\n",
    "h_lep_eta_TThad->SetMarkerSize(0.5);\n",
    "h_lep_eta_TThad->SetLineColor(kRed);\n",
    "//TTBar lep histrogram\n",
    "h_lep_eta_TTlep->SetMarkerStyle(8);\n",
    "h_lep_eta_TTlep->SetMarkerSize(0.5);\n",
    "h_lep_eta_TTlep->SetLineColor(kYellow);\n",
    "\n",
    "//Merged TTBar\n",
    "h_lep_eta_mergedTT->SetMarkerStyle(8);\n",
    "h_lep_eta_mergedTT->SetMarkerSize(0.5);\n",
    "h_lep_eta_mergedTT->SetLineColor(kRed);"
   ]
  },
  {
   "cell_type": "markdown",
   "metadata": {},
   "source": [
    "Set Lepton ETA atributes for W histograms "
   ]
  },
  {
   "cell_type": "code",
   "execution_count": null,
   "metadata": {
    "collapsed": true
   },
   "outputs": [],
   "source": [
    "//W WenuW histogram  \n",
    "h_lep_eta_WenuW->SetMarkerStyle(8);\n",
    "h_lep_eta_WenuW->SetMarkerSize(0.5);\n",
    "h_lep_eta_WenuW->SetLineColor(kRed);\n",
    "\n",
    "//W WenuJ histrogram \n",
    "h_lep_eta_WenuJ->SetMarkerStyle(8);\n",
    "h_lep_eta_WenuJ->SetMarkerSize(0.5);\n",
    "h_lep_eta_WenuJ->SetLineColor(kYellow);\n",
    "//W WenuN histrogram\n",
    "h_lep_eta_WenuN->SetMarkerStyle(8);\n",
    "h_lep_eta_WenuN->SetMarkerSize(0.5);\n",
    "h_lep_eta_WenuN->SetLineColor(kBlue);\n",
    "\n",
    "//WmunuW histrogram\n",
    "h_lep_eta_WmunuW->SetMarkerStyle(8);\n",
    "h_lep_eta_WmunuW->SetMarkerSize(0.5);\n",
    "h_lep_eta_WmunuW->SetLineColor(kGreen);\n",
    "//W WmunuJ histrogram\n",
    "h_lep_eta_WmunuJ->SetMarkerStyle(8);\n",
    "h_lep_eta_WmunuJ->SetMarkerSize(0.5);\n",
    "h_lep_eta_WmunuJ->SetLineColor(kOrange);\n",
    "//W WmunuN histrogram\n",
    "h_lep_eta_WmunuN->SetMarkerStyle(8);\n",
    "h_lep_eta_WmunuN->SetMarkerSize(0.5);\n",
    "h_lep_eta_WmunuN->SetLineColor(kPink);\n",
    "//W WtaunuW histogram  \n",
    "h_lep_eta_WtaunuW->SetMarkerStyle(8);\n",
    "h_lep_eta_WtaunuW->SetMarkerSize(0.5);\n",
    "h_lep_eta_WtaunuW->SetLineColor(kViolet);\n",
    "\n",
    "//W WtaunuJ histrogram \n",
    "h_lep_eta_WtaunuJ->SetMarkerStyle(8);\n",
    "h_lep_eta_WtaunuJ->SetMarkerSize(0.5);\n",
    "h_lep_eta_WtaunuJ->SetLineColor(kAzure);\n",
    "//W WtaunuN histrogram\n",
    "h_lep_eta_WtaunuN->SetMarkerStyle(8);\n",
    "h_lep_eta_WtaunuN->SetMarkerSize(0.5);\n",
    "h_lep_eta_WtaunuN->SetLineColor(kTeal);\n",
    "//Merged W Wenu,Wmunu,Wtaunu\n",
    "h_lep_eta_mergedW->SetMarkerStyle(8);\n",
    "h_lep_eta_mergedW->SetMarkerSize(0.5);\n",
    "h_lep_eta_mergedW->SetLineColor(kGreen);"
   ]
  },
  {
   "cell_type": "markdown",
   "metadata": {},
   "source": [
    "Set atributes for Lepton PHI histograms"
   ]
  },
  {
   "cell_type": "markdown",
   "metadata": {},
   "source": [
    "Set Lepton PHI atributes for Z histograms "
   ]
  },
  {
   "cell_type": "code",
   "execution_count": null,
   "metadata": {
    "collapsed": true
   },
   "outputs": [],
   "source": [
    "//PHI Histograms\n",
    "//Zee histrogram\n",
    "h_lep_phi_Zee->SetMarkerStyle(8);\n",
    "h_lep_phi_Zee->SetMarkerSize(0.5);\n",
    "h_lep_phi_Zee->SetLineColor(kRed);\n",
    "//Zmumu histrogram \n",
    "h_lep_phi_Zmumu->SetMarkerStyle(8);\n",
    "h_lep_phi_Zmumu->SetMarkerSize(0.5);\n",
    "h_lep_phi_Zmumu->SetLineColor(kYellow);\n",
    "//Ztautau histrogram\n",
    "h_lep_phi_Ztautau->SetMarkerStyle(8);\n",
    "h_lep_phi_Ztautau->SetMarkerSize(0.5);\n",
    "h_lep_phi_Ztautau->SetLineColor(kBlue);\n",
    "//Merged Zee,Zmumu,Ztautau\n",
    "h_lep_phi_mergedZ->SetMarkerStyle(8);\n",
    "h_lep_phi_mergedZ->SetMarkerSize(0.5);\n",
    "h_lep_phi_mergedZ->SetLineColor(kGreen);"
   ]
  },
  {
   "cell_type": "markdown",
   "metadata": {},
   "source": [
    "Set Lepton PHI atributes for Diboson histograms "
   ]
  },
  {
   "cell_type": "code",
   "execution_count": null,
   "metadata": {
    "collapsed": true
   },
   "outputs": [],
   "source": [
    "//Diboson WW histogram\n",
    "h_lep_phi_Dww->SetMarkerStyle(8);\n",
    "h_lep_phi_Dww->SetMarkerSize(0.5);\n",
    "h_lep_phi_Dww->SetLineColor(kRed);\n",
    "//Diboson ZZ histogram\n",
    "h_lep_phi_Dzz->SetMarkerStyle(8);\n",
    "h_lep_phi_Dzz->SetMarkerSize(0.5);\n",
    "h_lep_phi_Dzz->SetLineColor(kYellow);\n",
    "//Diboson WZ histogram\n",
    "h_lep_phi_Dwz->SetMarkerStyle(8);\n",
    "h_lep_phi_Dwz->SetMarkerSize(0.5);\n",
    "h_lep_phi_Dwz->SetLineColor(kBlue);\n",
    "//Merged Diboson WW,ZZ,WZ histogram\n",
    "h_lep_phi_mergedD->SetMarkerStyle(8);\n",
    "h_lep_phi_mergedD->SetMarkerSize(0.5);\n",
    "h_lep_phi_mergedD->SetLineColor(kGreen);"
   ]
  },
  {
   "cell_type": "markdown",
   "metadata": {},
   "source": [
    "Set Lepton PHI atributes for Drell Yan histograms "
   ]
  },
  {
   "cell_type": "code",
   "execution_count": null,
   "metadata": {
    "collapsed": true
   },
   "outputs": [],
   "source": [
    "//DYee1 histogram\n",
    "h_lep_phi_DYee1->SetMarkerStyle(8);\n",
    "h_lep_phi_DYee1->SetMarkerSize(0.5);\n",
    "h_lep_phi_DYee1->SetLineColor(kRed);\n",
    "//DYee2 histogram\n",
    "h_lep_phi_DYee2->SetMarkerStyle(8);\n",
    "h_lep_phi_DYee2->SetMarkerSize(0.5);\n",
    "h_lep_phi_DYee2->SetLineColor(kYellow);\n",
    "//DYmumu1 histrogram\n",
    "h_lep_phi_DYmumu1->SetMarkerStyle(8);\n",
    "h_lep_phi_DYmumu1->SetMarkerSize(0.5);\n",
    "h_lep_phi_DYmumu1->SetLineColor(kBlue);\n",
    "//DYmumu2 histrogram\n",
    "h_lep_phi_DYmumu2->SetMarkerStyle(8);\n",
    "h_lep_phi_DYmumu2->SetMarkerSize(0.5);\n",
    "h_lep_phi_DYmumu2->SetLineColor(kGreen);\n",
    "//DYtautau1 histrogram\n",
    "h_lep_phi_DYtautau1->SetMarkerStyle(8);\n",
    "h_lep_phi_DYtautau1->SetMarkerSize(0.5);\n",
    "h_lep_phi_DYtautau1->SetLineColor(kOrange);\n",
    "//DYtautau2 histrogram\n",
    "h_lep_phi_DYtautau2->SetMarkerStyle(8);\n",
    "h_lep_phi_DYtautau2->SetMarkerSize(0.5);\n",
    "h_lep_phi_DYtautau2->SetLineColor(kPink);\n",
    "\n",
    "//Merged DY EE,MUMU,TAUTAU histogram\n",
    "h_lep_phi_mergedDY->SetMarkerStyle(8);\n",
    "h_lep_phi_mergedDY->SetMarkerSize(0.5);\n",
    "h_lep_phi_mergedDY->SetLineColor(kGray);"
   ]
  },
  {
   "cell_type": "markdown",
   "metadata": {},
   "source": [
    "Set Lepton PHI atributes for Stop histograms "
   ]
  },
  {
   "cell_type": "code",
   "execution_count": null,
   "metadata": {
    "collapsed": true
   },
   "outputs": [],
   "source": [
    "//Stop tchan_top histrogram \n",
    "h_lep_phi_Stchan_top->SetMarkerStyle(8);\n",
    "h_lep_phi_Stchan_top->SetMarkerSize(0.5);\n",
    "h_lep_phi_Stchan_top->SetLineColor(kRed);\n",
    "//Stop tchan_antitop histrogram\n",
    "h_lep_phi_Stchan_antitop->SetMarkerStyle(8);\n",
    "h_lep_phi_Stchan_antitop->SetMarkerSize(0.5);\n",
    "h_lep_phi_Stchan_antitop->SetLineColor(kYellow);\n",
    "//Stop schan histogram\n",
    "h_lep_phi_Sschan->SetMarkerStyle(8);\n",
    "h_lep_phi_Sschan->SetMarkerSize(0.5);\n",
    "h_lep_phi_Sschan->SetLineColor(kBlue);\n",
    "//Stop wtchan histogram\n",
    "h_lep_phi_Swtchan->SetMarkerStyle(8);\n",
    "h_lep_phi_Swtchan->SetMarkerSize(0.5);\n",
    "h_lep_phi_Swtchan->SetLineColor(kGreen);\n",
    "\n",
    "//Merged stop\n",
    "h_lep_phi_mergedS->SetMarkerStyle(8);\n",
    "h_lep_phi_mergedS->SetMarkerSize(0.5);\n",
    "h_lep_phi_mergedS->SetLineColor(kGray);"
   ]
  },
  {
   "cell_type": "markdown",
   "metadata": {},
   "source": [
    "Set Lepton PHI atributes for TTBar histograms "
   ]
  },
  {
   "cell_type": "code",
   "execution_count": null,
   "metadata": {
    "collapsed": true
   },
   "outputs": [],
   "source": [
    "//TTBar had histrogram \n",
    "h_lep_phi_TThad->SetMarkerStyle(8);\n",
    "h_lep_phi_TThad->SetMarkerSize(0.5);\n",
    "h_lep_phi_TThad->SetLineColor(kRed);\n",
    "//TTBar lep histrogram\n",
    "h_lep_phi_TTlep->SetMarkerStyle(8);\n",
    "h_lep_phi_TTlep->SetMarkerSize(0.5);\n",
    "h_lep_phi_TTlep->SetLineColor(kYellow);\n",
    "\n",
    "//Merged TTBar\n",
    "h_lep_phi_mergedTT->SetMarkerStyle(8);\n",
    "h_lep_phi_mergedTT->SetMarkerSize(0.5);\n",
    "h_lep_phi_mergedTT->SetLineColor(kRed);"
   ]
  },
  {
   "cell_type": "markdown",
   "metadata": {},
   "source": [
    "Set Lepton PHI atributes for W histograms "
   ]
  },
  {
   "cell_type": "code",
   "execution_count": null,
   "metadata": {
    "collapsed": true
   },
   "outputs": [],
   "source": [
    "//W WenuW histogram  \n",
    "h_lep_phi_WenuW->SetMarkerStyle(8);\n",
    "h_lep_phi_WenuW->SetMarkerSize(0.5);\n",
    "h_lep_phi_WenuW->SetLineColor(kRed);\n",
    "\n",
    "//W WenuJ histrogram \n",
    "h_lep_phi_WenuJ->SetMarkerStyle(8);\n",
    "h_lep_phi_WenuJ->SetMarkerSize(0.5);\n",
    "h_lep_phi_WenuJ->SetLineColor(kYellow);\n",
    "//W WenuN histrogram\n",
    "h_lep_phi_WenuN->SetMarkerStyle(8);\n",
    "h_lep_phi_WenuN->SetMarkerSize(0.5);\n",
    "h_lep_phi_WenuN->SetLineColor(kBlue);\n",
    "\n",
    "//WmunuW histrogram\n",
    "h_lep_phi_WmunuW->SetMarkerStyle(8);\n",
    "h_lep_phi_WmunuW->SetMarkerSize(0.5);\n",
    "h_lep_phi_WmunuW->SetLineColor(kGreen);\n",
    "//W WmunuJ histrogram\n",
    "h_lep_phi_WmunuJ->SetMarkerStyle(8);\n",
    "h_lep_phi_WmunuJ->SetMarkerSize(0.5);\n",
    "h_lep_phi_WmunuJ->SetLineColor(kOrange);\n",
    "//W WmunuN histrogram\n",
    "h_lep_phi_WmunuN->SetMarkerStyle(8);\n",
    "h_lep_phi_WmunuN->SetMarkerSize(0.5);\n",
    "h_lep_phi_WmunuN->SetLineColor(kPink);\n",
    "//W WtaunuW histogram  \n",
    "h_lep_phi_WtaunuW->SetMarkerStyle(8);\n",
    "h_lep_phi_WtaunuW->SetMarkerSize(0.5);\n",
    "h_lep_phi_WtaunuW->SetLineColor(kViolet);\n",
    "\n",
    "//W WtaunuJ histrogram \n",
    "h_lep_phi_WtaunuJ->SetMarkerStyle(8);\n",
    "h_lep_phi_WtaunuJ->SetMarkerSize(0.5);\n",
    "h_lep_phi_WtaunuJ->SetLineColor(kAzure);\n",
    "//W WtaunuN histrogram\n",
    "h_lep_phi_WtaunuN->SetMarkerStyle(8);\n",
    "h_lep_phi_WtaunuN->SetMarkerSize(0.5);\n",
    "h_lep_phi_WtaunuN->SetLineColor(kTeal);\n",
    "//Merged W Wenu,Wmunu,Wtaunu\n",
    "h_lep_phi_mergedW->SetMarkerStyle(8);\n",
    "h_lep_phi_mergedW->SetMarkerSize(0.5);\n",
    "h_lep_phi_mergedW->SetLineColor(kGreen);"
   ]
  },
  {
   "cell_type": "markdown",
   "metadata": {},
   "source": [
    "Set atributes for Lepton ENERGY histograms"
   ]
  },
  {
   "cell_type": "markdown",
   "metadata": {},
   "source": [
    "Set Lepton ENERGY atributes for Z histograms "
   ]
  },
  {
   "cell_type": "code",
   "execution_count": null,
   "metadata": {
    "collapsed": true
   },
   "outputs": [],
   "source": [
    "//E Histograms\n",
    "//Zee histrogram\n",
    "h_lep_E_Zee->SetMarkerStyle(8);\n",
    "h_lep_E_Zee->SetMarkerSize(0.5);\n",
    "h_lep_E_Zee->SetLineColor(kRed);\n",
    "//Zmumu histrogram \n",
    "h_lep_E_Zmumu->SetMarkerStyle(8);\n",
    "h_lep_E_Zmumu->SetMarkerSize(0.5);\n",
    "h_lep_E_Zmumu->SetLineColor(kYellow);\n",
    "//Ztautau histrogram\n",
    "h_lep_E_Ztautau->SetMarkerStyle(8);\n",
    "h_lep_E_Ztautau->SetMarkerSize(0.5);\n",
    "h_lep_E_Ztautau->SetLineColor(kBlue);\n",
    "//Merged Zee,Zmumu,Ztautau\n",
    "h_lep_E_mergedZ->SetMarkerStyle(8);\n",
    "h_lep_E_mergedZ->SetMarkerSize(0.5);\n",
    "h_lep_E_mergedZ->SetLineColor(kGreen);"
   ]
  },
  {
   "cell_type": "markdown",
   "metadata": {},
   "source": [
    "Set Lepton ENERGY atributes for Diboson histograms "
   ]
  },
  {
   "cell_type": "code",
   "execution_count": null,
   "metadata": {
    "collapsed": true
   },
   "outputs": [],
   "source": [
    "//Diboson WW histogram\n",
    "h_lep_E_Dww->SetMarkerStyle(8);\n",
    "h_lep_E_Dww->SetMarkerSize(0.5);\n",
    "h_lep_E_Dww->SetLineColor(kRed);\n",
    "//Diboson ZZ histogram\n",
    "h_lep_E_Dzz->SetMarkerStyle(8);\n",
    "h_lep_E_Dzz->SetMarkerSize(0.5);\n",
    "h_lep_E_Dzz->SetLineColor(kYellow);\n",
    "//Diboson WZ histogram\n",
    "h_lep_E_Dwz->SetMarkerStyle(8);\n",
    "h_lep_E_Dwz->SetMarkerSize(0.5);\n",
    "h_lep_E_Dwz->SetLineColor(kBlue);\n",
    "//Merged Diboson WW,ZZ,WZ histogram\n",
    "h_lep_E_mergedD->SetMarkerStyle(8);\n",
    "h_lep_E_mergedD->SetMarkerSize(0.5);\n",
    "h_lep_E_mergedD->SetLineColor(kGreen);"
   ]
  },
  {
   "cell_type": "markdown",
   "metadata": {},
   "source": [
    "Set Lepton ENERGY atributes for Drell Yan histograms "
   ]
  },
  {
   "cell_type": "code",
   "execution_count": null,
   "metadata": {
    "collapsed": true
   },
   "outputs": [],
   "source": [
    "//DYee1 histogram\n",
    "h_lep_E_DYee1->SetMarkerStyle(8);\n",
    "h_lep_E_DYee1->SetMarkerSize(0.5);\n",
    "h_lep_E_DYee1->SetLineColor(kRed);\n",
    "//DYee2 histogram\n",
    "h_lep_E_DYee2->SetMarkerStyle(8);\n",
    "h_lep_E_DYee2->SetMarkerSize(0.5);\n",
    "h_lep_E_DYee2->SetLineColor(kYellow);\n",
    "//DYmumu1 histrogram\n",
    "h_lep_E_DYmumu1->SetMarkerStyle(8);\n",
    "h_lep_E_DYmumu1->SetMarkerSize(0.5);\n",
    "h_lep_E_DYmumu1->SetLineColor(kBlue);\n",
    "//DYmumu2 histrogram\n",
    "h_lep_E_DYmumu2->SetMarkerStyle(8);\n",
    "h_lep_E_DYmumu2->SetMarkerSize(0.5);\n",
    "h_lep_E_DYmumu2->SetLineColor(kGreen);\n",
    "//DYtautau1 histrogram\n",
    "h_lep_E_DYtautau1->SetMarkerStyle(8);\n",
    "h_lep_E_DYtautau1->SetMarkerSize(0.5);\n",
    "h_lep_E_DYtautau1->SetLineColor(kOrange);\n",
    "//DYtautau2 histrogram\n",
    "h_lep_E_DYtautau2->SetMarkerStyle(8);\n",
    "h_lep_E_DYtautau2->SetMarkerSize(0.5);\n",
    "h_lep_E_DYtautau2->SetLineColor(kPink);\n",
    "\n",
    "//Merged DY EE,MUMU,TAUTAU histogram\n",
    "h_lep_E_mergedDY->SetMarkerStyle(8);\n",
    "h_lep_E_mergedDY->SetMarkerSize(0.5);\n",
    "h_lep_E_mergedDY->SetLineColor(kGray);"
   ]
  },
  {
   "cell_type": "markdown",
   "metadata": {},
   "source": [
    "Set Lepton ENERGY atributes for Stop histograms "
   ]
  },
  {
   "cell_type": "code",
   "execution_count": null,
   "metadata": {
    "collapsed": true
   },
   "outputs": [],
   "source": [
    "//Stop tchan_top histrogram \n",
    "h_lep_E_Stchan_top->SetMarkerStyle(8);\n",
    "h_lep_E_Stchan_top->SetMarkerSize(0.5);\n",
    "h_lep_E_Stchan_top->SetLineColor(kRed);\n",
    "//Stop tchan_antitop histrogram\n",
    "h_lep_E_Stchan_antitop->SetMarkerStyle(8);\n",
    "h_lep_E_Stchan_antitop->SetMarkerSize(0.5);\n",
    "h_lep_E_Stchan_antitop->SetLineColor(kYellow);\n",
    "//Stop schan histogram\n",
    "h_lep_E_Sschan->SetMarkerStyle(8);\n",
    "h_lep_E_Sschan->SetMarkerSize(0.5);\n",
    "h_lep_E_Sschan->SetLineColor(kBlue);\n",
    "//Stop wtchan histogram\n",
    "h_lep_E_Swtchan->SetMarkerStyle(8);\n",
    "h_lep_E_Swtchan->SetMarkerSize(0.5);\n",
    "h_lep_E_Swtchan->SetLineColor(kGreen);\n",
    "\n",
    "//Merged stop\n",
    "h_lep_E_mergedS->SetMarkerStyle(8);\n",
    "h_lep_E_mergedS->SetMarkerSize(0.5);\n",
    "h_lep_E_mergedS->SetLineColor(kGray);"
   ]
  },
  {
   "cell_type": "markdown",
   "metadata": {},
   "source": [
    "Set Lepton ENERGY atributes for TTBar histograms "
   ]
  },
  {
   "cell_type": "code",
   "execution_count": null,
   "metadata": {
    "collapsed": true
   },
   "outputs": [],
   "source": [
    "//TTBar had histrogram \n",
    "h_lep_E_TThad->SetMarkerStyle(8);\n",
    "h_lep_E_TThad->SetMarkerSize(0.5);\n",
    "h_lep_E_TThad->SetLineColor(kRed);\n",
    "//TTBar lep histrogram\n",
    "h_lep_E_TTlep->SetMarkerStyle(8);\n",
    "h_lep_E_TTlep->SetMarkerSize(0.5);\n",
    "h_lep_E_TTlep->SetLineColor(kYellow);\n",
    "\n",
    "//Merged TTBar\n",
    "h_lep_E_mergedTT->SetMarkerStyle(8);\n",
    "h_lep_E_mergedTT->SetMarkerSize(0.5);\n",
    "h_lep_E_mergedTT->SetLineColor(kRed);"
   ]
  },
  {
   "cell_type": "markdown",
   "metadata": {},
   "source": [
    "Set Lepton ENERGY atributes for W histograms "
   ]
  },
  {
   "cell_type": "code",
   "execution_count": null,
   "metadata": {
    "collapsed": true
   },
   "outputs": [],
   "source": [
    "//W WenuW histogram  \n",
    "h_lep_E_WenuW->SetMarkerStyle(8);\n",
    "h_lep_E_WenuW->SetMarkerSize(0.5);\n",
    "h_lep_E_WenuW->SetLineColor(kRed);\n",
    "//W WenuJ histrogram \n",
    "h_lep_E_WenuJ->SetMarkerStyle(8);\n",
    "h_lep_E_WenuJ->SetMarkerSize(0.5);\n",
    "h_lep_E_WenuJ->SetLineColor(kYellow);\n",
    "//W WenuN histrogram\n",
    "h_lep_E_WenuN->SetMarkerStyle(8);\n",
    "h_lep_E_WenuN->SetMarkerSize(0.5);\n",
    "h_lep_E_WenuN->SetLineColor(kBlue);\n",
    "\n",
    "//WmunuW histrogram\n",
    "h_lep_E_WmunuW->SetMarkerStyle(8);\n",
    "h_lep_E_WmunuW->SetMarkerSize(0.5);\n",
    "h_lep_E_WmunuW->SetLineColor(kGreen);\n",
    "//W WmunuJ histrogram\n",
    "h_lep_E_WmunuJ->SetMarkerStyle(8);\n",
    "h_lep_E_WmunuJ->SetMarkerSize(0.5);\n",
    "h_lep_E_WmunuJ->SetLineColor(kOrange);\n",
    "//W WmunuN histrogram\n",
    "h_lep_E_WmunuN->SetMarkerStyle(8);\n",
    "h_lep_E_WmunuN->SetMarkerSize(0.5);\n",
    "h_lep_E_WmunuN->SetLineColor(kPink);\n",
    "//W WtaunuW histogram  \n",
    "h_lep_E_WtaunuW->SetMarkerStyle(8);\n",
    "h_lep_E_WtaunuW->SetMarkerSize(0.5);\n",
    "h_lep_E_WtaunuW->SetLineColor(kViolet);\n",
    "\n",
    "//W WtaunuJ histrogram \n",
    "h_lep_E_WtaunuJ->SetMarkerStyle(8);\n",
    "h_lep_E_WtaunuJ->SetMarkerSize(0.5);\n",
    "h_lep_E_WtaunuJ->SetLineColor(kAzure);\n",
    "//W WtaunuN histrogram\n",
    "h_lep_E_WtaunuN->SetMarkerStyle(8);\n",
    "h_lep_E_WtaunuN->SetMarkerSize(0.5);\n",
    "h_lep_E_WtaunuN->SetLineColor(kTeal);\n",
    "//Merged W Wenu,Wmunu,Wtaunu\n",
    "h_lep_E_mergedW->SetMarkerStyle(8);\n",
    "h_lep_E_mergedW->SetMarkerSize(0.5);\n",
    "h_lep_E_mergedW->SetLineColor(kGreen);"
   ]
  },
  {
   "cell_type": "markdown",
   "metadata": {},
   "source": [
    "Set atributes for Lepton CHARGE histograms"
   ]
  },
  {
   "cell_type": "markdown",
   "metadata": {},
   "source": [
    "Set Lepton CHARGE atributes for Z histograms"
   ]
  },
  {
   "cell_type": "code",
   "execution_count": null,
   "metadata": {
    "collapsed": true
   },
   "outputs": [],
   "source": [
    "//CHARGE Histograms\n",
    "//Zee histrogram\n",
    "h_lep_charge_Zee->SetMarkerStyle(8);\n",
    "h_lep_charge_Zee->SetMarkerSize(0.5);\n",
    "h_lep_charge_Zee->SetLineColor(kRed);\n",
    "//Zmumu histrogram \n",
    "h_lep_charge_Zmumu->SetMarkerStyle(8);\n",
    "h_lep_charge_Zmumu->SetMarkerSize(0.5);\n",
    "h_lep_charge_Zmumu->SetLineColor(kYellow);\n",
    "//Ztautau histrogram\n",
    "h_lep_charge_Ztautau->SetMarkerStyle(8);\n",
    "h_lep_charge_Ztautau->SetMarkerSize(0.5);\n",
    "h_lep_charge_Ztautau->SetLineColor(kBlue);\n",
    "//Merged Zee,Zmumu,Ztautau\n",
    "h_lep_charge_mergedZ->SetMarkerStyle(8);\n",
    "h_lep_charge_mergedZ->SetMarkerSize(0.5);\n",
    "h_lep_charge_mergedZ->SetLineColor(kGreen);"
   ]
  },
  {
   "cell_type": "markdown",
   "metadata": {},
   "source": [
    "Set Lepton CHARGE atributes for Diboson histograms"
   ]
  },
  {
   "cell_type": "code",
   "execution_count": null,
   "metadata": {
    "collapsed": true
   },
   "outputs": [],
   "source": [
    "//Diboson WW histogram\n",
    "h_lep_charge_Dww->SetMarkerStyle(8);\n",
    "h_lep_charge_Dww->SetMarkerSize(0.5);\n",
    "h_lep_charge_Dww->SetLineColor(kRed);\n",
    "//Diboson ZZ histogram\n",
    "h_lep_charge_Dzz->SetMarkerStyle(8);\n",
    "h_lep_charge_Dzz->SetMarkerSize(0.5);\n",
    "h_lep_charge_Dzz->SetLineColor(kYellow);\n",
    "//Diboson WZ histogram\n",
    "h_lep_charge_Dwz->SetMarkerStyle(8);\n",
    "h_lep_charge_Dwz->SetMarkerSize(0.5);\n",
    "h_lep_charge_Dwz->SetLineColor(kBlue);\n",
    "//Merged Diboson WW,ZZ,WZ histogram\n",
    "h_lep_charge_mergedD->SetMarkerStyle(8);\n",
    "h_lep_charge_mergedD->SetMarkerSize(0.5);\n",
    "h_lep_charge_mergedD->SetLineColor(kGreen);"
   ]
  },
  {
   "cell_type": "markdown",
   "metadata": {},
   "source": [
    "Set Lepton CHARGE atributes for Drell Yan histograms"
   ]
  },
  {
   "cell_type": "code",
   "execution_count": null,
   "metadata": {
    "collapsed": true
   },
   "outputs": [],
   "source": [
    "//DYee1 histogram\n",
    "h_lep_charge_DYee1->SetMarkerStyle(8);\n",
    "h_lep_charge_DYee1->SetMarkerSize(0.5);\n",
    "h_lep_charge_DYee1->SetLineColor(kRed);\n",
    "//DYee2 histogram\n",
    "h_lep_charge_DYee2->SetMarkerStyle(8);\n",
    "h_lep_charge_DYee2->SetMarkerSize(0.5);\n",
    "h_lep_charge_DYee2->SetLineColor(kYellow);\n",
    "//DYmumu1 histrogram\n",
    "h_lep_charge_DYmumu1->SetMarkerStyle(8);\n",
    "h_lep_charge_DYmumu1->SetMarkerSize(0.5);\n",
    "h_lep_charge_DYmumu1->SetLineColor(kBlue);\n",
    "//DYmumu2 histrogram\n",
    "h_lep_charge_DYmumu2->SetMarkerStyle(8);\n",
    "h_lep_charge_DYmumu2->SetMarkerSize(0.5);\n",
    "h_lep_charge_DYmumu2->SetLineColor(kGreen);\n",
    "//DYtautau1 histrogram\n",
    "h_lep_charge_DYtautau1->SetMarkerStyle(8);\n",
    "h_lep_charge_DYtautau1->SetMarkerSize(0.5);\n",
    "h_lep_charge_DYtautau1->SetLineColor(kOrange);\n",
    "//DYtautau2 histrogram\n",
    "h_lep_charge_DYtautau2->SetMarkerStyle(8);\n",
    "h_lep_charge_DYtautau2->SetMarkerSize(0.5);\n",
    "h_lep_charge_DYtautau2->SetLineColor(kPink);\n",
    "\n",
    "//Merged DY EE,MUMU,TAUTAU histogram\n",
    "h_lep_charge_mergedDY->SetMarkerStyle(8);\n",
    "h_lep_charge_mergedDY->SetMarkerSize(0.5);\n",
    "h_lep_charge_mergedDY->SetLineColor(kGray);"
   ]
  },
  {
   "cell_type": "markdown",
   "metadata": {},
   "source": [
    "Set Lepton CHARGE atributes for Stop histograms"
   ]
  },
  {
   "cell_type": "code",
   "execution_count": null,
   "metadata": {
    "collapsed": true
   },
   "outputs": [],
   "source": [
    "//Stop tchan_top histrogram \n",
    "h_lep_charge_Stchan_top->SetMarkerStyle(8);\n",
    "h_lep_charge_Stchan_top->SetMarkerSize(0.5);\n",
    "h_lep_charge_Stchan_top->SetLineColor(kRed);\n",
    "//Stop tchan_antitop histrogram\n",
    "h_lep_charge_Stchan_antitop->SetMarkerStyle(8);\n",
    "h_lep_charge_Stchan_antitop->SetMarkerSize(0.5);\n",
    "h_lep_charge_Stchan_antitop->SetLineColor(kYellow);\n",
    "//Stop schan histogram\n",
    "h_lep_charge_Sschan->SetMarkerStyle(8);\n",
    "h_lep_charge_Sschan->SetMarkerSize(0.5);\n",
    "h_lep_charge_Sschan->SetLineColor(kBlue);\n",
    "//Stop wtchan histogram\n",
    "h_lep_charge_Swtchan->SetMarkerStyle(8);\n",
    "h_lep_charge_Swtchan->SetMarkerSize(0.5);\n",
    "h_lep_charge_Swtchan->SetLineColor(kGreen);\n",
    "\n",
    "//Merged stop\n",
    "h_lep_charge_mergedS->SetMarkerStyle(8);\n",
    "h_lep_charge_mergedS->SetMarkerSize(0.5);\n",
    "h_lep_charge_mergedS->SetLineColor(kGray);"
   ]
  },
  {
   "cell_type": "markdown",
   "metadata": {},
   "source": [
    "Set Lepton CHARGE atributes for TTBar histograms"
   ]
  },
  {
   "cell_type": "code",
   "execution_count": null,
   "metadata": {
    "collapsed": true
   },
   "outputs": [],
   "source": [
    "//TTBar had histrogram \n",
    "h_lep_charge_TThad->SetMarkerStyle(8);\n",
    "h_lep_charge_TThad->SetMarkerSize(0.5);\n",
    "h_lep_charge_TThad->SetLineColor(kRed);\n",
    "//TTBar lep histrogram\n",
    "h_lep_charge_TTlep->SetMarkerStyle(8);\n",
    "h_lep_charge_TTlep->SetMarkerSize(0.5);\n",
    "h_lep_charge_TTlep->SetLineColor(kYellow);\n",
    "\n",
    "//Merged TTBar\n",
    "h_lep_charge_mergedTT->SetMarkerStyle(8);\n",
    "h_lep_charge_mergedTT->SetMarkerSize(0.5);\n",
    "h_lep_charge_mergedTT->SetLineColor(kRed);"
   ]
  },
  {
   "cell_type": "markdown",
   "metadata": {},
   "source": [
    "Set Lepton CHARGE atributes for W histograms"
   ]
  },
  {
   "cell_type": "code",
   "execution_count": null,
   "metadata": {
    "collapsed": true
   },
   "outputs": [],
   "source": [
    "//W WenuW histogram  \n",
    "h_lep_charge_WenuW->SetMarkerStyle(8);\n",
    "h_lep_charge_WenuW->SetMarkerSize(0.5);\n",
    "h_lep_charge_WenuW->SetLineColor(kRed);\n",
    "\n",
    "//W WenuJ histrogram \n",
    "h_lep_charge_WenuJ->SetMarkerStyle(8);\n",
    "h_lep_charge_WenuJ->SetMarkerSize(0.5);\n",
    "h_lep_charge_WenuJ->SetLineColor(kYellow);\n",
    "//W WenuN histrogram\n",
    "h_lep_charge_WenuN->SetMarkerStyle(8);\n",
    "h_lep_charge_WenuN->SetMarkerSize(0.5);\n",
    "h_lep_charge_WenuN->SetLineColor(kBlue);\n",
    "\n",
    "//WmunuW histrogram\n",
    "h_lep_charge_WmunuW->SetMarkerStyle(8);\n",
    "h_lep_charge_WmunuW->SetMarkerSize(0.5);\n",
    "h_lep_charge_WmunuW->SetLineColor(kGreen);\n",
    "//W WmunuJ histrogram\n",
    "h_lep_charge_WmunuJ->SetMarkerStyle(8);\n",
    "h_lep_charge_WmunuJ->SetMarkerSize(0.5);\n",
    "h_lep_charge_WmunuJ->SetLineColor(kOrange);\n",
    "//W WmunuN histrogram\n",
    "h_lep_charge_WmunuN->SetMarkerStyle(8);\n",
    "h_lep_charge_WmunuN->SetMarkerSize(0.5);\n",
    "h_lep_charge_WmunuN->SetLineColor(kPink);\n",
    "//W WtaunuW histogram  \n",
    "h_lep_charge_WtaunuW->SetMarkerStyle(8);\n",
    "h_lep_charge_WtaunuW->SetMarkerSize(0.5);\n",
    "h_lep_charge_WtaunuW->SetLineColor(kViolet);\n",
    "\n",
    "//W WtaunuJ histrogram \n",
    "h_lep_charge_WtaunuJ->SetMarkerStyle(8);\n",
    "h_lep_charge_WtaunuJ->SetMarkerSize(0.5);\n",
    "h_lep_charge_WtaunuJ->SetLineColor(kAzure);\n",
    "//W WtaunuN histrogram\n",
    "h_lep_charge_WtaunuN->SetMarkerStyle(8);\n",
    "h_lep_charge_WtaunuN->SetMarkerSize(0.5);\n",
    "h_lep_charge_WtaunuN->SetLineColor(kTeal);\n",
    "//Merged W Wenu,Wmunu,Wtaunu\n",
    "h_lep_charge_mergedW->SetMarkerStyle(8);\n",
    "h_lep_charge_mergedW->SetMarkerSize(0.5);\n",
    "h_lep_charge_mergedW->SetLineColor(kGreen);"
   ]
  },
  {
   "cell_type": "markdown",
   "metadata": {},
   "source": [
    "Set atributes for Lepton ETCONE20 histograms"
   ]
  },
  {
   "cell_type": "markdown",
   "metadata": {},
   "source": [
    "Set Lepton ETC20 atributes for Z histograms"
   ]
  },
  {
   "cell_type": "code",
   "execution_count": null,
   "metadata": {
    "collapsed": true
   },
   "outputs": [],
   "source": [
    "//ETC Histograms\n",
    "//Zee histrogram\n",
    "h_lep_etc20_Dww->SetMarkerStyle(8);\n",
    "h_lep_etc20_Zee->SetMarkerSize(0.5);\n",
    "h_lep_etc20_Zee->SetLineColor(kRed);\n",
    "//Zmumu histrogram \n",
    "h_lep_etc20_Dww->SetMarkerStyle(8);\n",
    "h_lep_etc20_Zmumu->SetMarkerSize(0.5);\n",
    "h_lep_etc20_Zmumu->SetLineColor(kYellow);\n",
    "//Ztautau histrogram\n",
    "h_lep_etc20_Dww->SetMarkerStyle(8);\n",
    "h_lep_etc20_Ztautau->SetMarkerSize(0.5);\n",
    "h_lep_etc20_Ztautau->SetLineColor(kBlue);\n",
    "//Merged Zee,Zmumu,Ztautau\n",
    "h_lep_etc20_mergedZ->SetMarkerStyle(8);\n",
    "h_lep_etc20_mergedZ->SetMarkerSize(0.5);\n",
    "h_lep_etc20_mergedZ->SetLineColor(kGreen);"
   ]
  },
  {
   "cell_type": "markdown",
   "metadata": {},
   "source": [
    "Set Lepton ETC20 atributes for Diboson histograms"
   ]
  },
  {
   "cell_type": "code",
   "execution_count": null,
   "metadata": {
    "collapsed": true
   },
   "outputs": [],
   "source": [
    "//Diboson WW histogram\n",
    "h_lep_etc20_Dww->SetMarkerStyle(8);\n",
    "h_lep_etc20_Dww->SetMarkerSize(0.5);\n",
    "h_lep_etc20_Dww->SetLineColor(kRed);\n",
    "//Diboson ZZ histogram\n",
    "h_lep_etc20_Dzz->SetMarkerStyle(8);\n",
    "h_lep_etc20_Dzz->SetMarkerSize(0.5);\n",
    "h_lep_etc20_Dzz->SetLineColor(kYellow);\n",
    "//Diboson WZ histogram\n",
    "h_lep_etc20_Dwz->SetMarkerStyle(8);\n",
    "h_lep_etc20_Dwz->SetMarkerSize(0.5);\n",
    "h_lep_etc20_Dwz->SetLineColor(kBlue);\n",
    "//Merged Diboson WW,ZZ,WZ histogram\n",
    "h_lep_etc20_mergedD->SetMarkerStyle(8);\n",
    "h_lep_etc20_mergedD->SetMarkerSize(0.5);\n",
    "h_lep_etc20_mergedD->SetLineColor(kGreen);"
   ]
  },
  {
   "cell_type": "markdown",
   "metadata": {},
   "source": [
    "Set Lepton ETC20 atributes for Drell Yan histograms"
   ]
  },
  {
   "cell_type": "code",
   "execution_count": null,
   "metadata": {
    "collapsed": true
   },
   "outputs": [],
   "source": [
    "//DYee1 histogram\n",
    "h_lep_etc20_DYee1->SetMarkerStyle(8);\n",
    "h_lep_etc20_DYee1->SetMarkerSize(0.5);\n",
    "h_lep_etc20_DYee1->SetLineColor(kRed);\n",
    "//DYee2 histogram\n",
    "h_lep_etc20_DYee2->SetMarkerStyle(8);\n",
    "h_lep_etc20_DYee2->SetMarkerSize(0.5);\n",
    "h_lep_etc20_DYee2->SetLineColor(kYellow);\n",
    "//DYmumu1 histrogram\n",
    "h_lep_etc20_DYmumu1->SetMarkerStyle(8);\n",
    "h_lep_etc20_DYmumu1->SetMarkerSize(0.5);\n",
    "h_lep_etc20_DYmumu1->SetLineColor(kBlue);\n",
    "//DYmumu2 histrogram\n",
    "h_lep_etc20_DYmumu2->SetMarkerStyle(8);\n",
    "h_lep_etc20_DYmumu2->SetMarkerSize(0.5);\n",
    "h_lep_etc20_DYmumu2->SetLineColor(kGreen);\n",
    "//DYtautau1 histrogram\n",
    "h_lep_etc20_DYtautau1->SetMarkerStyle(8);\n",
    "h_lep_etc20_DYtautau1->SetMarkerSize(0.5);\n",
    "h_lep_etc20_DYtautau1->SetLineColor(kOrange);\n",
    "//DYtautau2 histrogram\n",
    "h_lep_etc20_DYtautau2->SetMarkerStyle(8);\n",
    "h_lep_etc20_DYtautau2->SetMarkerSize(0.5);\n",
    "h_lep_etc20_DYtautau2->SetLineColor(kPink);\n",
    "\n",
    "//Merged DY EE,MUMU,TAUTAU histogram\n",
    "h_lep_etc20_mergedDY->SetMarkerStyle(8);\n",
    "h_lep_etc20_mergedDY->SetMarkerSize(0.5);\n",
    "h_lep_etc20_mergedDY->SetLineColor(kGray);"
   ]
  },
  {
   "cell_type": "markdown",
   "metadata": {},
   "source": [
    "Set Lepton ETC20 atributes for Stop histograms"
   ]
  },
  {
   "cell_type": "code",
   "execution_count": null,
   "metadata": {
    "collapsed": true
   },
   "outputs": [],
   "source": [
    "//Stop tchan_top histrogram \n",
    "h_lep_etc20_Stchan_top->SetMarkerStyle(8);\n",
    "h_lep_etc20_Stchan_top->SetMarkerSize(0.5);\n",
    "h_lep_etc20_Stchan_top->SetLineColor(kRed);\n",
    "//Stop tchan_antitop histrogram\n",
    "h_lep_etc20_Stchan_antitop->SetMarkerStyle(8);\n",
    "h_lep_etc20_Stchan_antitop->SetMarkerSize(0.5);\n",
    "h_lep_etc20_Stchan_antitop->SetLineColor(kYellow);\n",
    "//Stop schan histogram\n",
    "h_lep_etc20_Sschan->SetMarkerStyle(8);\n",
    "h_lep_etc20_Sschan->SetMarkerSize(0.5);\n",
    "h_lep_etc20_Sschan->SetLineColor(kBlue);\n",
    "//Stop wtchan histogram\n",
    "h_lep_etc20_Swtchan->SetMarkerStyle(8);\n",
    "h_lep_etc20_Swtchan->SetMarkerSize(0.5);\n",
    "h_lep_etc20_Swtchan->SetLineColor(kGreen);"
   ]
  },
  {
   "cell_type": "markdown",
   "metadata": {},
   "source": [
    "Set Lepton ETC20 atributes for TTBar histograms"
   ]
  },
  {
   "cell_type": "code",
   "execution_count": null,
   "metadata": {
    "collapsed": true
   },
   "outputs": [],
   "source": [
    "//Merged stop\n",
    "h_lep_etc20_mergedS->SetMarkerStyle(8);\n",
    "h_lep_etc20_mergedS->SetMarkerSize(0.5);\n",
    "h_lep_etc20_mergedS->SetLineColor(kGray);\n",
    "\n",
    "//TTBar had histrogram \n",
    "h_lep_etc20_TThad->SetMarkerStyle(8);\n",
    "h_lep_etc20_TThad->SetMarkerSize(0.5);\n",
    "h_lep_etc20_TThad->SetLineColor(kRed);\n",
    "//TTBar lep histrogram\n",
    "h_lep_etc20_TTlep->SetMarkerStyle(8);\n",
    "h_lep_etc20_TTlep->SetMarkerSize(0.5);\n",
    "h_lep_etc20_TTlep->SetLineColor(kYellow);\n",
    "\n",
    "//Merged TTBar\n",
    "h_lep_etc20_mergedTT->SetMarkerStyle(8);\n",
    "h_lep_etc20_mergedTT->SetMarkerSize(0.5);\n",
    "h_lep_etc20_mergedTT->SetLineColor(kRed);"
   ]
  },
  {
   "cell_type": "markdown",
   "metadata": {},
   "source": [
    "Set Lepton ETC20 atributes for W histograms"
   ]
  },
  {
   "cell_type": "code",
   "execution_count": null,
   "metadata": {
    "collapsed": true
   },
   "outputs": [],
   "source": [
    "//W WenuW histogram  \n",
    "h_lep_etc20_WenuW->SetMarkerStyle(8);\n",
    "h_lep_etc20_WenuW->SetMarkerSize(0.5);\n",
    "h_lep_etc20_WenuW->SetLineColor(kRed);\n",
    "\n",
    "//W WenuJ histrogram \n",
    "h_lep_etc20_WenuJ->SetMarkerStyle(8);\n",
    "h_lep_etc20_WenuJ->SetMarkerSize(0.5);\n",
    "h_lep_etc20_WenuJ->SetLineColor(kYellow);\n",
    "//W WenuN histrogram\n",
    "h_lep_etc20_WenuN->SetMarkerStyle(8);\n",
    "h_lep_etc20_WenuN->SetMarkerSize(0.5);\n",
    "h_lep_etc20_WenuN->SetLineColor(kBlue);\n",
    "\n",
    "//WmunuW histrogram\n",
    "h_lep_etc20_WmunuW->SetMarkerStyle(8);\n",
    "h_lep_etc20_WmunuW->SetMarkerSize(0.5);\n",
    "h_lep_etc20_WmunuW->SetLineColor(kGreen);\n",
    "//W WmunuJ histrogram\n",
    "h_lep_etc20_WmunuJ->SetMarkerStyle(8);\n",
    "h_lep_etc20_WmunuJ->SetMarkerSize(0.5);\n",
    "h_lep_etc20_WmunuJ->SetLineColor(kOrange);\n",
    "//W WmunuN histrogram\n",
    "h_lep_etc20_WmunuN->SetMarkerStyle(8);\n",
    "h_lep_etc20_WmunuN->SetMarkerSize(0.5);\n",
    "h_lep_etc20_WmunuN->SetLineColor(kPink);\n",
    "//W WtaunuW histogram  \n",
    "h_lep_etc20_WtaunuW->SetMarkerStyle(8);\n",
    "h_lep_etc20_WtaunuW->SetMarkerSize(0.5);\n",
    "h_lep_etc20_WtaunuW->SetLineColor(kViolet);\n",
    "\n",
    "//W WtaunuJ histrogram \n",
    "h_lep_etc20_WtaunuJ->SetMarkerStyle(8);\n",
    "h_lep_etc20_WtaunuJ->SetMarkerSize(0.5);\n",
    "h_lep_etc20_WtaunuJ->SetLineColor(kAzure);\n",
    "//W WtaunuN histrogram\n",
    "h_lep_etc20_WtaunuN->SetMarkerStyle(8);\n",
    "h_lep_etc20_WtaunuN->SetMarkerSize(0.5);\n",
    "h_lep_etc20_WtaunuN->SetLineColor(kTeal);\n",
    "//Merged W Wenu,Wmunu,Wtaunu\n",
    "h_lep_etc20_mergedW->SetMarkerStyle(8);\n",
    "h_lep_etc20_mergedW->SetMarkerSize(0.5);\n",
    "h_lep_etc20_mergedW->SetLineColor(kGreen);"
   ]
  },
  {
   "cell_type": "markdown",
   "metadata": {},
   "source": [
    "Set atributes for Lepton PTCONE30 histograms"
   ]
  },
  {
   "cell_type": "markdown",
   "metadata": {},
   "source": [
    "Set Lepton PTC20 atributes for Z histograms"
   ]
  },
  {
   "cell_type": "code",
   "execution_count": null,
   "metadata": {
    "collapsed": true
   },
   "outputs": [],
   "source": [
    "//PTC Histograms\n",
    "//Zee histrogram\n",
    "h_lep_ptc30_Dww->SetMarkerStyle(8);\n",
    "h_lep_ptc30_Zee->SetMarkerSize(0.5);\n",
    "h_lep_ptc30_Zee->SetLineColor(kRed);\n",
    "//Zmumu histrogram \n",
    "h_lep_ptc30_Dww->SetMarkerStyle(8);\n",
    "h_lep_ptc30_Zmumu->SetMarkerSize(0.5);\n",
    "h_lep_ptc30_Zmumu->SetLineColor(kYellow);\n",
    "//Ztautau histrogram\n",
    "h_lep_ptc30_Dww->SetMarkerStyle(8);\n",
    "h_lep_ptc30_Ztautau->SetMarkerSize(0.5);\n",
    "h_lep_ptc30_Ztautau->SetLineColor(kBlue);\n",
    "//Merged Zee,Zmumu,Ztautau\n",
    "h_lep_ptc30_mergedZ->SetMarkerStyle(8);\n",
    "h_lep_ptc30_mergedZ->SetMarkerSize(0.5);\n",
    "h_lep_ptc30_mergedZ->SetLineColor(kGreen);"
   ]
  },
  {
   "cell_type": "markdown",
   "metadata": {},
   "source": [
    "Set Lepton PTC20 atributes for Diboson histograms"
   ]
  },
  {
   "cell_type": "code",
   "execution_count": null,
   "metadata": {
    "collapsed": true
   },
   "outputs": [],
   "source": [
    "//Diboson WW histogram\n",
    "h_lep_ptc30_Dww->SetMarkerStyle(8);\n",
    "h_lep_ptc30_Dww->SetMarkerSize(0.5);\n",
    "h_lep_ptc30_Dww->SetLineColor(kRed);\n",
    "//Diboson ZZ histogram\n",
    "h_lep_ptc30_Dzz->SetMarkerStyle(8);\n",
    "h_lep_ptc30_Dzz->SetMarkerSize(0.5);\n",
    "h_lep_ptc30_Dzz->SetLineColor(kYellow);\n",
    "//Diboson WZ histogram\n",
    "h_lep_ptc30_Dwz->SetMarkerStyle(8);\n",
    "h_lep_ptc30_Dwz->SetMarkerSize(0.5);\n",
    "h_lep_ptc30_Dwz->SetLineColor(kBlue);\n",
    "//Merged Diboson WW,ZZ,WZ histogram\n",
    "h_lep_ptc30_mergedD->SetMarkerStyle(8);\n",
    "h_lep_ptc30_mergedD->SetMarkerSize(0.5);\n",
    "h_lep_ptc30_mergedD->SetLineColor(kGreen);"
   ]
  },
  {
   "cell_type": "markdown",
   "metadata": {},
   "source": [
    "Set Lepton PTC20 atributes for Drell Yan histograms"
   ]
  },
  {
   "cell_type": "code",
   "execution_count": null,
   "metadata": {
    "collapsed": true
   },
   "outputs": [],
   "source": [
    "//DYee1 histogram\n",
    "h_lep_ptc30_DYee1->SetMarkerStyle(8);\n",
    "h_lep_ptc30_DYee1->SetMarkerSize(0.5);\n",
    "h_lep_ptc30_DYee1->SetLineColor(kRed);\n",
    "//DYee2 histogram\n",
    "h_lep_ptc30_DYee2->SetMarkerStyle(8);\n",
    "h_lep_ptc30_DYee2->SetMarkerSize(0.5);\n",
    "h_lep_ptc30_DYee2->SetLineColor(kYellow);\n",
    "//DYmumu1 histrogram\n",
    "h_lep_ptc30_DYmumu1->SetMarkerStyle(8);\n",
    "h_lep_ptc30_DYmumu1->SetMarkerSize(0.5);\n",
    "h_lep_ptc30_DYmumu1->SetLineColor(kBlue);\n",
    "//DYmumu2 histrogram\n",
    "h_lep_ptc30_DYmumu2->SetMarkerStyle(8);\n",
    "h_lep_ptc30_DYmumu2->SetMarkerSize(0.5);\n",
    "h_lep_ptc30_DYmumu2->SetLineColor(kGreen);\n",
    "//DYtautau1 histrogram\n",
    "h_lep_ptc30_DYtautau1->SetMarkerStyle(8);\n",
    "h_lep_ptc30_DYtautau1->SetMarkerSize(0.5);\n",
    "h_lep_ptc30_DYtautau1->SetLineColor(kOrange);\n",
    "//DYtautau2 histrogram\n",
    "h_lep_ptc30_DYtautau2->SetMarkerStyle(8);\n",
    "h_lep_ptc30_DYtautau2->SetMarkerSize(0.5);\n",
    "h_lep_ptc30_DYtautau2->SetLineColor(kPink);\n",
    "\n",
    "//Merged DY EE,MUMU,TAUTAU histogram\n",
    "h_lep_ptc30_mergedDY->SetMarkerStyle(8);\n",
    "h_lep_ptc30_mergedDY->SetMarkerSize(0.5);\n",
    "h_lep_ptc30_mergedDY->SetLineColor(kGray);"
   ]
  },
  {
   "cell_type": "markdown",
   "metadata": {},
   "source": [
    "Set Lepton PTC20 atributes for Stop histograms"
   ]
  },
  {
   "cell_type": "code",
   "execution_count": null,
   "metadata": {
    "collapsed": true
   },
   "outputs": [],
   "source": [
    "//Stop tchan_top histrogram \n",
    "h_lep_ptc30_Stchan_top->SetMarkerStyle(8);\n",
    "h_lep_ptc30_Stchan_top->SetMarkerSize(0.5);\n",
    "h_lep_ptc30_Stchan_top->SetLineColor(kRed);\n",
    "//Stop tchan_antitop histrogram\n",
    "h_lep_ptc30_Stchan_antitop->SetMarkerStyle(8);\n",
    "h_lep_ptc30_Stchan_antitop->SetMarkerSize(0.5);\n",
    "h_lep_ptc30_Stchan_antitop->SetLineColor(kYellow);\n",
    "//Stop schan histogram\n",
    "h_lep_ptc30_Sschan->SetMarkerStyle(8);\n",
    "h_lep_ptc30_Sschan->SetMarkerSize(0.5);\n",
    "h_lep_ptc30_Sschan->SetLineColor(kBlue);\n",
    "//Stop wtchan histogram\n",
    "h_lep_ptc30_Swtchan->SetMarkerStyle(8);\n",
    "h_lep_ptc30_Swtchan->SetMarkerSize(0.5);\n",
    "h_lep_ptc30_Swtchan->SetLineColor(kGreen);\n",
    "\n",
    "//Merged stop\n",
    "h_lep_ptc30_mergedS->SetMarkerStyle(8);\n",
    "h_lep_ptc30_mergedS->SetMarkerSize(0.5);\n",
    "h_lep_ptc30_mergedS->SetLineColor(kGray);"
   ]
  },
  {
   "cell_type": "markdown",
   "metadata": {},
   "source": [
    "Set Lepton PTC20 atributes for TTBar histograms"
   ]
  },
  {
   "cell_type": "code",
   "execution_count": null,
   "metadata": {
    "collapsed": true
   },
   "outputs": [],
   "source": [
    "//TTBar had histrogram \n",
    "h_lep_ptc30_TThad->SetMarkerStyle(8);\n",
    "h_lep_ptc30_TThad->SetMarkerSize(0.5);\n",
    "h_lep_ptc30_TThad->SetLineColor(kRed);\n",
    "//TTBar lep histrogram\n",
    "h_lep_ptc30_TTlep->SetMarkerStyle(8);\n",
    "h_lep_ptc30_TTlep->SetMarkerSize(0.5);\n",
    "h_lep_ptc30_TTlep->SetLineColor(kYellow);\n",
    "\n",
    "//Merged TTBar\n",
    "h_lep_ptc30_mergedTT->SetMarkerStyle(8);\n",
    "h_lep_ptc30_mergedTT->SetMarkerSize(0.5);\n",
    "h_lep_ptc30_mergedTT->SetLineColor(kRed);"
   ]
  },
  {
   "cell_type": "markdown",
   "metadata": {},
   "source": [
    "Set Lepton PTC20 atributes for W histograms"
   ]
  },
  {
   "cell_type": "code",
   "execution_count": null,
   "metadata": {
    "collapsed": true
   },
   "outputs": [],
   "source": [
    "//W WenuW histogram  \n",
    "h_lep_ptc30_WenuW->SetMarkerStyle(8);\n",
    "h_lep_ptc30_WenuW->SetMarkerSize(0.5);\n",
    "h_lep_ptc30_WenuW->SetLineColor(kRed);\n",
    "\n",
    "//W WenuJ histrogram \n",
    "h_lep_ptc30_WenuJ->SetMarkerStyle(8);\n",
    "h_lep_ptc30_WenuJ->SetMarkerSize(0.5);\n",
    "h_lep_ptc30_WenuJ->SetLineColor(kYellow);\n",
    "//W WenuN histrogram\n",
    "h_lep_ptc30_WenuN->SetMarkerStyle(8);\n",
    "h_lep_ptc30_WenuN->SetMarkerSize(0.5);\n",
    "h_lep_ptc30_WenuN->SetLineColor(kBlue);\n",
    "\n",
    "//WmunuW histrogram\n",
    "h_lep_ptc30_WmunuW->SetMarkerStyle(8);\n",
    "h_lep_ptc30_WmunuW->SetMarkerSize(0.5);\n",
    "h_lep_ptc30_WmunuW->SetLineColor(kGreen);\n",
    "//W WmunuJ histrogram\n",
    "h_lep_ptc30_WmunuJ->SetMarkerStyle(8);\n",
    "h_lep_ptc30_WmunuJ->SetMarkerSize(0.5);\n",
    "h_lep_ptc30_WmunuJ->SetLineColor(kOrange);\n",
    "//W WmunuN histrogram\n",
    "h_lep_ptc30_WmunuN->SetMarkerStyle(8);\n",
    "h_lep_ptc30_WmunuN->SetMarkerSize(0.5);\n",
    "h_lep_ptc30_WmunuN->SetLineColor(kPink);\n",
    "//W WtaunuW histogram  \n",
    "h_lep_ptc30_WtaunuW->SetMarkerStyle(8);\n",
    "h_lep_ptc30_WtaunuW->SetMarkerSize(0.5);\n",
    "h_lep_ptc30_WtaunuW->SetLineColor(kViolet);\n",
    "\n",
    "//W WtaunuJ histrogram \n",
    "h_lep_ptc30_WtaunuJ->SetMarkerStyle(8);\n",
    "h_lep_ptc30_WtaunuJ->SetMarkerSize(0.5);\n",
    "h_lep_ptc30_WtaunuJ->SetLineColor(kAzure);\n",
    "//W WtaunuN histrogram\n",
    "h_lep_ptc30_WtaunuN->SetMarkerStyle(8);\n",
    "h_lep_ptc30_WtaunuN->SetMarkerSize(0.5);\n",
    "h_lep_ptc30_WtaunuN->SetLineColor(kTeal);\n",
    "//Merged W Wenu,Wmunu,Wtaunu\n",
    "h_lep_ptc30_mergedW->SetMarkerStyle(8);\n",
    "h_lep_ptc30_mergedW->SetMarkerSize(0.5);\n",
    "h_lep_ptc30_mergedW->SetLineColor(kGreen);"
   ]
  },
  {
   "cell_type": "markdown",
   "metadata": {},
   "source": [
    "Set atributes for Lepton Z0 histograms"
   ]
  },
  {
   "cell_type": "markdown",
   "metadata": {},
   "source": [
    "Set Lepton Z0 atributes for Z histograms"
   ]
  },
  {
   "cell_type": "code",
   "execution_count": null,
   "metadata": {
    "collapsed": true
   },
   "outputs": [],
   "source": [
    "//Z0 Histograms\n",
    "//Zee histrogram\n",
    "h_lep_z0_Dww->SetMarkerStyle(8);\n",
    "h_lep_z0_Zee->SetMarkerSize(0.5);\n",
    "h_lep_z0_Zee->SetLineColor(kRed);\n",
    "//Zmumu histrogram \n",
    "h_lep_z0_Dww->SetMarkerStyle(8);\n",
    "h_lep_z0_Zmumu->SetMarkerSize(0.5);\n",
    "h_lep_z0_Zmumu->SetLineColor(kYellow);\n",
    "//Ztautau histrogram\n",
    "h_lep_z0_Dww->SetMarkerStyle(8);\n",
    "h_lep_z0_Ztautau->SetMarkerSize(0.5);\n",
    "h_lep_z0_Ztautau->SetLineColor(kBlue);\n",
    "//Merged Zee,Zmumu,Ztautau\n",
    "h_lep_z0_mergedZ->SetMarkerStyle(8);\n",
    "h_lep_z0_mergedZ->SetMarkerSize(0.5);\n",
    "h_lep_z0_mergedZ->SetLineColor(kGreen);"
   ]
  },
  {
   "cell_type": "markdown",
   "metadata": {},
   "source": [
    "Set Lepton Z0 atributes for Diboson histograms"
   ]
  },
  {
   "cell_type": "code",
   "execution_count": null,
   "metadata": {
    "collapsed": true
   },
   "outputs": [],
   "source": [
    "//Diboson WW histogram\n",
    "h_lep_z0_Dww->SetMarkerStyle(8);\n",
    "h_lep_z0_Dww->SetMarkerSize(0.5);\n",
    "h_lep_z0_Dww->SetLineColor(kRed);\n",
    "//Diboson ZZ histogram\n",
    "h_lep_z0_Dzz->SetMarkerStyle(8);\n",
    "h_lep_z0_Dzz->SetMarkerSize(0.5);\n",
    "h_lep_z0_Dzz->SetLineColor(kYellow);\n",
    "//Diboson WZ histogram\n",
    "h_lep_z0_Dwz->SetMarkerStyle(8);\n",
    "h_lep_z0_Dwz->SetMarkerSize(0.5);\n",
    "h_lep_z0_Dwz->SetLineColor(kBlue);\n",
    "//Merged Diboson WW,ZZ,WZ histogram\n",
    "h_lep_z0_mergedD->SetMarkerStyle(8);\n",
    "h_lep_z0_mergedD->SetMarkerSize(0.5);\n",
    "h_lep_z0_mergedD->SetLineColor(kGreen);"
   ]
  },
  {
   "cell_type": "markdown",
   "metadata": {},
   "source": [
    "Set Lepton Z0 atributes for Drell Yan histograms"
   ]
  },
  {
   "cell_type": "code",
   "execution_count": null,
   "metadata": {
    "collapsed": true
   },
   "outputs": [],
   "source": [
    "//DYee1 histogram\n",
    "h_lep_z0_DYee1->SetMarkerStyle(8);\n",
    "h_lep_z0_DYee1->SetMarkerSize(0.5);\n",
    "h_lep_z0_DYee1->SetLineColor(kRed);\n",
    "//DYee2 histogram\n",
    "h_lep_z0_DYee2->SetMarkerStyle(8);\n",
    "h_lep_z0_DYee2->SetMarkerSize(0.5);\n",
    "h_lep_z0_DYee2->SetLineColor(kYellow);\n",
    "//DYmumu1 histrogram\n",
    "h_lep_z0_DYmumu1->SetMarkerStyle(8);\n",
    "h_lep_z0_DYmumu1->SetMarkerSize(0.5);\n",
    "h_lep_z0_DYmumu1->SetLineColor(kBlue);\n",
    "//DYmumu2 histrogram\n",
    "h_lep_z0_DYmumu2->SetMarkerStyle(8);\n",
    "h_lep_z0_DYmumu2->SetMarkerSize(0.5);\n",
    "h_lep_z0_DYmumu2->SetLineColor(kGreen);\n",
    "//DYtautau1 histrogram\n",
    "h_lep_z0_DYtautau1->SetMarkerStyle(8);\n",
    "h_lep_z0_DYtautau1->SetMarkerSize(0.5);\n",
    "h_lep_z0_DYtautau1->SetLineColor(kOrange);\n",
    "//DYtautau2 histrogram\n",
    "h_lep_z0_DYtautau2->SetMarkerStyle(8);\n",
    "h_lep_z0_DYtautau2->SetMarkerSize(0.5);\n",
    "h_lep_z0_DYtautau2->SetLineColor(kPink);\n",
    "\n",
    "//Merged DY EE,MUMU,TAUTAU histogram\n",
    "h_lep_z0_mergedDY->SetMarkerStyle(8);\n",
    "h_lep_z0_mergedDY->SetMarkerSize(0.5);\n",
    "h_lep_z0_mergedDY->SetLineColor(kGray);"
   ]
  },
  {
   "cell_type": "markdown",
   "metadata": {},
   "source": [
    "Set Lepton Z0 atributes for Stop histograms"
   ]
  },
  {
   "cell_type": "code",
   "execution_count": null,
   "metadata": {
    "collapsed": true
   },
   "outputs": [],
   "source": [
    "//Stop tchan_top histrogram \n",
    "h_lep_z0_Stchan_top->SetMarkerStyle(8);\n",
    "h_lep_z0_Stchan_top->SetMarkerSize(0.5);\n",
    "h_lep_z0_Stchan_top->SetLineColor(kRed);\n",
    "//Stop tchan_antitop histrogram\n",
    "h_lep_z0_Stchan_antitop->SetMarkerStyle(8);\n",
    "h_lep_z0_Stchan_antitop->SetMarkerSize(0.5);\n",
    "h_lep_z0_Stchan_antitop->SetLineColor(kYellow);\n",
    "//Stop schan histogram\n",
    "h_lep_z0_Sschan->SetMarkerStyle(8);\n",
    "h_lep_z0_Sschan->SetMarkerSize(0.5);\n",
    "h_lep_z0_Sschan->SetLineColor(kBlue);\n",
    "//Stop wtchan histogram\n",
    "h_lep_z0_Swtchan->SetMarkerStyle(8);\n",
    "h_lep_z0_Swtchan->SetMarkerSize(0.5);\n",
    "h_lep_z0_Swtchan->SetLineColor(kGreen);\n",
    "\n",
    "//Merged stop\n",
    "h_lep_z0_mergedS->SetMarkerStyle(8);\n",
    "h_lep_z0_mergedS->SetMarkerSize(0.5);\n",
    "h_lep_z0_mergedS->SetLineColor(kGray);"
   ]
  },
  {
   "cell_type": "markdown",
   "metadata": {},
   "source": [
    "Set Lepton Z0 atributes for TTBar histograms"
   ]
  },
  {
   "cell_type": "code",
   "execution_count": null,
   "metadata": {
    "collapsed": true
   },
   "outputs": [],
   "source": [
    "//TTBar had histrogram \n",
    "h_lep_z0_TThad->SetMarkerStyle(8);\n",
    "h_lep_z0_TThad->SetMarkerSize(0.5);\n",
    "h_lep_z0_TThad->SetLineColor(kRed);\n",
    "//TTBar lep histrogram\n",
    "h_lep_z0_TTlep->SetMarkerStyle(8);\n",
    "h_lep_z0_TTlep->SetMarkerSize(0.5);\n",
    "h_lep_z0_TTlep->SetLineColor(kYellow);\n",
    "\n",
    "//Merged TTBar\n",
    "h_lep_z0_mergedTT->SetMarkerStyle(8);\n",
    "h_lep_z0_mergedTT->SetMarkerSize(0.5);\n",
    "h_lep_z0_mergedTT->SetLineColor(kRed);"
   ]
  },
  {
   "cell_type": "markdown",
   "metadata": {},
   "source": [
    "Set Lepton Z0 atributes for W histograms"
   ]
  },
  {
   "cell_type": "code",
   "execution_count": null,
   "metadata": {
    "collapsed": true
   },
   "outputs": [],
   "source": [
    "//W WenuW histogram  \n",
    "h_lep_z0_WenuW->SetMarkerStyle(8);\n",
    "h_lep_z0_WenuW->SetMarkerSize(0.5);\n",
    "h_lep_z0_WenuW->SetLineColor(kRed);\n",
    "\n",
    "//W WenuJ histrogram \n",
    "h_lep_z0_WenuJ->SetMarkerStyle(8);\n",
    "h_lep_z0_WenuJ->SetMarkerSize(0.5);\n",
    "h_lep_z0_WenuJ->SetLineColor(kYellow);\n",
    "//W WenuN histrogram\n",
    "h_lep_z0_WenuN->SetMarkerStyle(8);\n",
    "h_lep_z0_WenuN->SetMarkerSize(0.5);\n",
    "h_lep_z0_WenuN->SetLineColor(kBlue);\n",
    "\n",
    "//WmunuW histrogram\n",
    "h_lep_z0_WmunuW->SetMarkerStyle(8);\n",
    "h_lep_z0_WmunuW->SetMarkerSize(0.5);\n",
    "h_lep_z0_WmunuW->SetLineColor(kGreen);\n",
    "//W WmunuJ histrogram\n",
    "h_lep_z0_WmunuJ->SetMarkerStyle(8);\n",
    "h_lep_z0_WmunuJ->SetMarkerSize(0.5);\n",
    "h_lep_z0_WmunuJ->SetLineColor(kOrange);\n",
    "//W WmunuN histrogram\n",
    "h_lep_z0_WmunuN->SetMarkerStyle(8);\n",
    "h_lep_z0_WmunuN->SetMarkerSize(0.5);\n",
    "h_lep_z0_WmunuN->SetLineColor(kPink);\n",
    "//W WtaunuW histogram  \n",
    "h_lep_z0_WtaunuW->SetMarkerStyle(8);\n",
    "h_lep_z0_WtaunuW->SetMarkerSize(0.5);\n",
    "h_lep_z0_WtaunuW->SetLineColor(kViolet);\n",
    "\n",
    "//W WtaunuJ histrogram \n",
    "h_lep_z0_WtaunuJ->SetMarkerStyle(8);\n",
    "h_lep_z0_WtaunuJ->SetMarkerSize(0.5);\n",
    "h_lep_z0_WtaunuJ->SetLineColor(kAzure);\n",
    "//W WtaunuN histrogram\n",
    "h_lep_z0_WtaunuN->SetMarkerStyle(8);\n",
    "h_lep_z0_WtaunuN->SetMarkerSize(0.5);\n",
    "h_lep_z0_WtaunuN->SetLineColor(kTeal);\n",
    "//Merged W Wenu,Wmunu,Wtaunu\n",
    "h_lep_z0_mergedW->SetMarkerStyle(8);\n",
    "h_lep_z0_mergedW->SetMarkerSize(0.5);\n",
    "h_lep_z0_mergedW->SetLineColor(kGreen);"
   ]
  },
  {
   "cell_type": "markdown",
   "metadata": {},
   "source": [
    "Set atributes for Lepton D0 histograms"
   ]
  },
  {
   "cell_type": "markdown",
   "metadata": {},
   "source": [
    "Set Lepton D0 atributes for Z histograms"
   ]
  },
  {
   "cell_type": "code",
   "execution_count": null,
   "metadata": {
    "collapsed": true
   },
   "outputs": [],
   "source": [
    "//D0 Histograms\n",
    "//Zee histrogram\n",
    "h_lep_d0_Dww->SetMarkerStyle(8);\n",
    "h_lep_d0_Zee->SetMarkerSize(0.5);\n",
    "h_lep_d0_Zee->SetLineColor(kRed);\n",
    "//Zmumu histrogram \n",
    "h_lep_d0_Dww->SetMarkerStyle(8);\n",
    "h_lep_d0_Zmumu->SetMarkerSize(0.5);\n",
    "h_lep_d0_Zmumu->SetLineColor(kYellow);\n",
    "//Ztautau histrogram\n",
    "h_lep_d0_Dww->SetMarkerStyle(8);\n",
    "h_lep_d0_Ztautau->SetMarkerSize(0.5);\n",
    "h_lep_d0_Ztautau->SetLineColor(kBlue);\n",
    "//Merged Zee,Zmumu,Ztautau\n",
    "h_lep_d0_mergedZ->SetMarkerStyle(8);\n",
    "h_lep_d0_mergedZ->SetMarkerSize(0.5);\n",
    "h_lep_d0_mergedZ->SetLineColor(kGreen);"
   ]
  },
  {
   "cell_type": "markdown",
   "metadata": {},
   "source": [
    "Set Lepton D0 atributes for Diboson histograms"
   ]
  },
  {
   "cell_type": "code",
   "execution_count": null,
   "metadata": {
    "collapsed": true
   },
   "outputs": [],
   "source": [
    "//Diboson WW histogram\n",
    "h_lep_d0_Dww->SetMarkerStyle(8);\n",
    "h_lep_d0_Dww->SetMarkerSize(0.5);\n",
    "h_lep_d0_Dww->SetLineColor(kRed);\n",
    "//Diboson ZZ histogram\n",
    "h_lep_d0_Dzz->SetMarkerStyle(8);\n",
    "h_lep_d0_Dzz->SetMarkerSize(0.5);\n",
    "h_lep_d0_Dzz->SetLineColor(kYellow);\n",
    "//Diboson WZ histogram\n",
    "h_lep_d0_Dwz->SetMarkerStyle(8);\n",
    "h_lep_d0_Dwz->SetMarkerSize(0.5);\n",
    "h_lep_d0_Dwz->SetLineColor(kBlue);\n",
    "//Merged Diboson WW,ZZ,WZ histogram\n",
    "h_lep_d0_mergedD->SetMarkerStyle(8);\n",
    "h_lep_d0_mergedD->SetMarkerSize(0.5);\n",
    "h_lep_d0_mergedD->SetLineColor(kGreen);"
   ]
  },
  {
   "cell_type": "markdown",
   "metadata": {},
   "source": [
    "Set Lepton D0 atributes for Drell Yan histograms"
   ]
  },
  {
   "cell_type": "code",
   "execution_count": null,
   "metadata": {
    "collapsed": true
   },
   "outputs": [],
   "source": [
    "//DYee1 histogram\n",
    "h_lep_d0_DYee1->SetMarkerStyle(8);\n",
    "h_lep_d0_DYee1->SetMarkerSize(0.5);\n",
    "h_lep_d0_DYee1->SetLineColor(kRed);\n",
    "//DYee2 histogram\n",
    "h_lep_d0_DYee2->SetMarkerStyle(8);\n",
    "h_lep_d0_DYee2->SetMarkerSize(0.5);\n",
    "h_lep_d0_DYee2->SetLineColor(kYellow);\n",
    "//DYmumu1 histrogram\n",
    "h_lep_d0_DYmumu1->SetMarkerStyle(8);\n",
    "h_lep_d0_DYmumu1->SetMarkerSize(0.5);\n",
    "h_lep_d0_DYmumu1->SetLineColor(kBlue);\n",
    "//DYmumu2 histrogram\n",
    "h_lep_d0_DYmumu2->SetMarkerStyle(8);\n",
    "h_lep_d0_DYmumu2->SetMarkerSize(0.5);\n",
    "h_lep_d0_DYmumu2->SetLineColor(kGreen);\n",
    "//DYtautau1 histrogram\n",
    "h_lep_d0_DYtautau1->SetMarkerStyle(8);\n",
    "h_lep_d0_DYtautau1->SetMarkerSize(0.5);\n",
    "h_lep_d0_DYtautau1->SetLineColor(kOrange);\n",
    "//DYtautau2 histrogram\n",
    "h_lep_d0_DYtautau2->SetMarkerStyle(8);\n",
    "h_lep_d0_DYtautau2->SetMarkerSize(0.5);\n",
    "h_lep_d0_DYtautau2->SetLineColor(kPink);\n",
    "\n",
    "//Merged DY EE,MUMU,TAUTAU histogram\n",
    "h_lep_d0_mergedDY->SetMarkerStyle(8);\n",
    "h_lep_d0_mergedDY->SetMarkerSize(0.5);\n",
    "h_lep_d0_mergedDY->SetLineColor(kGray);"
   ]
  },
  {
   "cell_type": "raw",
   "metadata": {},
   "source": [
    "Set Lepton D0 atributes for Stop histograms"
   ]
  },
  {
   "cell_type": "code",
   "execution_count": null,
   "metadata": {
    "collapsed": true
   },
   "outputs": [],
   "source": [
    "//Stop tchan_top histrogram \n",
    "h_lep_d0_Stchan_top->SetMarkerStyle(8);\n",
    "h_lep_d0_Stchan_top->SetMarkerSize(0.5);\n",
    "h_lep_d0_Stchan_top->SetLineColor(kRed);\n",
    "//Stop tchan_antitop histrogram\n",
    "h_lep_d0_Stchan_antitop->SetMarkerStyle(8);\n",
    "h_lep_d0_Stchan_antitop->SetMarkerSize(0.5);\n",
    "h_lep_d0_Stchan_antitop->SetLineColor(kYellow);\n",
    "//Stop schan histogram\n",
    "h_lep_d0_Sschan->SetMarkerStyle(8);\n",
    "h_lep_d0_Sschan->SetMarkerSize(0.5);\n",
    "h_lep_d0_Sschan->SetLineColor(kBlue);\n",
    "//Stop wtchan histogram\n",
    "h_lep_d0_Swtchan->SetMarkerStyle(8);\n",
    "h_lep_d0_Swtchan->SetMarkerSize(0.5);\n",
    "h_lep_d0_Swtchan->SetLineColor(kGreen);\n",
    "\n",
    "//Merged stop\n",
    "h_lep_d0_mergedS->SetMarkerStyle(8);\n",
    "h_lep_d0_mergedS->SetMarkerSize(0.5);\n",
    "h_lep_d0_mergedS->SetLineColor(kGray);"
   ]
  },
  {
   "cell_type": "markdown",
   "metadata": {},
   "source": [
    "Set Lepton D0 atributes for TTBar histograms"
   ]
  },
  {
   "cell_type": "code",
   "execution_count": null,
   "metadata": {
    "collapsed": true
   },
   "outputs": [],
   "source": [
    "//TTBar had histrogram \n",
    "h_lep_d0_TThad->SetMarkerStyle(8);\n",
    "h_lep_d0_TThad->SetMarkerSize(0.5);\n",
    "h_lep_d0_TThad->SetLineColor(kRed);\n",
    "//TTBar lep histrogram\n",
    "h_lep_d0_TTlep->SetMarkerStyle(8);\n",
    "h_lep_d0_TTlep->SetMarkerSize(0.5);\n",
    "h_lep_d0_TTlep->SetLineColor(kYellow);\n",
    "\n",
    "//Merged TTBar\n",
    "h_lep_d0_mergedTT->SetMarkerStyle(8);\n",
    "h_lep_d0_mergedTT->SetMarkerSize(0.5);\n",
    "h_lep_d0_mergedTT->SetLineColor(kRed);"
   ]
  },
  {
   "cell_type": "markdown",
   "metadata": {},
   "source": [
    "Set Lepton D0 atributes for W histograms"
   ]
  },
  {
   "cell_type": "code",
   "execution_count": null,
   "metadata": {
    "collapsed": true
   },
   "outputs": [],
   "source": [
    "//W WenuW histogram  \n",
    "h_lep_d0_WenuW->SetMarkerStyle(8);\n",
    "h_lep_d0_WenuW->SetMarkerSize(0.5);\n",
    "h_lep_d0_WenuW->SetLineColor(kRed);\n",
    "\n",
    "//W WenuJ histrogram \n",
    "h_lep_d0_WenuJ->SetMarkerStyle(8);\n",
    "h_lep_d0_WenuJ->SetMarkerSize(0.5);\n",
    "h_lep_d0_WenuJ->SetLineColor(kYellow);\n",
    "//W WenuN histrogram\n",
    "h_lep_d0_WenuN->SetMarkerStyle(8);\n",
    "h_lep_d0_WenuN->SetMarkerSize(0.5);\n",
    "h_lep_d0_WenuN->SetLineColor(kBlue);\n",
    "\n",
    "//WmunuW histrogram\n",
    "h_lep_d0_WmunuW->SetMarkerStyle(8);\n",
    "h_lep_d0_WmunuW->SetMarkerSize(0.5);\n",
    "h_lep_d0_WmunuW->SetLineColor(kGreen);\n",
    "//W WmunuJ histrogram\n",
    "h_lep_d0_WmunuJ->SetMarkerStyle(8);\n",
    "h_lep_d0_WmunuJ->SetMarkerSize(0.5);\n",
    "h_lep_d0_WmunuJ->SetLineColor(kOrange);\n",
    "//W WmunuN histrogram\n",
    "h_lep_d0_WmunuN->SetMarkerStyle(8);\n",
    "h_lep_d0_WmunuN->SetMarkerSize(0.5);\n",
    "h_lep_d0_WmunuN->SetLineColor(kPink);\n",
    "//W WtaunuW histogram  \n",
    "h_lep_d0_WtaunuW->SetMarkerStyle(8);\n",
    "h_lep_d0_WtaunuW->SetMarkerSize(0.5);\n",
    "h_lep_d0_WtaunuW->SetLineColor(kViolet);\n",
    "\n",
    "//W WtaunuJ histrogram \n",
    "h_lep_d0_WtaunuJ->SetMarkerStyle(8);\n",
    "h_lep_d0_WtaunuJ->SetMarkerSize(0.5);\n",
    "h_lep_d0_WtaunuJ->SetLineColor(kAzure);\n",
    "//W WtaunuN histrogram\n",
    "h_lep_d0_WtaunuN->SetMarkerStyle(8);\n",
    "h_lep_d0_WtaunuN->SetMarkerSize(0.5);\n",
    "h_lep_d0_WtaunuN->SetLineColor(kTeal);\n",
    "//Merged W Wenu,Wmunu,Wtaunu\n",
    "h_lep_d0_mergedW->SetMarkerStyle(8);\n",
    "h_lep_d0_mergedW->SetMarkerSize(0.5);\n",
    "h_lep_d0_mergedW->SetLineColor(kGreen);"
   ]
  },
  {
   "cell_type": "markdown",
   "metadata": {},
   "source": [
    "Set atributes for Trailepton PT histograms"
   ]
  },
  {
   "cell_type": "markdown",
   "metadata": {},
   "source": [
    "Set Traillepton PT atributes for Z histograms"
   ]
  },
  {
   "cell_type": "code",
   "execution_count": null,
   "metadata": {
    "collapsed": true
   },
   "outputs": [],
   "source": [
    "//PT_TL Histograms\n",
    "//Zee histrogram\n",
    "h_lep_pt_tl_Dww->SetMarkerStyle(8);\n",
    "h_lep_pt_tl_Zee->SetMarkerSize(0.5);\n",
    "h_lep_pt_tl_Zee->SetLineColor(kRed);\n",
    "//Zmumu histrogram \n",
    "h_lep_pt_tl_Dww->SetMarkerStyle(8);\n",
    "h_lep_pt_tl_Zmumu->SetMarkerSize(0.5);\n",
    "h_lep_pt_tl_Zmumu->SetLineColor(kYellow);\n",
    "//Ztautau histrogram\n",
    "h_lep_pt_tl_Dww->SetMarkerStyle(8);\n",
    "h_lep_pt_tl_Ztautau->SetMarkerSize(0.5);\n",
    "h_lep_pt_tl_Ztautau->SetLineColor(kBlue);\n",
    "//Merged Zee,Zmumu,Ztautau\n",
    "h_lep_pt_tl_mergedZ->SetMarkerStyle(8);\n",
    "h_lep_pt_tl_mergedZ->SetMarkerSize(0.5);\n",
    "h_lep_pt_tl_mergedZ->SetLineColor(kGreen);"
   ]
  },
  {
   "cell_type": "markdown",
   "metadata": {},
   "source": [
    "Set Traillepton PT atributes for Diboson histograms"
   ]
  },
  {
   "cell_type": "code",
   "execution_count": null,
   "metadata": {
    "collapsed": true
   },
   "outputs": [],
   "source": [
    "//Diboson WW histogram\n",
    "h_lep_pt_tl_Dww->SetMarkerStyle(8);\n",
    "h_lep_pt_tl_Dww->SetMarkerSize(0.5);\n",
    "h_lep_pt_tl_Dww->SetLineColor(kRed);\n",
    "//Diboson ZZ histogram\n",
    "h_lep_pt_tl_Dzz->SetMarkerStyle(8);\n",
    "h_lep_pt_tl_Dzz->SetMarkerSize(0.5);\n",
    "h_lep_pt_tl_Dzz->SetLineColor(kYellow);\n",
    "//Diboson WZ histogram\n",
    "h_lep_pt_tl_Dwz->SetMarkerStyle(8);\n",
    "h_lep_pt_tl_Dwz->SetMarkerSize(0.5);\n",
    "h_lep_pt_tl_Dwz->SetLineColor(kBlue);\n",
    "//Merged Diboson WW,ZZ,WZ histogram\n",
    "h_lep_pt_tl_mergedD->SetMarkerStyle(8);\n",
    "h_lep_pt_tl_mergedD->SetMarkerSize(0.5);\n",
    "h_lep_pt_tl_mergedD->SetLineColor(kGreen);"
   ]
  },
  {
   "cell_type": "markdown",
   "metadata": {},
   "source": [
    "Set Traillepton PT atributes for Drell Yan histograms"
   ]
  },
  {
   "cell_type": "code",
   "execution_count": null,
   "metadata": {
    "collapsed": true
   },
   "outputs": [],
   "source": [
    "//DYee1 histogram\n",
    "h_lep_pt_tl_DYee1->SetMarkerStyle(8);\n",
    "h_lep_pt_tl_DYee1->SetMarkerSize(0.5);\n",
    "h_lep_pt_tl_DYee1->SetLineColor(kRed);\n",
    "//DYee2 histogram\n",
    "h_lep_pt_tl_DYee2->SetMarkerStyle(8);\n",
    "h_lep_pt_tl_DYee2->SetMarkerSize(0.5);\n",
    "h_lep_pt_tl_DYee2->SetLineColor(kYellow);\n",
    "//DYmumu1 histrogram\n",
    "h_lep_pt_tl_DYmumu1->SetMarkerStyle(8);\n",
    "h_lep_pt_tl_DYmumu1->SetMarkerSize(0.5);\n",
    "h_lep_pt_tl_DYmumu1->SetLineColor(kBlue);\n",
    "//DYmumu2 histrogram\n",
    "h_lep_pt_tl_DYmumu2->SetMarkerStyle(8);\n",
    "h_lep_pt_tl_DYmumu2->SetMarkerSize(0.5);\n",
    "h_lep_pt_tl_DYmumu2->SetLineColor(kGreen);\n",
    "//DYtautau1 histrogram\n",
    "h_lep_pt_tl_DYtautau1->SetMarkerStyle(8);\n",
    "h_lep_pt_tl_DYtautau1->SetMarkerSize(0.5);\n",
    "h_lep_pt_tl_DYtautau1->SetLineColor(kOrange);\n",
    "//DYtautau2 histrogram\n",
    "h_lep_pt_tl_DYtautau2->SetMarkerStyle(8);\n",
    "h_lep_pt_tl_DYtautau2->SetMarkerSize(0.5);\n",
    "h_lep_pt_tl_DYtautau2->SetLineColor(kPink);\n",
    "\n",
    "//Merged DY EE,MUMU,TAUTAU histogram\n",
    "h_lep_pt_tl_mergedDY->SetMarkerStyle(8);\n",
    "h_lep_pt_tl_mergedDY->SetMarkerSize(0.5);\n",
    "h_lep_pt_tl_mergedDY->SetLineColor(kGray);"
   ]
  },
  {
   "cell_type": "markdown",
   "metadata": {},
   "source": [
    "Set Traillepton PT atributes for Stop histograms"
   ]
  },
  {
   "cell_type": "code",
   "execution_count": null,
   "metadata": {
    "collapsed": true
   },
   "outputs": [],
   "source": [
    "//Stop tchan_top histrogram \n",
    "h_lep_pt_tl_Stchan_top->SetMarkerStyle(8);\n",
    "h_lep_pt_tl_Stchan_top->SetMarkerSize(0.5);\n",
    "h_lep_pt_tl_Stchan_top->SetLineColor(kRed);\n",
    "//Stop tchan_antitop histrogram\n",
    "h_lep_pt_tl_Stchan_antitop->SetMarkerStyle(8);\n",
    "h_lep_pt_tl_Stchan_antitop->SetMarkerSize(0.5);\n",
    "h_lep_pt_tl_Stchan_antitop->SetLineColor(kYellow);\n",
    "//Stop schan histogram\n",
    "h_lep_pt_tl_Sschan->SetMarkerStyle(8);\n",
    "h_lep_pt_tl_Sschan->SetMarkerSize(0.5);\n",
    "h_lep_pt_tl_Sschan->SetLineColor(kBlue);\n",
    "//Stop wtchan histogram\n",
    "h_lep_pt_tl_Swtchan->SetMarkerStyle(8);\n",
    "h_lep_pt_tl_Swtchan->SetMarkerSize(0.5);\n",
    "h_lep_pt_tl_Swtchan->SetLineColor(kGreen);\n",
    "\n",
    "//Merged stop\n",
    "h_lep_pt_tl_mergedS->SetMarkerStyle(8);\n",
    "h_lep_pt_tl_mergedS->SetMarkerSize(0.5);\n",
    "h_lep_pt_tl_mergedS->SetLineColor(kGray);"
   ]
  },
  {
   "cell_type": "markdown",
   "metadata": {},
   "source": [
    "Set Traillepton PT atributes for TTBar histograms"
   ]
  },
  {
   "cell_type": "code",
   "execution_count": null,
   "metadata": {
    "collapsed": true
   },
   "outputs": [],
   "source": [
    "//TTBar had histrogram \n",
    "h_lep_pt_tl_TThad->SetMarkerStyle(8);\n",
    "h_lep_pt_tl_TThad->SetMarkerSize(0.5);\n",
    "h_lep_pt_tl_TThad->SetLineColor(kRed);\n",
    "//TTBar lep histrogram\n",
    "h_lep_pt_tl_TTlep->SetMarkerStyle(8);\n",
    "h_lep_pt_tl_TTlep->SetMarkerSize(0.5);\n",
    "h_lep_pt_tl_TTlep->SetLineColor(kYellow);\n",
    "\n",
    "//Merged TTBar\n",
    "h_lep_pt_tl_mergedTT->SetMarkerStyle(8);\n",
    "h_lep_pt_tl_mergedTT->SetMarkerSize(0.5);\n",
    "h_lep_pt_tl_mergedTT->SetLineColor(kRed);"
   ]
  },
  {
   "cell_type": "markdown",
   "metadata": {},
   "source": [
    "Set Traillepton PT atributes for W histograms"
   ]
  },
  {
   "cell_type": "code",
   "execution_count": null,
   "metadata": {
    "collapsed": true
   },
   "outputs": [],
   "source": [
    "//W WenuW histogram  \n",
    "h_lep_pt_tl_WenuW->SetMarkerStyle(8);\n",
    "h_lep_pt_tl_WenuW->SetMarkerSize(0.5);\n",
    "h_lep_pt_tl_WenuW->SetLineColor(kRed);\n",
    "\n",
    "//W WenuJ histrogram \n",
    "h_lep_pt_tl_WenuJ->SetMarkerStyle(8);\n",
    "h_lep_pt_tl_WenuJ->SetMarkerSize(0.5);\n",
    "h_lep_pt_tl_WenuJ->SetLineColor(kYellow);\n",
    "//W WenuN histrogram\n",
    "h_lep_pt_tl_WenuN->SetMarkerStyle(8);\n",
    "h_lep_pt_tl_WenuN->SetMarkerSize(0.5);\n",
    "h_lep_pt_tl_WenuN->SetLineColor(kBlue);\n",
    "\n",
    "//WmunuW histrogram\n",
    "h_lep_pt_tl_WmunuW->SetMarkerStyle(8);\n",
    "h_lep_pt_tl_WmunuW->SetMarkerSize(0.5);\n",
    "h_lep_pt_tl_WmunuW->SetLineColor(kGreen);\n",
    "//W WmunuJ histrogram\n",
    "h_lep_pt_tl_WmunuJ->SetMarkerStyle(8);\n",
    "h_lep_pt_tl_WmunuJ->SetMarkerSize(0.5);\n",
    "h_lep_pt_tl_WmunuJ->SetLineColor(kOrange);\n",
    "//W WmunuN histrogram\n",
    "h_lep_pt_tl_WmunuN->SetMarkerStyle(8);\n",
    "h_lep_pt_tl_WmunuN->SetMarkerSize(0.5);\n",
    "h_lep_pt_tl_WmunuN->SetLineColor(kPink);\n",
    "//W WtaunuW histogram  \n",
    "h_lep_pt_tl_WtaunuW->SetMarkerStyle(8);\n",
    "h_lep_pt_tl_WtaunuW->SetMarkerSize(0.5);\n",
    "h_lep_pt_tl_WtaunuW->SetLineColor(kViolet);\n",
    "\n",
    "//W WtaunuJ histrogram \n",
    "h_lep_pt_tl_WtaunuJ->SetMarkerStyle(8);\n",
    "h_lep_pt_tl_WtaunuJ->SetMarkerSize(0.5);\n",
    "h_lep_pt_tl_WtaunuJ->SetLineColor(kAzure);\n",
    "//W WtaunuN histrogram\n",
    "h_lep_pt_tl_WtaunuN->SetMarkerStyle(8);\n",
    "h_lep_pt_tl_WtaunuN->SetMarkerSize(0.5);\n",
    "h_lep_pt_tl_WtaunuN->SetLineColor(kTeal);\n",
    "//Merged W Wenu,Wmunu,Wtaunu\n",
    "h_lep_pt_tl_mergedW->SetMarkerStyle(8);\n",
    "h_lep_pt_tl_mergedW->SetMarkerSize(0.5);\n",
    "h_lep_pt_tl_mergedW->SetLineColor(kGreen);"
   ]
  },
  {
   "cell_type": "markdown",
   "metadata": {},
   "source": [
    "Set atributes for Trailepton ETA histograms"
   ]
  },
  {
   "cell_type": "markdown",
   "metadata": {},
   "source": [
    "Set Traillepton ETA atributes for Z histograms"
   ]
  },
  {
   "cell_type": "code",
   "execution_count": null,
   "metadata": {
    "collapsed": true
   },
   "outputs": [],
   "source": [
    "//ETA_TL HISTOGRAMS\n",
    "\n",
    "//Zee histrogram\n",
    "h_lep_eta_tl_Zee->SetMarkerStyle(8);\n",
    "h_lep_eta_tl_Zee->SetMarkerSize(0.5);\n",
    "h_lep_eta_tl_Zee->SetLineColor(kRed);\n",
    "//Zmumu histrogram \n",
    "h_lep_eta_tl_Zmumu->SetMarkerStyle(8);\n",
    "h_lep_eta_tl_Zmumu->SetMarkerSize(0.5);\n",
    "h_lep_eta_tl_Zmumu->SetLineColor(kYellow);\n",
    "//Ztautau histrogram\n",
    "h_lep_eta_tl_Ztautau->SetMarkerStyle(8);\n",
    "h_lep_eta_tl_Ztautau->SetMarkerSize(0.5);\n",
    "h_lep_eta_tl_Ztautau->SetLineColor(kBlue);\n",
    "//Merged Zee,Zmumu,Ztautau\n",
    "h_lep_eta_tl_mergedZ->SetMarkerStyle(8);\n",
    "h_lep_eta_tl_mergedZ->SetMarkerSize(0.5);\n",
    "h_lep_eta_tl_mergedZ->SetLineColor(kGreen);"
   ]
  },
  {
   "cell_type": "markdown",
   "metadata": {},
   "source": [
    "Set Traillepton ETA atributes for Diboson histograms"
   ]
  },
  {
   "cell_type": "code",
   "execution_count": null,
   "metadata": {
    "collapsed": true
   },
   "outputs": [],
   "source": [
    "//Diboson WW histogram\n",
    "h_lep_eta_tl_Dww->SetMarkerStyle(8);\n",
    "h_lep_eta_tl_Dww->SetMarkerSize(0.5);\n",
    "h_lep_eta_tl_Dww->SetLineColor(kRed);\n",
    "//Diboson ZZ histogram\n",
    "h_lep_eta_tl_Dzz->SetMarkerStyle(8);\n",
    "h_lep_eta_tl_Dzz->SetMarkerSize(0.5);\n",
    "h_lep_eta_tl_Dzz->SetLineColor(kYellow);\n",
    "//Diboson WZ histogram\n",
    "h_lep_eta_tl_Dwz->SetMarkerStyle(8);\n",
    "h_lep_eta_tl_Dwz->SetMarkerSize(0.5);\n",
    "h_lep_eta_tl_Dwz->SetLineColor(kBlue);\n",
    "//Merged Diboson WW,ZZ,WZ histogram\n",
    "h_lep_eta_tl_mergedD->SetMarkerStyle(8);\n",
    "h_lep_eta_tl_mergedD->SetMarkerSize(0.5);\n",
    "h_lep_eta_tl_mergedD->SetLineColor(kGreen);"
   ]
  },
  {
   "cell_type": "markdown",
   "metadata": {},
   "source": [
    "Set Traillepton ETA atributes for Drell Yan histograms"
   ]
  },
  {
   "cell_type": "code",
   "execution_count": null,
   "metadata": {
    "collapsed": true
   },
   "outputs": [],
   "source": [
    "//DYee1 histogram\n",
    "h_lep_eta_tl_DYee1->SetMarkerStyle(8);\n",
    "h_lep_eta_tl_DYee1->SetMarkerSize(0.5);\n",
    "h_lep_eta_tl_DYee1->SetLineColor(kRed);\n",
    "//DYee2 histogram\n",
    "h_lep_eta_tl_DYee2->SetMarkerStyle(8);\n",
    "h_lep_eta_tl_DYee2->SetMarkerSize(0.5);\n",
    "h_lep_eta_tl_DYee2->SetLineColor(kYellow);\n",
    "//DYmumu1 histrogram\n",
    "h_lep_eta_tl_DYmumu1->SetMarkerStyle(8);\n",
    "h_lep_eta_tl_DYmumu1->SetMarkerSize(0.5);\n",
    "h_lep_eta_tl_DYmumu1->SetLineColor(kBlue);\n",
    "//DYmumu2 histrogram\n",
    "h_lep_eta_tl_DYmumu2->SetMarkerStyle(8);\n",
    "h_lep_eta_tl_DYmumu2->SetMarkerSize(0.5);\n",
    "h_lep_eta_tl_DYmumu2->SetLineColor(kGreen);\n",
    "//DYtautau1 histrogram\n",
    "h_lep_eta_tl_DYtautau1->SetMarkerStyle(8);\n",
    "h_lep_eta_tl_DYtautau1->SetMarkerSize(0.5);\n",
    "h_lep_eta_tl_DYtautau1->SetLineColor(kOrange);\n",
    "//DYtautau2 histrogram\n",
    "h_lep_eta_tl_DYtautau2->SetMarkerStyle(8);\n",
    "h_lep_eta_tl_DYtautau2->SetMarkerSize(0.5);\n",
    "h_lep_eta_tl_DYtautau2->SetLineColor(kPink);\n",
    "\n",
    "//Merged DY EE,MUMU,TAUTAU histogram\n",
    "h_lep_eta_tl_mergedDY->SetMarkerStyle(8);\n",
    "h_lep_eta_tl_mergedDY->SetMarkerSize(0.5);\n",
    "h_lep_eta_tl_mergedDY->SetLineColor(kGray);"
   ]
  },
  {
   "cell_type": "markdown",
   "metadata": {},
   "source": [
    "Set Traillepton ETA atributes for Stop histograms"
   ]
  },
  {
   "cell_type": "code",
   "execution_count": null,
   "metadata": {
    "collapsed": true
   },
   "outputs": [],
   "source": [
    "//Stop tchan_top histrogram \n",
    "h_lep_eta_tl_Stchan_top->SetMarkerStyle(8);\n",
    "h_lep_eta_tl_Stchan_top->SetMarkerSize(0.5);\n",
    "h_lep_eta_tl_Stchan_top->SetLineColor(kRed);\n",
    "//Stop tchan_antitop histrogram\n",
    "h_lep_eta_tl_Stchan_antitop->SetMarkerStyle(8);\n",
    "h_lep_eta_tl_Stchan_antitop->SetMarkerSize(0.5);\n",
    "h_lep_eta_tl_Stchan_antitop->SetLineColor(kYellow);\n",
    "//Stop schan histogram\n",
    "h_lep_eta_tl_Sschan->SetMarkerStyle(8);\n",
    "h_lep_eta_tl_Sschan->SetMarkerSize(0.5);\n",
    "h_lep_eta_tl_Sschan->SetLineColor(kBlue);\n",
    "//Stop wtchan histogram\n",
    "h_lep_eta_tl_Swtchan->SetMarkerStyle(8);\n",
    "h_lep_eta_tl_Swtchan->SetMarkerSize(0.5);\n",
    "h_lep_eta_tl_Swtchan->SetLineColor(kGreen);\n",
    "\n",
    "//Merged stop\n",
    "h_lep_eta_tl_mergedS->SetMarkerStyle(8);\n",
    "h_lep_eta_tl_mergedS->SetMarkerSize(0.5);\n",
    "h_lep_eta_tl_mergedS->SetLineColor(kGray);"
   ]
  },
  {
   "cell_type": "markdown",
   "metadata": {},
   "source": [
    "Set Traillepton ETA atributes for TTBar histograms"
   ]
  },
  {
   "cell_type": "code",
   "execution_count": null,
   "metadata": {
    "collapsed": true
   },
   "outputs": [],
   "source": [
    "//TTBar had histrogram \n",
    "h_lep_eta_tl_TThad->SetMarkerStyle(8);\n",
    "h_lep_eta_tl_TThad->SetMarkerSize(0.5);\n",
    "h_lep_eta_tl_TThad->SetLineColor(kRed);\n",
    "//TTBar lep histrogram\n",
    "h_lep_eta_tl_TTlep->SetMarkerStyle(8);\n",
    "h_lep_eta_tl_TTlep->SetMarkerSize(0.5);\n",
    "h_lep_eta_tl_TTlep->SetLineColor(kYellow);\n",
    "\n",
    "//Merged TTBar\n",
    "h_lep_eta_tl_mergedTT->SetMarkerStyle(8);\n",
    "h_lep_eta_tl_mergedTT->SetMarkerSize(0.5);\n",
    "h_lep_eta_tl_mergedTT->SetLineColor(kRed);"
   ]
  },
  {
   "cell_type": "markdown",
   "metadata": {},
   "source": [
    "Set Traillepton ETA atributes for W histograms"
   ]
  },
  {
   "cell_type": "code",
   "execution_count": null,
   "metadata": {
    "collapsed": true
   },
   "outputs": [],
   "source": [
    "//W WenuW histogram  \n",
    "h_lep_eta_tl_WenuW->SetMarkerStyle(8);\n",
    "h_lep_eta_tl_WenuW->SetMarkerSize(0.5);\n",
    "h_lep_eta_tl_WenuW->SetLineColor(kRed);\n",
    "\n",
    "//W WenuJ histrogram \n",
    "h_lep_eta_tl_WenuJ->SetMarkerStyle(8);\n",
    "h_lep_eta_tl_WenuJ->SetMarkerSize(0.5);\n",
    "h_lep_eta_tl_WenuJ->SetLineColor(kYellow);\n",
    "//W WenuN histrogram\n",
    "h_lep_eta_tl_WenuN->SetMarkerStyle(8);\n",
    "h_lep_eta_tl_WenuN->SetMarkerSize(0.5);\n",
    "h_lep_eta_tl_WenuN->SetLineColor(kBlue);\n",
    "\n",
    "//WmunuW histrogram\n",
    "h_lep_eta_tl_WmunuW->SetMarkerStyle(8);\n",
    "h_lep_eta_tl_WmunuW->SetMarkerSize(0.5);\n",
    "h_lep_eta_tl_WmunuW->SetLineColor(kGreen);\n",
    "//W WmunuJ histrogram\n",
    "h_lep_eta_tl_WmunuJ->SetMarkerStyle(8);\n",
    "h_lep_eta_tl_WmunuJ->SetMarkerSize(0.5);\n",
    "h_lep_eta_tl_WmunuJ->SetLineColor(kOrange);\n",
    "//W WmunuN histrogram\n",
    "h_lep_eta_tl_WmunuN->SetMarkerStyle(8);\n",
    "h_lep_eta_tl_WmunuN->SetMarkerSize(0.5);\n",
    "h_lep_eta_tl_WmunuN->SetLineColor(kPink);\n",
    "//W WtaunuW histogram  \n",
    "h_lep_eta_tl_WtaunuW->SetMarkerStyle(8);\n",
    "h_lep_eta_tl_WtaunuW->SetMarkerSize(0.5);\n",
    "h_lep_eta_tl_WtaunuW->SetLineColor(kViolet);\n",
    "\n",
    "//W WtaunuJ histrogram \n",
    "h_lep_eta_tl_WtaunuJ->SetMarkerStyle(8);\n",
    "h_lep_eta_tl_WtaunuJ->SetMarkerSize(0.5);\n",
    "h_lep_eta_tl_WtaunuJ->SetLineColor(kAzure);\n",
    "//W WtaunuN histrogram\n",
    "h_lep_eta_tl_WtaunuN->SetMarkerStyle(8);\n",
    "h_lep_eta_tl_WtaunuN->SetMarkerSize(0.5);\n",
    "h_lep_eta_tl_WtaunuN->SetLineColor(kTeal);\n",
    "//Merged W Wenu,Wmunu,Wtaunu\n",
    "h_lep_eta_tl_mergedW->SetMarkerStyle(8);\n",
    "h_lep_eta_tl_mergedW->SetMarkerSize(0.5);\n",
    "h_lep_eta_tl_mergedW->SetLineColor(kGreen);"
   ]
  },
  {
   "cell_type": "markdown",
   "metadata": {},
   "source": [
    "Set atributes for Trailepton PHI histograms"
   ]
  },
  {
   "cell_type": "markdown",
   "metadata": {},
   "source": [
    "Set Traillepton PHI atributes for Z histograms"
   ]
  },
  {
   "cell_type": "code",
   "execution_count": null,
   "metadata": {
    "collapsed": true
   },
   "outputs": [],
   "source": [
    "//PHI_TL Histograms\n",
    "//Zee histrogram\n",
    "h_lep_phi_tl_Zee->SetMarkerStyle(8);\n",
    "h_lep_phi_tl_Zee->SetMarkerSize(0.5);\n",
    "h_lep_phi_tl_Zee->SetLineColor(kRed);\n",
    "//Zmumu histrogram \n",
    "h_lep_phi_tl_Zmumu->SetMarkerStyle(8);\n",
    "h_lep_phi_tl_Zmumu->SetMarkerSize(0.5);\n",
    "h_lep_phi_tl_Zmumu->SetLineColor(kYellow);\n",
    "//Ztautau histrogram\n",
    "h_lep_phi_tl_Ztautau->SetMarkerStyle(8);\n",
    "h_lep_phi_tl_Ztautau->SetMarkerSize(0.5);\n",
    "h_lep_phi_tl_Ztautau->SetLineColor(kBlue);\n",
    "//Merged Zee,Zmumu,Ztautau\n",
    "h_lep_phi_tl_mergedZ->SetMarkerStyle(8);\n",
    "h_lep_phi_tl_mergedZ->SetMarkerSize(0.5);\n",
    "h_lep_phi_tl_mergedZ->SetLineColor(kGreen);"
   ]
  },
  {
   "cell_type": "markdown",
   "metadata": {},
   "source": [
    "Set Traillepton PHI atributes for Diboson histograms"
   ]
  },
  {
   "cell_type": "code",
   "execution_count": null,
   "metadata": {
    "collapsed": true
   },
   "outputs": [],
   "source": [
    "//Diboson WW histogram\n",
    "h_lep_phi_tl_Dww->SetMarkerStyle(8);\n",
    "h_lep_phi_tl_Dww->SetMarkerSize(0.5);\n",
    "h_lep_phi_tl_Dww->SetLineColor(kRed);\n",
    "//Diboson ZZ histogram\n",
    "h_lep_phi_tl_Dzz->SetMarkerStyle(8);\n",
    "h_lep_phi_tl_Dzz->SetMarkerSize(0.5);\n",
    "h_lep_phi_tl_Dzz->SetLineColor(kYellow);\n",
    "//Diboson WZ histogram\n",
    "h_lep_phi_tl_Dwz->SetMarkerStyle(8);\n",
    "h_lep_phi_tl_Dwz->SetMarkerSize(0.5);\n",
    "h_lep_phi_tl_Dwz->SetLineColor(kBlue);\n",
    "//Merged Diboson WW,ZZ,WZ histogram\n",
    "h_lep_phi_tl_mergedD->SetMarkerStyle(8);\n",
    "h_lep_phi_tl_mergedD->SetMarkerSize(0.5);\n",
    "h_lep_phi_tl_mergedD->SetLineColor(kGreen);"
   ]
  },
  {
   "cell_type": "markdown",
   "metadata": {},
   "source": [
    "Set Traillepton PHI atributes for Drell Yan histograms"
   ]
  },
  {
   "cell_type": "code",
   "execution_count": null,
   "metadata": {
    "collapsed": true
   },
   "outputs": [],
   "source": [
    "//DYee1 histogram\n",
    "h_lep_phi_tl_DYee1->SetMarkerStyle(8);\n",
    "h_lep_phi_tl_DYee1->SetMarkerSize(0.5);\n",
    "h_lep_phi_tl_DYee1->SetLineColor(kRed);\n",
    "//DYee2 histogram\n",
    "h_lep_phi_tl_DYee2->SetMarkerStyle(8);\n",
    "h_lep_phi_tl_DYee2->SetMarkerSize(0.5);\n",
    "h_lep_phi_tl_DYee2->SetLineColor(kYellow);\n",
    "//DYmumu1 histrogram\n",
    "h_lep_phi_tl_DYmumu1->SetMarkerStyle(8);\n",
    "h_lep_phi_tl_DYmumu1->SetMarkerSize(0.5);\n",
    "h_lep_phi_tl_DYmumu1->SetLineColor(kBlue);\n",
    "//DYmumu2 histrogram\n",
    "h_lep_phi_tl_DYmumu2->SetMarkerStyle(8);\n",
    "h_lep_phi_tl_DYmumu2->SetMarkerSize(0.5);\n",
    "h_lep_phi_tl_DYmumu2->SetLineColor(kGreen);\n",
    "//DYtautau1 histrogram\n",
    "h_lep_phi_tl_DYtautau1->SetMarkerStyle(8);\n",
    "h_lep_phi_tl_DYtautau1->SetMarkerSize(0.5);\n",
    "h_lep_phi_tl_DYtautau1->SetLineColor(kOrange);\n",
    "//DYtautau2 histrogram\n",
    "h_lep_phi_tl_DYtautau2->SetMarkerStyle(8);\n",
    "h_lep_phi_tl_DYtautau2->SetMarkerSize(0.5);\n",
    "h_lep_phi_tl_DYtautau2->SetLineColor(kPink);\n",
    "\n",
    "//Merged DY EE,MUMU,TAUTAU histogram\n",
    "h_lep_phi_tl_mergedDY->SetMarkerStyle(8);\n",
    "h_lep_phi_tl_mergedDY->SetMarkerSize(0.5);\n",
    "h_lep_phi_tl_mergedDY->SetLineColor(kGray);"
   ]
  },
  {
   "cell_type": "markdown",
   "metadata": {},
   "source": [
    "Set Traillepton PHI atributes for Stop histograms"
   ]
  },
  {
   "cell_type": "code",
   "execution_count": null,
   "metadata": {
    "collapsed": true
   },
   "outputs": [],
   "source": [
    "//Stop tchan_top histrogram \n",
    "h_lep_phi_tl_Stchan_top->SetMarkerStyle(8);\n",
    "h_lep_phi_tl_Stchan_top->SetMarkerSize(0.5);\n",
    "h_lep_phi_tl_Stchan_top->SetLineColor(kRed);\n",
    "//Stop tchan_antitop histrogram\n",
    "h_lep_phi_tl_Stchan_antitop->SetMarkerStyle(8);\n",
    "h_lep_phi_tl_Stchan_antitop->SetMarkerSize(0.5);\n",
    "h_lep_phi_tl_Stchan_antitop->SetLineColor(kYellow);\n",
    "//Stop schan histogram\n",
    "h_lep_phi_tl_Sschan->SetMarkerStyle(8);\n",
    "h_lep_phi_tl_Sschan->SetMarkerSize(0.5);\n",
    "h_lep_phi_tl_Sschan->SetLineColor(kBlue);\n",
    "//Stop wtchan histogram\n",
    "h_lep_phi_tl_Swtchan->SetMarkerStyle(8);\n",
    "h_lep_phi_tl_Swtchan->SetMarkerSize(0.5);\n",
    "h_lep_phi_tl_Swtchan->SetLineColor(kGreen);\n",
    "\n",
    "//Merged stop\n",
    "h_lep_phi_tl_mergedS->SetMarkerStyle(8);\n",
    "h_lep_phi_tl_mergedS->SetMarkerSize(0.5);\n",
    "h_lep_phi_tl_mergedS->SetLineColor(kGray);"
   ]
  },
  {
   "cell_type": "markdown",
   "metadata": {},
   "source": [
    "Set Traillepton PHI atributes for TTBar histograms"
   ]
  },
  {
   "cell_type": "code",
   "execution_count": null,
   "metadata": {
    "collapsed": true
   },
   "outputs": [],
   "source": [
    "//TTBar had histrogram \n",
    "h_lep_phi_tl_TThad->SetMarkerStyle(8);\n",
    "h_lep_phi_tl_TThad->SetMarkerSize(0.5);\n",
    "h_lep_phi_tl_TThad->SetLineColor(kRed);\n",
    "//TTBar lep histrogram\n",
    "h_lep_phi_tl_TTlep->SetMarkerStyle(8);\n",
    "h_lep_phi_tl_TTlep->SetMarkerSize(0.5);\n",
    "h_lep_phi_tl_TTlep->SetLineColor(kYellow);\n",
    "\n",
    "//Merged TTBar\n",
    "h_lep_phi_tl_mergedTT->SetMarkerStyle(8);\n",
    "h_lep_phi_tl_mergedTT->SetMarkerSize(0.5);\n",
    "h_lep_phi_tl_mergedTT->SetLineColor(kRed);"
   ]
  },
  {
   "cell_type": "markdown",
   "metadata": {},
   "source": [
    "Set Traillepton PHI atributes for W histograms"
   ]
  },
  {
   "cell_type": "code",
   "execution_count": null,
   "metadata": {
    "collapsed": true
   },
   "outputs": [],
   "source": [
    "//W WenuW histogram  \n",
    "h_lep_phi_tl_WenuW->SetMarkerStyle(8);\n",
    "h_lep_phi_tl_WenuW->SetMarkerSize(0.5);\n",
    "h_lep_phi_tl_WenuW->SetLineColor(kRed);\n",
    "\n",
    "//W WenuJ histrogram \n",
    "h_lep_phi_WenuJ->SetMarkerStyle(8);\n",
    "h_lep_phi_WenuJ->SetMarkerSize(0.5);\n",
    "h_lep_phi_WenuJ->SetLineColor(kYellow);\n",
    "//W WenuN histrogram\n",
    "h_lep_phi_tl_WenuN->SetMarkerStyle(8);\n",
    "h_lep_phi_tl_WenuN->SetMarkerSize(0.5);\n",
    "h_lep_phi_tl_WenuN->SetLineColor(kBlue);\n",
    "\n",
    "//WmunuW histrogram\n",
    "h_lep_phi_tl_WmunuW->SetMarkerStyle(8);\n",
    "h_lep_phi_tl_WmunuW->SetMarkerSize(0.5);\n",
    "h_lep_phi_tl_WmunuW->SetLineColor(kGreen);\n",
    "//W WmunuJ histrogram\n",
    "h_lep_phi_tl_WmunuJ->SetMarkerStyle(8);\n",
    "h_lep_phi_tl_WmunuJ->SetMarkerSize(0.5);\n",
    "h_lep_phi_tl_WmunuJ->SetLineColor(kOrange);\n",
    "//W WmunuN histrogram\n",
    "h_lep_phi_tl_WmunuN->SetMarkerStyle(8);\n",
    "h_lep_phi_tl_WmunuN->SetMarkerSize(0.5);\n",
    "h_lep_phi_tl_WmunuN->SetLineColor(kPink);\n",
    "//W WtaunuW histogram  \n",
    "h_lep_phi_tl_WtaunuW->SetMarkerStyle(8);\n",
    "h_lep_phi_tl_WtaunuW->SetMarkerSize(0.5);\n",
    "h_lep_phi_tl_WtaunuW->SetLineColor(kViolet);\n",
    "\n",
    "//W WtaunuJ histrogram \n",
    "h_lep_phi_tl_WtaunuJ->SetMarkerStyle(8);\n",
    "h_lep_phi_tl_WtaunuJ->SetMarkerSize(0.5);\n",
    "h_lep_phi_tl_WtaunuJ->SetLineColor(kAzure);\n",
    "//W WtaunuN histrogram\n",
    "h_lep_phi_tl_WtaunuN->SetMarkerStyle(8);\n",
    "h_lep_phi_tl_WtaunuN->SetMarkerSize(0.5);\n",
    "h_lep_phi_tl_WtaunuN->SetLineColor(kTeal);\n",
    "//Merged W Wenu,Wmunu,Wtaunu\n",
    "h_lep_phi_tl_mergedW->SetMarkerStyle(8);\n",
    "h_lep_phi_tl_mergedW->SetMarkerSize(0.5);\n",
    "h_lep_phi_tl_mergedW->SetLineColor(kGreen);"
   ]
  },
  {
   "cell_type": "markdown",
   "metadata": {},
   "source": [
    "Set atributes for Trailepton ENERGY histograms"
   ]
  },
  {
   "cell_type": "markdown",
   "metadata": {},
   "source": [
    "Set Traillepton ENERGY atributes for Z histograms"
   ]
  },
  {
   "cell_type": "code",
   "execution_count": null,
   "metadata": {
    "collapsed": true
   },
   "outputs": [],
   "source": [
    "//E Histograms\n",
    "//Zee histrogram\n",
    "h_lep_E_tl_Zee->SetMarkerStyle(8);\n",
    "h_lep_E_tl_Zee->SetMarkerSize(0.5);\n",
    "h_lep_E_tl_Zee->SetLineColor(kRed);\n",
    "//Zmumu histrogram \n",
    "h_lep_E_tl_Zmumu->SetMarkerStyle(8);\n",
    "h_lep_E_tl_Zmumu->SetMarkerSize(0.5);\n",
    "h_lep_E_tl_Zmumu->SetLineColor(kYellow);\n",
    "//Ztautau histrogram\n",
    "h_lep_E_tl_Ztautau->SetMarkerStyle(8);\n",
    "h_lep_E_tl_Ztautau->SetMarkerSize(0.5);\n",
    "h_lep_E_tl_Ztautau->SetLineColor(kBlue);\n",
    "//Merged Zee,Zmumu,Ztautau\n",
    "h_lep_E_tl_mergedZ->SetMarkerStyle(8);\n",
    "h_lep_E_tl_mergedZ->SetMarkerSize(0.5);\n",
    "h_lep_E_tl_mergedZ->SetLineColor(kGreen);"
   ]
  },
  {
   "cell_type": "markdown",
   "metadata": {},
   "source": [
    "Set Traillepton ENERGY atributes for Diboson histograms"
   ]
  },
  {
   "cell_type": "code",
   "execution_count": null,
   "metadata": {
    "collapsed": true
   },
   "outputs": [],
   "source": [
    "//Diboson WW histogram\n",
    "h_lep_E_tl_Dww->SetMarkerStyle(8);\n",
    "h_lep_E_tl_Dww->SetMarkerSize(0.5);\n",
    "h_lep_E_tl_Dww->SetLineColor(kRed);\n",
    "//Diboson ZZ histogram\n",
    "h_lep_E_tl_Dzz->SetMarkerStyle(8);\n",
    "h_lep_E_tl_Dzz->SetMarkerSize(0.5);\n",
    "h_lep_E_tl_Dzz->SetLineColor(kYellow);\n",
    "//Diboson WZ histogram\n",
    "h_lep_E_tl_Dwz->SetMarkerStyle(8);\n",
    "h_lep_E_tl_Dwz->SetMarkerSize(0.5);\n",
    "h_lep_E_tl_Dwz->SetLineColor(kBlue);\n",
    "//Merged Diboson WW,ZZ,WZ histogram\n",
    "h_lep_E_tl_mergedD->SetMarkerStyle(8);\n",
    "h_lep_E_tl_mergedD->SetMarkerSize(0.5);\n",
    "h_lep_E_tl_mergedD->SetLineColor(kGreen);"
   ]
  },
  {
   "cell_type": "markdown",
   "metadata": {},
   "source": [
    "Set Traillepton ENERGY atributes for Drell Yan histograms"
   ]
  },
  {
   "cell_type": "code",
   "execution_count": null,
   "metadata": {
    "collapsed": true
   },
   "outputs": [],
   "source": [
    "//DYee1 histogram\n",
    "h_lep_E_tl_DYee1->SetMarkerStyle(8);\n",
    "h_lep_E_tl_DYee1->SetMarkerSize(0.5);\n",
    "h_lep_E_tl_DYee1->SetLineColor(kRed);\n",
    "//DYee2 histogram\n",
    "h_lep_E_tl_DYee2->SetMarkerStyle(8);\n",
    "h_lep_E_tl_DYee2->SetMarkerSize(0.5);\n",
    "h_lep_E_tl_DYee2->SetLineColor(kYellow);\n",
    "//DYmumu1 histrogram\n",
    "h_lep_E_tl_DYmumu1->SetMarkerStyle(8);\n",
    "h_lep_E_tl_DYmumu1->SetMarkerSize(0.5);\n",
    "h_lep_E_tl_DYmumu1->SetLineColor(kBlue);\n",
    "//DYmumu2 histrogram\n",
    "h_lep_E_tl_DYmumu2->SetMarkerStyle(8);\n",
    "h_lep_E_tl_DYmumu2->SetMarkerSize(0.5);\n",
    "h_lep_E_tl_DYmumu2->SetLineColor(kGreen);\n",
    "//DYtautau1 histrogram\n",
    "h_lep_E_tl_DYtautau1->SetMarkerStyle(8);\n",
    "h_lep_E_tl_DYtautau1->SetMarkerSize(0.5);\n",
    "h_lep_E_tl_DYtautau1->SetLineColor(kOrange);\n",
    "//DYtautau2 histrogram\n",
    "h_lep_E_tl_DYtautau2->SetMarkerStyle(8);\n",
    "h_lep_E_tl_DYtautau2->SetMarkerSize(0.5);\n",
    "h_lep_E_tl_DYtautau2->SetLineColor(kPink);\n",
    "\n",
    "//Merged DY EE,MUMU,TAUTAU histogram\n",
    "h_lep_E_tl_mergedDY->SetMarkerStyle(8);\n",
    "h_lep_E_tl_mergedDY->SetMarkerSize(0.5);\n",
    "h_lep_E_tl_mergedDY->SetLineColor(kGray);"
   ]
  },
  {
   "cell_type": "markdown",
   "metadata": {},
   "source": [
    "Set Traillepton ENERGY atributes for Stop histograms"
   ]
  },
  {
   "cell_type": "code",
   "execution_count": null,
   "metadata": {
    "collapsed": true
   },
   "outputs": [],
   "source": [
    "//Stop tchan_top histrogram \n",
    "h_lep_E_tl_Stchan_top->SetMarkerStyle(8);\n",
    "h_lep_E_tl_Stchan_top->SetMarkerSize(0.5);\n",
    "h_lep_E_tl_Stchan_top->SetLineColor(kRed);\n",
    "//Stop tchan_antitop histrogram\n",
    "h_lep_E_tl_Stchan_antitop->SetMarkerStyle(8);\n",
    "h_lep_E_tl_Stchan_antitop->SetMarkerSize(0.5);\n",
    "h_lep_E_tl_Stchan_antitop->SetLineColor(kYellow);\n",
    "//Stop schan histogram\n",
    "h_lep_E_tl_Sschan->SetMarkerStyle(8);\n",
    "h_lep_E_tl_Sschan->SetMarkerSize(0.5);\n",
    "h_lep_E_tl_Sschan->SetLineColor(kBlue);\n",
    "//Stop wtchan histogram\n",
    "h_lep_E_tl_Swtchan->SetMarkerStyle(8);\n",
    "h_lep_E_tl_Swtchan->SetMarkerSize(0.5);\n",
    "h_lep_E_tl_Swtchan->SetLineColor(kGreen);\n",
    "\n",
    "//Merged stop\n",
    "h_lep_E_tl_mergedS->SetMarkerStyle(8);\n",
    "h_lep_E_tl_mergedS->SetMarkerSize(0.5);\n",
    "h_lep_E_tl_mergedS->SetLineColor(kGray);"
   ]
  },
  {
   "cell_type": "markdown",
   "metadata": {},
   "source": [
    "Set Traillepton ENERGY atributes for TTBar histograms"
   ]
  },
  {
   "cell_type": "code",
   "execution_count": null,
   "metadata": {
    "collapsed": true
   },
   "outputs": [],
   "source": [
    "//TTBar had histrogram \n",
    "h_lep_E_tl_TThad->SetMarkerStyle(8);\n",
    "h_lep_E_tl_TThad->SetMarkerSize(0.5);\n",
    "h_lep_E_tl_TThad->SetLineColor(kRed);\n",
    "//TTBar lep histrogram\n",
    "h_lep_E_tl_TTlep->SetMarkerStyle(8);\n",
    "h_lep_E_tl_TTlep->SetMarkerSize(0.5);\n",
    "h_lep_E_tl_TTlep->SetLineColor(kYellow);\n",
    "\n",
    "//Merged TTBar\n",
    "h_lep_E_tl_mergedTT->SetMarkerStyle(8);\n",
    "h_lep_E_tl_mergedTT->SetMarkerSize(0.5);\n",
    "h_lep_E_tl_mergedTT->SetLineColor(kRed);"
   ]
  },
  {
   "cell_type": "markdown",
   "metadata": {},
   "source": [
    "Set Traillepton ENERGY atributes for W histograms"
   ]
  },
  {
   "cell_type": "code",
   "execution_count": null,
   "metadata": {
    "collapsed": true
   },
   "outputs": [],
   "source": [
    "//W WenuW histogram  \n",
    "h_lep_E_tl_WenuW->SetMarkerStyle(8);\n",
    "h_lep_E_tl_WenuW->SetMarkerSize(0.5);\n",
    "h_lep_E_tl_WenuW->SetLineColor(kRed);\n",
    "\n",
    "//W WenuJ histrogram \n",
    "h_lep_E_tl_WenuJ->SetMarkerStyle(8);\n",
    "h_lep_E_tl_WenuJ->SetMarkerSize(0.5);\n",
    "h_lep_E_tl_WenuJ->SetLineColor(kYellow);\n",
    "//W WenuN histrogram\n",
    "h_lep_E_tl_WenuN->SetMarkerStyle(8);\n",
    "h_lep_E_tl_WenuN->SetMarkerSize(0.5);\n",
    "h_lep_E_tl_WenuN->SetLineColor(kBlue);\n",
    "\n",
    "//WmunuW histrogram\n",
    "h_lep_E_tl_WmunuW->SetMarkerStyle(8);\n",
    "h_lep_E_tl_WmunuW->SetMarkerSize(0.5);\n",
    "h_lep_E_tl_WmunuW->SetLineColor(kGreen);\n",
    "//W WmunuJ histrogram\n",
    "h_lep_E_tl_WmunuJ->SetMarkerStyle(8);\n",
    "h_lep_E_tl_WmunuJ->SetMarkerSize(0.5);\n",
    "h_lep_E_tl_WmunuJ->SetLineColor(kOrange);\n",
    "//W WmunuN histrogram\n",
    "h_lep_E_tl_WmunuN->SetMarkerStyle(8);\n",
    "h_lep_E_tl_WmunuN->SetMarkerSize(0.5);\n",
    "h_lep_E_tl_WmunuN->SetLineColor(kPink);\n",
    "//W WtaunuW histogram  \n",
    "h_lep_E_tl_WtaunuW->SetMarkerStyle(8);\n",
    "h_lep_E_tl_WtaunuW->SetMarkerSize(0.5);\n",
    "h_lep_E_tl_WtaunuW->SetLineColor(kViolet);\n",
    "\n",
    "//W WtaunuJ histrogram \n",
    "h_lep_E_tl_WtaunuJ->SetMarkerStyle(8);\n",
    "h_lep_E_tl_WtaunuJ->SetMarkerSize(0.5);\n",
    "h_lep_E_tl_WtaunuJ->SetLineColor(kAzure);\n",
    "//W WtaunuN histrogram\n",
    "h_lep_E_tl_WtaunuN->SetMarkerStyle(8);\n",
    "h_lep_E_tl_WtaunuN->SetMarkerSize(0.5);\n",
    "h_lep_E_tl_WtaunuN->SetLineColor(kTeal);\n",
    "//Merged W Wenu,Wmunu,Wtaunu\n",
    "h_lep_E_tl_mergedW->SetMarkerStyle(8);\n",
    "h_lep_E_tl_mergedW->SetMarkerSize(0.5);\n",
    "h_lep_E_tl_mergedW->SetLineColor(kGreen);"
   ]
  },
  {
   "cell_type": "markdown",
   "metadata": {},
   "source": [
    "Set atributes for Trailepton CHARGE histograms"
   ]
  },
  {
   "cell_type": "markdown",
   "metadata": {},
   "source": [
    "Set Traillepton CHARGE atributes for Z histograms"
   ]
  },
  {
   "cell_type": "code",
   "execution_count": null,
   "metadata": {
    "collapsed": true
   },
   "outputs": [],
   "source": [
    "//CHARGE Histograms\n",
    "//Zee histrogram\n",
    "h_lep_charge_tl_Zee->SetMarkerStyle(8);\n",
    "h_lep_charge_tl_Zee->SetMarkerSize(0.5);\n",
    "h_lep_charge_tl_Zee->SetLineColor(kRed);\n",
    "//Zmumu histrogram \n",
    "h_lep_charge_tl_Zmumu->SetMarkerStyle(8);\n",
    "h_lep_charge_tl_Zmumu->SetMarkerSize(0.5);\n",
    "h_lep_charge_tl_Zmumu->SetLineColor(kYellow);\n",
    "//Ztautau histrogram\n",
    "h_lep_charge_tl_Ztautau->SetMarkerStyle(8);\n",
    "h_lep_charge_tl_Ztautau->SetMarkerSize(0.5);\n",
    "h_lep_charge_tl_Ztautau->SetLineColor(kBlue);\n",
    "//Merged Zee,Zmumu,Ztautau\n",
    "h_lep_charge_tl_mergedZ->SetMarkerStyle(8);\n",
    "h_lep_charge_tl_mergedZ->SetMarkerSize(0.5);\n",
    "h_lep_charge_tl_mergedZ->SetLineColor(kGreen);"
   ]
  },
  {
   "cell_type": "markdown",
   "metadata": {},
   "source": [
    "Set Traillepton CHARGE atributes for Diboson histograms"
   ]
  },
  {
   "cell_type": "code",
   "execution_count": null,
   "metadata": {
    "collapsed": true
   },
   "outputs": [],
   "source": [
    "//Diboson WW histogram\n",
    "h_lep_charge_tl_Dww->SetMarkerStyle(8);\n",
    "h_lep_charge_tl_Dww->SetMarkerSize(0.5);\n",
    "h_lep_charge_tl_Dww->SetLineColor(kRed);\n",
    "//Diboson ZZ histogram\n",
    "h_lep_charge_tl_Dzz->SetMarkerStyle(8);\n",
    "h_lep_charge_tl_Dzz->SetMarkerSize(0.5);\n",
    "h_lep_charge_tl_Dzz->SetLineColor(kYellow);\n",
    "//Diboson WZ histogram\n",
    "h_lep_charge_tl_Dwz->SetMarkerStyle(8);\n",
    "h_lep_charge_tl_Dwz->SetMarkerSize(0.5);\n",
    "h_lep_charge_tl_Dwz->SetLineColor(kBlue);\n",
    "//Merged Diboson WW,ZZ,WZ histogram\n",
    "h_lep_charge_tl_mergedD->SetMarkerStyle(8);\n",
    "h_lep_charge_tl_mergedD->SetMarkerSize(0.5);\n",
    "h_lep_charge_tl_mergedD->SetLineColor(kGreen);"
   ]
  },
  {
   "cell_type": "markdown",
   "metadata": {},
   "source": [
    "Set Traillepton CHARGE atributes for Drell Yan histograms"
   ]
  },
  {
   "cell_type": "code",
   "execution_count": null,
   "metadata": {
    "collapsed": true
   },
   "outputs": [],
   "source": [
    "//DYee1 histogram\n",
    "h_lep_charge_tl_DYee1->SetMarkerStyle(8);\n",
    "h_lep_charge_tl_DYee1->SetMarkerSize(0.5);\n",
    "h_lep_charge_tl_DYee1->SetLineColor(kRed);\n",
    "//DYee2 histogram\n",
    "h_lep_charge_tl_DYee2->SetMarkerStyle(8);\n",
    "h_lep_charge_tl_DYee2->SetMarkerSize(0.5);\n",
    "h_lep_charge_tl_DYee2->SetLineColor(kYellow);\n",
    "//DYmumu1 histrogram\n",
    "h_lep_charge_tl_DYmumu1->SetMarkerStyle(8);\n",
    "h_lep_charge_tl_DYmumu1->SetMarkerSize(0.5);\n",
    "h_lep_charge_tl_DYmumu1->SetLineColor(kBlue);\n",
    "//DYmumu2 histrogram\n",
    "h_lep_charge_tl_DYmumu2->SetMarkerStyle(8);\n",
    "h_lep_charge_tl_DYmumu2->SetMarkerSize(0.5);\n",
    "h_lep_charge_tl_DYmumu2->SetLineColor(kGreen);\n",
    "//DYtautau1 histrogram\n",
    "h_lep_charge_tl_DYtautau1->SetMarkerStyle(8);\n",
    "h_lep_charge_tl_DYtautau1->SetMarkerSize(0.5);\n",
    "h_lep_charge_tl_DYtautau1->SetLineColor(kOrange);\n",
    "//DYtautau2 histrogram\n",
    "h_lep_charge_tl_DYtautau2->SetMarkerStyle(8);\n",
    "h_lep_charge_tl_DYtautau2->SetMarkerSize(0.5);\n",
    "h_lep_charge_tl_DYtautau2->SetLineColor(kPink);\n",
    "\n",
    "//Merged DY EE,MUMU,TAUTAU histogram\n",
    "h_lep_charge_tl_mergedDY->SetMarkerStyle(8);\n",
    "h_lep_charge_tl_mergedDY->SetMarkerSize(0.5);\n",
    "h_lep_charge_tl_mergedDY->SetLineColor(kGray);"
   ]
  },
  {
   "cell_type": "markdown",
   "metadata": {},
   "source": [
    "Set Traillepton CHARGE atributes for Stop histograms"
   ]
  },
  {
   "cell_type": "code",
   "execution_count": null,
   "metadata": {
    "collapsed": true
   },
   "outputs": [],
   "source": [
    "//Stop tchan_top histrogram \n",
    "h_lep_charge_tl_Stchan_top->SetMarkerStyle(8);\n",
    "h_lep_charge_tl_Stchan_top->SetMarkerSize(0.5);\n",
    "h_lep_charge_tl_Stchan_top->SetLineColor(kRed);\n",
    "//Stop tchan_antitop histrogram\n",
    "h_lep_charge_tl_Stchan_antitop->SetMarkerStyle(8);\n",
    "h_lep_charge_tl_Stchan_antitop->SetMarkerSize(0.5);\n",
    "h_lep_charge_tl_Stchan_antitop->SetLineColor(kYellow);\n",
    "//Stop schan histogram\n",
    "h_lep_charge_tl_Sschan->SetMarkerStyle(8);\n",
    "h_lep_charge_tl_Sschan->SetMarkerSize(0.5);\n",
    "h_lep_charge_tl_Sschan->SetLineColor(kBlue);\n",
    "//Stop wtchan histogram\n",
    "h_lep_charge_tl_Swtchan->SetMarkerStyle(8);\n",
    "h_lep_charge_tl_Swtchan->SetMarkerSize(0.5);\n",
    "h_lep_charge_tl_Swtchan->SetLineColor(kGreen);\n",
    "\n",
    "//Merged stop\n",
    "h_lep_charge_tl_mergedS->SetMarkerStyle(8);\n",
    "h_lep_charge_tl_mergedS->SetMarkerSize(0.5);\n",
    "h_lep_charge_tl_mergedS->SetLineColor(kGray);"
   ]
  },
  {
   "cell_type": "markdown",
   "metadata": {},
   "source": [
    "Set Traillepton CHARGE atributes for TTBar histograms"
   ]
  },
  {
   "cell_type": "code",
   "execution_count": null,
   "metadata": {
    "collapsed": true
   },
   "outputs": [],
   "source": [
    "//TTBar had histrogram \n",
    "h_lep_charge_tl_TThad->SetMarkerStyle(8);\n",
    "h_lep_charge_tl_TThad->SetMarkerSize(0.5);\n",
    "h_lep_charge_tl_TThad->SetLineColor(kRed);\n",
    "//TTBar lep histrogram\n",
    "h_lep_charge_tl_TTlep->SetMarkerStyle(8);\n",
    "h_lep_charge_tl_TTlep->SetMarkerSize(0.5);\n",
    "h_lep_charge_tl_TTlep->SetLineColor(kYellow);\n",
    "\n",
    "//Merged TTBar\n",
    "h_lep_charge_tl_mergedTT->SetMarkerStyle(8);\n",
    "h_lep_charge_tl_mergedTT->SetMarkerSize(0.5);\n",
    "h_lep_charge_tl_mergedTT->SetLineColor(kRed);"
   ]
  },
  {
   "cell_type": "markdown",
   "metadata": {},
   "source": [
    "Set Traillepton CHARGE atributes for W histograms"
   ]
  },
  {
   "cell_type": "code",
   "execution_count": null,
   "metadata": {
    "collapsed": true
   },
   "outputs": [],
   "source": [
    "//W WenuW histogram  \n",
    "h_lep_charge_tl_WenuW->SetMarkerStyle(8);\n",
    "h_lep_charge_tl_WenuW->SetMarkerSize(0.5);\n",
    "h_lep_charge_tl_WenuW->SetLineColor(kRed);\n",
    "\n",
    "//W WenuJ histrogram \n",
    "h_lep_charge_tl_WenuJ->SetMarkerStyle(8);\n",
    "h_lep_charge_tl_WenuJ->SetMarkerSize(0.5);\n",
    "h_lep_charge_tl_WenuJ->SetLineColor(kYellow);\n",
    "//W WenuN histrogram\n",
    "h_lep_charge_tl_WenuN->SetMarkerStyle(8);\n",
    "h_lep_charge_tl_WenuN->SetMarkerSize(0.5);\n",
    "h_lep_charge_tl_WenuN->SetLineColor(kBlue);\n",
    "\n",
    "//WmunuW histrogram\n",
    "h_lep_charge_tl_WmunuW->SetMarkerStyle(8);\n",
    "h_lep_charge_tl_WmunuW->SetMarkerSize(0.5);\n",
    "h_lep_charge_tl_WmunuW->SetLineColor(kGreen);\n",
    "//W WmunuJ histrogram\n",
    "h_lep_charge_tl_WmunuJ->SetMarkerStyle(8);\n",
    "h_lep_charge_tl_WmunuJ->SetMarkerSize(0.5);\n",
    "h_lep_charge_tl_WmunuJ->SetLineColor(kOrange);\n",
    "//W WmunuN histrogram\n",
    "h_lep_charge_tl_WmunuN->SetMarkerStyle(8);\n",
    "h_lep_charge_tl_WmunuN->SetMarkerSize(0.5);\n",
    "h_lep_charge_tl_WmunuN->SetLineColor(kPink);\n",
    "//W WtaunuW histogram  \n",
    "h_lep_charge_tl_WtaunuW->SetMarkerStyle(8);\n",
    "h_lep_charge_tl_WtaunuW->SetMarkerSize(0.5);\n",
    "h_lep_charge_tl_WtaunuW->SetLineColor(kViolet);\n",
    "\n",
    "//W WtaunuJ histrogram \n",
    "h_lep_charge_tl_WtaunuJ->SetMarkerStyle(8);\n",
    "h_lep_charge_tl_WtaunuJ->SetMarkerSize(0.5);\n",
    "h_lep_charge_tl_WtaunuJ->SetLineColor(kAzure);\n",
    "//W WtaunuN histrogram\n",
    "h_lep_charge_tl_WtaunuN->SetMarkerStyle(8);\n",
    "h_lep_charge_tl_WtaunuN->SetMarkerSize(0.5);\n",
    "h_lep_charge_tl_WtaunuN->SetLineColor(kTeal);\n",
    "//Merged W Wenu,Wmunu,Wtaunu\n",
    "h_lep_charge_tl_mergedW->SetMarkerStyle(8);\n",
    "h_lep_charge_tl_mergedW->SetMarkerSize(0.5);\n",
    "h_lep_charge_tl_mergedW->SetLineColor(kGreen);"
   ]
  },
  {
   "cell_type": "markdown",
   "metadata": {},
   "source": [
    "Set atributes for Trailepton ETCONE20 histograms"
   ]
  },
  {
   "cell_type": "markdown",
   "metadata": {},
   "source": [
    "Set Traillepton ETCONE20 atributes for Z histograms"
   ]
  },
  {
   "cell_type": "code",
   "execution_count": null,
   "metadata": {
    "collapsed": true
   },
   "outputs": [],
   "source": [
    "//ETC_TL Histograms\n",
    "//Zee histrogram\n",
    "h_lep_etc20_tl_Zee->SetMarkerStyle(8);\n",
    "h_lep_etc20_tl_Zee->SetMarkerSize(0.5);\n",
    "h_lep_etc20_tl_Zee->SetLineColor(kRed);\n",
    "//Zmumu histrogram \n",
    "h_lep_etc20_tl_Zmumu->SetMarkerStyle(8);\n",
    "h_lep_etc20_tl_Zmumu->SetMarkerSize(0.5);\n",
    "h_lep_etc20_tl_Zmumu->SetLineColor(kYellow);\n",
    "//Ztautau histrogram\n",
    "h_lep_etc20_tl_Ztautau->SetMarkerStyle(8);\n",
    "h_lep_etc20_tl_Ztautau->SetMarkerSize(0.5);\n",
    "h_lep_etc20_tl_Ztautau->SetLineColor(kBlue);\n",
    "//Merged Zee,Zmumu,Ztautau\n",
    "h_lep_etc20_tl_mergedZ->SetMarkerStyle(8);\n",
    "h_lep_etc20_tl_mergedZ->SetMarkerSize(0.5);\n",
    "h_lep_etc20_tl_mergedZ->SetLineColor(kGreen);"
   ]
  },
  {
   "cell_type": "markdown",
   "metadata": {},
   "source": [
    "Set Traillepton ETCONE20 atributes for Diboson histograms"
   ]
  },
  {
   "cell_type": "code",
   "execution_count": null,
   "metadata": {
    "collapsed": true
   },
   "outputs": [],
   "source": [
    "//Diboson WW histogram\n",
    "h_lep_etc20_tl_Dww->SetMarkerStyle(8);\n",
    "h_lep_etc20_tl_Dww->SetMarkerSize(0.5);\n",
    "h_lep_etc20_tl_Dww->SetLineColor(kRed);\n",
    "//Diboson ZZ histogram\n",
    "h_lep_etc20_tl_Dzz->SetMarkerStyle(8);\n",
    "h_lep_etc20_tl_Dzz->SetMarkerSize(0.5);\n",
    "h_lep_etc20_tl_Dzz->SetLineColor(kYellow);\n",
    "//Diboson WZ histogram\n",
    "h_lep_etc20_tl_Dwz->SetMarkerStyle(8);\n",
    "h_lep_etc20_tl_Dwz->SetMarkerSize(0.5);\n",
    "h_lep_etc20_tl_Dwz->SetLineColor(kBlue);\n",
    "//Merged Diboson WW,ZZ,WZ histogram\n",
    "h_lep_etc20_tl_mergedD->SetMarkerStyle(8);\n",
    "h_lep_etc20_tl_mergedD->SetMarkerSize(0.5);\n",
    "h_lep_etc20_tl_mergedD->SetLineColor(kGreen);"
   ]
  },
  {
   "cell_type": "markdown",
   "metadata": {},
   "source": [
    "Set Traillepton ETCONE20 atributes for Drell Yan histograms"
   ]
  },
  {
   "cell_type": "code",
   "execution_count": null,
   "metadata": {
    "collapsed": true
   },
   "outputs": [],
   "source": [
    "//DYee1 histogram\n",
    "h_lep_etc20_tl_DYee1->SetMarkerStyle(8);\n",
    "h_lep_etc20_tl_DYee1->SetMarkerSize(0.5);\n",
    "h_lep_etc20_tl_DYee1->SetLineColor(kRed);\n",
    "//DYee2 histogram\n",
    "h_lep_etc20_tl_DYee2->SetMarkerStyle(8);\n",
    "h_lep_etc20_tl_DYee2->SetMarkerSize(0.5);\n",
    "h_lep_etc20_tl_DYee2->SetLineColor(kYellow);\n",
    "//DYmumu1 histrogram\n",
    "h_lep_etc20_tl_DYmumu1->SetMarkerStyle(8);\n",
    "h_lep_etc20_tl_DYmumu1->SetMarkerSize(0.5);\n",
    "h_lep_etc20_tl_DYmumu1->SetLineColor(kBlue);\n",
    "//DYmumu2 histrogram\n",
    "h_lep_etc20_tl_DYmumu2->SetMarkerStyle(8);\n",
    "h_lep_etc20_tl_DYmumu2->SetMarkerSize(0.5);\n",
    "h_lep_etc20_tl_DYmumu2->SetLineColor(kGreen);\n",
    "//DYtautau1 histrogram\n",
    "h_lep_etc20_tl_DYtautau1->SetMarkerStyle(8);\n",
    "h_lep_etc20_tl_DYtautau1->SetMarkerSize(0.5);\n",
    "h_lep_etc20_tl_DYtautau1->SetLineColor(kOrange);\n",
    "//DYtautau2 histrogram\n",
    "h_lep_etc20_tl_DYtautau2->SetMarkerStyle(8);\n",
    "h_lep_etc20_tl_DYtautau2->SetMarkerSize(0.5);\n",
    "h_lep_etc20_tl_DYtautau2->SetLineColor(kPink);\n",
    "\n",
    "//Merged DY EE,MUMU,TAUTAU histogram\n",
    "h_lep_etc20_tl_mergedDY->SetMarkerStyle(8);\n",
    "h_lep_etc20_tl_mergedDY->SetMarkerSize(0.5);\n",
    "h_lep_etc20_tl_mergedDY->SetLineColor(kGray);"
   ]
  },
  {
   "cell_type": "markdown",
   "metadata": {},
   "source": [
    "Set Traillepton ETCONE20 atributes for Stop histograms"
   ]
  },
  {
   "cell_type": "code",
   "execution_count": null,
   "metadata": {
    "collapsed": true
   },
   "outputs": [],
   "source": [
    "//Stop tchan_top histrogram \n",
    "h_lep_etc20_tl_Stchan_top->SetMarkerStyle(8);\n",
    "h_lep_etc20_tl_Stchan_top->SetMarkerSize(0.5);\n",
    "h_lep_etc20_tl_Stchan_top->SetLineColor(kRed);\n",
    "//Stop tchan_antitop histrogram\n",
    "h_lep_etc20_tl_Stchan_antitop->SetMarkerStyle(8);\n",
    "h_lep_etc20_tl_Stchan_antitop->SetMarkerSize(0.5);\n",
    "h_lep_etc20_tl_Stchan_antitop->SetLineColor(kYellow);\n",
    "//Stop schan histogram\n",
    "h_lep_etc20_tl_Sschan->SetMarkerStyle(8);\n",
    "h_lep_etc20_tl_Sschan->SetMarkerSize(0.5);\n",
    "h_lep_etc20_tl_Sschan->SetLineColor(kBlue);\n",
    "//Stop wtchan histogram\n",
    "h_lep_etc20_tl_Swtchan->SetMarkerStyle(8);\n",
    "h_lep_etc20_tl_Swtchan->SetMarkerSize(0.5);\n",
    "h_lep_etc20_tl_Swtchan->SetLineColor(kGreen);\n",
    "\n",
    "//Merged stop\n",
    "h_lep_etc20_tl_mergedS->SetMarkerStyle(8);\n",
    "h_lep_etc20_tl_mergedS->SetMarkerSize(0.5);\n",
    "h_lep_etc20_tl_mergedS->SetLineColor(kGray);"
   ]
  },
  {
   "cell_type": "markdown",
   "metadata": {},
   "source": [
    "Set Traillepton ETCONE20 atributes for TTBar histograms"
   ]
  },
  {
   "cell_type": "code",
   "execution_count": null,
   "metadata": {
    "collapsed": true
   },
   "outputs": [],
   "source": [
    "//TTBar had histrogram \n",
    "h_lep_etc20_tl_TThad->SetMarkerStyle(8);\n",
    "h_lep_etc20_tl_TThad->SetMarkerSize(0.5);\n",
    "h_lep_etc20_tl_TThad->SetLineColor(kRed);\n",
    "//TTBar lep histrogram\n",
    "h_lep_etc20_tl_TTlep->SetMarkerStyle(8);\n",
    "h_lep_etc20_tl_TTlep->SetMarkerSize(0.5);\n",
    "h_lep_etc20_tl_TTlep->SetLineColor(kYellow);\n",
    "\n",
    "//Merged TTBar\n",
    "h_lep_etc20_tl_mergedTT->SetMarkerStyle(8);\n",
    "h_lep_etc20_tl_mergedTT->SetMarkerSize(0.5);\n",
    "h_lep_etc20_tl_mergedTT->SetLineColor(kRed);"
   ]
  },
  {
   "cell_type": "markdown",
   "metadata": {},
   "source": [
    "Set Traillepton ETCONE20 atributes for W histograms"
   ]
  },
  {
   "cell_type": "code",
   "execution_count": null,
   "metadata": {
    "collapsed": true
   },
   "outputs": [],
   "source": [
    "//W WenuW histogram  \n",
    "h_lep_etc20_tl_WenuW->SetMarkerStyle(8);\n",
    "h_lep_etc20_tl_WenuW->SetMarkerSize(0.5);\n",
    "h_lep_etc20_tl_WenuW->SetLineColor(kRed);\n",
    "\n",
    "//W WenuJ histrogram \n",
    "h_lep_etc20_tl_WenuJ->SetMarkerStyle(8);\n",
    "h_lep_etc20_tl_WenuJ->SetMarkerSize(0.5);\n",
    "h_lep_etc20_tl_WenuJ->SetLineColor(kYellow);\n",
    "//W WenuN histrogram\n",
    "h_lep_etc20_tl_WenuN->SetMarkerStyle(8);\n",
    "h_lep_etc20_tl_WenuN->SetMarkerSize(0.5);\n",
    "h_lep_etc20_tl_WenuN->SetLineColor(kBlue);\n",
    "\n",
    "//WmunuW histrogram\n",
    "h_lep_etc20_tl_WmunuW->SetMarkerStyle(8);\n",
    "h_lep_etc20_tl_WmunuW->SetMarkerSize(0.5);\n",
    "h_lep_etc20_tl_WmunuW->SetLineColor(kGreen);\n",
    "//W WmunuJ histrogram\n",
    "h_lep_etc20_tl_WmunuJ->SetMarkerStyle(8);\n",
    "h_lep_etc20_tl_WmunuJ->SetMarkerSize(0.5);\n",
    "h_lep_etc20_tl_WmunuJ->SetLineColor(kOrange);\n",
    "//W WmunuN histrogram\n",
    "h_lep_etc20_tl_WmunuN->SetMarkerStyle(8);\n",
    "h_lep_etc20_tl_WmunuN->SetMarkerSize(0.5);\n",
    "h_lep_etc20_tl_WmunuN->SetLineColor(kPink);\n",
    "//W WtaunuW histogram  \n",
    "h_lep_etc20_tl_WtaunuW->SetMarkerStyle(8);\n",
    "h_lep_etc20_tl_WtaunuW->SetMarkerSize(0.5);\n",
    "h_lep_etc20_tl_WtaunuW->SetLineColor(kViolet);\n",
    "\n",
    "//W WtaunuJ histrogram \n",
    "h_lep_etc20_tl_WtaunuJ->SetMarkerStyle(8);\n",
    "h_lep_etc20_tl_WtaunuJ->SetMarkerSize(0.5);\n",
    "h_lep_etc20_tl_WtaunuJ->SetLineColor(kAzure);\n",
    "//W WtaunuN histrogram\n",
    "h_lep_etc20_tl_WtaunuN->SetMarkerStyle(8);\n",
    "h_lep_etc20_tl_WtaunuN->SetMarkerSize(0.5);\n",
    "h_lep_etc20_tl_WtaunuN->SetLineColor(kTeal);\n",
    "//Merged W Wenu,Wmunu,Wtaunu\n",
    "h_lep_etc20_tl_mergedW->SetMarkerStyle(8);\n",
    "h_lep_etc20_tl_mergedW->SetMarkerSize(0.5);\n",
    "h_lep_etc20_tl_mergedW->SetLineColor(kGreen);"
   ]
  },
  {
   "cell_type": "markdown",
   "metadata": {},
   "source": [
    "Set atributes for Trailepton PTCONE30 histograms"
   ]
  },
  {
   "cell_type": "markdown",
   "metadata": {},
   "source": [
    "Set Traillepton PTCONE20 atributes for Z histograms"
   ]
  },
  {
   "cell_type": "code",
   "execution_count": null,
   "metadata": {
    "collapsed": true
   },
   "outputs": [],
   "source": [
    "//PTC_TL Histograms\n",
    "//Zee histrogram\n",
    "h_lep_ptc30_tl_Zee->SetMarkerStyle(8);\n",
    "h_lep_ptc30_tl_Zee->SetMarkerSize(0.5);\n",
    "h_lep_ptc30_tl_Zee->SetLineColor(kRed);\n",
    "//Zmumu histrogram \n",
    "h_lep_ptc30_tl_Zmumu->SetMarkerStyle(8);\n",
    "h_lep_ptc30_tl_Zmumu->SetMarkerSize(0.5);\n",
    "h_lep_ptc30_tl_Zmumu->SetLineColor(kYellow);\n",
    "//Ztautau histrogram\n",
    "h_lep_ptc30_tl_Ztautau->SetMarkerStyle(8);\n",
    "h_lep_ptc30_tl_Ztautau->SetMarkerSize(0.5);\n",
    "h_lep_ptc30_tl_Ztautau->SetLineColor(kBlue);\n",
    "//Merged Zee,Zmumu,Ztautau\n",
    "h_lep_ptc30_tl_mergedZ->SetMarkerStyle(8);\n",
    "h_lep_ptc30_tl_mergedZ->SetMarkerSize(0.5);\n",
    "h_lep_ptc30_tl_mergedZ->SetLineColor(kGreen);"
   ]
  },
  {
   "cell_type": "markdown",
   "metadata": {},
   "source": [
    "Set Traillepton PTCONE20 atributes for Diboson histograms"
   ]
  },
  {
   "cell_type": "code",
   "execution_count": null,
   "metadata": {
    "collapsed": true
   },
   "outputs": [],
   "source": [
    "//Diboson WW histogram\n",
    "h_lep_ptc30_tl_Dww->SetMarkerStyle(8);\n",
    "h_lep_ptc30_tl_Dww->SetMarkerSize(0.5);\n",
    "h_lep_ptc30_tl_Dww->SetLineColor(kRed);\n",
    "//Diboson ZZ histogram\n",
    "h_lep_ptc30_tl_Dzz->SetMarkerStyle(8);\n",
    "h_lep_ptc30_tl_Dzz->SetMarkerSize(0.5);\n",
    "h_lep_ptc30_tl_Dzz->SetLineColor(kYellow);\n",
    "//Diboson WZ histogram\n",
    "h_lep_ptc30_tl_Dwz->SetMarkerStyle(8);\n",
    "h_lep_ptc30_tl_Dwz->SetMarkerSize(0.5);\n",
    "h_lep_ptc30_tl_Dwz->SetLineColor(kBlue);\n",
    "//Merged Diboson WW,ZZ,WZ histogram\n",
    "h_lep_ptc30_tl_mergedD->SetMarkerStyle(8);\n",
    "h_lep_ptc30_tl_mergedD->SetMarkerSize(0.5);\n",
    "h_lep_ptc30_tl_mergedD->SetLineColor(kGreen);"
   ]
  },
  {
   "cell_type": "markdown",
   "metadata": {},
   "source": [
    "Set Traillepton PTCONE20 atributes for Drell Yan histograms"
   ]
  },
  {
   "cell_type": "code",
   "execution_count": null,
   "metadata": {
    "collapsed": true
   },
   "outputs": [],
   "source": [
    "//DYee1 histogram\n",
    "h_lep_ptc30_tl_DYee1->SetMarkerStyle(8);\n",
    "h_lep_ptc30_tl_DYee1->SetMarkerSize(0.5);\n",
    "h_lep_ptc30_tl_DYee1->SetLineColor(kRed);\n",
    "//DYee2 histogram\n",
    "h_lep_ptc30_tl_DYee2->SetMarkerStyle(8);\n",
    "h_lep_ptc30_tl_DYee2->SetMarkerSize(0.5);\n",
    "h_lep_ptc30_tl_DYee2->SetLineColor(kYellow);\n",
    "//DYmumu1 histrogram\n",
    "h_lep_ptc30_tl_DYmumu1->SetMarkerStyle(8);\n",
    "h_lep_ptc30_tl_DYmumu1->SetMarkerSize(0.5);\n",
    "h_lep_ptc30_tl_DYmumu1->SetLineColor(kBlue);\n",
    "//DYmumu2 histrogram\n",
    "h_lep_ptc30_tl_DYmumu2->SetMarkerStyle(8);\n",
    "h_lep_ptc30_tl_DYmumu2->SetMarkerSize(0.5);\n",
    "h_lep_ptc30_tl_DYmumu2->SetLineColor(kGreen);\n",
    "//DYtautau1 histrogram\n",
    "h_lep_ptc30_tl_DYtautau1->SetMarkerStyle(8);\n",
    "h_lep_ptc30_tl_DYtautau1->SetMarkerSize(0.5);\n",
    "h_lep_ptc30_tl_DYtautau1->SetLineColor(kOrange);\n",
    "//DYtautau2 histrogram\n",
    "h_lep_ptc30_tl_DYtautau2->SetMarkerStyle(8);\n",
    "h_lep_ptc30_tl_DYtautau2->SetMarkerSize(0.5);\n",
    "h_lep_ptc30_tl_DYtautau2->SetLineColor(kPink);\n",
    "\n",
    "//Merged DY EE,MUMU,TAUTAU histogram\n",
    "h_lep_ptc30_tl_mergedDY->SetMarkerStyle(8);\n",
    "h_lep_ptc30_tl_mergedDY->SetMarkerSize(0.5);\n",
    "h_lep_ptc30_tl_mergedDY->SetLineColor(kGray);"
   ]
  },
  {
   "cell_type": "markdown",
   "metadata": {},
   "source": [
    "Set Traillepton PTCONE20 atributes for Stop histograms"
   ]
  },
  {
   "cell_type": "code",
   "execution_count": null,
   "metadata": {
    "collapsed": true
   },
   "outputs": [],
   "source": [
    "//Stop tchan_top histrogram \n",
    "h_lep_ptc30_tl_Stchan_top->SetMarkerStyle(8);\n",
    "h_lep_ptc30_tl_Stchan_top->SetMarkerSize(0.5);\n",
    "h_lep_ptc30_tl_Stchan_top->SetLineColor(kRed);\n",
    "//Stop tchan_antitop histrogram\n",
    "h_lep_ptc30_tl_Stchan_antitop->SetMarkerStyle(8);\n",
    "h_lep_ptc30_tl_Stchan_antitop->SetMarkerSize(0.5);\n",
    "h_lep_ptc30_tl_Stchan_antitop->SetLineColor(kYellow);\n",
    "//Stop schan histogram\n",
    "h_lep_ptc30_tl_Sschan->SetMarkerStyle(8);\n",
    "h_lep_ptc30_tl_Sschan->SetMarkerSize(0.5);\n",
    "h_lep_ptc30_tl_Sschan->SetLineColor(kBlue);\n",
    "//Stop wtchan histogram\n",
    "h_lep_ptc30_tl_Swtchan->SetMarkerStyle(8);\n",
    "h_lep_ptc30_tl_Swtchan->SetMarkerSize(0.5);\n",
    "h_lep_ptc30_tl_Swtchan->SetLineColor(kGreen);\n",
    "\n",
    "//Merged stop\n",
    "h_lep_ptc30_tl_mergedS->SetMarkerStyle(8);\n",
    "h_lep_ptc30_tl_mergedS->SetMarkerSize(0.5);\n",
    "h_lep_ptc30_tl_mergedS->SetLineColor(kGray);"
   ]
  },
  {
   "cell_type": "markdown",
   "metadata": {},
   "source": [
    "Set Traillepton PTCONE20 atributes for TTBar histograms"
   ]
  },
  {
   "cell_type": "code",
   "execution_count": null,
   "metadata": {
    "collapsed": true
   },
   "outputs": [],
   "source": [
    "//TTBar had histrogram \n",
    "h_lep_ptc30_tl_TThad->SetMarkerStyle(8);\n",
    "h_lep_ptc30_tl_TThad->SetMarkerSize(0.5);\n",
    "h_lep_ptc30_tl_TThad->SetLineColor(kRed);\n",
    "//TTBar lep histrogram\n",
    "h_lep_ptc30_tl_TTlep->SetMarkerStyle(8);\n",
    "h_lep_ptc30_tl_TTlep->SetMarkerSize(0.5);\n",
    "h_lep_ptc30_tl_TTlep->SetLineColor(kYellow);\n",
    "\n",
    "//Merged TTBar\n",
    "h_lep_ptc30_tl_mergedTT->SetMarkerStyle(8);\n",
    "h_lep_ptc30_tl_mergedTT->SetMarkerSize(0.5);\n",
    "h_lep_ptc30_tl_mergedTT->SetLineColor(kRed);"
   ]
  },
  {
   "cell_type": "markdown",
   "metadata": {},
   "source": [
    "Set Traillepton PTCONE20 atributes for W histograms"
   ]
  },
  {
   "cell_type": "code",
   "execution_count": null,
   "metadata": {
    "collapsed": true
   },
   "outputs": [],
   "source": [
    "//W WenuW histogram  \n",
    "h_lep_ptc30_tl_WenuW->SetMarkerStyle(8);\n",
    "h_lep_ptc30_tl_WenuW->SetMarkerSize(0.5);\n",
    "h_lep_ptc30_tl_WenuW->SetLineColor(kRed);\n",
    "\n",
    "//W WenuJ histrogram \n",
    "h_lep_ptc30_tl_WenuJ->SetMarkerStyle(8);\n",
    "h_lep_ptc30_tl_WenuJ->SetMarkerSize(0.5);\n",
    "h_lep_ptc30_tl_WenuJ->SetLineColor(kYellow);\n",
    "//W WenuN histrogram\n",
    "h_lep_ptc30_tl_WenuN->SetMarkerStyle(8);\n",
    "h_lep_ptc30_tl_WenuN->SetMarkerSize(0.5);\n",
    "h_lep_ptc30_tl_WenuN->SetLineColor(kBlue);\n",
    "\n",
    "//WmunuW histrogram\n",
    "h_lep_ptc30_tl_WmunuW->SetMarkerStyle(8);\n",
    "h_lep_ptc30_tl_WmunuW->SetMarkerSize(0.5);\n",
    "h_lep_ptc30_tl_WmunuW->SetLineColor(kGreen);\n",
    "//W WmunuJ histrogram\n",
    "h_lep_ptc30_tl_WmunuJ->SetMarkerStyle(8);\n",
    "h_lep_ptc30_tl_WmunuJ->SetMarkerSize(0.5);\n",
    "h_lep_ptc30_tl_WmunuJ->SetLineColor(kOrange);\n",
    "//W WmunuN histrogram\n",
    "h_lep_ptc30_tl_WmunuN->SetMarkerStyle(8);\n",
    "h_lep_ptc30_tl_WmunuN->SetMarkerSize(0.5);\n",
    "h_lep_ptc30_tl_WmunuN->SetLineColor(kPink);\n",
    "//W WtaunuW histogram  \n",
    "h_lep_ptc30_tl_WtaunuW->SetMarkerStyle(8);\n",
    "h_lep_ptc30_tl_WtaunuW->SetMarkerSize(0.5);\n",
    "h_lep_ptc30_tl_WtaunuW->SetLineColor(kViolet);\n",
    "\n",
    "//W WtaunuJ histrogram \n",
    "h_lep_ptc30_tl_WtaunuJ->SetMarkerStyle(8);\n",
    "h_lep_ptc30_tl_WtaunuJ->SetMarkerSize(0.5);\n",
    "h_lep_ptc30_tl_WtaunuJ->SetLineColor(kAzure);\n",
    "//W WtaunuN histrogram\n",
    "h_lep_ptc30_tl_WtaunuN->SetMarkerStyle(8);\n",
    "h_lep_ptc30_tl_WtaunuN->SetMarkerSize(0.5);\n",
    "h_lep_ptc30_tl_WtaunuN->SetLineColor(kTeal);\n",
    "//Merged W Wenu,Wmunu,Wtaunu\n",
    "h_lep_ptc30_tl_mergedW->SetMarkerStyle(8);\n",
    "h_lep_ptc30_tl_mergedW->SetMarkerSize(0.5);\n",
    "h_lep_ptc30_tl_mergedW->SetLineColor(kGreen);"
   ]
  },
  {
   "cell_type": "markdown",
   "metadata": {},
   "source": [
    "Set atributes for Trailepton Z0 histograms"
   ]
  },
  {
   "cell_type": "markdown",
   "metadata": {},
   "source": [
    "Set Traillepton Z0 atributes for Z histograms"
   ]
  },
  {
   "cell_type": "code",
   "execution_count": null,
   "metadata": {
    "collapsed": true
   },
   "outputs": [],
   "source": [
    "//Z0_DL Histograms\n",
    "//Zee histrogram\n",
    "h_lep_z0_tl_Zee->SetMarkerStyle(8);\n",
    "h_lep_z0_tl_Zee->SetMarkerSize(0.5);\n",
    "h_lep_z0_tl_Zee->SetLineColor(kRed);\n",
    "//Zmumu histrogram \n",
    "h_lep_z0_tl_Zmumu->SetMarkerStyle(8);\n",
    "h_lep_z0_tl_Zmumu->SetMarkerSize(0.5);\n",
    "h_lep_z0_tl_Zmumu->SetLineColor(kYellow);\n",
    "//Ztautau histrogram\n",
    "h_lep_z0_tl_Ztautau->SetMarkerStyle(8);\n",
    "h_lep_z0_tl_Ztautau->SetMarkerSize(0.5);\n",
    "h_lep_z0_tl_Ztautau->SetLineColor(kBlue);\n",
    "//Merged Zee,Zmumu,Ztautau\n",
    "h_lep_z0_tl_mergedZ->SetMarkerStyle(8);\n",
    "h_lep_z0_tl_mergedZ->SetMarkerSize(0.5);\n",
    "h_lep_z0_tl_mergedZ->SetLineColor(kGreen);"
   ]
  },
  {
   "cell_type": "markdown",
   "metadata": {},
   "source": [
    "Set Traillepton Z0 atributes for Diboson histograms"
   ]
  },
  {
   "cell_type": "code",
   "execution_count": null,
   "metadata": {
    "collapsed": true
   },
   "outputs": [],
   "source": [
    "//Diboson WW histogram\n",
    "h_lep_z0_tl_Dww->SetMarkerStyle(8);\n",
    "h_lep_z0_tl_Dww->SetMarkerSize(0.5);\n",
    "h_lep_z0_tl_Dww->SetLineColor(kRed);\n",
    "//Diboson ZZ histogram\n",
    "h_lep_z0_tl_Dzz->SetMarkerStyle(8);\n",
    "h_lep_z0_tl_Dzz->SetMarkerSize(0.5);\n",
    "h_lep_z0_tl_Dzz->SetLineColor(kYellow);\n",
    "//Diboson WZ histogram\n",
    "h_lep_z0_tl_Dwz->SetMarkerStyle(8);\n",
    "h_lep_z0_tl_Dwz->SetMarkerSize(0.5);\n",
    "h_lep_z0_tl_Dwz->SetLineColor(kBlue);\n",
    "//Merged Diboson WW,ZZ,WZ histogram\n",
    "h_lep_z0_tl_mergedD->SetMarkerStyle(8);\n",
    "h_lep_z0_tl_mergedD->SetMarkerSize(0.5);\n",
    "h_lep_z0_tl_mergedD->SetLineColor(kGreen);"
   ]
  },
  {
   "cell_type": "markdown",
   "metadata": {},
   "source": [
    "Set Traillepton Z0 atributes for Drell Yan histograms"
   ]
  },
  {
   "cell_type": "code",
   "execution_count": null,
   "metadata": {
    "collapsed": true
   },
   "outputs": [],
   "source": [
    "//DYee1 histogram\n",
    "h_lep_z0_tl_DYee1->SetMarkerStyle(8);\n",
    "h_lep_z0_tl_DYee1->SetMarkerSize(0.5);\n",
    "h_lep_z0_tl_DYee1->SetLineColor(kRed);\n",
    "//DYee2 histogram\n",
    "h_lep_z0_tl_DYee2->SetMarkerStyle(8);\n",
    "h_lep_z0_tl_DYee2->SetMarkerSize(0.5);\n",
    "h_lep_z0_tl_DYee2->SetLineColor(kYellow);\n",
    "//DYmumu1 histrogram\n",
    "h_lep_z0_tl_DYmumu1->SetMarkerStyle(8);\n",
    "h_lep_z0_tl_DYmumu1->SetMarkerSize(0.5);\n",
    "h_lep_z0_tl_DYmumu1->SetLineColor(kBlue);\n",
    "//DYmumu2 histrogram\n",
    "h_lep_z0_tl_DYmumu2->SetMarkerStyle(8);\n",
    "h_lep_z0_tl_DYmumu2->SetMarkerSize(0.5);\n",
    "h_lep_z0_tl_DYmumu2->SetLineColor(kGreen);\n",
    "//DYtautau1 histrogram\n",
    "h_lep_z0_tl_DYtautau1->SetMarkerStyle(8);\n",
    "h_lep_z0_tl_DYtautau1->SetMarkerSize(0.5);\n",
    "h_lep_z0_tl_DYtautau1->SetLineColor(kOrange);\n",
    "//DYtautau2 histrogram\n",
    "h_lep_z0_tl_DYtautau2->SetMarkerStyle(8);\n",
    "h_lep_z0_tl_DYtautau2->SetMarkerSize(0.5);\n",
    "h_lep_z0_tl_DYtautau2->SetLineColor(kPink);\n",
    "\n",
    "//Merged DY EE,MUMU,TAUTAU histogram\n",
    "h_lep_z0_tl_mergedDY->SetMarkerStyle(8);\n",
    "h_lep_z0_tl_mergedDY->SetMarkerSize(0.5);\n",
    "h_lep_z0_tl_mergedDY->SetLineColor(kGray);"
   ]
  },
  {
   "cell_type": "markdown",
   "metadata": {},
   "source": [
    "Set Traillepton Z0 atributes for Stop histograms"
   ]
  },
  {
   "cell_type": "code",
   "execution_count": null,
   "metadata": {
    "collapsed": true
   },
   "outputs": [],
   "source": [
    "//Stop tchan_top histrogram \n",
    "h_lep_z0_tl_Stchan_top->SetMarkerStyle(8);\n",
    "h_lep_z0_tl_Stchan_top->SetMarkerSize(0.5);\n",
    "h_lep_z0_tl_Stchan_top->SetLineColor(kRed);\n",
    "//Stop tchan_antitop histrogram\n",
    "h_lep_z0_tl_Stchan_antitop->SetMarkerStyle(8);\n",
    "h_lep_z0_tl_Stchan_antitop->SetMarkerSize(0.5);\n",
    "h_lep_z0_tl_Stchan_antitop->SetLineColor(kYellow);\n",
    "//Stop schan histogram\n",
    "h_lep_z0_tl_Sschan->SetMarkerStyle(8);\n",
    "h_lep_z0_tl_Sschan->SetMarkerSize(0.5);\n",
    "h_lep_z0_tl_Sschan->SetLineColor(kBlue);\n",
    "//Stop wtchan histogram\n",
    "h_lep_z0_tl_Swtchan->SetMarkerStyle(8);\n",
    "h_lep_z0_tl_Swtchan->SetMarkerSize(0.5);\n",
    "h_lep_z0_tl_Swtchan->SetLineColor(kGreen);\n",
    "\n",
    "//Merged stop\n",
    "h_lep_z0_tl_mergedS->SetMarkerStyle(8);\n",
    "h_lep_z0_tl_mergedS->SetMarkerSize(0.5);\n",
    "h_lep_z0_tl_mergedS->SetLineColor(kGray);"
   ]
  },
  {
   "cell_type": "markdown",
   "metadata": {},
   "source": [
    "Set Traillepton Z0 atributes for TTBar histograms"
   ]
  },
  {
   "cell_type": "code",
   "execution_count": null,
   "metadata": {
    "collapsed": true
   },
   "outputs": [],
   "source": [
    "//TTBar had histrogram \n",
    "h_lep_z0_tl_TThad->SetMarkerStyle(8);\n",
    "h_lep_z0_tl_TThad->SetMarkerSize(0.5);\n",
    "h_lep_z0_tl_TThad->SetLineColor(kRed);\n",
    "//TTBar lep histrogram\n",
    "h_lep_z0_tl_TTlep->SetMarkerStyle(8);\n",
    "h_lep_z0_tl_TTlep->SetMarkerSize(0.5);\n",
    "h_lep_z0_tl_TTlep->SetLineColor(kYellow);\n",
    "\n",
    "//Merged TTBar\n",
    "h_lep_z0_tl_mergedTT->SetMarkerStyle(8);\n",
    "h_lep_z0_tl_mergedTT->SetMarkerSize(0.5);\n",
    "h_lep_z0_tl_mergedTT->SetLineColor(kRed);"
   ]
  },
  {
   "cell_type": "markdown",
   "metadata": {},
   "source": [
    "Set Traillepton Z0 atributes for W histograms"
   ]
  },
  {
   "cell_type": "code",
   "execution_count": null,
   "metadata": {
    "collapsed": true
   },
   "outputs": [],
   "source": [
    "//W WenuW histogram  \n",
    "h_lep_z0_tl_WenuW->SetMarkerStyle(8);\n",
    "h_lep_z0_tl_WenuW->SetMarkerSize(0.5);\n",
    "h_lep_z0_tl_WenuW->SetLineColor(kRed);\n",
    "\n",
    "//W WenuJ histrogram \n",
    "h_lep_z0_tl_WenuJ->SetMarkerStyle(8);\n",
    "h_lep_z0_tl_WenuJ->SetMarkerSize(0.5);\n",
    "h_lep_z0_tl_WenuJ->SetLineColor(kYellow);\n",
    "//W WenuN histrogram\n",
    "h_lep_z0_tl_WenuN->SetMarkerStyle(8);\n",
    "h_lep_z0_tl_WenuN->SetMarkerSize(0.5);\n",
    "h_lep_z0_tl_WenuN->SetLineColor(kBlue);\n",
    "\n",
    "//WmunuW histrogram\n",
    "h_lep_z0_tl_WmunuW->SetMarkerStyle(8);\n",
    "h_lep_z0_tl_WmunuW->SetMarkerSize(0.5);\n",
    "h_lep_z0_tl_WmunuW->SetLineColor(kGreen);\n",
    "//W WmunuJ histrogram\n",
    "h_lep_z0_tl_WmunuJ->SetMarkerStyle(8);\n",
    "h_lep_z0_tl_WmunuJ->SetMarkerSize(0.5);\n",
    "h_lep_z0_tl_WmunuJ->SetLineColor(kOrange);\n",
    "//W WmunuN histrogram\n",
    "h_lep_z0_tl_WmunuN->SetMarkerStyle(8);\n",
    "h_lep_z0_tl_WmunuN->SetMarkerSize(0.5);\n",
    "h_lep_z0_tl_WmunuN->SetLineColor(kPink);\n",
    "//W WtaunuW histogram  \n",
    "h_lep_z0_tl_WtaunuW->SetMarkerStyle(8);\n",
    "h_lep_z0_tl_WtaunuW->SetMarkerSize(0.5);\n",
    "h_lep_z0_tl_WtaunuW->SetLineColor(kViolet);\n",
    "\n",
    "//W WtaunuJ histrogram \n",
    "h_lep_z0_tl_WtaunuJ->SetMarkerStyle(8);\n",
    "h_lep_z0_tl_WtaunuJ->SetMarkerSize(0.5);\n",
    "h_lep_z0_tl_WtaunuJ->SetLineColor(kAzure);\n",
    "//W WtaunuN histrogram\n",
    "h_lep_z0_tl_WtaunuN->SetMarkerStyle(8);\n",
    "h_lep_z0_tl_WtaunuN->SetMarkerSize(0.5);\n",
    "h_lep_z0_tl_WtaunuN->SetLineColor(kTeal);\n",
    "//Merged W Wenu,Wmunu,Wtaunu\n",
    "h_lep_z0_tl_mergedW->SetMarkerStyle(8);\n",
    "h_lep_z0_tl_mergedW->SetMarkerSize(0.5);\n",
    "h_lep_z0_tl_mergedW->SetLineColor(kGreen);"
   ]
  },
  {
   "cell_type": "markdown",
   "metadata": {},
   "source": [
    "Set atributes for Trailepton D0 histograms"
   ]
  },
  {
   "cell_type": "markdown",
   "metadata": {},
   "source": [
    "Set Traillepton D0 atributes for Z histograms"
   ]
  },
  {
   "cell_type": "code",
   "execution_count": null,
   "metadata": {
    "collapsed": true
   },
   "outputs": [],
   "source": [
    "//D0_TL Histograms\n",
    "//Zee histrogram\n",
    "h_lep_d0_tl_Zee->SetMarkerStyle(8);\n",
    "h_lep_d0_tl_Zee->SetMarkerSize(0.5);\n",
    "h_lep_d0_tl_Zee->SetLineColor(kRed);\n",
    "//Zmumu histrogram \n",
    "h_lep_d0_tl_Zmumu->SetMarkerStyle(8);\n",
    "h_lep_d0_tl_Zmumu->SetMarkerSize(0.5);\n",
    "h_lep_d0_tl_Zmumu->SetLineColor(kYellow);\n",
    "//Ztautau histrogram\n",
    "h_lep_d0_tl_Ztautau->SetMarkerStyle(8);\n",
    "h_lep_d0_tl_Ztautau->SetMarkerSize(0.5);\n",
    "h_lep_d0_tl_Ztautau->SetLineColor(kBlue);\n",
    "//Merged Zee,Zmumu,Ztautau\n",
    "h_lep_d0_tl_mergedZ->SetMarkerStyle(8);\n",
    "h_lep_d0_tl_mergedZ->SetMarkerSize(0.5);\n",
    "h_lep_d0_tl_mergedZ->SetLineColor(kGreen);"
   ]
  },
  {
   "cell_type": "markdown",
   "metadata": {},
   "source": [
    "Set Traillepton Z0 atributes for Diboson histograms"
   ]
  },
  {
   "cell_type": "code",
   "execution_count": null,
   "metadata": {
    "collapsed": true
   },
   "outputs": [],
   "source": [
    "//Diboson WW histogram\n",
    "h_lep_d0_tl_Dww->SetMarkerStyle(8);\n",
    "h_lep_d0_tl_Dww->SetMarkerSize(0.5);\n",
    "h_lep_d0_tl_Dww->SetLineColor(kRed);\n",
    "//Diboson ZZ histogram\n",
    "h_lep_d0_tl_Dzz->SetMarkerStyle(8);\n",
    "h_lep_d0_tl_Dzz->SetMarkerSize(0.5);\n",
    "h_lep_d0_tl_Dzz->SetLineColor(kYellow);\n",
    "//Diboson WZ histogram\n",
    "h_lep_d0_tl_Dwz->SetMarkerStyle(8);\n",
    "h_lep_d0_tl_Dwz->SetMarkerSize(0.5);\n",
    "h_lep_d0_tl_Dwz->SetLineColor(kBlue);\n",
    "//Merged Diboson WW,ZZ,WZ histogram\n",
    "h_lep_d0_tl_mergedD->SetMarkerStyle(8);\n",
    "h_lep_d0_tl_mergedD->SetMarkerSize(0.5);\n",
    "h_lep_d0_tl_mergedD->SetLineColor(kGreen);"
   ]
  },
  {
   "cell_type": "markdown",
   "metadata": {},
   "source": [
    "Set Traillepton Z0 atributes for Drell Yan histograms"
   ]
  },
  {
   "cell_type": "code",
   "execution_count": null,
   "metadata": {
    "collapsed": true
   },
   "outputs": [],
   "source": [
    "//DYee1 histogram\n",
    "h_lep_d0_tl_DYee1->SetMarkerStyle(8);\n",
    "h_lep_d0_tl_DYee1->SetMarkerSize(0.5);\n",
    "h_lep_d0_tl_DYee1->SetLineColor(kRed);\n",
    "//DYee2 histogram\n",
    "h_lep_d0_tl_DYee2->SetMarkerStyle(8);\n",
    "h_lep_d0_tl_DYee2->SetMarkerSize(0.5);\n",
    "h_lep_d0_tl_DYee2->SetLineColor(kYellow);\n",
    "//DYmumu1 histrogram\n",
    "h_lep_d0_tl_DYmumu1->SetMarkerStyle(8);\n",
    "h_lep_d0_tl_DYmumu1->SetMarkerSize(0.5);\n",
    "h_lep_d0_tl_DYmumu1->SetLineColor(kBlue);\n",
    "//DYmumu2 histrogram\n",
    "h_lep_d0_tl_DYmumu2->SetMarkerStyle(8);\n",
    "h_lep_d0_tl_DYmumu2->SetMarkerSize(0.5);\n",
    "h_lep_d0_tl_DYmumu2->SetLineColor(kGreen);\n",
    "//DYtautau1 histrogram\n",
    "h_lep_d0_tl_DYtautau1->SetMarkerStyle(8);\n",
    "h_lep_d0_tl_DYtautau1->SetMarkerSize(0.5);\n",
    "h_lep_d0_tl_DYtautau1->SetLineColor(kOrange);\n",
    "//DYtautau2 histrogram\n",
    "h_lep_d0_tl_DYtautau2->SetMarkerStyle(8);\n",
    "h_lep_d0_tl_DYtautau2->SetMarkerSize(0.5);\n",
    "h_lep_d0_tl_DYtautau2->SetLineColor(kPink);\n",
    "\n",
    "//Merged DY EE,MUMU,TAUTAU histogram\n",
    "h_lep_d0_tl_mergedDY->SetMarkerStyle(8);\n",
    "h_lep_d0_tl_mergedDY->SetMarkerSize(0.5);\n",
    "h_lep_d0_tl_mergedDY->SetLineColor(kGray);"
   ]
  },
  {
   "cell_type": "markdown",
   "metadata": {},
   "source": [
    "Set Traillepton Z0 atributes for Stop histograms"
   ]
  },
  {
   "cell_type": "code",
   "execution_count": null,
   "metadata": {
    "collapsed": true
   },
   "outputs": [],
   "source": [
    "//Stop tchan_top histrogram \n",
    "h_lep_d0_tl_Stchan_top->SetMarkerStyle(8);\n",
    "h_lep_d0_tl_Stchan_top->SetMarkerSize(0.5);\n",
    "h_lep_d0_tl_Stchan_top->SetLineColor(kRed);\n",
    "//Stop tchan_antitop histrogram\n",
    "h_lep_d0_tl_Stchan_antitop->SetMarkerStyle(8);\n",
    "h_lep_d0_tl_Stchan_antitop->SetMarkerSize(0.5);\n",
    "h_lep_d0_tl_Stchan_antitop->SetLineColor(kYellow);\n",
    "//Stop schan histogram\n",
    "h_lep_d0_tl_Sschan->SetMarkerStyle(8);\n",
    "h_lep_d0_tl_Sschan->SetMarkerSize(0.5);\n",
    "h_lep_d0_tl_Sschan->SetLineColor(kBlue);\n",
    "//Stop wtchan histogram\n",
    "h_lep_d0_tl_Swtchan->SetMarkerStyle(8);\n",
    "h_lep_d0_tl_Swtchan->SetMarkerSize(0.5);\n",
    "h_lep_d0_tl_Swtchan->SetLineColor(kGreen);\n",
    "\n",
    "//Merged stop\n",
    "h_lep_d0_tl_mergedS->SetMarkerStyle(8);\n",
    "h_lep_d0_tl_mergedS->SetMarkerSize(0.5);\n",
    "h_lep_d0_tl_mergedS->SetLineColor(kGray);"
   ]
  },
  {
   "cell_type": "markdown",
   "metadata": {},
   "source": [
    "Set Traillepton Z0 atributes for TTBar histograms"
   ]
  },
  {
   "cell_type": "code",
   "execution_count": null,
   "metadata": {
    "collapsed": true
   },
   "outputs": [],
   "source": [
    "//TTBar had histrogram \n",
    "h_lep_d0_tl_TThad->SetMarkerStyle(8);\n",
    "h_lep_d0_tl_TThad->SetMarkerSize(0.5);\n",
    "h_lep_d0_tl_TThad->SetLineColor(kRed);\n",
    "//TTBar lep histrogram\n",
    "h_lep_d0_tl_TTlep->SetMarkerStyle(8);\n",
    "h_lep_d0_tl_TTlep->SetMarkerSize(0.5);\n",
    "h_lep_d0_tl_TTlep->SetLineColor(kYellow);\n",
    "\n",
    "//Merged TTBar\n",
    "h_lep_d0_tl_mergedTT->SetMarkerStyle(8);\n",
    "h_lep_d0_tl_mergedTT->SetMarkerSize(0.5);\n",
    "h_lep_d0_tl_mergedTT->SetLineColor(kRed);"
   ]
  },
  {
   "cell_type": "markdown",
   "metadata": {},
   "source": [
    "Set Traillepton Z0 atributes for W histograms"
   ]
  },
  {
   "cell_type": "code",
   "execution_count": null,
   "metadata": {
    "collapsed": true
   },
   "outputs": [],
   "source": [
    "//W WenuW histogram  \n",
    "h_lep_d0_tl_WenuW->SetMarkerStyle(8);\n",
    "h_lep_d0_tl_WenuW->SetMarkerSize(0.5);\n",
    "h_lep_d0_tl_WenuW->SetLineColor(kRed);\n",
    "\n",
    "//W WenuJ histrogram \n",
    "h_lep_d0_tl_WenuJ->SetMarkerStyle(8);\n",
    "h_lep_d0_tl_WenuJ->SetMarkerSize(0.5);\n",
    "h_lep_d0_tl_WenuJ->SetLineColor(kYellow);\n",
    "//W WenuN histrogram\n",
    "h_lep_d0_tl_WenuN->SetMarkerStyle(8);\n",
    "h_lep_d0_tl_WenuN->SetMarkerSize(0.5);\n",
    "h_lep_d0_tl_WenuN->SetLineColor(kBlue);\n",
    "\n",
    "//WmunuW histrogram\n",
    "h_lep_d0_tl_WmunuW->SetMarkerStyle(8);\n",
    "h_lep_d0_tl_WmunuW->SetMarkerSize(0.5);\n",
    "h_lep_d0_tl_WmunuW->SetLineColor(kGreen);\n",
    "//W WmunuJ histrogram\n",
    "h_lep_d0_tl_WmunuJ->SetMarkerStyle(8);\n",
    "h_lep_d0_tl_WmunuJ->SetMarkerSize(0.5);\n",
    "h_lep_d0_tl_WmunuJ->SetLineColor(kOrange);\n",
    "//W WmunuN histrogram\n",
    "h_lep_d0_tl_WmunuN->SetMarkerStyle(8);\n",
    "h_lep_d0_tl_WmunuN->SetMarkerSize(0.5);\n",
    "h_lep_d0_tl_WmunuN->SetLineColor(kPink);\n",
    "//W WtaunuW histogram  \n",
    "h_lep_d0_tl_WtaunuW->SetMarkerStyle(8);\n",
    "h_lep_d0_tl_WtaunuW->SetMarkerSize(0.5);\n",
    "h_lep_d0_tl_WtaunuW->SetLineColor(kViolet);\n",
    "\n",
    "//W WtaunuJ histrogram \n",
    "h_lep_d0_tl_WtaunuJ->SetMarkerStyle(8);\n",
    "h_lep_d0_tl_WtaunuJ->SetMarkerSize(0.5);\n",
    "h_lep_d0_tl_WtaunuJ->SetLineColor(kAzure);\n",
    "//W WtaunuN histrogram\n",
    "h_lep_d0_tl_WtaunuN->SetMarkerStyle(8);\n",
    "h_lep_d0_tl_WtaunuN->SetMarkerSize(0.5);\n",
    "h_lep_d0_tl_WtaunuN->SetLineColor(kTeal);\n",
    "//Merged W Wenu,Wmunu,Wtaunu\n",
    "h_lep_d0_tl_mergedW->SetMarkerStyle(8);\n",
    "h_lep_d0_tl_mergedW->SetMarkerSize(0.5);\n",
    "h_lep_d0_tl_mergedW->SetLineColor(kGreen);"
   ]
  },
  {
   "cell_type": "markdown",
   "metadata": {},
   "source": [
    "Set atributes for JET NUMBER histograms"
   ]
  },
  {
   "cell_type": "markdown",
   "metadata": {},
   "source": [
    "Set JET NUMBER atributes for Z histograms"
   ]
  },
  {
   "cell_type": "code",
   "execution_count": null,
   "metadata": {
    "collapsed": true
   },
   "outputs": [],
   "source": [
    "//JET_N T Histograms\n",
    "//Zee histrogram\n",
    "h_jet_n_Zee->SetMarkerStyle(8);\n",
    "h_jet_n_Zee->SetMarkerSize(0.5);\n",
    "h_jet_n_Zee->SetLineColor(kRed);\n",
    "//Zmumu histrogram \n",
    "h_jet_n_Zmumu->SetMarkerStyle(8);\n",
    "h_jet_n_Zmumu->SetMarkerSize(0.5);\n",
    "h_jet_n_Zmumu->SetLineColor(kYellow);\n",
    "//Ztautau histrogram\n",
    "h_jet_n_Ztautau->SetMarkerStyle(8);\n",
    "h_jet_n_Ztautau->SetMarkerSize(0.5);\n",
    "h_jet_n_Ztautau->SetLineColor(kBlue);\n",
    "//Merged Zee,Zmumu,Ztautau\n",
    "h_jet_n_mergedZ->SetMarkerStyle(8);\n",
    "h_jet_n_mergedZ->SetMarkerSize(0.5);\n",
    "h_jet_n_mergedZ->SetLineColor(kGreen);"
   ]
  },
  {
   "cell_type": "markdown",
   "metadata": {},
   "source": [
    "Set JET NUMBER atributes for Diboson histograms"
   ]
  },
  {
   "cell_type": "code",
   "execution_count": null,
   "metadata": {
    "collapsed": true
   },
   "outputs": [],
   "source": [
    "//Diboson WW histogram\n",
    "h_jet_n_Dww->SetMarkerStyle(8);\n",
    "h_jet_n_Dww->SetMarkerSize(0.5);\n",
    "h_jet_n_Dww->SetLineColor(kRed);\n",
    "//Diboson ZZ histogram\n",
    "h_jet_n_Dzz->SetMarkerStyle(8);\n",
    "h_jet_n_Dzz->SetMarkerSize(0.5);\n",
    "h_jet_n_Dzz->SetLineColor(kYellow);\n",
    "//Diboson WZ histogram\n",
    "h_jet_n_Dwz->SetMarkerStyle(8);\n",
    "h_jet_n_Dwz->SetMarkerSize(0.5);\n",
    "h_jet_n_Dwz->SetLineColor(kBlue);\n",
    "//Merged Diboson WW,ZZ,WZ histogram\n",
    "h_jet_n_mergedD->SetMarkerStyle(8);\n",
    "h_jet_n_mergedD->SetMarkerSize(0.5);\n",
    "h_jet_n_mergedD->SetLineColor(kGreen);"
   ]
  },
  {
   "cell_type": "markdown",
   "metadata": {},
   "source": [
    "Set JET NUMBER atributes for Drell Yan histograms"
   ]
  },
  {
   "cell_type": "code",
   "execution_count": null,
   "metadata": {
    "collapsed": true
   },
   "outputs": [],
   "source": [
    "//DYee1 histogram\n",
    "h_jet_n_DYee1->SetMarkerStyle(8);\n",
    "h_jet_n_DYee1->SetMarkerSize(0.5);\n",
    "h_jet_n_DYee1->SetLineColor(kRed);\n",
    "//DYee2 histogram\n",
    "h_jet_n_DYee2->SetMarkerStyle(8);\n",
    "h_jet_n_DYee2->SetMarkerSize(0.5);\n",
    "h_jet_n_DYee2->SetLineColor(kYellow);\n",
    "//DYmumu1 histrogram\n",
    "h_jet_n_DYmumu1->SetMarkerStyle(8);\n",
    "h_jet_n_DYmumu1->SetMarkerSize(0.5);\n",
    "h_jet_n_DYmumu1->SetLineColor(kBlue);\n",
    "//DYmumu2 histrogram\n",
    "h_jet_n_DYmumu2->SetMarkerStyle(8);\n",
    "h_jet_n_DYmumu2->SetMarkerSize(0.5);\n",
    "h_jet_n_DYmumu2->SetLineColor(kGreen);\n",
    "//DYtautau1 histrogram\n",
    "h_jet_n_DYtautau1->SetMarkerStyle(8);\n",
    "h_jet_n_DYtautau1->SetMarkerSize(0.5);\n",
    "h_jet_n_DYtautau1->SetLineColor(kOrange);\n",
    "//DYtautau2 histrogram\n",
    "h_jet_n_DYtautau2->SetMarkerStyle(8);\n",
    "h_jet_n_DYtautau2->SetMarkerSize(0.5);\n",
    "h_jet_n_DYtautau2->SetLineColor(kPink);\n",
    "\n",
    "//Merged DY EE,MUMU,TAUTAU histogram\n",
    "h_jet_n_mergedDY->SetMarkerStyle(8);\n",
    "h_jet_n_mergedDY->SetMarkerSize(0.5);\n",
    "h_jet_n_mergedDY->SetLineColor(kGray);"
   ]
  },
  {
   "cell_type": "markdown",
   "metadata": {},
   "source": [
    "Set JET NUMBER atributes for Stop histograms"
   ]
  },
  {
   "cell_type": "code",
   "execution_count": null,
   "metadata": {
    "collapsed": true
   },
   "outputs": [],
   "source": [
    "//Stop tchan_top histrogram \n",
    "h_jet_n_Stchan_top->SetMarkerStyle(8);\n",
    "h_jet_n_Stchan_top->SetMarkerSize(0.5);\n",
    "h_jet_n_Stchan_top->SetLineColor(kRed);\n",
    "//Stop tchan_antitop histrogram\n",
    "h_jet_n_Stchan_antitop->SetMarkerStyle(8);\n",
    "h_jet_n_Stchan_antitop->SetMarkerSize(0.5);\n",
    "h_jet_n_Stchan_antitop->SetLineColor(kYellow);\n",
    "//Stop schan histogram\n",
    "h_jet_n_Sschan->SetMarkerStyle(8);\n",
    "h_jet_n_Sschan->SetMarkerSize(0.5);\n",
    "h_jet_n_Sschan->SetLineColor(kBlue);\n",
    "//Stop wtchan histogram\n",
    "h_jet_n_Swtchan->SetMarkerStyle(8);\n",
    "h_jet_n_Swtchan->SetMarkerSize(0.5);\n",
    "h_jet_n_Swtchan->SetLineColor(kGreen);\n",
    "\n",
    "//Merged stop\n",
    "h_jet_n_mergedS->SetMarkerStyle(8);\n",
    "h_jet_n_mergedS->SetMarkerSize(0.5);\n",
    "h_jet_n_mergedS->SetLineColor(kGray);"
   ]
  },
  {
   "cell_type": "markdown",
   "metadata": {},
   "source": [
    "Set JET NUMBER atributes for TTBar histograms"
   ]
  },
  {
   "cell_type": "code",
   "execution_count": null,
   "metadata": {
    "collapsed": true
   },
   "outputs": [],
   "source": [
    "//TTBar had histrogram \n",
    "h_jet_n_TThad->SetMarkerStyle(8);\n",
    "h_jet_n_TThad->SetMarkerSize(0.5);\n",
    "h_jet_n_TThad->SetLineColor(kRed);\n",
    "//TTBar lep histrogram\n",
    "h_jet_n_TTlep->SetMarkerStyle(8);\n",
    "h_jet_n_TTlep->SetMarkerSize(0.5);\n",
    "h_jet_n_TTlep->SetLineColor(kYellow);\n",
    "\n",
    "//Merged TTBar\n",
    "h_jet_n_mergedTT->SetMarkerStyle(8);\n",
    "h_jet_n_mergedTT->SetMarkerSize(0.5);\n",
    "h_jet_n_mergedTT->SetLineColor(kRed);"
   ]
  },
  {
   "cell_type": "markdown",
   "metadata": {},
   "source": [
    "Set JET NUMBER atributes for W histograms"
   ]
  },
  {
   "cell_type": "code",
   "execution_count": null,
   "metadata": {
    "collapsed": true
   },
   "outputs": [],
   "source": [
    "//W WenuW histogram  \n",
    "h_jet_n_WenuW->SetMarkerStyle(8);\n",
    "h_jet_n_WenuW->SetMarkerSize(0.5);\n",
    "h_jet_n_WenuW->SetLineColor(kRed);\n",
    "\n",
    "//W WenuJ histrogram \n",
    "h_jet_n_WenuJ->SetMarkerStyle(8);\n",
    "h_jet_n_WenuJ->SetMarkerSize(0.5);\n",
    "h_jet_n_WenuJ->SetLineColor(kYellow);\n",
    "//W WenuN histrogram\n",
    "h_jet_n_WenuN->SetMarkerStyle(8);\n",
    "h_jet_n_WenuN->SetMarkerSize(0.5);\n",
    "h_jet_n_WenuN->SetLineColor(kBlue);\n",
    "\n",
    "//WmunuW histrogram\n",
    "h_jet_n_WmunuW->SetMarkerStyle(8);\n",
    "h_jet_n_WmunuW->SetMarkerSize(0.5);\n",
    "h_jet_n_WmunuW->SetLineColor(kGreen);\n",
    "//W WmunuJ histrogram\n",
    "h_jet_n_WmunuJ->SetMarkerStyle(8);\n",
    "h_jet_n_WmunuJ->SetMarkerSize(0.5);\n",
    "h_jet_n_WmunuJ->SetLineColor(kOrange);\n",
    "//W WmunuN histrogram\n",
    "h_jet_n_WmunuN->SetMarkerStyle(8);\n",
    "h_jet_n_WmunuN->SetMarkerSize(0.5);\n",
    "h_jet_n_WmunuN->SetLineColor(kPink);\n",
    "//W WtaunuW histogram  \n",
    "h_jet_n_WtaunuW->SetMarkerStyle(8);\n",
    "h_jet_n_WtaunuW->SetMarkerSize(0.5);\n",
    "h_jet_n_WtaunuW->SetLineColor(kViolet);\n",
    "\n",
    "//W WtaunuJ histrogram \n",
    "h_jet_n_WtaunuJ->SetMarkerStyle(8);\n",
    "h_jet_n_WtaunuJ->SetMarkerSize(0.5);\n",
    "h_jet_n_WtaunuJ->SetLineColor(kAzure);\n",
    "//W WtaunuN histrogram\n",
    "h_jet_n_WtaunuN->SetMarkerStyle(8);\n",
    "h_jet_n_WtaunuN->SetMarkerSize(0.5);\n",
    "h_jet_n_WtaunuN->SetLineColor(kTeal);\n",
    "//Merged W Wenu,Wmunu,Wtaunu\n",
    "h_jet_n_mergedW->SetMarkerStyle(8);\n",
    "h_jet_n_mergedW->SetMarkerSize(0.5);\n",
    "h_jet_n_mergedW->SetLineColor(kGreen);"
   ]
  },
  {
   "cell_type": "markdown",
   "metadata": {},
   "source": [
    "Set atributes for JET PT histograms"
   ]
  },
  {
   "cell_type": "markdown",
   "metadata": {},
   "source": [
    "Set JET PT atributes for Z histograms"
   ]
  },
  {
   "cell_type": "code",
   "execution_count": null,
   "metadata": {
    "collapsed": true
   },
   "outputs": [],
   "source": [
    "//JET_PT T Histograms\n",
    "//Zee histrogram\n",
    "h_jet_pt_Zee->SetMarkerStyle(8);\n",
    "h_jet_pt_Zee->SetMarkerSize(0.5);\n",
    "h_jet_pt_Zee->SetLineColor(kRed);\n",
    "//Zmumu histrogram \n",
    "h_jet_pt_Zmumu->SetMarkerStyle(8);\n",
    "h_jet_pt_Zmumu->SetMarkerSize(0.5);\n",
    "h_jet_pt_Zmumu->SetLineColor(kYellow);\n",
    "//Ztautau histrogram\n",
    "h_jet_pt_Ztautau->SetMarkerStyle(8);\n",
    "h_jet_pt_Ztautau->SetMarkerSize(0.5);\n",
    "h_jet_pt_Ztautau->SetLineColor(kBlue);\n",
    "//Merged Zee,Zmumu,Ztautau\n",
    "h_jet_pt_mergedZ->SetMarkerStyle(8);\n",
    "h_jet_pt_mergedZ->SetMarkerSize(0.5);\n",
    "h_jet_pt_mergedZ->SetLineColor(kGreen);"
   ]
  },
  {
   "cell_type": "markdown",
   "metadata": {},
   "source": [
    "Set JET PT atributes for Diboson histograms"
   ]
  },
  {
   "cell_type": "code",
   "execution_count": null,
   "metadata": {
    "collapsed": true
   },
   "outputs": [],
   "source": [
    "//Diboson WW histogram\n",
    "h_jet_pt_Dww->SetMarkerStyle(8);\n",
    "h_jet_pt_Dww->SetMarkerSize(0.5);\n",
    "h_jet_pt_Dww->SetLineColor(kRed);\n",
    "//Diboson ZZ histogram\n",
    "h_jet_pt_Dzz->SetMarkerStyle(8);\n",
    "h_jet_pt_Dzz->SetMarkerSize(0.5);\n",
    "h_jet_pt_Dzz->SetLineColor(kYellow);\n",
    "//Diboson WZ histogram\n",
    "h_jet_pt_Dwz->SetMarkerStyle(8);\n",
    "h_jet_pt_Dwz->SetMarkerSize(0.5);\n",
    "h_jet_pt_Dwz->SetLineColor(kBlue);\n",
    "//Merged Diboson WW,ZZ,WZ histogram\n",
    "h_jet_pt_mergedD->SetMarkerStyle(8);\n",
    "h_jet_pt_mergedD->SetMarkerSize(0.5);\n",
    "h_jet_pt_mergedD->SetLineColor(kGreen);"
   ]
  },
  {
   "cell_type": "markdown",
   "metadata": {},
   "source": [
    "Set JET PT atributes for Drell Yan histograms"
   ]
  },
  {
   "cell_type": "code",
   "execution_count": null,
   "metadata": {
    "collapsed": true
   },
   "outputs": [],
   "source": [
    "//DYee1 histogram\n",
    "h_jet_pt_DYee1->SetMarkerStyle(8);\n",
    "h_jet_pt_DYee1->SetMarkerSize(0.5);\n",
    "h_jet_pt_DYee1->SetLineColor(kRed);\n",
    "//DYee2 histogram\n",
    "h_jet_pt_DYee2->SetMarkerStyle(8);\n",
    "h_jet_pt_DYee2->SetMarkerSize(0.5);\n",
    "h_jet_pt_DYee2->SetLineColor(kYellow);\n",
    "//DYmumu1 histrogram\n",
    "h_jet_pt_DYmumu1->SetMarkerStyle(8);\n",
    "h_jet_pt_DYmumu1->SetMarkerSize(0.5);\n",
    "h_jet_pt_DYmumu1->SetLineColor(kBlue);\n",
    "//DYmumu2 histrogram\n",
    "h_jet_pt_DYmumu2->SetMarkerStyle(8);\n",
    "h_jet_pt_DYmumu2->SetMarkerSize(0.5);\n",
    "h_jet_pt_DYmumu2->SetLineColor(kGreen);\n",
    "//DYtautau1 histrogram\n",
    "h_jet_pt_DYtautau1->SetMarkerStyle(8);\n",
    "h_jet_pt_DYtautau1->SetMarkerSize(0.5);\n",
    "h_jet_pt_DYtautau1->SetLineColor(kOrange);\n",
    "//DYtautau2 histrogram\n",
    "h_jet_pt_DYtautau2->SetMarkerStyle(8);\n",
    "h_jet_pt_DYtautau2->SetMarkerSize(0.5);\n",
    "h_jet_pt_DYtautau2->SetLineColor(kPink);\n",
    "\n",
    "//Merged DY EE,MUMU,TAUTAU histogram\n",
    "h_jet_pt_mergedDY->SetMarkerStyle(8);\n",
    "h_jet_pt_mergedDY->SetMarkerSize(0.5);\n",
    "h_jet_pt_mergedDY->SetLineColor(kGray);"
   ]
  },
  {
   "cell_type": "markdown",
   "metadata": {},
   "source": [
    "Set JET PT atributes for Stop histograms"
   ]
  },
  {
   "cell_type": "code",
   "execution_count": null,
   "metadata": {
    "collapsed": true
   },
   "outputs": [],
   "source": [
    "//Stop tchan_top histrogram \n",
    "h_jet_pt_Stchan_top->SetMarkerStyle(8);\n",
    "h_jet_pt_Stchan_top->SetMarkerSize(0.5);\n",
    "h_jet_pt_Stchan_top->SetLineColor(kRed);\n",
    "//Stop tchan_antitop histrogram\n",
    "h_jet_pt_Stchan_antitop->SetMarkerStyle(8);\n",
    "h_jet_pt_Stchan_antitop->SetMarkerSize(0.5);\n",
    "h_jet_pt_Stchan_antitop->SetLineColor(kYellow);\n",
    "//Stop schan histogram\n",
    "h_jet_pt_Sschan->SetMarkerStyle(8);\n",
    "h_jet_pt_Sschan->SetMarkerSize(0.5);\n",
    "h_jet_pt_Sschan->SetLineColor(kBlue);\n",
    "//Stop wtchan histogram\n",
    "h_jet_pt_Swtchan->SetMarkerStyle(8);\n",
    "h_jet_pt_Swtchan->SetMarkerSize(0.5);\n",
    "h_jet_pt_Swtchan->SetLineColor(kGreen);\n",
    "\n",
    "//Merged stop\n",
    "h_jet_pt_mergedS->SetMarkerStyle(8);\n",
    "h_jet_pt_mergedS->SetMarkerSize(0.5);\n",
    "h_jet_pt_mergedS->SetLineColor(kGray);"
   ]
  },
  {
   "cell_type": "markdown",
   "metadata": {},
   "source": [
    "Set JET PT atributes for TTBar histograms"
   ]
  },
  {
   "cell_type": "code",
   "execution_count": null,
   "metadata": {
    "collapsed": true
   },
   "outputs": [],
   "source": [
    "//TTBar had histrogram \n",
    "h_jet_pt_TThad->SetMarkerStyle(8);\n",
    "h_jet_pt_TThad->SetMarkerSize(0.5);\n",
    "h_jet_pt_TThad->SetLineColor(kRed);\n",
    "//TTBar lep histrogram\n",
    "h_jet_pt_TTlep->SetMarkerStyle(8);\n",
    "h_jet_pt_TTlep->SetMarkerSize(0.5);\n",
    "h_jet_pt_TTlep->SetLineColor(kYellow);\n",
    "\n",
    "//Merged TTBar\n",
    "h_jet_pt_mergedTT->SetMarkerStyle(8);\n",
    "h_jet_pt_mergedTT->SetMarkerSize(0.5);\n",
    "h_jet_pt_mergedTT->SetLineColor(kRed);"
   ]
  },
  {
   "cell_type": "markdown",
   "metadata": {},
   "source": [
    "Set JET PT atributes for W histograms"
   ]
  },
  {
   "cell_type": "code",
   "execution_count": null,
   "metadata": {
    "collapsed": true
   },
   "outputs": [],
   "source": [
    "//W WenuW histogram  \n",
    "h_jet_pt_WenuW->SetMarkerStyle(8);\n",
    "h_jet_pt_WenuW->SetMarkerSize(0.5);\n",
    "h_jet_pt_WenuW->SetLineColor(kRed);\n",
    "\n",
    "//W WenuJ histrogram \n",
    "h_jet_pt_WenuJ->SetMarkerStyle(8);\n",
    "h_jet_pt_WenuJ->SetMarkerSize(0.5);\n",
    "h_jet_pt_WenuJ->SetLineColor(kYellow);\n",
    "//W WenuN histrogram\n",
    "h_jet_pt_WenuN->SetMarkerStyle(8);\n",
    "h_jet_pt_WenuN->SetMarkerSize(0.5);\n",
    "h_jet_pt_WenuN->SetLineColor(kBlue);\n",
    "\n",
    "//WmunuW histrogram\n",
    "h_jet_pt_WmunuW->SetMarkerStyle(8);\n",
    "h_jet_pt_WmunuW->SetMarkerSize(0.5);\n",
    "h_jet_pt_WmunuW->SetLineColor(kGreen);\n",
    "//W WmunuJ histrogram\n",
    "h_jet_pt_WmunuJ->SetMarkerStyle(8);\n",
    "h_jet_pt_WmunuJ->SetMarkerSize(0.5);\n",
    "h_jet_pt_WmunuJ->SetLineColor(kOrange);\n",
    "//W WmunuN histrogram\n",
    "h_jet_pt_WmunuN->SetMarkerStyle(8);\n",
    "h_jet_pt_WmunuN->SetMarkerSize(0.5);\n",
    "h_jet_pt_WmunuN->SetLineColor(kPink);\n",
    "//W WtaunuW histogram  \n",
    "h_jet_pt_WtaunuW->SetMarkerStyle(8);\n",
    "h_jet_pt_WtaunuW->SetMarkerSize(0.5);\n",
    "h_jet_pt_WtaunuW->SetLineColor(kViolet);\n",
    "\n",
    "//W WtaunuJ histrogram \n",
    "h_jet_pt_WtaunuJ->SetMarkerStyle(8);\n",
    "h_jet_pt_WtaunuJ->SetMarkerSize(0.5);\n",
    "h_jet_pt_WtaunuJ->SetLineColor(kAzure);\n",
    "//W WtaunuN histrogram\n",
    "h_jet_pt_WtaunuN->SetMarkerStyle(8);\n",
    "h_jet_pt_WtaunuN->SetMarkerSize(0.5);\n",
    "h_jet_pt_WtaunuN->SetLineColor(kTeal);\n",
    "//Merged W Wenu,Wmunu,Wtaunu\n",
    "h_jet_pt_mergedW->SetMarkerStyle(8);\n",
    "h_jet_pt_mergedW->SetMarkerSize(0.5);\n",
    "h_jet_pt_mergedW->SetLineColor(kRed);"
   ]
  },
  {
   "cell_type": "markdown",
   "metadata": {},
   "source": [
    "Set atributes for JET ETA histograms"
   ]
  },
  {
   "cell_type": "markdown",
   "metadata": {},
   "source": [
    "Set JET ETA atributes for Z histograms"
   ]
  },
  {
   "cell_type": "code",
   "execution_count": null,
   "metadata": {
    "collapsed": true
   },
   "outputs": [],
   "source": [
    "//JET_ETA HISTOGRAMS\n",
    "\n",
    "//Zee histrogram\n",
    "h_jet_eta_Zee->SetMarkerStyle(8);\n",
    "h_jet_eta_Zee->SetMarkerSize(0.5);\n",
    "h_jet_eta_Zee->SetLineColor(kRed);\n",
    "//Zmumu histrogram \n",
    "h_jet_eta_Zmumu->SetMarkerStyle(8);\n",
    "h_jet_eta_Zmumu->SetMarkerSize(0.5);\n",
    "h_jet_eta_Zmumu->SetLineColor(kYellow);\n",
    "//Ztautau histrogram\n",
    "h_jet_eta_Ztautau->SetMarkerStyle(8);\n",
    "h_jet_eta_Ztautau->SetMarkerSize(0.5);\n",
    "h_jet_eta_Ztautau->SetLineColor(kBlue);\n",
    "//Merged Zee,Zmumu,Ztautau\n",
    "h_jet_eta_mergedZ->SetMarkerStyle(8);\n",
    "h_jet_eta_mergedZ->SetMarkerSize(0.5);\n",
    "h_jet_eta_mergedZ->SetLineColor(kGreen);"
   ]
  },
  {
   "cell_type": "markdown",
   "metadata": {},
   "source": [
    "Set JET ETA atributes for Diboson histograms"
   ]
  },
  {
   "cell_type": "code",
   "execution_count": null,
   "metadata": {
    "collapsed": true
   },
   "outputs": [],
   "source": [
    "//Diboson WW histogram\n",
    "h_jet_eta_Dww->SetMarkerStyle(8);\n",
    "h_jet_eta_Dww->SetMarkerSize(0.5);\n",
    "h_jet_eta_Dww->SetLineColor(kRed);\n",
    "//Diboson ZZ histogram\n",
    "h_jet_eta_Dzz->SetMarkerStyle(8);\n",
    "h_jet_eta_Dzz->SetMarkerSize(0.5);\n",
    "h_jet_eta_Dzz->SetLineColor(kYellow);\n",
    "//Diboson WZ histogram\n",
    "h_jet_eta_Dwz->SetMarkerStyle(8);\n",
    "h_jet_eta_Dwz->SetMarkerSize(0.5);\n",
    "h_jet_eta_Dwz->SetLineColor(kBlue);\n",
    "//Merged Diboson WW,ZZ,WZ histogram\n",
    "h_jet_eta_mergedD->SetMarkerStyle(8);\n",
    "h_jet_eta_mergedD->SetMarkerSize(0.5);\n",
    "h_jet_eta_mergedD->SetLineColor(kGreen);"
   ]
  },
  {
   "cell_type": "markdown",
   "metadata": {},
   "source": [
    "Set JET ETA atributes for Drell Yan histograms"
   ]
  },
  {
   "cell_type": "code",
   "execution_count": null,
   "metadata": {
    "collapsed": true
   },
   "outputs": [],
   "source": [
    "//DYee1 histogram\n",
    "h_jet_eta_DYee1->SetMarkerStyle(8);\n",
    "h_jet_eta_DYee1->SetMarkerSize(0.5);\n",
    "h_jet_eta_DYee1->SetLineColor(kRed);\n",
    "//DYee2 histogram\n",
    "h_jet_eta_DYee2->SetMarkerStyle(8);\n",
    "h_jet_eta_DYee2->SetMarkerSize(0.5);\n",
    "h_jet_eta_DYee2->SetLineColor(kYellow);\n",
    "//DYmumu1 histrogram\n",
    "h_jet_eta_DYmumu1->SetMarkerStyle(8);\n",
    "h_jet_eta_DYmumu1->SetMarkerSize(0.5);\n",
    "h_jet_eta_DYmumu1->SetLineColor(kBlue);\n",
    "//DYmumu2 histrogram\n",
    "h_jet_eta_DYmumu2->SetMarkerStyle(8);\n",
    "h_jet_eta_DYmumu2->SetMarkerSize(0.5);\n",
    "h_jet_eta_DYmumu2->SetLineColor(kGreen);\n",
    "//DYtautau1 histrogram\n",
    "h_jet_eta_DYtautau1->SetMarkerStyle(8);\n",
    "h_jet_eta_DYtautau1->SetMarkerSize(0.5);\n",
    "h_jet_eta_DYtautau1->SetLineColor(kOrange);\n",
    "//DYtautau2 histrogram\n",
    "h_jet_eta_DYtautau2->SetMarkerStyle(8);\n",
    "h_jet_eta_DYtautau2->SetMarkerSize(0.5);\n",
    "h_jet_eta_DYtautau2->SetLineColor(kPink);\n",
    "\n",
    "//Merged DY EE,MUMU,TAUTAU histogram\n",
    "h_jet_eta_mergedDY->SetMarkerStyle(8);\n",
    "h_jet_eta_mergedDY->SetMarkerSize(0.5);\n",
    "h_jet_eta_mergedDY->SetLineColor(kGray);"
   ]
  },
  {
   "cell_type": "markdown",
   "metadata": {},
   "source": [
    "Set JET ETA atributes for Stop histograms"
   ]
  },
  {
   "cell_type": "code",
   "execution_count": null,
   "metadata": {
    "collapsed": true
   },
   "outputs": [],
   "source": [
    "//Stop tchan_top histrogram \n",
    "h_jet_eta_Stchan_top->SetMarkerStyle(8);\n",
    "h_jet_eta_Stchan_top->SetMarkerSize(0.5);\n",
    "h_jet_eta_Stchan_top->SetLineColor(kRed);\n",
    "//Stop tchan_antitop histrogram\n",
    "h_jet_eta_Stchan_antitop->SetMarkerStyle(8);\n",
    "h_jet_eta_Stchan_antitop->SetMarkerSize(0.5);\n",
    "h_jet_eta_Stchan_antitop->SetLineColor(kYellow);\n",
    "//Stop schan histogram\n",
    "h_jet_eta_Sschan->SetMarkerStyle(8);\n",
    "h_jet_eta_Sschan->SetMarkerSize(0.5);\n",
    "h_jet_eta_Sschan->SetLineColor(kBlue);\n",
    "//Stop wtchan histogram\n",
    "h_jet_eta_Swtchan->SetMarkerStyle(8);\n",
    "h_jet_eta_Swtchan->SetMarkerSize(0.5);\n",
    "h_jet_eta_Swtchan->SetLineColor(kGreen);\n",
    "\n",
    "//Merged stop\n",
    "h_jet_eta_mergedS->SetMarkerStyle(8);\n",
    "h_jet_eta_mergedS->SetMarkerSize(0.5);\n",
    "h_jet_eta_mergedS->SetLineColor(kGray);\n"
   ]
  },
  {
   "cell_type": "markdown",
   "metadata": {},
   "source": [
    "Set JET ETA atributes for TTBar histograms"
   ]
  },
  {
   "cell_type": "code",
   "execution_count": null,
   "metadata": {
    "collapsed": true
   },
   "outputs": [],
   "source": [
    "//TTBar had histrogram \n",
    "h_jet_eta_TThad->SetMarkerStyle(8);\n",
    "h_jet_eta_TThad->SetMarkerSize(0.5);\n",
    "h_jet_eta_TThad->SetLineColor(kRed);\n",
    "//TTBar lep histrogram\n",
    "h_jet_eta_TTlep->SetMarkerStyle(8);\n",
    "h_jet_eta_TTlep->SetMarkerSize(0.5);\n",
    "h_jet_eta_TTlep->SetLineColor(kYellow);\n",
    "\n",
    "//Merged TTBar\n",
    "h_jet_eta_mergedTT->SetMarkerStyle(8);\n",
    "h_jet_eta_mergedTT->SetMarkerSize(0.5);\n",
    "h_jet_eta_mergedTT->SetLineColor(kRed);"
   ]
  },
  {
   "cell_type": "markdown",
   "metadata": {},
   "source": [
    "Set JET ETA atributes for W histograms"
   ]
  },
  {
   "cell_type": "code",
   "execution_count": null,
   "metadata": {
    "collapsed": true
   },
   "outputs": [],
   "source": [
    "//W WenuW histogram  \n",
    "h_jet_eta_WenuW->SetMarkerStyle(8);\n",
    "h_jet_eta_WenuW->SetMarkerSize(0.5);\n",
    "h_jet_eta_WenuW->SetLineColor(kRed);\n",
    "\n",
    "//W WenuJ histrogram \n",
    "h_jet_eta_WenuJ->SetMarkerStyle(8);\n",
    "h_jet_eta_WenuJ->SetMarkerSize(0.5);\n",
    "h_jet_eta_WenuJ->SetLineColor(kYellow);\n",
    "//W WenuN histrogram\n",
    "h_jet_eta_WenuN->SetMarkerStyle(8);\n",
    "h_jet_eta_WenuN->SetMarkerSize(0.5);\n",
    "h_jet_eta_WenuN->SetLineColor(kBlue);\n",
    "\n",
    "//WmunuW histrogram\n",
    "h_jet_eta_WmunuW->SetMarkerStyle(8);\n",
    "h_jet_eta_WmunuW->SetMarkerSize(0.5);\n",
    "h_jet_eta_WmunuW->SetLineColor(kGreen);\n",
    "//W WmunuJ histrogram\n",
    "h_jet_eta_WmunuJ->SetMarkerStyle(8);\n",
    "h_jet_eta_WmunuJ->SetMarkerSize(0.5);\n",
    "h_jet_eta_WmunuJ->SetLineColor(kOrange);\n",
    "//W WmunuN histrogram\n",
    "h_jet_eta_WmunuN->SetMarkerStyle(8);\n",
    "h_jet_eta_WmunuN->SetMarkerSize(0.5);\n",
    "h_jet_eta_WmunuN->SetLineColor(kPink);\n",
    "//W WtaunuW histogram  \n",
    "h_jet_eta_WtaunuW->SetMarkerStyle(8);\n",
    "h_jet_eta_WtaunuW->SetMarkerSize(0.5);\n",
    "h_jet_eta_WtaunuW->SetLineColor(kViolet);\n",
    "\n",
    "//W WtaunuJ histrogram \n",
    "h_jet_eta_WtaunuJ->SetMarkerStyle(8);\n",
    "h_jet_eta_WtaunuJ->SetMarkerSize(0.5);\n",
    "h_jet_eta_WtaunuJ->SetLineColor(kAzure);\n",
    "//W WtaunuN histrogram\n",
    "h_jet_eta_WtaunuN->SetMarkerStyle(8);\n",
    "h_jet_eta_WtaunuN->SetMarkerSize(0.5);\n",
    "h_jet_eta_WtaunuN->SetLineColor(kTeal);\n",
    "//Merged W Wenu,Wmunu,Wtaunu\n",
    "h_jet_eta_mergedW->SetMarkerStyle(8);\n",
    "h_jet_eta_mergedW->SetMarkerSize(0.5);\n",
    "h_jet_eta_mergedW->SetLineColor(kGreen);"
   ]
  },
  {
   "cell_type": "markdown",
   "metadata": {},
   "source": [
    "Set atributes for JET M histograms"
   ]
  },
  {
   "cell_type": "markdown",
   "metadata": {},
   "source": [
    "Set JET M atributes for Z histograms"
   ]
  },
  {
   "cell_type": "code",
   "execution_count": null,
   "metadata": {
    "collapsed": true
   },
   "outputs": [],
   "source": [
    "//JET_M T Histograms\n",
    "//Zee histrogram\n",
    "h_jet_m_Zee->SetMarkerStyle(8);\n",
    "h_jet_m_Zee->SetMarkerSize(0.5);\n",
    "h_jet_m_Zee->SetLineColor(kRed);\n",
    "//Zmumu histrogram \n",
    "h_jet_m_Zmumu->SetMarkerStyle(8);\n",
    "h_jet_m_Zmumu->SetMarkerSize(0.5);\n",
    "h_jet_m_Zmumu->SetLineColor(kYellow);\n",
    "//Ztautau histrogram\n",
    "h_jet_m_Ztautau->SetMarkerStyle(8);\n",
    "h_jet_m_Ztautau->SetMarkerSize(0.5);\n",
    "h_jet_m_Ztautau->SetLineColor(kBlue);\n",
    "//Merged Zee,Zmumu,Ztautau\n",
    "h_jet_m_mergedZ->SetMarkerStyle(8);\n",
    "h_jet_m_mergedZ->SetMarkerSize(0.5);\n",
    "h_jet_m_mergedZ->SetLineColor(kGreen);"
   ]
  },
  {
   "cell_type": "markdown",
   "metadata": {},
   "source": [
    "Set JET M atributes for Diboson histograms"
   ]
  },
  {
   "cell_type": "code",
   "execution_count": null,
   "metadata": {
    "collapsed": true
   },
   "outputs": [],
   "source": [
    "//Diboson WW histogram\n",
    "h_jet_m_Dww->SetMarkerStyle(8);\n",
    "h_jet_m_Dww->SetMarkerSize(0.5);\n",
    "h_jet_m_Dww->SetLineColor(kRed);\n",
    "//Diboson ZZ histogram\n",
    "h_jet_m_Dzz->SetMarkerStyle(8);\n",
    "h_jet_m_Dzz->SetMarkerSize(0.5);\n",
    "h_jet_m_Dzz->SetLineColor(kYellow);\n",
    "//Diboson WZ histogram\n",
    "h_jet_m_Dwz->SetMarkerStyle(8);\n",
    "h_jet_m_Dwz->SetMarkerSize(0.5);\n",
    "h_jet_m_Dwz->SetLineColor(kBlue);\n",
    "//Merged Diboson WW,ZZ,WZ histogram\n",
    "h_jet_m_mergedD->SetMarkerStyle(8);\n",
    "h_jet_m_mergedD->SetMarkerSize(0.5);\n",
    "h_jet_m_mergedD->SetLineColor(kGreen);"
   ]
  },
  {
   "cell_type": "markdown",
   "metadata": {},
   "source": [
    "Set JET M atributes for Drell Yan histograms"
   ]
  },
  {
   "cell_type": "code",
   "execution_count": null,
   "metadata": {
    "collapsed": true
   },
   "outputs": [],
   "source": [
    "//DYee1 histogram\n",
    "h_jet_m_DYee1->SetMarkerStyle(8);\n",
    "h_jet_m_DYee1->SetMarkerSize(0.5);\n",
    "h_jet_m_DYee1->SetLineColor(kRed);\n",
    "//DYee2 histogram\n",
    "h_jet_m_DYee2->SetMarkerStyle(8);\n",
    "h_jet_m_DYee2->SetMarkerSize(0.5);\n",
    "h_jet_m_DYee2->SetLineColor(kYellow);\n",
    "//DYmumu1 histrogram\n",
    "h_jet_m_DYmumu1->SetMarkerStyle(8);\n",
    "h_jet_m_DYmumu1->SetMarkerSize(0.5);\n",
    "h_jet_m_DYmumu1->SetLineColor(kBlue);\n",
    "//DYmumu2 histrogram\n",
    "h_jet_m_DYmumu2->SetMarkerStyle(8);\n",
    "h_jet_m_DYmumu2->SetMarkerSize(0.5);\n",
    "h_jet_m_DYmumu2->SetLineColor(kGreen);\n",
    "//DYtautau1 histrogram\n",
    "h_jet_m_DYtautau1->SetMarkerStyle(8);\n",
    "h_jet_m_DYtautau1->SetMarkerSize(0.5);\n",
    "h_jet_m_DYtautau1->SetLineColor(kOrange);\n",
    "//DYtautau2 histrogram\n",
    "h_jet_m_DYtautau2->SetMarkerStyle(8);\n",
    "h_jet_m_DYtautau2->SetMarkerSize(0.5);\n",
    "h_jet_m_DYtautau2->SetLineColor(kPink);\n",
    "\n",
    "//Merged DY EE,MUMU,TAUTAU histogram\n",
    "h_jet_m_mergedDY->SetMarkerStyle(8);\n",
    "h_jet_m_mergedDY->SetMarkerSize(0.5);\n",
    "h_jet_m_mergedDY->SetLineColor(kGray);"
   ]
  },
  {
   "cell_type": "markdown",
   "metadata": {},
   "source": [
    "Set JET M atributes for Stop histograms"
   ]
  },
  {
   "cell_type": "code",
   "execution_count": null,
   "metadata": {
    "collapsed": true
   },
   "outputs": [],
   "source": [
    "//Stop tchan_top histrogram \n",
    "h_jet_m_Stchan_top->SetMarkerStyle(8);\n",
    "h_jet_m_Stchan_top->SetMarkerSize(0.5);\n",
    "h_jet_m_Stchan_top->SetLineColor(kRed);\n",
    "//Stop tchan_antitop histrogram\n",
    "h_jet_m_Stchan_antitop->SetMarkerStyle(8);\n",
    "h_jet_m_Stchan_antitop->SetMarkerSize(0.5);\n",
    "h_jet_m_Stchan_antitop->SetLineColor(kYellow);\n",
    "//Stop schan histogram\n",
    "h_jet_m_Sschan->SetMarkerStyle(8);\n",
    "h_jet_m_Sschan->SetMarkerSize(0.5);\n",
    "h_jet_m_Sschan->SetLineColor(kBlue);\n",
    "//Stop wtchan histogram\n",
    "h_jet_m_Swtchan->SetMarkerStyle(8);\n",
    "h_jet_m_Swtchan->SetMarkerSize(0.5);\n",
    "h_jet_m_Swtchan->SetLineColor(kGreen);\n",
    "\n",
    "//Merged stop\n",
    "h_jet_m_mergedS->SetMarkerStyle(8);\n",
    "h_jet_m_mergedS->SetMarkerSize(0.5);\n",
    "h_jet_m_mergedS->SetLineColor(kGray);"
   ]
  },
  {
   "cell_type": "markdown",
   "metadata": {},
   "source": [
    "Set JET M atributes for TTBar histograms"
   ]
  },
  {
   "cell_type": "code",
   "execution_count": null,
   "metadata": {
    "collapsed": true
   },
   "outputs": [],
   "source": [
    "//TTBar had histrogram \n",
    "h_jet_m_TThad->SetMarkerStyle(8);\n",
    "h_jet_m_TThad->SetMarkerSize(0.5);\n",
    "h_jet_m_TThad->SetLineColor(kRed);\n",
    "//TTBar lep histrogram\n",
    "h_jet_m_TTlep->SetMarkerStyle(8);\n",
    "h_jet_m_TTlep->SetMarkerSize(0.5);\n",
    "h_jet_m_TTlep->SetLineColor(kYellow);\n",
    "\n",
    "//Merged TTBar\n",
    "h_jet_m_mergedTT->SetMarkerStyle(8);\n",
    "h_jet_m_mergedTT->SetMarkerSize(0.5);\n",
    "h_jet_m_mergedTT->SetLineColor(kRed);"
   ]
  },
  {
   "cell_type": "markdown",
   "metadata": {},
   "source": [
    "Set JET M atributes for W histograms"
   ]
  },
  {
   "cell_type": "code",
   "execution_count": null,
   "metadata": {
    "collapsed": true
   },
   "outputs": [],
   "source": [
    "//W WenuW histogram  \n",
    "h_jet_m_WenuW->SetMarkerStyle(8);\n",
    "h_jet_m_WenuW->SetMarkerSize(0.5);\n",
    "h_jet_m_WenuW->SetLineColor(kRed);\n",
    "\n",
    "//W WenuJ histrogram \n",
    "h_jet_m_WenuJ->SetMarkerStyle(8);\n",
    "h_jet_m_WenuJ->SetMarkerSize(0.5);\n",
    "h_jet_m_WenuJ->SetLineColor(kYellow);\n",
    "//W WenuN histrogram\n",
    "h_jet_m_WenuN->SetMarkerStyle(8);\n",
    "h_jet_m_WenuN->SetMarkerSize(0.5);\n",
    "h_jet_m_WenuN->SetLineColor(kBlue);\n",
    "\n",
    "//WmunuW histrogram\n",
    "h_jet_m_WmunuW->SetMarkerStyle(8);\n",
    "h_jet_m_WmunuW->SetMarkerSize(0.5);\n",
    "h_jet_m_WmunuW->SetLineColor(kGreen);\n",
    "//W WmunuJ histrogram\n",
    "h_jet_m_WmunuJ->SetMarkerStyle(8);\n",
    "h_jet_m_WmunuJ->SetMarkerSize(0.5);\n",
    "h_jet_m_WmunuJ->SetLineColor(kOrange);\n",
    "//W WmunuN histrogram\n",
    "h_jet_m_WmunuN->SetMarkerStyle(8);\n",
    "h_jet_m_WmunuN->SetMarkerSize(0.5);\n",
    "h_jet_m_WmunuN->SetLineColor(kPink);\n",
    "//W WtaunuW histogram  \n",
    "h_jet_m_WtaunuW->SetMarkerStyle(8);\n",
    "h_jet_m_WtaunuW->SetMarkerSize(0.5);\n",
    "h_jet_m_WtaunuW->SetLineColor(kViolet);\n",
    "\n",
    "//W WtaunuJ histrogram \n",
    "h_jet_m_WtaunuJ->SetMarkerStyle(8);\n",
    "h_jet_m_WtaunuJ->SetMarkerSize(0.5);\n",
    "h_jet_m_WtaunuJ->SetLineColor(kAzure);\n",
    "//W WtaunuN histrogram\n",
    "h_jet_m_WtaunuN->SetMarkerStyle(8);\n",
    "h_jet_m_WtaunuN->SetMarkerSize(0.5);\n",
    "h_jet_m_WtaunuN->SetLineColor(kTeal);\n",
    "//Merged W Wenu,Wmunu,Wtaunu\n",
    "h_jet_m_mergedW->SetMarkerStyle(8);\n",
    "h_jet_m_mergedW->SetMarkerSize(0.5);\n",
    "h_jet_m_mergedW->SetLineColor(kGreen);"
   ]
  },
  {
   "cell_type": "markdown",
   "metadata": {},
   "source": [
    "Set atributes for JET JVF histograms"
   ]
  },
  {
   "cell_type": "markdown",
   "metadata": {},
   "source": [
    "Set JET JVF atributes for Z histograms"
   ]
  },
  {
   "cell_type": "code",
   "execution_count": null,
   "metadata": {
    "collapsed": true
   },
   "outputs": [],
   "source": [
    "//JET_JVF HISTOGRAMS\n",
    "\n",
    "//Zee histrogram\n",
    "h_jet_jvf_Zee->SetMarkerStyle(8);\n",
    "h_jet_jvf_Zee->SetMarkerSize(0.5);\n",
    "h_jet_jvf_Zee->SetLineColor(kRed);\n",
    "//Zmumu histrogram \n",
    "h_jet_jvf_Zmumu->SetMarkerStyle(8);\n",
    "h_jet_jvf_Zmumu->SetMarkerSize(0.5);\n",
    "h_jet_jvf_Zmumu->SetLineColor(kYellow);\n",
    "//Ztautau histrogram\n",
    "h_jet_jvf_Ztautau->SetMarkerStyle(8);\n",
    "h_jet_jvf_Ztautau->SetMarkerSize(0.5);\n",
    "h_jet_jvf_Ztautau->SetLineColor(kBlue);\n",
    "//Merged Zee,Zmumu,Ztautau\n",
    "h_jet_jvf_mergedZ->SetMarkerStyle(8);\n",
    "h_jet_jvf_mergedZ->SetMarkerSize(0.5);\n",
    "h_jet_jvf_mergedZ->SetLineColor(kGreen);"
   ]
  },
  {
   "cell_type": "markdown",
   "metadata": {},
   "source": [
    "Set JET JVF atributes for Diboson histograms"
   ]
  },
  {
   "cell_type": "code",
   "execution_count": null,
   "metadata": {
    "collapsed": true
   },
   "outputs": [],
   "source": [
    "//Diboson WW histogram\n",
    "h_jet_jvf_Dww->SetMarkerStyle(8);\n",
    "h_jet_jvf_Dww->SetMarkerSize(0.5);\n",
    "h_jet_jvf_Dww->SetLineColor(kRed);\n",
    "//Diboson ZZ histogram\n",
    "h_jet_jvf_Dzz->SetMarkerStyle(8);\n",
    "h_jet_jvf_Dzz->SetMarkerSize(0.5);\n",
    "h_jet_jvf_Dzz->SetLineColor(kYellow);\n",
    "//Diboson WZ histogram\n",
    "h_jet_jvf_Dwz->SetMarkerStyle(8);\n",
    "h_jet_jvf_Dwz->SetMarkerSize(0.5);\n",
    "h_jet_jvf_Dwz->SetLineColor(kBlue);\n",
    "//Merged Diboson WW,ZZ,WZ histogram\n",
    "h_jet_jvf_mergedD->SetMarkerStyle(8);\n",
    "h_jet_jvf_mergedD->SetMarkerSize(0.5);\n",
    "h_jet_jvf_mergedD->SetLineColor(kGreen);"
   ]
  },
  {
   "cell_type": "markdown",
   "metadata": {},
   "source": [
    "Set JET JVF atributes for Drell Yan histograms"
   ]
  },
  {
   "cell_type": "code",
   "execution_count": null,
   "metadata": {
    "collapsed": true
   },
   "outputs": [],
   "source": [
    "//DYee1 histogram\n",
    "h_jet_jvf_DYee1->SetMarkerStyle(8);\n",
    "h_jet_jvf_DYee1->SetMarkerSize(0.5);\n",
    "h_jet_jvf_DYee1->SetLineColor(kRed);\n",
    "//DYee2 histogram\n",
    "h_jet_jvf_DYee2->SetMarkerStyle(8);\n",
    "h_jet_jvf_DYee2->SetMarkerSize(0.5);\n",
    "h_jet_jvf_DYee2->SetLineColor(kYellow);\n",
    "//DYmumu1 histrogram\n",
    "h_jet_jvf_DYmumu1->SetMarkerStyle(8);\n",
    "h_jet_jvf_DYmumu1->SetMarkerSize(0.5);\n",
    "h_jet_jvf_DYmumu1->SetLineColor(kBlue);\n",
    "//DYmumu2 histrogram\n",
    "h_jet_jvf_DYmumu2->SetMarkerStyle(8);\n",
    "h_jet_jvf_DYmumu2->SetMarkerSize(0.5);\n",
    "h_jet_jvf_DYmumu2->SetLineColor(kGreen);\n",
    "//DYtautau1 histrogram\n",
    "h_jet_jvf_DYtautau1->SetMarkerStyle(8);\n",
    "h_jet_jvf_DYtautau1->SetMarkerSize(0.5);\n",
    "h_jet_jvf_DYtautau1->SetLineColor(kOrange);\n",
    "//DYtautau2 histrogram\n",
    "h_jet_jvf_DYtautau2->SetMarkerStyle(8);\n",
    "h_jet_jvf_DYtautau2->SetMarkerSize(0.5);\n",
    "h_jet_jvf_DYtautau2->SetLineColor(kPink);\n",
    "\n",
    "//Merged DY EE,MUMU,TAUTAU histogram\n",
    "h_jet_jvf_mergedDY->SetMarkerStyle(8);\n",
    "h_jet_jvf_mergedDY->SetMarkerSize(0.5);\n",
    "h_jet_jvf_mergedDY->SetLineColor(kGray);"
   ]
  },
  {
   "cell_type": "markdown",
   "metadata": {},
   "source": [
    "Set JET JVF atributes for Stop histograms"
   ]
  },
  {
   "cell_type": "code",
   "execution_count": null,
   "metadata": {
    "collapsed": true
   },
   "outputs": [],
   "source": [
    "//Stop tchan_top histrogram \n",
    "h_jet_jvf_Stchan_top->SetMarkerStyle(8);\n",
    "h_jet_jvf_Stchan_top->SetMarkerSize(0.5);\n",
    "h_jet_jvf_Stchan_top->SetLineColor(kRed);\n",
    "//Stop tchan_antitop histrogram\n",
    "h_jet_jvf_Stchan_antitop->SetMarkerStyle(8);\n",
    "h_jet_jvf_Stchan_antitop->SetMarkerSize(0.5);\n",
    "h_jet_jvf_Stchan_antitop->SetLineColor(kYellow);\n",
    "//Stop schan histogram\n",
    "h_jet_jvf_Sschan->SetMarkerStyle(8);\n",
    "h_jet_jvf_Sschan->SetMarkerSize(0.5);\n",
    "h_jet_jvf_Sschan->SetLineColor(kBlue);\n",
    "//Stop wtchan histogram\n",
    "h_jet_jvf_Swtchan->SetMarkerStyle(8);\n",
    "h_jet_jvf_Swtchan->SetMarkerSize(0.5);\n",
    "h_jet_jvf_Swtchan->SetLineColor(kGreen);\n",
    "\n",
    "//Merged stop\n",
    "h_jet_jvf_mergedS->SetMarkerStyle(8);\n",
    "h_jet_jvf_mergedS->SetMarkerSize(0.5);\n",
    "h_jet_jvf_mergedS->SetLineColor(kGray);"
   ]
  },
  {
   "cell_type": "markdown",
   "metadata": {},
   "source": [
    "Set JET JVF atributes for TTBar histograms"
   ]
  },
  {
   "cell_type": "code",
   "execution_count": null,
   "metadata": {
    "collapsed": true
   },
   "outputs": [],
   "source": [
    "//TTBar had histrogram \n",
    "h_jet_jvf_TThad->SetMarkerStyle(8);\n",
    "h_jet_jvf_TThad->SetMarkerSize(0.5);\n",
    "h_jet_jvf_TThad->SetLineColor(kRed);\n",
    "//TTBar lep histrogram\n",
    "h_jet_jvf_TTlep->SetMarkerStyle(8);\n",
    "h_jet_jvf_TTlep->SetMarkerSize(0.5);\n",
    "h_jet_jvf_TTlep->SetLineColor(kYellow);\n",
    "\n",
    "//Merged TTBar\n",
    "h_jet_jvf_mergedTT->SetMarkerStyle(8);\n",
    "h_jet_jvf_mergedTT->SetMarkerSize(0.5);\n",
    "h_jet_jvf_mergedTT->SetLineColor(kRed);"
   ]
  },
  {
   "cell_type": "markdown",
   "metadata": {},
   "source": [
    "Set JET JVF atributes for W histograms"
   ]
  },
  {
   "cell_type": "code",
   "execution_count": null,
   "metadata": {
    "collapsed": true
   },
   "outputs": [],
   "source": [
    "//W WenuW histogram  \n",
    "h_jet_jvf_WenuW->SetMarkerStyle(8);\n",
    "h_jet_jvf_WenuW->SetMarkerSize(0.5);\n",
    "h_jet_jvf_WenuW->SetLineColor(kRed);\n",
    "\n",
    "//W WenuJ histrogram \n",
    "h_jet_jvf_WenuJ->SetMarkerStyle(8);\n",
    "h_jet_jvf_WenuJ->SetMarkerSize(0.5);\n",
    "h_jet_jvf_WenuJ->SetLineColor(kYellow);\n",
    "//W WenuN histrogram\n",
    "h_jet_jvf_WenuN->SetMarkerStyle(8);\n",
    "h_jet_jvf_WenuN->SetMarkerSize(0.5);\n",
    "h_jet_jvf_WenuN->SetLineColor(kBlue);\n",
    "\n",
    "//WmunuW histrogram\n",
    "h_jet_jvf_WmunuW->SetMarkerStyle(8);\n",
    "h_jet_jvf_WmunuW->SetMarkerSize(0.5);\n",
    "h_jet_jvf_WmunuW->SetLineColor(kGreen);\n",
    "//W WmunuJ histrogram\n",
    "h_jet_jvf_WmunuJ->SetMarkerStyle(8);\n",
    "h_jet_jvf_WmunuJ->SetMarkerSize(0.5);\n",
    "h_jet_jvf_WmunuJ->SetLineColor(kOrange);\n",
    "//W WmunuN histrogram\n",
    "h_jet_jvf_WmunuN->SetMarkerStyle(8);\n",
    "h_jet_jvf_WmunuN->SetMarkerSize(0.5);\n",
    "h_jet_jvf_WmunuN->SetLineColor(kPink);\n",
    "//W WtaunuW histogram  \n",
    "h_jet_jvf_WtaunuW->SetMarkerStyle(8);\n",
    "h_jet_jvf_WtaunuW->SetMarkerSize(0.5);\n",
    "h_jet_jvf_WtaunuW->SetLineColor(kViolet);\n",
    "\n",
    "//W WtaunuJ histrogram \n",
    "h_jet_jvf_WtaunuJ->SetMarkerStyle(8);\n",
    "h_jet_jvf_WtaunuJ->SetMarkerSize(0.5);\n",
    "h_jet_jvf_WtaunuJ->SetLineColor(kAzure);\n",
    "//W WtaunuN histrogram\n",
    "h_jet_jvf_WtaunuN->SetMarkerStyle(8);\n",
    "h_jet_jvf_WtaunuN->SetMarkerSize(0.5);\n",
    "h_jet_jvf_WtaunuN->SetLineColor(kTeal);\n",
    "//Merged W Wenu,Wmunu,Wtaunu\n",
    "h_jet_jvf_mergedW->SetMarkerStyle(8);\n",
    "h_jet_jvf_mergedW->SetMarkerSize(0.5);\n",
    "h_jet_jvf_mergedW->SetLineColor(kGreen);"
   ]
  },
  {
   "cell_type": "markdown",
   "metadata": {},
   "source": [
    "Set atributes for JET MV1 histograms"
   ]
  },
  {
   "cell_type": "markdown",
   "metadata": {},
   "source": [
    "Set JET MV1 atributes for Z histograms"
   ]
  },
  {
   "cell_type": "code",
   "execution_count": null,
   "metadata": {
    "collapsed": true
   },
   "outputs": [],
   "source": [
    "//JET_MV1 HISTOGRAMS\n",
    "\n",
    "//Zee histrogram\n",
    "h_jet_MV1_Zee->SetMarkerStyle(8);\n",
    "h_jet_MV1_Zee->SetMarkerSize(0.5);\n",
    "h_jet_MV1_Zee->SetLineColor(kRed);\n",
    "//Zmumu histrogram \n",
    "h_jet_MV1_Zmumu->SetMarkerStyle(8);\n",
    "h_jet_MV1_Zmumu->SetMarkerSize(0.5);\n",
    "h_jet_MV1_Zmumu->SetLineColor(kYellow);\n",
    "//Ztautau histrogram\n",
    "h_jet_MV1_Ztautau->SetMarkerStyle(8);\n",
    "h_jet_MV1_Ztautau->SetMarkerSize(0.5);\n",
    "h_jet_MV1_Ztautau->SetLineColor(kBlue);\n",
    "//Merged Zee,Zmumu,Ztautau\n",
    "h_jet_MV1_mergedZ->SetMarkerStyle(8);\n",
    "h_jet_MV1_mergedZ->SetMarkerSize(0.5);\n",
    "h_jet_MV1_mergedZ->SetLineColor(kGreen);"
   ]
  },
  {
   "cell_type": "markdown",
   "metadata": {},
   "source": [
    "Set JET MV1 atributes for Diboson histograms"
   ]
  },
  {
   "cell_type": "code",
   "execution_count": null,
   "metadata": {
    "collapsed": true
   },
   "outputs": [],
   "source": [
    "//Diboson WW histogram\n",
    "h_jet_MV1_Dww->SetMarkerStyle(8);\n",
    "h_jet_MV1_Dww->SetMarkerSize(0.5);\n",
    "h_jet_MV1_Dww->SetLineColor(kRed);\n",
    "//Diboson ZZ histogram\n",
    "h_jet_MV1_Dzz->SetMarkerStyle(8);\n",
    "h_jet_MV1_Dzz->SetMarkerSize(0.5);\n",
    "h_jet_MV1_Dzz->SetLineColor(kYellow);\n",
    "//Diboson WZ histogram\n",
    "h_jet_MV1_Dwz->SetMarkerStyle(8);\n",
    "h_jet_MV1_Dwz->SetMarkerSize(0.5);\n",
    "h_jet_MV1_Dwz->SetLineColor(kBlue);\n",
    "//Merged Diboson WW,ZZ,WZ histogram\n",
    "h_jet_MV1_mergedD->SetMarkerStyle(8);\n",
    "h_jet_MV1_mergedD->SetMarkerSize(0.5);\n",
    "h_jet_MV1_mergedD->SetLineColor(kGreen);"
   ]
  },
  {
   "cell_type": "markdown",
   "metadata": {},
   "source": [
    "Set JET MV1 atributes for Drell Yan histograms"
   ]
  },
  {
   "cell_type": "code",
   "execution_count": null,
   "metadata": {
    "collapsed": true
   },
   "outputs": [],
   "source": [
    "//DYee1 histogram\n",
    "h_jet_MV1_DYee1->SetMarkerStyle(8);\n",
    "h_jet_MV1_DYee1->SetMarkerSize(0.5);\n",
    "h_jet_MV1_DYee1->SetLineColor(kRed);\n",
    "//DYee2 histogram\n",
    "h_jet_MV1_DYee2->SetMarkerStyle(8);\n",
    "h_jet_MV1_DYee2->SetMarkerSize(0.5);\n",
    "h_jet_MV1_DYee2->SetLineColor(kYellow);\n",
    "//DYmumu1 histrogram\n",
    "h_jet_MV1_DYmumu1->SetMarkerStyle(8);\n",
    "h_jet_MV1_DYmumu1->SetMarkerSize(0.5);\n",
    "h_jet_MV1_DYmumu1->SetLineColor(kBlue);\n",
    "//DYmumu2 histrogram\n",
    "h_jet_MV1_DYmumu2->SetMarkerStyle(8);\n",
    "h_jet_MV1_DYmumu2->SetMarkerSize(0.5);\n",
    "h_jet_MV1_DYmumu2->SetLineColor(kGreen);\n",
    "//DYtautau1 histrogram\n",
    "h_jet_MV1_DYtautau1->SetMarkerStyle(8);\n",
    "h_jet_MV1_DYtautau1->SetMarkerSize(0.5);\n",
    "h_jet_MV1_DYtautau1->SetLineColor(kOrange);\n",
    "//DYtautau2 histrogram\n",
    "h_jet_MV1_DYtautau2->SetMarkerStyle(8);\n",
    "h_jet_MV1_DYtautau2->SetMarkerSize(0.5);\n",
    "h_jet_MV1_DYtautau2->SetLineColor(kPink);\n",
    "\n",
    "//Merged DY EE,MUMU,TAUTAU histogram\n",
    "h_jet_MV1_mergedDY->SetMarkerStyle(8);\n",
    "h_jet_MV1_mergedDY->SetMarkerSize(0.5);\n",
    "h_jet_MV1_mergedDY->SetLineColor(kGray);"
   ]
  },
  {
   "cell_type": "markdown",
   "metadata": {},
   "source": [
    "Set JET MV1 atributes for Stop histograms"
   ]
  },
  {
   "cell_type": "code",
   "execution_count": null,
   "metadata": {
    "collapsed": true
   },
   "outputs": [],
   "source": [
    "//Stop tchan_top histrogram \n",
    "h_jet_MV1_Stchan_top->SetMarkerStyle(8);\n",
    "h_jet_MV1_Stchan_top->SetMarkerSize(0.5);\n",
    "h_jet_MV1_Stchan_top->SetLineColor(kRed);\n",
    "//Stop tchan_antitop histrogram\n",
    "h_jet_MV1_Stchan_antitop->SetMarkerStyle(8);\n",
    "h_jet_MV1_Stchan_antitop->SetMarkerSize(0.5);\n",
    "h_jet_MV1_Stchan_antitop->SetLineColor(kYellow);\n",
    "//Stop schan histogram\n",
    "h_jet_MV1_Sschan->SetMarkerStyle(8);\n",
    "h_jet_MV1_Sschan->SetMarkerSize(0.5);\n",
    "h_jet_MV1_Sschan->SetLineColor(kBlue);\n",
    "//Stop wtchan histogram\n",
    "h_jet_MV1_Swtchan->SetMarkerStyle(8);\n",
    "h_jet_MV1_Swtchan->SetMarkerSize(0.5);\n",
    "h_jet_MV1_Swtchan->SetLineColor(kGreen);\n",
    "\n",
    "//Merged stop\n",
    "h_jet_MV1_mergedS->SetMarkerStyle(8);\n",
    "h_jet_MV1_mergedS->SetMarkerSize(0.5);\n",
    "h_jet_MV1_mergedS->SetLineColor(kGray);"
   ]
  },
  {
   "cell_type": "markdown",
   "metadata": {},
   "source": [
    "Set JET MV1 atributes for TTBar histograms"
   ]
  },
  {
   "cell_type": "code",
   "execution_count": null,
   "metadata": {
    "collapsed": true
   },
   "outputs": [],
   "source": [
    "//TTBar had histrogram \n",
    "h_jet_MV1_TThad->SetMarkerStyle(8);\n",
    "h_jet_MV1_TThad->SetMarkerSize(0.5);\n",
    "h_jet_MV1_TThad->SetLineColor(kRed);\n",
    "//TTBar lep histrogram\n",
    "h_jet_MV1_TTlep->SetMarkerStyle(8);\n",
    "h_jet_MV1_TTlep->SetMarkerSize(0.5);\n",
    "h_jet_MV1_TTlep->SetLineColor(kYellow);\n",
    "\n",
    "//Merged TTBar\n",
    "h_jet_MV1_mergedTT->SetMarkerStyle(8);\n",
    "h_jet_MV1_mergedTT->SetMarkerSize(0.5);\n",
    "h_jet_MV1_mergedTT->SetLineColor(kRed);"
   ]
  },
  {
   "cell_type": "markdown",
   "metadata": {},
   "source": [
    "Set JET MV1 atributes for W histograms"
   ]
  },
  {
   "cell_type": "code",
   "execution_count": null,
   "metadata": {
    "collapsed": true
   },
   "outputs": [],
   "source": [
    "//W WenuW histogram  \n",
    "h_jet_MV1_WenuW->SetMarkerStyle(8);\n",
    "h_jet_MV1_WenuW->SetMarkerSize(0.5);\n",
    "h_jet_MV1_WenuW->SetLineColor(kRed);\n",
    "\n",
    "//W WenuJ histrogram \n",
    "h_jet_MV1_WenuJ->SetMarkerStyle(8);\n",
    "h_jet_MV1_WenuJ->SetMarkerSize(0.5);\n",
    "h_jet_MV1_WenuJ->SetLineColor(kYellow);\n",
    "//W WenuN histrogram\n",
    "h_jet_MV1_WenuN->SetMarkerStyle(8);\n",
    "h_jet_MV1_WenuN->SetMarkerSize(0.5);\n",
    "h_jet_MV1_WenuN->SetLineColor(kBlue);\n",
    "\n",
    "//WmunuW histrogram\n",
    "h_jet_MV1_WmunuW->SetMarkerStyle(8);\n",
    "h_jet_MV1_WmunuW->SetMarkerSize(0.5);\n",
    "h_jet_MV1_WmunuW->SetLineColor(kGreen);\n",
    "//W WmunuJ histrogram\n",
    "h_jet_MV1_WmunuJ->SetMarkerStyle(8);\n",
    "h_jet_MV1_WmunuJ->SetMarkerSize(0.5);\n",
    "h_jet_MV1_WmunuJ->SetLineColor(kOrange);\n",
    "//W WmunuN histrogram\n",
    "h_jet_MV1_WmunuN->SetMarkerStyle(8);\n",
    "h_jet_MV1_WmunuN->SetMarkerSize(0.5);\n",
    "h_jet_MV1_WmunuN->SetLineColor(kPink);\n",
    "//W WtaunuW histogram  \n",
    "h_jet_MV1_WtaunuW->SetMarkerStyle(8);\n",
    "h_jet_MV1_WtaunuW->SetMarkerSize(0.5);\n",
    "h_jet_MV1_WtaunuW->SetLineColor(kViolet);\n",
    "\n",
    "//W WtaunuJ histrogram \n",
    "h_jet_MV1_WtaunuJ->SetMarkerStyle(8);\n",
    "h_jet_MV1_WtaunuJ->SetMarkerSize(0.5);\n",
    "h_jet_MV1_WtaunuJ->SetLineColor(kAzure);\n",
    "//W WtaunuN histrogram\n",
    "h_jet_MV1_WtaunuN->SetMarkerStyle(8);\n",
    "h_jet_MV1_WtaunuN->SetMarkerSize(0.5);\n",
    "h_jet_MV1_WtaunuN->SetLineColor(kTeal);\n",
    "//Merged W Wenu,Wmunu,Wtaunu\n",
    "h_jet_MV1_mergedW->SetMarkerStyle(8);\n",
    "h_jet_MV1_mergedW->SetMarkerSize(0.5);\n",
    "h_jet_MV1_mergedW->SetLineColor(kGreen);"
   ]
  },
  {
   "cell_type": "markdown",
   "metadata": {},
   "source": [
    "Set atributes for N VERTEX histograms"
   ]
  },
  {
   "cell_type": "markdown",
   "metadata": {},
   "source": [
    "Set N VERTEX atributes for Z histograms"
   ]
  },
  {
   "cell_type": "code",
   "execution_count": null,
   "metadata": {
    "collapsed": true
   },
   "outputs": [],
   "source": [
    "//N VERTEX HISTOGRAMS\n",
    "\n",
    "//Zee histrogram\n",
    "h_pvxp_n_Zee->SetMarkerStyle(8);\n",
    "h_pvxp_n_Zee->SetMarkerSize(0.5);\n",
    "h_pvxp_n_Zee->SetLineColor(kRed);\n",
    "//Zmumu histrogram \n",
    "h_pvxp_n_Zmumu->SetMarkerStyle(8);\n",
    "h_pvxp_n_Zmumu->SetMarkerSize(0.5);\n",
    "h_pvxp_n_Zmumu->SetLineColor(kYellow);\n",
    "//Ztautau histrogram\n",
    "h_pvxp_n_Ztautau->SetMarkerStyle(8);\n",
    "h_pvxp_n_Ztautau->SetMarkerSize(0.5);\n",
    "h_pvxp_n_Ztautau->SetLineColor(kBlue);\n",
    "//Merged Zee,Zmumu,Ztautau\n",
    "h_pvxp_n_mergedZ->SetMarkerStyle(8);\n",
    "h_pvxp_n_mergedZ->SetMarkerSize(0.5);\n",
    "h_pvxp_n_mergedZ->SetLineColor(kGreen);"
   ]
  },
  {
   "cell_type": "markdown",
   "metadata": {},
   "source": [
    "Set N VERTEX atributes for Diboson histograms"
   ]
  },
  {
   "cell_type": "code",
   "execution_count": null,
   "metadata": {
    "collapsed": true
   },
   "outputs": [],
   "source": [
    "//Diboson WW histogram\n",
    "h_pvxp_n_Dww->SetMarkerStyle(8);\n",
    "h_pvxp_n_Dww->SetMarkerSize(0.5);\n",
    "h_pvxp_n_Dww->SetLineColor(kRed);\n",
    "//Diboson ZZ histogram\n",
    "h_pvxp_n_Dzz->SetMarkerStyle(8);\n",
    "h_pvxp_n_Dzz->SetMarkerSize(0.5);\n",
    "h_pvxp_n_Dzz->SetLineColor(kYellow);\n",
    "//Diboson WZ histogram\n",
    "h_pvxp_n_Dwz->SetMarkerStyle(8);\n",
    "h_pvxp_n_Dwz->SetMarkerSize(0.5);\n",
    "h_pvxp_n_Dwz->SetLineColor(kBlue);\n",
    "//Merged Diboson WW,ZZ,WZ histogram\n",
    "h_pvxp_n_mergedD->SetMarkerStyle(8);\n",
    "h_pvxp_n_mergedD->SetMarkerSize(0.5);\n",
    "h_pvxp_n_mergedD->SetLineColor(kGreen);"
   ]
  },
  {
   "cell_type": "markdown",
   "metadata": {},
   "source": [
    "Set N VERTEX atributes for Drell Yan histograms"
   ]
  },
  {
   "cell_type": "code",
   "execution_count": null,
   "metadata": {
    "collapsed": true
   },
   "outputs": [],
   "source": [
    "//DYee1 histogram\n",
    "h_pvxp_n_DYee1->SetMarkerStyle(8);\n",
    "h_pvxp_n_DYee1->SetMarkerSize(0.5);\n",
    "h_pvxp_n_DYee1->SetLineColor(kRed);\n",
    "//DYee2 histogram\n",
    "h_pvxp_n_DYee2->SetMarkerStyle(8);\n",
    "h_pvxp_n_DYee2->SetMarkerSize(0.5);\n",
    "h_pvxp_n_DYee2->SetLineColor(kYellow);\n",
    "//DYmumu1 histrogram\n",
    "h_pvxp_n_DYmumu1->SetMarkerStyle(8);\n",
    "h_pvxp_n_DYmumu1->SetMarkerSize(0.5);\n",
    "h_pvxp_n_DYmumu1->SetLineColor(kBlue);\n",
    "//DYmumu2 histrogram\n",
    "h_pvxp_n_DYmumu2->SetMarkerStyle(8);\n",
    "h_pvxp_n_DYmumu2->SetMarkerSize(0.5);\n",
    "h_pvxp_n_DYmumu2->SetLineColor(kGreen);\n",
    "//DYtautau1 histrogram\n",
    "h_pvxp_n_DYtautau1->SetMarkerStyle(8);\n",
    "h_pvxp_n_DYtautau1->SetMarkerSize(0.5);\n",
    "h_pvxp_n_DYtautau1->SetLineColor(kOrange);\n",
    "//DYtautau2 histrogram\n",
    "h_pvxp_n_DYtautau2->SetMarkerStyle(8);\n",
    "h_pvxp_n_DYtautau2->SetMarkerSize(0.5);\n",
    "h_pvxp_n_DYtautau2->SetLineColor(kPink);\n",
    "\n",
    "//Merged DY EE,MUMU,TAUTAU histogram\n",
    "h_pvxp_n_mergedDY->SetMarkerStyle(8);\n",
    "h_pvxp_n_mergedDY->SetMarkerSize(0.5);\n",
    "h_pvxp_n_mergedDY->SetLineColor(kGray);"
   ]
  },
  {
   "cell_type": "markdown",
   "metadata": {},
   "source": [
    "Set N VERTEX atributes for Stop histograms"
   ]
  },
  {
   "cell_type": "code",
   "execution_count": null,
   "metadata": {
    "collapsed": true
   },
   "outputs": [],
   "source": [
    "//Stop tchan_top histrogram \n",
    "h_pvxp_n_Stchan_top->SetMarkerStyle(8);\n",
    "h_pvxp_n_Stchan_top->SetMarkerSize(0.5);\n",
    "h_pvxp_n_Stchan_top->SetLineColor(kRed);\n",
    "//Stop tchan_antitop histrogram\n",
    "h_pvxp_n_Stchan_antitop->SetMarkerStyle(8);\n",
    "h_pvxp_n_Stchan_antitop->SetMarkerSize(0.5);\n",
    "h_pvxp_n_Stchan_antitop->SetLineColor(kYellow);\n",
    "//Stop schan histogram\n",
    "h_pvxp_n_Sschan->SetMarkerStyle(8);\n",
    "h_pvxp_n_Sschan->SetMarkerSize(0.5);\n",
    "h_pvxp_n_Sschan->SetLineColor(kBlue);\n",
    "//Stop wtchan histogram\n",
    "h_pvxp_n_Swtchan->SetMarkerStyle(8);\n",
    "h_pvxp_n_Swtchan->SetMarkerSize(0.5);\n",
    "h_pvxp_n_Swtchan->SetLineColor(kGreen);\n",
    "\n",
    "//Merged stop\n",
    "h_pvxp_n_mergedS->SetMarkerStyle(8);\n",
    "h_pvxp_n_mergedS->SetMarkerSize(0.5);\n",
    "h_pvxp_n_mergedS->SetLineColor(kGray);"
   ]
  },
  {
   "cell_type": "markdown",
   "metadata": {},
   "source": [
    "Set N VERTEX atributes for TTBar histograms"
   ]
  },
  {
   "cell_type": "code",
   "execution_count": null,
   "metadata": {
    "collapsed": true
   },
   "outputs": [],
   "source": [
    "//TTBar had histrogram \n",
    "h_pvxp_n_TThad->SetMarkerStyle(8);\n",
    "h_pvxp_n_TThad->SetMarkerSize(0.5);\n",
    "h_pvxp_n_TThad->SetLineColor(kRed);\n",
    "//TTBar lep histrogram\n",
    "h_pvxp_n_TTlep->SetMarkerStyle(8);\n",
    "h_pvxp_n_TTlep->SetMarkerSize(0.5);\n",
    "h_pvxp_n_TTlep->SetLineColor(kYellow);\n",
    "\n",
    "//Merged TTBar\n",
    "h_pvxp_n_mergedTT->SetMarkerStyle(8);\n",
    "h_pvxp_n_mergedTT->SetMarkerSize(0.5);\n",
    "h_pvxp_n_mergedTT->SetLineColor(kRed);"
   ]
  },
  {
   "cell_type": "markdown",
   "metadata": {},
   "source": [
    "Set N VERTEX atributes for W histograms"
   ]
  },
  {
   "cell_type": "code",
   "execution_count": null,
   "metadata": {
    "collapsed": true
   },
   "outputs": [],
   "source": [
    "//W WenuW histogram  \n",
    "h_pvxp_n_WenuW->SetMarkerStyle(8);\n",
    "h_pvxp_n_WenuW->SetMarkerSize(0.5);\n",
    "h_pvxp_n_WenuW->SetLineColor(kRed);\n",
    "\n",
    "//W WenuJ histrogram \n",
    "h_pvxp_n_WenuJ->SetMarkerStyle(8);\n",
    "h_pvxp_n_WenuJ->SetMarkerSize(0.5);\n",
    "h_pvxp_n_WenuJ->SetLineColor(kYellow);\n",
    "//W WenuN histrogram\n",
    "h_pvxp_n_WenuN->SetMarkerStyle(8);\n",
    "h_pvxp_n_WenuN->SetMarkerSize(0.5);\n",
    "h_pvxp_n_WenuN->SetLineColor(kBlue);\n",
    "\n",
    "//WmunuW histrogram\n",
    "h_pvxp_n_WmunuW->SetMarkerStyle(8);\n",
    "h_pvxp_n_WmunuW->SetMarkerSize(0.5);\n",
    "h_pvxp_n_WmunuW->SetLineColor(kGreen);\n",
    "//W WmunuJ histrogram\n",
    "h_pvxp_n_WmunuJ->SetMarkerStyle(8);\n",
    "h_pvxp_n_WmunuJ->SetMarkerSize(0.5);\n",
    "h_pvxp_n_WmunuJ->SetLineColor(kOrange);\n",
    "//W WmunuN histrogram\n",
    "h_pvxp_n_WmunuN->SetMarkerStyle(8);\n",
    "h_pvxp_n_WmunuN->SetMarkerSize(0.5);\n",
    "h_pvxp_n_WmunuN->SetLineColor(kPink);\n",
    "//W WtaunuW histogram  \n",
    "h_pvxp_n_WtaunuW->SetMarkerStyle(8);\n",
    "h_pvxp_n_WtaunuW->SetMarkerSize(0.5);\n",
    "h_pvxp_n_WtaunuW->SetLineColor(kViolet);\n",
    "\n",
    "//W WtaunuJ histrogram \n",
    "h_pvxp_n_WtaunuJ->SetMarkerStyle(8);\n",
    "h_pvxp_n_WtaunuJ->SetMarkerSize(0.5);\n",
    "h_pvxp_n_WtaunuJ->SetLineColor(kAzure);\n",
    "//W WtaunuN histrogram\n",
    "h_pvxp_n_WtaunuN->SetMarkerStyle(8);\n",
    "h_pvxp_n_WtaunuN->SetMarkerSize(0.5);\n",
    "h_pvxp_n_WtaunuN->SetLineColor(kTeal);\n",
    "//Merged W Wenu,Wmunu,Wtaunu\n",
    "h_pvxp_n_mergedW->SetMarkerStyle(8);\n",
    "h_pvxp_n_mergedW->SetMarkerSize(0.5);\n",
    "h_pvxp_n_mergedW->SetLineColor(kGreen);"
   ]
  },
  {
   "cell_type": "markdown",
   "metadata": {},
   "source": [
    "Set atributes for Z VERTEX histograms"
   ]
  },
  {
   "cell_type": "markdown",
   "metadata": {},
   "source": [
    "Set Z VERTEX atributes for Z histograms"
   ]
  },
  {
   "cell_type": "code",
   "execution_count": null,
   "metadata": {
    "collapsed": true
   },
   "outputs": [],
   "source": [
    "//Z VERTEX HISTOGRAMS\n",
    "\n",
    "//Zee histrogram\n",
    "h_vxp_z_Zee->SetMarkerStyle(8);\n",
    "h_vxp_z_Zee->SetMarkerSize(0.5);\n",
    "h_vxp_z_Zee->SetLineColor(kRed);\n",
    "//Zmumu histrogram \n",
    "h_vxp_z_Zmumu->SetMarkerStyle(8);\n",
    "h_vxp_z_Zmumu->SetMarkerSize(0.5);\n",
    "h_vxp_z_Zmumu->SetLineColor(kYellow);\n",
    "//Ztautau histrogram\n",
    "h_vxp_z_Ztautau->SetMarkerStyle(8);\n",
    "h_vxp_z_Ztautau->SetMarkerSize(0.5);\n",
    "h_vxp_z_Ztautau->SetLineColor(kBlue);\n",
    "//Merged Zee,Zmumu,Ztautau\n",
    "h_vxp_z_mergedZ->SetMarkerStyle(8);\n",
    "h_vxp_z_mergedZ->SetMarkerSize(0.5);\n",
    "h_vxp_z_mergedZ->SetLineColor(kGreen);"
   ]
  },
  {
   "cell_type": "markdown",
   "metadata": {},
   "source": [
    "Set Z VERTEX atributes for Diboson histograms"
   ]
  },
  {
   "cell_type": "code",
   "execution_count": null,
   "metadata": {
    "collapsed": true
   },
   "outputs": [],
   "source": [
    "//Diboson WW histogram\n",
    "h_vxp_z_Dww->SetMarkerStyle(8);\n",
    "h_vxp_z_Dww->SetMarkerSize(0.5);\n",
    "h_vxp_z_Dww->SetLineColor(kRed);\n",
    "//Diboson ZZ histogram\n",
    "h_vxp_z_Dzz->SetMarkerStyle(8);\n",
    "h_vxp_z_Dzz->SetMarkerSize(0.5);\n",
    "h_vxp_z_Dzz->SetLineColor(kYellow);\n",
    "//Diboson WZ histogram\n",
    "h_vxp_z_Dwz->SetMarkerStyle(8);\n",
    "h_vxp_z_Dwz->SetMarkerSize(0.5);\n",
    "h_vxp_z_Dwz->SetLineColor(kBlue);\n",
    "//Merged Diboson WW,ZZ,WZ histogram\n",
    "h_vxp_z_mergedD->SetMarkerStyle(8);\n",
    "h_vxp_z_mergedD->SetMarkerSize(0.5);\n",
    "h_vxp_z_mergedD->SetLineColor(kGreen);"
   ]
  },
  {
   "cell_type": "markdown",
   "metadata": {},
   "source": [
    "Set Z VERTEX atributes for Drell Yan histograms"
   ]
  },
  {
   "cell_type": "code",
   "execution_count": null,
   "metadata": {
    "collapsed": true
   },
   "outputs": [],
   "source": [
    "//DYee1 histogram\n",
    "h_vxp_z_DYee1->SetMarkerStyle(8);\n",
    "h_vxp_z_DYee1->SetMarkerSize(0.5);\n",
    "h_vxp_z_DYee1->SetLineColor(kRed);\n",
    "//DYee2 histogram\n",
    "h_vxp_z_DYee2->SetMarkerStyle(8);\n",
    "h_vxp_z_DYee2->SetMarkerSize(0.5);\n",
    "h_vxp_z_DYee2->SetLineColor(kYellow);\n",
    "//DYmumu1 histrogram\n",
    "h_vxp_z_DYmumu1->SetMarkerStyle(8);\n",
    "h_vxp_z_DYmumu1->SetMarkerSize(0.5);\n",
    "h_vxp_z_DYmumu1->SetLineColor(kBlue);\n",
    "//DYmumu2 histrogram\n",
    "h_vxp_z_DYmumu2->SetMarkerStyle(8);\n",
    "h_vxp_z_DYmumu2->SetMarkerSize(0.5);\n",
    "h_vxp_z_DYmumu2->SetLineColor(kGreen);\n",
    "//DYtautau1 histrogram\n",
    "h_vxp_z_DYtautau1->SetMarkerStyle(8);\n",
    "h_vxp_z_DYtautau1->SetMarkerSize(0.5);\n",
    "h_vxp_z_DYtautau1->SetLineColor(kOrange);\n",
    "//DYtautau2 histrogram\n",
    "h_vxp_z_DYtautau2->SetMarkerStyle(8);\n",
    "h_vxp_z_DYtautau2->SetMarkerSize(0.5);\n",
    "h_vxp_z_DYtautau2->SetLineColor(kPink);\n",
    "\n",
    "//Merged DY EE,MUMU,TAUTAU histogram\n",
    "h_vxp_z_mergedDY->SetMarkerStyle(8);\n",
    "h_vxp_z_mergedDY->SetMarkerSize(0.5);\n",
    "h_vxp_z_mergedDY->SetLineColor(kGray);"
   ]
  },
  {
   "cell_type": "markdown",
   "metadata": {},
   "source": [
    "Set Z VERTEX atributes for Stop histograms"
   ]
  },
  {
   "cell_type": "code",
   "execution_count": null,
   "metadata": {
    "collapsed": false
   },
   "outputs": [],
   "source": [
    "//Stop tchan_top histrogram \n",
    "h_vxp_z_Stchan_top->SetMarkerStyle(8);\n",
    "h_vxp_z_Stchan_top->SetMarkerSize(0.5);\n",
    "h_vxp_z_Stchan_top->SetLineColor(kRed);\n",
    "//Stop tchan_antitop histrogram\n",
    "h_vxp_z_Stchan_antitop->SetMarkerStyle(8);\n",
    "h_vxp_z_Stchan_antitop->SetMarkerSize(0.5);\n",
    "h_vxp_z_Stchan_antitop->SetLineColor(kYellow);\n",
    "//Stop schan histogram\n",
    "h_vxp_z_Sschan->SetMarkerStyle(8);\n",
    "h_vxp_z_Sschan->SetMarkerSize(0.5);\n",
    "h_vxp_z_Sschan->SetLineColor(kBlue);\n",
    "//Stop wtchan histogram\n",
    "h_vxp_z_Swtchan->SetMarkerStyle(8);\n",
    "h_vxp_z_Swtchan->SetMarkerSize(0.5);\n",
    "h_vxp_z_Swtchan->SetLineColor(kGreen);\n",
    "\n",
    "//Merged stop\n",
    "h_vxp_z_mergedS->SetMarkerStyle(8);\n",
    "h_vxp_z_mergedS->SetMarkerSize(0.5);\n",
    "h_vxp_z_mergedS->SetLineColor(kGray);"
   ]
  },
  {
   "cell_type": "markdown",
   "metadata": {},
   "source": [
    "Set Z VERTEX atributes for TTBar histograms"
   ]
  },
  {
   "cell_type": "code",
   "execution_count": null,
   "metadata": {
    "collapsed": true
   },
   "outputs": [],
   "source": [
    "//TTBar had histrogram \n",
    "h_vxp_z_TThad->SetMarkerStyle(8);\n",
    "h_vxp_z_TThad->SetMarkerSize(0.5);\n",
    "h_vxp_z_TThad->SetLineColor(kRed);\n",
    "//TTBar lep histrogram\n",
    "h_vxp_z_TTlep->SetMarkerStyle(8);\n",
    "h_vxp_z_TTlep->SetMarkerSize(0.5);\n",
    "h_vxp_z_TTlep->SetLineColor(kYellow);\n",
    "\n",
    "//Merged TTBar\n",
    "h_vxp_z_mergedTT->SetMarkerStyle(8);\n",
    "h_vxp_z_mergedTT->SetMarkerSize(0.5);\n",
    "h_vxp_z_mergedTT->SetLineColor(kRed);"
   ]
  },
  {
   "cell_type": "markdown",
   "metadata": {},
   "source": [
    "Set Z VERTEX atributes for W histograms"
   ]
  },
  {
   "cell_type": "code",
   "execution_count": null,
   "metadata": {
    "collapsed": true
   },
   "outputs": [],
   "source": [
    "//W WenuW histogram  \n",
    "h_vxp_z_WenuW->SetMarkerStyle(8);\n",
    "h_vxp_z_WenuW->SetMarkerSize(0.5);\n",
    "h_vxp_z_WenuW->SetLineColor(kRed);\n",
    "\n",
    "//W WenuJ histrogram \n",
    "h_vxp_z_WenuJ->SetMarkerStyle(8);\n",
    "h_vxp_z_WenuJ->SetMarkerSize(0.5);\n",
    "h_vxp_z_WenuJ->SetLineColor(kYellow);\n",
    "//W WenuN histrogram\n",
    "h_vxp_z_WenuN->SetMarkerStyle(8);\n",
    "h_vxp_z_WenuN->SetMarkerSize(0.5);\n",
    "h_vxp_z_WenuN->SetLineColor(kBlue);\n",
    "\n",
    "//WmunuW histrogram\n",
    "h_vxp_z_WmunuW->SetMarkerStyle(8);\n",
    "h_vxp_z_WmunuW->SetMarkerSize(0.5);\n",
    "h_vxp_z_WmunuW->SetLineColor(kGreen);\n",
    "//W WmunuJ histrogram\n",
    "h_vxp_z_WmunuJ->SetMarkerStyle(8);\n",
    "h_vxp_z_WmunuJ->SetMarkerSize(0.5);\n",
    "h_vxp_z_WmunuJ->SetLineColor(kOrange);\n",
    "//W WmunuN histrogram\n",
    "h_vxp_z_WmunuN->SetMarkerStyle(8);\n",
    "h_vxp_z_WmunuN->SetMarkerSize(0.5);\n",
    "h_vxp_z_WmunuN->SetLineColor(kPink);\n",
    "//W WtaunuW histogram  \n",
    "h_vxp_z_WtaunuW->SetMarkerStyle(8);\n",
    "h_vxp_z_WtaunuW->SetMarkerSize(0.5);\n",
    "h_vxp_z_WtaunuW->SetLineColor(kViolet);\n",
    "\n",
    "//W WtaunuJ histrogram \n",
    "h_vxp_z_WtaunuJ->SetMarkerStyle(8);\n",
    "h_vxp_z_WtaunuJ->SetMarkerSize(0.5);\n",
    "h_vxp_z_WtaunuJ->SetLineColor(kAzure);\n",
    "//W WtaunuN histrogram\n",
    "h_vxp_z_WtaunuN->SetMarkerStyle(8);\n",
    "h_vxp_z_WtaunuN->SetMarkerSize(0.5);\n",
    "h_vxp_z_WtaunuN->SetLineColor(kTeal);\n",
    "//Merged W Wenu,Wmunu,Wtaunu\n",
    "h_vxp_z_mergedW->SetMarkerStyle(8);\n",
    "h_vxp_z_mergedW->SetMarkerSize(0.5);\n",
    "h_vxp_z_mergedW->SetLineColor(kGreen);"
   ]
  },
  {
   "cell_type": "markdown",
   "metadata": {},
   "source": [
    "Set atributes for MET_ET histograms"
   ]
  },
  {
   "cell_type": "markdown",
   "metadata": {},
   "source": [
    "Set MET_ET atributes for Z histograms"
   ]
  },
  {
   "cell_type": "code",
   "execution_count": null,
   "metadata": {
    "collapsed": true
   },
   "outputs": [],
   "source": [
    "//MET_ET HISTOGRAMS\n",
    "\n",
    "//Zee histrogram\n",
    "h_met_et_Zee->SetMarkerStyle(8);\n",
    "h_met_et_Zee->SetMarkerSize(0.5);\n",
    "h_met_et_Zee->SetLineColor(kRed);\n",
    "//Zmumu histrogram \n",
    "h_met_et_Zmumu->SetMarkerStyle(8);\n",
    "h_met_et_Zmumu->SetMarkerSize(0.5);\n",
    "h_met_et_Zmumu->SetLineColor(kYellow);\n",
    "//Ztautau histrogram\n",
    "h_met_et_Ztautau->SetMarkerStyle(8);\n",
    "h_met_et_Ztautau->SetMarkerSize(0.5);\n",
    "h_met_et_Ztautau->SetLineColor(kBlue);\n",
    "//Merged Zee,Zmumu,Ztautau\n",
    "h_met_et_mergedZ->SetMarkerStyle(8);\n",
    "h_met_et_mergedZ->SetMarkerSize(0.5);\n",
    "h_met_et_mergedZ->SetLineColor(kGreen);\n",
    "\n",
    "//Diboson WW histogram\n",
    "h_met_et_Dww->SetMarkerStyle(8);\n",
    "h_met_et_Dww->SetMarkerSize(0.5);\n",
    "h_met_et_Dww->SetLineColor(kRed);\n",
    "//Diboson ZZ histogram\n",
    "h_met_et_Dzz->SetMarkerStyle(8);\n",
    "h_met_et_Dzz->SetMarkerSize(0.5);\n",
    "h_met_et_Dzz->SetLineColor(kYellow);\n",
    "//Diboson WZ histogram\n",
    "h_met_et_Dwz->SetMarkerStyle(8);\n",
    "h_met_et_Dwz->SetMarkerSize(0.5);\n",
    "h_met_et_Dwz->SetLineColor(kBlue);\n",
    "//Merged Diboson WW,ZZ,WZ histogram\n",
    "h_met_et_mergedD->SetMarkerStyle(8);\n",
    "h_met_et_mergedD->SetMarkerSize(0.5);\n",
    "h_met_et_mergedD->SetLineColor(kGreen);\n",
    "\n",
    "//DYee1 histogram\n",
    "h_met_et_DYee1->SetMarkerStyle(8);\n",
    "h_met_et_DYee1->SetMarkerSize(0.5);\n",
    "h_met_et_DYee1->SetLineColor(kRed);\n",
    "//DYee2 histogram\n",
    "h_met_et_DYee2->SetMarkerStyle(8);\n",
    "h_met_et_DYee2->SetMarkerSize(0.5);\n",
    "h_met_et_DYee2->SetLineColor(kYellow);\n",
    "//DYmumu1 histrogram\n",
    "h_met_et_DYmumu1->SetMarkerStyle(8);\n",
    "h_met_et_DYmumu1->SetMarkerSize(0.5);\n",
    "h_met_et_DYmumu1->SetLineColor(kBlue);\n",
    "//DYmumu2 histrogram\n",
    "h_met_et_DYmumu2->SetMarkerStyle(8);\n",
    "h_met_et_DYmumu2->SetMarkerSize(0.5);\n",
    "h_met_et_DYmumu2->SetLineColor(kGreen);\n",
    "//DYtautau1 histrogram\n",
    "h_met_et_DYtautau1->SetMarkerStyle(8);\n",
    "h_met_et_DYtautau1->SetMarkerSize(0.5);\n",
    "h_met_et_DYtautau1->SetLineColor(kOrange);\n",
    "//DYtautau2 histrogram\n",
    "h_met_et_DYtautau2->SetMarkerStyle(8);\n",
    "h_met_et_DYtautau2->SetMarkerSize(0.5);\n",
    "h_met_et_DYtautau2->SetLineColor(kPink);\n",
    "\n",
    "//Merged DY EE,MUMU,TAUTAU histogram\n",
    "h_met_et_mergedDY->SetMarkerStyle(8);\n",
    "h_met_et_mergedDY->SetMarkerSize(0.5);\n",
    "h_met_et_mergedDY->SetLineColor(kGray);\n",
    "\n",
    "//Stop tchan_top histrogram \n",
    "h_met_et_Stchan_top->SetMarkerStyle(8);\n",
    "h_met_et_Stchan_top->SetMarkerSize(0.5);\n",
    "h_met_et_Stchan_top->SetLineColor(kRed);\n",
    "//Stop tchan_antitop histrogram\n",
    "h_met_et_Stchan_antitop->SetMarkerStyle(8);\n",
    "h_met_et_Stchan_antitop->SetMarkerSize(0.5);\n",
    "h_met_et_Stchan_antitop->SetLineColor(kYellow);\n",
    "//Stop schan histogram\n",
    "h_met_et_Sschan->SetMarkerStyle(8);\n",
    "h_met_et_Sschan->SetMarkerSize(0.5);\n",
    "h_met_et_Sschan->SetLineColor(kBlue);\n",
    "//Stop wtchan histogram\n",
    "h_met_et_Swtchan->SetMarkerStyle(8);\n",
    "h_met_et_Swtchan->SetMarkerSize(0.5);\n",
    "h_met_et_Swtchan->SetLineColor(kGreen);\n",
    "\n",
    "//Merged stop\n",
    "h_met_et_mergedS->SetMarkerStyle(8);\n",
    "h_met_et_mergedS->SetMarkerSize(0.5);\n",
    "h_met_et_mergedS->SetLineColor(kGray);\n",
    "\n",
    "//TTBar had histrogram \n",
    "h_met_et_TThad->SetMarkerStyle(8);\n",
    "h_met_et_TThad->SetMarkerSize(0.5);\n",
    "h_met_et_TThad->SetLineColor(kRed);\n",
    "//TTBar lep histrogram\n",
    "h_met_et_TTlep->SetMarkerStyle(8);\n",
    "h_met_et_TTlep->SetMarkerSize(0.5);\n",
    "h_met_et_TTlep->SetLineColor(kYellow);\n",
    "\n",
    "//Merged TTBar\n",
    "h_met_et_mergedTT->SetMarkerStyle(8);\n",
    "h_met_et_mergedTT->SetMarkerSize(0.5);\n",
    "h_met_et_mergedTT->SetLineColor(kRed);\n",
    "\n",
    "//W WenuW histogram  \n",
    "h_met_et_WenuW->SetMarkerStyle(8);\n",
    "h_met_et_WenuW->SetMarkerSize(0.5);\n",
    "h_met_et_WenuW->SetLineColor(kRed);\n",
    "\n",
    "//W WenuJ histrogram \n",
    "h_met_et_WenuJ->SetMarkerStyle(8);\n",
    "h_met_et_WenuJ->SetMarkerSize(0.5);\n",
    "h_met_et_WenuJ->SetLineColor(kYellow);\n",
    "//W WenuN histrogram\n",
    "h_met_et_WenuN->SetMarkerStyle(8);\n",
    "h_met_et_WenuN->SetMarkerSize(0.5);\n",
    "h_met_et_WenuN->SetLineColor(kBlue);\n",
    "\n",
    "//WmunuW histrogram\n",
    "h_met_et_WmunuW->SetMarkerStyle(8);\n",
    "h_met_et_WmunuW->SetMarkerSize(0.5);\n",
    "h_met_et_WmunuW->SetLineColor(kGreen);\n",
    "//W WmunuJ histrogram\n",
    "h_met_et_WmunuJ->SetMarkerStyle(8);\n",
    "h_met_et_WmunuJ->SetMarkerSize(0.5);\n",
    "h_met_et_WmunuJ->SetLineColor(kOrange);\n",
    "//W WmunuN histrogram\n",
    "h_met_et_WmunuN->SetMarkerStyle(8);\n",
    "h_met_et_WmunuN->SetMarkerSize(0.5);\n",
    "h_met_et_WmunuN->SetLineColor(kPink);\n",
    "//W WtaunuW histogram  \n",
    "h_met_et_WtaunuW->SetMarkerStyle(8);\n",
    "h_met_et_WtaunuW->SetMarkerSize(0.5);\n",
    "h_met_et_WtaunuW->SetLineColor(kViolet);\n",
    "\n",
    "//W WtaunuJ histrogram \n",
    "h_met_et_WtaunuJ->SetMarkerStyle(8);\n",
    "h_met_et_WtaunuJ->SetMarkerSize(0.5);\n",
    "h_met_et_WtaunuJ->SetLineColor(kAzure);\n",
    "//W WtaunuN histrogram\n",
    "h_met_et_WtaunuN->SetMarkerStyle(8);\n",
    "h_met_et_WtaunuN->SetMarkerSize(0.5);\n",
    "h_met_et_WtaunuN->SetLineColor(kTeal);\n",
    "//Merged W Wenu,Wmunu,Wtaunu\n",
    "h_met_et_mergedW->SetMarkerStyle(8);\n",
    "h_met_et_mergedW->SetMarkerSize(0.5);\n",
    "h_met_et_mergedW->SetLineColor(kGreen);"
   ]
  },
  {
   "cell_type": "markdown",
   "metadata": {},
   "source": [
    "Set atributes for INVARIANT MASS histograms"
   ]
  },
  {
   "cell_type": "markdown",
   "metadata": {},
   "source": [
    "Set INVARIANT MASS atributes for Z histograms"
   ]
  },
  {
   "cell_type": "code",
   "execution_count": null,
   "metadata": {
    "collapsed": true
   },
   "outputs": [],
   "source": [
    "//MET_ET HISTOGRAMS\n",
    "\n",
    "//Zee histrogram\n",
    "h_inv_mass_Zee->SetMarkerStyle(8);\n",
    "h_inv_mass_Zee->SetMarkerSize(0.5);\n",
    "h_inv_mass_Zee->SetLineColor(kRed);\n",
    "//Zmumu histrogram \n",
    "h_inv_mass_Zmumu->SetMarkerStyle(8);\n",
    "h_inv_mass_Zmumu->SetMarkerSize(0.5);\n",
    "h_inv_mass_Zmumu->SetLineColor(kYellow);\n",
    "//Ztautau histrogram\n",
    "h_inv_mass_Ztautau->SetMarkerStyle(8);\n",
    "h_inv_mass_Ztautau->SetMarkerSize(0.5);\n",
    "h_inv_mass_Ztautau->SetLineColor(kBlue);\n",
    "//Merged Zee,Zmumu,Ztautau\n",
    "h_inv_mass_mergedZ->SetMarkerStyle(8);\n",
    "h_inv_mass_mergedZ->SetMarkerSize(0.5);\n",
    "h_inv_mass_mergedZ->SetLineColor(kGreen);\n",
    "\n",
    "//Diboson WW histogram\n",
    "h_inv_mass_Dww->SetMarkerStyle(8);\n",
    "h_inv_mass_Dww->SetMarkerSize(0.5);\n",
    "h_inv_mass_Dww->SetLineColor(kRed);\n",
    "//Diboson ZZ histogram\n",
    "h_inv_mass_Dzz->SetMarkerStyle(8);\n",
    "h_inv_mass_Dzz->SetMarkerSize(0.5);\n",
    "h_inv_mass_Dzz->SetLineColor(kYellow);\n",
    "//Diboson WZ histogram\n",
    "h_inv_mass_Dwz->SetMarkerStyle(8);\n",
    "h_inv_mass_Dwz->SetMarkerSize(0.5);\n",
    "h_inv_mass_Dwz->SetLineColor(kBlue);\n",
    "//Merged Diboson WW,ZZ,WZ histogram\n",
    "h_inv_mass_mergedD->SetMarkerStyle(8);\n",
    "h_inv_mass_mergedD->SetMarkerSize(0.5);\n",
    "h_inv_mass_mergedD->SetLineColor(kGreen);\n",
    "\n",
    "//DYee1 histogram\n",
    "h_inv_mass_DYee1->SetMarkerStyle(8);\n",
    "h_inv_mass_DYee1->SetMarkerSize(0.5);\n",
    "h_inv_mass_DYee1->SetLineColor(kRed);\n",
    "//DYee2 histogram\n",
    "h_inv_mass_DYee2->SetMarkerStyle(8);\n",
    "h_inv_mass_DYee2->SetMarkerSize(0.5);\n",
    "h_inv_mass_DYee2->SetLineColor(kYellow);\n",
    "//DYmumu1 histrogram\n",
    "h_inv_mass_DYmumu1->SetMarkerStyle(8);\n",
    "h_inv_mass_DYmumu1->SetMarkerSize(0.5);\n",
    "h_inv_mass_DYmumu1->SetLineColor(kBlue);\n",
    "//DYmumu2 histrogram\n",
    "h_inv_mass_DYmumu2->SetMarkerStyle(8);\n",
    "h_inv_mass_DYmumu2->SetMarkerSize(0.5);\n",
    "h_inv_mass_DYmumu2->SetLineColor(kGreen);\n",
    "//DYtautau1 histrogram\n",
    "h_inv_mass_DYtautau1->SetMarkerStyle(8);\n",
    "h_inv_mass_DYtautau1->SetMarkerSize(0.5);\n",
    "h_inv_mass_DYtautau1->SetLineColor(kOrange);\n",
    "//DYtautau2 histrogram\n",
    "h_inv_mass_DYtautau2->SetMarkerStyle(8);\n",
    "h_inv_mass_DYtautau2->SetMarkerSize(0.5);\n",
    "h_inv_mass_DYtautau2->SetLineColor(kPink);\n",
    "\n",
    "//Merged DY EE,MUMU,TAUTAU histogram\n",
    "h_inv_mass_mergedDY->SetMarkerStyle(8);\n",
    "h_inv_mass_mergedDY->SetMarkerSize(0.5);\n",
    "h_inv_mass_mergedDY->SetLineColor(kGray);\n",
    "\n",
    "//Stop tchan_top histrogram \n",
    "h_inv_mass_Stchan_top->SetMarkerStyle(8);\n",
    "h_inv_mass_Stchan_top->SetMarkerSize(0.5);\n",
    "h_inv_mass_Stchan_top->SetLineColor(kRed);\n",
    "//Stop tchan_antitop histrogram\n",
    "h_inv_mass_Stchan_antitop->SetMarkerStyle(8);\n",
    "h_inv_mass_Stchan_antitop->SetMarkerSize(0.5);\n",
    "h_inv_mass_Stchan_antitop->SetLineColor(kYellow);\n",
    "//Stop schan histogram\n",
    "h_inv_mass_Sschan->SetMarkerStyle(8);\n",
    "h_inv_mass_Sschan->SetMarkerSize(0.5);\n",
    "h_inv_mass_Sschan->SetLineColor(kBlue);\n",
    "//Stop wtchan histogram\n",
    "h_inv_mass_Swtchan->SetMarkerStyle(8);\n",
    "h_inv_mass_Swtchan->SetMarkerSize(0.5);\n",
    "h_inv_mass_Swtchan->SetLineColor(kGreen);\n",
    "\n",
    "//Merged stop\n",
    "h_inv_mass_mergedS->SetMarkerStyle(8);\n",
    "h_inv_mass_mergedS->SetMarkerSize(0.5);\n",
    "h_inv_mass_mergedS->SetLineColor(kGray);\n",
    "\n",
    "//TTBar had histrogram \n",
    "h_inv_mass_TThad->SetMarkerStyle(8);\n",
    "h_inv_mass_TThad->SetMarkerSize(0.5);\n",
    "h_inv_mass_TThad->SetLineColor(kRed);\n",
    "//TTBar lep histrogram\n",
    "h_inv_mass_TTlep->SetMarkerStyle(8);\n",
    "h_inv_mass_TTlep->SetMarkerSize(0.5);\n",
    "h_inv_mass_TTlep->SetLineColor(kYellow);\n",
    "\n",
    "//Merged TTBar\n",
    "h_inv_mass_mergedTT->SetMarkerStyle(8);\n",
    "h_inv_mass_mergedTT->SetMarkerSize(0.5);\n",
    "h_inv_mass_mergedTT->SetLineColor(kRed);\n",
    "\n",
    "//W WenuW histogram  \n",
    "h_inv_mass_WenuW->SetMarkerStyle(8);\n",
    "h_inv_mass_WenuW->SetMarkerSize(0.5);\n",
    "h_inv_mass_WenuW->SetLineColor(kRed);\n",
    "\n",
    "//W WenuJ histrogram \n",
    "h_inv_mass_WenuJ->SetMarkerStyle(8);\n",
    "h_inv_mass_WenuJ->SetMarkerSize(0.5);\n",
    "h_inv_mass_WenuJ->SetLineColor(kYellow);\n",
    "//W WenuN histrogram\n",
    "h_inv_mass_WenuN->SetMarkerStyle(8);\n",
    "h_inv_mass_WenuN->SetMarkerSize(0.5);\n",
    "h_inv_mass_WenuN->SetLineColor(kBlue);\n",
    "\n",
    "//WmunuW histrogram\n",
    "h_inv_mass_WmunuW->SetMarkerStyle(8);\n",
    "h_inv_mass_WmunuW->SetMarkerSize(0.5);\n",
    "h_inv_mass_WmunuW->SetLineColor(kGreen);\n",
    "//W WmunuJ histrogram\n",
    "h_inv_mass_WmunuJ->SetMarkerStyle(8);\n",
    "h_inv_mass_WmunuJ->SetMarkerSize(0.5);\n",
    "h_inv_mass_WmunuJ->SetLineColor(kOrange);\n",
    "//W WmunuN histrogram\n",
    "h_inv_mass_WmunuN->SetMarkerStyle(8);\n",
    "h_inv_mass_WmunuN->SetMarkerSize(0.5);\n",
    "h_inv_mass_WmunuN->SetLineColor(kPink);\n",
    "//W WtaunuW histogram  \n",
    "h_inv_mass_WtaunuW->SetMarkerStyle(8);\n",
    "h_inv_mass_WtaunuW->SetMarkerSize(0.5);\n",
    "h_inv_mass_WtaunuW->SetLineColor(kViolet);\n",
    "\n",
    "//W WtaunuJ histrogram \n",
    "h_inv_mass_WtaunuJ->SetMarkerStyle(8);\n",
    "h_inv_mass_WtaunuJ->SetMarkerSize(0.5);\n",
    "h_inv_mass_WtaunuJ->SetLineColor(kAzure);\n",
    "//W WtaunuN histrogram\n",
    "h_inv_mass_WtaunuN->SetMarkerStyle(8);\n",
    "h_inv_mass_WtaunuN->SetMarkerSize(0.5);\n",
    "h_inv_mass_WtaunuN->SetLineColor(kTeal);\n",
    "//Merged W Wenu,Wmunu,Wtaunu\n",
    "h_inv_mass_mergedW->SetMarkerStyle(8);\n",
    "h_inv_mass_mergedW->SetMarkerSize(0.5);\n",
    "h_inv_mass_mergedW->SetLineColor(kGreen);"
   ]
  },
  {
   "cell_type": "markdown",
   "metadata": {},
   "source": [
    "Define DATA histogrms"
   ]
  },
  {
   "cell_type": "code",
   "execution_count": null,
   "metadata": {
    "collapsed": true
   },
   "outputs": [],
   "source": [
    "//DATA Histograms\n",
    "//Egamma\n",
    "\n",
    "h_lep_pt_Data->SetMarkerSize(0.5);\n",
    "h_lep_pt_Data->SetLineColor(kRed);\n",
    "h_lep_pt_Data->SetMarkerStyle(kFullCircle);\n",
    "//Muons \n",
    "h_lep_pt_Muons->SetMarkerStyle(8);\n",
    "h_lep_pt_Muons->SetMarkerSize(0.5);\n",
    "h_lep_pt_Muons->SetLineColor(kYellow);"
   ]
  },
  {
   "cell_type": "markdown",
   "metadata": {},
   "source": [
    "<b>Next step</b>: Fill the histogram. \n",
    "\n",
    "Deaclare the variable for number of entries and i for the FOR loop. \n",
    "\n",
    "<b>Start the loop</b> that will go from 0 to the number of entries from MonteCarlo chain.\n",
    "\n",
    "In order to get the precise representation of data we need a <b>weight</b> factor for each histogram. We get the weight factor as a product of <b>scaleFactor</b> anmd <b>eventWeight</b>. \n",
    "\n",
    "<b>scaleFactor</b> is a product of scaleFactor_ELE, scaleFactor_MUON and scaleFactor_TRIGGER. Those three variables are read from the MonteCarlo chain and declared with the rest of the variables in fist few steps. \n",
    "\n",
    "<b>eventWeight</b> is a product caleFactor_PILEUP and scaleFactor_ZVERTEX. These two varibles are also read from the MonteCarlo chain and declared with the rest of the variables in fist few steps.\n",
    "\n",
    "After that is done, we start to apply cuts need for analysis. \n",
    "\n",
    "First cut filters the data in a way that or reqires that each entry has exactly two good leptons with p T > 25 GeV. \n",
    "\n",
    "Second cut asks that the leptons in each entry have the oposite charge. We get this by declaring the variable OS which will be the product of charges of the first and second lepton. Then we ask if that product is negative and only the entries with negative value in OS made the cut. \n",
    "\n",
    "The third condition requires that dilepton invariant mass be close to the Z-boson mass, so that the diffrerence between the two is less than 20Gev. In order to get the invariant mass of two leopton we need TLorentzVector(linked) for first and second letpton. We set the values to the vector for the MonteCarlo chain for each lepton and calculate the absolute value of the sum of two. \n",
    "\n",
    "After the cuts are made, we need to fill the histograms. Each histogram has to be filled with the data from exact analysis. To accomplish that we use the channel number of each file as the unique identifier of each file. So we put a condition for every file so that each histogram is filled with exact data (meaning, the channel number for Zee analysis file is 147770, so only the entries that have that value for channel number will make the cut and fill the histogram inside the if condition). We do this for each file that is included in the chain. \n",
    "\n",
    "Filling the histograms: \n",
    "\n",
    "Each data set has values for every lepton type(pt, eta, phi...), so we fill each of these histrogram for every file included in chain. To fill histogram we call the Fill function with variable for each lepton type and weight as a parameters. "
   ]
  },
  {
   "cell_type": "code",
   "execution_count": null,
   "metadata": {
    "collapsed": false
   },
   "outputs": [],
   "source": [
    "int nentriesMC, nbytesMC, i;\n",
    "Float_t ll_mass;\n",
    "nentriesMC = (Int_t)MonteCarlo->GetEntries();\n",
    "std::cout << nentriesMC;\n",
    "\n",
    "for (i=0;i< nentriesMC; i++){\n",
    "    \n",
    "    nbytesMC = MonteCarlo->GetEntry(i);\n",
    "    \n",
    "    //SF\n",
    "    Float_t scaleFactor = MonteCarlo_scaleFactor_ELE*MonteCarlo_scaleFactor_MUON* MonteCarlo_scaleFactor_TRIGGER;\n",
    "    //EventW\n",
    "    Float_t eventWeight = MonteCarlo_mcWeight*MonteCarlo_scaleFactor_PILEUP*MonteCarlo_scaleFactor_ZVERTEX;\n",
    "    //weight = SF * EventW\n",
    "    Float_t weight = scaleFactor*eventWeight;\n",
    "    \n",
    "    //first cut \n",
    "    if(MonteCarlo_lep_n>1){\n",
    "        \n",
    "        //second cut \n",
    "        Float_t OS = MonteCarlo_lep_charge[0]*MonteCarlo_lep_charge[1];\n",
    "        if(OS == -1.){\n",
    "            \n",
    "            //third cut\n",
    "            if(MonteCarlo_lep_type[0] ==MonteCarlo_lep_type[1]){\n",
    "                \n",
    "                //forth cut \n",
    "                TLorentzVector Lepton_1 = TLorentzVector();\n",
    "                TLorentzVector Lepton_2 = TLorentzVector();\n",
    "        \n",
    "                Lepton_1.SetPtEtaPhiE( MonteCarlo_lep_pt[0]/1000. , MonteCarlo_lep_eta[0] , MonteCarlo_lep_phi[0] , MonteCarlo_lep_E[0]/1000.);\n",
    "                Lepton_2.SetPtEtaPhiE( MonteCarlo_lep_pt[1]/1000. , MonteCarlo_lep_eta[1] , MonteCarlo_lep_phi[1] , MonteCarlo_lep_E[1]/1000.);\n",
    "                Float_t Z_Mass = 91.188;\n",
    "                ll_mass = (Lepton_1 + Lepton_2).M();\n",
    "                \n",
    "                if( TMath::Abs(ll_mass - Z_Mass) < 20.){\n",
    "                    \n",
    "                    //drawing histograms\n",
    "                    //Zee\n",
    "                    if(MonteCarlo_runNumber ==147770){\n",
    "                        //PT\n",
    "                        float MonteCarlo_lep_pt_inGeV = MonteCarlo_lep_pt[0]/1000.;\n",
    "                        h_lep_pt_Zee->Fill(MonteCarlo_lep_pt_inGeV, weight);\n",
    "                        //ETA\n",
    "                        h_lep_eta_Zee->Fill(MonteCarlo_lep_eta[0], weight);\n",
    "                        //PHI\n",
    "                        h_lep_phi_Zee->Fill(MonteCarlo_lep_phi[0], weight);\n",
    "                        //E\n",
    "                        float MonteCarlo_lep_E_inGeV = MonteCarlo_lep_E[0]/1000.;\n",
    "                        h_lep_E_Zee->Fill(MonteCarlo_lep_E_inGeV, weight);\n",
    "                        //CHARGE\n",
    "                        h_lep_charge_Zee->Fill(MonteCarlo_lep_charge[0], weight);\n",
    "                        //ETC20\n",
    "                        h_lep_etc20_Zee->Fill(MonteCarlo_lep_etcone20[0], weight);\n",
    "                        //PTC30\n",
    "                        h_lep_ptc30_Zee->Fill(MonteCarlo_lep_ptcone30[0], weight);\n",
    "                        //Z0\n",
    "                        h_lep_z0_Zee->Fill(MonteCarlo_lep_z0[0], weight);\n",
    "                        //D0\n",
    "                        h_lep_d0_Zee->Fill(MonteCarlo_lep_d0[0], weight);\n",
    "                        //PT_TL\n",
    "                        float MonteCarlo_lep_pt_tl_inGeV = MonteCarlo_lep_pt[1]/1000.;\n",
    "                        h_lep_pt_tl_Zee->Fill(MonteCarlo_lep_pt_tl_inGeV, weight);\n",
    "                        //ETA_TL\n",
    "                        h_lep_eta_tl_Zee->Fill(MonteCarlo_lep_eta[1], weight);\n",
    "                        //PHI_TL\n",
    "                        h_lep_phi_tl_Zee->Fill(MonteCarlo_lep_phi[1], weight);\n",
    "                        //E_TL\n",
    "                        float MonteCarlo_lep_E_tl_inGeV = MonteCarlo_lep_E[1]/1000.;\n",
    "                        h_lep_E_tl_Zee->Fill(MonteCarlo_lep_E_tl_inGeV, weight);\n",
    "                        //CHARGE_TL\n",
    "                        h_lep_charge_tl_Zee->Fill(MonteCarlo_lep_charge[1], weight);\n",
    "                        //ETC20_TL\n",
    "                        h_lep_etc20_tl_Zee->Fill(MonteCarlo_lep_etcone20[1], weight);\n",
    "                        //PTC30_TL\n",
    "                        h_lep_ptc30_tl_Zee->Fill(MonteCarlo_lep_ptcone30[1], weight);\n",
    "                        //Z0_TL\n",
    "                        h_lep_z0_tl_Zee->Fill(MonteCarlo_lep_z0[1], weight);\n",
    "                        //D0_TL\n",
    "                        h_lep_d0_tl_Zee->Fill(MonteCarlo_lep_d0[1], weight);\n",
    "                        //JET_N\n",
    "                        h_jet_n_Zee->Fill(MonteCarlo_jet_n, weight);\n",
    "                        //JET_PT\n",
    "                        float MonteCarlo_jet_pt_inGeV = MonteCarlo_jet_pt[0]/1000.;\n",
    "                        h_jet_pt_Zee->Fill(MonteCarlo_jet_pt_inGeV, weight);\n",
    "                        //JET_ETA\n",
    "                        h_jet_eta_Zee->Fill(MonteCarlo_jet_eta[0], weight);\n",
    "                        //JET_M\n",
    "                        float MonteCarlo_jet_m_inGeV = MonteCarlo_jet_m[0]/1000.;\n",
    "                        h_jet_m_Zee->Fill(MonteCarlo_jet_m_inGeV, weight);\n",
    "                        //JET_JVF\n",
    "                        h_jet_jvf_Zee->Fill(MonteCarlo_jet_jvf[0], weight);\n",
    "                        //JET_MV1\n",
    "                        h_jet_MV1_Zee->Fill(MonteCarlo_jet_MV1[0], weight);\n",
    "                        //PVXP_N\n",
    "                        h_pvxp_n_Zee->Fill(MonteCarlo_pvxp_n, weight);\n",
    "                        //VXP_Z\n",
    "                        h_vxp_z_Zee->Fill(MonteCarlo_vxp_z, weight);\n",
    "                        //MET_ET\n",
    "                        float MonteCarlo_met_et_inGeV = MonteCarlo_met_et/1000.;\n",
    "                        h_met_et_Zee->Fill(MonteCarlo_met_et_inGeV, weight);\n",
    "                        //INV_MASS\n",
    "                        h_inv_mass_Zee->Fill(ll_mass, weight);\n",
    "                    }\n",
    "                    //Zmumu\n",
    "                    else if(MonteCarlo_runNumber ==147771){\n",
    "                        //PT\n",
    "                        float MonteCarlo_lep_pt_inGeV = MonteCarlo_lep_pt[0]/1000.;\n",
    "                        h_lep_pt_Zmumu->Fill(MonteCarlo_lep_pt_inGeV, weight);\n",
    "                        //ETA\n",
    "                        h_lep_eta_Zmumu->Fill(MonteCarlo_lep_eta[0], weight);\n",
    "                        //PHI\n",
    "                        h_lep_phi_Zmumu->Fill(MonteCarlo_lep_phi[0], weight);\n",
    "                        //E\n",
    "                        float MonteCarlo_lep_E_inGeV = MonteCarlo_lep_E[0]/1000.;\n",
    "                        h_lep_E_Zmumu->Fill(MonteCarlo_lep_E_inGeV, weight);\n",
    "                        //CHARGE\n",
    "                        h_lep_charge_Zmumu->Fill(MonteCarlo_lep_charge[0], weight);\n",
    "                        //ETC20\n",
    "                        h_lep_etc20_Zmumu->Fill(MonteCarlo_lep_etcone20[0], weight);\n",
    "                        //PTC30\n",
    "                        h_lep_ptc30_Zmumu->Fill(MonteCarlo_lep_ptcone30[0], weight);\n",
    "                        //Z0\n",
    "                        h_lep_z0_Zmumu->Fill(MonteCarlo_lep_z0[0], weight);\n",
    "                        //D0\n",
    "                        h_lep_d0_Zmumu->Fill(MonteCarlo_lep_d0[0], weight);\n",
    "                        //PT_TL\n",
    "                        float MonteCarlo_lep_pt_tl_inGeV = MonteCarlo_lep_pt[1]/1000.;\n",
    "                        h_lep_pt_tl_Zmumu->Fill(MonteCarlo_lep_pt_tl_inGeV, weight);\n",
    "                        //ETA_TL\n",
    "                        h_lep_eta_tl_Zmumu->Fill(MonteCarlo_lep_eta[1], weight);\n",
    "                        //PHI_TL\n",
    "                        h_lep_phi_tl_Zmumu->Fill(MonteCarlo_lep_phi[1], weight);\n",
    "                        //E_TL\n",
    "                        float MonteCarlo_lep_E_tl_inGeV = MonteCarlo_lep_E[1]/1000.;\n",
    "                        h_lep_E_tl_Zmumu->Fill(MonteCarlo_lep_E_tl_inGeV, weight);\n",
    "                        //CHARGE_TL\n",
    "                        h_lep_charge_tl_Zmumu->Fill(MonteCarlo_lep_charge[1], weight);\n",
    "                        //ETC20_TL\n",
    "                        h_lep_etc20_tl_Zmumu->Fill(MonteCarlo_lep_etcone20[1], weight);\n",
    "                        //PTC30_TL\n",
    "                        h_lep_ptc30_tl_Zmumu->Fill(MonteCarlo_lep_ptcone30[1], weight);\n",
    "                        //Z0_TL\n",
    "                        h_lep_z0_tl_Zmumu->Fill(MonteCarlo_lep_z0[1], weight);\n",
    "                        //D0_TL\n",
    "                        h_lep_d0_tl_Zmumu->Fill(MonteCarlo_lep_d0[1], weight);\n",
    "                        //JET_N\n",
    "                        h_jet_n_Zmumu->Fill(MonteCarlo_jet_n, weight);\n",
    "                        //JET_PT\n",
    "                        float MonteCarlo_jet_pt_inGeV = MonteCarlo_jet_pt[0]/1000.;\n",
    "                        h_jet_pt_Zmumu->Fill(MonteCarlo_jet_pt_inGeV, weight);\n",
    "                        //JET_ETA\n",
    "                        h_jet_eta_Zmumu->Fill(MonteCarlo_jet_eta[0], weight);\n",
    "                        //JET_M\n",
    "                        float MonteCarlo_jet_m_inGeV = MonteCarlo_jet_m[0]/1000.;\n",
    "                        h_jet_m_Zmumu->Fill(MonteCarlo_jet_m_inGeV, weight);\n",
    "                        //JET_JVF\n",
    "                        h_jet_jvf_Zmumu->Fill(MonteCarlo_jet_jvf[0], weight);\n",
    "                        //JET_MV1\n",
    "                        h_jet_MV1_Zmumu->Fill(MonteCarlo_jet_MV1[0], weight);\n",
    "                        //PVXP_N\n",
    "                        h_pvxp_n_Zmumu->Fill(MonteCarlo_pvxp_n, weight);\n",
    "                        //VXP_Z\n",
    "                        h_vxp_z_Zmumu->Fill(MonteCarlo_vxp_z, weight);\n",
    "                        //MET_ET\n",
    "                        float MonteCarlo_met_et_inGeV = MonteCarlo_met_et/1000.;\n",
    "                        h_met_et_Zmumu->Fill(MonteCarlo_met_et_inGeV, weight);\n",
    "                        //INV_MASS\n",
    "                        h_inv_mass_Zmumu->Fill(ll_mass, weight);\n",
    "                         \n",
    "                     }\n",
    "                    //Ztautau\n",
    "                    else if(MonteCarlo_runNumber ==147772){\n",
    "                        //PT\n",
    "                        float MonteCarlo_lep_pt_inGeV = MonteCarlo_lep_pt[0]/1000.;\n",
    "                        h_lep_pt_Ztautau->Fill(MonteCarlo_lep_pt_inGeV, weight);\n",
    "                        //ETA\n",
    "                        h_lep_eta_Ztautau->Fill(MonteCarlo_lep_eta[0], weight);\n",
    "                        //PHI\n",
    "                        h_lep_phi_Ztautau->Fill(MonteCarlo_lep_phi[0], weight);\n",
    "                        //E\n",
    "                        float MonteCarlo_lep_E_inGeV = MonteCarlo_lep_E[0]/1000.;\n",
    "                        h_lep_E_Ztautau->Fill(MonteCarlo_lep_E_inGeV, weight);\n",
    "                        //CHARGE\n",
    "                        h_lep_charge_Ztautau->Fill(MonteCarlo_lep_charge[0], weight);\n",
    "                        //ETC20\n",
    "                        h_lep_etc20_Ztautau->Fill(MonteCarlo_lep_etcone20[0], weight);\n",
    "                        //PTC30\n",
    "                        h_lep_ptc30_Ztautau->Fill(MonteCarlo_lep_ptcone30[0], weight);\n",
    "                        //Z0\n",
    "                        h_lep_z0_Ztautau->Fill(MonteCarlo_lep_z0[0], weight);\n",
    "                        //D0\n",
    "                        h_lep_d0_Ztautau->Fill(MonteCarlo_lep_d0[0], weight);\n",
    "                        //PT_TL\n",
    "                        float MonteCarlo_lep_pt_tl_inGeV = MonteCarlo_lep_pt[1]/1000.;\n",
    "                        h_lep_pt_tl_Ztautau->Fill(MonteCarlo_lep_pt_tl_inGeV, weight);\n",
    "                        //ETA_TL\n",
    "                        h_lep_eta_tl_Ztautau->Fill(MonteCarlo_lep_eta[1], weight);\n",
    "                        //PHI_TL\n",
    "                        h_lep_phi_tl_Ztautau->Fill(MonteCarlo_lep_phi[1], weight);\n",
    "                        //E_TL\n",
    "                        float MonteCarlo_lep_E_tl_inGeV = MonteCarlo_lep_E[1]/1000.;\n",
    "                        h_lep_E_tl_Ztautau->Fill(MonteCarlo_lep_E_tl_inGeV, weight);\n",
    "                        //CHARGE_TL\n",
    "                        h_lep_charge_tl_Ztautau->Fill(MonteCarlo_lep_charge[1], weight);\n",
    "                        //ETC20_TL\n",
    "                        h_lep_etc20_tl_Ztautau->Fill(MonteCarlo_lep_etcone20[1], weight);\n",
    "                        //PTC30_TL\n",
    "                        h_lep_ptc30_tl_Ztautau->Fill(MonteCarlo_lep_ptcone30[1], weight);\n",
    "                        //Z0_TL\n",
    "                        h_lep_z0_tl_Ztautau->Fill(MonteCarlo_lep_z0[1], weight);\n",
    "                        //D0_TL\n",
    "                        h_lep_d0_tl_Ztautau->Fill(MonteCarlo_lep_d0[1], weight);\n",
    "                        //JET_N\n",
    "                        h_jet_n_Ztautau->Fill(MonteCarlo_jet_n, weight);\n",
    "                        //JET_PT\n",
    "                        float MonteCarlo_jet_pt_inGeV = MonteCarlo_jet_pt[0]/1000.;\n",
    "                        h_jet_pt_Ztautau->Fill(MonteCarlo_jet_pt_inGeV, weight);\n",
    "                        //JET_ETA\n",
    "                        h_jet_eta_Ztautau->Fill(MonteCarlo_jet_eta[0], weight);\n",
    "                        //JET_M\n",
    "                        float MonteCarlo_jet_m_inGeV = MonteCarlo_jet_m[0]/1000.;\n",
    "                        h_jet_m_Ztautau->Fill(MonteCarlo_jet_m_inGeV, weight);\n",
    "                        //JET_JVF\n",
    "                        h_jet_jvf_Ztautau->Fill(MonteCarlo_jet_jvf[0], weight);\n",
    "                        //JET_MV1\n",
    "                        h_jet_MV1_Ztautau->Fill(MonteCarlo_jet_MV1[0], weight);\n",
    "                        //PVXP_N\n",
    "                        h_pvxp_n_Ztautau->Fill(MonteCarlo_pvxp_n, weight);\n",
    "                        //VXP_Z\n",
    "                        h_vxp_z_Ztautau->Fill(MonteCarlo_vxp_z, weight);\n",
    "                        //MET_ET\n",
    "                        float MonteCarlo_met_et_inGeV = MonteCarlo_met_et/1000.;\n",
    "                        h_met_et_Ztautau->Fill(MonteCarlo_met_et_inGeV, weight);\n",
    "                        //INV_MASS\n",
    "                        \n",
    "                        h_inv_mass_Ztautau->Fill(ll_mass, weight);\n",
    "                        \n",
    "                     }\n",
    "                    //Diboson WW\n",
    "                    else if(MonteCarlo_runNumber ==105985){\n",
    "                        //PT\n",
    "                        float MonteCarlo_lep_pt_inGeV = MonteCarlo_lep_pt[0]/1000.;\n",
    "                        h_lep_pt_Dww->Fill(MonteCarlo_lep_pt_inGeV, weight);\n",
    "                        //ETA\n",
    "                        h_lep_eta_Dww->Fill(MonteCarlo_lep_eta[0], weight);\n",
    "                        //PHI\n",
    "                        h_lep_phi_Dww->Fill(MonteCarlo_lep_phi[0], weight);\n",
    "                        //E\n",
    "                        float MonteCarlo_lep_E_inGeV = MonteCarlo_lep_E[0]/1000.;\n",
    "                        h_lep_E_Dww->Fill(MonteCarlo_lep_E_inGeV, weight);\n",
    "                        //CHARGE\n",
    "                        h_lep_charge_Dww->Fill(MonteCarlo_lep_charge[0], weight);\n",
    "                        //ETC20\n",
    "                        h_lep_etc20_Dww->Fill(MonteCarlo_lep_etcone20[0], weight);\n",
    "                        //PTC30\n",
    "                        h_lep_ptc30_Dww->Fill(MonteCarlo_lep_ptcone30[0], weight);\n",
    "                        //Z0\n",
    "                        h_lep_z0_Dww->Fill(MonteCarlo_lep_z0[0], weight);\n",
    "                        //D0\n",
    "                        h_lep_d0_Dww->Fill(MonteCarlo_lep_d0[0], weight);\n",
    "                        //PT_TL\n",
    "                        float MonteCarlo_lep_pt_tl_inGeV = MonteCarlo_lep_pt[1]/1000.;\n",
    "                        h_lep_pt_tl_Dww->Fill(MonteCarlo_lep_pt_tl_inGeV, weight);\n",
    "                        //ETA_TL\n",
    "                        h_lep_eta_tl_Dww->Fill(MonteCarlo_lep_eta[1], weight);\n",
    "                        //PHI_TL\n",
    "                        h_lep_phi_tl_Dww->Fill(MonteCarlo_lep_phi[1], weight);\n",
    "                        //E_TL\n",
    "                        float MonteCarlo_lep_E_tl_inGeV = MonteCarlo_lep_E[1]/1000.;\n",
    "                        h_lep_E_tl_Dww->Fill(MonteCarlo_lep_E_inGeV, weight);\n",
    "                        //CHARGE_TL\n",
    "                        h_lep_charge_tl_Dww->Fill(MonteCarlo_lep_charge[1], weight);\n",
    "                        //ETC20_TL\n",
    "                        h_lep_etc20_tl_Dww->Fill(MonteCarlo_lep_etcone20[1], weight);\n",
    "                        //PTC30_TL\n",
    "                        h_lep_ptc30_tl_Dww->Fill(MonteCarlo_lep_ptcone30[1], weight);\n",
    "                        //Z0_TL\n",
    "                        h_lep_z0_tl_Dww->Fill(MonteCarlo_lep_z0[1], weight);\n",
    "                        //D0_TL\n",
    "                        h_lep_d0_tl_Dww->Fill(MonteCarlo_lep_d0[1], weight);\n",
    "                        //JET_N\n",
    "                        h_jet_n_Dww->Fill(MonteCarlo_jet_n, weight);\n",
    "                        //JET_PT\n",
    "                        float MonteCarlo_jet_pt_inGeV = MonteCarlo_jet_pt[0]/1000.;\n",
    "                        h_jet_pt_Dww->Fill(MonteCarlo_jet_pt_inGeV, weight);\n",
    "                        //JET_ETA\n",
    "                        h_jet_eta_Dww->Fill(MonteCarlo_jet_eta[0], weight);\n",
    "                        //JET_M\n",
    "                        float MonteCarlo_jet_m_inGeV = MonteCarlo_jet_m[0]/1000.;\n",
    "                        h_jet_m_Dww->Fill(MonteCarlo_jet_m_inGeV, weight);\n",
    "                        //JET_JVF\n",
    "                        h_jet_jvf_Dww->Fill(MonteCarlo_jet_jvf[0], weight);\n",
    "                        //JET_MV1\n",
    "                        h_jet_MV1_Dww->Fill(MonteCarlo_jet_MV1[0], weight);\n",
    "                        //PVXP_N\n",
    "                        h_pvxp_n_Dww->Fill(MonteCarlo_pvxp_n, weight);\n",
    "                        //VXP_Z\n",
    "                        h_vxp_z_Dww->Fill(MonteCarlo_vxp_z, weight);\n",
    "                        //MET_ET\n",
    "                        float MonteCarlo_met_et_inGeV = MonteCarlo_met_et/1000.;\n",
    "                        h_met_et_Dww->Fill(MonteCarlo_met_et_inGeV, weight);\n",
    "                        //INV_MASS\n",
    "                        \n",
    "                        h_inv_mass_Dww->Fill(ll_mass, weight);\n",
    "                    }\n",
    "                    //Diboson ZZ\n",
    "                    else if(MonteCarlo_runNumber ==105986){\n",
    "                        //PT\n",
    "                        float MonteCarlo_lep_pt_inGeV = MonteCarlo_lep_pt[0]/1000.;\n",
    "                        h_lep_pt_Dzz->Fill(MonteCarlo_lep_pt_inGeV, weight);\n",
    "                        //ETA\n",
    "                        h_lep_eta_Dzz->Fill(MonteCarlo_lep_eta[0], weight);\n",
    "                        //PHI\n",
    "                        h_lep_phi_Dzz->Fill(MonteCarlo_lep_phi[0], weight);\n",
    "                        //E\n",
    "                        float MonteCarlo_lep_E_inGeV = MonteCarlo_lep_E[0]/1000.;\n",
    "                        h_lep_E_Dzz->Fill(MonteCarlo_lep_E_inGeV, weight);\n",
    "                        //CHARGE\n",
    "                        h_lep_charge_Dzz->Fill(MonteCarlo_lep_charge[0], weight);\n",
    "                        //ETC20\n",
    "                        h_lep_etc20_Dzz->Fill(MonteCarlo_lep_etcone20[0], weight);\n",
    "                        //PTC30\n",
    "                        h_lep_ptc30_Dzz->Fill(MonteCarlo_lep_ptcone30[0], weight);\n",
    "                        //Z0\n",
    "                        h_lep_z0_Dzz->Fill(MonteCarlo_lep_z0[0], weight);\n",
    "                        //D0\n",
    "                        h_lep_d0_Dzz->Fill(MonteCarlo_lep_d0[0], weight);\n",
    "                        //PT_TL\n",
    "                        float MonteCarlo_lep_pt_tl_inGeV = MonteCarlo_lep_pt[1]/1000.;\n",
    "                        h_lep_pt_tl_Dzz->Fill(MonteCarlo_lep_pt_tl_inGeV, weight);\n",
    "                        //ETA_TL\n",
    "                        h_lep_eta_tl_Dzz->Fill(MonteCarlo_lep_eta[1], weight);\n",
    "                        //PHI_TL\n",
    "                        h_lep_phi_tl_Dzz->Fill(MonteCarlo_lep_phi[1], weight);\n",
    "                        //E_TL\n",
    "                        float MonteCarlo_lep_E_tl_inGeV = MonteCarlo_lep_E[1]/1000.;\n",
    "                        h_lep_E_tl_Dzz->Fill(MonteCarlo_lep_E_tl_inGeV, weight);\n",
    "                        //CHARGE_TL\n",
    "                        h_lep_charge_tl_Dzz->Fill(MonteCarlo_lep_charge[1], weight);\n",
    "                        //ETC20_TL\n",
    "                        h_lep_etc20_tl_Dzz->Fill(MonteCarlo_lep_etcone20[1], weight);\n",
    "                        //PTC30_TL\n",
    "                        h_lep_ptc30_tl_Dzz->Fill(MonteCarlo_lep_ptcone30[1], weight);\n",
    "                        //Z0_TL\n",
    "                        h_lep_z0_tl_Dzz->Fill(MonteCarlo_lep_z0[1], weight);\n",
    "                        //D0_TL\n",
    "                        h_lep_d0_tl_Dzz->Fill(MonteCarlo_lep_d0[1], weight);\n",
    "                        //JET_N\n",
    "                        h_jet_n_Dzz->Fill(MonteCarlo_jet_n, weight);\n",
    "                        //JET_PT\n",
    "                        float MonteCarlo_jet_pt_inGeV = MonteCarlo_jet_pt[0]/1000.;\n",
    "                        h_jet_pt_Dzz->Fill(MonteCarlo_jet_pt_inGeV, weight);\n",
    "                        //JET_ETA\n",
    "                        h_jet_eta_Dzz->Fill(MonteCarlo_jet_eta[0], weight);\n",
    "                        //JET_M\n",
    "                        float MonteCarlo_jet_m_inGeV = MonteCarlo_jet_m[0]/1000.;\n",
    "                        h_jet_m_Dzz->Fill(MonteCarlo_jet_m_inGeV, weight);\n",
    "                        //JET_JVF\n",
    "                        h_jet_jvf_Dzz->Fill(MonteCarlo_jet_jvf[0], weight);\n",
    "                        //JET_MV1\n",
    "                        h_jet_MV1_Dzz->Fill(MonteCarlo_jet_MV1[0], weight);\n",
    "                        //PVXP_N\n",
    "                        h_pvxp_n_Dzz->Fill(MonteCarlo_pvxp_n, weight);\n",
    "                        //VXP_Z\n",
    "                        h_vxp_z_Dzz->Fill(MonteCarlo_vxp_z, weight);\n",
    "                        //MET_ET\n",
    "                        float MonteCarlo_met_et_inGeV = MonteCarlo_met_et/1000.;\n",
    "                        h_met_et_Dzz->Fill(MonteCarlo_met_et_inGeV, weight);\n",
    "                        //INV_MASS\n",
    "                        \n",
    "                        h_inv_mass_Dzz->Fill(ll_mass, weight);\n",
    "                    }\n",
    "                    //Diboson WZ\n",
    "                    else if(MonteCarlo_runNumber ==105987){\n",
    "                        //PT\n",
    "                        float MonteCarlo_lep_pt_inGeV = MonteCarlo_lep_pt[0]/1000.;\n",
    "                        h_lep_pt_Dwz->Fill(MonteCarlo_lep_pt_inGeV, weight);\n",
    "                        //ETA\n",
    "                        h_lep_eta_Dwz->Fill(MonteCarlo_lep_eta[0], weight);\n",
    "                        //PHI\n",
    "                        h_lep_phi_Dwz->Fill(MonteCarlo_lep_phi[0], weight);\n",
    "                        //E\n",
    "                        float MonteCarlo_lep_E_inGeV = MonteCarlo_lep_E[0]/1000.;\n",
    "                        h_lep_E_Dwz->Fill(MonteCarlo_lep_E_inGeV, weight);\n",
    "                        //CHARGE\n",
    "                        h_lep_charge_Dwz->Fill(MonteCarlo_lep_charge[0], weight);\n",
    "                        //ETC20\n",
    "                        h_lep_etc20_Dwz->Fill(MonteCarlo_lep_etcone20[0], weight);\n",
    "                        //PTC30\n",
    "                        h_lep_ptc30_Dwz->Fill(MonteCarlo_lep_ptcone30[0], weight);\n",
    "                        //Z0\n",
    "                        h_lep_z0_Dwz->Fill(MonteCarlo_lep_z0[0], weight);\n",
    "                        //D0\n",
    "                        h_lep_d0_Dwz->Fill(MonteCarlo_lep_d0[0], weight);\n",
    "                        //PT_TL\n",
    "                        float MonteCarlo_lep_pt_tl_inGeV = MonteCarlo_lep_pt[1]/1000.;\n",
    "                        h_lep_pt_tl_Dwz->Fill(MonteCarlo_lep_pt_tl_inGeV, weight);\n",
    "                        //ETA_TL\n",
    "                        h_lep_eta_tl_Dwz->Fill(MonteCarlo_lep_eta[1], weight);\n",
    "                        //PHI_TL\n",
    "                        h_lep_phi_tl_Dwz->Fill(MonteCarlo_lep_phi[1], weight);\n",
    "                        //E_TL\n",
    "                        float MonteCarlo_lep_E_tl_inGeV = MonteCarlo_lep_E[1]/1000.;\n",
    "                        h_lep_E_tl_Dwz->Fill(MonteCarlo_lep_E_tl_inGeV, weight);\n",
    "                        //CHARGE_TL\n",
    "                        h_lep_charge_tl_Dwz->Fill(MonteCarlo_lep_charge[1], weight);\n",
    "                        //ETC20_TL\n",
    "                        h_lep_etc20_tl_Dwz->Fill(MonteCarlo_lep_etcone20[1], weight);\n",
    "                        //PTC30_TL\n",
    "                        h_lep_ptc30_tl_Dwz->Fill(MonteCarlo_lep_ptcone30[1], weight);\n",
    "                        //Z0_TL\n",
    "                        h_lep_z0_tl_Dwz->Fill(MonteCarlo_lep_z0[1], weight);\n",
    "                        //D0_TL\n",
    "                        h_lep_d0_tl_Dwz->Fill(MonteCarlo_lep_d0[1], weight);\n",
    "                        //JET_N\n",
    "                        h_jet_n_Dwz->Fill(MonteCarlo_jet_n, weight);\n",
    "                        //JET_PT\n",
    "                        float MonteCarlo_jet_pt_inGeV = MonteCarlo_jet_pt[0]/1000.;\n",
    "                        h_jet_pt_Dwz->Fill(MonteCarlo_jet_pt_inGeV, weight);\n",
    "                        //JET_ETA\n",
    "                        h_jet_eta_Dwz->Fill(MonteCarlo_jet_eta[0], weight);\n",
    "                        //JET_M\n",
    "                        float MonteCarlo_jet_m_inGeV = MonteCarlo_jet_m[0]/1000.;\n",
    "                        h_jet_m_Dwz->Fill(MonteCarlo_jet_m_inGeV, weight);\n",
    "                        //JET_JVF\n",
    "                        h_jet_jvf_Dwz->Fill(MonteCarlo_jet_jvf[0], weight);\n",
    "                        //JET_MV1\n",
    "                        h_jet_MV1_Dwz->Fill(MonteCarlo_jet_MV1[0], weight);\n",
    "                        //PVXP_N\n",
    "                        h_pvxp_n_Dwz->Fill(MonteCarlo_pvxp_n, weight);\n",
    "                        //VXP_Z\n",
    "                        h_vxp_z_Dwz->Fill(MonteCarlo_vxp_z, weight);\n",
    "                        //MET_ET\n",
    "                        float MonteCarlo_met_et_inGeV = MonteCarlo_met_et/1000.;\n",
    "                        h_met_et_Dwz->Fill(MonteCarlo_met_et_inGeV, weight);\n",
    "                        //INV_MASS\n",
    "                        \n",
    "                        h_inv_mass_Dwz->Fill(ll_mass, weight);\n",
    "                    }\n",
    "                    //DY EE1\n",
    "                    else if(MonteCarlo_runNumber ==173041){\n",
    "                        //PT\n",
    "                        float MonteCarlo_lep_pt_inGeV = MonteCarlo_lep_pt[0]/1000.;\n",
    "                        h_lep_pt_DYee1->Fill(MonteCarlo_lep_pt_inGeV, weight);\n",
    "                        //ETA\n",
    "                        h_lep_eta_DYee1->Fill(MonteCarlo_lep_eta[0], weight);\n",
    "                        //PHI\n",
    "                        h_lep_phi_DYee1->Fill(MonteCarlo_lep_phi[0], weight);\n",
    "                        //E\n",
    "                        float MonteCarlo_lep_E_inGeV = MonteCarlo_lep_E[0]/1000.;\n",
    "                        h_lep_E_DYee1->Fill(MonteCarlo_lep_E_inGeV, weight);\n",
    "                        //CHARGE\n",
    "                        h_lep_charge_DYee1->Fill(MonteCarlo_lep_charge[0], weight);\n",
    "                        //ETC20\n",
    "                        h_lep_etc20_DYee1->Fill(MonteCarlo_lep_etcone20[0], weight);\n",
    "                        //PTC30\n",
    "                        h_lep_ptc30_DYee1->Fill(MonteCarlo_lep_ptcone30[0], weight);\n",
    "                        //Z0\n",
    "                        h_lep_z0_DYee1->Fill(MonteCarlo_lep_z0[0], weight);\n",
    "                        //D0\n",
    "                        h_lep_d0_DYee1->Fill(MonteCarlo_lep_d0[0], weight);\n",
    "                        //PT_TL\n",
    "                        float MonteCarlo_lep_pt_tl_inGeV = MonteCarlo_lep_pt[1]/1000.;\n",
    "                        h_lep_pt_tl_DYee1->Fill(MonteCarlo_lep_pt_tl_inGeV, weight);\n",
    "                        //ETA_TL\n",
    "                        h_lep_eta_tl_DYee1->Fill(MonteCarlo_lep_eta[1], weight);\n",
    "                        //PHI_TL\n",
    "                        h_lep_phi_tl_DYee1->Fill(MonteCarlo_lep_phi[1], weight);\n",
    "                        //E_TL\n",
    "                        float MonteCarlo_lep_E_tl_inGeV = MonteCarlo_lep_E[1]/1000.;\n",
    "                        h_lep_E_tl_DYee1->Fill(MonteCarlo_lep_E_tl_inGeV, weight);\n",
    "                        //CHARGE_TL\n",
    "                        h_lep_charge_tl_DYee1->Fill(MonteCarlo_lep_charge[1], weight);\n",
    "                        //ETC20_TL\n",
    "                        h_lep_etc20_tl_DYee1->Fill(MonteCarlo_lep_etcone20[0], weight);\n",
    "                        //PTC30_TL\n",
    "                        h_lep_ptc30_tl_DYee1->Fill(MonteCarlo_lep_ptcone30[1], weight);\n",
    "                        //Z0_TL\n",
    "                        h_lep_z0_tl_DYee1->Fill(MonteCarlo_lep_z0[1], weight);\n",
    "                        //D0_TL\n",
    "                        h_lep_d0_tl_DYee1->Fill(MonteCarlo_lep_d0[1], weight);\n",
    "                        //JET_N\n",
    "                        h_jet_n_DYee1->Fill(MonteCarlo_jet_n, weight);\n",
    "                        //JET_PT\n",
    "                        float MonteCarlo_jet_pt_inGeV = MonteCarlo_jet_pt[0]/1000.;\n",
    "                        h_jet_pt_DYee1->Fill(MonteCarlo_jet_pt_inGeV, weight);\n",
    "                        //JET_ETA\n",
    "                        h_jet_eta_DYee1->Fill(MonteCarlo_jet_eta[0], weight);\n",
    "                        //JET_M\n",
    "                        float MonteCarlo_jet_m_inGeV = MonteCarlo_jet_m[0]/1000.;\n",
    "                        h_jet_m_DYee1->Fill(MonteCarlo_jet_m_inGeV, weight);\n",
    "                        //JET_JVF\n",
    "                        h_jet_jvf_DYee1->Fill(MonteCarlo_jet_jvf[0], weight);\n",
    "                        //JET_MV1\n",
    "                        h_jet_MV1_DYee1->Fill(MonteCarlo_jet_MV1[0], weight);\n",
    "                        //PVXP_N\n",
    "                        h_pvxp_n_DYee1->Fill(MonteCarlo_pvxp_n, weight);\n",
    "                        //VXP_Z\n",
    "                        h_vxp_z_DYee1->Fill(MonteCarlo_vxp_z, weight);\n",
    "                        //MET_ET\n",
    "                        float MonteCarlo_met_et_inGeV = MonteCarlo_met_et/1000.;\n",
    "                        h_met_et_DYee1->Fill(MonteCarlo_met_et_inGeV, weight);\n",
    "                        //INV_MASS\n",
    "                        \n",
    "                        h_inv_mass_DYee1->Fill(ll_mass, weight);\n",
    "                    }\n",
    "                     //DY EE2\n",
    "                    else if(MonteCarlo_runNumber ==173042){\n",
    "                        //PT\n",
    "                        float MonteCarlo_lep_pt_inGeV = MonteCarlo_lep_pt[0]/1000.;\n",
    "                        h_lep_pt_DYee2->Fill(MonteCarlo_lep_pt_inGeV, weight);\n",
    "                        //ETA\n",
    "                        h_lep_eta_DYee2->Fill(MonteCarlo_lep_eta[0], weight);\n",
    "                        //PHI\n",
    "                        h_lep_phi_DYee2->Fill(MonteCarlo_lep_phi[0], weight);\n",
    "                        //E\n",
    "                        float MonteCarlo_lep_E_inGeV = MonteCarlo_lep_E[0]/1000.;\n",
    "                        h_lep_E_DYee2->Fill(MonteCarlo_lep_E_inGeV, weight);\n",
    "                        //CHARGE\n",
    "                        h_lep_charge_DYee2->Fill(MonteCarlo_lep_charge[0], weight);\n",
    "                        //ETC20\n",
    "                        h_lep_etc20_DYee2->Fill(MonteCarlo_lep_etcone20[0], weight);\n",
    "                        //PTC30\n",
    "                        h_lep_ptc30_DYee2->Fill(MonteCarlo_lep_ptcone30[0], weight);\n",
    "                        //Z0\n",
    "                        h_lep_z0_DYee2->Fill(MonteCarlo_lep_z0[0], weight);\n",
    "                        //D0\n",
    "                        h_lep_d0_DYee2->Fill(MonteCarlo_lep_d0[0], weight);\n",
    "                        //PT_TL\n",
    "                        float MonteCarlo_lep_pt_tl_inGeV = MonteCarlo_lep_pt[1]/1000.;\n",
    "                        h_lep_pt_tl_DYee2->Fill(MonteCarlo_lep_pt_tl_inGeV, weight);\n",
    "                        //ETA_TL\n",
    "                        h_lep_eta_tl_DYee2->Fill(MonteCarlo_lep_eta[1], weight);\n",
    "                        //PHI_TL\n",
    "                        h_lep_phi_tl_DYee2->Fill(MonteCarlo_lep_phi[1], weight);\n",
    "                        //E_TL\n",
    "                        float MonteCarlo_lep_E_tl_inGeV = MonteCarlo_lep_E[1]/1000.;\n",
    "                        h_lep_E_tl_DYee2->Fill(MonteCarlo_lep_E_tl_inGeV, weight);\n",
    "                        //CHARGE_TL\n",
    "                        h_lep_charge_tl_DYee2->Fill(MonteCarlo_lep_charge[1], weight);\n",
    "                        //ETC20_TL\n",
    "                        h_lep_etc20_tl_DYee2->Fill(MonteCarlo_lep_etcone20[1], weight);\n",
    "                        //PTC30_TL\n",
    "                        h_lep_ptc30_tl_DYee2->Fill(MonteCarlo_lep_ptcone30[1], weight);\n",
    "                        //Z0_TL\n",
    "                        h_lep_z0_tl_DYee2->Fill(MonteCarlo_lep_z0[1], weight);\n",
    "                        //D0_TL\n",
    "                        h_lep_d0_tl_DYee2->Fill(MonteCarlo_lep_d0[1], weight);\n",
    "                        //JET_N\n",
    "                        h_jet_n_DYee2->Fill(MonteCarlo_jet_n, weight);\n",
    "                        //JET_PT\n",
    "                        float MonteCarlo_jet_pt_inGeV = MonteCarlo_jet_pt[0]/1000.;\n",
    "                        h_jet_pt_DYee2->Fill(MonteCarlo_jet_pt_inGeV, weight);\n",
    "                        //JET_ETA\n",
    "                        h_jet_eta_DYee2->Fill(MonteCarlo_jet_eta[0], weight);\n",
    "                        //JET_M\n",
    "                        float MonteCarlo_jet_m_inGeV = MonteCarlo_jet_m[0]/1000.;\n",
    "                        h_jet_m_DYee2->Fill(MonteCarlo_jet_m_inGeV, weight);\n",
    "                        //JET_JVF\n",
    "                        h_jet_jvf_DYee2->Fill(MonteCarlo_jet_jvf[0], weight);\n",
    "                        //JET_MV1\n",
    "                        h_jet_MV1_DYee2->Fill(MonteCarlo_jet_MV1[0], weight);\n",
    "                        //PVXP_N\n",
    "                        h_pvxp_n_DYee2->Fill(MonteCarlo_pvxp_n, weight);\n",
    "                        //VXP_Z\n",
    "                        h_vxp_z_DYee2->Fill(MonteCarlo_vxp_z, weight);\n",
    "                        //MET_ET\n",
    "                        float MonteCarlo_met_et_inGeV = MonteCarlo_met_et/1000.;\n",
    "                        h_met_et_DYee2->Fill(MonteCarlo_met_et_inGeV, weight);\n",
    "                        //INV_MASS\n",
    "                       \n",
    "                        h_inv_mass_DYee2->Fill(ll_mass, weight);\n",
    "                    }\n",
    "                     //DY MUMU1\n",
    "                    else if(MonteCarlo_runNumber ==173043){\n",
    "                        //PT\n",
    "                        float MonteCarlo_lep_pt_inGeV = MonteCarlo_lep_pt[0]/1000.;\n",
    "                        h_lep_pt_DYmumu1->Fill(MonteCarlo_lep_pt_inGeV, weight);\n",
    "                        //ETA\n",
    "                        h_lep_eta_DYmumu1->Fill(MonteCarlo_lep_eta[0], weight);\n",
    "                        //PHI\n",
    "                        h_lep_phi_DYmumu1->Fill(MonteCarlo_lep_phi[0], weight);\n",
    "                        //E\n",
    "                        float MonteCarlo_lep_E_inGeV = MonteCarlo_lep_E[0]/1000.;\n",
    "                        h_lep_E_DYmumu1->Fill(MonteCarlo_lep_E_inGeV, weight);\n",
    "                        //CHARGE\n",
    "                        h_lep_charge_DYmumu1->Fill(MonteCarlo_lep_charge[0], weight);\n",
    "                        //ETC20\n",
    "                        h_lep_etc20_DYmumu1->Fill(MonteCarlo_lep_etcone20[0], weight);\n",
    "                        //PTC30\n",
    "                        h_lep_ptc30_DYmumu1->Fill(MonteCarlo_lep_ptcone30[0], weight);\n",
    "                        //Z0\n",
    "                        h_lep_z0_DYmumu1->Fill(MonteCarlo_lep_z0[0], weight);\n",
    "                        //D0\n",
    "                        h_lep_d0_DYmumu1->Fill(MonteCarlo_lep_d0[0], weight);\n",
    "                        //PT_TL\n",
    "                        float MonteCarlo_lep_pt_tl_inGeV = MonteCarlo_lep_pt[1]/1000.;\n",
    "                        h_lep_pt_tl_DYmumu1->Fill(MonteCarlo_lep_pt_tl_inGeV, weight);\n",
    "                        //ETA_TL\n",
    "                        h_lep_eta_tl_DYmumu1->Fill(MonteCarlo_lep_eta[1], weight);\n",
    "                        //PHI_TL\n",
    "                        h_lep_phi_tl_DYmumu1->Fill(MonteCarlo_lep_phi[1], weight);\n",
    "                        //E_TL\n",
    "                        float MonteCarlo_lep_E_tl_inGeV = MonteCarlo_lep_E[1]/1000.;\n",
    "                        h_lep_E_tl_DYmumu1->Fill(MonteCarlo_lep_E_tl_inGeV, weight);\n",
    "                        //CHARGE_TL\n",
    "                        h_lep_charge_tl_DYmumu1->Fill(MonteCarlo_lep_charge[1], weight);\n",
    "                        //ETC20_TL\n",
    "                        h_lep_etc20_tl_DYmumu1->Fill(MonteCarlo_lep_etcone20[1], weight);\n",
    "                        //PTC30_TL\n",
    "                        h_lep_ptc30_tl_DYmumu1->Fill(MonteCarlo_lep_ptcone30[1], weight);\n",
    "                        //Z0_TL\n",
    "                        h_lep_z0_tl_DYmumu1->Fill(MonteCarlo_lep_z0[1], weight);\n",
    "                        //D0_TL\n",
    "                        h_lep_d0_tl_DYmumu1->Fill(MonteCarlo_lep_d0[1], weight);\n",
    "                        //JET_N\n",
    "                        h_jet_n_DYmumu1->Fill(MonteCarlo_jet_n, weight);\n",
    "                        //JET_PT\n",
    "                        float MonteCarlo_jet_pt_inGeV = MonteCarlo_jet_pt[0]/1000.;\n",
    "                        h_jet_pt_DYmumu1->Fill(MonteCarlo_jet_pt_inGeV, weight);\n",
    "                        //JET_ETA\n",
    "                        h_jet_eta_DYmumu1->Fill(MonteCarlo_jet_eta[0], weight);\n",
    "                        //JET_M\n",
    "                        float MonteCarlo_jet_m_inGeV = MonteCarlo_jet_m[0]/1000.;\n",
    "                        h_jet_m_DYmumu1->Fill(MonteCarlo_jet_m_inGeV, weight);\n",
    "                        //JET_JVF\n",
    "                        h_jet_jvf_DYmumu1->Fill(MonteCarlo_jet_jvf[0], weight);\n",
    "                        //JET_MV1\n",
    "                        h_jet_MV1_DYmumu1->Fill(MonteCarlo_jet_MV1[0], weight);\n",
    "                        //PVXP_N\n",
    "                        h_pvxp_n_DYmumu1->Fill(MonteCarlo_pvxp_n, weight);\n",
    "                        //VXP_Z\n",
    "                        h_vxp_z_DYmumu1->Fill(MonteCarlo_vxp_z, weight);\n",
    "                        //MET_ET\n",
    "                        float MonteCarlo_met_et_inGeV = MonteCarlo_met_et/1000.;\n",
    "                        h_met_et_DYmumu1->Fill(MonteCarlo_met_et_inGeV, weight);\n",
    "                        //INV_MASS\n",
    "                        \n",
    "                        h_inv_mass_DYmumu1->Fill(ll_mass, weight);\n",
    "                    }\n",
    "                     //DY MUMU2\n",
    "                    else if(MonteCarlo_runNumber ==173044){\n",
    "                        //PT\n",
    "                        float MonteCarlo_lep_pt_inGeV = MonteCarlo_lep_pt[0]/1000.;\n",
    "                        h_lep_pt_DYmumu2->Fill(MonteCarlo_lep_pt_inGeV, weight);\n",
    "                        //ETA\n",
    "                        h_lep_eta_DYmumu2->Fill(MonteCarlo_lep_eta[0], weight);\n",
    "                        //PHI\n",
    "                        h_lep_phi_DYmumu2->Fill(MonteCarlo_lep_phi[0], weight);\n",
    "                        //E\n",
    "                        float MonteCarlo_lep_E_inGeV = MonteCarlo_lep_E[0]/1000.;\n",
    "                        h_lep_E_DYmumu2->Fill(MonteCarlo_lep_E_inGeV, weight);\n",
    "                        //CHARGE\n",
    "                        h_lep_charge_DYmumu2->Fill(MonteCarlo_lep_charge[0], weight);\n",
    "                        //ETC20\n",
    "                        h_lep_etc20_DYmumu2->Fill(MonteCarlo_lep_etcone20[0], weight);\n",
    "                        //PTC30\n",
    "                        h_lep_ptc30_DYmumu2->Fill(MonteCarlo_lep_ptcone30[0], weight);\n",
    "                        //Z0\n",
    "                        h_lep_z0_DYmumu2->Fill(MonteCarlo_lep_z0[0], weight);\n",
    "                        //D0\n",
    "                        h_lep_d0_DYmumu2->Fill(MonteCarlo_lep_d0[0], weight);\n",
    "                        //PT_TL\n",
    "                        float MonteCarlo_lep_pt_tl_inGeV = MonteCarlo_lep_pt[1]/1000.;\n",
    "                        h_lep_pt_tl_DYmumu2->Fill(MonteCarlo_lep_pt_tl_inGeV, weight);\n",
    "                        //ETA_TL\n",
    "                        h_lep_eta_tl_DYmumu2->Fill(MonteCarlo_lep_eta[1], weight);\n",
    "                        //PHI_TL\n",
    "                        h_lep_phi_tl_DYmumu2->Fill(MonteCarlo_lep_phi[1], weight);\n",
    "                        //E_TL\n",
    "                        float MonteCarlo_lep_E_tl_inGeV = MonteCarlo_lep_E[1]/1000.;\n",
    "                        h_lep_E_tl_DYmumu2->Fill(MonteCarlo_lep_E_tl_inGeV, weight);\n",
    "                        //CHARGE_TL\n",
    "                        h_lep_charge_tl_DYmumu2->Fill(MonteCarlo_lep_charge[1], weight);\n",
    "                        //ETC20_TL\n",
    "                        h_lep_etc20_tl_DYmumu2->Fill(MonteCarlo_lep_etcone20[1], weight);\n",
    "                        //PTC30_TL\n",
    "                        h_lep_ptc30_tl_DYmumu2->Fill(MonteCarlo_lep_ptcone30[1], weight);\n",
    "                        //Z0_TL\n",
    "                        h_lep_z0_tl_DYmumu2->Fill(MonteCarlo_lep_z0[1], weight);\n",
    "                        //D0_TL\n",
    "                        h_lep_d0_tl_DYmumu2->Fill(MonteCarlo_lep_d0[1], weight);\n",
    "                        //JET_N\n",
    "                        h_jet_n_DYmumu2->Fill(MonteCarlo_jet_n, weight);\n",
    "                        //JET_PT\n",
    "                        float MonteCarlo_jet_pt_inGeV = MonteCarlo_jet_pt[0]/1000.;\n",
    "                        h_jet_pt_DYmumu2->Fill(MonteCarlo_jet_pt_inGeV, weight);\n",
    "                        //JET_ETA\n",
    "                        h_jet_eta_DYmumu2->Fill(MonteCarlo_jet_eta[0], weight);\n",
    "                        //JET_M\n",
    "                        float MonteCarlo_jet_m_inGeV = MonteCarlo_jet_m[0]/1000.;\n",
    "                        h_jet_m_DYmumu2->Fill(MonteCarlo_jet_m_inGeV, weight);\n",
    "                        //JET_JVF\n",
    "                        h_jet_jvf_DYmumu2->Fill(MonteCarlo_jet_jvf[0], weight);\n",
    "                        //JET_MV1\n",
    "                        h_jet_MV1_DYmumu2->Fill(MonteCarlo_jet_MV1[0], weight);\n",
    "                        //PVXP_N\n",
    "                        h_pvxp_n_DYmumu2->Fill(MonteCarlo_pvxp_n, weight);\n",
    "                        //VXP_Z\n",
    "                        h_vxp_z_DYmumu2->Fill(MonteCarlo_vxp_z, weight);\n",
    "                        //MET_ET\n",
    "                        float MonteCarlo_met_et_inGeV = MonteCarlo_met_et/1000.;\n",
    "                        h_met_et_DYmumu2->Fill(MonteCarlo_met_et_inGeV, weight);\n",
    "                        //INV_MASS\n",
    "                        \n",
    "                        h_inv_mass_DYmumu2->Fill(ll_mass, weight);\n",
    "                        \n",
    "                        \n",
    "                    }\n",
    "                     //DY TAUTAU1\n",
    "                    else if(MonteCarlo_runNumber ==173045){\n",
    "                        //PT\n",
    "                        float MonteCarlo_lep_pt_inGeV = MonteCarlo_lep_pt[0]/1000.;\n",
    "                        h_lep_pt_DYtautau1->Fill(MonteCarlo_lep_pt_inGeV, weight);\n",
    "                        //ETA\n",
    "                        h_lep_eta_DYtautau1->Fill(MonteCarlo_lep_eta[0], weight);\n",
    "                        //PHI\n",
    "                        h_lep_phi_DYtautau1->Fill(MonteCarlo_lep_phi[0], weight);\n",
    "                        //E\n",
    "                        float MonteCarlo_lep_E_inGeV = MonteCarlo_lep_E[0]/1000.;\n",
    "                        h_lep_E_DYtautau1->Fill(MonteCarlo_lep_E_inGeV, weight);\n",
    "                        //CHARGE\n",
    "                        h_lep_charge_DYtautau1->Fill(MonteCarlo_lep_charge[0], weight);\n",
    "                        //ETC20\n",
    "                        h_lep_etc20_DYtautau1->Fill(MonteCarlo_lep_etcone20[0], weight);\n",
    "                        //PTC30\n",
    "                        h_lep_ptc30_DYtautau1->Fill(MonteCarlo_lep_ptcone30[0], weight);\n",
    "                        //Z0\n",
    "                        h_lep_z0_DYtautau1->Fill(MonteCarlo_lep_z0[0], weight);\n",
    "                        //D0\n",
    "                        h_lep_d0_DYtautau1->Fill(MonteCarlo_lep_d0[0], weight);\n",
    "                        //PT_TL\n",
    "                        float MonteCarlo_lep_pt_tl_inGeV = MonteCarlo_lep_pt[1]/1000.;\n",
    "                        h_lep_pt_tl_DYtautau1->Fill(MonteCarlo_lep_pt_tl_inGeV, weight);\n",
    "                        //ETA_TL\n",
    "                        h_lep_eta_tl_DYtautau1->Fill(MonteCarlo_lep_eta[1], weight);\n",
    "                        //PHI_TL\n",
    "                        h_lep_phi_tl_DYtautau1->Fill(MonteCarlo_lep_phi[1], weight);\n",
    "                        //E_TL\n",
    "                        float MonteCarlo_lep_E_tl_inGeV = MonteCarlo_lep_E[1]/1000.;\n",
    "                        h_lep_E_tl_DYtautau1->Fill(MonteCarlo_lep_E_tl_inGeV, weight);\n",
    "                        //CHARGE_TL\n",
    "                        h_lep_charge_tl_DYtautau1->Fill(MonteCarlo_lep_charge[1], weight);\n",
    "                        //ETC20_TL\n",
    "                        h_lep_etc20_tl_DYtautau1->Fill(MonteCarlo_lep_etcone20[1], weight);\n",
    "                        //PTC30_TL\n",
    "                        h_lep_ptc30_tl_DYtautau1->Fill(MonteCarlo_lep_ptcone30[1], weight);\n",
    "                        //Z0_TL\n",
    "                        h_lep_z0_tl_DYtautau1->Fill(MonteCarlo_lep_z0[1], weight);\n",
    "                        //D0_TL\n",
    "                        h_lep_d0_tl_DYtautau1->Fill(MonteCarlo_lep_d0[1], weight);\n",
    "                        //JET_N\n",
    "                        h_jet_n_DYtautau1->Fill(MonteCarlo_jet_n, weight);\n",
    "                        //JET_PT\n",
    "                        float MonteCarlo_jet_pt_inGeV = MonteCarlo_jet_pt[0]/1000.;\n",
    "                        h_jet_pt_DYtautau1->Fill(MonteCarlo_jet_pt_inGeV, weight);\n",
    "                        //JET_ETA\n",
    "                        h_jet_eta_DYtautau1->Fill(MonteCarlo_jet_eta[0], weight);\n",
    "                        //JET_M\n",
    "                        float MonteCarlo_jet_m_inGeV = MonteCarlo_jet_m[0]/1000.;\n",
    "                        h_jet_m_DYtautau1->Fill(MonteCarlo_jet_m_inGeV, weight);\n",
    "                        //JET_JVF\n",
    "                        h_jet_jvf_DYtautau1->Fill(MonteCarlo_jet_jvf[0], weight);\n",
    "                        //JET_MV1\n",
    "                        h_jet_MV1_DYtautau1->Fill(MonteCarlo_jet_MV1[0], weight);\n",
    "                        //PVXP_N\n",
    "                        h_pvxp_n_DYtautau1->Fill(MonteCarlo_pvxp_n, weight);\n",
    "                        //VXP_Z\n",
    "                        h_vxp_z_DYtautau1->Fill(MonteCarlo_vxp_z, weight);\n",
    "                        //MET_ET\n",
    "                        float MonteCarlo_met_et_inGeV = MonteCarlo_met_et/1000.;\n",
    "                        h_met_et_DYtautau1->Fill(MonteCarlo_met_et_inGeV, weight);\n",
    "                        //INV_MASS\n",
    "                       \n",
    "                        h_inv_mass_DYtautau1->Fill(ll_mass, weight);\n",
    "                        \n",
    "                    }\n",
    "                     //DY TAUTAU2\n",
    "                    else if(MonteCarlo_runNumber ==173046){\n",
    "                        //PT\n",
    "                        float MonteCarlo_lep_pt_inGeV = MonteCarlo_lep_pt[0]/1000.;\n",
    "                        h_lep_pt_DYtautau2->Fill(MonteCarlo_lep_pt_inGeV, weight);\n",
    "                        //ETA\n",
    "                        h_lep_eta_DYtautau2->Fill(MonteCarlo_lep_eta[0], weight);\n",
    "                        //PHI\n",
    "                        h_lep_phi_DYtautau2->Fill(MonteCarlo_lep_phi[0], weight);\n",
    "                        //E\n",
    "                        float MonteCarlo_lep_E_inGeV = MonteCarlo_lep_E[0]/1000.;\n",
    "                        h_lep_E_DYtautau2->Fill(MonteCarlo_lep_E_inGeV, weight);\n",
    "                        //CHARGE\n",
    "                        h_lep_charge_DYtautau2->Fill(MonteCarlo_lep_charge[0], weight);\n",
    "                        //ETC20\n",
    "                        h_lep_etc20_DYtautau2->Fill(MonteCarlo_lep_etcone20[0], weight);\n",
    "                        //PTC30\n",
    "                        h_lep_ptc30_DYtautau2->Fill(MonteCarlo_lep_ptcone30[0], weight);\n",
    "                        //Z0\n",
    "                        h_lep_z0_DYtautau2->Fill(MonteCarlo_lep_z0[0], weight);\n",
    "                        //D0\n",
    "                        h_lep_d0_DYtautau2->Fill(MonteCarlo_lep_d0[0], weight);\n",
    "                        //PT_TL\n",
    "                        float MonteCarlo_lep_pt_tl_inGeV = MonteCarlo_lep_pt[1]/1000.;\n",
    "                        h_lep_pt_tl_DYtautau2->Fill(MonteCarlo_lep_pt_tl_inGeV, weight);\n",
    "                        //ETA_TL\n",
    "                        h_lep_eta_tl_DYtautau2->Fill(MonteCarlo_lep_eta[1], weight);\n",
    "                        //PHI_TL\n",
    "                        h_lep_phi_tl_DYtautau2->Fill(MonteCarlo_lep_phi[1], weight);\n",
    "                        //E_TL\n",
    "                        float MonteCarlo_lep_E_tl_inGeV = MonteCarlo_lep_E[1]/1000.;\n",
    "                        h_lep_E_tl_DYtautau2->Fill(MonteCarlo_lep_E_tl_inGeV, weight);\n",
    "                        //CHARGE_TL\n",
    "                        h_lep_charge_tl_DYtautau2->Fill(MonteCarlo_lep_charge[1], weight);\n",
    "                        //ETC20_TL\n",
    "                        h_lep_etc20_tl_DYtautau2->Fill(MonteCarlo_lep_etcone20[1], weight);\n",
    "                        //PTC30_TL\n",
    "                        h_lep_ptc30_tl_DYtautau2->Fill(MonteCarlo_lep_ptcone30[1], weight);\n",
    "                        //Z0_TL\n",
    "                        h_lep_z0_tl_DYtautau2->Fill(MonteCarlo_lep_z0[1], weight);\n",
    "                        //D0_TL\n",
    "                        h_lep_d0_tl_DYtautau2->Fill(MonteCarlo_lep_d0[1], weight);\n",
    "                        //JET_N\n",
    "                        h_jet_n_DYtautau2->Fill(MonteCarlo_jet_n, weight);\n",
    "                        //JET_PT\n",
    "                        float MonteCarlo_jet_pt_inGeV = MonteCarlo_jet_pt[0]/1000.;\n",
    "                        h_jet_pt_DYtautau2->Fill(MonteCarlo_jet_pt_inGeV, weight);\n",
    "                        //JET_ETA\n",
    "                        h_jet_eta_DYtautau2->Fill(MonteCarlo_jet_eta[0], weight);\n",
    "                        //JET_M\n",
    "                        float MonteCarlo_jet_m_inGeV = MonteCarlo_jet_m[0]/1000.;\n",
    "                        h_jet_m_DYtautau2->Fill(MonteCarlo_jet_m_inGeV, weight);\n",
    "                        //JET_JVF\n",
    "                        h_jet_jvf_DYtautau2->Fill(MonteCarlo_jet_jvf[0], weight);\n",
    "                        //JET_MV1\n",
    "                        h_jet_MV1_DYtautau2->Fill(MonteCarlo_jet_MV1[0], weight);\n",
    "                        //PVXP_N\n",
    "                        h_pvxp_n_DYtautau2->Fill(MonteCarlo_pvxp_n, weight);\n",
    "                        //VXP_Z\n",
    "                        h_vxp_z_DYtautau2->Fill(MonteCarlo_vxp_z, weight);\n",
    "                        //MET_ET\n",
    "                        float MonteCarlo_met_et_inGeV = MonteCarlo_met_et/1000.;\n",
    "                        h_met_et_DYtautau2->Fill(MonteCarlo_met_et_inGeV, weight);\n",
    "                        //INV_MASS\n",
    "                        \n",
    "                        h_inv_mass_DYtautau2->Fill(ll_mass, weight);\n",
    "                    }\n",
    "                      //Stop tchan top\n",
    "                    else if(MonteCarlo_runNumber ==110090){\n",
    "                        //PT\n",
    "                        float MonteCarlo_lep_pt_inGeV = MonteCarlo_lep_pt[0]/1000.;\n",
    "                        h_lep_pt_Stchan_top->Fill(MonteCarlo_lep_pt_inGeV, weight);\n",
    "                        //ETA\n",
    "                        h_lep_eta_Stchan_top->Fill(MonteCarlo_lep_eta[0], weight);\n",
    "                        //PHI\n",
    "                        h_lep_phi_Stchan_top->Fill(MonteCarlo_lep_phi[0], weight);\n",
    "                        //E\n",
    "                        float MonteCarlo_lep_E_inGeV = MonteCarlo_lep_E[0]/1000.;\n",
    "                        h_lep_E_Stchan_top->Fill(MonteCarlo_lep_E_inGeV, weight);\n",
    "                        //CHARGE\n",
    "                        h_lep_charge_Stchan_top->Fill(MonteCarlo_lep_charge[0], weight);\n",
    "                        //ETC20\n",
    "                        h_lep_etc20_Stchan_top->Fill(MonteCarlo_lep_etcone20[0], weight);\n",
    "                        //PTC30\n",
    "                        h_lep_ptc30_Stchan_top->Fill(MonteCarlo_lep_ptcone30[0], weight);\n",
    "                        //Z0\n",
    "                        h_lep_z0_Stchan_top->Fill(MonteCarlo_lep_z0[0], weight);\n",
    "                        //D0\n",
    "                        h_lep_d0_Stchan_top->Fill(MonteCarlo_lep_d0[0], weight);\n",
    "                        //PT_TL\n",
    "                        float MonteCarlo_lep_pt_tl_inGeV = MonteCarlo_lep_pt[1]/1000.;\n",
    "                        h_lep_pt_tl_Stchan_top->Fill(MonteCarlo_lep_pt_tl_inGeV, weight);\n",
    "                        //ETA_TL\n",
    "                        h_lep_eta_tl_Stchan_top->Fill(MonteCarlo_lep_eta[1], weight);\n",
    "                        //PHI_TL\n",
    "                        h_lep_phi_tl_Stchan_top->Fill(MonteCarlo_lep_phi[1], weight);\n",
    "                        //E_TL\n",
    "                        float MonteCarlo_lep_E_tl_inGeV = MonteCarlo_lep_E[1]/1000.;\n",
    "                        h_lep_E_tl_Stchan_top->Fill(MonteCarlo_lep_E_tl_inGeV, weight);\n",
    "                        //CHARGE_TL\n",
    "                        h_lep_charge_tl_Stchan_top->Fill(MonteCarlo_lep_charge[1], weight);\n",
    "                        //ETC20_TL\n",
    "                        h_lep_etc20_tl_Stchan_top->Fill(MonteCarlo_lep_etcone20[1], weight);\n",
    "                        //PTC30_TL\n",
    "                        h_lep_ptc30_tl_Stchan_top->Fill(MonteCarlo_lep_ptcone30[1], weight);\n",
    "                        //Z0_TL\n",
    "                        h_lep_z0_tl_Stchan_top->Fill(MonteCarlo_lep_z0[1], weight);\n",
    "                        //D0_TL\n",
    "                        h_lep_d0_tl_Stchan_top->Fill(MonteCarlo_lep_d0[1], weight);\n",
    "                        //JET_N\n",
    "                        h_jet_n_Stchan_top->Fill(MonteCarlo_jet_n, weight);\n",
    "                        //JET_PT\n",
    "                        float MonteCarlo_jet_pt_inGeV = MonteCarlo_jet_pt[0]/1000.;\n",
    "                        h_jet_pt_Stchan_top->Fill(MonteCarlo_jet_pt_inGeV, weight);\n",
    "                        //JET_ETA\n",
    "                        h_jet_eta_Stchan_top->Fill(MonteCarlo_jet_eta[0], weight);\n",
    "                        //JET_M\n",
    "                        float MonteCarlo_jet_m_inGeV = MonteCarlo_jet_m[0]/1000.;\n",
    "                        h_jet_m_Stchan_top->Fill(MonteCarlo_jet_m_inGeV, weight);\n",
    "                        //JET_JVF\n",
    "                        h_jet_jvf_Stchan_top->Fill(MonteCarlo_jet_jvf[0], weight);\n",
    "                        //JET_MV1\n",
    "                        h_jet_MV1_Stchan_top->Fill(MonteCarlo_jet_MV1[0], weight);\n",
    "                        //PVXP_N\n",
    "                        h_pvxp_n_Stchan_top->Fill(MonteCarlo_pvxp_n, weight);\n",
    "                        //VXP_Z\n",
    "                        h_vxp_z_Stchan_top->Fill(MonteCarlo_vxp_z, weight);\n",
    "                        //MET_ET\n",
    "                        float MonteCarlo_met_et_inGeV = MonteCarlo_met_et/1000.;\n",
    "                        h_met_et_Stchan_top->Fill(MonteCarlo_met_et_inGeV, weight);\n",
    "                        //INV_MASS\n",
    "                      \n",
    "                        h_inv_mass_Stchan_top->Fill(ll_mass, weight);\n",
    "                        \n",
    "                    }\n",
    "                     //Stop tchan antitop\n",
    "                    else if(MonteCarlo_runNumber ==110091){\n",
    "                        //PT\n",
    "                        float MonteCarlo_lep_pt_inGeV = MonteCarlo_lep_pt[0]/1000.;\n",
    "                        h_lep_pt_Stchan_antitop->Fill(MonteCarlo_lep_pt_inGeV, weight);\n",
    "                        //ETA\n",
    "                        h_lep_eta_Stchan_antitop->Fill(MonteCarlo_lep_eta[0], weight);\n",
    "                        //PHI\n",
    "                        h_lep_phi_Stchan_antitop->Fill(MonteCarlo_lep_phi[0], weight);\n",
    "                        //E\n",
    "                        float MonteCarlo_lep_E_inGeV = MonteCarlo_lep_E[0]/1000.;\n",
    "                        h_lep_E_Stchan_antitop->Fill(MonteCarlo_lep_E_inGeV, weight);\n",
    "                        //CHARGE\n",
    "                        h_lep_charge_Stchan_antitop->Fill(MonteCarlo_lep_charge[0], weight);\n",
    "                        //ETC20\n",
    "                        h_lep_etc20_Stchan_antitop->Fill(MonteCarlo_lep_etcone20[0], weight);\n",
    "                        //PTC30\n",
    "                        h_lep_ptc30_Stchan_antitop->Fill(MonteCarlo_lep_ptcone30[0], weight);\n",
    "                        //Z0\n",
    "                        h_lep_z0_Stchan_antitop->Fill(MonteCarlo_lep_z0[0], weight);\n",
    "                        //D0\n",
    "                        h_lep_d0_Stchan_antitop->Fill(MonteCarlo_lep_d0[0], weight);\n",
    "                        //PT_TL\n",
    "                        float MonteCarlo_lep_pt_tl_inGeV = MonteCarlo_lep_pt[1]/1000.;\n",
    "                        h_lep_pt_tl_Stchan_antitop->Fill(MonteCarlo_lep_pt_tl_inGeV, weight);\n",
    "                        //ETA_TL\n",
    "                        h_lep_eta_tl_Stchan_antitop->Fill(MonteCarlo_lep_eta[1], weight);\n",
    "                        //PHI_TL\n",
    "                        h_lep_phi_tl_Stchan_antitop->Fill(MonteCarlo_lep_phi[1], weight);\n",
    "                        //E_TL\n",
    "                        float MonteCarlo_lep_E_tl_inGeV = MonteCarlo_lep_E[1]/1000.;\n",
    "                        h_lep_E_tl_Stchan_antitop->Fill(MonteCarlo_lep_E_tl_inGeV, weight);\n",
    "                        //CHARGE_TL\n",
    "                        h_lep_charge_tl_Stchan_antitop->Fill(MonteCarlo_lep_charge[1], weight);\n",
    "                        //ETC20_TL\n",
    "                        h_lep_etc20_tl_Stchan_antitop->Fill(MonteCarlo_lep_etcone20[1], weight);\n",
    "                        //PTC30_TL\n",
    "                        h_lep_ptc30_tl_Stchan_antitop->Fill(MonteCarlo_lep_ptcone30[1], weight);\n",
    "                        //Z0_TL\n",
    "                        h_lep_z0_tl_Stchan_antitop->Fill(MonteCarlo_lep_z0[1], weight);\n",
    "                        //D0_TL\n",
    "                        h_lep_d0_tl_Stchan_antitop->Fill(MonteCarlo_lep_d0[1], weight);\n",
    "                        //JET_N\n",
    "                        h_jet_n_Stchan_antitop->Fill(MonteCarlo_jet_n, weight);\n",
    "                        //JET_PT\n",
    "                        float MonteCarlo_jet_pt_inGeV = MonteCarlo_jet_pt[0]/1000.;\n",
    "                        h_jet_pt_Stchan_antitop->Fill(MonteCarlo_jet_pt_inGeV, weight);\n",
    "                        //JET_ETA\n",
    "                        h_jet_eta_Stchan_antitop->Fill(MonteCarlo_jet_eta[0], weight);\n",
    "                        //JET_M\n",
    "                        float MonteCarlo_jet_m_inGeV = MonteCarlo_jet_m[0]/1000.;\n",
    "                        h_jet_m_Stchan_antitop->Fill(MonteCarlo_jet_m_inGeV, weight);\n",
    "                        //JET_JVF\n",
    "                        h_jet_jvf_Stchan_antitop->Fill(MonteCarlo_jet_jvf[0], weight);\n",
    "                        //JET_MV1\n",
    "                        h_jet_MV1_Stchan_antitop->Fill(MonteCarlo_jet_MV1[0], weight);\n",
    "                        //PVXP_N\n",
    "                        h_pvxp_n_Stchan_antitop->Fill(MonteCarlo_pvxp_n, weight);\n",
    "                        //VXP_Z\n",
    "                        h_vxp_z_Stchan_antitop->Fill(MonteCarlo_vxp_z, weight);\n",
    "                        //MET_ET\n",
    "                        float MonteCarlo_met_et_inGeV = MonteCarlo_met_et/1000.;\n",
    "                        h_met_et_Stchan_antitop->Fill(MonteCarlo_met_et_inGeV, weight);\n",
    "                        //INV_MASS\n",
    "                       \n",
    "                        h_inv_mass_Stchan_antitop->Fill(ll_mass, weight);\n",
    "                    }\n",
    "                    //Stop schan \n",
    "                    else if(MonteCarlo_runNumber ==110119){\n",
    "                        //PT\n",
    "                        float MonteCarlo_lep_pt_inGeV = MonteCarlo_lep_pt[0]/1000.;\n",
    "                        h_lep_pt_Sschan->Fill(MonteCarlo_lep_pt_inGeV, weight);\n",
    "                        //ETA\n",
    "                        h_lep_eta_Sschan->Fill(MonteCarlo_lep_eta[0], weight);\n",
    "                        //PHI\n",
    "                        h_lep_phi_Sschan->Fill(MonteCarlo_lep_phi[0], weight);\n",
    "                        //E\n",
    "                        float MonteCarlo_lep_E_inGeV = MonteCarlo_lep_E[0]/1000.;\n",
    "                        h_lep_E_Sschan->Fill(MonteCarlo_lep_E_inGeV, weight);\n",
    "                        //CHARGE\n",
    "                        h_lep_charge_Sschan->Fill(MonteCarlo_lep_charge[0], weight);\n",
    "                        //ETC20\n",
    "                        h_lep_etc20_Sschan->Fill(MonteCarlo_lep_etcone20[0], weight);\n",
    "                        //PTC30\n",
    "                        h_lep_ptc30_Sschan->Fill(MonteCarlo_lep_ptcone30[0], weight);\n",
    "                        //Z0\n",
    "                        h_lep_z0_Sschan->Fill(MonteCarlo_lep_z0[0], weight);\n",
    "                        //D0\n",
    "                        h_lep_d0_Sschan->Fill(MonteCarlo_lep_d0[0], weight);\n",
    "                        //PT_TL\n",
    "                        float MonteCarlo_lep_pt_tl_inGeV = MonteCarlo_lep_pt[1]/1000.;\n",
    "                        h_lep_pt_tl_Sschan->Fill(MonteCarlo_lep_pt_tl_inGeV, weight);\n",
    "                        //ETA_TL\n",
    "                        h_lep_eta_tl_Sschan->Fill(MonteCarlo_lep_eta[1], weight);\n",
    "                        //PHI_TL\n",
    "                        h_lep_phi_tl_Sschan->Fill(MonteCarlo_lep_phi[1], weight);\n",
    "                        //E_TL\n",
    "                        float MonteCarlo_lep_E_tl_inGeV = MonteCarlo_lep_E[1]/1000.;\n",
    "                        h_lep_E_tl_Sschan->Fill(MonteCarlo_lep_E_tl_inGeV, weight);\n",
    "                        //CHARGE_TL\n",
    "                        h_lep_charge_tl_Sschan->Fill(MonteCarlo_lep_charge[1], weight);\n",
    "                        //ETC20_TL\n",
    "                        h_lep_etc20_tl_Sschan->Fill(MonteCarlo_lep_etcone20[1], weight);\n",
    "                        //PTC30_TL\n",
    "                        h_lep_ptc30_tl_Sschan->Fill(MonteCarlo_lep_ptcone30[1], weight);\n",
    "                        //Z0_TL\n",
    "                        h_lep_z0_tl_Sschan->Fill(MonteCarlo_lep_z0[1], weight);\n",
    "                        //D0_TL\n",
    "                        h_lep_d0_tl_Sschan->Fill(MonteCarlo_lep_d0[1], weight);\n",
    "                        //JET_N\n",
    "                        h_jet_n_Sschan->Fill(MonteCarlo_jet_n, weight);\n",
    "                        //JET_PT\n",
    "                        float MonteCarlo_jet_pt_inGeV = MonteCarlo_jet_pt[0]/1000.;\n",
    "                        h_jet_pt_Sschan->Fill(MonteCarlo_jet_pt_inGeV, weight);\n",
    "                        //JET_ETA\n",
    "                        h_jet_eta_Sschan->Fill(MonteCarlo_jet_eta[0], weight);\n",
    "                        //JET_M\n",
    "                        float MonteCarlo_jet_m_inGeV = MonteCarlo_jet_m[0]/1000.;\n",
    "                        h_jet_m_Sschan->Fill(MonteCarlo_jet_m_inGeV, weight);\n",
    "                        //JET_JVF\n",
    "                        h_jet_jvf_Sschan->Fill(MonteCarlo_jet_jvf[0], weight);\n",
    "                        //JET_MV1\n",
    "                        h_jet_MV1_Sschan->Fill(MonteCarlo_jet_MV1[0], weight);\n",
    "                        //PVXP_N\n",
    "                        h_pvxp_n_Sschan->Fill(MonteCarlo_pvxp_n, weight);\n",
    "                        //VXP_Z\n",
    "                        h_vxp_z_Sschan->Fill(MonteCarlo_vxp_z, weight);\n",
    "                        //MET_ET\n",
    "                        float MonteCarlo_met_et_inGeV = MonteCarlo_met_et/1000.;\n",
    "                        h_met_et_Sschan->Fill(MonteCarlo_met_et_inGeV, weight);\n",
    "                        //INV_MASS\n",
    "                        \n",
    "                        h_inv_mass_Sschan->Fill(ll_mass, weight);\n",
    "                        \n",
    "                    }\n",
    "                    //Stop wtchan \n",
    "                    else if(MonteCarlo_runNumber ==110140){\n",
    "                        //PT\n",
    "                        float MonteCarlo_lep_pt_inGeV = MonteCarlo_lep_pt[0]/1000.;\n",
    "                        h_lep_pt_Swtchan->Fill(MonteCarlo_lep_pt_inGeV, weight);\n",
    "                        //ETA\n",
    "                        h_lep_eta_Swtchan->Fill(MonteCarlo_lep_eta[0], weight);\n",
    "                        //PHI\n",
    "                        h_lep_phi_Swtchan->Fill(MonteCarlo_lep_phi[0], weight);\n",
    "                        //E\n",
    "                        float MonteCarlo_lep_E_inGeV = MonteCarlo_lep_E[0]/1000.;\n",
    "                        h_lep_E_Swtchan->Fill(MonteCarlo_lep_E_inGeV, weight);\n",
    "                        //CHARGE\n",
    "                        h_lep_charge_Swtchan->Fill(MonteCarlo_lep_charge[0], weight);\n",
    "                        //ETC20\n",
    "                        h_lep_etc20_Swtchan->Fill(MonteCarlo_lep_etcone20[0], weight);\n",
    "                        //PTC30\n",
    "                        h_lep_ptc30_Swtchan->Fill(MonteCarlo_lep_ptcone30[0], weight);\n",
    "                        //Z0\n",
    "                        h_lep_z0_Swtchan->Fill(MonteCarlo_lep_z0[0], weight);\n",
    "                        //D0\n",
    "                        h_lep_d0_Swtchan->Fill(MonteCarlo_lep_d0[0], weight);\n",
    "                        //PT_TL\n",
    "                        float MonteCarlo_lep_pt_tl_inGeV = MonteCarlo_lep_pt[1]/1000.;\n",
    "                        h_lep_pt_tl_Swtchan->Fill(MonteCarlo_lep_pt_tl_inGeV, weight);\n",
    "                        //ETA_TL\n",
    "                        h_lep_eta_tl_Swtchan->Fill(MonteCarlo_lep_eta[1], weight);\n",
    "                        //PHI_TL\n",
    "                        h_lep_phi_tl_Swtchan->Fill(MonteCarlo_lep_phi[1], weight);\n",
    "                        //E_TL\n",
    "                        float MonteCarlo_lep_E_tl_inGeV = MonteCarlo_lep_E[1]/1000.;\n",
    "                        h_lep_E_tl_Swtchan->Fill(MonteCarlo_lep_E_tl_inGeV, weight);\n",
    "                        //CHARGE_TL\n",
    "                        h_lep_charge_tl_Swtchan->Fill(MonteCarlo_lep_charge[1], weight);\n",
    "                        //ETC20_TL\n",
    "                        h_lep_etc20_tl_Swtchan->Fill(MonteCarlo_lep_etcone20[1], weight);\n",
    "                        //PTC30_TL\n",
    "                        h_lep_ptc30_tl_Swtchan->Fill(MonteCarlo_lep_ptcone30[1], weight);\n",
    "                        //Z0_TL\n",
    "                        h_lep_z0_tl_Swtchan->Fill(MonteCarlo_lep_z0[1], weight);\n",
    "                        //D0_TL\n",
    "                        h_lep_d0_tl_Swtchan->Fill(MonteCarlo_lep_d0[1], weight);\n",
    "                        //JET_N\n",
    "                        h_jet_n_Swtchan->Fill(MonteCarlo_jet_n, weight);\n",
    "                        //JET_PT\n",
    "                        float MonteCarlo_jet_pt_inGeV = MonteCarlo_jet_pt[0]/1000.;\n",
    "                        h_jet_pt_Swtchan->Fill(MonteCarlo_jet_pt_inGeV, weight);\n",
    "                        //JET_ETA\n",
    "                        h_jet_eta_Swtchan->Fill(MonteCarlo_jet_eta[0], weight);\n",
    "                        //JET_M\n",
    "                        float MonteCarlo_jet_m_inGeV = MonteCarlo_jet_m[0]/1000.;\n",
    "                        h_jet_m_Swtchan->Fill(MonteCarlo_jet_m_inGeV, weight);\n",
    "                        //JET_JVF\n",
    "                        h_jet_jvf_Swtchan->Fill(MonteCarlo_jet_jvf[0], weight);\n",
    "                        //JET_MV1\n",
    "                        h_jet_MV1_Swtchan->Fill(MonteCarlo_jet_MV1[0], weight);\n",
    "                        //PVXP_N\n",
    "                        h_pvxp_n_Swtchan->Fill(MonteCarlo_pvxp_n, weight);\n",
    "                        //VXP_Z\n",
    "                        h_vxp_z_Swtchan->Fill(MonteCarlo_vxp_z, weight);\n",
    "                        //MET_ET\n",
    "                        float MonteCarlo_met_et_inGeV = MonteCarlo_met_et/1000.;\n",
    "                        h_met_et_Swtchan->Fill(MonteCarlo_met_et_inGeV, weight);\n",
    "                        //INV_MASS\n",
    "                       \n",
    "                        h_inv_mass_Swtchan->Fill(ll_mass, weight);\n",
    "                        \n",
    "                    }\n",
    "                    //TTBar had\n",
    "                     else if(MonteCarlo_runNumber ==117049){\n",
    "                        //PT\n",
    "                        float MonteCarlo_lep_pt_inGeV = MonteCarlo_lep_pt[0]/1000.;\n",
    "                        h_lep_pt_TThad->Fill(MonteCarlo_lep_pt_inGeV, weight);\n",
    "                        //ETA\n",
    "                        h_lep_eta_TThad->Fill(MonteCarlo_lep_eta[0], weight);\n",
    "                        //PHI\n",
    "                        h_lep_phi_TThad->Fill(MonteCarlo_lep_phi[0], weight);\n",
    "                        //E\n",
    "                        float MonteCarlo_lep_E_inGeV = MonteCarlo_lep_E[0]/1000.;\n",
    "                        h_lep_E_TThad->Fill(MonteCarlo_lep_E_inGeV, weight);\n",
    "                        //CHARGE\n",
    "                        h_lep_charge_TThad->Fill(MonteCarlo_lep_charge[0], weight);\n",
    "                        //ETC20\n",
    "                        h_lep_etc20_TThad->Fill(MonteCarlo_lep_etcone20[0], weight);\n",
    "                        //PTC30\n",
    "                        h_lep_ptc30_TThad->Fill(MonteCarlo_lep_ptcone30[0], weight);\n",
    "                        //Z0\n",
    "                        h_lep_z0_TThad->Fill(MonteCarlo_lep_z0[0], weight);\n",
    "                        //D0\n",
    "                        h_lep_d0_TThad->Fill(MonteCarlo_lep_d0[0], weight);\n",
    "                        //PT_TL\n",
    "                        float MonteCarlo_lep_pt_tl_inGeV = MonteCarlo_lep_pt[1]/1000.;\n",
    "                        h_lep_pt_tl_TThad->Fill(MonteCarlo_lep_pt_tl_inGeV, weight);\n",
    "                        //ETA_TL\n",
    "                        h_lep_eta_tl_TThad->Fill(MonteCarlo_lep_eta[1], weight);\n",
    "                        //PHI_TL\n",
    "                        h_lep_phi_tl_TThad->Fill(MonteCarlo_lep_phi[1], weight);\n",
    "                        //E_TL\n",
    "                        float MonteCarlo_lep_E_tl_inGeV = MonteCarlo_lep_E[1]/1000.;\n",
    "                        h_lep_E_tl_TThad->Fill(MonteCarlo_lep_E_tl_inGeV, weight);\n",
    "                        //CHARGE_TL\n",
    "                        h_lep_charge_tl_TThad->Fill(MonteCarlo_lep_charge[1], weight);\n",
    "                        //ETC20_TL\n",
    "                        h_lep_etc20_tl_TThad->Fill(MonteCarlo_lep_etcone20[1], weight);\n",
    "                        //PTC30_TL\n",
    "                        h_lep_ptc30_tl_TThad->Fill(MonteCarlo_lep_ptcone30[1], weight);\n",
    "                        //Z0_TL\n",
    "                        h_lep_z0_tl_TThad->Fill(MonteCarlo_lep_z0[1], weight);\n",
    "                        //D0_TL\n",
    "                        h_lep_d0_tl_TThad->Fill(MonteCarlo_lep_d0[1], weight);\n",
    "                        //JET_N\n",
    "                        h_jet_n_TThad->Fill(MonteCarlo_jet_n, weight);\n",
    "                        //JET_PT\n",
    "                        float MonteCarlo_jet_pt_inGeV = MonteCarlo_jet_pt[0]/1000.;\n",
    "                        h_jet_pt_TThad->Fill(MonteCarlo_jet_pt_inGeV, weight);\n",
    "                        //JET_ETA\n",
    "                        h_jet_eta_TThad->Fill(MonteCarlo_jet_eta[0], weight);\n",
    "                        //JET_M\n",
    "                        float MonteCarlo_jet_m_inGeV = MonteCarlo_jet_m[0]/1000.;\n",
    "                        h_jet_m_TThad->Fill(MonteCarlo_jet_m_inGeV, weight);\n",
    "                        //JET_JVF\n",
    "                        h_jet_jvf_TThad->Fill(MonteCarlo_jet_jvf[0], weight);\n",
    "                        //JET_MV1\n",
    "                        h_jet_MV1_TThad->Fill(MonteCarlo_jet_MV1[0], weight);\n",
    "                        //PVXP_N\n",
    "                        h_pvxp_n_TThad->Fill(MonteCarlo_pvxp_n, weight);\n",
    "                        //VXP_Z\n",
    "                        h_vxp_z_TThad->Fill(MonteCarlo_vxp_z, weight);\n",
    "                        //MET_ET\n",
    "                        float MonteCarlo_met_et_inGeV = MonteCarlo_met_et/1000.;\n",
    "                        h_met_et_TThad->Fill(MonteCarlo_met_et_inGeV, weight);\n",
    "                        //INV_MASS\n",
    "                       \n",
    "                        h_inv_mass_TThad->Fill(ll_mass, weight);\n",
    "                        \n",
    "                    }\n",
    "                    //TTBar lep\n",
    "                     else if(MonteCarlo_runNumber ==117050){\n",
    "                        //PT\n",
    "                        float MonteCarlo_lep_pt_inGeV = MonteCarlo_lep_pt[0]/1000.;\n",
    "                        h_lep_pt_TTlep->Fill(MonteCarlo_lep_pt_inGeV, weight);\n",
    "                        //ETA\n",
    "                        h_lep_eta_TTlep->Fill(MonteCarlo_lep_eta[0], weight);\n",
    "                        //PHI\n",
    "                        h_lep_phi_TTlep->Fill(MonteCarlo_lep_phi[0], weight);\n",
    "                        //E\n",
    "                        float MonteCarlo_lep_E_inGeV = MonteCarlo_lep_E[0]/1000.;\n",
    "                        h_lep_E_TTlep->Fill(MonteCarlo_lep_E_inGeV, weight);\n",
    "                        //CHARGE\n",
    "                        h_lep_charge_TTlep->Fill(MonteCarlo_lep_charge[0], weight);\n",
    "                        //ETC20\n",
    "                        h_lep_etc20_TTlep->Fill(MonteCarlo_lep_etcone20[0], weight);\n",
    "                        //PTC30\n",
    "                        h_lep_ptc30_TTlep->Fill(MonteCarlo_lep_ptcone30[0], weight);\n",
    "                        //Z0\n",
    "                        h_lep_z0_TTlep->Fill(MonteCarlo_lep_z0[0], weight);\n",
    "                        //D0\n",
    "                        h_lep_d0_TTlep->Fill(MonteCarlo_lep_d0[0], weight);\n",
    "                        //PT_TL\n",
    "                        float MonteCarlo_lep_pt_tl_inGeV = MonteCarlo_lep_pt[1]/1000.;\n",
    "                        h_lep_pt_tl_TTlep->Fill(MonteCarlo_lep_pt_tl_inGeV, weight);\n",
    "                        //ETA_TL\n",
    "                        h_lep_eta_tl_TTlep->Fill(MonteCarlo_lep_eta[1], weight);\n",
    "                        //PHI_TL\n",
    "                        h_lep_phi_tl_TTlep->Fill(MonteCarlo_lep_phi[1], weight);\n",
    "                        //E_TL\n",
    "                        float MonteCarlo_lep_E_tl_inGeV = MonteCarlo_lep_E[1]/1000.;\n",
    "                        h_lep_E_tl_TTlep->Fill(MonteCarlo_lep_E_tl_inGeV, weight);\n",
    "                        //CHARGE_TL\n",
    "                        h_lep_charge_tl_TTlep->Fill(MonteCarlo_lep_charge[1], weight);\n",
    "                        //ETC20_TL\n",
    "                        h_lep_etc20_tl_TTlep->Fill(MonteCarlo_lep_etcone20[1], weight);\n",
    "                        //PTC30_TL\n",
    "                        h_lep_ptc30_tl_TTlep->Fill(MonteCarlo_lep_ptcone30[1], weight);\n",
    "                        //Z0_TL\n",
    "                        h_lep_z0_tl_TTlep->Fill(MonteCarlo_lep_z0[1], weight);\n",
    "                        //D0_TL\n",
    "                        h_lep_d0_tl_TTlep->Fill(MonteCarlo_lep_d0[1], weight);\n",
    "                        //JET_N\n",
    "                        h_jet_n_TTlep->Fill(MonteCarlo_jet_n, weight);\n",
    "                        //JET_PT\n",
    "                        float MonteCarlo_jet_pt_inGeV = MonteCarlo_jet_pt[0]/1000.;\n",
    "                        h_jet_pt_TTlep->Fill(MonteCarlo_jet_pt_inGeV, weight);\n",
    "                        //JET_ETA\n",
    "                        h_jet_eta_TTlep->Fill(MonteCarlo_jet_eta[0], weight);\n",
    "                        //JET_M\n",
    "                        float MonteCarlo_jet_m_inGeV = MonteCarlo_jet_m[0]/1000.;\n",
    "                        h_jet_m_TTlep->Fill(MonteCarlo_jet_m_inGeV, weight);\n",
    "                        //JET_JVF\n",
    "                        h_jet_jvf_TTlep->Fill(MonteCarlo_jet_jvf[0], weight);\n",
    "                        //JET_MV1\n",
    "                        h_jet_MV1_TTlep->Fill(MonteCarlo_jet_MV1[0], weight);\n",
    "                        //PVXP_N\n",
    "                        h_pvxp_n_TTlep->Fill(MonteCarlo_pvxp_n, weight);\n",
    "                        //VXP_Z\n",
    "                        h_vxp_z_TTlep->Fill(MonteCarlo_vxp_z, weight);\n",
    "                        //MET_ET\n",
    "                        float MonteCarlo_met_et_inGeV = MonteCarlo_met_et/1000.;\n",
    "                        h_met_et_TTlep->Fill(MonteCarlo_met_et_inGeV, weight);\n",
    "                        //INV_MASS\n",
    "                        \n",
    "                        h_inv_mass_TTlep->Fill(ll_mass, weight);\n",
    "                    }\n",
    "                    //W WenuW\n",
    "                    else if(MonteCarlo_runNumber ==167740){\n",
    "                        //PT\n",
    "                        float MonteCarlo_lep_pt_inGeV = MonteCarlo_lep_pt[0]/1000.;\n",
    "                        h_lep_pt_WenuW->Fill(MonteCarlo_lep_pt_inGeV, weight);\n",
    "                        //ETA\n",
    "                        h_lep_eta_WenuW->Fill(MonteCarlo_lep_eta[0], weight);\n",
    "                        //PHI\n",
    "                        h_lep_phi_WenuW->Fill(MonteCarlo_lep_phi[0], weight);\n",
    "                        //E\n",
    "                        float MonteCarlo_lep_E_inGeV = MonteCarlo_lep_E[0]/1000.;\n",
    "                        h_lep_E_WenuW->Fill(MonteCarlo_lep_E_inGeV, weight);\n",
    "                        //CHARGE\n",
    "                        h_lep_charge_WenuW->Fill(MonteCarlo_lep_charge[0], weight);\n",
    "                        //ETC20\n",
    "                        h_lep_etc20_WenuW->Fill(MonteCarlo_lep_etcone20[0], weight);\n",
    "                        //PTC30\n",
    "                        h_lep_ptc30_WenuW->Fill(MonteCarlo_lep_ptcone30[0], weight);\n",
    "                        //Z0\n",
    "                        h_lep_z0_WenuW->Fill(MonteCarlo_lep_z0[0], weight);\n",
    "                        //D0\n",
    "                        h_lep_d0_WenuW->Fill(MonteCarlo_lep_d0[0], weight);\n",
    "                        //PT_TL\n",
    "                        float MonteCarlo_lep_pt_tl_inGeV = MonteCarlo_lep_pt[1]/1000.;\n",
    "                        h_lep_pt_tl_WenuW->Fill(MonteCarlo_lep_pt_tl_inGeV, weight);\n",
    "                        //ETA_TL\n",
    "                        h_lep_eta_tl_WenuW->Fill(MonteCarlo_lep_eta[1], weight);\n",
    "                        //PHI_TL\n",
    "                        h_lep_phi_tl_WenuW->Fill(MonteCarlo_lep_phi[1], weight);\n",
    "                        //E_TL\n",
    "                        float MonteCarlo_lep_E_tl_inGeV = MonteCarlo_lep_E[1]/1000.;\n",
    "                        h_lep_E_tl_WenuW->Fill(MonteCarlo_lep_E_tl_inGeV, weight);\n",
    "                        //CHARGE_TL\n",
    "                        h_lep_charge_tl_WenuW->Fill(MonteCarlo_lep_charge[1], weight);\n",
    "                        //ETC20_TL\n",
    "                        h_lep_etc20_tl_WenuW->Fill(MonteCarlo_lep_etcone20[1], weight);\n",
    "                        //PTC30_TL\n",
    "                        h_lep_ptc30_tl_WenuW->Fill(MonteCarlo_lep_ptcone30[1], weight);\n",
    "                        //Z0_TL\n",
    "                        h_lep_z0_tl_WenuW->Fill(MonteCarlo_lep_z0[1], weight);\n",
    "                        //D0_TL\n",
    "                        h_lep_d0_tl_WenuW->Fill(MonteCarlo_lep_d0[1], weight);\n",
    "                        //JET_N\n",
    "                        h_jet_n_WenuW->Fill(MonteCarlo_jet_n, weight);\n",
    "                        //JET_PT\n",
    "                        float MonteCarlo_jet_pt_inGeV = MonteCarlo_jet_pt[0]/1000.;\n",
    "                        h_jet_pt_WenuW->Fill(MonteCarlo_jet_pt_inGeV, weight);\n",
    "                        //JET_ETA\n",
    "                        h_jet_eta_WenuW->Fill(MonteCarlo_jet_eta[0], weight);\n",
    "                        //JET_M\n",
    "                        float MonteCarlo_jet_m_inGeV = MonteCarlo_jet_m[0]/1000.;\n",
    "                        h_jet_m_WenuW->Fill(MonteCarlo_jet_m_inGeV, weight);\n",
    "                        //JET_JVF\n",
    "                        h_jet_jvf_WenuW->Fill(MonteCarlo_jet_jvf[0], weight);\n",
    "                        //JET_MV1\n",
    "                        h_jet_MV1_WenuW->Fill(MonteCarlo_jet_MV1[0], weight);\n",
    "                        //PVXP_N\n",
    "                        h_pvxp_n_WenuW->Fill(MonteCarlo_pvxp_n, weight);\n",
    "                        //VXP_Z\n",
    "                        h_vxp_z_WenuW->Fill(MonteCarlo_vxp_z, weight);\n",
    "                        //MET_ET\n",
    "                        float MonteCarlo_met_et_inGeV = MonteCarlo_met_et/1000.;\n",
    "                        h_met_et_WenuW->Fill(MonteCarlo_met_et_inGeV, weight);\n",
    "                        //INV_MASS\n",
    "                        \n",
    "                        h_inv_mass_WenuW->Fill(ll_mass, weight);\n",
    "                    }\n",
    "                    //W WenuJ\n",
    "                     else if(MonteCarlo_runNumber ==167741){\n",
    "                        //PT\n",
    "                        float MonteCarlo_lep_pt_inGeV = MonteCarlo_lep_pt[0]/1000.;\n",
    "                        h_lep_pt_WenuJ->Fill(MonteCarlo_lep_pt_inGeV, weight);\n",
    "                        //ETA\n",
    "                        h_lep_eta_WenuJ->Fill(MonteCarlo_lep_eta[0], weight);\n",
    "                        //PHI\n",
    "                        h_lep_phi_WenuJ->Fill(MonteCarlo_lep_phi[0], weight);\n",
    "                        //E\n",
    "                        float MonteCarlo_lep_E_inGeV = MonteCarlo_lep_E[0]/1000.;\n",
    "                        h_lep_E_WenuJ->Fill(MonteCarlo_lep_E_inGeV, weight);\n",
    "                        //CHARGE\n",
    "                        h_lep_charge_WenuJ->Fill(MonteCarlo_lep_charge[0], weight);\n",
    "                        //ETC20\n",
    "                        h_lep_etc20_WenuJ->Fill(MonteCarlo_lep_etcone20[0], weight);\n",
    "                        //PTC30\n",
    "                        h_lep_ptc30_WenuJ->Fill(MonteCarlo_lep_ptcone30[0], weight);\n",
    "                        //Z0\n",
    "                        h_lep_z0_WenuJ->Fill(MonteCarlo_lep_z0[0], weight);\n",
    "                        //D0\n",
    "                        h_lep_d0_WenuJ->Fill(MonteCarlo_lep_d0[0], weight);\n",
    "                        //PT_TL\n",
    "                        float MonteCarlo_lep_pt_tl_inGeV = MonteCarlo_lep_pt[1]/1000.;\n",
    "                        h_lep_pt_tl_WenuJ->Fill(MonteCarlo_lep_pt_tl_inGeV, weight);\n",
    "                        //ETA_TL\n",
    "                        h_lep_eta_tl_WenuJ->Fill(MonteCarlo_lep_eta[1], weight);\n",
    "                        //PHI_TL\n",
    "                        h_lep_phi_tl_WenuJ->Fill(MonteCarlo_lep_phi[1], weight);\n",
    "                        //E_TL\n",
    "                        float MonteCarlo_lep_E_tl_inGeV = MonteCarlo_lep_E[1]/1000.;\n",
    "                        h_lep_E_tl_WenuJ->Fill(MonteCarlo_lep_E_tl_inGeV, weight);\n",
    "                        //CHARGE_TL\n",
    "                        h_lep_charge_tl_WenuJ->Fill(MonteCarlo_lep_charge[1], weight);\n",
    "                        //ETC20_TL\n",
    "                        h_lep_etc20_tl_WenuJ->Fill(MonteCarlo_lep_etcone20[1], weight);\n",
    "                        //PTC30_TL\n",
    "                        h_lep_ptc30_tl_WenuJ->Fill(MonteCarlo_lep_ptcone30[1], weight);\n",
    "                        //Z0_TL\n",
    "                        h_lep_z0_tl_WenuJ->Fill(MonteCarlo_lep_z0[1], weight);\n",
    "                        //D0_TL\n",
    "                        h_lep_d0_tl_WenuJ->Fill(MonteCarlo_lep_d0[1], weight);\n",
    "                        //JET_N\n",
    "                        h_jet_n_WenuJ->Fill(MonteCarlo_jet_n, weight);\n",
    "                        //JET_PT\n",
    "                        float MonteCarlo_jet_pt_inGeV = MonteCarlo_jet_pt[0]/1000.;\n",
    "                        h_jet_pt_WenuJ->Fill(MonteCarlo_jet_pt_inGeV, weight);\n",
    "                        //JET_ETA\n",
    "                        h_jet_eta_WenuJ->Fill(MonteCarlo_jet_eta[0], weight);\n",
    "                        //JET_M\n",
    "                        float MonteCarlo_jet_m_inGeV = MonteCarlo_jet_m[0]/1000.;\n",
    "                        h_jet_m_WenuJ->Fill(MonteCarlo_jet_m_inGeV, weight);\n",
    "                        //JET_JVF\n",
    "                        h_jet_jvf_WenuJ->Fill(MonteCarlo_jet_jvf[0], weight);\n",
    "                        //JET_MV1\n",
    "                        h_jet_MV1_WenuJ->Fill(MonteCarlo_jet_MV1[0], weight);\n",
    "                        //PVXP_N\n",
    "                        h_pvxp_n_WenuJ->Fill(MonteCarlo_pvxp_n, weight);\n",
    "                        //VXP_Z\n",
    "                        h_vxp_z_WenuJ->Fill(MonteCarlo_vxp_z, weight);\n",
    "                        //MET_ET\n",
    "                        float MonteCarlo_met_et_inGeV = MonteCarlo_met_et/1000.;\n",
    "                        h_met_et_WenuJ->Fill(MonteCarlo_met_et_inGeV, weight);\n",
    "                         //INV_MASS\n",
    "                       \n",
    "                        h_inv_mass_WenuJ->Fill(ll_mass, weight);\n",
    "                    }\n",
    "                    //W WenuN\n",
    "                     else if(MonteCarlo_runNumber ==167742){\n",
    "                        //PT\n",
    "                        float MonteCarlo_lep_pt_inGeV = MonteCarlo_lep_pt[0]/1000.;\n",
    "                        h_lep_pt_WenuN->Fill(MonteCarlo_lep_pt_inGeV, weight);\n",
    "                        //ETA\n",
    "                        h_lep_eta_WenuN->Fill(MonteCarlo_lep_eta[0], weight);\n",
    "                        //PHI\n",
    "                        h_lep_phi_WenuN->Fill(MonteCarlo_lep_phi[0], weight);\n",
    "                        //E\n",
    "                        float MonteCarlo_lep_E_inGeV = MonteCarlo_lep_E[0]/1000.;\n",
    "                        h_lep_E_WenuN->Fill(MonteCarlo_lep_E_inGeV, weight);\n",
    "                        //CHARGE\n",
    "                        h_lep_charge_WenuN->Fill(MonteCarlo_lep_charge[0], weight);\n",
    "                        //ETC20\n",
    "                        h_lep_etc20_WenuN->Fill(MonteCarlo_lep_etcone20[0], weight);\n",
    "                        //PTC30\n",
    "                        h_lep_ptc30_WenuN->Fill(MonteCarlo_lep_ptcone30[0], weight);\n",
    "                        //Z0\n",
    "                        h_lep_z0_WenuN->Fill(MonteCarlo_lep_z0[0], weight);\n",
    "                        //D0\n",
    "                        h_lep_d0_WenuN->Fill(MonteCarlo_lep_d0[0], weight);\n",
    "                        //PT_TL\n",
    "                        float MonteCarlo_lep_pt_tl_inGeV = MonteCarlo_lep_pt[1]/1000.;\n",
    "                        h_lep_pt_tl_WenuN->Fill(MonteCarlo_lep_pt_tl_inGeV, weight);\n",
    "                        //ETA_TL\n",
    "                        h_lep_eta_tl_WenuN->Fill(MonteCarlo_lep_eta[1], weight);\n",
    "                        //PHI_TL\n",
    "                        h_lep_phi_tl_WenuN->Fill(MonteCarlo_lep_phi[1], weight);\n",
    "                        //E_TL\n",
    "                        float MonteCarlo_lep_E_tl_inGeV = MonteCarlo_lep_E[1]/1000.;\n",
    "                        h_lep_E_tl_WenuN->Fill(MonteCarlo_lep_E_tl_inGeV, weight);\n",
    "                        //CHARGE_TL\n",
    "                        h_lep_charge_tl_WenuN->Fill(MonteCarlo_lep_charge[1], weight);\n",
    "                        //ETC20_TL\n",
    "                        h_lep_etc20_tl_WenuN->Fill(MonteCarlo_lep_etcone20[1], weight);\n",
    "                        //PTC30_TL\n",
    "                        h_lep_ptc30_tl_WenuN->Fill(MonteCarlo_lep_ptcone30[1], weight);\n",
    "                        //Z0_TL\n",
    "                        h_lep_z0_tl_WenuN->Fill(MonteCarlo_lep_z0[1], weight);\n",
    "                        //D0_TL\n",
    "                        h_lep_d0_tl_WenuN->Fill(MonteCarlo_lep_d0[1], weight);\n",
    "                        //JET_N\n",
    "                        h_jet_n_WenuN->Fill(MonteCarlo_jet_n, weight);\n",
    "                        //JET_PT\n",
    "                        float MonteCarlo_jet_pt_inGeV = MonteCarlo_jet_pt[0]/1000.;\n",
    "                        h_jet_pt_WenuN->Fill(MonteCarlo_jet_pt_inGeV, weight);\n",
    "                        //JET_ETA\n",
    "                        h_jet_eta_WenuN->Fill(MonteCarlo_jet_eta[0], weight);\n",
    "                        //JET_M\n",
    "                        float MonteCarlo_jet_m_inGeV = MonteCarlo_jet_m[0]/1000.;\n",
    "                        h_jet_m_WenuN->Fill(MonteCarlo_jet_m_inGeV, weight);\n",
    "                        //JET_JVF\n",
    "                        h_jet_jvf_WenuN->Fill(MonteCarlo_jet_jvf[0], weight);\n",
    "                        //JET_MV1\n",
    "                        h_jet_MV1_WenuN->Fill(MonteCarlo_jet_MV1[0], weight);\n",
    "                        //PVXP_N\n",
    "                        h_pvxp_n_WenuN->Fill(MonteCarlo_pvxp_n, weight);\n",
    "                        //VXP_Z\n",
    "                        h_vxp_z_WenuN->Fill(MonteCarlo_vxp_z, weight);\n",
    "                        //MET_ET\n",
    "                        float MonteCarlo_met_et_inGeV = MonteCarlo_met_et/1000.;\n",
    "                        h_met_et_WenuN->Fill(MonteCarlo_met_et_inGeV, weight);\n",
    "                         //INV_MASS\n",
    "                       \n",
    "                        h_inv_mass_WenuN->Fill(ll_mass, weight);\n",
    "                    }\n",
    "                    //W WmunuW\n",
    "                     else if(MonteCarlo_runNumber ==167743){\n",
    "                        //PT\n",
    "                        float MonteCarlo_lep_pt_inGeV = MonteCarlo_lep_pt[0]/1000.;\n",
    "                        h_lep_pt_WmunuW->Fill(MonteCarlo_lep_pt_inGeV, weight);\n",
    "                        //ETA\n",
    "                        h_lep_eta_WmunuW->Fill(MonteCarlo_lep_eta[0], weight);\n",
    "                        //PHI\n",
    "                        h_lep_phi_WmunuW->Fill(MonteCarlo_lep_phi[0], weight);\n",
    "                        //E\n",
    "                        float MonteCarlo_lep_E_inGeV = MonteCarlo_lep_E[0]/1000.;\n",
    "                        h_lep_E_WmunuW->Fill(MonteCarlo_lep_E_inGeV, weight);\n",
    "                        //CHARGE\n",
    "                        h_lep_charge_WmunuW->Fill(MonteCarlo_lep_charge[0], weight);\n",
    "                        //ETC20\n",
    "                        h_lep_etc20_WmunuW->Fill(MonteCarlo_lep_etcone20[0], weight);\n",
    "                        //PTC30\n",
    "                        h_lep_ptc30_WmunuW->Fill(MonteCarlo_lep_ptcone30[0], weight);\n",
    "                        //Z0\n",
    "                        h_lep_z0_WmunuW->Fill(MonteCarlo_lep_z0[0], weight);\n",
    "                        //D0\n",
    "                        h_lep_d0_WmunuW->Fill(MonteCarlo_lep_d0[0], weight);\n",
    "                        //PT_TL\n",
    "                        float MonteCarlo_lep_pt_tl_inGeV = MonteCarlo_lep_pt[1]/1000.;\n",
    "                        h_lep_pt_tl_WmunuW->Fill(MonteCarlo_lep_pt_tl_inGeV, weight);\n",
    "                        //ETA_TL\n",
    "                        h_lep_eta_tl_WmunuW->Fill(MonteCarlo_lep_eta[1], weight);\n",
    "                        //PHI_TL\n",
    "                        h_lep_phi_tl_WmunuW->Fill(MonteCarlo_lep_phi[1], weight);\n",
    "                        //E_TL\n",
    "                        float MonteCarlo_lep_E_tl_inGeV = MonteCarlo_lep_E[1]/1000.;\n",
    "                        h_lep_E_tl_WmunuW->Fill(MonteCarlo_lep_E_tl_inGeV, weight);\n",
    "                        //CHARGE_TL\n",
    "                        h_lep_charge_tl_WmunuW->Fill(MonteCarlo_lep_charge[1], weight);\n",
    "                        //ETC20_TL\n",
    "                        h_lep_etc20_tl_WmunuW->Fill(MonteCarlo_lep_etcone20[1], weight);\n",
    "                        //PTC30_TL\n",
    "                        h_lep_ptc30_tl_WmunuW->Fill(MonteCarlo_lep_ptcone30[1], weight);\n",
    "                        //Z0_TL\n",
    "                        h_lep_z0_tl_WmunuW->Fill(MonteCarlo_lep_z0[1], weight);\n",
    "                        //D0_TL\n",
    "                        h_lep_d0_tl_WmunuW->Fill(MonteCarlo_lep_d0[1], weight);\n",
    "                        //JET_N\n",
    "                        h_jet_n_WmunuW->Fill(MonteCarlo_jet_n, weight);\n",
    "                        //JET_PT\n",
    "                        float MonteCarlo_jet_pt_inGeV = MonteCarlo_jet_pt[0]/1000.;\n",
    "                        h_jet_pt_WmunuW->Fill(MonteCarlo_jet_pt_inGeV, weight);\n",
    "                        //JET_ETA\n",
    "                        h_jet_eta_WmunuW->Fill(MonteCarlo_jet_eta[0], weight);\n",
    "                        //JET_M\n",
    "                        float MonteCarlo_jet_m_inGeV = MonteCarlo_jet_m[0]/1000.;\n",
    "                        h_jet_m_WmunuW->Fill(MonteCarlo_jet_m_inGeV, weight);\n",
    "                        //JET_JVF\n",
    "                        h_jet_jvf_WmunuW->Fill(MonteCarlo_jet_jvf[0], weight);\n",
    "                        //JET_MV1\n",
    "                        h_jet_MV1_WmunuW->Fill(MonteCarlo_jet_MV1[0], weight);\n",
    "                        //PVXP_N\n",
    "                        h_pvxp_n_WmunuW->Fill(MonteCarlo_pvxp_n, weight);\n",
    "                        //VXP_Z\n",
    "                        h_vxp_z_WmunuW->Fill(MonteCarlo_vxp_z, weight);\n",
    "                        //MET_ET\n",
    "                        float MonteCarlo_met_et_inGeV = MonteCarlo_met_et/1000.;\n",
    "                        h_met_et_WmunuW->Fill(MonteCarlo_met_et_inGeV, weight);\n",
    "                         //INV_MASS\n",
    "                        \n",
    "                        h_inv_mass_WmunuW->Fill(ll_mass, weight);\n",
    "                    }\n",
    "                    //W WmunuJ\n",
    "                     else if(MonteCarlo_runNumber ==167744){\n",
    "                        //PT\n",
    "                        float MonteCarlo_lep_pt_inGeV = MonteCarlo_lep_pt[0]/1000.;\n",
    "                        h_lep_pt_WmunuJ->Fill(MonteCarlo_lep_pt_inGeV, weight);\n",
    "                        //ETA\n",
    "                        h_lep_eta_WmunuJ->Fill(MonteCarlo_lep_eta[0], weight);\n",
    "                        //PHI\n",
    "                        h_lep_phi_WmunuJ->Fill(MonteCarlo_lep_phi[0], weight);\n",
    "                        //E\n",
    "                        float MonteCarlo_lep_E_inGeV = MonteCarlo_lep_E[0]/1000.;\n",
    "                        h_lep_E_WmunuJ->Fill(MonteCarlo_lep_E_inGeV, weight);\n",
    "                        //CHARGE\n",
    "                        h_lep_charge_WmunuJ->Fill(MonteCarlo_lep_charge[0], weight);\n",
    "                        //ETC20\n",
    "                        h_lep_etc20_WmunuJ->Fill(MonteCarlo_lep_etcone20[0], weight);\n",
    "                        //PTC30\n",
    "                        h_lep_ptc30_WmunuJ->Fill(MonteCarlo_lep_ptcone30[0], weight);\n",
    "                        //Z0\n",
    "                        h_lep_z0_WmunuJ->Fill(MonteCarlo_lep_z0[0], weight);\n",
    "                        //D0\n",
    "                        h_lep_d0_WmunuJ->Fill(MonteCarlo_lep_d0[0], weight);\n",
    "                        //PT_TL\n",
    "                        float MonteCarlo_lep_pt_tl_inGeV = MonteCarlo_lep_pt[1]/1000.;\n",
    "                        h_lep_pt_tl_WmunuJ->Fill(MonteCarlo_lep_pt_tl_inGeV, weight);\n",
    "                        //ETA_TL\n",
    "                        h_lep_eta_tl_WmunuJ->Fill(MonteCarlo_lep_eta[1], weight);\n",
    "                        //PHI_TL\n",
    "                        h_lep_phi_tl_WmunuJ->Fill(MonteCarlo_lep_phi[1], weight);\n",
    "                        //E_TL\n",
    "                        float MonteCarlo_lep_E_tl_inGeV = MonteCarlo_lep_E[1]/1000.;\n",
    "                        h_lep_E_tl_WmunuJ->Fill(MonteCarlo_lep_E_tl_inGeV, weight);\n",
    "                        //CHARGE_TL\n",
    "                        h_lep_charge_tl_WmunuJ->Fill(MonteCarlo_lep_charge[1], weight);\n",
    "                        //ETC20_TL\n",
    "                        h_lep_etc20_tl_WmunuJ->Fill(MonteCarlo_lep_etcone20[1], weight);\n",
    "                        //PTC30_TL\n",
    "                        h_lep_ptc30_tl_WmunuJ->Fill(MonteCarlo_lep_ptcone30[1], weight);\n",
    "                        //Z0_TL\n",
    "                        h_lep_z0_tl_WmunuJ->Fill(MonteCarlo_lep_z0[1], weight);\n",
    "                        //D0_TL\n",
    "                        h_lep_d0_tl_WmunuJ->Fill(MonteCarlo_lep_d0[1], weight);\n",
    "                        //JET_N\n",
    "                        h_jet_n_WmunuJ->Fill(MonteCarlo_jet_n, weight);\n",
    "                        //JET_PT\n",
    "                        float MonteCarlo_jet_pt_inGeV = MonteCarlo_jet_pt[0]/1000.;\n",
    "                        h_jet_pt_WmunuJ->Fill(MonteCarlo_jet_pt_inGeV, weight);\n",
    "                        //JET_ETA\n",
    "                        h_jet_eta_WmunuJ->Fill(MonteCarlo_jet_eta[0], weight);\n",
    "                        //JET_M\n",
    "                        float MonteCarlo_jet_m_inGeV = MonteCarlo_jet_m[0]/1000.;\n",
    "                        h_jet_m_WmunuJ->Fill(MonteCarlo_jet_m_inGeV, weight);\n",
    "                        //JET_JVF\n",
    "                        h_jet_jvf_WmunuJ->Fill(MonteCarlo_jet_jvf[0], weight);\n",
    "                        //JET_MV1\n",
    "                        h_jet_MV1_WmunuJ->Fill(MonteCarlo_jet_MV1[0], weight);\n",
    "                        //PVXP_N\n",
    "                        h_pvxp_n_WmunuJ->Fill(MonteCarlo_pvxp_n, weight);\n",
    "                        //VXP_Z\n",
    "                        h_vxp_z_WmunuJ->Fill(MonteCarlo_vxp_z, weight);\n",
    "                        //MET_ET\n",
    "                        float MonteCarlo_met_et_inGeV = MonteCarlo_met_et/1000.;\n",
    "                        h_met_et_WmunuJ->Fill(MonteCarlo_met_et_inGeV, weight);\n",
    "                         //INV_MASS\n",
    "                        \n",
    "                        h_inv_mass_WmunuJ->Fill(ll_mass, weight);\n",
    "                    }\n",
    "                    //W WmunuN\n",
    "                    else if(MonteCarlo_runNumber ==167745){\n",
    "                        //PT\n",
    "                        float MonteCarlo_lep_pt_inGeV = MonteCarlo_lep_pt[0]/1000.;\n",
    "                        h_lep_pt_WmunuN->Fill(MonteCarlo_lep_pt_inGeV, weight);\n",
    "                        //ETA\n",
    "                        h_lep_eta_WmunuN->Fill(MonteCarlo_lep_eta[0], weight);\n",
    "                        //PHI\n",
    "                        h_lep_phi_WmunuN->Fill(MonteCarlo_lep_phi[0], weight);\n",
    "                        //E\n",
    "                        float MonteCarlo_lep_E_inGeV = MonteCarlo_lep_E[0]/1000.;\n",
    "                        h_lep_E_WmunuN->Fill(MonteCarlo_lep_E_inGeV, weight);\n",
    "                        //CHARGE\n",
    "                        h_lep_charge_WmunuN->Fill(MonteCarlo_lep_charge[0], weight);\n",
    "                        //ETC20\n",
    "                        h_lep_etc20_WmunuN->Fill(MonteCarlo_lep_etcone20[0], weight);\n",
    "                        //PTC30\n",
    "                        h_lep_ptc30_WmunuN->Fill(MonteCarlo_lep_ptcone30[0], weight);\n",
    "                        //Z0\n",
    "                        h_lep_z0_WmunuN->Fill(MonteCarlo_lep_z0[0], weight);\n",
    "                        //D0\n",
    "                        h_lep_d0_WmunuN->Fill(MonteCarlo_lep_d0[0], weight);\n",
    "                        //PT_TL\n",
    "                        float MonteCarlo_lep_pt_tl_inGeV = MonteCarlo_lep_pt[1]/1000.;\n",
    "                        h_lep_pt_tl_WmunuN->Fill(MonteCarlo_lep_pt_tl_inGeV, weight);\n",
    "                        //ETA_TL\n",
    "                        h_lep_eta_tl_WmunuN->Fill(MonteCarlo_lep_eta[1], weight);\n",
    "                        //PHI_TL\n",
    "                        h_lep_phi_tl_WmunuN->Fill(MonteCarlo_lep_phi[1], weight);\n",
    "                        //E_TL\n",
    "                        float MonteCarlo_lep_E_tl_inGeV = MonteCarlo_lep_E[1]/1000.;\n",
    "                        h_lep_E_tl_WmunuN->Fill(MonteCarlo_lep_E_tl_inGeV, weight);\n",
    "                        //CHARGE_TL\n",
    "                        h_lep_charge_tl_WmunuN->Fill(MonteCarlo_lep_charge[1], weight);\n",
    "                        //ETC20_TL\n",
    "                        h_lep_etc20_tl_WmunuN->Fill(MonteCarlo_lep_etcone20[1], weight);\n",
    "                        //PTC30_TL\n",
    "                        h_lep_ptc30_tl_WmunuN->Fill(MonteCarlo_lep_ptcone30[1], weight);\n",
    "                        //Z0_TL\n",
    "                        h_lep_z0_tl_WmunuN->Fill(MonteCarlo_lep_z0[1], weight);\n",
    "                        //D0_TL\n",
    "                        h_lep_d0_tl_WmunuN->Fill(MonteCarlo_lep_d0[1], weight);\n",
    "                        //JET_N\n",
    "                        h_jet_n_WmunuN->Fill(MonteCarlo_jet_n, weight);\n",
    "                        //JET_PT\n",
    "                        float MonteCarlo_jet_pt_inGeV = MonteCarlo_jet_pt[0]/1000.;\n",
    "                        h_jet_pt_WmunuN->Fill(MonteCarlo_jet_pt_inGeV, weight);\n",
    "                        //JET_ETA\n",
    "                        h_jet_eta_WmunuN->Fill(MonteCarlo_jet_eta[0], weight);\n",
    "                        //JET_M\n",
    "                        float MonteCarlo_jet_m_inGeV = MonteCarlo_jet_m[0]/1000.;\n",
    "                        h_jet_m_WmunuN->Fill(MonteCarlo_jet_m_inGeV, weight);\n",
    "                        //JET_JVF\n",
    "                        h_jet_jvf_WmunuN->Fill(MonteCarlo_jet_jvf[0], weight);\n",
    "                        //JET_MV1\n",
    "                        h_jet_MV1_WmunuN->Fill(MonteCarlo_jet_MV1[0], weight);\n",
    "                        //PVXP_N\n",
    "                        h_pvxp_n_WmunuN->Fill(MonteCarlo_pvxp_n, weight);\n",
    "                        //VXP_Z\n",
    "                        h_vxp_z_WmunuN->Fill(MonteCarlo_vxp_z, weight);\n",
    "                        //MET_ET\n",
    "                        float MonteCarlo_met_et_inGeV = MonteCarlo_met_et/1000.;\n",
    "                        h_met_et_WmunuN->Fill(MonteCarlo_met_et_inGeV, weight);\n",
    "                        //INV_MASS\n",
    "                        \n",
    "                        h_inv_mass_WmunuN->Fill(ll_mass, weight);\n",
    "                    }\n",
    "                      //W WtaunuW\n",
    "                    else if(MonteCarlo_runNumber ==167746){\n",
    "                        //PT\n",
    "                        float MonteCarlo_lep_pt_inGeV = MonteCarlo_lep_pt[0]/1000.;\n",
    "                        h_lep_pt_WtaunuW->Fill(MonteCarlo_lep_pt_inGeV, weight);\n",
    "                        //ETA\n",
    "                        h_lep_eta_WtaunuW->Fill(MonteCarlo_lep_eta[0], weight);\n",
    "                        //PHI\n",
    "                        h_lep_phi_WtaunuW->Fill(MonteCarlo_lep_phi[0], weight);\n",
    "                        //E\n",
    "                        float MonteCarlo_lep_E_inGeV = MonteCarlo_lep_E[0]/1000.;\n",
    "                        h_lep_E_WtaunuW->Fill(MonteCarlo_lep_E_inGeV, weight);\n",
    "                        //CHARGE\n",
    "                        h_lep_charge_WtaunuW->Fill(MonteCarlo_lep_charge[0], weight);\n",
    "                        //ETC20\n",
    "                        h_lep_etc20_WtaunuW->Fill(MonteCarlo_lep_etcone20[0], weight);\n",
    "                        //PTC30\n",
    "                        h_lep_ptc30_WtaunuW->Fill(MonteCarlo_lep_ptcone30[0], weight);\n",
    "                        //Z0\n",
    "                        h_lep_z0_WtaunuW->Fill(MonteCarlo_lep_z0[0], weight);\n",
    "                        //D0\n",
    "                        h_lep_d0_WtaunuW->Fill(MonteCarlo_lep_d0[0], weight);\n",
    "                        //PT_TL\n",
    "                        float MonteCarlo_lep_pt_tl_inGeV = MonteCarlo_lep_pt[1]/1000.;\n",
    "                        h_lep_pt_tl_WtaunuW->Fill(MonteCarlo_lep_pt_tl_inGeV, weight);\n",
    "                        //ETA_TL\n",
    "                        h_lep_eta_tl_WtaunuW->Fill(MonteCarlo_lep_eta[1], weight);\n",
    "                        //PHI_TL\n",
    "                        h_lep_phi_tl_WtaunuW->Fill(MonteCarlo_lep_phi[1], weight);\n",
    "                        //E_TL\n",
    "                        float MonteCarlo_lep_E_tl_inGeV = MonteCarlo_lep_E[1]/1000.;\n",
    "                        h_lep_E_tl_WtaunuW->Fill(MonteCarlo_lep_E_tl_inGeV, weight);\n",
    "                        //CHARGE_TL\n",
    "                        h_lep_charge_tl_WtaunuW->Fill(MonteCarlo_lep_charge[1], weight);\n",
    "                        //ETC20_TL\n",
    "                        h_lep_etc20_tl_WtaunuW->Fill(MonteCarlo_lep_etcone20[1], weight);\n",
    "                        //PTC30_TL\n",
    "                        h_lep_ptc30_tl_WtaunuW->Fill(MonteCarlo_lep_ptcone30[1], weight);\n",
    "                        //Z0_TL\n",
    "                        h_lep_z0_tl_WtaunuW->Fill(MonteCarlo_lep_z0[1], weight);\n",
    "                        //D0_TL\n",
    "                        h_lep_d0_tl_WtaunuW->Fill(MonteCarlo_lep_d0[1], weight);\n",
    "                        //JET_N\n",
    "                        h_jet_n_WtaunuW->Fill(MonteCarlo_jet_n, weight);\n",
    "                        //JET_PT\n",
    "                        float MonteCarlo_jet_pt_inGeV = MonteCarlo_jet_pt[0]/1000.;\n",
    "                        h_jet_pt_WtaunuW->Fill(MonteCarlo_jet_pt_inGeV, weight);\n",
    "                        //JET_ETA\n",
    "                        h_jet_eta_WtaunuW->Fill(MonteCarlo_jet_eta[0], weight);\n",
    "                        //JET_M\n",
    "                        float MonteCarlo_jet_m_inGeV = MonteCarlo_jet_m[0]/1000.;\n",
    "                        h_jet_m_WtaunuW->Fill(MonteCarlo_jet_m_inGeV, weight);\n",
    "                        //JET_JVF\n",
    "                        h_jet_jvf_WtaunuW->Fill(MonteCarlo_jet_jvf[0], weight);\n",
    "                        //JET_MV1\n",
    "                        h_jet_MV1_WtaunuW->Fill(MonteCarlo_jet_MV1[0], weight);\n",
    "                        //PVXP_N\n",
    "                        h_pvxp_n_WtaunuW->Fill(MonteCarlo_pvxp_n, weight);\n",
    "                        //VXP_Z\n",
    "                        h_vxp_z_WtaunuW->Fill(MonteCarlo_vxp_z, weight);\n",
    "                        //MET_ET\n",
    "                        float MonteCarlo_met_et_inGeV = MonteCarlo_met_et/1000.;\n",
    "                        h_met_et_WtaunuW->Fill(MonteCarlo_met_et_inGeV, weight);\n",
    "                        //INV_MASS\n",
    "                        \n",
    "                        h_inv_mass_WtaunuW->Fill(ll_mass, weight);\n",
    "                        \n",
    "                    }\n",
    "                      //W WtaunuJ\n",
    "                     else if(MonteCarlo_runNumber ==167747){\n",
    "                        //PT\n",
    "                        float MonteCarlo_lep_pt_inGeV = MonteCarlo_lep_pt[0]/1000.;\n",
    "                        h_lep_pt_WtaunuJ->Fill(MonteCarlo_lep_pt_inGeV, weight);\n",
    "                        //ETA\n",
    "                        h_lep_eta_WtaunuJ->Fill(MonteCarlo_lep_eta[0], weight);\n",
    "                        //PHI\n",
    "                        h_lep_phi_WtaunuJ->Fill(MonteCarlo_lep_phi[0], weight);\n",
    "                        //E\n",
    "                        float MonteCarlo_lep_E_inGeV = MonteCarlo_lep_E[0]/1000.;\n",
    "                        h_lep_E_WtaunuJ->Fill(MonteCarlo_lep_E_inGeV, weight);\n",
    "                        //CHARGE\n",
    "                        h_lep_charge_WtaunuJ->Fill(MonteCarlo_lep_charge[0], weight);\n",
    "                        //ETC20\n",
    "                        h_lep_etc20_WtaunuJ->Fill(MonteCarlo_lep_etcone20[0], weight);\n",
    "                        //PTC30\n",
    "                        h_lep_ptc30_WtaunuJ->Fill(MonteCarlo_lep_ptcone30[0], weight);\n",
    "                        //Z0\n",
    "                        h_lep_z0_WtaunuJ->Fill(MonteCarlo_lep_z0[0], weight);\n",
    "                        //D0\n",
    "                        h_lep_d0_WtaunuJ->Fill(MonteCarlo_lep_d0[0], weight);\n",
    "                        //PT_TL\n",
    "                        float MonteCarlo_lep_pt_tl_inGeV = MonteCarlo_lep_pt[1]/1000.;\n",
    "                        h_lep_pt_tl_WtaunuJ->Fill(MonteCarlo_lep_pt_tl_inGeV, weight);\n",
    "                        //ETA_TL\n",
    "                        h_lep_eta_tl_WtaunuJ->Fill(MonteCarlo_lep_eta[1], weight);\n",
    "                        //PHI_TL\n",
    "                        h_lep_phi_tl_WtaunuJ->Fill(MonteCarlo_lep_phi[1], weight);\n",
    "                        //E_TL\n",
    "                        float MonteCarlo_lep_E_tl_inGeV = MonteCarlo_lep_E[1]/1000.;\n",
    "                        h_lep_E_tl_WtaunuJ->Fill(MonteCarlo_lep_E_tl_inGeV, weight);\n",
    "                        //CHARGE_TL\n",
    "                        h_lep_charge_tl_WtaunuJ->Fill(MonteCarlo_lep_charge[1], weight);\n",
    "                        //ETC20_TL\n",
    "                        h_lep_etc20_tl_WtaunuJ->Fill(MonteCarlo_lep_etcone20[1], weight);\n",
    "                        //PTC30_TL\n",
    "                        h_lep_ptc30_tl_WtaunuJ->Fill(MonteCarlo_lep_ptcone30[1], weight);\n",
    "                        //Z0_TL\n",
    "                        h_lep_z0_tl_WtaunuJ->Fill(MonteCarlo_lep_z0[1], weight);\n",
    "                        //D0_TL\n",
    "                        h_lep_d0_tl_WtaunuJ->Fill(MonteCarlo_lep_d0[1], weight);\n",
    "                        //JET_N\n",
    "                        h_jet_n_WtaunuJ->Fill(MonteCarlo_jet_n, weight);\n",
    "                        //JET_PT\n",
    "                        float MonteCarlo_jet_pt_inGeV = MonteCarlo_jet_pt[0]/1000.;\n",
    "                        h_jet_pt_WtaunuJ->Fill(MonteCarlo_jet_pt_inGeV, weight);\n",
    "                        //JET_ETA\n",
    "                        h_jet_eta_WtaunuJ->Fill(MonteCarlo_jet_eta[0], weight);\n",
    "                        //JET_M\n",
    "                        float MonteCarlo_jet_m_inGeV = MonteCarlo_jet_m[0]/1000.;\n",
    "                        h_jet_m_WtaunuJ->Fill(MonteCarlo_jet_m_inGeV, weight);\n",
    "                        //JET_JVF\n",
    "                        h_jet_jvf_WtaunuJ->Fill(MonteCarlo_jet_jvf[0], weight);\n",
    "                        //JET_MV1\n",
    "                        h_jet_MV1_WtaunuJ->Fill(MonteCarlo_jet_MV1[0], weight);\n",
    "                        //PVXP_N\n",
    "                        h_pvxp_n_WtaunuJ->Fill(MonteCarlo_pvxp_n, weight);\n",
    "                        //VXP_Z\n",
    "                        h_vxp_z_WtaunuJ->Fill(MonteCarlo_vxp_z, weight);\n",
    "                        //MET_ET\n",
    "                        float MonteCarlo_met_et_inGeV = MonteCarlo_met_et/1000.;\n",
    "                        h_met_et_WtaunuJ->Fill(MonteCarlo_met_et_inGeV, weight);\n",
    "                        //INV_MASS\n",
    "                        h_inv_mass_WtaunuJ->Fill(ll_mass, weight);\n",
    "                        \n",
    "                    }\n",
    "                      //W WtaunuN\n",
    "                     else if(MonteCarlo_runNumber ==167748){\n",
    "                        //PT\n",
    "                        float MonteCarlo_lep_pt_inGeV = MonteCarlo_lep_pt[0]/1000.;\n",
    "                        h_lep_pt_WtaunuN->Fill(MonteCarlo_lep_pt_inGeV, weight);\n",
    "                        //ETA\n",
    "                        h_lep_eta_WtaunuN->Fill(MonteCarlo_lep_eta[0], weight);\n",
    "                        //PHI\n",
    "                        h_lep_phi_WtaunuN->Fill(MonteCarlo_lep_phi[0], weight);\n",
    "                        //E\n",
    "                        float MonteCarlo_lep_E_inGeV = MonteCarlo_lep_E[0]/1000.;\n",
    "                        h_lep_E_WtaunuN->Fill(MonteCarlo_lep_E_inGeV, weight);\n",
    "                        //CHARGE\n",
    "                        h_lep_charge_WtaunuN->Fill(MonteCarlo_lep_charge[0], weight);\n",
    "                        //ETC20\n",
    "                        h_lep_etc20_WtaunuN->Fill(MonteCarlo_lep_etcone20[0], weight);\n",
    "                        //PTC30\n",
    "                        h_lep_ptc30_WtaunuN->Fill(MonteCarlo_lep_ptcone30[0], weight);\n",
    "                        //Z0\n",
    "                        h_lep_z0_WtaunuN->Fill(MonteCarlo_lep_z0[0], weight);\n",
    "                        //D0\n",
    "                        h_lep_d0_WtaunuN->Fill(MonteCarlo_lep_d0[0], weight);\n",
    "                        //PT_TL\n",
    "                        float MonteCarlo_lep_pt_tl_inGeV = MonteCarlo_lep_pt[1]/1000.;\n",
    "                        h_lep_pt_tl_WtaunuN->Fill(MonteCarlo_lep_pt_tl_inGeV, weight);\n",
    "                        //ETA_TL\n",
    "                        h_lep_eta_tl_WtaunuN->Fill(MonteCarlo_lep_eta[1], weight);\n",
    "                        //PHI_TL\n",
    "                        h_lep_phi_tl_WtaunuN->Fill(MonteCarlo_lep_phi[1], weight);\n",
    "                        //E_TL\n",
    "                        float MonteCarlo_lep_E_tl_inGeV = MonteCarlo_lep_E[1]/1000.;\n",
    "                        h_lep_E_tl_WtaunuN->Fill(MonteCarlo_lep_E_tl_inGeV, weight);\n",
    "                        //CHARGE_TL\n",
    "                        h_lep_charge_tl_WtaunuN->Fill(MonteCarlo_lep_charge[1], weight);\n",
    "                        //ETC20_TL\n",
    "                        h_lep_etc20_tl_WtaunuN->Fill(MonteCarlo_lep_etcone20[1], weight);\n",
    "                        //PTC30_TL\n",
    "                        h_lep_ptc30_tl_WtaunuN->Fill(MonteCarlo_lep_ptcone30[1], weight);\n",
    "                        //Z0_TL\n",
    "                        h_lep_z0_tl_WtaunuN->Fill(MonteCarlo_lep_z0[1], weight);\n",
    "                        //D0_TL\n",
    "                        h_lep_d0_tl_WtaunuN->Fill(MonteCarlo_lep_d0[1], weight);\n",
    "                        //JET_N\n",
    "                        h_jet_n_WtaunuN->Fill(MonteCarlo_jet_n, weight);\n",
    "                        //JET_PT\n",
    "                        float MonteCarlo_jet_pt_inGeV = MonteCarlo_jet_pt[0]/1000.;\n",
    "                        h_jet_pt_WtaunuN->Fill(MonteCarlo_jet_pt_inGeV, weight);\n",
    "                        //JET_ETA\n",
    "                        h_jet_eta_WtaunuN->Fill(MonteCarlo_jet_eta[0], weight);\n",
    "                        //JET_M\n",
    "                        float MonteCarlo_jet_m_inGeV = MonteCarlo_jet_m[0]/1000.;\n",
    "                        h_jet_m_WtaunuN->Fill(MonteCarlo_jet_m_inGeV, weight);\n",
    "                        //JET_JVF\n",
    "                        h_jet_jvf_WtaunuN->Fill(MonteCarlo_jet_jvf[0], weight);\n",
    "                        //JET_MV1\n",
    "                        h_jet_MV1_WtaunuN->Fill(MonteCarlo_jet_MV1[0], weight);\n",
    "                        //PVXP_N\n",
    "                        h_pvxp_n_WtaunuN->Fill(MonteCarlo_pvxp_n, weight);\n",
    "                        //VXP_Z\n",
    "                        h_vxp_z_WtaunuN->Fill(MonteCarlo_vxp_z, weight);\n",
    "                        //MET_ET\n",
    "                        float MonteCarlo_met_et_inGeV = MonteCarlo_met_et/1000.;\n",
    "                        h_met_et_WtaunuN->Fill(MonteCarlo_met_et_inGeV, weight);\n",
    "                        //INV_MASS\n",
    "                        h_inv_mass_WtaunuN->Fill(ll_mass, weight);\n",
    "                    }\n",
    "                    \n",
    "                    //Data egamma histogram\n",
    "                     else{\n",
    "                        //PT\n",
    "                        float MonteCarlo_lep_pt_inGeV = MonteCarlo_lep_pt[0]/1000.;\n",
    "                       h_lep_pt_Data->Fill(MonteCarlo_lep_pt_inGeV, 1);\n",
    "                        \n",
    "                     }\n",
    "                    \n",
    "   \n",
    "                }\n",
    "    \n",
    "            }\n",
    "        }\n",
    "    }\n",
    "                        \n",
    "}"
   ]
  },
  {
   "cell_type": "markdown",
   "metadata": {},
   "source": [
    "<b>Calculate the scale factor for each analysis</b>"
   ]
  },
  {
   "cell_type": "markdown",
   "metadata": {},
   "source": [
    "Calculate scale factor for Z analysis"
   ]
  },
  {
   "cell_type": "code",
   "execution_count": null,
   "metadata": {
    "collapsed": false
   },
   "outputs": [],
   "source": [
    "//SC Z\n",
    "scaleFactorZee=(Luminosity*1241.2072)/(203795455568148.0*0.151816307);\n",
    "scaleFactorZmumu=(Luminosity*1241.2072)/(225316022111048.0*0.124706551);\n",
    "scaleFactorZtautau= (Luminosity*1240.8988)/(31508540303680.9*0.921502294);    "
   ]
  },
  {
   "cell_type": "markdown",
   "metadata": {},
   "source": [
    "Calculate scale factor for Diboson analysis"
   ]
  },
  {
   "cell_type": "code",
   "execution_count": null,
   "metadata": {
    "collapsed": true
   },
   "outputs": [],
   "source": [
    "//SC Diboson\n",
    "scaleFactorDww=(Luminosity*20.90286)/(2489550.66/0.388);\n",
    "scaleFactorDzz=(Luminosity*1.5376)/(243674.74/0.95088);\n",
    "scaleFactorDwz=(Luminosity*6.9673)/(996210.5/0.96668);"
   ]
  },
  {
   "cell_type": "markdown",
   "metadata": {},
   "source": [
    "Calculate scale factor for Drell Yan analysis"
   ]
  },
  {
   "cell_type": "code",
   "execution_count": null,
   "metadata": {
    "collapsed": true
   },
   "outputs": [],
   "source": [
    "//SC Drell Yan\n",
    "scaleFactorDYee1=(Luminosity*92.15)/(4772549.624/0.893071694);\n",
    "scaleFactorDYee2=(Luminosity*279.19)/(13895470.42/0.945799529);\n",
    "scaleFactorDYmumu1=(Luminosity*92.08)/(4977032.008/0.960298189);\n",
    "scaleFactorDYmumu2=(Luminosity*279.2)/(11510844.32/0.999654588);\n",
    "scaleFactorDYtautau1=(Luminosity*92.12)/(2489620.309/1);\n",
    "scaleFactorDYtautau2=(Luminosity*279.11)/(13704752.81/1);"
   ]
  },
  {
   "cell_type": "markdown",
   "metadata": {},
   "source": [
    "Calculate scale factor for Stop analysis"
   ]
  },
  {
   "cell_type": "code",
   "execution_count": null,
   "metadata": {
    "collapsed": true
   },
   "outputs": [],
   "source": [
    "//SC Stop\n",
    "scaleFactorStchan_top=(Luminosity*18.39495)/(0.087147591/0.08947185);\n",
    "scaleFactorStchan_antitop=(Luminosity*9.95976)/(0.046283642/0.058425933);\n",
    "scaleFactorSschan=(Luminosity*1.817694)/(5972600.588/0.051100576);\n",
    "scaleFactorSwtchan=(Luminosity*22.3014)/(996333.734/0.636162836);"
   ]
  },
  {
   "cell_type": "markdown",
   "metadata": {},
   "source": [
    "Calculate scale factor for TTBar analysis"
   ]
  },
  {
   "cell_type": "code",
   "execution_count": null,
   "metadata": {
    "collapsed": true
   },
   "outputs": [],
   "source": [
    "//SC TTBar\n",
    "scaleFactorTThad=(Luminosity*115.518854)/(115.518854/1);\n",
    "scaleFactorTTlep=(Luminosity*137.29749)/(49761200.21/0.072212854);"
   ]
  },
  {
   "cell_type": "markdown",
   "metadata": {},
   "source": [
    "Calculate scale factor for W analysis"
   ]
  },
  {
   "cell_type": "code",
   "execution_count": null,
   "metadata": {
    "collapsed": true
   },
   "outputs": [],
   "source": [
    "//SC W\n",
    "scaleFactorWenuW=(Luminosity*154.374)/(4260058.061*0.129496439);\n",
    "scaleFactorWenuJ=(Luminosity*591.624)/(1719244.25*0.981554126);\n",
    "scaleFactorWenuN=(Luminosity*11324.5)/(13179098.28*0.946929361);\n",
    "scaleFactorWmunuW=(Luminosity*154.429)/(4010756.4*0.133223309);\n",
    "scaleFactorWmunuJ=(Luminosity*513.117)/(1726755.472*0.905793003);\n",
    "scaleFactorWmunuN=(Luminosity*11404.8)/(11600960.24*0.943743915);\n",
    "scaleFactorWtaunuW=(Luminosity*154.374)/(4343529.568*0.188978183);\n",
    "scaleFactorWtaunuJ=(Luminosity*557.095)/(1776192.932*0.913648001);\n",
    "scaleFactorWtaunuN=(Luminosity*11359.7)/(13316520.62*0.926932574);"
   ]
  },
  {
   "cell_type": "markdown",
   "metadata": {},
   "source": [
    "<b>Scale histograms</b>"
   ]
  },
  {
   "cell_type": "markdown",
   "metadata": {},
   "source": [
    "Scale PT histograms for each analysis"
   ]
  },
  {
   "cell_type": "code",
   "execution_count": null,
   "metadata": {
    "collapsed": false
   },
   "outputs": [],
   "source": [
    "//PT Histograms Scale\n",
    "h_lep_pt_Zee->Scale(scaleFactorZee);\n",
    "h_lep_pt_Zmumu->Scale(scaleFactorZmumu);\n",
    "h_lep_pt_Ztautau->Scale(scaleFactorZtautau);\n",
    "\n",
    "h_lep_pt_Dww->Scale(scaleFactorDww);\n",
    "h_lep_pt_Dzz->Scale(scaleFactorDzz);\n",
    "h_lep_pt_Dwz->Scale(scaleFactorDwz);\n",
    "\n",
    "h_lep_pt_DYee1->Scale(scaleFactorDYee1);\n",
    "h_lep_pt_DYee2->Scale(scaleFactorDYee2);\n",
    "h_lep_pt_DYmumu1->Scale(scaleFactorDYmumu1);\n",
    "h_lep_pt_DYmumu2->Scale(scaleFactorDYmumu2);\n",
    "h_lep_pt_DYtautau1->Scale(scaleFactorDYtautau1);\n",
    "h_lep_pt_DYtautau2->Scale(scaleFactorDYtautau2);\n",
    "\n",
    "h_lep_pt_Stchan_top->Scale(scaleFactorStchan_top);\n",
    "h_lep_pt_Stchan_antitop->Scale(scaleFactorStchan_antitop);\n",
    "h_lep_pt_Sschan->Scale(scaleFactorSschan);\n",
    "h_lep_pt_Swtchan->Scale(scaleFactorSwtchan);\n",
    "\n",
    "h_lep_pt_TThad->Scale(scaleFactorTThad);\n",
    "h_lep_pt_TTlep->Scale(scaleFactorTTlep);\n",
    "\n",
    "h_lep_pt_WenuW->Scale(scaleFactorWenuW);\n",
    "h_lep_pt_WenuJ->Scale(scaleFactorWenuJ);\n",
    "h_lep_pt_WenuN->Scale(scaleFactorWenuN);\n",
    "h_lep_pt_WmunuW->Scale(scaleFactorWmunuW);\n",
    "h_lep_pt_WmunuJ->Scale(scaleFactorWmunuJ);\n",
    "h_lep_pt_WmunuN->Scale(scaleFactorWmunuN);\n",
    "h_lep_pt_WtaunuW->Scale(scaleFactorWtaunuW);\n",
    "h_lep_pt_WtaunuJ->Scale(scaleFactorWtaunuJ);\n",
    "h_lep_pt_WtaunuN->Scale(scaleFactorWtaunuN);"
   ]
  },
  {
   "cell_type": "markdown",
   "metadata": {},
   "source": [
    "Scale ETA histograms for each analysis"
   ]
  },
  {
   "cell_type": "code",
   "execution_count": null,
   "metadata": {
    "collapsed": true
   },
   "outputs": [],
   "source": [
    "//ETA Histograms Scale\n",
    "h_lep_eta_Zee->Scale(scaleFactorZee);\n",
    "h_lep_eta_Zmumu->Scale(scaleFactorZmumu);\n",
    "h_lep_eta_Ztautau->Scale(scaleFactorZtautau);\n",
    "\n",
    "h_lep_eta_Dww->Scale(scaleFactorDww);\n",
    "h_lep_eta_Dzz->Scale(scaleFactorDzz);\n",
    "h_lep_eta_Dwz->Scale(scaleFactorDwz);\n",
    "\n",
    "h_lep_eta_DYee1->Scale(scaleFactorDYee1);\n",
    "h_lep_eta_DYee2->Scale(scaleFactorDYee2);\n",
    "h_lep_eta_DYmumu1->Scale(scaleFactorDYmumu1);\n",
    "h_lep_eta_DYmumu2->Scale(scaleFactorDYmumu2);\n",
    "h_lep_eta_DYtautau1->Scale(scaleFactorDYtautau1);\n",
    "h_lep_eta_DYtautau2->Scale(scaleFactorDYtautau2);\n",
    "\n",
    "h_lep_eta_Stchan_top->Scale(scaleFactorStchan_top);\n",
    "h_lep_eta_Stchan_antitop->Scale(scaleFactorStchan_antitop);\n",
    "h_lep_eta_Sschan->Scale(scaleFactorSschan);\n",
    "h_lep_eta_Swtchan->Scale(scaleFactorSwtchan);\n",
    "\n",
    "h_lep_eta_TThad->Scale(scaleFactorTThad);\n",
    "h_lep_eta_TTlep->Scale(scaleFactorTTlep);\n",
    "\n",
    "h_lep_eta_WenuW->Scale(scaleFactorWenuW);\n",
    "h_lep_eta_WenuJ->Scale(scaleFactorWenuJ);\n",
    "h_lep_eta_WenuN->Scale(scaleFactorWenuN);\n",
    "h_lep_eta_WmunuW->Scale(scaleFactorWmunuW);\n",
    "h_lep_eta_WmunuJ->Scale(scaleFactorWmunuJ);\n",
    "h_lep_eta_WmunuN->Scale(scaleFactorWmunuN);\n",
    "h_lep_eta_WtaunuW->Scale(scaleFactorWtaunuW);\n",
    "h_lep_eta_WtaunuJ->Scale(scaleFactorWtaunuJ);\n",
    "h_lep_eta_WtaunuN->Scale(scaleFactorWtaunuN);"
   ]
  },
  {
   "cell_type": "markdown",
   "metadata": {},
   "source": [
    "Scale PHI histograms for each analysis"
   ]
  },
  {
   "cell_type": "code",
   "execution_count": null,
   "metadata": {
    "collapsed": true
   },
   "outputs": [],
   "source": [
    "//PHI Histograms Scale\n",
    "h_lep_phi_Zee->Scale(scaleFactorZee);\n",
    "h_lep_phi_Zmumu->Scale(scaleFactorZmumu);\n",
    "h_lep_phi_Ztautau->Scale(scaleFactorZtautau);\n",
    "\n",
    "h_lep_phi_Dww->Scale(scaleFactorDww);\n",
    "h_lep_phi_Dzz->Scale(scaleFactorDzz);\n",
    "h_lep_phi_Dwz->Scale(scaleFactorDwz);\n",
    "\n",
    "h_lep_phi_DYee1->Scale(scaleFactorDYee1);\n",
    "h_lep_phi_DYee2->Scale(scaleFactorDYee2);\n",
    "h_lep_phi_DYmumu1->Scale(scaleFactorDYmumu1);\n",
    "h_lep_phi_DYmumu2->Scale(scaleFactorDYmumu2);\n",
    "h_lep_phi_DYtautau1->Scale(scaleFactorDYtautau1);\n",
    "h_lep_phi_DYtautau2->Scale(scaleFactorDYtautau2);\n",
    "\n",
    "h_lep_phi_Stchan_top->Scale(scaleFactorStchan_top);\n",
    "h_lep_phi_Stchan_antitop->Scale(scaleFactorStchan_antitop);\n",
    "h_lep_phi_Sschan->Scale(scaleFactorSschan);\n",
    "h_lep_phi_Swtchan->Scale(scaleFactorSwtchan);\n",
    "\n",
    "h_lep_phi_TThad->Scale(scaleFactorTThad);\n",
    "h_lep_phi_TTlep->Scale(scaleFactorTTlep);\n",
    "\n",
    "h_lep_phi_WenuW->Scale(scaleFactorWenuW);\n",
    "h_lep_phi_WenuJ->Scale(scaleFactorWenuJ);\n",
    "h_lep_phi_WenuN->Scale(scaleFactorWenuN);\n",
    "h_lep_phi_WmunuW->Scale(scaleFactorWmunuW);\n",
    "h_lep_phi_WmunuJ->Scale(scaleFactorWmunuJ);\n",
    "h_lep_phi_WmunuN->Scale(scaleFactorWmunuN);\n",
    "h_lep_phi_WtaunuW->Scale(scaleFactorWtaunuW);\n",
    "h_lep_phi_WtaunuJ->Scale(scaleFactorWtaunuJ);\n",
    "h_lep_phi_WtaunuN->Scale(scaleFactorWtaunuN);"
   ]
  },
  {
   "cell_type": "markdown",
   "metadata": {},
   "source": [
    "Scale ENERGY histograms for each analysis"
   ]
  },
  {
   "cell_type": "code",
   "execution_count": null,
   "metadata": {
    "collapsed": true
   },
   "outputs": [],
   "source": [
    "//E Histograms Scale\n",
    "h_lep_E_Zee->Scale(scaleFactorZee);\n",
    "h_lep_E_Zmumu->Scale(scaleFactorZmumu);\n",
    "h_lep_E_Ztautau->Scale(scaleFactorZtautau);\n",
    "\n",
    "h_lep_E_Dww->Scale(scaleFactorDww);\n",
    "h_lep_E_Dzz->Scale(scaleFactorDzz);\n",
    "h_lep_E_Dwz->Scale(scaleFactorDwz);\n",
    "\n",
    "h_lep_E_DYee1->Scale(scaleFactorDYee1);\n",
    "h_lep_E_DYee2->Scale(scaleFactorDYee2);\n",
    "h_lep_E_DYmumu1->Scale(scaleFactorDYmumu1);\n",
    "h_lep_E_DYmumu2->Scale(scaleFactorDYmumu2);\n",
    "h_lep_E_DYtautau1->Scale(scaleFactorDYtautau1);\n",
    "h_lep_E_DYtautau2->Scale(scaleFactorDYtautau2);\n",
    "\n",
    "h_lep_E_Stchan_top->Scale(scaleFactorStchan_top);\n",
    "h_lep_E_Stchan_antitop->Scale(scaleFactorStchan_antitop);\n",
    "h_lep_E_Sschan->Scale(scaleFactorSschan);\n",
    "h_lep_E_Swtchan->Scale(scaleFactorSwtchan);\n",
    "\n",
    "h_lep_E_TThad->Scale(scaleFactorTThad);\n",
    "h_lep_E_TTlep->Scale(scaleFactorTTlep);\n",
    "\n",
    "h_lep_E_WenuW->Scale(scaleFactorWenuW);\n",
    "h_lep_E_WenuJ->Scale(scaleFactorWenuJ);\n",
    "h_lep_E_WenuN->Scale(scaleFactorWenuN);\n",
    "h_lep_E_WmunuW->Scale(scaleFactorWmunuW);\n",
    "h_lep_E_WmunuJ->Scale(scaleFactorWmunuJ);\n",
    "h_lep_E_WmunuN->Scale(scaleFactorWmunuN);\n",
    "h_lep_E_WtaunuW->Scale(scaleFactorWtaunuW);\n",
    "h_lep_E_WtaunuJ->Scale(scaleFactorWtaunuJ);\n",
    "h_lep_E_WtaunuN->Scale(scaleFactorWtaunuN);"
   ]
  },
  {
   "cell_type": "markdown",
   "metadata": {},
   "source": [
    "Scale CHARGE histograms for each analysis"
   ]
  },
  {
   "cell_type": "code",
   "execution_count": null,
   "metadata": {
    "collapsed": true
   },
   "outputs": [],
   "source": [
    "//CHARGE Histograms Scale\n",
    "h_lep_charge_Zee->Scale(scaleFactorZee);\n",
    "h_lep_charge_Zmumu->Scale(scaleFactorZmumu);\n",
    "h_lep_charge_Ztautau->Scale(scaleFactorZtautau);\n",
    "\n",
    "h_lep_charge_Dww->Scale(scaleFactorDww);\n",
    "h_lep_charge_Dzz->Scale(scaleFactorDzz);\n",
    "h_lep_charge_Dwz->Scale(scaleFactorDwz);\n",
    "\n",
    "h_lep_charge_DYee1->Scale(scaleFactorDYee1);\n",
    "h_lep_charge_DYee2->Scale(scaleFactorDYee2);\n",
    "h_lep_charge_DYmumu1->Scale(scaleFactorDYmumu1);\n",
    "h_lep_charge_DYmumu2->Scale(scaleFactorDYmumu2);\n",
    "h_lep_charge_DYtautau1->Scale(scaleFactorDYtautau1);\n",
    "h_lep_charge_DYtautau2->Scale(scaleFactorDYtautau2);\n",
    "\n",
    "h_lep_charge_Stchan_top->Scale(scaleFactorStchan_top);\n",
    "h_lep_charge_Stchan_antitop->Scale(scaleFactorStchan_antitop);\n",
    "h_lep_charge_Sschan->Scale(scaleFactorSschan);\n",
    "h_lep_charge_Swtchan->Scale(scaleFactorSwtchan);\n",
    "\n",
    "h_lep_charge_TThad->Scale(scaleFactorTThad);\n",
    "h_lep_charge_TTlep->Scale(scaleFactorTTlep);\n",
    "\n",
    "h_lep_charge_WenuW->Scale(scaleFactorWenuW);\n",
    "h_lep_charge_WenuJ->Scale(scaleFactorWenuJ);\n",
    "h_lep_charge_WenuN->Scale(scaleFactorWenuN);\n",
    "h_lep_charge_WmunuW->Scale(scaleFactorWmunuW);\n",
    "h_lep_charge_WmunuJ->Scale(scaleFactorWmunuJ);\n",
    "h_lep_charge_WmunuN->Scale(scaleFactorWmunuN);\n",
    "h_lep_charge_WtaunuW->Scale(scaleFactorWtaunuW);\n",
    "h_lep_charge_WtaunuJ->Scale(scaleFactorWtaunuJ);\n",
    "h_lep_charge_WtaunuN->Scale(scaleFactorWtaunuN);"
   ]
  },
  {
   "cell_type": "markdown",
   "metadata": {},
   "source": [
    "Scale ETCONE20 histograms for each analysis"
   ]
  },
  {
   "cell_type": "code",
   "execution_count": null,
   "metadata": {
    "collapsed": true
   },
   "outputs": [],
   "source": [
    "//ETCONE20 Histograms Scale\n",
    "h_lep_etc20_Zee->Scale(scaleFactorZee);\n",
    "h_lep_etc20_Zmumu->Scale(scaleFactorZmumu);\n",
    "h_lep_etc20_Ztautau->Scale(scaleFactorZtautau);\n",
    "\n",
    "h_lep_etc20_Dww->Scale(scaleFactorDww);\n",
    "h_lep_etc20_Dzz->Scale(scaleFactorDzz);\n",
    "h_lep_etc20_Dwz->Scale(scaleFactorDwz);\n",
    "\n",
    "h_lep_etc20_DYee1->Scale(scaleFactorDYee1);\n",
    "h_lep_etc20_DYee2->Scale(scaleFactorDYee2);\n",
    "h_lep_etc20_DYmumu1->Scale(scaleFactorDYmumu1);\n",
    "h_lep_etc20_DYmumu2->Scale(scaleFactorDYmumu2);\n",
    "h_lep_etc20_DYtautau1->Scale(scaleFactorDYtautau1);\n",
    "h_lep_etc20_DYtautau2->Scale(scaleFactorDYtautau2);\n",
    "\n",
    "h_lep_etc20_Stchan_top->Scale(scaleFactorStchan_top);\n",
    "h_lep_etc20_Stchan_antitop->Scale(scaleFactorStchan_antitop);\n",
    "h_lep_etc20_Sschan->Scale(scaleFactorSschan);\n",
    "h_lep_etc20_Swtchan->Scale(scaleFactorSwtchan);\n",
    "\n",
    "h_lep_etc20_TThad->Scale(scaleFactorTThad);\n",
    "h_lep_etc20_TTlep->Scale(scaleFactorTTlep);\n",
    "\n",
    "h_lep_etc20_WenuW->Scale(scaleFactorWenuW);\n",
    "h_lep_etc20_WenuJ->Scale(scaleFactorWenuJ);\n",
    "h_lep_etc20_WenuN->Scale(scaleFactorWenuN);\n",
    "h_lep_etc20_WmunuW->Scale(scaleFactorWmunuW);\n",
    "h_lep_etc20_WmunuJ->Scale(scaleFactorWmunuJ);\n",
    "h_lep_etc20_WmunuN->Scale(scaleFactorWmunuN);\n",
    "h_lep_etc20_WtaunuW->Scale(scaleFactorWtaunuW);\n",
    "h_lep_etc20_WtaunuJ->Scale(scaleFactorWtaunuJ);\n",
    "h_lep_etc20_WtaunuN->Scale(scaleFactorWtaunuN);"
   ]
  },
  {
   "cell_type": "markdown",
   "metadata": {},
   "source": [
    "Scale PTCONE30 histograms for each analysis"
   ]
  },
  {
   "cell_type": "code",
   "execution_count": null,
   "metadata": {
    "collapsed": true
   },
   "outputs": [],
   "source": [
    "//PTC Histograms Scale\n",
    "h_lep_ptc30_Zee->Scale(scaleFactorZee);\n",
    "h_lep_ptc30_Zmumu->Scale(scaleFactorZmumu);\n",
    "h_lep_ptc30_Ztautau->Scale(scaleFactorZtautau);\n",
    "\n",
    "h_lep_ptc30_Dww->Scale(scaleFactorDww);\n",
    "h_lep_ptc30_Dzz->Scale(scaleFactorDzz);\n",
    "h_lep_ptc30_Dwz->Scale(scaleFactorDwz);\n",
    "\n",
    "h_lep_ptc30_DYee1->Scale(scaleFactorDYee1);\n",
    "h_lep_ptc30_DYee2->Scale(scaleFactorDYee2);\n",
    "h_lep_ptc30_DYmumu1->Scale(scaleFactorDYmumu1);\n",
    "h_lep_ptc30_DYmumu2->Scale(scaleFactorDYmumu2);\n",
    "h_lep_ptc30_DYtautau1->Scale(scaleFactorDYtautau1);\n",
    "h_lep_ptc30_DYtautau2->Scale(scaleFactorDYtautau2);\n",
    "\n",
    "h_lep_ptc30_Stchan_top->Scale(scaleFactorStchan_top);\n",
    "h_lep_ptc30_Stchan_antitop->Scale(scaleFactorStchan_antitop);\n",
    "h_lep_ptc30_Sschan->Scale(scaleFactorSschan);\n",
    "h_lep_ptc30_Swtchan->Scale(scaleFactorSwtchan);\n",
    "\n",
    "h_lep_ptc30_TThad->Scale(scaleFactorTThad);\n",
    "h_lep_ptc30_TTlep->Scale(scaleFactorTTlep);\n",
    "\n",
    "h_lep_ptc30_WenuW->Scale(scaleFactorWenuW);\n",
    "h_lep_ptc30_WenuJ->Scale(scaleFactorWenuJ);\n",
    "h_lep_ptc30_WenuN->Scale(scaleFactorWenuN);\n",
    "h_lep_ptc30_WmunuW->Scale(scaleFactorWmunuW);\n",
    "h_lep_ptc30_WmunuJ->Scale(scaleFactorWmunuJ);\n",
    "h_lep_ptc30_WmunuN->Scale(scaleFactorWmunuN);\n",
    "h_lep_ptc30_WtaunuW->Scale(scaleFactorWtaunuW);\n",
    "h_lep_ptc30_WtaunuJ->Scale(scaleFactorWtaunuJ);\n",
    "h_lep_ptc30_WtaunuN->Scale(scaleFactorWtaunuN);"
   ]
  },
  {
   "cell_type": "markdown",
   "metadata": {},
   "source": [
    "Scale Z0 histograms for each analysis"
   ]
  },
  {
   "cell_type": "code",
   "execution_count": null,
   "metadata": {
    "collapsed": true
   },
   "outputs": [],
   "source": [
    "//Z0 Histograms Scale\n",
    "h_lep_z0_Zee->Scale(scaleFactorZee);\n",
    "h_lep_z0_Zmumu->Scale(scaleFactorZmumu);\n",
    "h_lep_z0_Ztautau->Scale(scaleFactorZtautau);\n",
    "\n",
    "h_lep_z0_Dww->Scale(scaleFactorDww);\n",
    "h_lep_z0_Dzz->Scale(scaleFactorDzz);\n",
    "h_lep_z0_Dwz->Scale(scaleFactorDwz);\n",
    "\n",
    "h_lep_z0_DYee1->Scale(scaleFactorDYee1);\n",
    "h_lep_z0_DYee2->Scale(scaleFactorDYee2);\n",
    "h_lep_z0_DYmumu1->Scale(scaleFactorDYmumu1);\n",
    "h_lep_z0_DYmumu2->Scale(scaleFactorDYmumu2);\n",
    "h_lep_z0_DYtautau1->Scale(scaleFactorDYtautau1);\n",
    "h_lep_z0_DYtautau2->Scale(scaleFactorDYtautau2);\n",
    "\n",
    "h_lep_z0_Stchan_top->Scale(scaleFactorStchan_top);\n",
    "h_lep_z0_Stchan_antitop->Scale(scaleFactorStchan_antitop);\n",
    "h_lep_z0_Sschan->Scale(scaleFactorSschan);\n",
    "h_lep_z0_Swtchan->Scale(scaleFactorSwtchan);\n",
    "\n",
    "h_lep_z0_TThad->Scale(scaleFactorTThad);\n",
    "h_lep_z0_TTlep->Scale(scaleFactorTTlep);\n",
    "\n",
    "h_lep_z0_WenuW->Scale(scaleFactorWenuW);\n",
    "h_lep_z0_WenuJ->Scale(scaleFactorWenuJ);\n",
    "h_lep_z0_WenuN->Scale(scaleFactorWenuN);\n",
    "h_lep_z0_WmunuW->Scale(scaleFactorWmunuW);\n",
    "h_lep_z0_WmunuJ->Scale(scaleFactorWmunuJ);\n",
    "h_lep_z0_WmunuN->Scale(scaleFactorWmunuN);\n",
    "h_lep_z0_WtaunuW->Scale(scaleFactorWtaunuW);\n",
    "h_lep_z0_WtaunuJ->Scale(scaleFactorWtaunuJ);\n",
    "h_lep_z0_WtaunuN->Scale(scaleFactorWtaunuN);"
   ]
  },
  {
   "cell_type": "markdown",
   "metadata": {},
   "source": [
    "Scale D0 histograms for each analysis"
   ]
  },
  {
   "cell_type": "code",
   "execution_count": null,
   "metadata": {
    "collapsed": true
   },
   "outputs": [],
   "source": [
    "//D0 Histograms Scale\n",
    "h_lep_d0_Zee->Scale(scaleFactorZee);\n",
    "h_lep_d0_Zmumu->Scale(scaleFactorZmumu);\n",
    "h_lep_d0_Ztautau->Scale(scaleFactorZtautau);\n",
    "\n",
    "h_lep_d0_Dww->Scale(scaleFactorDww);\n",
    "h_lep_d0_Dzz->Scale(scaleFactorDzz);\n",
    "h_lep_d0_Dwz->Scale(scaleFactorDwz);\n",
    "\n",
    "h_lep_d0_DYee1->Scale(scaleFactorDYee1);\n",
    "h_lep_d0_DYee2->Scale(scaleFactorDYee2);\n",
    "h_lep_d0_DYmumu1->Scale(scaleFactorDYmumu1);\n",
    "h_lep_d0_DYmumu2->Scale(scaleFactorDYmumu2);\n",
    "h_lep_d0_DYtautau1->Scale(scaleFactorDYtautau1);\n",
    "h_lep_d0_DYtautau2->Scale(scaleFactorDYtautau2);\n",
    "\n",
    "h_lep_d0_Stchan_top->Scale(scaleFactorStchan_top);\n",
    "h_lep_d0_Stchan_antitop->Scale(scaleFactorStchan_antitop);\n",
    "h_lep_d0_Sschan->Scale(scaleFactorSschan);\n",
    "h_lep_d0_Swtchan->Scale(scaleFactorSwtchan);\n",
    "\n",
    "h_lep_d0_TThad->Scale(scaleFactorTThad);\n",
    "h_lep_d0_TTlep->Scale(scaleFactorTTlep);\n",
    "\n",
    "h_lep_d0_WenuW->Scale(scaleFactorWenuW);\n",
    "h_lep_d0_WenuJ->Scale(scaleFactorWenuJ);\n",
    "h_lep_d0_WenuN->Scale(scaleFactorWenuN);\n",
    "h_lep_d0_WmunuW->Scale(scaleFactorWmunuW);\n",
    "h_lep_d0_WmunuJ->Scale(scaleFactorWmunuJ);\n",
    "h_lep_d0_WmunuN->Scale(scaleFactorWmunuN);\n",
    "h_lep_d0_WtaunuW->Scale(scaleFactorWtaunuW);\n",
    "h_lep_d0_WtaunuJ->Scale(scaleFactorWtaunuJ);\n",
    "h_lep_d0_WtaunuN->Scale(scaleFactorWtaunuN);"
   ]
  },
  {
   "cell_type": "markdown",
   "metadata": {},
   "source": [
    "Scale PT Traillep histograms for each analysis"
   ]
  },
  {
   "cell_type": "code",
   "execution_count": null,
   "metadata": {
    "collapsed": true
   },
   "outputs": [],
   "source": [
    "//PT_TL Histograms Scale\n",
    "h_lep_pt_tl_Zee->Scale(scaleFactorZee);\n",
    "h_lep_pt_tl_Zmumu->Scale(scaleFactorZmumu);\n",
    "h_lep_pt_tl_Ztautau->Scale(scaleFactorZtautau);\n",
    "\n",
    "h_lep_pt_tl_Dww->Scale(scaleFactorDww);\n",
    "h_lep_pt_tl_Dzz->Scale(scaleFactorDzz);\n",
    "h_lep_pt_tl_Dwz->Scale(scaleFactorDwz);\n",
    "\n",
    "h_lep_pt_tl_DYee1->Scale(scaleFactorDYee1);\n",
    "h_lep_pt_tl_DYee2->Scale(scaleFactorDYee2);\n",
    "h_lep_pt_tl_DYmumu1->Scale(scaleFactorDYmumu1);\n",
    "h_lep_pt_tl_DYmumu2->Scale(scaleFactorDYmumu2);\n",
    "h_lep_pt_tl_DYtautau1->Scale(scaleFactorDYtautau1);\n",
    "h_lep_pt_tl_DYtautau2->Scale(scaleFactorDYtautau2);\n",
    "\n",
    "h_lep_pt_tl_Stchan_top->Scale(scaleFactorStchan_top);\n",
    "h_lep_pt_tl_Stchan_antitop->Scale(scaleFactorStchan_antitop);\n",
    "h_lep_pt_tl_Sschan->Scale(scaleFactorSschan);\n",
    "h_lep_pt_tl_Swtchan->Scale(scaleFactorSwtchan);\n",
    "\n",
    "h_lep_pt_tl_TThad->Scale(scaleFactorTThad);\n",
    "h_lep_pt_tl_TTlep->Scale(scaleFactorTTlep);\n",
    "\n",
    "h_lep_pt_tl_WenuW->Scale(scaleFactorWenuW);\n",
    "h_lep_pt_tl_WenuJ->Scale(scaleFactorWenuJ);\n",
    "h_lep_pt_tl_WenuN->Scale(scaleFactorWenuN);\n",
    "h_lep_pt_tl_WmunuW->Scale(scaleFactorWmunuW);\n",
    "h_lep_pt_tl_WmunuJ->Scale(scaleFactorWmunuJ);\n",
    "h_lep_pt_tl_WmunuN->Scale(scaleFactorWmunuN);\n",
    "h_lep_pt_tl_WtaunuW->Scale(scaleFactorWtaunuW);\n",
    "h_lep_pt_tl_WtaunuJ->Scale(scaleFactorWtaunuJ);\n",
    "h_lep_pt_tl_WtaunuN->Scale(scaleFactorWtaunuN);"
   ]
  },
  {
   "cell_type": "markdown",
   "metadata": {},
   "source": [
    "Scale ETA Traillep histograms for each analysis"
   ]
  },
  {
   "cell_type": "code",
   "execution_count": null,
   "metadata": {
    "collapsed": true
   },
   "outputs": [],
   "source": [
    "//ETA_TL Histograms Scale\n",
    "h_lep_eta_tl_Zee->Scale(scaleFactorZee);\n",
    "h_lep_eta_tl_Zmumu->Scale(scaleFactorZmumu);\n",
    "h_lep_eta_tl_Ztautau->Scale(scaleFactorZtautau);\n",
    "\n",
    "h_lep_eta_tl_Dww->Scale(scaleFactorDww);\n",
    "h_lep_eta_tl_Dzz->Scale(scaleFactorDzz);\n",
    "h_lep_eta_tl_Dwz->Scale(scaleFactorDwz);\n",
    "\n",
    "h_lep_eta_tl_DYee1->Scale(scaleFactorDYee1);\n",
    "h_lep_eta_tl_DYee2->Scale(scaleFactorDYee2);\n",
    "h_lep_eta_tl_DYmumu1->Scale(scaleFactorDYmumu1);\n",
    "h_lep_eta_tl_DYmumu2->Scale(scaleFactorDYmumu2);\n",
    "h_lep_eta_tl_DYtautau1->Scale(scaleFactorDYtautau1);\n",
    "h_lep_eta_tl_DYtautau2->Scale(scaleFactorDYtautau2);\n",
    "\n",
    "h_lep_eta_tl_Stchan_top->Scale(scaleFactorStchan_top);\n",
    "h_lep_eta_tl_Stchan_antitop->Scale(scaleFactorStchan_antitop);\n",
    "h_lep_eta_tl_Sschan->Scale(scaleFactorSschan);\n",
    "h_lep_eta_tl_Swtchan->Scale(scaleFactorSwtchan);\n",
    "\n",
    "h_lep_eta_tl_TThad->Scale(scaleFactorTThad);\n",
    "h_lep_eta_tl_TTlep->Scale(scaleFactorTTlep);\n",
    "\n",
    "h_lep_eta_tl_WenuW->Scale(scaleFactorWenuW);\n",
    "h_lep_eta_tl_WenuJ->Scale(scaleFactorWenuJ);\n",
    "h_lep_eta_tl_WenuN->Scale(scaleFactorWenuN);\n",
    "h_lep_eta_tl_WmunuW->Scale(scaleFactorWmunuW);\n",
    "h_lep_eta_tl_WmunuJ->Scale(scaleFactorWmunuJ);\n",
    "h_lep_eta_tl_WmunuN->Scale(scaleFactorWmunuN);\n",
    "h_lep_eta_tl_WtaunuW->Scale(scaleFactorWtaunuW);\n",
    "h_lep_eta_tl_WtaunuJ->Scale(scaleFactorWtaunuJ);\n",
    "h_lep_eta_tl_WtaunuN->Scale(scaleFactorWtaunuN);"
   ]
  },
  {
   "cell_type": "markdown",
   "metadata": {},
   "source": [
    "Scale PHI Traillep histograms for each analysis"
   ]
  },
  {
   "cell_type": "code",
   "execution_count": null,
   "metadata": {
    "collapsed": true
   },
   "outputs": [],
   "source": [
    "//PHI_TL Histograms Scale\n",
    "h_lep_phi_tl_Zee->Scale(scaleFactorZee);\n",
    "h_lep_phi_tl_Zmumu->Scale(scaleFactorZmumu);\n",
    "h_lep_phi_tl_Ztautau->Scale(scaleFactorZtautau);\n",
    "\n",
    "h_lep_phi_tl_Dww->Scale(scaleFactorDww);\n",
    "h_lep_phi_tl_Dzz->Scale(scaleFactorDzz);\n",
    "h_lep_phi_tl_Dwz->Scale(scaleFactorDwz);\n",
    "\n",
    "h_lep_phi_tl_DYee1->Scale(scaleFactorDYee1);\n",
    "h_lep_phi_tl_DYee2->Scale(scaleFactorDYee2);\n",
    "h_lep_phi_tl_DYmumu1->Scale(scaleFactorDYmumu1);\n",
    "h_lep_phi_tl_DYmumu2->Scale(scaleFactorDYmumu2);\n",
    "h_lep_phi_tl_DYtautau1->Scale(scaleFactorDYtautau1);\n",
    "h_lep_phi_tl_DYtautau2->Scale(scaleFactorDYtautau2);\n",
    "\n",
    "h_lep_phi_tl_Stchan_top->Scale(scaleFactorStchan_top);\n",
    "h_lep_phi_tl_Stchan_antitop->Scale(scaleFactorStchan_antitop);\n",
    "h_lep_phi_tl_Sschan->Scale(scaleFactorSschan);\n",
    "h_lep_phi_tl_Swtchan->Scale(scaleFactorSwtchan);\n",
    "\n",
    "h_lep_phi_tl_TThad->Scale(scaleFactorTThad);\n",
    "h_lep_phi_tl_TTlep->Scale(scaleFactorTTlep);\n",
    "\n",
    "h_lep_phi_tl_WenuW->Scale(scaleFactorWenuW);\n",
    "h_lep_phi_tl_WenuJ->Scale(scaleFactorWenuJ);\n",
    "h_lep_phi_tl_WenuN->Scale(scaleFactorWenuN);\n",
    "h_lep_phi_tl_WmunuW->Scale(scaleFactorWmunuW);\n",
    "h_lep_phi_tl_WmunuJ->Scale(scaleFactorWmunuJ);\n",
    "h_lep_phi_tl_WmunuN->Scale(scaleFactorWmunuN);\n",
    "h_lep_phi_tl_WtaunuW->Scale(scaleFactorWtaunuW);\n",
    "h_lep_phi_tl_WtaunuJ->Scale(scaleFactorWtaunuJ);\n",
    "h_lep_phi_tl_WtaunuN->Scale(scaleFactorWtaunuN);"
   ]
  },
  {
   "cell_type": "markdown",
   "metadata": {},
   "source": [
    "Scale ENERGY histograms for each analysis"
   ]
  },
  {
   "cell_type": "code",
   "execution_count": null,
   "metadata": {
    "collapsed": true
   },
   "outputs": [],
   "source": [
    "//E_TL Histograms Scale\n",
    "h_lep_E_tl_Zee->Scale(scaleFactorZee);\n",
    "h_lep_E_tl_Zmumu->Scale(scaleFactorZmumu);\n",
    "h_lep_E_tl_Ztautau->Scale(scaleFactorZtautau);\n",
    "\n",
    "h_lep_E_tl_Dww->Scale(scaleFactorDww);\n",
    "h_lep_E_tl_Dzz->Scale(scaleFactorDzz);\n",
    "h_lep_E_tl_Dwz->Scale(scaleFactorDwz);\n",
    "\n",
    "h_lep_E_tl_DYee1->Scale(scaleFactorDYee1);\n",
    "h_lep_E_tl_DYee2->Scale(scaleFactorDYee2);\n",
    "h_lep_E_tl_DYmumu1->Scale(scaleFactorDYmumu1);\n",
    "h_lep_E_tl_DYmumu2->Scale(scaleFactorDYmumu2);\n",
    "h_lep_E_tl_DYtautau1->Scale(scaleFactorDYtautau1);\n",
    "h_lep_E_tl_DYtautau2->Scale(scaleFactorDYtautau2);\n",
    "\n",
    "h_lep_E_tl_Stchan_top->Scale(scaleFactorStchan_top);\n",
    "h_lep_E_tl_Stchan_antitop->Scale(scaleFactorStchan_antitop);\n",
    "h_lep_E_tl_Sschan->Scale(scaleFactorSschan);\n",
    "h_lep_E_tl_Swtchan->Scale(scaleFactorSwtchan);\n",
    "\n",
    "h_lep_E_tl_TThad->Scale(scaleFactorTThad);\n",
    "h_lep_E_tl_TTlep->Scale(scaleFactorTTlep);\n",
    "\n",
    "h_lep_E_tl_WenuW->Scale(scaleFactorWenuW);\n",
    "h_lep_E_tl_WenuJ->Scale(scaleFactorWenuJ);\n",
    "h_lep_E_tl_WenuN->Scale(scaleFactorWenuN);\n",
    "h_lep_E_tl_WmunuW->Scale(scaleFactorWmunuW);\n",
    "h_lep_E_tl_WmunuJ->Scale(scaleFactorWmunuJ);\n",
    "h_lep_E_tl_WmunuN->Scale(scaleFactorWmunuN);\n",
    "h_lep_E_tl_WtaunuW->Scale(scaleFactorWtaunuW);\n",
    "h_lep_E_tl_WtaunuJ->Scale(scaleFactorWtaunuJ);\n",
    "h_lep_E_tl_WtaunuN->Scale(scaleFactorWtaunuN);"
   ]
  },
  {
   "cell_type": "markdown",
   "metadata": {},
   "source": [
    "Scale CHARGE Traillep histograms for each analysis"
   ]
  },
  {
   "cell_type": "code",
   "execution_count": null,
   "metadata": {
    "collapsed": true
   },
   "outputs": [],
   "source": [
    "//CHARGE_TL Histograms Scale\n",
    "h_lep_charge_tl_Zee->Scale(scaleFactorZee);\n",
    "h_lep_charge_tl_Zmumu->Scale(scaleFactorZmumu);\n",
    "h_lep_charge_tl_Ztautau->Scale(scaleFactorZtautau);\n",
    "\n",
    "h_lep_charge_tl_Dww->Scale(scaleFactorDww);\n",
    "h_lep_charge_tl_Dzz->Scale(scaleFactorDzz);\n",
    "h_lep_charge_tl_Dwz->Scale(scaleFactorDwz);\n",
    "\n",
    "h_lep_charge_tl_DYee1->Scale(scaleFactorDYee1);\n",
    "h_lep_charge_tl_DYee2->Scale(scaleFactorDYee2);\n",
    "h_lep_charge_tl_DYmumu1->Scale(scaleFactorDYmumu1);\n",
    "h_lep_charge_tl_DYmumu2->Scale(scaleFactorDYmumu2);\n",
    "h_lep_charge_tl_DYtautau1->Scale(scaleFactorDYtautau1);\n",
    "h_lep_charge_tl_DYtautau2->Scale(scaleFactorDYtautau2);\n",
    "\n",
    "h_lep_charge_tl_Stchan_top->Scale(scaleFactorStchan_top);\n",
    "h_lep_charge_tl_Stchan_antitop->Scale(scaleFactorStchan_antitop);\n",
    "h_lep_charge_tl_Sschan->Scale(scaleFactorSschan);\n",
    "h_lep_charge_tl_Swtchan->Scale(scaleFactorSwtchan);\n",
    "\n",
    "h_lep_charge_tl_TThad->Scale(scaleFactorTThad);\n",
    "h_lep_charge_tl_TTlep->Scale(scaleFactorTTlep);\n",
    "\n",
    "h_lep_charge_tl_WenuW->Scale(scaleFactorWenuW);\n",
    "h_lep_charge_tl_WenuJ->Scale(scaleFactorWenuJ);\n",
    "h_lep_charge_tl_WenuN->Scale(scaleFactorWenuN);\n",
    "h_lep_charge_tl_WmunuW->Scale(scaleFactorWmunuW);\n",
    "h_lep_charge_tl_WmunuJ->Scale(scaleFactorWmunuJ);\n",
    "h_lep_charge_tl_WmunuN->Scale(scaleFactorWmunuN);\n",
    "h_lep_charge_tl_WtaunuW->Scale(scaleFactorWtaunuW);\n",
    "h_lep_charge_tl_WtaunuJ->Scale(scaleFactorWtaunuJ);\n",
    "h_lep_charge_tl_WtaunuN->Scale(scaleFactorWtaunuN);"
   ]
  },
  {
   "cell_type": "markdown",
   "metadata": {},
   "source": [
    "Scale ETCONE20 Traillep histograms for each analysis"
   ]
  },
  {
   "cell_type": "code",
   "execution_count": null,
   "metadata": {
    "collapsed": true
   },
   "outputs": [],
   "source": [
    "//ETC20_TL Histograms Scale\n",
    "h_lep_etc20_tl_Zee->Scale(scaleFactorZee);\n",
    "h_lep_etc20_tl_Zmumu->Scale(scaleFactorZmumu);\n",
    "h_lep_etc20_tl_Ztautau->Scale(scaleFactorZtautau);\n",
    "\n",
    "h_lep_etc20_tl_Dww->Scale(scaleFactorDww);\n",
    "h_lep_etc20_tl_Dzz->Scale(scaleFactorDzz);\n",
    "h_lep_etc20_tl_Dwz->Scale(scaleFactorDwz);\n",
    "\n",
    "h_lep_etc20_tl_DYee1->Scale(scaleFactorDYee1);\n",
    "h_lep_etc20_tl_DYee2->Scale(scaleFactorDYee2);\n",
    "h_lep_etc20_tl_DYmumu1->Scale(scaleFactorDYmumu1);\n",
    "h_lep_etc20_tl_DYmumu2->Scale(scaleFactorDYmumu2);\n",
    "h_lep_etc20_tl_DYtautau1->Scale(scaleFactorDYtautau1);\n",
    "h_lep_etc20_tl_DYtautau2->Scale(scaleFactorDYtautau2);\n",
    "\n",
    "h_lep_etc20_tl_Stchan_top->Scale(scaleFactorStchan_top);\n",
    "h_lep_etc20_tl_Stchan_antitop->Scale(scaleFactorStchan_antitop);\n",
    "h_lep_etc20_tl_Sschan->Scale(scaleFactorSschan);\n",
    "h_lep_etc20_tl_Swtchan->Scale(scaleFactorSwtchan);\n",
    "\n",
    "h_lep_etc20_tl_TThad->Scale(scaleFactorTThad);\n",
    "h_lep_etc20_tl_TTlep->Scale(scaleFactorTTlep);\n",
    "\n",
    "h_lep_etc20_tl_WenuW->Scale(scaleFactorWenuW);\n",
    "h_lep_etc20_tl_WenuJ->Scale(scaleFactorWenuJ);\n",
    "h_lep_etc20_tl_WenuN->Scale(scaleFactorWenuN);\n",
    "h_lep_etc20_tl_WmunuW->Scale(scaleFactorWmunuW);\n",
    "h_lep_etc20_tl_WmunuJ->Scale(scaleFactorWmunuJ);\n",
    "h_lep_etc20_tl_WmunuN->Scale(scaleFactorWmunuN);\n",
    "h_lep_etc20_tl_WtaunuW->Scale(scaleFactorWtaunuW);\n",
    "h_lep_etc20_tl_WtaunuJ->Scale(scaleFactorWtaunuJ);\n",
    "h_lep_etc20_tl_WtaunuN->Scale(scaleFactorWtaunuN);"
   ]
  },
  {
   "cell_type": "markdown",
   "metadata": {},
   "source": [
    "Scale PTCONE20 Traillep histograms for each analysis"
   ]
  },
  {
   "cell_type": "code",
   "execution_count": null,
   "metadata": {
    "collapsed": true
   },
   "outputs": [],
   "source": [
    "//PTC_TL Histograms Scale\n",
    "h_lep_ptc30_tl_Zee->Scale(scaleFactorZee);\n",
    "h_lep_ptc30_tl_Zmumu->Scale(scaleFactorZmumu);\n",
    "h_lep_ptc30_tl_Ztautau->Scale(scaleFactorZtautau);\n",
    "\n",
    "h_lep_ptc30_tl_Dww->Scale(scaleFactorDww);\n",
    "h_lep_ptc30_tl_Dzz->Scale(scaleFactorDzz);\n",
    "h_lep_ptc30_tl_Dwz->Scale(scaleFactorDwz);\n",
    "\n",
    "h_lep_ptc30_tl_DYee1->Scale(scaleFactorDYee1);\n",
    "h_lep_ptc30_tl_DYee2->Scale(scaleFactorDYee2);\n",
    "h_lep_ptc30_tl_DYmumu1->Scale(scaleFactorDYmumu1);\n",
    "h_lep_ptc30_tl_DYmumu2->Scale(scaleFactorDYmumu2);\n",
    "h_lep_ptc30_tl_DYtautau1->Scale(scaleFactorDYtautau1);\n",
    "h_lep_ptc30_tl_DYtautau2->Scale(scaleFactorDYtautau2);\n",
    "\n",
    "h_lep_ptc30_tl_Stchan_top->Scale(scaleFactorStchan_top);\n",
    "h_lep_ptc30_tl_Stchan_antitop->Scale(scaleFactorStchan_antitop);\n",
    "h_lep_ptc30_tl_Sschan->Scale(scaleFactorSschan);\n",
    "h_lep_ptc30_tl_Swtchan->Scale(scaleFactorSwtchan);\n",
    "\n",
    "h_lep_ptc30_tl_TThad->Scale(scaleFactorTThad);\n",
    "h_lep_ptc30_tl_TTlep->Scale(scaleFactorTTlep);\n",
    "\n",
    "h_lep_ptc30_tl_WenuW->Scale(scaleFactorWenuW);\n",
    "h_lep_ptc30_tl_WenuJ->Scale(scaleFactorWenuJ);\n",
    "h_lep_ptc30_tl_WenuN->Scale(scaleFactorWenuN);\n",
    "h_lep_ptc30_tl_WmunuW->Scale(scaleFactorWmunuW);\n",
    "h_lep_ptc30_tl_WmunuJ->Scale(scaleFactorWmunuJ);\n",
    "h_lep_ptc30_tl_WmunuN->Scale(scaleFactorWmunuN);\n",
    "h_lep_ptc30_tl_WtaunuW->Scale(scaleFactorWtaunuW);\n",
    "h_lep_ptc30_tl_WtaunuJ->Scale(scaleFactorWtaunuJ);\n",
    "h_lep_ptc30_tl_WtaunuN->Scale(scaleFactorWtaunuN);"
   ]
  },
  {
   "cell_type": "markdown",
   "metadata": {},
   "source": [
    "Scale Z0 Traillep histograms for each analysis"
   ]
  },
  {
   "cell_type": "code",
   "execution_count": null,
   "metadata": {
    "collapsed": true
   },
   "outputs": [],
   "source": [
    "//Z0_TL Histograms Scale\n",
    "h_lep_z0_tl_Zee->Scale(scaleFactorZee);\n",
    "h_lep_z0_tl_Zmumu->Scale(scaleFactorZmumu);\n",
    "h_lep_z0_tl_Ztautau->Scale(scaleFactorZtautau);\n",
    "\n",
    "h_lep_z0_tl_Dww->Scale(scaleFactorDww);\n",
    "h_lep_z0_tl_Dzz->Scale(scaleFactorDzz);\n",
    "h_lep_z0_tl_Dwz->Scale(scaleFactorDwz);\n",
    "\n",
    "h_lep_z0_tl_DYee1->Scale(scaleFactorDYee1);\n",
    "h_lep_z0_tl_DYee2->Scale(scaleFactorDYee2);\n",
    "h_lep_z0_tl_DYmumu1->Scale(scaleFactorDYmumu1);\n",
    "h_lep_z0_tl_DYmumu2->Scale(scaleFactorDYmumu2);\n",
    "h_lep_z0_tl_DYtautau1->Scale(scaleFactorDYtautau1);\n",
    "h_lep_z0_tl_DYtautau2->Scale(scaleFactorDYtautau2);\n",
    "\n",
    "h_lep_z0_tl_Stchan_top->Scale(scaleFactorStchan_top);\n",
    "h_lep_z0_tl_Stchan_antitop->Scale(scaleFactorStchan_antitop);\n",
    "h_lep_z0_tl_Sschan->Scale(scaleFactorSschan);\n",
    "h_lep_z0_tl_Swtchan->Scale(scaleFactorSwtchan);\n",
    "\n",
    "h_lep_z0_tl_TThad->Scale(scaleFactorTThad);\n",
    "h_lep_z0_tl_TTlep->Scale(scaleFactorTTlep);\n",
    "\n",
    "h_lep_z0_tl_WenuW->Scale(scaleFactorWenuW);\n",
    "h_lep_z0_tl_WenuJ->Scale(scaleFactorWenuJ);\n",
    "h_lep_z0_tl_WenuN->Scale(scaleFactorWenuN);\n",
    "h_lep_z0_tl_WmunuW->Scale(scaleFactorWmunuW);\n",
    "h_lep_z0_tl_WmunuJ->Scale(scaleFactorWmunuJ);\n",
    "h_lep_z0_tl_WmunuN->Scale(scaleFactorWmunuN);\n",
    "h_lep_z0_tl_WtaunuW->Scale(scaleFactorWtaunuW);\n",
    "h_lep_z0_tl_WtaunuJ->Scale(scaleFactorWtaunuJ);\n",
    "h_lep_z0_tl_WtaunuN->Scale(scaleFactorWtaunuN);"
   ]
  },
  {
   "cell_type": "markdown",
   "metadata": {},
   "source": [
    "Scale D0 Traillep histograms for each analysis"
   ]
  },
  {
   "cell_type": "code",
   "execution_count": null,
   "metadata": {
    "collapsed": true
   },
   "outputs": [],
   "source": [
    "//D0 Histograms Scale\n",
    "h_lep_d0_tl_Zee->Scale(scaleFactorZee);\n",
    "h_lep_d0_tl_Zmumu->Scale(scaleFactorZmumu);\n",
    "h_lep_d0_tl_Ztautau->Scale(scaleFactorZtautau);\n",
    "\n",
    "h_lep_d0_tl_Dww->Scale(scaleFactorDww);\n",
    "h_lep_d0_tl_Dzz->Scale(scaleFactorDzz);\n",
    "h_lep_d0_tl_Dwz->Scale(scaleFactorDwz);\n",
    "\n",
    "h_lep_d0_tl_DYee1->Scale(scaleFactorDYee1);\n",
    "h_lep_d0_tl_DYee2->Scale(scaleFactorDYee2);\n",
    "h_lep_d0_tl_DYmumu1->Scale(scaleFactorDYmumu1);\n",
    "h_lep_d0_tl_DYmumu2->Scale(scaleFactorDYmumu2);\n",
    "h_lep_d0_tl_DYtautau1->Scale(scaleFactorDYtautau1);\n",
    "h_lep_d0_tl_DYtautau2->Scale(scaleFactorDYtautau2);\n",
    "\n",
    "h_lep_d0_tl_Stchan_top->Scale(scaleFactorStchan_top);\n",
    "h_lep_d0_tl_Stchan_antitop->Scale(scaleFactorStchan_antitop);\n",
    "h_lep_d0_tl_Sschan->Scale(scaleFactorSschan);\n",
    "h_lep_d0_tl_Swtchan->Scale(scaleFactorSwtchan);\n",
    "\n",
    "h_lep_d0_tl_TThad->Scale(scaleFactorTThad);\n",
    "h_lep_d0_tl_TTlep->Scale(scaleFactorTTlep);\n",
    "\n",
    "h_lep_d0_tl_WenuW->Scale(scaleFactorWenuW);\n",
    "h_lep_d0_tl_WenuJ->Scale(scaleFactorWenuJ);\n",
    "h_lep_d0_tl_WenuN->Scale(scaleFactorWenuN);\n",
    "h_lep_d0_tl_WmunuW->Scale(scaleFactorWmunuW);\n",
    "h_lep_d0_tl_WmunuJ->Scale(scaleFactorWmunuJ);\n",
    "h_lep_d0_tl_WmunuN->Scale(scaleFactorWmunuN);\n",
    "h_lep_d0_tl_WtaunuW->Scale(scaleFactorWtaunuW);\n",
    "h_lep_d0_tl_WtaunuJ->Scale(scaleFactorWtaunuJ);\n",
    "h_lep_d0_tl_WtaunuN->Scale(scaleFactorWtaunuN);"
   ]
  },
  {
   "cell_type": "markdown",
   "metadata": {},
   "source": [
    "Scale JET NUMBER histograms for each analysis"
   ]
  },
  {
   "cell_type": "code",
   "execution_count": null,
   "metadata": {
    "collapsed": true
   },
   "outputs": [],
   "source": [
    "//JET_N Histograms Scale\n",
    "h_jet_n_Zee->Scale(scaleFactorZee);\n",
    "h_jet_n_Zmumu->Scale(scaleFactorZmumu);\n",
    "h_jet_n_Ztautau->Scale(scaleFactorZtautau);\n",
    "\n",
    "h_jet_n_Dww->Scale(scaleFactorDww);\n",
    "h_jet_n_Dzz->Scale(scaleFactorDzz);\n",
    "h_jet_n_Dwz->Scale(scaleFactorDwz);\n",
    "\n",
    "h_jet_n_DYee1->Scale(scaleFactorDYee1);\n",
    "h_jet_n_DYee2->Scale(scaleFactorDYee2);\n",
    "h_jet_n_DYmumu1->Scale(scaleFactorDYmumu1);\n",
    "h_jet_n_DYmumu2->Scale(scaleFactorDYmumu2);\n",
    "h_jet_n_DYtautau1->Scale(scaleFactorDYtautau1);\n",
    "h_jet_n_DYtautau2->Scale(scaleFactorDYtautau2);\n",
    "\n",
    "h_jet_n_Stchan_top->Scale(scaleFactorStchan_top);\n",
    "h_jet_n_Stchan_antitop->Scale(scaleFactorStchan_antitop);\n",
    "h_jet_n_Sschan->Scale(scaleFactorSschan);\n",
    "h_jet_n_Swtchan->Scale(scaleFactorSwtchan);\n",
    "\n",
    "h_jet_n_TThad->Scale(scaleFactorTThad);\n",
    "h_jet_n_TTlep->Scale(scaleFactorTTlep);\n",
    "\n",
    "h_jet_n_WenuW->Scale(scaleFactorWenuW);\n",
    "h_jet_n_WenuJ->Scale(scaleFactorWenuJ);\n",
    "h_jet_n_WenuN->Scale(scaleFactorWenuN);\n",
    "h_jet_n_WmunuW->Scale(scaleFactorWmunuW);\n",
    "h_jet_n_WmunuJ->Scale(scaleFactorWmunuJ);\n",
    "h_jet_n_WmunuN->Scale(scaleFactorWmunuN);\n",
    "h_jet_n_WtaunuW->Scale(scaleFactorWtaunuW);\n",
    "h_jet_n_WtaunuJ->Scale(scaleFactorWtaunuJ);\n",
    "h_jet_n_WtaunuN->Scale(scaleFactorWtaunuN);"
   ]
  },
  {
   "cell_type": "markdown",
   "metadata": {},
   "source": [
    "Scale JET PT histograms for each analysis"
   ]
  },
  {
   "cell_type": "code",
   "execution_count": null,
   "metadata": {
    "collapsed": true
   },
   "outputs": [],
   "source": [
    "//JET_PT Histograms Scale\n",
    "h_jet_pt_Zee->Scale(scaleFactorZee);\n",
    "h_jet_pt_Zmumu->Scale(scaleFactorZmumu);\n",
    "h_jet_pt_Ztautau->Scale(scaleFactorZtautau);\n",
    "\n",
    "h_jet_pt_Dww->Scale(scaleFactorDww);\n",
    "h_jet_pt_Dzz->Scale(scaleFactorDzz);\n",
    "h_jet_pt_Dwz->Scale(scaleFactorDwz);\n",
    "\n",
    "h_jet_pt_DYee1->Scale(scaleFactorDYee1);\n",
    "h_jet_pt_DYee2->Scale(scaleFactorDYee2);\n",
    "h_jet_pt_DYmumu1->Scale(scaleFactorDYmumu1);\n",
    "h_jet_pt_DYmumu2->Scale(scaleFactorDYmumu2);\n",
    "h_jet_pt_DYtautau1->Scale(scaleFactorDYtautau1);\n",
    "h_jet_pt_DYtautau2->Scale(scaleFactorDYtautau2);\n",
    "\n",
    "h_jet_pt_Stchan_top->Scale(scaleFactorStchan_top);\n",
    "h_jet_pt_Stchan_antitop->Scale(scaleFactorStchan_antitop);\n",
    "h_jet_pt_Sschan->Scale(scaleFactorSschan);\n",
    "h_jet_pt_Swtchan->Scale(scaleFactorSwtchan);\n",
    "\n",
    "h_jet_pt_TThad->Scale(scaleFactorTThad);\n",
    "h_jet_pt_TTlep->Scale(scaleFactorTTlep);\n",
    "\n",
    "h_jet_pt_WenuW->Scale(scaleFactorWenuW);\n",
    "h_jet_pt_WenuJ->Scale(scaleFactorWenuJ);\n",
    "h_jet_pt_WenuN->Scale(scaleFactorWenuN);\n",
    "h_jet_pt_WmunuW->Scale(scaleFactorWmunuW);\n",
    "h_jet_pt_WmunuJ->Scale(scaleFactorWmunuJ);\n",
    "h_jet_pt_WmunuN->Scale(scaleFactorWmunuN);\n",
    "h_jet_pt_WtaunuW->Scale(scaleFactorWtaunuW);\n",
    "h_jet_pt_WtaunuJ->Scale(scaleFactorWtaunuJ);\n",
    "h_jet_pt_WtaunuN->Scale(scaleFactorWtaunuN);"
   ]
  },
  {
   "cell_type": "markdown",
   "metadata": {},
   "source": [
    "Scale JET ETA histograms for each analysis"
   ]
  },
  {
   "cell_type": "code",
   "execution_count": null,
   "metadata": {
    "collapsed": true
   },
   "outputs": [],
   "source": [
    "//JET_ETA Histograms Scale\n",
    "h_jet_eta_Zee->Scale(scaleFactorZee);\n",
    "h_jet_eta_Zmumu->Scale(scaleFactorZmumu);\n",
    "h_jet_eta_Ztautau->Scale(scaleFactorZtautau);\n",
    "\n",
    "h_jet_eta_Dww->Scale(scaleFactorDww);\n",
    "h_jet_eta_Dzz->Scale(scaleFactorDzz);\n",
    "h_jet_eta_Dwz->Scale(scaleFactorDwz);\n",
    "\n",
    "h_jet_eta_DYee1->Scale(scaleFactorDYee1);\n",
    "h_jet_eta_DYee2->Scale(scaleFactorDYee2);\n",
    "h_jet_eta_DYmumu1->Scale(scaleFactorDYmumu1);\n",
    "h_jet_eta_DYmumu2->Scale(scaleFactorDYmumu2);\n",
    "h_jet_eta_DYtautau1->Scale(scaleFactorDYtautau1);\n",
    "h_jet_eta_DYtautau2->Scale(scaleFactorDYtautau2);\n",
    "\n",
    "h_jet_eta_Stchan_top->Scale(scaleFactorStchan_top);\n",
    "h_jet_eta_Stchan_antitop->Scale(scaleFactorStchan_antitop);\n",
    "h_jet_eta_Sschan->Scale(scaleFactorSschan);\n",
    "h_jet_eta_Swtchan->Scale(scaleFactorSwtchan);\n",
    "\n",
    "h_jet_eta_TThad->Scale(scaleFactorTThad);\n",
    "h_jet_eta_TTlep->Scale(scaleFactorTTlep);\n",
    "\n",
    "h_jet_eta_WenuW->Scale(scaleFactorWenuW);\n",
    "h_jet_eta_WenuJ->Scale(scaleFactorWenuJ);\n",
    "h_jet_eta_WenuN->Scale(scaleFactorWenuN);\n",
    "h_jet_eta_WmunuW->Scale(scaleFactorWmunuW);\n",
    "h_jet_eta_WmunuJ->Scale(scaleFactorWmunuJ);\n",
    "h_jet_eta_WmunuN->Scale(scaleFactorWmunuN);\n",
    "h_jet_eta_WtaunuW->Scale(scaleFactorWtaunuW);\n",
    "h_jet_eta_WtaunuJ->Scale(scaleFactorWtaunuJ);\n",
    "h_jet_eta_WtaunuN->Scale(scaleFactorWtaunuN);"
   ]
  },
  {
   "cell_type": "markdown",
   "metadata": {},
   "source": [
    "Scale JET M histograms for each analysis"
   ]
  },
  {
   "cell_type": "code",
   "execution_count": null,
   "metadata": {
    "collapsed": true
   },
   "outputs": [],
   "source": [
    "//JET_M Histograms Scale\n",
    "h_jet_m_Zee->Scale(scaleFactorZee);\n",
    "h_jet_m_Zmumu->Scale(scaleFactorZmumu);\n",
    "h_jet_m_Ztautau->Scale(scaleFactorZtautau);\n",
    "\n",
    "h_jet_m_Dww->Scale(scaleFactorDww);\n",
    "h_jet_m_Dzz->Scale(scaleFactorDzz);\n",
    "h_jet_m_Dwz->Scale(scaleFactorDwz);\n",
    "\n",
    "h_jet_m_DYee1->Scale(scaleFactorDYee1);\n",
    "h_jet_m_DYee2->Scale(scaleFactorDYee2);\n",
    "h_jet_m_DYmumu1->Scale(scaleFactorDYmumu1);\n",
    "h_jet_m_DYmumu2->Scale(scaleFactorDYmumu2);\n",
    "h_jet_m_DYtautau1->Scale(scaleFactorDYtautau1);\n",
    "h_jet_m_DYtautau2->Scale(scaleFactorDYtautau2);\n",
    "\n",
    "h_jet_m_Stchan_top->Scale(scaleFactorStchan_top);\n",
    "h_jet_m_Stchan_antitop->Scale(scaleFactorStchan_antitop);\n",
    "h_jet_m_Sschan->Scale(scaleFactorSschan);\n",
    "h_jet_m_Swtchan->Scale(scaleFactorSwtchan);\n",
    "\n",
    "h_jet_m_TThad->Scale(scaleFactorTThad);\n",
    "h_jet_m_TTlep->Scale(scaleFactorTTlep);\n",
    "\n",
    "h_jet_m_WenuW->Scale(scaleFactorWenuW);\n",
    "h_jet_m_WenuJ->Scale(scaleFactorWenuJ);\n",
    "h_jet_m_WenuN->Scale(scaleFactorWenuN);\n",
    "h_jet_m_WmunuW->Scale(scaleFactorWmunuW);\n",
    "h_jet_m_WmunuJ->Scale(scaleFactorWmunuJ);\n",
    "h_jet_m_WmunuN->Scale(scaleFactorWmunuN);\n",
    "h_jet_m_WtaunuW->Scale(scaleFactorWtaunuW);\n",
    "h_jet_m_WtaunuJ->Scale(scaleFactorWtaunuJ);\n",
    "h_jet_m_WtaunuN->Scale(scaleFactorWtaunuN);"
   ]
  },
  {
   "cell_type": "markdown",
   "metadata": {},
   "source": [
    "Scale JET JVF histograms for each analysis"
   ]
  },
  {
   "cell_type": "code",
   "execution_count": null,
   "metadata": {
    "collapsed": true
   },
   "outputs": [],
   "source": [
    "//JET_JVF Histograms Scale\n",
    "h_jet_jvf_Zee->Scale(scaleFactorZee);\n",
    "h_jet_jvf_Zmumu->Scale(scaleFactorZmumu);\n",
    "h_jet_jvf_Ztautau->Scale(scaleFactorZtautau);\n",
    "\n",
    "h_jet_jvf_Dww->Scale(scaleFactorDww);\n",
    "h_jet_jvf_Dzz->Scale(scaleFactorDzz);\n",
    "h_jet_jvf_Dwz->Scale(scaleFactorDwz);\n",
    "\n",
    "h_jet_jvf_DYee1->Scale(scaleFactorDYee1);\n",
    "h_jet_jvf_DYee2->Scale(scaleFactorDYee2);\n",
    "h_jet_jvf_DYmumu1->Scale(scaleFactorDYmumu1);\n",
    "h_jet_jvf_DYmumu2->Scale(scaleFactorDYmumu2);\n",
    "h_jet_jvf_DYtautau1->Scale(scaleFactorDYtautau1);\n",
    "h_jet_jvf_DYtautau2->Scale(scaleFactorDYtautau2);\n",
    "\n",
    "h_jet_jvf_Stchan_top->Scale(scaleFactorStchan_top);\n",
    "h_jet_jvf_Stchan_antitop->Scale(scaleFactorStchan_antitop);\n",
    "h_jet_jvf_Sschan->Scale(scaleFactorSschan);\n",
    "h_jet_jvf_Swtchan->Scale(scaleFactorSwtchan);\n",
    "\n",
    "h_jet_jvf_TThad->Scale(scaleFactorTThad);\n",
    "h_jet_jvf_TTlep->Scale(scaleFactorTTlep);\n",
    "\n",
    "h_jet_jvf_WenuW->Scale(scaleFactorWenuW);\n",
    "h_jet_jvf_WenuJ->Scale(scaleFactorWenuJ);\n",
    "h_jet_jvf_WenuN->Scale(scaleFactorWenuN);\n",
    "h_jet_jvf_WmunuW->Scale(scaleFactorWmunuW);\n",
    "h_jet_jvf_WmunuJ->Scale(scaleFactorWmunuJ);\n",
    "h_jet_jvf_WmunuN->Scale(scaleFactorWmunuN);\n",
    "h_jet_jvf_WtaunuW->Scale(scaleFactorWtaunuW);\n",
    "h_jet_jvf_WtaunuJ->Scale(scaleFactorWtaunuJ);\n",
    "h_jet_jvf_WtaunuN->Scale(scaleFactorWtaunuN);"
   ]
  },
  {
   "cell_type": "markdown",
   "metadata": {},
   "source": [
    "Scale JET MV1 histograms for each analysis"
   ]
  },
  {
   "cell_type": "code",
   "execution_count": null,
   "metadata": {
    "collapsed": true
   },
   "outputs": [],
   "source": [
    "//JET_MV1 Histograms Scale\n",
    "h_jet_MV1_Zee->Scale(scaleFactorZee);\n",
    "h_jet_MV1_Zmumu->Scale(scaleFactorZmumu);\n",
    "h_jet_MV1_Ztautau->Scale(scaleFactorZtautau);\n",
    "\n",
    "h_jet_MV1_Dww->Scale(scaleFactorDww);\n",
    "h_jet_MV1_Dzz->Scale(scaleFactorDzz);\n",
    "h_jet_MV1_Dwz->Scale(scaleFactorDwz);\n",
    "\n",
    "h_jet_MV1_DYee1->Scale(scaleFactorDYee1);\n",
    "h_jet_MV1_DYee2->Scale(scaleFactorDYee2);\n",
    "h_jet_MV1_DYmumu1->Scale(scaleFactorDYmumu1);\n",
    "h_jet_MV1_DYmumu2->Scale(scaleFactorDYmumu2);\n",
    "h_jet_MV1_DYtautau1->Scale(scaleFactorDYtautau1);\n",
    "h_jet_MV1_DYtautau2->Scale(scaleFactorDYtautau2);\n",
    "\n",
    "h_jet_MV1_Stchan_top->Scale(scaleFactorStchan_top);\n",
    "h_jet_MV1_Stchan_antitop->Scale(scaleFactorStchan_antitop);\n",
    "h_jet_MV1_Sschan->Scale(scaleFactorSschan);\n",
    "h_jet_MV1_Swtchan->Scale(scaleFactorSwtchan);\n",
    "\n",
    "h_jet_MV1_TThad->Scale(scaleFactorTThad);\n",
    "h_jet_MV1_TTlep->Scale(scaleFactorTTlep);\n",
    "\n",
    "h_jet_MV1_WenuW->Scale(scaleFactorWenuW);\n",
    "h_jet_MV1_WenuJ->Scale(scaleFactorWenuJ);\n",
    "h_jet_MV1_WenuN->Scale(scaleFactorWenuN);\n",
    "h_jet_MV1_WmunuW->Scale(scaleFactorWmunuW);\n",
    "h_jet_MV1_WmunuJ->Scale(scaleFactorWmunuJ);\n",
    "h_jet_MV1_WmunuN->Scale(scaleFactorWmunuN);\n",
    "h_jet_MV1_WtaunuW->Scale(scaleFactorWtaunuW);\n",
    "h_jet_MV1_WtaunuJ->Scale(scaleFactorWtaunuJ);\n",
    "h_jet_MV1_WtaunuN->Scale(scaleFactorWtaunuN);"
   ]
  },
  {
   "cell_type": "markdown",
   "metadata": {},
   "source": [
    "Scale PVXP_N histograms for each analysis"
   ]
  },
  {
   "cell_type": "code",
   "execution_count": null,
   "metadata": {
    "collapsed": true
   },
   "outputs": [],
   "source": [
    "//JET_M Histograms Scale\n",
    "h_pvxp_n_Zee->Scale(scaleFactorZee);\n",
    "h_pvxp_n_Zmumu->Scale(scaleFactorZmumu);\n",
    "h_pvxp_n_Ztautau->Scale(scaleFactorZtautau);\n",
    "\n",
    "h_pvxp_n_Dww->Scale(scaleFactorDww);\n",
    "h_pvxp_n_Dzz->Scale(scaleFactorDzz);\n",
    "h_pvxp_n_Dwz->Scale(scaleFactorDwz);\n",
    "\n",
    "h_pvxp_n_DYee1->Scale(scaleFactorDYee1);\n",
    "h_pvxp_n_DYee2->Scale(scaleFactorDYee2);\n",
    "h_pvxp_n_DYmumu1->Scale(scaleFactorDYmumu1);\n",
    "h_pvxp_n_DYmumu2->Scale(scaleFactorDYmumu2);\n",
    "h_pvxp_n_DYtautau1->Scale(scaleFactorDYtautau1);\n",
    "h_pvxp_n_DYtautau2->Scale(scaleFactorDYtautau2);\n",
    "\n",
    "h_pvxp_n_Stchan_top->Scale(scaleFactorStchan_top);\n",
    "h_pvxp_n_Stchan_antitop->Scale(scaleFactorStchan_antitop);\n",
    "h_pvxp_n_Sschan->Scale(scaleFactorSschan);\n",
    "h_pvxp_n_Swtchan->Scale(scaleFactorSwtchan);\n",
    "\n",
    "h_pvxp_n_TThad->Scale(scaleFactorTThad);\n",
    "h_pvxp_n_TTlep->Scale(scaleFactorTTlep);\n",
    "\n",
    "h_pvxp_n_WenuW->Scale(scaleFactorWenuW);\n",
    "h_pvxp_n_WenuJ->Scale(scaleFactorWenuJ);\n",
    "h_pvxp_n_WenuN->Scale(scaleFactorWenuN);\n",
    "h_pvxp_n_WmunuW->Scale(scaleFactorWmunuW);\n",
    "h_pvxp_n_WmunuJ->Scale(scaleFactorWmunuJ);\n",
    "h_pvxp_n_WmunuN->Scale(scaleFactorWmunuN);\n",
    "h_pvxp_n_WtaunuW->Scale(scaleFactorWtaunuW);\n",
    "h_pvxp_n_WtaunuJ->Scale(scaleFactorWtaunuJ);\n",
    "h_pvxp_n_WtaunuN->Scale(scaleFactorWtaunuN);"
   ]
  },
  {
   "cell_type": "markdown",
   "metadata": {},
   "source": [
    "Scale VXP_Z histograms for each analysis"
   ]
  },
  {
   "cell_type": "code",
   "execution_count": null,
   "metadata": {
    "collapsed": true
   },
   "outputs": [],
   "source": [
    "//JET_M Histograms Scale\n",
    "h_vxp_z_Zee->Scale(scaleFactorZee);\n",
    "h_vxp_z_Zmumu->Scale(scaleFactorZmumu);\n",
    "h_vxp_z_Ztautau->Scale(scaleFactorZtautau);\n",
    "\n",
    "h_vxp_z_Dww->Scale(scaleFactorDww);\n",
    "h_vxp_z_Dzz->Scale(scaleFactorDzz);\n",
    "h_vxp_z_Dwz->Scale(scaleFactorDwz);\n",
    "\n",
    "h_vxp_z_DYee1->Scale(scaleFactorDYee1);\n",
    "h_vxp_z_DYee2->Scale(scaleFactorDYee2);\n",
    "h_vxp_z_DYmumu1->Scale(scaleFactorDYmumu1);\n",
    "h_vxp_z_DYmumu2->Scale(scaleFactorDYmumu2);\n",
    "h_vxp_z_DYtautau1->Scale(scaleFactorDYtautau1);\n",
    "h_vxp_z_DYtautau2->Scale(scaleFactorDYtautau2);\n",
    "\n",
    "h_vxp_z_Stchan_top->Scale(scaleFactorStchan_top);\n",
    "h_vxp_z_Stchan_antitop->Scale(scaleFactorStchan_antitop);\n",
    "h_vxp_z_Sschan->Scale(scaleFactorSschan);\n",
    "h_vxp_z_Swtchan->Scale(scaleFactorSwtchan);\n",
    "\n",
    "h_vxp_z_TThad->Scale(scaleFactorTThad);\n",
    "h_vxp_z_TTlep->Scale(scaleFactorTTlep);\n",
    "\n",
    "h_vxp_z_WenuW->Scale(scaleFactorWenuW);\n",
    "h_vxp_z_WenuJ->Scale(scaleFactorWenuJ);\n",
    "h_vxp_z_WenuN->Scale(scaleFactorWenuN);\n",
    "h_vxp_z_WmunuW->Scale(scaleFactorWmunuW);\n",
    "h_vxp_z_WmunuJ->Scale(scaleFactorWmunuJ);\n",
    "h_vxp_z_WmunuN->Scale(scaleFactorWmunuN);\n",
    "h_vxp_z_WtaunuW->Scale(scaleFactorWtaunuW);\n",
    "h_vxp_z_WtaunuJ->Scale(scaleFactorWtaunuJ);\n",
    "h_vxp_z_WtaunuN->Scale(scaleFactorWtaunuN);"
   ]
  },
  {
   "cell_type": "markdown",
   "metadata": {},
   "source": [
    "Scale MET ET histograms for each analysis"
   ]
  },
  {
   "cell_type": "code",
   "execution_count": null,
   "metadata": {
    "collapsed": true
   },
   "outputs": [],
   "source": [
    "//JET_M Histograms Scale\n",
    "h_met_et_Zee->Scale(scaleFactorZee);\n",
    "h_met_et_Zmumu->Scale(scaleFactorZmumu);\n",
    "h_met_et_Ztautau->Scale(scaleFactorZtautau);\n",
    "\n",
    "h_met_et_Dww->Scale(scaleFactorDww);\n",
    "h_met_et_Dzz->Scale(scaleFactorDzz);\n",
    "h_met_et_Dwz->Scale(scaleFactorDwz);\n",
    "\n",
    "h_met_et_DYee1->Scale(scaleFactorDYee1);\n",
    "h_met_et_DYee2->Scale(scaleFactorDYee2);\n",
    "h_met_et_DYmumu1->Scale(scaleFactorDYmumu1);\n",
    "h_met_et_DYmumu2->Scale(scaleFactorDYmumu2);\n",
    "h_met_et_DYtautau1->Scale(scaleFactorDYtautau1);\n",
    "h_met_et_DYtautau2->Scale(scaleFactorDYtautau2);\n",
    "\n",
    "h_met_et_Stchan_top->Scale(scaleFactorStchan_top);\n",
    "h_met_et_Stchan_antitop->Scale(scaleFactorStchan_antitop);\n",
    "h_met_et_Sschan->Scale(scaleFactorSschan);\n",
    "h_met_et_Swtchan->Scale(scaleFactorSwtchan);\n",
    "\n",
    "h_met_et_TThad->Scale(scaleFactorTThad);\n",
    "h_met_et_TTlep->Scale(scaleFactorTTlep);\n",
    "\n",
    "h_met_et_WenuW->Scale(scaleFactorWenuW);\n",
    "h_met_et_WenuJ->Scale(scaleFactorWenuJ);\n",
    "h_met_et_WenuN->Scale(scaleFactorWenuN);\n",
    "h_met_et_WmunuW->Scale(scaleFactorWmunuW);\n",
    "h_met_et_WmunuJ->Scale(scaleFactorWmunuJ);\n",
    "h_met_et_WmunuN->Scale(scaleFactorWmunuN);\n",
    "h_met_et_WtaunuW->Scale(scaleFactorWtaunuW);\n",
    "h_met_et_WtaunuJ->Scale(scaleFactorWtaunuJ);\n",
    "h_met_et_WtaunuN->Scale(scaleFactorWtaunuN);"
   ]
  },
  {
   "cell_type": "markdown",
   "metadata": {},
   "source": [
    "Scale INVARIANT MASS histograms for each analysis"
   ]
  },
  {
   "cell_type": "code",
   "execution_count": null,
   "metadata": {
    "collapsed": true
   },
   "outputs": [],
   "source": [
    "//INVARIANT MASS Histograms Scale\n",
    "h_inv_mass_Zee->Scale(scaleFactorZee);\n",
    "h_inv_mass_Zmumu->Scale(scaleFactorZmumu);\n",
    "h_inv_mass_Ztautau->Scale(scaleFactorZtautau);\n",
    "\n",
    "h_inv_mass_Dww->Scale(scaleFactorDww);\n",
    "h_inv_mass_Dzz->Scale(scaleFactorDzz);\n",
    "h_inv_mass_Dwz->Scale(scaleFactorDwz);\n",
    "\n",
    "h_inv_mass_DYee1->Scale(scaleFactorDYee1);\n",
    "h_inv_mass_DYee2->Scale(scaleFactorDYee2);\n",
    "h_inv_mass_DYmumu1->Scale(scaleFactorDYmumu1);\n",
    "h_inv_mass_DYmumu2->Scale(scaleFactorDYmumu2);\n",
    "h_inv_mass_DYtautau1->Scale(scaleFactorDYtautau1);\n",
    "h_inv_mass_DYtautau2->Scale(scaleFactorDYtautau2);\n",
    "\n",
    "h_inv_mass_Stchan_top->Scale(scaleFactorStchan_top);\n",
    "h_inv_mass_Stchan_antitop->Scale(scaleFactorStchan_antitop);\n",
    "h_inv_mass_Sschan->Scale(scaleFactorSschan);\n",
    "h_inv_mass_Swtchan->Scale(scaleFactorSwtchan);\n",
    "\n",
    "h_inv_mass_TThad->Scale(scaleFactorTThad);\n",
    "h_inv_mass_TTlep->Scale(scaleFactorTTlep);\n",
    "\n",
    "h_inv_mass_WenuW->Scale(scaleFactorWenuW);\n",
    "h_inv_mass_WenuJ->Scale(scaleFactorWenuJ);\n",
    "h_inv_mass_WenuN->Scale(scaleFactorWenuN);\n",
    "h_inv_mass_WmunuW->Scale(scaleFactorWmunuW);\n",
    "h_inv_mass_WmunuJ->Scale(scaleFactorWmunuJ);\n",
    "h_inv_mass_WmunuN->Scale(scaleFactorWmunuN);\n",
    "h_inv_mass_WtaunuW->Scale(scaleFactorWtaunuW);\n",
    "h_inv_mass_WtaunuJ->Scale(scaleFactorWtaunuJ);\n",
    "h_inv_mass_WtaunuN->Scale(scaleFactorWtaunuN);"
   ]
  },
  {
   "cell_type": "code",
   "execution_count": null,
   "metadata": {
    "collapsed": false
   },
   "outputs": [],
   "source": [
    "    TCanvas *cz = new TCanvas(\"cz\",\"cz\",10,10,900,900);\n",
    "    TText tz; tz.SetTextFont(42); tz.SetTextAlign(21);\n",
    "    cz->Divide(2,2);\n",
    "    cz->cd(1); h_lep_pt_Zee->Draw();\n",
    "    cz->cd(2); h_lep_pt_Zmumu->Draw();\n",
    "    cz->cd(3); h_lep_pt_Ztautau->Draw();\n",
    "    cz->cd(4); h_lep_pt_mergedZ->Draw();\n",
    "\n",
    "\n"
   ]
  },
  {
   "cell_type": "code",
   "execution_count": null,
   "metadata": {
    "collapsed": false
   },
   "outputs": [],
   "source": [
    " TList *listZ = new TList;\n",
    "  listZ->Add(h_lep_pt_Zee);\n",
    "  listZ->Add(h_lep_pt_Zmumu);\n",
    "  listZ->Add(h_lep_pt_Ztautau);\n",
    "\n",
    "  \n",
    "h_lep_pt_mergedZ->Reset();\n",
    "h_lep_pt_mergedZ->Merge(listZ);\n",
    "h_lep_pt_mergedZ->SetFillColor(kBlue);\n",
    "h_lep_pt_mergedZ->Draw();"
   ]
  },
  {
   "cell_type": "code",
   "execution_count": null,
   "metadata": {
    "collapsed": false
   },
   "outputs": [],
   "source": [
    "cz->Draw();"
   ]
  },
  {
   "cell_type": "code",
   "execution_count": null,
   "metadata": {
    "collapsed": true
   },
   "outputs": [],
   "source": [
    "TCanvas *czEta = new TCanvas(\"czEta\",\"czEta\",10,10,900,900);\n",
    "    TText tzeta; tzeta.SetTextFont(42); tzeta.SetTextAlign(21);\n",
    "    czEta->Divide(2,2);\n",
    "    czEta->cd(1); h_lep_eta_Zee->Draw();\n",
    "    czEta->cd(2); h_lep_eta_Zmumu->Draw();\n",
    "    czEta->cd(3); h_lep_eta_Ztautau->Draw();\n",
    "    czEta->cd(4); h_lep_eta_mergedZ->Draw();"
   ]
  },
  {
   "cell_type": "code",
   "execution_count": null,
   "metadata": {
    "collapsed": false
   },
   "outputs": [],
   "source": [
    "TList *listZEta = new TList;\n",
    "  listZEta->Add(h_lep_eta_Zee);\n",
    "  listZEta->Add(h_lep_eta_Zmumu);\n",
    "  listZEta->Add(h_lep_eta_Ztautau);\n",
    "\n",
    "  \n",
    "h_lep_eta_mergedZ->Reset();\n",
    "h_lep_eta_mergedZ->Merge(listZEta);\n",
    "h_lep_eta_mergedZ->SetFillColor(kBlue);\n",
    "h_lep_eta_mergedZ->Draw();"
   ]
  },
  {
   "cell_type": "code",
   "execution_count": null,
   "metadata": {
    "collapsed": false
   },
   "outputs": [],
   "source": [
    "czEta->Draw();"
   ]
  },
  {
   "cell_type": "code",
   "execution_count": null,
   "metadata": {
    "collapsed": true
   },
   "outputs": [],
   "source": [
    "TCanvas *czPhi = new TCanvas(\"czPhi\",\"czPhi\",10,10,900,900);\n",
    "    TText tzphi; tzphi.SetTextFont(42); tzphi.SetTextAlign(21);\n",
    "    czPhi->Divide(2,2);\n",
    "    czPhi->cd(1); h_lep_phi_Zee->Draw();\n",
    "    czPhi->cd(2); h_lep_phi_Zmumu->Draw();\n",
    "    czPhi->cd(3); h_lep_phi_Ztautau->Draw();\n",
    "    czPhi->cd(4); h_lep_phi_mergedZ->Draw();"
   ]
  },
  {
   "cell_type": "code",
   "execution_count": null,
   "metadata": {
    "collapsed": true
   },
   "outputs": [],
   "source": [
    "TList *listZPhi = new TList;\n",
    "  listZPhi->Add(h_lep_phi_Zee);\n",
    "  listZPhi->Add(h_lep_phi_Zmumu);\n",
    "  listZPhi->Add(h_lep_phi_Ztautau);\n",
    "\n",
    "  \n",
    "h_lep_phi_mergedZ->Reset();\n",
    "h_lep_phi_mergedZ->Merge(listZPhi);\n",
    "h_lep_phi_mergedZ->SetFillColor(kBlue);\n",
    "h_lep_phi_mergedZ->Draw();"
   ]
  },
  {
   "cell_type": "code",
   "execution_count": null,
   "metadata": {
    "collapsed": false
   },
   "outputs": [],
   "source": [
    "czPhi->Draw();"
   ]
  },
  {
   "cell_type": "code",
   "execution_count": null,
   "metadata": {
    "collapsed": true
   },
   "outputs": [],
   "source": [
    "TCanvas *czE = new TCanvas(\"czE\",\"czE\",10,10,900,900);\n",
    "    TText tzE; tzE.SetTextFont(42); tzE.SetTextAlign(21);\n",
    "    czE->Divide(2,2);\n",
    "    czE->cd(1); h_lep_E_Zee->Draw();\n",
    "    czE->cd(2); h_lep_E_Zmumu->Draw();\n",
    "    czE->cd(3); h_lep_E_Ztautau->Draw();\n",
    "    czE->cd(4); h_lep_E_mergedZ->Draw();"
   ]
  },
  {
   "cell_type": "code",
   "execution_count": null,
   "metadata": {
    "collapsed": true
   },
   "outputs": [],
   "source": [
    "TList *listZE = new TList;\n",
    "  listZE->Add(h_lep_E_Zee);\n",
    "  listZE->Add(h_lep_E_Zmumu);\n",
    "  listZE->Add(h_lep_E_Ztautau);\n",
    "\n",
    "  \n",
    "h_lep_E_mergedZ->Reset();\n",
    "h_lep_E_mergedZ->Merge(listZE);\n",
    "h_lep_E_mergedZ->SetFillColor(kBlue);\n",
    "h_lep_E_mergedZ->Draw();"
   ]
  },
  {
   "cell_type": "code",
   "execution_count": null,
   "metadata": {
    "collapsed": false
   },
   "outputs": [],
   "source": [
    "czE->Draw();"
   ]
  },
  {
   "cell_type": "code",
   "execution_count": null,
   "metadata": {
    "collapsed": true
   },
   "outputs": [],
   "source": [
    "TCanvas *czCh = new TCanvas(\"czCh\",\"czCh\",10,10,900,900);\n",
    "    TText tzCh; tzCh.SetTextFont(42); tzCh.SetTextAlign(21);\n",
    "    czCh->Divide(2,2);\n",
    "    czCh->cd(1); h_lep_charge_Zee->Draw();\n",
    "    czCh->cd(2); h_lep_charge_Zmumu->Draw();\n",
    "    czCh->cd(3); h_lep_charge_Ztautau->Draw();\n",
    "    czCh->cd(4); h_lep_charge_mergedZ->Draw();"
   ]
  },
  {
   "cell_type": "code",
   "execution_count": null,
   "metadata": {
    "collapsed": true
   },
   "outputs": [],
   "source": [
    "TList *listZCh = new TList;\n",
    "  listZCh->Add(h_lep_charge_Zee);\n",
    "  listZCh->Add(h_lep_charge_Zmumu);\n",
    "  listZCh->Add(h_lep_charge_Ztautau);\n",
    "\n",
    "  \n",
    "h_lep_charge_mergedZ->Reset();\n",
    "h_lep_charge_mergedZ->Merge(listZCh);\n",
    "h_lep_charge_mergedZ->SetFillColor(kBlue);\n",
    "h_lep_charge_mergedZ->Draw();"
   ]
  },
  {
   "cell_type": "code",
   "execution_count": null,
   "metadata": {
    "collapsed": false
   },
   "outputs": [],
   "source": [
    "czCh->Draw();"
   ]
  },
  {
   "cell_type": "code",
   "execution_count": null,
   "metadata": {
    "collapsed": true
   },
   "outputs": [],
   "source": [
    "TCanvas *czEtc = new TCanvas(\"czEtc\",\"czEtc\",10,10,900,900);\n",
    "    TText tzEtc; tzEtc.SetTextFont(42); tzEtc.SetTextAlign(21);\n",
    "    czEtc->Divide(2,2);\n",
    "    czEtc->cd(1); h_lep_etc20_Zee->Draw();\n",
    "    czEtc->cd(2); h_lep_etc20_Zmumu->Draw();\n",
    "    czEtc->cd(3); h_lep_etc20_Ztautau->Draw();\n",
    "    czEtc->cd(4); h_lep_etc20_mergedZ->Draw();"
   ]
  },
  {
   "cell_type": "code",
   "execution_count": null,
   "metadata": {
    "collapsed": true
   },
   "outputs": [],
   "source": [
    "TList *listZEtc = new TList;\n",
    "  listZEtc->Add(h_lep_etc20_Zee);\n",
    "  listZEtc->Add(h_lep_etc20_Zmumu);\n",
    "  listZEtc->Add(h_lep_etc20_Ztautau);\n",
    "\n",
    "  \n",
    "h_lep_etc20_mergedZ->Reset();\n",
    "h_lep_etc20_mergedZ->Merge(listZEtc);\n",
    "h_lep_etc20_mergedZ->SetFillColor(kBlue);\n",
    "h_lep_etc20_mergedZ->Draw();"
   ]
  },
  {
   "cell_type": "code",
   "execution_count": null,
   "metadata": {
    "collapsed": false
   },
   "outputs": [],
   "source": [
    "czEtc->Draw();"
   ]
  },
  {
   "cell_type": "code",
   "execution_count": null,
   "metadata": {
    "collapsed": true
   },
   "outputs": [],
   "source": [
    "TCanvas *czPtc = new TCanvas(\"czPtc\",\"czPtc\",10,10,900,900);\n",
    "    TText tzPtc; tzPtc.SetTextFont(42); tzPtc.SetTextAlign(21);\n",
    "    czPtc->Divide(2,2);\n",
    "    czPtc->cd(1); h_lep_ptc30_Zee->Draw();\n",
    "    czPtc->cd(2); h_lep_ptc30_Zmumu->Draw();\n",
    "    czPtc->cd(3); h_lep_ptc30_Ztautau->Draw();\n",
    "    czPtc->cd(4); h_lep_ptc30_mergedZ->Draw();"
   ]
  },
  {
   "cell_type": "code",
   "execution_count": null,
   "metadata": {
    "collapsed": true
   },
   "outputs": [],
   "source": [
    "TList *listZPtc = new TList;\n",
    "  listZPtc->Add(h_lep_ptc30_Zee);\n",
    "  listZPtc->Add(h_lep_ptc30_Zmumu);\n",
    "  listZPtc->Add(h_lep_ptc30_Ztautau);\n",
    "\n",
    "  \n",
    "h_lep_ptc30_mergedZ->Reset();\n",
    "h_lep_ptc30_mergedZ->Merge(listZPtc);\n",
    "h_lep_ptc30_mergedZ->SetFillColor(kBlue);\n",
    "h_lep_ptc30_mergedZ->Draw();"
   ]
  },
  {
   "cell_type": "code",
   "execution_count": null,
   "metadata": {
    "collapsed": false
   },
   "outputs": [],
   "source": [
    "czPtc->Draw();"
   ]
  },
  {
   "cell_type": "code",
   "execution_count": null,
   "metadata": {
    "collapsed": true
   },
   "outputs": [],
   "source": [
    "TCanvas *czZ0 = new TCanvas(\"czZ0\",\"czZ0\",10,10,900,900);\n",
    "    TText tzZ0; tzZ0.SetTextFont(42); tzZ0.SetTextAlign(21);\n",
    "    czZ0->Divide(2,2);\n",
    "    czZ0->cd(1); h_lep_z0_Zee->Draw();\n",
    "    czZ0->cd(2); h_lep_z0_Zmumu->Draw();\n",
    "    czZ0->cd(3); h_lep_z0_Ztautau->Draw();\n",
    "    czZ0->cd(4); h_lep_z0_mergedZ->Draw();"
   ]
  },
  {
   "cell_type": "code",
   "execution_count": null,
   "metadata": {
    "collapsed": true
   },
   "outputs": [],
   "source": [
    "TList *listZZ0 = new TList;\n",
    "  listZZ0->Add(h_lep_z0_Zee);\n",
    "  listZZ0->Add(h_lep_z0_Zmumu);\n",
    "  listZZ0->Add(h_lep_z0_Ztautau);\n",
    "\n",
    "  \n",
    "h_lep_z0_mergedZ->Reset();\n",
    "h_lep_z0_mergedZ->Merge(listZZ0);\n",
    "h_lep_z0_mergedZ->SetFillColor(kBlue);\n",
    "h_lep_z0_mergedZ->Draw();"
   ]
  },
  {
   "cell_type": "code",
   "execution_count": null,
   "metadata": {
    "collapsed": false
   },
   "outputs": [],
   "source": [
    "czZ0->Draw();"
   ]
  },
  {
   "cell_type": "code",
   "execution_count": null,
   "metadata": {
    "collapsed": true
   },
   "outputs": [],
   "source": [
    "TCanvas *czD0 = new TCanvas(\"czD0\",\"czD0\",10,10,900,900);\n",
    "    TText tzD0; tzD0.SetTextFont(42); tzD0.SetTextAlign(21);\n",
    "    czD0->Divide(2,2);\n",
    "    czD0->cd(1); h_lep_d0_Zee->Draw();\n",
    "    czD0->cd(2); h_lep_d0_Zmumu->Draw();\n",
    "    czD0->cd(3); h_lep_d0_Ztautau->Draw();\n",
    "    czD0->cd(4); h_lep_d0_mergedZ->Draw();"
   ]
  },
  {
   "cell_type": "code",
   "execution_count": null,
   "metadata": {
    "collapsed": true
   },
   "outputs": [],
   "source": [
    "TList *listZD0 = new TList;\n",
    "  listZD0->Add(h_lep_d0_Zee);\n",
    "  listZD0->Add(h_lep_d0_Zmumu);\n",
    "  listZD0->Add(h_lep_d0_Ztautau);\n",
    "\n",
    "  \n",
    "h_lep_d0_mergedZ->Reset();\n",
    "h_lep_d0_mergedZ->Merge(listZD0);\n",
    "h_lep_d0_mergedZ->SetFillColor(kBlue);\n",
    "h_lep_d0_mergedZ->Draw();"
   ]
  },
  {
   "cell_type": "code",
   "execution_count": null,
   "metadata": {
    "collapsed": false
   },
   "outputs": [],
   "source": [
    "czD0->Draw();"
   ]
  },
  {
   "cell_type": "code",
   "execution_count": null,
   "metadata": {
    "collapsed": true
   },
   "outputs": [],
   "source": [
    "TCanvas *czPt_tl = new TCanvas(\"czPt_tl\",\"czPt_tl\",10,10,900,900);\n",
    "    TText tzPt_tl; tzPt_tl.SetTextFont(42); tzPt_tl.SetTextAlign(21);\n",
    "    czPt_tl->Divide(2,2);\n",
    "    czPt_tl->cd(1); h_lep_pt_tl_Zee->Draw();\n",
    "    czPt_tl->cd(2); h_lep_pt_tl_Zmumu->Draw();\n",
    "    czPt_tl->cd(3); h_lep_pt_tl_Ztautau->Draw();\n",
    "    czPt_tl->cd(4); h_lep_pt_tl_mergedZ->Draw();"
   ]
  },
  {
   "cell_type": "code",
   "execution_count": null,
   "metadata": {
    "collapsed": true
   },
   "outputs": [],
   "source": [
    "TList *listZPt_tl = new TList;\n",
    "  listZPt_tl->Add(h_lep_pt_tl_Zee);\n",
    "  listZPt_tl->Add(h_lep_pt_tl_Zmumu);\n",
    "  listZPt_tl->Add(h_lep_pt_tl_Ztautau);\n",
    "\n",
    "  \n",
    "h_lep_pt_tl_mergedZ->Reset();\n",
    "h_lep_pt_tl_mergedZ->Merge(listZPt_tl);\n",
    "h_lep_pt_tl_mergedZ->SetFillColor(kBlue);\n",
    "h_lep_pt_tl_mergedZ->Draw();"
   ]
  },
  {
   "cell_type": "code",
   "execution_count": null,
   "metadata": {
    "collapsed": false
   },
   "outputs": [],
   "source": [
    "czPt_tl->Draw();"
   ]
  },
  {
   "cell_type": "code",
   "execution_count": null,
   "metadata": {
    "collapsed": true
   },
   "outputs": [],
   "source": [
    "TCanvas *czEta_tl = new TCanvas(\"czEta_tl\",\"czEta_tl\",10,10,900,900);\n",
    "    TText tzeta_tl; tzeta_tl.SetTextFont(42); tzeta_tl.SetTextAlign(21);\n",
    "    czEta_tl->Divide(2,2);\n",
    "    czEta_tl->cd(1); h_lep_eta_tl_Zee->Draw();\n",
    "    czEta_tl->cd(2); h_lep_eta_tl_Zmumu->Draw();\n",
    "    czEta_tl->cd(3); h_lep_eta_tl_Ztautau->Draw();\n",
    "    czEta_tl->cd(4); h_lep_eta_tl_mergedZ->Draw();\n",
    "\n"
   ]
  },
  {
   "cell_type": "code",
   "execution_count": null,
   "metadata": {
    "collapsed": true
   },
   "outputs": [],
   "source": [
    "TList *listZEta_tl = new TList;\n",
    "  listZEta_tl->Add(h_lep_eta_tl_Zee);\n",
    "  listZEta_tl->Add(h_lep_eta_tl_Zmumu);\n",
    "  listZEta_tl->Add(h_lep_eta_tl_Ztautau);\n",
    "\n",
    "  \n",
    "h_lep_eta_tl_mergedZ->Reset();\n",
    "h_lep_eta_tl_mergedZ->Merge(listZEta_tl);\n",
    "h_lep_eta_tl_mergedZ->SetFillColor(kBlue);\n",
    "h_lep_eta_tl_mergedZ->Draw();"
   ]
  },
  {
   "cell_type": "code",
   "execution_count": null,
   "metadata": {
    "collapsed": false
   },
   "outputs": [],
   "source": [
    "czEta_tl->Draw();"
   ]
  },
  {
   "cell_type": "code",
   "execution_count": null,
   "metadata": {
    "collapsed": true
   },
   "outputs": [],
   "source": [
    "TCanvas *czPhi_tl = new TCanvas(\"czPhi_tl\",\"czPhi_tl\",10,10,900,900);\n",
    "    TText tzphi_tl; tzphi_tl.SetTextFont(42); tzphi_tl.SetTextAlign(21);\n",
    "    czPhi_tl->Divide(2,2);\n",
    "    czPhi_tl->cd(1); h_lep_phi_tl_Zee->Draw();\n",
    "    czPhi_tl->cd(2); h_lep_phi_tl_Zmumu->Draw();\n",
    "    czPhi_tl->cd(3); h_lep_phi_tl_Ztautau->Draw();\n",
    "    czPhi_tl->cd(4); h_lep_phi_tl_mergedZ->Draw();\n"
   ]
  },
  {
   "cell_type": "code",
   "execution_count": null,
   "metadata": {
    "collapsed": true
   },
   "outputs": [],
   "source": [
    "TList *listZPhi_tl = new TList;\n",
    "  listZPhi_tl->Add(h_lep_phi_tl_Zee);\n",
    "  listZPhi_tl->Add(h_lep_phi_tl_Zmumu);\n",
    "  listZPhi_tl->Add(h_lep_phi_tl_Ztautau);\n",
    "\n",
    "  \n",
    "h_lep_phi_tl_mergedZ->Reset();\n",
    "h_lep_phi_tl_mergedZ->Merge(listZPhi_tl);\n",
    "h_lep_phi_tl_mergedZ->SetFillColor(kBlue);\n",
    "h_lep_phi_tl_mergedZ->Draw();"
   ]
  },
  {
   "cell_type": "code",
   "execution_count": null,
   "metadata": {
    "collapsed": false
   },
   "outputs": [],
   "source": [
    "czPhi_tl->Draw();"
   ]
  },
  {
   "cell_type": "code",
   "execution_count": null,
   "metadata": {
    "collapsed": true
   },
   "outputs": [],
   "source": [
    "TCanvas *czE_tl = new TCanvas(\"czE_tl\",\"czE_tl\",10,10,900,900);\n",
    "    TText tzE_tl; tzE_tl.SetTextFont(42); tzE_tl.SetTextAlign(21);\n",
    "    czE_tl->Divide(2,2);\n",
    "    czE_tl->cd(1); h_lep_E_tl_Zee->Draw();\n",
    "    czE_tl->cd(2); h_lep_E_tl_Zmumu->Draw();\n",
    "    czE_tl->cd(3); h_lep_E_tl_Ztautau->Draw();\n",
    "    czE_tl->cd(4); h_lep_E_tl_mergedZ->Draw();\n"
   ]
  },
  {
   "cell_type": "code",
   "execution_count": null,
   "metadata": {
    "collapsed": true
   },
   "outputs": [],
   "source": [
    "TList *listZE_tl = new TList;\n",
    "  listZE_tl->Add(h_lep_E_tl_Zee);\n",
    "  listZE_tl->Add(h_lep_E_tl_Zmumu);\n",
    "  listZE_tl->Add(h_lep_E_tl_Ztautau);\n",
    "\n",
    "  \n",
    "h_lep_E_tl_mergedZ->Reset();\n",
    "h_lep_E_tl_mergedZ->Merge(listZE_tl);\n",
    "h_lep_E_tl_mergedZ->SetFillColor(kBlue);\n",
    "h_lep_E_tl_mergedZ->Draw();"
   ]
  },
  {
   "cell_type": "code",
   "execution_count": null,
   "metadata": {
    "collapsed": true
   },
   "outputs": [],
   "source": [
    "listZE_tl->Draw();"
   ]
  },
  {
   "cell_type": "code",
   "execution_count": null,
   "metadata": {
    "collapsed": true
   },
   "outputs": [],
   "source": [
    "TCanvas *czCh_tl = new TCanvas(\"czCh_tl\",\"czCh_tl\",10,10,900,900);\n",
    "    TText tzCh_tl; tzCh_tl.SetTextFont(42); tzCh_tl.SetTextAlign(21);\n",
    "    czCh_tl->Divide(2,2);\n",
    "    czCh_tl->cd(1); h_lep_charge_tl_Zee->Draw();\n",
    "    czCh_tl->cd(2); h_lep_charge_tl_Zmumu->Draw();\n",
    "    czCh_tl->cd(3); h_lep_charge_tl_Ztautau->Draw();\n",
    "    czCh_tl->cd(4); h_lep_charge_tl_mergedZ->Draw();\n"
   ]
  },
  {
   "cell_type": "code",
   "execution_count": null,
   "metadata": {
    "collapsed": true
   },
   "outputs": [],
   "source": [
    "TList *listZCh_tl = new TList;\n",
    "  listZCh_tl->Add(h_lep_charge_tl_Zee);\n",
    "  listZCh_tl->Add(h_lep_charge_tl_Zmumu);\n",
    "  listZCh_tl->Add(h_lep_charge_tl_Ztautau);\n",
    "\n",
    "  \n",
    "h_lep_charge_tl_mergedZ->Reset();\n",
    "h_lep_charge_tl_mergedZ->Merge(listZCh);\n",
    "h_lep_charge_tl_mergedZ->SetFillColor(kBlue);\n",
    "h_lep_charge_tl_mergedZ->Draw();"
   ]
  },
  {
   "cell_type": "code",
   "execution_count": null,
   "metadata": {
    "collapsed": false
   },
   "outputs": [],
   "source": [
    "czCh_tl->Draw();"
   ]
  },
  {
   "cell_type": "code",
   "execution_count": null,
   "metadata": {
    "collapsed": true
   },
   "outputs": [],
   "source": [
    "TCanvas *czEtc_tl = new TCanvas(\"czEtc_tl\",\"czEtc_tl\",10,10,900,900);\n",
    "    TText tzEtc_tl; tzEtc_tl.SetTextFont(42); tzEtc_tl.SetTextAlign(21);\n",
    "    czEtc_tl->Divide(2,2);\n",
    "    czEtc_tl->cd(1); h_lep_etc20_tl_Zee->Draw();\n",
    "    czEtc_tl->cd(2); h_lep_etc20_tl_Zmumu->Draw();\n",
    "    czEtc_tl->cd(3); h_lep_etc20_tl_Ztautau->Draw();\n",
    "    czEtc_tl->cd(4); h_lep_etc20_tl_mergedZ->Draw();\n"
   ]
  },
  {
   "cell_type": "code",
   "execution_count": null,
   "metadata": {
    "collapsed": true
   },
   "outputs": [],
   "source": [
    "TList *listZEtc_tl = new TList;\n",
    "  listZEtc_tl->Add(h_lep_etc20_tl_Zee);\n",
    "  listZEtc_tl->Add(h_lep_etc20_tl_Zmumu);\n",
    "  listZEtc_tl->Add(h_lep_etc20_tl_Ztautau);\n",
    "\n",
    "  \n",
    "h_lep_etc20_tl_mergedZ->Reset();\n",
    "h_lep_etc20_tl_mergedZ->Merge(listZEtc_tl);\n",
    "h_lep_etc20_tl_mergedZ->SetFillColor(kBlue);\n",
    "h_lep_etc20_tl_mergedZ->Draw();"
   ]
  },
  {
   "cell_type": "code",
   "execution_count": null,
   "metadata": {
    "collapsed": false
   },
   "outputs": [],
   "source": [
    "czEtc_tl->Draw();"
   ]
  },
  {
   "cell_type": "code",
   "execution_count": null,
   "metadata": {
    "collapsed": true
   },
   "outputs": [],
   "source": [
    "TCanvas *czPtc_tl = new TCanvas(\"czPtc_tl\",\"czPtc_tl\",10,10,900,900);\n",
    "    TText tzPtc_tl; tzPtc_tl.SetTextFont(42); tzPtc_tl.SetTextAlign(21);\n",
    "    czPtc_tl->Divide(2,2);\n",
    "    czPtc_tl->cd(1); h_lep_ptc30_tl_Zee->Draw();\n",
    "    czPtc_tl->cd(2); h_lep_ptc30_tl_Zmumu->Draw();\n",
    "    czPtc_tl->cd(3); h_lep_ptc30_tl_Ztautau->Draw();\n",
    "    czPtc_tl->cd(4); h_lep_ptc30_tl_mergedZ->Draw();\n"
   ]
  },
  {
   "cell_type": "code",
   "execution_count": null,
   "metadata": {
    "collapsed": true
   },
   "outputs": [],
   "source": [
    "TList *listZPtc_tl = new TList;\n",
    "  listZPtc_tl->Add(h_lep_ptc30_tl_Zee);\n",
    "  listZPtc_tl->Add(h_lep_ptc30_tl_Zmumu);\n",
    "  listZPtc_tl->Add(h_lep_ptc30_tl_Ztautau);\n",
    "\n",
    "  \n",
    "h_lep_ptc30_tl_mergedZ->Reset();\n",
    "h_lep_ptc30_tl_mergedZ->Merge(listZPtc);\n",
    "h_lep_ptc30_tl_mergedZ->SetFillColor(kBlue);\n",
    "h_lep_ptc30_tl_mergedZ->Draw();"
   ]
  },
  {
   "cell_type": "code",
   "execution_count": null,
   "metadata": {
    "collapsed": false
   },
   "outputs": [],
   "source": [
    "czPtc_tl->Draw();"
   ]
  },
  {
   "cell_type": "code",
   "execution_count": null,
   "metadata": {
    "collapsed": true
   },
   "outputs": [],
   "source": [
    "TCanvas *czZ0_tl = new TCanvas(\"czZ0_tl\",\"czZ0_tl\",10,10,900,900);\n",
    "    TText tzZ0_tl; tzZ0_tl.SetTextFont(42); tzZ0_tl.SetTextAlign(21);\n",
    "    czZ0_tl->Divide(2,2);\n",
    "    czZ0_tl->cd(1); h_lep_z0_tl_Zee->Draw();\n",
    "    czZ0_tl->cd(2); h_lep_z0_tl_Zmumu->Draw();\n",
    "    czZ0_tl->cd(3); h_lep_z0_tl_Ztautau->Draw();\n",
    "    czZ0_tl->cd(4); h_lep_z0_tl_mergedZ->Draw();\n"
   ]
  },
  {
   "cell_type": "code",
   "execution_count": null,
   "metadata": {
    "collapsed": true
   },
   "outputs": [],
   "source": [
    "TList *listZZ0_tl = new TList;\n",
    "  listZZ0_tl->Add(h_lep_z0_tl_Zee);\n",
    "  listZZ0_tl->Add(h_lep_z0_tl_Zmumu);\n",
    "  listZZ0_tl->Add(h_lep_z0_tl_Ztautau);\n",
    "\n",
    "  \n",
    "h_lep_z0_tl_mergedZ->Reset();\n",
    "h_lep_z0_tl_mergedZ->Merge(listZZ0_tl);\n",
    "h_lep_z0_tl_mergedZ->SetFillColor(kBlue);\n",
    "h_lep_z0_tl_mergedZ->Draw();"
   ]
  },
  {
   "cell_type": "code",
   "execution_count": null,
   "metadata": {
    "collapsed": false
   },
   "outputs": [],
   "source": [
    "czZ0_tl->Draw();"
   ]
  },
  {
   "cell_type": "code",
   "execution_count": null,
   "metadata": {
    "collapsed": true
   },
   "outputs": [],
   "source": [
    "TCanvas *czD0_tl = new TCanvas(\"czD0_tl\",\"czD0_tl\",10,10,900,900);\n",
    "    TText tzD0_tl; tzD0_tl.SetTextFont(42); tzD0_tl.SetTextAlign(21);\n",
    "    czD0_tl->Divide(2,2);\n",
    "    czD0_tl->cd(1); h_lep_d0_tl_Zee->Draw();\n",
    "    czD0_tl->cd(2); h_lep_d0_tl_Zmumu->Draw();\n",
    "    czD0_tl->cd(3); h_lep_d0_tl_Ztautau->Draw();\n",
    "    czD0_tl->cd(4); h_lep_d0_tl_mergedZ->Draw();\n"
   ]
  },
  {
   "cell_type": "code",
   "execution_count": null,
   "metadata": {
    "collapsed": true
   },
   "outputs": [],
   "source": [
    "TList *listZD0_tl = new TList;\n",
    "  listZD0_tl->Add(h_lep_d0_tl_Zee);\n",
    "  listZD0_tl->Add(h_lep_d0_tl_Zmumu);\n",
    "  listZD0_tl->Add(h_lep_d0_tl_Ztautau);\n",
    "\n",
    "  \n",
    "h_lep_d0_tl_mergedZ->Reset();\n",
    "h_lep_d0_tl_mergedZ->Merge(listZD0_tl);\n",
    "h_lep_d0_tl_mergedZ->SetFillColor(kBlue);\n",
    "h_lep_d0_tl_mergedZ->Draw();"
   ]
  },
  {
   "cell_type": "code",
   "execution_count": null,
   "metadata": {
    "collapsed": false
   },
   "outputs": [],
   "source": [
    "czD0_tl->Draw();"
   ]
  },
  {
   "cell_type": "code",
   "execution_count": null,
   "metadata": {
    "collapsed": true
   },
   "outputs": [],
   "source": [
    " TCanvas *czJn = new TCanvas(\"czJn\",\"czJn\",10,10,900,900);\n",
    "    TText tzJn; tzJn.SetTextFont(42); tzJn.SetTextAlign(21);\n",
    "    czJn->Divide(2,2);\n",
    "    czJn->cd(1); h_jet_n_Zee->Draw();\n",
    "    czJn->cd(2); h_jet_n_Zmumu->Draw();\n",
    "    czJn->cd(3); h_jet_n_Ztautau->Draw();\n",
    "    czJn->cd(4); h_jet_n_mergedZ->Draw();\n",
    " \n"
   ]
  },
  {
   "cell_type": "code",
   "execution_count": null,
   "metadata": {
    "collapsed": true
   },
   "outputs": [],
   "source": [
    "TList *listZJn = new TList;\n",
    "  listZJn->Add(h_jet_n_Zee);\n",
    "  listZJn->Add(h_jet_n_Zmumu);\n",
    "  listZJn->Add(h_jet_n_Ztautau);\n",
    "\n",
    "  \n",
    "h_jet_n_mergedZ->Reset();\n",
    "h_jet_n_mergedZ->Merge(listZJn);\n",
    "h_jet_n_mergedZ->SetFillColor(kBlue);\n",
    "h_jet_n_mergedZ->Draw();"
   ]
  },
  {
   "cell_type": "code",
   "execution_count": null,
   "metadata": {
    "collapsed": false
   },
   "outputs": [],
   "source": [
    "czJn->Draw();"
   ]
  },
  {
   "cell_type": "code",
   "execution_count": null,
   "metadata": {
    "collapsed": true
   },
   "outputs": [],
   "source": [
    "TCanvas *czJnPt = new TCanvas(\"czJnPt\",\"czJnPt\",10,10,900,900);\n",
    "    TText tzJnPt; tzJnPt.SetTextFont(42); tzJnPt.SetTextAlign(21);\n",
    "    czJnPt->Divide(2,2);\n",
    "    czJnPt->cd(1); h_jet_pt_Zee->Draw();\n",
    "    czJnPt->cd(2); h_jet_pt_Zmumu->Draw();\n",
    "    czJnPt->cd(3); h_jet_pt_Ztautau->Draw();\n",
    "    czJnPt->cd(4); h_jet_pt_mergedZ->Draw();\n"
   ]
  },
  {
   "cell_type": "code",
   "execution_count": null,
   "metadata": {
    "collapsed": true
   },
   "outputs": [],
   "source": [
    "TList *listZJnPt = new TList;\n",
    "  listZJnPt->Add(h_jet_pt_Zee);\n",
    "  listZJnPt->Add(h_jet_pt_Zmumu);\n",
    "  listZJnPt->Add(h_jet_pt_Ztautau);\n",
    "\n",
    "  \n",
    "h_jet_pt_mergedZ->Reset();\n",
    "h_jet_pt_mergedZ->Merge(listZJnPt);\n",
    "h_jet_pt_mergedZ->SetFillColor(kBlue);\n",
    "h_jet_pt_mergedZ->Draw();"
   ]
  },
  {
   "cell_type": "code",
   "execution_count": null,
   "metadata": {
    "collapsed": false
   },
   "outputs": [],
   "source": [
    "czJnPt->Draw();"
   ]
  },
  {
   "cell_type": "code",
   "execution_count": null,
   "metadata": {
    "collapsed": true
   },
   "outputs": [],
   "source": [
    "TCanvas *czJnEta = new TCanvas(\"czJnEta\",\"czJnEta\",10,10,900,900);\n",
    "    TText tzJnEta; tzJnEta.SetTextFont(42); tzJnEta.SetTextAlign(21);\n",
    "    czJnEta->Divide(2,2);\n",
    "    czJnEta->cd(1); h_jet_eta_Zee->Draw();\n",
    "    czJnEta->cd(2); h_jet_eta_Zmumu->Draw();\n",
    "    czJnEta->cd(3); h_jet_eta_Ztautau->Draw();\n",
    "    czJnEta->cd(4); h_jet_eta_mergedZ->Draw();"
   ]
  },
  {
   "cell_type": "code",
   "execution_count": null,
   "metadata": {
    "collapsed": true
   },
   "outputs": [],
   "source": [
    "TList *listZJnEta = new TList;\n",
    "  listZJnEta->Add(h_jet_eta_Zee);\n",
    "  listZJnEta->Add(h_jet_eta_Zmumu);\n",
    "  listZJnEta->Add(h_jet_eta_Ztautau);\n",
    "\n",
    "  \n",
    "h_jet_eta_mergedZ->Reset();\n",
    "h_jet_eta_mergedZ->Merge(listZJnEta);\n",
    "h_jet_eta_mergedZ->SetFillColor(kBlue);\n",
    "h_jet_eta_mergedZ->Draw();"
   ]
  },
  {
   "cell_type": "code",
   "execution_count": null,
   "metadata": {
    "collapsed": false
   },
   "outputs": [],
   "source": [
    "czJnEta->Draw();"
   ]
  },
  {
   "cell_type": "code",
   "execution_count": null,
   "metadata": {
    "collapsed": true
   },
   "outputs": [],
   "source": [
    " TCanvas *czJm = new TCanvas(\"czJm\",\"czJm\",10,10,900,900);\n",
    "    TText tzJm; tzJm.SetTextFont(42); tzJm.SetTextAlign(21);\n",
    "    czJm->Divide(2,2);\n",
    "    czJm->cd(1); h_jet_m_Zee->Draw();\n",
    "    czJm->cd(2); h_jet_m_Zmumu->Draw();\n",
    "    czJm->cd(3); h_jet_m_Ztautau->Draw();\n",
    "    czJm->cd(4); h_jet_m_mergedZ->Draw();\n"
   ]
  },
  {
   "cell_type": "code",
   "execution_count": null,
   "metadata": {
    "collapsed": true
   },
   "outputs": [],
   "source": [
    "TList *listZJm = new TList;\n",
    "  listZJm->Add(h_jet_m_Zee);\n",
    "  listZJm->Add(h_jet_m_Zmumu);\n",
    "  listZJm->Add(h_jet_m_Ztautau);\n",
    "\n",
    "  \n",
    "h_jet_m_mergedZ->Reset();\n",
    "h_jet_m_mergedZ->Merge(listZJm);\n",
    "h_jet_m_mergedZ->SetFillColor(kBlue);\n",
    "h_jet_m_mergedZ->Draw();"
   ]
  },
  {
   "cell_type": "code",
   "execution_count": null,
   "metadata": {
    "collapsed": false
   },
   "outputs": [],
   "source": [
    "czJm->Draw();"
   ]
  },
  {
   "cell_type": "code",
   "execution_count": null,
   "metadata": {
    "collapsed": true
   },
   "outputs": [],
   "source": [
    "TCanvas *czJnJvf = new TCanvas(\"czJnJvf\",\"czJnJvf\",10,10,900,900);\n",
    "    TText tzJnJvf; tzJnJvf.SetTextFont(42); tzJnJvf.SetTextAlign(21);\n",
    "    czJnJvf->Divide(2,2);\n",
    "    czJnJvf->cd(1); h_jet_jvf_Zee->Draw();\n",
    "    czJnJvf->cd(2); h_jet_jvf_Zmumu->Draw();\n",
    "    czJnJvf->cd(3); h_jet_jvf_Ztautau->Draw();\n",
    "    czJnJvf->cd(4); h_jet_jvf_mergedZ->Draw();\n"
   ]
  },
  {
   "cell_type": "code",
   "execution_count": null,
   "metadata": {
    "collapsed": true
   },
   "outputs": [],
   "source": [
    "TList *listZJnJvf = new TList;\n",
    "  listZJnJvf->Add(h_jet_jvf_Zee);\n",
    "  listZJnJvf->Add(h_jet_jvf_Zmumu);\n",
    "  listZJnJvf->Add(h_jet_jvf_Ztautau);\n",
    "\n",
    "  \n",
    "h_jet_jvf_mergedZ->Reset();\n",
    "h_jet_jvf_mergedZ->Merge(listZJnJvf);\n",
    "h_jet_jvf_mergedZ->SetFillColor(kBlue);\n",
    "h_jet_jvf_mergedZ->Draw();"
   ]
  },
  {
   "cell_type": "code",
   "execution_count": null,
   "metadata": {
    "collapsed": false
   },
   "outputs": [],
   "source": [
    "czJnJvf->Draw();"
   ]
  },
  {
   "cell_type": "code",
   "execution_count": null,
   "metadata": {
    "collapsed": true
   },
   "outputs": [],
   "source": [
    "TCanvas *czJMV1 = new TCanvas(\"czJMV1\",\"czJMV1\",10,10,900,900);\n",
    "    TText tzJMV1; tzJMV1.SetTextFont(42); tzJMV1.SetTextAlign(21);\n",
    "    czJMV1->Divide(2,2);\n",
    "    czJMV1->cd(1); h_jet_MV1_Zee->Draw();\n",
    "    czJMV1->cd(2); h_jet_MV1_Zmumu->Draw();\n",
    "    czJMV1->cd(3); h_jet_MV1_Ztautau->Draw();\n",
    "    czJMV1->cd(4); h_jet_MV1_mergedZ->Draw();"
   ]
  },
  {
   "cell_type": "code",
   "execution_count": null,
   "metadata": {
    "collapsed": true
   },
   "outputs": [],
   "source": [
    "TList *listZJMV1 = new TList;\n",
    "  listZJMV1->Add(h_jet_MV1_Zee);\n",
    "  listZJMV1->Add(h_jet_MV1_Zmumu);\n",
    "  listZJMV1->Add(h_jet_MV1_Ztautau);\n",
    "\n",
    "  \n",
    "h_jet_MV1_mergedZ->Reset();\n",
    "h_jet_MV1_mergedZ->Merge(listZJMV1);\n",
    "h_jet_MV1_mergedZ->SetFillColor(kBlue);\n",
    "h_jet_MV1_mergedZ->Draw();"
   ]
  },
  {
   "cell_type": "code",
   "execution_count": null,
   "metadata": {
    "collapsed": false
   },
   "outputs": [],
   "source": [
    "czJMV1->Draw();"
   ]
  },
  {
   "cell_type": "code",
   "execution_count": null,
   "metadata": {
    "collapsed": true
   },
   "outputs": [],
   "source": [
    "TCanvas *czPVXP_n = new TCanvas(\"czPVXP_n\",\"czPVXP_n\",10,10,900,900);\n",
    "    TText tzPVXP_n; tzPVXP_n.SetTextFont(42); tzPVXP_n.SetTextAlign(21);\n",
    "    czPVXP_n->Divide(2,2);\n",
    "    czPVXP_n->cd(1); h_pvxp_n_Zee->Draw();\n",
    "    czPVXP_n->cd(2); h_pvxp_n_Zmumu->Draw();\n",
    "    czPVXP_n->cd(3); h_pvxp_n_Ztautau->Draw();\n",
    "    czPVXP_n->cd(4); h_pvxp_n_mergedZ->Draw();"
   ]
  },
  {
   "cell_type": "code",
   "execution_count": null,
   "metadata": {
    "collapsed": true
   },
   "outputs": [],
   "source": [
    "TList *listZPVXP_n = new TList;\n",
    "  listZPVXP_n->Add(h_pvxp_n_Zee);\n",
    "  listZPVXP_n->Add(h_pvxp_n_Zmumu);\n",
    "  listZPVXP_n->Add(h_pvxp_n_Ztautau);\n",
    "\n",
    "  \n",
    "h_pvxp_n_mergedZ->Reset();\n",
    "h_pvxp_n_mergedZ->Merge(listZPVXP_n);\n",
    "h_pvxp_n_mergedZ->SetFillColor(kBlue);\n",
    "h_pvxp_n_mergedZ->Draw();"
   ]
  },
  {
   "cell_type": "code",
   "execution_count": null,
   "metadata": {
    "collapsed": false
   },
   "outputs": [],
   "source": [
    "czPVXP_n->Draw();"
   ]
  },
  {
   "cell_type": "code",
   "execution_count": null,
   "metadata": {
    "collapsed": true
   },
   "outputs": [],
   "source": [
    "TCanvas *czVXP_z = new TCanvas(\"czVXP_z\",\"czVXP_z\",10,10,900,900);\n",
    "    TText tzVXP_z; tzVXP_z.SetTextFont(42); tzVXP_z.SetTextAlign(21);\n",
    "    czVXP_z->Divide(2,2);\n",
    "    czVXP_z->cd(1); h_vxp_z_Zee->Draw();\n",
    "    czVXP_z->cd(2); h_vxp_z_Zmumu->Draw();\n",
    "    czVXP_z->cd(3); h_vxp_z_Ztautau->Draw();\n",
    "    czVXP_z->cd(4); h_vxp_z_mergedZ->Draw();"
   ]
  },
  {
   "cell_type": "code",
   "execution_count": null,
   "metadata": {
    "collapsed": true
   },
   "outputs": [],
   "source": [
    "TList *listZVXP_z = new TList;\n",
    "  listZVXP_z->Add(h_vxp_z_Zee);\n",
    "  listZVXP_z->Add(h_vxp_z_Zmumu);\n",
    "  listZVXP_z->Add(h_vxp_z_Ztautau);\n",
    "\n",
    "  \n",
    "h_vxp_z_mergedZ->Reset();\n",
    "h_vxp_z_mergedZ->Merge(listZVXP_z);\n",
    "h_vxp_z_mergedZ->SetFillColor(kBlue);\n",
    "h_vxp_z_mergedZ->Draw();"
   ]
  },
  {
   "cell_type": "code",
   "execution_count": null,
   "metadata": {
    "collapsed": false
   },
   "outputs": [],
   "source": [
    "czVXP_z->Draw();"
   ]
  },
  {
   "cell_type": "code",
   "execution_count": null,
   "metadata": {
    "collapsed": true
   },
   "outputs": [],
   "source": [
    "TCanvas *czMet_et = new TCanvas(\"czMet_et\",\"czMet_et\",10,10,900,900);\n",
    "    TText tzMet_et; tzMet_et.SetTextFont(42); tzMet_et.SetTextAlign(21);\n",
    "    czMet_et->Divide(2,2);\n",
    "    czMet_et->cd(1); h_met_et_Zee->Draw();\n",
    "    czMet_et->cd(2); h_met_et_Zmumu->Draw();\n",
    "    czMet_et->cd(3); h_met_et_Ztautau->Draw();\n",
    "    czMet_et->cd(4); h_met_et_mergedZ->Draw();"
   ]
  },
  {
   "cell_type": "code",
   "execution_count": null,
   "metadata": {
    "collapsed": true
   },
   "outputs": [],
   "source": [
    "TList *listZMet_et = new TList;\n",
    "  listZMet_et->Add(h_met_et_Zee);\n",
    "  listZMet_et->Add(h_met_et_Zmumu);\n",
    "  listZMet_et->Add(h_met_et_Ztautau);\n",
    "\n",
    "  \n",
    "h_met_et_mergedZ->Reset();\n",
    "h_met_et_mergedZ->Merge(listZMet_et);\n",
    "h_met_et_mergedZ->SetFillColor(kBlue);\n",
    "h_met_et_mergedZ->Draw();"
   ]
  },
  {
   "cell_type": "code",
   "execution_count": null,
   "metadata": {
    "collapsed": false
   },
   "outputs": [],
   "source": [
    "czMet_et->Draw();"
   ]
  },
  {
   "cell_type": "code",
   "execution_count": null,
   "metadata": {
    "collapsed": true
   },
   "outputs": [],
   "source": [
    "TCanvas *czInv_mass = new TCanvas(\"czInv_mass\",\"czInv_mass\",10,10,900,900);\n",
    "    TText tzInv_mass; tzInv_mass.SetTextFont(42); tzInv_mass.SetTextAlign(21);\n",
    "    czInv_mass->Divide(2,2);\n",
    "    czInv_mass->cd(1); h_inv_mass_Zee->Draw();\n",
    "    czInv_mass->cd(2); h_inv_mass_Zmumu->Draw();\n",
    "    czInv_mass->cd(3); h_inv_mass_Ztautau->Draw();\n",
    "    czInv_mass->cd(4); h_inv_mass_mergedZ->Draw();"
   ]
  },
  {
   "cell_type": "code",
   "execution_count": null,
   "metadata": {
    "collapsed": true
   },
   "outputs": [],
   "source": [
    "TList *listZInv_mass = new TList;\n",
    "  listZInv_mass->Add(h_inv_mass_Zee);\n",
    "  listZInv_mass->Add(h_inv_mass_Zmumu);\n",
    "  listZInv_mass->Add(h_inv_mass_Ztautau);\n",
    "\n",
    "  \n",
    "h_inv_mass_mergedZ->Reset();\n",
    "h_inv_mass_mergedZ->Merge(listZInv_mass);\n",
    "h_inv_mass_mergedZ->SetFillColor(kBlue);\n",
    "h_inv_mass_mergedZ->Draw();"
   ]
  },
  {
   "cell_type": "code",
   "execution_count": null,
   "metadata": {
    "collapsed": false
   },
   "outputs": [],
   "source": [
    "czInv_mass->Draw();"
   ]
  },
  {
   "cell_type": "code",
   "execution_count": null,
   "metadata": {
    "collapsed": false
   },
   "outputs": [],
   "source": [
    "TCanvas *cdata = new TCanvas(\"cdata\",\"cdata\",10,10,900,900);\n",
    "    TText tdata; tdata.SetTextFont(42); tdata.SetTextAlign(21);\n",
    "    cdata->Divide(1,1);\n",
    "    cdata->cd(1);\n",
    "    h_lep_pt_Data->Draw();\n",
    "    h_lep_pt_mergedZ->Draw(\"same\");"
   ]
  },
  {
   "cell_type": "code",
   "execution_count": null,
   "metadata": {
    "collapsed": false
   },
   "outputs": [],
   "source": [
    "cdata->Draw();"
   ]
  },
  {
   "cell_type": "code",
   "execution_count": null,
   "metadata": {
    "collapsed": false
   },
   "outputs": [],
   "source": [
    " TCanvas *cd = new TCanvas(\"cd\",\"cd\",10,10,900,900);\n",
    "    TText td; td.SetTextFont(42); td.SetTextAlign(21);\n",
    "    cd->Divide(2,2);\n",
    "    cd->cd(1); h_lep_pt_Dww->Draw();\n",
    "    cd->cd(2); h_lep_pt_Dzz->Draw();\n",
    "    cd->cd(3); h_lep_pt_Dwz->Draw();\n",
    "    cd->cd(4); h_lep_pt_mergedD->Draw();"
   ]
  },
  {
   "cell_type": "code",
   "execution_count": null,
   "metadata": {
    "collapsed": false
   },
   "outputs": [],
   "source": [
    " TList *listD = new TList;\n",
    "  listD->Add(h_lep_pt_Dww);\n",
    "  listD->Add(h_lep_pt_Dzz);\n",
    "  listD->Add(h_lep_pt_Dwz);\n",
    "\n",
    "  \n",
    "h_lep_pt_mergedD->Reset();\n",
    "h_lep_pt_mergedD->Merge(listD);\n",
    "h_lep_pt_mergedD->SetFillColor(kOrange);\n",
    "h_lep_pt_mergedD->Draw();"
   ]
  },
  {
   "cell_type": "code",
   "execution_count": null,
   "metadata": {
    "collapsed": false
   },
   "outputs": [],
   "source": [
    "cd->Draw();"
   ]
  },
  {
   "cell_type": "code",
   "execution_count": null,
   "metadata": {
    "collapsed": true
   },
   "outputs": [],
   "source": [
    " TCanvas *cdEta = new TCanvas(\"cdEta\",\"cdEta\",10,10,900,900);\n",
    "    TText tdEta; tdEta.SetTextFont(42); tdEta.SetTextAlign(21);\n",
    "    cdEta->Divide(2,2);\n",
    "    cdEta->cd(1); h_lep_eta_Dww->Draw();\n",
    "    cdEta->cd(2); h_lep_eta_Dzz->Draw();\n",
    "    cdEta->cd(3); h_lep_eta_Dwz->Draw();\n",
    "    cdEta->cd(4); h_lep_eta_mergedD->Draw();"
   ]
  },
  {
   "cell_type": "code",
   "execution_count": null,
   "metadata": {
    "collapsed": true
   },
   "outputs": [],
   "source": [
    "TList *listDEta = new TList;\n",
    "  listDEta->Add(h_lep_eta_Dww);\n",
    "  listDEta->Add(h_lep_eta_Dzz);\n",
    "  listDEta->Add(h_lep_eta_Dwz);\n",
    "\n",
    "  \n",
    "h_lep_eta_mergedD->Reset();\n",
    "h_lep_eta_mergedD->Merge(listDEta);\n",
    "h_lep_eta_mergedD->SetFillColor(kBlue);\n",
    "h_lep_eta_mergedD->Draw();"
   ]
  },
  {
   "cell_type": "code",
   "execution_count": null,
   "metadata": {
    "collapsed": false
   },
   "outputs": [],
   "source": [
    "cdEta->Draw();"
   ]
  },
  {
   "cell_type": "code",
   "execution_count": null,
   "metadata": {
    "collapsed": true
   },
   "outputs": [],
   "source": [
    " TCanvas *cdPhi = new TCanvas(\"cdPhi\",\"cdPhi\",10,10,900,900);\n",
    "    TText tdphi; tdphi.SetTextFont(42); tdphi.SetTextAlign(21);\n",
    "    cdPhi->Divide(2,2);\n",
    "    cdPhi->cd(1); h_lep_phi_Dww->Draw();\n",
    "    cdPhi->cd(2); h_lep_phi_Dzz->Draw();\n",
    "    cdPhi->cd(3); h_lep_phi_Dwz->Draw();\n",
    "    cdPhi->cd(4); h_lep_phi_mergedD->Draw();"
   ]
  },
  {
   "cell_type": "code",
   "execution_count": null,
   "metadata": {
    "collapsed": true
   },
   "outputs": [],
   "source": [
    "TList *listDPhi = new TList;\n",
    "  listDPhi->Add(h_lep_phi_Dww);\n",
    "  listDPhi->Add(h_lep_phi_Dzz);\n",
    "  listDPhi->Add(h_lep_phi_Dwz);\n",
    "\n",
    "  \n",
    "h_lep_phi_mergedD->Reset();\n",
    "h_lep_phi_mergedD->Merge(listDPhi);\n",
    "h_lep_phi_mergedD->SetFillColor(kBlue);\n",
    "h_lep_phi_mergedD->Draw();"
   ]
  },
  {
   "cell_type": "code",
   "execution_count": null,
   "metadata": {
    "collapsed": false
   },
   "outputs": [],
   "source": [
    "cdPhi->Draw();"
   ]
  },
  {
   "cell_type": "code",
   "execution_count": null,
   "metadata": {
    "collapsed": true
   },
   "outputs": [],
   "source": [
    " TCanvas *cdE = new TCanvas(\"cdE\",\"cdE\",10,10,900,900);\n",
    "    TText tdE; tdE.SetTextFont(42); tdE.SetTextAlign(21);\n",
    "    cdE->Divide(2,2);\n",
    "    cdE->cd(1); h_lep_E_Dww->Draw();\n",
    "    cdE->cd(2); h_lep_E_Dzz->Draw();\n",
    "    cdE->cd(3); h_lep_E_Dwz->Draw();\n",
    "    cdE->cd(4); h_lep_E_mergedD->Draw();"
   ]
  },
  {
   "cell_type": "code",
   "execution_count": null,
   "metadata": {
    "collapsed": true
   },
   "outputs": [],
   "source": [
    "TList *listDE = new TList;\n",
    "  listDE->Add(h_lep_E_Dww);\n",
    "  listDE->Add(h_lep_E_Dzz);\n",
    "  listDE->Add(h_lep_E_Dwz);\n",
    "\n",
    "  \n",
    "h_lep_E_mergedD->Reset();\n",
    "h_lep_E_mergedD->Merge(listDE);\n",
    "h_lep_E_mergedD->SetFillColor(kBlue);\n",
    "h_lep_E_mergedD->Draw();"
   ]
  },
  {
   "cell_type": "code",
   "execution_count": null,
   "metadata": {
    "collapsed": false
   },
   "outputs": [],
   "source": [
    "cdE->Draw();"
   ]
  },
  {
   "cell_type": "code",
   "execution_count": null,
   "metadata": {
    "collapsed": true
   },
   "outputs": [],
   "source": [
    " TCanvas *cdCh = new TCanvas(\"cdCh\",\"cdCh\",10,10,900,900);\n",
    "    TText tdCh; tdCh.SetTextFont(42); tdCh.SetTextAlign(21);\n",
    "    cdCh->Divide(2,2);\n",
    "    cdCh->cd(1); h_lep_charge_Dww->Draw();\n",
    "    cdCh->cd(2); h_lep_charge_Dzz->Draw();\n",
    "    cdCh->cd(3); h_lep_charge_Dwz->Draw();\n",
    "    cdCh->cd(4); h_lep_charge_mergedD->Draw();"
   ]
  },
  {
   "cell_type": "code",
   "execution_count": null,
   "metadata": {
    "collapsed": true
   },
   "outputs": [],
   "source": [
    "TList *listDCh = new TList;\n",
    "  listDCh->Add(h_lep_charge_Dww);\n",
    "  listDCh->Add(h_lep_charge_Dzz);\n",
    "  listDCh->Add(h_lep_charge_Dwz);\n",
    "\n",
    "  \n",
    "h_lep_charge_mergedD->Reset();\n",
    "h_lep_charge_mergedD->Merge(listDCh);\n",
    "h_lep_charge_mergedD->SetFillColor(kBlue);\n",
    "h_lep_charge_mergedD->Draw();"
   ]
  },
  {
   "cell_type": "code",
   "execution_count": null,
   "metadata": {
    "collapsed": false
   },
   "outputs": [],
   "source": [
    "cdCh->Draw();"
   ]
  },
  {
   "cell_type": "code",
   "execution_count": null,
   "metadata": {
    "collapsed": true
   },
   "outputs": [],
   "source": [
    " TCanvas *cdEtc20 = new TCanvas(\"cdEtc20\",\"cdEtc20\",10,10,900,900);\n",
    "    TText tdEtc20; tdEtc20.SetTextFont(42); tdEtc20.SetTextAlign(21);\n",
    "    cdEtc20->Divide(2,2);\n",
    "    cdEtc20->cd(1); h_lep_etc20_Dww->Draw();\n",
    "    cdEtc20->cd(2); h_lep_etc20_Dzz->Draw();\n",
    "    cdEtc20->cd(3); h_lep_etc20_Dwz->Draw();\n",
    "    cdEtc20->cd(4); h_lep_etc20_mergedD->Draw();"
   ]
  },
  {
   "cell_type": "code",
   "execution_count": null,
   "metadata": {
    "collapsed": true
   },
   "outputs": [],
   "source": [
    "TList *listDEtc20 = new TList;\n",
    "  listDEtc20->Add(h_lep_etc20_Dww);\n",
    "  listDEtc20->Add(h_lep_etc20_Dzz);\n",
    "  listDEtc20->Add(h_lep_etc20_Dwz);\n",
    "\n",
    "  \n",
    "h_lep_etc20_mergedD->Reset();\n",
    "h_lep_etc20_mergedD->Merge(listDEtc20);\n",
    "h_lep_etc20_mergedD->SetFillColor(kBlue);\n",
    "h_lep_etc20_mergedD->Draw();"
   ]
  },
  {
   "cell_type": "code",
   "execution_count": null,
   "metadata": {
    "collapsed": false
   },
   "outputs": [],
   "source": [
    "cdEtc20->Draw();"
   ]
  },
  {
   "cell_type": "code",
   "execution_count": null,
   "metadata": {
    "collapsed": true
   },
   "outputs": [],
   "source": [
    " TCanvas *cdPtc30 = new TCanvas(\"cdPtc30\",\"cdPtc30\",10,10,900,900);\n",
    "    TText tdPtc30; tdPtc30.SetTextFont(42); tdPtc30.SetTextAlign(21);\n",
    "    cdPtc30->Divide(2,2);\n",
    "    cdPtc30->cd(1); h_lep_ptc30_Dww->Draw();\n",
    "    cdPtc30->cd(2); h_lep_ptc30_Dzz->Draw();\n",
    "    cdPtc30->cd(3); h_lep_ptc30_Dwz->Draw();\n",
    "    cdPtc30->cd(4); h_lep_ptc30_mergedD->Draw();"
   ]
  },
  {
   "cell_type": "code",
   "execution_count": null,
   "metadata": {
    "collapsed": false
   },
   "outputs": [],
   "source": [
    "TList *listDPtc30 = new TList;\n",
    "  listDPtc30->Add(h_lep_ptc30_Dww);\n",
    "  listDPtc30->Add(h_lep_ptc30_Dzz);\n",
    "  listDPtc30->Add(h_lep_ptc30_Dwz);\n",
    "\n",
    "  \n",
    "h_lep_ptc30_mergedD->Reset();\n",
    "h_lep_ptc30_mergedD->Merge(listDPtc30);\n",
    "h_lep_ptc30_mergedD->SetFillColor(kBlue);\n",
    "h_lep_ptc30_mergedD->Draw();"
   ]
  },
  {
   "cell_type": "code",
   "execution_count": null,
   "metadata": {
    "collapsed": false
   },
   "outputs": [],
   "source": [
    "cdPtc30->Draw();"
   ]
  },
  {
   "cell_type": "code",
   "execution_count": null,
   "metadata": {
    "collapsed": true
   },
   "outputs": [],
   "source": [
    "TCanvas *cdZ0 = new TCanvas(\"cdZ0\",\"cdZ0\",10,10,900,900);\n",
    "    TText tdZ0; tdZ0.SetTextFont(42); tdZ0.SetTextAlign(21);\n",
    "    cdZ0->Divide(2,2);\n",
    "    cdZ0->cd(1); h_lep_z0_Dww->Draw();\n",
    "    cdZ0->cd(2); h_lep_z0_Dzz->Draw();\n",
    "    cdZ0->cd(3); h_lep_z0_Dwz->Draw();\n",
    "    cdZ0->cd(4); h_lep_z0_mergedD->Draw();"
   ]
  },
  {
   "cell_type": "code",
   "execution_count": null,
   "metadata": {
    "collapsed": true
   },
   "outputs": [],
   "source": [
    "TList *listDZ0 = new TList;\n",
    "  listDZ0->Add(h_lep_z0_Dww);\n",
    "  listDZ0->Add(h_lep_z0_Dzz);\n",
    "  listDZ0->Add(h_lep_z0_Dwz);\n",
    "\n",
    "  \n",
    "h_lep_z0_mergedD->Reset();\n",
    "h_lep_z0_mergedD->Merge(listDZ0);\n",
    "h_lep_z0_mergedD->SetFillColor(kBlue);\n",
    "h_lep_z0_mergedD->Draw();"
   ]
  },
  {
   "cell_type": "code",
   "execution_count": null,
   "metadata": {
    "collapsed": false
   },
   "outputs": [],
   "source": [
    "cdZ0->Draw();"
   ]
  },
  {
   "cell_type": "code",
   "execution_count": null,
   "metadata": {
    "collapsed": true
   },
   "outputs": [],
   "source": [
    "TCanvas *cdD0 = new TCanvas(\"cdD0\",\"cdD0\",10,10,900,900);\n",
    "    TText tdD0; tdD0.SetTextFont(42); tdD0.SetTextAlign(21);\n",
    "    cdD0->Divide(2,2);\n",
    "    cdD0->cd(1); h_lep_d0_Dww->Draw();\n",
    "    cdD0->cd(2); h_lep_d0_Dzz->Draw();\n",
    "    cdD0->cd(3); h_lep_d0_Dwz->Draw();\n",
    "    cdD0->cd(4); h_lep_d0_mergedD->Draw();"
   ]
  },
  {
   "cell_type": "code",
   "execution_count": null,
   "metadata": {
    "collapsed": true
   },
   "outputs": [],
   "source": [
    "TList *listDD0 = new TList;\n",
    "  listDD0->Add(h_lep_d0_Dww);\n",
    "  listDD0->Add(h_lep_d0_Dzz);\n",
    "  listDD0->Add(h_lep_d0_Dwz);\n",
    "\n",
    "  \n",
    "h_lep_d0_mergedD->Reset();\n",
    "h_lep_d0_mergedD->Merge(listDD0);\n",
    "h_lep_d0_mergedD->SetFillColor(kBlue);\n",
    "h_lep_d0_mergedD->Draw();"
   ]
  },
  {
   "cell_type": "code",
   "execution_count": null,
   "metadata": {
    "collapsed": false
   },
   "outputs": [],
   "source": [
    "cdD0->Draw();"
   ]
  },
  {
   "cell_type": "code",
   "execution_count": null,
   "metadata": {
    "collapsed": true
   },
   "outputs": [],
   "source": [
    " TCanvas *cdPt_tl = new TCanvas(\"cdPt_tl\",\"cdPt_tl\",10,10,900,900);\n",
    "    TText tdPt_tl; tdPt_tl.SetTextFont(42); tdPt_tl.SetTextAlign(21);\n",
    "    cdPt_tl->Divide(2,2);\n",
    "    cdPt_tl->cd(1); h_lep_pt_tl_Dww->Draw();\n",
    "    cdPt_tl->cd(2); h_lep_pt_tl_Dzz->Draw();\n",
    "    cdPt_tl->cd(3); h_lep_pt_tl_Dwz->Draw();\n",
    "    cdPt_tl->cd(4); h_lep_pt_tl_mergedD->Draw();"
   ]
  },
  {
   "cell_type": "code",
   "execution_count": null,
   "metadata": {
    "collapsed": true
   },
   "outputs": [],
   "source": [
    " TList *listDPt_tl = new TList;\n",
    "  listDPt_tl->Add(h_lep_pt_tl_Dww);\n",
    "  listDPt_tl->Add(h_lep_pt_tl_Dzz);\n",
    "  listDPt_tl->Add(h_lep_pt_tl_Dwz);\n",
    "\n",
    "  \n",
    "h_lep_pt_tl_mergedD->Reset();\n",
    "h_lep_pt_tl_mergedD->Merge(listDPt_tl);\n",
    "h_lep_pt_tl_mergedD->SetFillColor(kBlue);\n",
    "h_lep_pt_tl_mergedD->Draw();"
   ]
  },
  {
   "cell_type": "code",
   "execution_count": null,
   "metadata": {
    "collapsed": false
   },
   "outputs": [],
   "source": [
    "cdPt_tl->Draw();"
   ]
  },
  {
   "cell_type": "code",
   "execution_count": null,
   "metadata": {
    "collapsed": false
   },
   "outputs": [],
   "source": [
    "TCanvas *cdEta_tl = new TCanvas(\"cdEta_tl\",\"cdEta_tl\",10,10,900,900);\n",
    "    TText tdEta_tl; tdEta_tl.SetTextFont(42); tdEta_tl.SetTextAlign(21);\n",
    "    cdEta_tl->Divide(2,2);\n",
    "    cdEta_tl->cd(1); h_lep_eta_tl_Dww->Draw();\n",
    "    cdEta_tl->cd(2); h_lep_eta_tl_Dzz->Draw();\n",
    "    cdEta_tl->cd(3); h_lep_eta_tl_Dwz->Draw();\n",
    "    cdEta_tl->cd(4); h_lep_eta_tl_mergedD->Draw();\n",
    "\n"
   ]
  },
  {
   "cell_type": "code",
   "execution_count": null,
   "metadata": {
    "collapsed": true
   },
   "outputs": [],
   "source": [
    "TList *listDEta_tl = new TList;\n",
    "  listDEta_tl->Add(h_lep_eta_tl_Dww);\n",
    "  listDEta_tl->Add(h_lep_eta_tl_Dzz);\n",
    "  listDEta_tl->Add(h_lep_eta_tl_Dwz);\n",
    "\n",
    "  \n",
    "h_lep_eta_tl_mergedD->Reset();\n",
    "h_lep_eta_tl_mergedD->Merge(listDEta_tl);\n",
    "h_lep_eta_tl_mergedD->SetFillColor(kBlue);\n",
    "h_lep_eta_tl_mergedD->Draw();"
   ]
  },
  {
   "cell_type": "code",
   "execution_count": null,
   "metadata": {
    "collapsed": false
   },
   "outputs": [],
   "source": [
    "cdEta_tl->Draw();"
   ]
  },
  {
   "cell_type": "code",
   "execution_count": null,
   "metadata": {
    "collapsed": true
   },
   "outputs": [],
   "source": [
    " TCanvas *cdPhi_tl = new TCanvas(\"cdPhi_tl\",\"cdPhi_tl\",10,10,900,900);\n",
    "    TText tdphi_tl; tdphi_tl.SetTextFont(42); tdphi_tl.SetTextAlign(21);\n",
    "    cdPhi_tl->Divide(2,2);\n",
    "    cdPhi_tl->cd(1); h_lep_phi_tl_Dww->Draw();\n",
    "    cdPhi_tl->cd(2); h_lep_phi_tl_Dzz->Draw();\n",
    "    cdPhi_tl->cd(3); h_lep_phi_tl_Dwz->Draw();\n",
    "    cdPhi_tl->cd(4); h_lep_phi_tl_mergedD->Draw();\n"
   ]
  },
  {
   "cell_type": "code",
   "execution_count": null,
   "metadata": {
    "collapsed": true
   },
   "outputs": [],
   "source": [
    "TList *listDPhi_tl = new TList;\n",
    "  listDPhi_tl->Add(h_lep_phi_tl_Dww);\n",
    "  listDPhi_tl->Add(h_lep_phi_tl_Dzz);\n",
    "  listDPhi_tl->Add(h_lep_phi_tl_Dwz);\n",
    "\n",
    "  \n",
    "h_lep_phi_tl_mergedD->Reset();\n",
    "h_lep_phi_tl_mergedD->Merge(listDPhi_tl);\n",
    "h_lep_phi_tl_mergedD->SetFillColor(kBlue);\n",
    "h_lep_phi_tl_mergedD->Draw();"
   ]
  },
  {
   "cell_type": "code",
   "execution_count": null,
   "metadata": {
    "collapsed": false
   },
   "outputs": [],
   "source": [
    "cdPhi_tl->Draw();"
   ]
  },
  {
   "cell_type": "code",
   "execution_count": null,
   "metadata": {
    "collapsed": true
   },
   "outputs": [],
   "source": [
    "TCanvas *cdE_tl = new TCanvas(\"cdE_tl\",\"cdE_tl\",10,10,900,900);\n",
    "    TText tdE_tl; tdE_tl.SetTextFont(42); tdE_tl.SetTextAlign(21);\n",
    "    cdE_tl->Divide(2,2);\n",
    "    cdE_tl->cd(1); h_lep_E_tl_Dww->Draw();\n",
    "    cdE_tl->cd(2); h_lep_E_tl_Dzz->Draw();\n",
    "    cdE_tl->cd(3); h_lep_E_tl_Dwz->Draw();\n",
    "    cdE_tl->cd(4); h_lep_E_tl_mergedD->Draw();\n"
   ]
  },
  {
   "cell_type": "code",
   "execution_count": null,
   "metadata": {
    "collapsed": true
   },
   "outputs": [],
   "source": [
    "TList *listDE_tl = new TList;\n",
    "  listDE_tl->Add(h_lep_E_tl_Dww);\n",
    "  listDE_tl->Add(h_lep_E_tl_Dzz);\n",
    "  listDE_tl->Add(h_lep_E_tl_Dwz);\n",
    "\n",
    "  \n",
    "h_lep_E_tl_mergedD->Reset();\n",
    "h_lep_E_tl_mergedD->Merge(listDE_tl);\n",
    "h_lep_E_tl_mergedD->SetFillColor(kBlue);\n",
    "h_lep_E_tl_mergedD->Draw();"
   ]
  },
  {
   "cell_type": "code",
   "execution_count": null,
   "metadata": {
    "collapsed": false
   },
   "outputs": [],
   "source": [
    "cdE_tl->Draw();"
   ]
  },
  {
   "cell_type": "code",
   "execution_count": null,
   "metadata": {
    "collapsed": true
   },
   "outputs": [],
   "source": [
    " TCanvas *cdCh_tl = new TCanvas(\"cdCh_tl\",\"cdCh_tl\",10,10,900,900);\n",
    "    TText tdCh_tl; tdCh_tl.SetTextFont(42); tdCh_tl.SetTextAlign(21);\n",
    "    cdCh_tl->Divide(2,2);\n",
    "    cdCh_tl->cd(1); h_lep_charge_tl_Dww->Draw();\n",
    "    cdCh_tl->cd(2); h_lep_charge_tl_Dzz->Draw();\n",
    "    cdCh_tl->cd(3); h_lep_charge_tl_Dwz->Draw();\n",
    "    cdCh_tl->cd(4); h_lep_charge_tl_mergedD->Draw();\n"
   ]
  },
  {
   "cell_type": "code",
   "execution_count": null,
   "metadata": {
    "collapsed": true
   },
   "outputs": [],
   "source": [
    "TList *listDCh_tl = new TList;\n",
    "  listDCh_tl->Add(h_lep_charge_tl_Dww);\n",
    "  listDCh_tl->Add(h_lep_charge_tl_Dzz);\n",
    "  listDCh_tl->Add(h_lep_charge_tl_Dwz);\n",
    "\n",
    "  \n",
    "h_lep_charge_tl_mergedD->Reset();\n",
    "h_lep_charge_tl_mergedD->Merge(listDCh_tl);\n",
    "h_lep_charge_tl_mergedD->SetFillColor(kBlue);\n",
    "h_lep_charge_tl_mergedD->Draw();"
   ]
  },
  {
   "cell_type": "code",
   "execution_count": null,
   "metadata": {
    "collapsed": false
   },
   "outputs": [],
   "source": [
    "cdCh_tl->Draw();"
   ]
  },
  {
   "cell_type": "code",
   "execution_count": null,
   "metadata": {
    "collapsed": true
   },
   "outputs": [],
   "source": [
    " TCanvas *cdEtc20_tl = new TCanvas(\"cdEtc20_tl\",\"cdEtc20_tl\",10,10,900,900);\n",
    "    TText tdEtc20_tl; tdEtc20_tl.SetTextFont(42); tdEtc20_tl.SetTextAlign(21);\n",
    "    cdEtc20_tl->Divide(2,2);\n",
    "    cdEtc20_tl->cd(1); h_lep_etc20_tl_Dww->Draw();\n",
    "    cdEtc20_tl->cd(2); h_lep_etc20_tl_Dzz->Draw();\n",
    "    cdEtc20_tl->cd(3); h_lep_etc20_tl_Dwz->Draw();\n",
    "    cdEtc20_tl->cd(4); h_lep_etc20_tl_mergedD->Draw();"
   ]
  },
  {
   "cell_type": "code",
   "execution_count": null,
   "metadata": {
    "collapsed": true
   },
   "outputs": [],
   "source": [
    "TList *listDEtc20_tl = new TList;\n",
    "  listDEtc20_tl->Add(h_lep_etc20_tl_Dww);\n",
    "  listDEtc20_tl->Add(h_lep_etc20_tl_Dzz);\n",
    "  listDEtc20_tl->Add(h_lep_etc20_tl_Dwz);\n",
    "\n",
    "  \n",
    "h_lep_etc20_tl_mergedD->Reset();\n",
    "h_lep_etc20_tl_mergedD->Merge(listDEtc20_tl);\n",
    "h_lep_etc20_tl_mergedD->SetFillColor(kBlue);\n",
    "h_lep_etc20_tl_mergedD->Draw();"
   ]
  },
  {
   "cell_type": "code",
   "execution_count": null,
   "metadata": {
    "collapsed": false
   },
   "outputs": [],
   "source": [
    "cdEtc20_tl->Draw();"
   ]
  },
  {
   "cell_type": "code",
   "execution_count": null,
   "metadata": {
    "collapsed": true
   },
   "outputs": [],
   "source": [
    "TCanvas *cdPtc30_tl = new TCanvas(\"cdPtc30_tl\",\"cdPtc30_tl\",10,10,900,900);\n",
    "    TText tdPtc30_tl; tdPtc30_tl.SetTextFont(42); tdPtc30_tl.SetTextAlign(21);\n",
    "    cdPtc30_tl->Divide(2,2);\n",
    "    cdPtc30_tl->cd(1); h_lep_ptc30_tl_Dww->Draw();\n",
    "    cdPtc30_tl->cd(2); h_lep_ptc30_tl_Dzz->Draw();\n",
    "    cdPtc30_tl->cd(3); h_lep_ptc30_tl_Dwz->Draw();\n",
    "    cdPtc30_tl->cd(4); h_lep_ptc30_tl_mergedD->Draw();\n"
   ]
  },
  {
   "cell_type": "code",
   "execution_count": null,
   "metadata": {
    "collapsed": true
   },
   "outputs": [],
   "source": [
    "TList *listDPtc30_tl = new TList;\n",
    "  listDPtc30_tl->Add(h_lep_ptc30_tl_Dww);\n",
    "  listDPtc30_tl->Add(h_lep_ptc30_tl_Dzz);\n",
    "  listDPtc30_tl->Add(h_lep_ptc30_tl_Dwz);\n",
    "\n",
    "  \n",
    "h_lep_ptc30_tl_mergedD->Reset();\n",
    "h_lep_ptc30_tl_mergedD->Merge(listDPtc30);\n",
    "h_lep_ptc30_tl_mergedD->SetFillColor(kBlue);\n",
    "h_lep_ptc30_tl_mergedD->Draw();"
   ]
  },
  {
   "cell_type": "code",
   "execution_count": null,
   "metadata": {
    "collapsed": false
   },
   "outputs": [],
   "source": [
    "cdPtc30_tl->Draw();"
   ]
  },
  {
   "cell_type": "code",
   "execution_count": null,
   "metadata": {
    "collapsed": true
   },
   "outputs": [],
   "source": [
    "TCanvas *cdZ0_tl = new TCanvas(\"cdZ0_tl\",\"cdZ0_tl\",10,10,900,900);\n",
    "    TText tdZ0_tl; tdZ0_tl.SetTextFont(42); tdZ0_tl.SetTextAlign(21);\n",
    "    cdZ0_tl->Divide(2,2);\n",
    "    cdZ0_tl->cd(1); h_lep_z0_tl_Dww->Draw();\n",
    "    cdZ0_tl->cd(2); h_lep_z0_tl_Dzz->Draw();\n",
    "    cdZ0_tl->cd(3); h_lep_z0_tl_Dwz->Draw();\n",
    "    cdZ0_tl->cd(4); h_lep_z0_tl_mergedD->Draw();\n"
   ]
  },
  {
   "cell_type": "code",
   "execution_count": null,
   "metadata": {
    "collapsed": true
   },
   "outputs": [],
   "source": [
    "TList *listDZ0_tl = new TList;\n",
    "  listDZ0_tl->Add(h_lep_z0_tl_Dww);\n",
    "  listDZ0_tl->Add(h_lep_z0_tl_Dzz);\n",
    "  listDZ0_tl->Add(h_lep_z0_tl_Dwz);\n",
    "\n",
    "  \n",
    "h_lep_z0_tl_mergedD->Reset();\n",
    "h_lep_z0_tl_mergedD->Merge(listDZ0_tl);\n",
    "h_lep_z0_tl_mergedD->SetFillColor(kBlue);\n",
    "h_lep_z0_tl_mergedD->Draw();\n"
   ]
  },
  {
   "cell_type": "code",
   "execution_count": null,
   "metadata": {
    "collapsed": false
   },
   "outputs": [],
   "source": [
    "cdZ0_tl->Draw();"
   ]
  },
  {
   "cell_type": "code",
   "execution_count": null,
   "metadata": {
    "collapsed": true
   },
   "outputs": [],
   "source": [
    "TCanvas *cdD0_tl = new TCanvas(\"cdD0_tl\",\"cdD0_tl\",10,10,900,900);\n",
    "    TText tdD0_tl; tdD0_tl.SetTextFont(42); tdD0_tl.SetTextAlign(21);\n",
    "    cdD0_tl->Divide(2,2);\n",
    "    cdD0_tl->cd(1); h_lep_d0_tl_Dww->Draw();\n",
    "    cdD0_tl->cd(2); h_lep_d0_tl_Dzz->Draw();\n",
    "    cdD0_tl->cd(3); h_lep_d0_tl_Dwz->Draw();\n",
    "    cdD0_tl->cd(4); h_lep_d0_tl_mergedD->Draw();\n",
    "\n"
   ]
  },
  {
   "cell_type": "code",
   "execution_count": null,
   "metadata": {
    "collapsed": true
   },
   "outputs": [],
   "source": [
    "TList *listDD0_tl = new TList;\n",
    "  listDD0_tl->Add(h_lep_d0_tl_Dww);\n",
    "  listDD0_tl->Add(h_lep_d0_tl_Dzz);\n",
    "  listDD0_tl->Add(h_lep_d0_tl_Dwz);\n",
    "\n",
    "  \n",
    "h_lep_d0_tl_mergedD->Reset();\n",
    "h_lep_d0_tl_mergedD->Merge(listDD0_tl);\n",
    "h_lep_d0_tl_mergedD->SetFillColor(kBlue);\n",
    "h_lep_d0_tl_mergedD->Draw();"
   ]
  },
  {
   "cell_type": "code",
   "execution_count": null,
   "metadata": {
    "collapsed": false
   },
   "outputs": [],
   "source": [
    "cdD0_tl->Draw();"
   ]
  },
  {
   "cell_type": "code",
   "execution_count": null,
   "metadata": {
    "collapsed": true
   },
   "outputs": [],
   "source": [
    "TCanvas *cdJn = new TCanvas(\"cdJn\",\"cdJn\",10,10,900,900);\n",
    "    TText tdJn; tdJn.SetTextFont(42); tdJn.SetTextAlign(21);\n",
    "    cdJn->Divide(2,2);\n",
    "    cdJn->cd(1); h_jet_n_Dww->Draw();\n",
    "    cdJn->cd(2); h_jet_n_Dzz->Draw();\n",
    "    cdJn->cd(3); h_jet_n_Dwz->Draw();\n",
    "    cdJn->cd(4); h_jet_n_mergedD->Draw(); \n"
   ]
  },
  {
   "cell_type": "code",
   "execution_count": null,
   "metadata": {
    "collapsed": true
   },
   "outputs": [],
   "source": [
    "TList *listDJn = new TList;\n",
    "  listDJn->Add(h_jet_n_Dww);\n",
    "  listDJn->Add(h_jet_n_Dzz);\n",
    "  listDJn->Add(h_jet_n_Dwz);\n",
    "\n",
    "  \n",
    "h_jet_n_mergedD->Reset();\n",
    "h_jet_n_mergedD->Merge(listDJn);\n",
    "h_jet_n_mergedD->SetFillColor(kBlue);\n",
    "h_jet_n_mergedD->Draw();"
   ]
  },
  {
   "cell_type": "code",
   "execution_count": null,
   "metadata": {
    "collapsed": false
   },
   "outputs": [],
   "source": [
    "cdJn->Draw();"
   ]
  },
  {
   "cell_type": "code",
   "execution_count": null,
   "metadata": {
    "collapsed": true
   },
   "outputs": [],
   "source": [
    "TCanvas *cdJnPt = new TCanvas(\"cdJnPt\",\"cdJnPt\",10,10,900,900);\n",
    "    TText tdJnPt; tdJnPt.SetTextFont(42); tdJnPt.SetTextAlign(21);\n",
    "    cdJnPt->Divide(2,2);\n",
    "    cdJnPt->cd(1); h_jet_pt_Dww->Draw();\n",
    "    cdJnPt->cd(2); h_jet_pt_Dzz->Draw();\n",
    "    cdJnPt->cd(3); h_jet_pt_Dwz->Draw();\n",
    "    cdJnPt->cd(4); h_jet_pt_mergedD->Draw(); \n"
   ]
  },
  {
   "cell_type": "code",
   "execution_count": null,
   "metadata": {
    "collapsed": true
   },
   "outputs": [],
   "source": [
    "TList *listDJnPt = new TList;\n",
    "  listDJnPt->Add(h_jet_pt_Dww);\n",
    "  listDJnPt->Add(h_jet_pt_Dzz);\n",
    "  listDJnPt->Add(h_jet_pt_Dwz);\n",
    "\n",
    "  \n",
    "h_jet_pt_mergedD->Reset();\n",
    "h_jet_pt_mergedD->Merge(listDJnPt);\n",
    "h_jet_pt_mergedD->SetFillColor(kBlue);\n",
    "h_jet_pt_mergedD->Draw();"
   ]
  },
  {
   "cell_type": "code",
   "execution_count": null,
   "metadata": {
    "collapsed": false
   },
   "outputs": [],
   "source": [
    "cdJnPt->Draw();"
   ]
  },
  {
   "cell_type": "code",
   "execution_count": null,
   "metadata": {
    "collapsed": true
   },
   "outputs": [],
   "source": [
    "TCanvas *cdJnEta = new TCanvas(\"cdJnEta\",\"cdJnEta\",10,10,900,900);\n",
    "    TText tdJnEta; tdJnEta.SetTextFont(42); tdJnEta.SetTextAlign(21);\n",
    "    cdJnEta->Divide(2,2);\n",
    "    cdJnEta->cd(1); h_jet_eta_Dww->Draw();\n",
    "    cdJnEta->cd(2); h_jet_eta_Dzz->Draw();\n",
    "    cdJnEta->cd(3); h_jet_eta_Dwz->Draw();\n",
    "    cdJnEta->cd(4); h_jet_eta_mergedD->Draw(); "
   ]
  },
  {
   "cell_type": "code",
   "execution_count": null,
   "metadata": {
    "collapsed": true
   },
   "outputs": [],
   "source": [
    "TList *listDJnEta = new TList;\n",
    "  listDJnEta->Add(h_jet_eta_Dww);\n",
    "  listDJnEta->Add(h_jet_eta_Dzz);\n",
    "  listDJnEta->Add(h_jet_eta_Dwz);\n",
    "\n",
    "  \n",
    "h_jet_eta_mergedD->Reset();\n",
    "h_jet_eta_mergedD->Merge(listDJnEta);\n",
    "h_jet_eta_mergedD->SetFillColor(kBlue);\n",
    "h_jet_eta_mergedD->Draw();"
   ]
  },
  {
   "cell_type": "code",
   "execution_count": null,
   "metadata": {
    "collapsed": false
   },
   "outputs": [],
   "source": [
    "cdJnEta->Draw();"
   ]
  },
  {
   "cell_type": "code",
   "execution_count": null,
   "metadata": {
    "collapsed": true
   },
   "outputs": [],
   "source": [
    "TCanvas *cdJm = new TCanvas(\"cdJm\",\"cdJm\",10,10,900,900);\n",
    "    TText tdJm; tdJm.SetTextFont(42); tdJm.SetTextAlign(21);\n",
    "    cdJm->Divide(2,2);\n",
    "    cdJm->cd(1); h_jet_m_Dww->Draw();\n",
    "    cdJm->cd(2); h_jet_m_Dzz->Draw();\n",
    "    cdJm->cd(3); h_jet_m_Dwz->Draw();\n",
    "    cdJm->cd(4); h_jet_m_mergedD->Draw(); \n"
   ]
  },
  {
   "cell_type": "code",
   "execution_count": null,
   "metadata": {
    "collapsed": true
   },
   "outputs": [],
   "source": [
    "TList *listDJm = new TList;\n",
    "  listDJm->Add(h_jet_m_Dww);\n",
    "  listDJm->Add(h_jet_m_Dzz);\n",
    "  listDJm->Add(h_jet_m_Dwz);\n",
    "\n",
    "  \n",
    "h_jet_m_mergedD->Reset();\n",
    "h_jet_m_mergedD->Merge(listDJm);\n",
    "h_jet_m_mergedD->SetFillColor(kBlue);\n",
    "h_jet_m_mergedD->Draw();"
   ]
  },
  {
   "cell_type": "code",
   "execution_count": null,
   "metadata": {
    "collapsed": false
   },
   "outputs": [],
   "source": [
    "cdJm->Draw();"
   ]
  },
  {
   "cell_type": "code",
   "execution_count": null,
   "metadata": {
    "collapsed": true
   },
   "outputs": [],
   "source": [
    "TCanvas *cdJnJvf = new TCanvas(\"cdJnJvf\",\"cdJnJvf\",10,10,900,900);\n",
    "    TText tdJnJvf; tdJnJvf.SetTextFont(42); tdJnJvf.SetTextAlign(21);\n",
    "    cdJnJvf->Divide(2,2);\n",
    "    cdJnJvf->cd(1); h_jet_jvf_Dww->Draw();\n",
    "    cdJnJvf->cd(2); h_jet_jvf_Dzz->Draw();\n",
    "    cdJnJvf->cd(3); h_jet_jvf_Dwz->Draw();\n",
    "    cdJnJvf->cd(4); h_jet_jvf_mergedD->Draw(); \n"
   ]
  },
  {
   "cell_type": "code",
   "execution_count": null,
   "metadata": {
    "collapsed": true
   },
   "outputs": [],
   "source": [
    "TList *listDJnJvf = new TList;\n",
    "  listDJnJvf->Add(h_jet_jvf_Dww);\n",
    "  listDJnJvf->Add(h_jet_jvf_Dzz);\n",
    "  listDJnJvf->Add(h_jet_jvf_Dwz);\n",
    "\n",
    "  \n",
    "h_jet_jvf_mergedD->Reset();\n",
    "h_jet_jvf_mergedD->Merge(listDJnJvf);\n",
    "h_jet_jvf_mergedD->SetFillColor(kBlue);\n",
    "h_jet_jvf_mergedD->Draw();"
   ]
  },
  {
   "cell_type": "code",
   "execution_count": null,
   "metadata": {
    "collapsed": false
   },
   "outputs": [],
   "source": [
    "cdJnJvf->Draw();"
   ]
  },
  {
   "cell_type": "code",
   "execution_count": null,
   "metadata": {
    "collapsed": true
   },
   "outputs": [],
   "source": [
    "TCanvas *cdJMV1 = new TCanvas(\"cdJMV1\",\"cdJMV1\",10,10,900,900);\n",
    "    TText tdJMV1; tdJMV1.SetTextFont(42); tdJMV1.SetTextAlign(21);\n",
    "    cdJMV1->Divide(2,2);\n",
    "    cdJMV1->cd(1); h_jet_MV1_Dww->Draw();\n",
    "    cdJMV1->cd(2); h_jet_MV1_Dzz->Draw();\n",
    "    cdJMV1->cd(3); h_jet_MV1_Dwz->Draw();\n",
    "    cdJMV1->cd(4); h_jet_MV1_mergedD->Draw(); "
   ]
  },
  {
   "cell_type": "code",
   "execution_count": null,
   "metadata": {
    "collapsed": true
   },
   "outputs": [],
   "source": [
    "TList *listDJMV1 = new TList;\n",
    "  listDJMV1->Add(h_jet_MV1_Dww);\n",
    "  listDJMV1->Add(h_jet_MV1_Dzz);\n",
    "  listDJMV1->Add(h_jet_MV1_Dwz);\n",
    "\n",
    "  \n",
    "h_jet_MV1_mergedD->Reset();\n",
    "h_jet_MV1_mergedD->Merge(listDJMV1);\n",
    "h_jet_MV1_mergedD->SetFillColor(kBlue);\n",
    "h_jet_MV1_mergedD->Draw();"
   ]
  },
  {
   "cell_type": "code",
   "execution_count": null,
   "metadata": {
    "collapsed": false
   },
   "outputs": [],
   "source": [
    "cdJMV1->Draw();"
   ]
  },
  {
   "cell_type": "code",
   "execution_count": null,
   "metadata": {
    "collapsed": true
   },
   "outputs": [],
   "source": [
    "TCanvas *cdPVXP_n = new TCanvas(\"cdPVXP_n\",\"cdPVXP_n\",10,10,900,900);\n",
    "    TText tdPVXP_n; tdPVXP_n.SetTextFont(42); tdPVXP_n.SetTextAlign(21);\n",
    "    cdPVXP_n->Divide(2,2);\n",
    "    cdPVXP_n->cd(1); h_pvxp_n_Dww->Draw();\n",
    "    cdPVXP_n->cd(2); h_pvxp_n_Dzz->Draw();\n",
    "    cdPVXP_n->cd(3); h_pvxp_n_Dwz->Draw();\n",
    "    cdPVXP_n->cd(4); h_pvxp_n_mergedD->Draw(); "
   ]
  },
  {
   "cell_type": "code",
   "execution_count": null,
   "metadata": {
    "collapsed": true
   },
   "outputs": [],
   "source": [
    "TList *listDPVXP_n = new TList;\n",
    "  listDPVXP_n->Add(h_pvxp_n_Dww);\n",
    "  listDPVXP_n->Add(h_pvxp_n_Dzz);\n",
    "  listDPVXP_n->Add(h_pvxp_n_Dwz);\n",
    "\n",
    "  \n",
    "h_pvxp_n_mergedD->Reset();\n",
    "h_pvxp_n_mergedD->Merge(listDPVXP_n);\n",
    "h_pvxp_n_mergedD->SetFillColor(kBlue);\n",
    "h_pvxp_n_mergedD->Draw();"
   ]
  },
  {
   "cell_type": "code",
   "execution_count": null,
   "metadata": {
    "collapsed": false
   },
   "outputs": [],
   "source": [
    "cdPVXP_n->Draw();"
   ]
  },
  {
   "cell_type": "code",
   "execution_count": null,
   "metadata": {
    "collapsed": true
   },
   "outputs": [],
   "source": [
    "TCanvas *cdVXP_z = new TCanvas(\"cdVXP_z\",\"cdVXP_z\",10,10,900,900);\n",
    "    TText tdVXP_z; tdVXP_z.SetTextFont(42); tdVXP_z.SetTextAlign(21);\n",
    "    cdVXP_z->Divide(2,2);\n",
    "    cdVXP_z->cd(1); h_vxp_z_Dww->Draw();\n",
    "    cdVXP_z->cd(2); h_vxp_z_Dzz->Draw();\n",
    "    cdVXP_z->cd(3); h_vxp_z_Dwz->Draw();\n",
    "    cdVXP_z->cd(4); h_vxp_z_mergedD->Draw(); "
   ]
  },
  {
   "cell_type": "code",
   "execution_count": null,
   "metadata": {
    "collapsed": true
   },
   "outputs": [],
   "source": [
    "TList *listDVXP_z = new TList;\n",
    "  listDVXP_z->Add(h_vxp_z_Dww);\n",
    "  listDVXP_z->Add(h_vxp_z_Dzz);\n",
    "  listDVXP_z->Add(h_vxp_z_Dwz);\n",
    "\n",
    "  \n",
    "h_vxp_z_mergedD->Reset();\n",
    "h_vxp_z_mergedD->Merge(listDVXP_z);\n",
    "h_vxp_z_mergedD->SetFillColor(kBlue);\n",
    "h_vxp_z_mergedD->Draw();"
   ]
  },
  {
   "cell_type": "code",
   "execution_count": null,
   "metadata": {
    "collapsed": false
   },
   "outputs": [],
   "source": [
    "cdVXP_z->Draw();"
   ]
  },
  {
   "cell_type": "code",
   "execution_count": null,
   "metadata": {
    "collapsed": true
   },
   "outputs": [],
   "source": [
    "TCanvas *cdMet_et = new TCanvas(\"cdMet_et\",\"cdMet_et\",10,10,900,900);\n",
    "    TText tdMet_et; tdMet_et.SetTextFont(42); tdMet_et.SetTextAlign(21);\n",
    "    cdMet_et->Divide(2,2);\n",
    "    cdMet_et->cd(1); h_met_et_Dww->Draw();\n",
    "    cdMet_et->cd(2); h_met_et_Dzz->Draw();\n",
    "    cdMet_et->cd(3); h_met_et_Dwz->Draw();\n",
    "    cdMet_et->cd(4); h_met_et_mergedD->Draw(); "
   ]
  },
  {
   "cell_type": "code",
   "execution_count": null,
   "metadata": {
    "collapsed": true
   },
   "outputs": [],
   "source": [
    "TList *listDMet_et = new TList;\n",
    "  listDMet_et->Add(h_met_et_Dww);\n",
    "  listDMet_et->Add(h_met_et_Dzz);\n",
    "  listDMet_et->Add(h_met_et_Dwz);\n",
    "\n",
    "  \n",
    "h_met_et_mergedD->Reset();\n",
    "h_met_et_mergedD->Merge(listDMet_et);\n",
    "h_met_et_mergedD->SetFillColor(kBlue);\n",
    "h_met_et_mergedD->Draw();"
   ]
  },
  {
   "cell_type": "code",
   "execution_count": null,
   "metadata": {
    "collapsed": false
   },
   "outputs": [],
   "source": [
    "cdMet_et->Draw();"
   ]
  },
  {
   "cell_type": "code",
   "execution_count": null,
   "metadata": {
    "collapsed": true
   },
   "outputs": [],
   "source": [
    "TCanvas *cdInv_mass = new TCanvas(\"cdInv_mass\",\"cdInv_mass\",10,10,900,900);\n",
    "    TText tdInv_mass; tdInv_mass.SetTextFont(42); tdInv_mass.SetTextAlign(21);\n",
    "    cdInv_mass->Divide(2,2);\n",
    "    cdInv_mass->cd(1); h_inv_mass_Dww->Draw();\n",
    "    cdInv_mass->cd(2); h_met_et_Dzz->Draw();\n",
    "    cdInv_mass->cd(3); h_met_et_Dwz->Draw();\n",
    "    cdInv_mass->cd(4); h_met_et_mergedD->Draw(); "
   ]
  },
  {
   "cell_type": "code",
   "execution_count": null,
   "metadata": {
    "collapsed": true
   },
   "outputs": [],
   "source": [
    "TList *listDInv_mass = new TList;\n",
    "  listDInv_mass->Add(h_inv_mass_Dww);\n",
    "  listDInv_mass->Add(h_inv_mass_Dzz);\n",
    "  listDInv_mass->Add(h_inv_mass_Dwz);\n",
    "\n",
    "  \n",
    "h_inv_mass_mergedD->Reset();\n",
    "h_inv_mass_mergedD->Merge(listDInv_mass);\n",
    "h_inv_mass_mergedD->SetFillColor(kBlue);\n",
    "h_inv_mass_mergedD->Draw();"
   ]
  },
  {
   "cell_type": "code",
   "execution_count": null,
   "metadata": {
    "collapsed": false
   },
   "outputs": [],
   "source": [
    "cdInv_mass->Draw();"
   ]
  },
  {
   "cell_type": "code",
   "execution_count": null,
   "metadata": {
    "collapsed": false
   },
   "outputs": [],
   "source": [
    " TCanvas *cdy = new TCanvas(\"cdy\",\"cdy\",10,10,900,700);\n",
    "    TText tdy; tdy.SetTextFont(42); tdy.SetTextAlign(21);\n",
    "    cdy->Divide(4,2);\n",
    "    cdy->cd(1); h_lep_pt_DYee1->Draw();\n",
    "    cdy->cd(2); h_lep_pt_DYee2->Draw();\n",
    "    cdy->cd(3); h_lep_pt_DYmumu1->Draw();\n",
    "    cdy->cd(4); h_lep_pt_DYmumu2->Draw();\n",
    "    cdy->cd(5); h_lep_pt_DYtautau1->Draw();\n",
    "    cdy->cd(6); h_lep_pt_DYtautau2->Draw();\n",
    "    cdy->cd(7); h_lep_pt_mergedDY->Draw();"
   ]
  },
  {
   "cell_type": "code",
   "execution_count": null,
   "metadata": {
    "collapsed": false
   },
   "outputs": [],
   "source": [
    "TList *listDY = new TList;\n",
    "  listDY->Add(h_lep_pt_DYee1);\n",
    "  listDY->Add(h_lep_pt_DYee2);\n",
    "  listDY->Add(h_lep_pt_DYmumu1);\n",
    "  listDY->Add(h_lep_pt_DYmumu2);\n",
    "  listDY->Add(h_lep_pt_DYtautau1);\n",
    "  listDY->Add(h_lep_pt_DYtautau2);\n",
    "\n",
    "  \n",
    "h_lep_pt_mergedDY->Reset();\n",
    "h_lep_pt_mergedDY->Merge(listDY);\n",
    "h_lep_pt_mergedDY->SetFillColor(kBlue+8);\n",
    "h_lep_pt_mergedDY->Draw();"
   ]
  },
  {
   "cell_type": "code",
   "execution_count": null,
   "metadata": {
    "collapsed": false
   },
   "outputs": [],
   "source": [
    "cdy->Draw();"
   ]
  },
  {
   "cell_type": "code",
   "execution_count": null,
   "metadata": {
    "collapsed": false
   },
   "outputs": [],
   "source": [
    "TCanvas *cdyEta = new TCanvas(\"cdyEta\",\"cdyEta\",10,10,1100,700);\n",
    "    TText tdyEta; tdyEta.SetTextFont(42); tdyEta.SetTextAlign(21);\n",
    "    cdyEta->Divide(4,2);\n",
    "    cdyEta->cd(1); h_lep_eta_DYee1->Draw();\n",
    "    cdyEta->cd(2); h_lep_eta_DYee2->Draw();\n",
    "    cdyEta->cd(3); h_lep_eta_DYmumu1->Draw();\n",
    "    cdyEta->cd(4); h_lep_eta_DYmumu2->Draw();\n",
    "    cdyEta->cd(5); h_lep_eta_DYtautau1->Draw();\n",
    "    cdyEta->cd(6); h_lep_eta_DYtautau2->Draw();\n",
    "    cdyEta->cd(7); h_lep_eta_mergedDY->Draw();"
   ]
  },
  {
   "cell_type": "code",
   "execution_count": null,
   "metadata": {
    "collapsed": true
   },
   "outputs": [],
   "source": [
    "TList *listDYEta = new TList;\n",
    "  listDYEta->Add(h_lep_eta_DYee1);\n",
    "  listDYEta->Add(h_lep_eta_DYee2);\n",
    "  listDYEta->Add(h_lep_eta_DYmumu1);\n",
    "  listDYEta->Add(h_lep_eta_DYmumu2);\n",
    "  listDYEta->Add(h_lep_eta_DYtautau1);\n",
    "  listDYEta->Add(h_lep_eta_DYtautau2);\n",
    "\n",
    "  \n",
    "h_lep_eta_mergedDY->Reset();\n",
    "h_lep_eta_mergedDY->Merge(listDYEta);\n",
    "h_lep_eta_mergedDY->SetFillColor(kBlue);\n",
    "h_lep_eta_mergedDY->Draw();"
   ]
  },
  {
   "cell_type": "code",
   "execution_count": null,
   "metadata": {
    "collapsed": false
   },
   "outputs": [],
   "source": [
    "cdyEta->Draw();"
   ]
  },
  {
   "cell_type": "code",
   "execution_count": null,
   "metadata": {
    "collapsed": true
   },
   "outputs": [],
   "source": [
    "TCanvas *cdyPhi = new TCanvas(\"cdyPhi\",\"cdyPhi\",10,10,900,700);\n",
    "    TText tdyPhi; tdyPhi.SetTextFont(42); tdyPhi.SetTextAlign(21);\n",
    "    cdyPhi->Divide(4,2);\n",
    "    cdyPhi->cd(1); h_lep_phi_DYee1->Draw();\n",
    "    cdyPhi->cd(2); h_lep_phi_DYee2->Draw();\n",
    "    cdyPhi->cd(3); h_lep_phi_DYmumu1->Draw();\n",
    "    cdyPhi->cd(4); h_lep_phi_DYmumu2->Draw();\n",
    "    cdyPhi->cd(5); h_lep_phi_DYtautau1->Draw();\n",
    "    cdyPhi->cd(6); h_lep_phi_DYtautau2->Draw();\n",
    "    cdyPhi->cd(7); h_lep_phi_mergedDY->Draw();"
   ]
  },
  {
   "cell_type": "code",
   "execution_count": null,
   "metadata": {
    "collapsed": true
   },
   "outputs": [],
   "source": [
    "TList *listDYPhi = new TList;\n",
    "  listDYPhi->Add(h_lep_phi_DYee1);\n",
    "  listDYPhi->Add(h_lep_phi_DYee2);\n",
    "  listDYPhi->Add(h_lep_phi_DYmumu1);\n",
    "  listDYPhi->Add(h_lep_phi_DYmumu2);\n",
    "  listDYPhi->Add(h_lep_phi_DYtautau1);\n",
    "  listDYPhi->Add(h_lep_phi_DYtautau2);\n",
    "\n",
    "  \n",
    "h_lep_phi_mergedDY->Reset();\n",
    "h_lep_phi_mergedDY->Merge(listDYPhi);\n",
    "h_lep_phi_mergedDY->SetFillColor(kBlue);\n",
    "h_lep_phi_mergedDY->Draw();"
   ]
  },
  {
   "cell_type": "code",
   "execution_count": null,
   "metadata": {
    "collapsed": false
   },
   "outputs": [],
   "source": [
    "cdyPhi->Draw();"
   ]
  },
  {
   "cell_type": "code",
   "execution_count": null,
   "metadata": {
    "collapsed": true
   },
   "outputs": [],
   "source": [
    "TCanvas *cdyE = new TCanvas(\"cdyE\",\"cdyE\",10,10,900,700);\n",
    "    TText tdyE; tdyE.SetTextFont(42); tdyE.SetTextAlign(21);\n",
    "    cdyE->Divide(4,2);\n",
    "    cdyE->cd(1); h_lep_E_DYee1->Draw();\n",
    "    cdyE->cd(2); h_lep_E_DYee2->Draw();\n",
    "    cdyE->cd(3); h_lep_E_DYmumu1->Draw();\n",
    "    cdyE->cd(4); h_lep_E_DYmumu2->Draw();\n",
    "    cdyE->cd(5); h_lep_E_DYtautau1->Draw();\n",
    "    cdyE->cd(6); h_lep_E_DYtautau2->Draw();\n",
    "    cdyE->cd(7); h_lep_E_mergedDY->Draw();"
   ]
  },
  {
   "cell_type": "code",
   "execution_count": null,
   "metadata": {
    "collapsed": true
   },
   "outputs": [],
   "source": [
    "TList *listDYE = new TList;\n",
    "  listDYE->Add(h_lep_E_DYee1);\n",
    "  listDYE->Add(h_lep_E_DYee2);\n",
    "  listDYE->Add(h_lep_E_DYmumu1);\n",
    "  listDYE->Add(h_lep_E_DYmumu2);\n",
    "  listDYE->Add(h_lep_E_DYtautau1);\n",
    "  listDYE->Add(h_lep_E_DYtautau2);\n",
    "\n",
    "  \n",
    "h_lep_E_mergedDY->Reset();\n",
    "h_lep_E_mergedDY->Merge(listDYE);\n",
    "h_lep_E_mergedDY->SetFillColor(kBlue);\n",
    "h_lep_E_mergedDY->Draw();"
   ]
  },
  {
   "cell_type": "code",
   "execution_count": null,
   "metadata": {
    "collapsed": false
   },
   "outputs": [],
   "source": [
    "cdyE->Draw();"
   ]
  },
  {
   "cell_type": "code",
   "execution_count": null,
   "metadata": {
    "collapsed": true
   },
   "outputs": [],
   "source": [
    "TCanvas *cdyCh = new TCanvas(\"cdyCh\",\"cdyCh\",10,10,1000,700);\n",
    "    TText tdyCh; tdyCh.SetTextFont(42); tdyCh.SetTextAlign(21);\n",
    "    cdyCh->Divide(4,2);\n",
    "    cdyCh->cd(1); h_lep_charge_DYee1->Draw();\n",
    "    cdyCh->cd(2); h_lep_charge_DYee2->Draw();\n",
    "    cdyCh->cd(3); h_lep_charge_DYmumu1->Draw();\n",
    "    cdyCh->cd(4); h_lep_charge_DYmumu2->Draw();\n",
    "    cdyCh->cd(5); h_lep_charge_DYtautau1->Draw();\n",
    "    cdyCh->cd(6); h_lep_charge_DYtautau2->Draw();\n",
    "    cdyCh->cd(7); h_lep_charge_mergedDY->Draw();"
   ]
  },
  {
   "cell_type": "code",
   "execution_count": null,
   "metadata": {
    "collapsed": true
   },
   "outputs": [],
   "source": [
    "TList *listDYCh = new TList;\n",
    "  listDYCh->Add(h_lep_charge_DYee1);\n",
    "  listDYCh->Add(h_lep_charge_DYee2);\n",
    "  listDYCh->Add(h_lep_charge_DYmumu1);\n",
    "  listDYCh->Add(h_lep_charge_DYmumu2);\n",
    "  listDYCh->Add(h_lep_charge_DYtautau1);\n",
    "  listDYCh->Add(h_lep_charge_DYtautau2);\n",
    "\n",
    "  \n",
    "h_lep_charge_mergedDY->Reset();\n",
    "h_lep_charge_mergedDY->Merge(listDYCh);\n",
    "h_lep_charge_mergedDY->SetFillColor(kBlue);\n",
    "h_lep_charge_mergedDY->Draw();"
   ]
  },
  {
   "cell_type": "code",
   "execution_count": null,
   "metadata": {
    "collapsed": false
   },
   "outputs": [],
   "source": [
    "cdyCh->Draw();"
   ]
  },
  {
   "cell_type": "code",
   "execution_count": null,
   "metadata": {
    "collapsed": false
   },
   "outputs": [],
   "source": [
    "TCanvas *cdyEtc20 = new TCanvas(\"cdyEtc20\",\"cdyEtc20\",10,10,1000,700);\n",
    "    TText tdyEtc20; tdyEtc20.SetTextFont(42); tdyEtc20.SetTextAlign(21);\n",
    "    cdyEtc20->Divide(4,2);\n",
    "    cdyEtc20->cd(1); h_lep_etc20_DYee1->Draw();\n",
    "    cdyEtc20->cd(2); h_lep_etc20_DYee2->Draw();\n",
    "    cdyEtc20->cd(3); h_lep_etc20_DYmumu1->Draw();\n",
    "    cdyEtc20->cd(4); h_lep_etc20_DYmumu2->Draw();\n",
    "    cdyEtc20->cd(5); h_lep_etc20_DYtautau1->Draw();\n",
    "    cdyEtc20->cd(6); h_lep_etc20_DYtautau2->Draw();\n",
    "    cdyEtc20->cd(7); h_lep_etc20_mergedDY->Draw();"
   ]
  },
  {
   "cell_type": "code",
   "execution_count": null,
   "metadata": {
    "collapsed": true
   },
   "outputs": [],
   "source": [
    "TList *listDYEtc20 = new TList;\n",
    "  listDYEtc20->Add(h_lep_etc20_DYee1);\n",
    "  listDYEtc20->Add(h_lep_etc20_DYee2);\n",
    "  listDYEtc20->Add(h_lep_etc20_DYmumu1);\n",
    "  listDYEtc20->Add(h_lep_etc20_DYmumu2);\n",
    "  listDYEtc20->Add(h_lep_etc20_DYtautau1);\n",
    "  listDYEtc20->Add(h_lep_etc20_DYtautau2);\n",
    "\n",
    "  \n",
    "h_lep_etc20_mergedDY->Reset();\n",
    "h_lep_etc20_mergedDY->Merge(listDYEtc20);\n",
    "h_lep_etc20_mergedDY->SetFillColor(kBlue);\n",
    "h_lep_etc20_mergedDY->Draw();"
   ]
  },
  {
   "cell_type": "code",
   "execution_count": null,
   "metadata": {
    "collapsed": false
   },
   "outputs": [],
   "source": [
    "cdyEtc20->Draw();"
   ]
  },
  {
   "cell_type": "code",
   "execution_count": null,
   "metadata": {
    "collapsed": false
   },
   "outputs": [],
   "source": [
    "TCanvas *cdyPtc30 = new TCanvas(\"cdyPtc30\",\"cdyPtc30\",10,10,1000,700);\n",
    "    TText tdyPtc30; tdyPtc30.SetTextFont(42); tdyPtc30.SetTextAlign(21);\n",
    "    cdyPtc30->Divide(4,2);\n",
    "    cdyPtc30->cd(1); h_lep_ptc30_DYee1->Draw();\n",
    "    cdyPtc30->cd(2); h_lep_ptc30_DYee2->Draw();\n",
    "    cdyPtc30->cd(3); h_lep_ptc30_DYmumu1->Draw();\n",
    "    cdyPtc30->cd(4); h_lep_ptc30_DYmumu2->Draw();\n",
    "    cdyPtc30->cd(5); h_lep_ptc30_DYtautau1->Draw();\n",
    "    cdyPtc30->cd(6); h_lep_ptc30_DYtautau2->Draw();\n",
    "    cdyPtc30->cd(7); h_lep_ptc30_mergedDY->Draw();"
   ]
  },
  {
   "cell_type": "code",
   "execution_count": null,
   "metadata": {
    "collapsed": true
   },
   "outputs": [],
   "source": [
    "TList *listDYPtc30 = new TList;\n",
    "  listDYPtc30->Add(h_lep_ptc30_DYee1);\n",
    "  listDYPtc30->Add(h_lep_ptc30_DYee2);\n",
    "  listDYPtc30->Add(h_lep_ptc30_DYmumu1);\n",
    "  listDYPtc30->Add(h_lep_ptc30_DYmumu2);\n",
    "  listDYPtc30->Add(h_lep_ptc30_DYtautau1);\n",
    "  listDYPtc30->Add(h_lep_ptc30_DYtautau2);\n",
    "\n",
    "  \n",
    "h_lep_ptc30_mergedDY->Reset();\n",
    "h_lep_ptc30_mergedDY->Merge(listDYPtc30);\n",
    "h_lep_ptc30_mergedDY->SetFillColor(kBlue);\n",
    "h_lep_ptc30_mergedDY->Draw();"
   ]
  },
  {
   "cell_type": "code",
   "execution_count": null,
   "metadata": {
    "collapsed": false
   },
   "outputs": [],
   "source": [
    "cdyPtc30->Draw();"
   ]
  },
  {
   "cell_type": "code",
   "execution_count": null,
   "metadata": {
    "collapsed": false
   },
   "outputs": [],
   "source": [
    "TCanvas *cdyZ0 = new TCanvas(\"cdyZ0\",\"cdyZ0\",10,10,1000,700);\n",
    "    TText tdyZ0; tdyZ0.SetTextFont(42); tdyZ0.SetTextAlign(21);\n",
    "    cdyZ0->Divide(4,2);\n",
    "    cdyZ0->cd(1); h_lep_z0_DYee1->Draw();\n",
    "    cdyZ0->cd(2); h_lep_z0_DYee2->Draw();\n",
    "    cdyZ0->cd(3); h_lep_z0_DYmumu1->Draw();\n",
    "    cdyZ0->cd(4); h_lep_z0_DYmumu2->Draw();\n",
    "    cdyZ0->cd(5); h_lep_z0_DYtautau1->Draw();\n",
    "    cdyZ0->cd(6); h_lep_z0_DYtautau2->Draw();\n",
    "    cdyZ0->cd(7); h_lep_z0_mergedDY->Draw();"
   ]
  },
  {
   "cell_type": "code",
   "execution_count": null,
   "metadata": {
    "collapsed": true
   },
   "outputs": [],
   "source": [
    "TList *listDYZ0 = new TList;\n",
    "  listDYZ0->Add(h_lep_z0_DYee1);\n",
    "  listDYZ0->Add(h_lep_z0_DYee2);\n",
    "  listDYZ0->Add(h_lep_z0_DYmumu1);\n",
    "  listDYZ0->Add(h_lep_z0_DYmumu2);\n",
    "  listDYZ0->Add(h_lep_z0_DYtautau1);\n",
    "  listDYZ0->Add(h_lep_z0_DYtautau2);\n",
    "\n",
    "  \n",
    "h_lep_z0_mergedDY->Reset();\n",
    "h_lep_z0_mergedDY->Merge(listDYZ0);\n",
    "h_lep_z0_mergedDY->SetFillColor(kBlue);\n",
    "h_lep_z0_mergedDY->Draw();"
   ]
  },
  {
   "cell_type": "code",
   "execution_count": null,
   "metadata": {
    "collapsed": false
   },
   "outputs": [],
   "source": [
    "cdyZ0->Draw();"
   ]
  },
  {
   "cell_type": "code",
   "execution_count": null,
   "metadata": {
    "collapsed": false
   },
   "outputs": [],
   "source": [
    "TCanvas *cdyD0 = new TCanvas(\"cdyD0\",\"cdyD0\",10,10,1000,700);\n",
    "    TText tdyD0; tdyD0.SetTextFont(42); tdyD0.SetTextAlign(21);\n",
    "    cdyD0->Divide(4,2);\n",
    "    cdyD0->cd(1); h_lep_d0_DYee1->Draw();\n",
    "    cdyD0->cd(2); h_lep_d0_DYee2->Draw();\n",
    "    cdyD0->cd(3); h_lep_d0_DYmumu1->Draw();\n",
    "    cdyD0->cd(4); h_lep_d0_DYmumu2->Draw();\n",
    "    cdyD0->cd(5); h_lep_d0_DYtautau1->Draw();\n",
    "    cdyD0->cd(6); h_lep_d0_DYtautau2->Draw();\n",
    "    cdyD0->cd(7); h_lep_d0_mergedDY->Draw();"
   ]
  },
  {
   "cell_type": "code",
   "execution_count": null,
   "metadata": {
    "collapsed": true
   },
   "outputs": [],
   "source": [
    "TList *listDYD0 = new TList;\n",
    "  listDYD0->Add(h_lep_d0_DYee1);\n",
    "  listDYD0->Add(h_lep_d0_DYee2);\n",
    "  listDYD0->Add(h_lep_d0_DYmumu1);\n",
    "  listDYD0->Add(h_lep_d0_DYmumu2);\n",
    "  listDYD0->Add(h_lep_d0_DYtautau1);\n",
    "  listDYD0->Add(h_lep_d0_DYtautau2);\n",
    "\n",
    "  \n",
    "h_lep_z0_mergedDY->Reset();\n",
    "h_lep_z0_mergedDY->Merge(listDYZ0);\n",
    "h_lep_z0_mergedDY->SetFillColor(kBlue);\n",
    "h_lep_z0_mergedDY->Draw();"
   ]
  },
  {
   "cell_type": "code",
   "execution_count": null,
   "metadata": {
    "collapsed": false
   },
   "outputs": [],
   "source": [
    "cdyD0->Draw();"
   ]
  },
  {
   "cell_type": "code",
   "execution_count": null,
   "metadata": {
    "collapsed": true
   },
   "outputs": [],
   "source": [
    "TCanvas *cdyPt_tl = new TCanvas(\"cdyPt_tl\",\"cdyPt_tl\",10,10,900,700);\n",
    "    TText tdyPt_tl; tdyPt_tl.SetTextFont(42); tdyPt_tl.SetTextAlign(21);\n",
    "    cdyPt_tl->Divide(4,2);\n",
    "    cdyPt_tl->cd(1); h_lep_pt_tl_DYee1->Draw();\n",
    "    cdyPt_tl->cd(2); h_lep_pt_tl_DYee2->Draw();\n",
    "    cdyPt_tl->cd(3); h_lep_pt_tl_DYmumu1->Draw();\n",
    "    cdyPt_tl->cd(4); h_lep_pt_tl_DYmumu2->Draw();\n",
    "    cdyPt_tl->cd(5); h_lep_pt_tl_DYtautau1->Draw();\n",
    "    cdyPt_tl->cd(6); h_lep_pt_tl_DYtautau2->Draw();\n",
    "    cdyPt_tl->cd(7); h_lep_pt_tl_mergedDY->Draw();"
   ]
  },
  {
   "cell_type": "code",
   "execution_count": null,
   "metadata": {
    "collapsed": true
   },
   "outputs": [],
   "source": [
    "TList *listDYPt_tl = new TList;\n",
    "  listDYPt_tl->Add(h_lep_pt_tl_DYee1);\n",
    "  listDYPt_tl->Add(h_lep_pt_tl_DYee2);\n",
    "  listDYPt_tl->Add(h_lep_pt_tl_DYmumu1);\n",
    "  listDYPt_tl->Add(h_lep_pt_tl_DYmumu2);\n",
    "  listDYPt_tl->Add(h_lep_pt_tl_DYtautau1);\n",
    "  listDYPt_tl->Add(h_lep_pt_tl_DYtautau2);\n",
    "\n",
    "  \n",
    "h_lep_pt_tl_mergedDY->Reset();\n",
    "h_lep_pt_tl_mergedDY->Merge(listDYPt_tl);\n",
    "h_lep_pt_tl_mergedDY->SetFillColor(kBlue);\n",
    "h_lep_pt_tl_mergedDY->Draw();"
   ]
  },
  {
   "cell_type": "code",
   "execution_count": null,
   "metadata": {
    "collapsed": false
   },
   "outputs": [],
   "source": [
    "cdyPt_tl->Draw();"
   ]
  },
  {
   "cell_type": "code",
   "execution_count": null,
   "metadata": {
    "collapsed": true
   },
   "outputs": [],
   "source": [
    "TCanvas *cdyEta_tl = new TCanvas(\"cdyEta_tl\",\"cdyEta_tl\",10,10,1100,700);\n",
    "    TText tdyEta_tl; tdyEta_tl.SetTextFont(42); tdyEta_tl.SetTextAlign(21);\n",
    "    cdyEta_tl->Divide(4,2);\n",
    "    cdyEta_tl->cd(1); h_lep_eta_tl_DYee1->Draw();\n",
    "    cdyEta_tl->cd(2); h_lep_eta_tl_DYee2->Draw();\n",
    "    cdyEta_tl->cd(3); h_lep_eta_tl_DYmumu1->Draw();\n",
    "    cdyEta_tl->cd(4); h_lep_eta_tl_DYmumu2->Draw();\n",
    "    cdyEta_tl->cd(5); h_lep_eta_tl_DYtautau1->Draw();\n",
    "    cdyEta_tl->cd(6); h_lep_eta_tl_DYtautau2->Draw();\n",
    "    cdyEta_tl->cd(7); h_lep_eta_tl_mergedDY->Draw();\n",
    "\n"
   ]
  },
  {
   "cell_type": "code",
   "execution_count": null,
   "metadata": {
    "collapsed": true
   },
   "outputs": [],
   "source": [
    "TList *listDYEta_tl = new TList;\n",
    "  listDYEta_tl->Add(h_lep_eta_tl_DYee1);\n",
    "  listDYEta_tl->Add(h_lep_eta_tl_DYee2);\n",
    "  listDYEta_tl->Add(h_lep_eta_tl_DYmumu1);\n",
    "  listDYEta_tl->Add(h_lep_eta_tl_DYmumu2);\n",
    "  listDYEta_tl->Add(h_lep_eta_tl_DYtautau1);\n",
    "  listDYEta_tl->Add(h_lep_eta_tl_DYtautau2);\n",
    "\n",
    "  \n",
    "h_lep_eta_tl_mergedDY->Reset();\n",
    "h_lep_eta_tl_mergedDY->Merge(listDYEta_tl);\n",
    "h_lep_eta_tl_mergedDY->SetFillColor(kBlue);\n",
    "h_lep_eta_tl_mergedDY->Draw();"
   ]
  },
  {
   "cell_type": "code",
   "execution_count": null,
   "metadata": {
    "collapsed": false
   },
   "outputs": [],
   "source": [
    "cdyEta_tl->Draw();"
   ]
  },
  {
   "cell_type": "code",
   "execution_count": null,
   "metadata": {
    "collapsed": true
   },
   "outputs": [],
   "source": [
    "TCanvas *cdyPhi_tl = new TCanvas(\"cdyPhi_tl\",\"cdyPhi_tl\",10,10,900,700);\n",
    "    TText tdyPhi_tl; tdyPhi_tl.SetTextFont(42); tdyPhi_tl.SetTextAlign(21);\n",
    "    cdyPhi_tl->Divide(4,2);\n",
    "    cdyPhi_tl->cd(1); h_lep_phi_tl_DYee1->Draw();\n",
    "    cdyPhi_tl->cd(2); h_lep_phi_tl_DYee2->Draw();\n",
    "    cdyPhi_tl->cd(3); h_lep_phi_tl_DYmumu1->Draw();\n",
    "    cdyPhi_tl->cd(4); h_lep_phi_tl_DYmumu2->Draw();\n",
    "    cdyPhi_tl->cd(5); h_lep_phi_tl_DYtautau1->Draw();\n",
    "    cdyPhi_tl->cd(6); h_lep_phi_tl_DYtautau2->Draw();\n",
    "    cdyPhi_tl->cd(7); h_lep_phi_tl_mergedDY->Draw();\n"
   ]
  },
  {
   "cell_type": "code",
   "execution_count": null,
   "metadata": {
    "collapsed": true
   },
   "outputs": [],
   "source": [
    "TList *listDYPhi_tl = new TList;\n",
    "  listDYPhi_tl->Add(h_lep_phi_tl_DYee1);\n",
    "  listDYPhi_tl->Add(h_lep_phi_tl_DYee2);\n",
    "  listDYPhi_tl->Add(h_lep_phi_tl_DYmumu1);\n",
    "  listDYPhi_tl->Add(h_lep_phi_tl_DYmumu2);\n",
    "  listDYPhi_tl->Add(h_lep_phi_tl_DYtautau1);\n",
    "  listDYPhi_tl->Add(h_lep_phi_tl_DYtautau2);\n",
    "\n",
    "  \n",
    "h_lep_phi_tl_mergedDY->Reset();\n",
    "h_lep_phi_tl_mergedDY->Merge(listDYPhi_tl);\n",
    "h_lep_phi_tl_mergedDY->SetFillColor(kBlue);\n",
    "h_lep_phi_tl_mergedDY->Draw();"
   ]
  },
  {
   "cell_type": "code",
   "execution_count": null,
   "metadata": {
    "collapsed": false
   },
   "outputs": [],
   "source": [
    "cdyPhi_tl->Draw();"
   ]
  },
  {
   "cell_type": "code",
   "execution_count": null,
   "metadata": {
    "collapsed": true
   },
   "outputs": [],
   "source": [
    "TCanvas *cdyE_tl = new TCanvas(\"cdyE_tl\",\"cdyE_tl\",10,10,900,700);\n",
    "    TText tdyE_tl; tdyE_tl.SetTextFont(42); tdyE_tl.SetTextAlign(21);\n",
    "    cdyE_tl->Divide(4,2);\n",
    "    cdyE_tl->cd(1); h_lep_E_tl_DYee1->Draw();\n",
    "    cdyE_tl->cd(2); h_lep_E_tl_DYee2->Draw();\n",
    "    cdyE_tl->cd(3); h_lep_E_tl_DYmumu1->Draw();\n",
    "    cdyE_tl->cd(4); h_lep_E_tl_DYmumu2->Draw();\n",
    "    cdyE_tl->cd(5); h_lep_E_tl_DYtautau1->Draw();\n",
    "    cdyE_tl->cd(6); h_lep_E_tl_DYtautau2->Draw();\n",
    "    cdyE_tl->cd(7); h_lep_E_tl_mergedDY->Draw();\n"
   ]
  },
  {
   "cell_type": "code",
   "execution_count": null,
   "metadata": {
    "collapsed": true
   },
   "outputs": [],
   "source": [
    "TList *listDYE_tl = new TList;\n",
    "  listDYE_tl->Add(h_lep_E_tl_DYee1);\n",
    "  listDYE_tl->Add(h_lep_E_tl_DYee2);\n",
    "  listDYE_tl->Add(h_lep_E_tl_DYmumu1);\n",
    "  listDYE_tl->Add(h_lep_E_tl_DYmumu2);\n",
    "  listDYE_tl->Add(h_lep_E_tl_DYtautau1);\n",
    "  listDYE_tl->Add(h_lep_E_tl_DYtautau2);\n",
    "\n",
    "  \n",
    "h_lep_E_tl_mergedDY->Reset();\n",
    "h_lep_E_tl_mergedDY->Merge(listDYE_tl);\n",
    "h_lep_E_tl_mergedDY->SetFillColor(kBlue);\n",
    "h_lep_E_tl_mergedDY->Draw();"
   ]
  },
  {
   "cell_type": "code",
   "execution_count": null,
   "metadata": {
    "collapsed": false
   },
   "outputs": [],
   "source": [
    "cdyE_tl->Draw();"
   ]
  },
  {
   "cell_type": "code",
   "execution_count": null,
   "metadata": {
    "collapsed": true
   },
   "outputs": [],
   "source": [
    "TCanvas *cdyCh_tl = new TCanvas(\"cdyCh_tl\",\"cdyCh_tl\",10,10,1000,700);\n",
    "    TText tdyCh_tl; tdyCh_tl.SetTextFont(42); tdyCh_tl.SetTextAlign(21);\n",
    "    cdyCh_tl->Divide(4,2);\n",
    "    cdyCh_tl->cd(1); h_lep_charge_tl_DYee1->Draw();\n",
    "    cdyCh_tl->cd(2); h_lep_charge_tl_DYee2->Draw();\n",
    "    cdyCh_tl->cd(3); h_lep_charge_tl_DYmumu1->Draw();\n",
    "    cdyCh_tl->cd(4); h_lep_charge_tl_DYmumu2->Draw();\n",
    "    cdyCh_tl->cd(5); h_lep_charge_tl_DYtautau1->Draw();\n",
    "    cdyCh_tl->cd(6); h_lep_charge_tl_DYtautau2->Draw();\n",
    "    cdyCh_tl->cd(7); h_lep_charge_tl_mergedDY->Draw();\n"
   ]
  },
  {
   "cell_type": "code",
   "execution_count": null,
   "metadata": {
    "collapsed": true
   },
   "outputs": [],
   "source": [
    "TList *listDYCh_tl = new TList;\n",
    "  listDYCh_tl->Add(h_lep_charge_tl_DYee1);\n",
    "  listDYCh_tl->Add(h_lep_charge_tl_DYee2);\n",
    "  listDYCh_tl->Add(h_lep_charge_tl_DYmumu1);\n",
    "  listDYCh_tl->Add(h_lep_charge_tl_DYmumu2);\n",
    "  listDYCh_tl->Add(h_lep_charge_tl_DYtautau1);\n",
    "  listDYCh_tl->Add(h_lep_charge_tl_DYtautau2);\n",
    "\n",
    "  \n",
    "h_lep_charge_tl_mergedDY->Reset();\n",
    "h_lep_charge_tl_mergedDY->Merge(listDYCh_tl);\n",
    "h_lep_charge_tl_mergedDY->SetFillColor(kBlue);\n",
    "h_lep_charge_tl_mergedDY->Draw();"
   ]
  },
  {
   "cell_type": "code",
   "execution_count": null,
   "metadata": {
    "collapsed": false
   },
   "outputs": [],
   "source": [
    "cdyCh_tl->Draw();"
   ]
  },
  {
   "cell_type": "code",
   "execution_count": null,
   "metadata": {
    "collapsed": true
   },
   "outputs": [],
   "source": [
    "TCanvas *cdyEtc20_tl = new TCanvas(\"cdyEtc20_tl\",\"cdyEtc20_tl\",10,10,1000,700);\n",
    "    TText tdyEtc20_tl; tdyEtc20_tl.SetTextFont(42); tdyEtc20_tl.SetTextAlign(21);\n",
    "    cdyEtc20_tl->Divide(4,2);\n",
    "    cdyEtc20_tl->cd(1); h_lep_etc20_tl_DYee1->Draw();\n",
    "    cdyEtc20_tl->cd(2); h_lep_etc20_tl_DYee2->Draw();\n",
    "    cdyEtc20_tl->cd(3); h_lep_etc20_tl_DYmumu1->Draw();\n",
    "    cdyEtc20_tl->cd(4); h_lep_etc20_tl_DYmumu2->Draw();\n",
    "    cdyEtc20_tl->cd(5); h_lep_etc20_tl_DYtautau1->Draw();\n",
    "    cdyEtc20_tl->cd(6); h_lep_etc20_tl_DYtautau2->Draw();\n",
    "    cdyEtc20_tl->cd(7); h_lep_etc20_tl_mergedDY->Draw();\n",
    "\n"
   ]
  },
  {
   "cell_type": "code",
   "execution_count": null,
   "metadata": {
    "collapsed": true
   },
   "outputs": [],
   "source": [
    "TList *listDYEtc20_tl = new TList;\n",
    "  listDYEtc20_tl->Add(h_lep_etc20_tl_DYee1);\n",
    "  listDYEtc20_tl->Add(h_lep_etc20_tl_DYee2);\n",
    "  listDYEtc20_tl->Add(h_lep_etc20_tl_DYmumu1);\n",
    "  listDYEtc20_tl->Add(h_lep_etc20_tl_DYmumu2);\n",
    "  listDYEtc20_tl->Add(h_lep_etc20_tl_DYtautau1);\n",
    "  listDYEtc20_tl->Add(h_lep_etc20_tl_DYtautau2);\n",
    "\n",
    "  \n",
    "h_lep_etc20_tl_mergedDY->Reset();\n",
    "h_lep_etc20_tl_mergedDY->Merge(listDYEtc20_tl);\n",
    "h_lep_etc20_tl_mergedDY->SetFillColor(kBlue);\n",
    "h_lep_etc20_tl_mergedDY->Draw();"
   ]
  },
  {
   "cell_type": "code",
   "execution_count": null,
   "metadata": {
    "collapsed": false
   },
   "outputs": [],
   "source": [
    "cdyEtc20_tl->Draw();"
   ]
  },
  {
   "cell_type": "code",
   "execution_count": null,
   "metadata": {
    "collapsed": true
   },
   "outputs": [],
   "source": [
    "TCanvas *cdyPtc30_tl = new TCanvas(\"cdyPtc30_tl\",\"cdyPtc30_tl\",10,10,1000,700);\n",
    "    TText tdyPtc30_tl; tdyPtc30_tl.SetTextFont(42); tdyPtc30_tl.SetTextAlign(21);\n",
    "    cdyPtc30_tl->Divide(4,2);\n",
    "    cdyPtc30_tl->cd(1); h_lep_ptc30_tl_DYee1->Draw();\n",
    "    cdyPtc30_tl->cd(2); h_lep_ptc30_tl_DYee2->Draw();\n",
    "    cdyPtc30_tl->cd(3); h_lep_ptc30_tl_DYmumu1->Draw();\n",
    "    cdyPtc30_tl->cd(4); h_lep_ptc30_tl_DYmumu2->Draw();\n",
    "    cdyPtc30_tl->cd(5); h_lep_ptc30_tl_DYtautau1->Draw();\n",
    "    cdyPtc30_tl->cd(6); h_lep_ptc30_tl_DYtautau2->Draw();\n",
    "    cdyPtc30_tl->cd(7); h_lep_ptc30_tl_mergedDY->Draw();\n"
   ]
  },
  {
   "cell_type": "code",
   "execution_count": null,
   "metadata": {
    "collapsed": true
   },
   "outputs": [],
   "source": [
    "TList *listDYPtc30_tl = new TList;\n",
    "  listDYPtc30_tl->Add(h_lep_ptc30_tl_DYee1);\n",
    "  listDYPtc30_tl->Add(h_lep_ptc30_tl_DYee2);\n",
    "  listDYPtc30_tl->Add(h_lep_ptc30_tl_DYmumu1);\n",
    "  listDYPtc30_tl->Add(h_lep_ptc30_tl_DYmumu2);\n",
    "  listDYPtc30_tl->Add(h_lep_ptc30_tl_DYtautau1);\n",
    "  listDYPtc30_tl->Add(h_lep_ptc30_tl_DYtautau2);\n",
    "\n",
    "  \n",
    "h_lep_ptc30_tl_mergedDY->Reset();\n",
    "h_lep_ptc30_tl_mergedDY->Merge(listDYPtc30_tl);\n",
    "h_lep_ptc30_tl_mergedDY->SetFillColor(kBlue);\n",
    "h_lep_ptc30_tl_mergedDY->Draw();"
   ]
  },
  {
   "cell_type": "code",
   "execution_count": null,
   "metadata": {
    "collapsed": false
   },
   "outputs": [],
   "source": [
    "cdyPtc30_tl->Draw();"
   ]
  },
  {
   "cell_type": "code",
   "execution_count": null,
   "metadata": {
    "collapsed": true
   },
   "outputs": [],
   "source": [
    "TCanvas *cdyZ0_tl = new TCanvas(\"cdyZ0_tl\",\"cdyZ0_tl\",10,10,1000,700);\n",
    "    TText tdyZ0_tl; tdyZ0_tl.SetTextFont(42); tdyZ0_tl.SetTextAlign(21);\n",
    "    cdyZ0_tl->Divide(4,2);\n",
    "    cdyZ0_tl->cd(1); h_lep_z0_tl_DYee1->Draw();\n",
    "    cdyZ0_tl->cd(2); h_lep_z0_tl_DYee2->Draw();\n",
    "    cdyZ0_tl->cd(3); h_lep_z0_tl_DYmumu1->Draw();\n",
    "    cdyZ0_tl->cd(4); h_lep_z0_tl_DYmumu2->Draw();\n",
    "    cdyZ0_tl->cd(5); h_lep_z0_tl_DYtautau1->Draw();\n",
    "    cdyZ0_tl->cd(6); h_lep_z0_tl_DYtautau2->Draw();\n",
    "    cdyZ0_tl->cd(7); h_lep_z0_tl_mergedDY->Draw();\n",
    "\n"
   ]
  },
  {
   "cell_type": "code",
   "execution_count": null,
   "metadata": {
    "collapsed": true
   },
   "outputs": [],
   "source": [
    "TList *listDYZ0_tl = new TList;\n",
    "  listDYZ0_tl->Add(h_lep_z0_tl_DYee1);\n",
    "  listDYZ0_tl->Add(h_lep_z0_tl_DYee2);\n",
    "  listDYZ0_tl->Add(h_lep_z0_tl_DYmumu1);\n",
    "  listDYZ0_tl->Add(h_lep_z0_tl_DYmumu2);\n",
    "  listDYZ0_tl->Add(h_lep_z0_tl_DYtautau1);\n",
    "  listDYZ0_tl->Add(h_lep_z0_tl_DYtautau2);\n",
    "\n",
    "  \n",
    "h_lep_z0_tl_mergedDY->Reset();\n",
    "h_lep_z0_tl_mergedDY->Merge(listDYZ0_tl);\n",
    "h_lep_z0_tl_mergedDY->SetFillColor(kBlue);\n",
    "h_lep_z0_tl_mergedDY->Draw();"
   ]
  },
  {
   "cell_type": "code",
   "execution_count": null,
   "metadata": {
    "collapsed": true
   },
   "outputs": [],
   "source": [
    "listDYZ0_tl->Draw();"
   ]
  },
  {
   "cell_type": "code",
   "execution_count": null,
   "metadata": {
    "collapsed": true
   },
   "outputs": [],
   "source": [
    "TCanvas *cdyD0_tl = new TCanvas(\"cdyD0_tl\",\"cdyD0_tl\",10,10,1000,700);\n",
    "    TText tdyD0_tl; tdyD0_tl.SetTextFont(42); tdyD0_tl.SetTextAlign(21);\n",
    "    cdyD0_tl->Divide(4,2);\n",
    "    cdyD0_tl->cd(1); h_lep_d0_tl_DYee1->Draw();\n",
    "    cdyD0_tl->cd(2); h_lep_d0_tl_DYee2->Draw();\n",
    "    cdyD0_tl->cd(3); h_lep_d0_tl_DYmumu1->Draw();\n",
    "    cdyD0_tl->cd(4); h_lep_d0_tl_DYmumu2->Draw();\n",
    "    cdyD0_tl->cd(5); h_lep_d0_tl_DYtautau1->Draw();\n",
    "    cdyD0_tl->cd(6); h_lep_d0_tl_DYtautau2->Draw();\n",
    "    cdyD0_tl->cd(7); h_lep_d0_tl_mergedDY->Draw();\n"
   ]
  },
  {
   "cell_type": "code",
   "execution_count": null,
   "metadata": {
    "collapsed": true
   },
   "outputs": [],
   "source": [
    "TList *listDYD0_tl = new TList;\n",
    "  listDYD0_tl->Add(h_lep_d0_tl_DYee1);\n",
    "  listDYD0_tl->Add(h_lep_d0_tl_DYee2);\n",
    "  listDYD0_tl->Add(h_lep_d0_tl_DYmumu1);\n",
    "  listDYD0_tl->Add(h_lep_d0_tl_DYmumu2);\n",
    "  listDYD0_tl->Add(h_lep_d0_tl_DYtautau1);\n",
    "  listDYD0_tl->Add(h_lep_d0_tl_DYtautau2);\n",
    "\n",
    "  \n",
    "h_lep_z0_tl_mergedDY->Reset();\n",
    "h_lep_z0_tl_mergedDY->Merge(listDYZ0_tl);\n",
    "h_lep_z0_tl_mergedDY->SetFillColor(kBlue);\n",
    "h_lep_z0_tl_mergedDY->Draw();"
   ]
  },
  {
   "cell_type": "code",
   "execution_count": null,
   "metadata": {
    "collapsed": false
   },
   "outputs": [],
   "source": [
    "cdyD0_tl->Draw();"
   ]
  },
  {
   "cell_type": "code",
   "execution_count": null,
   "metadata": {
    "collapsed": true
   },
   "outputs": [],
   "source": [
    " TCanvas *cdyJn = new TCanvas(\"cdyJn\",\"cdyJn\",10,10,900,700);\n",
    "    TText tdyJn; tdyJn.SetTextFont(42); tdyJn.SetTextAlign(21);\n",
    "    cdyJn->Divide(4,2);\n",
    "    cdyJn->cd(1); h_jet_n_DYee1->Draw();\n",
    "    cdyJn->cd(2); h_jet_n_DYee2->Draw();\n",
    "    cdyJn->cd(3); h_jet_n_DYmumu1->Draw();\n",
    "    cdyJn->cd(4); h_jet_n_DYmumu2->Draw();\n",
    "    cdyJn->cd(5); h_jet_n_DYtautau1->Draw();\n",
    "    cdyJn->cd(6); h_jet_n_DYtautau2->Draw();\n",
    "    cdyJn->cd(7); h_jet_n_mergedDY->Draw();\n"
   ]
  },
  {
   "cell_type": "code",
   "execution_count": null,
   "metadata": {
    "collapsed": true
   },
   "outputs": [],
   "source": [
    "TList *listDYJn = new TList;\n",
    "  listDYJn->Add(h_jet_n_DYee1);\n",
    "  listDYJn->Add(h_jet_n_DYee2);\n",
    "  listDYJn->Add(h_jet_n_DYmumu1);\n",
    "  listDYJn->Add(h_jet_n_DYmumu2);\n",
    "  listDYJn->Add(h_jet_n_DYtautau1);\n",
    "  listDYJn->Add(h_jet_n_DYtautau2);\n",
    "\n",
    "  \n",
    "h_jet_n_mergedDY->Reset();\n",
    "h_jet_n_mergedDY->Merge(listDYJn);\n",
    "h_jet_n_mergedDY->SetFillColor(kBlue);\n",
    "h_jet_n_mergedDY->Draw();"
   ]
  },
  {
   "cell_type": "code",
   "execution_count": null,
   "metadata": {
    "collapsed": false
   },
   "outputs": [],
   "source": [
    "cdyJn->Draw();"
   ]
  },
  {
   "cell_type": "code",
   "execution_count": null,
   "metadata": {
    "collapsed": true
   },
   "outputs": [],
   "source": [
    " TCanvas *cdyJnPt = new TCanvas(\"cdyJnPt\",\"cdyJnPt\",10,10,900,700);\n",
    "    TText tdyJnPt; tdyJnPt.SetTextFont(42); tdyJnPt.SetTextAlign(21);\n",
    "    cdyJnPt->Divide(4,2);\n",
    "    cdyJnPt->cd(1); h_jet_pt_DYee1->Draw();\n",
    "    cdyJnPt->cd(2); h_jet_pt_DYee2->Draw();\n",
    "    cdyJnPt->cd(3); h_jet_pt_DYmumu1->Draw();\n",
    "    cdyJnPt->cd(4); h_jet_pt_DYmumu2->Draw();\n",
    "    cdyJnPt->cd(5); h_jet_pt_DYtautau1->Draw();\n",
    "    cdyJnPt->cd(6); h_jet_pt_DYtautau2->Draw();\n",
    "    cdyJnPt->cd(7); h_jet_pt_mergedDY->Draw();\n"
   ]
  },
  {
   "cell_type": "code",
   "execution_count": null,
   "metadata": {
    "collapsed": true
   },
   "outputs": [],
   "source": [
    "TList *listDYJnPt = new TList;\n",
    "  listDYJnPt->Add(h_jet_pt_DYee1);\n",
    "  listDYJnPt->Add(h_jet_pt_DYee2);\n",
    "  listDYJnPt->Add(h_jet_pt_DYmumu1);\n",
    "  listDYJnPt->Add(h_jet_pt_DYmumu2);\n",
    "  listDYJnPt->Add(h_jet_pt_DYtautau1);\n",
    "  listDYJnPt->Add(h_jet_pt_DYtautau2);\n",
    "\n",
    "  \n",
    "h_jet_pt_mergedDY->Reset();\n",
    "h_jet_pt_mergedDY->Merge(listDYJnPt);\n",
    "h_jet_pt_mergedDY->SetFillColor(kBlue);\n",
    "h_jet_pt_mergedDY->Draw();"
   ]
  },
  {
   "cell_type": "code",
   "execution_count": null,
   "metadata": {
    "collapsed": false
   },
   "outputs": [],
   "source": [
    "cdyJnPt->Draw();"
   ]
  },
  {
   "cell_type": "code",
   "execution_count": null,
   "metadata": {
    "collapsed": true
   },
   "outputs": [],
   "source": [
    " TCanvas *cdyJnEta = new TCanvas(\"cdyJnEta\",\"cdyJnEta\",10,10,900,700);\n",
    "    TText tdyJnEta; tdyJnEta.SetTextFont(42); tdyJnEta.SetTextAlign(21);\n",
    "    cdyJnEta->Divide(4,2);\n",
    "    cdyJnEta->cd(1); h_jet_eta_DYee1->Draw();\n",
    "    cdyJnEta->cd(2); h_jet_eta_DYee2->Draw();\n",
    "    cdyJnEta->cd(3); h_jet_eta_DYmumu1->Draw();\n",
    "    cdyJnEta->cd(4); h_jet_eta_DYmumu2->Draw();\n",
    "    cdyJnEta->cd(5); h_jet_eta_DYtautau1->Draw();\n",
    "    cdyJnEta->cd(6); h_jet_eta_DYtautau2->Draw();\n",
    "    cdyJnEta->cd(7); h_jet_eta_mergedDY->Draw();"
   ]
  },
  {
   "cell_type": "code",
   "execution_count": null,
   "metadata": {
    "collapsed": true
   },
   "outputs": [],
   "source": [
    "TList *listDYJnEta = new TList;\n",
    "  listDYJnEta->Add(h_jet_eta_DYee1);\n",
    "  listDYJnEta->Add(h_jet_eta_DYee2);\n",
    "  listDYJnEta->Add(h_jet_eta_DYmumu1);\n",
    "  listDYJnEta->Add(h_jet_eta_DYmumu2);\n",
    "  listDYJnEta->Add(h_jet_eta_DYtautau1);\n",
    "  listDYJnEta->Add(h_jet_eta_DYtautau2);\n",
    "\n",
    "  \n",
    "h_jet_eta_mergedDY->Reset();\n",
    "h_jet_eta_mergedDY->Merge(listDYJnEta);\n",
    "h_jet_eta_mergedDY->SetFillColor(kBlue);\n",
    "h_jet_eta_mergedDY->Draw();"
   ]
  },
  {
   "cell_type": "code",
   "execution_count": null,
   "metadata": {
    "collapsed": false
   },
   "outputs": [],
   "source": [
    "cdyJnEta->Draw();"
   ]
  },
  {
   "cell_type": "code",
   "execution_count": null,
   "metadata": {
    "collapsed": true
   },
   "outputs": [],
   "source": [
    "TCanvas *cdyJm = new TCanvas(\"cdyJm\",\"cdyJm\",10,10,900,700);\n",
    "    TText tdyJm; tdyJm.SetTextFont(42); tdyJm.SetTextAlign(21);\n",
    "    cdyJm->Divide(4,2);\n",
    "    cdyJm->cd(1); h_jet_m_DYee1->Draw();\n",
    "    cdyJm->cd(2); h_jet_m_DYee2->Draw();\n",
    "    cdyJm->cd(3); h_jet_m_DYmumu1->Draw();\n",
    "    cdyJm->cd(4); h_jet_m_DYmumu2->Draw();\n",
    "    cdyJm->cd(5); h_jet_m_DYtautau1->Draw();\n",
    "    cdyJm->cd(6); h_jet_m_DYtautau2->Draw();\n",
    "    cdyJm->cd(7); h_jet_m_mergedDY->Draw();"
   ]
  },
  {
   "cell_type": "code",
   "execution_count": null,
   "metadata": {
    "collapsed": true
   },
   "outputs": [],
   "source": [
    "TList *listDYJm = new TList;\n",
    "  listDYJm->Add(h_jet_m_DYee1);\n",
    "  listDYJm->Add(h_jet_m_DYee2);\n",
    "  listDYJm->Add(h_jet_m_DYmumu1);\n",
    "  listDYJm->Add(h_jet_m_DYmumu2);\n",
    "  listDYJm->Add(h_jet_m_DYtautau1);\n",
    "  listDYJm->Add(h_jet_m_DYtautau2);\n",
    "\n",
    "  \n",
    "h_jet_m_mergedDY->Reset();\n",
    "h_jet_m_mergedDY->Merge(listDYJm);\n",
    "h_jet_m_mergedDY->SetFillColor(kBlue);\n",
    "h_jet_m_mergedDY->Draw();"
   ]
  },
  {
   "cell_type": "code",
   "execution_count": null,
   "metadata": {
    "collapsed": false
   },
   "outputs": [],
   "source": [
    "cdyJm->Draw();"
   ]
  },
  {
   "cell_type": "code",
   "execution_count": null,
   "metadata": {
    "collapsed": true
   },
   "outputs": [],
   "source": [
    " TCanvas *cdyJnJvf = new TCanvas(\"cdyJnJvf\",\"cdyJnJvf\",10,10,900,700);\n",
    "    TText tdyJnJvf; tdyJnJvf.SetTextFont(42); tdyJnJvf.SetTextAlign(21);\n",
    "    cdyJnJvf->Divide(4,2);\n",
    "    cdyJnJvf->cd(1); h_jet_jvf_DYee1->Draw();\n",
    "    cdyJnJvf->cd(2); h_jet_jvf_DYee2->Draw();\n",
    "    cdyJnJvf->cd(3); h_jet_jvf_DYmumu1->Draw();\n",
    "    cdyJnJvf->cd(4); h_jet_jvf_DYmumu2->Draw();\n",
    "    cdyJnJvf->cd(5); h_jet_jvf_DYtautau1->Draw();\n",
    "    cdyJnJvf->cd(6); h_jet_jvf_DYtautau2->Draw();\n",
    "    cdyJnJvf->cd(7); h_jet_jvf_mergedDY->Draw();\n"
   ]
  },
  {
   "cell_type": "code",
   "execution_count": null,
   "metadata": {
    "collapsed": true
   },
   "outputs": [],
   "source": [
    "TList *listDYJnJvf = new TList;\n",
    "  listDYJnJvf->Add(h_jet_jvf_DYee1);\n",
    "  listDYJnJvf->Add(h_jet_jvf_DYee2);\n",
    "  listDYJnJvf->Add(h_jet_jvf_DYmumu1);\n",
    "  listDYJnJvf->Add(h_jet_jvf_DYmumu2);\n",
    "  listDYJnJvf->Add(h_jet_jvf_DYtautau1);\n",
    "  listDYJnJvf->Add(h_jet_jvf_DYtautau2);\n",
    "\n",
    "  \n",
    "h_jet_jvf_mergedDY->Reset();\n",
    "h_jet_jvf_mergedDY->Merge(listDYJnJvf);\n",
    "h_jet_jvf_mergedDY->SetFillColor(kBlue);\n",
    "h_jet_jvf_mergedDY->Draw();"
   ]
  },
  {
   "cell_type": "code",
   "execution_count": null,
   "metadata": {
    "collapsed": false
   },
   "outputs": [],
   "source": [
    "cdyJnJvf->Draw();"
   ]
  },
  {
   "cell_type": "code",
   "execution_count": null,
   "metadata": {
    "collapsed": true
   },
   "outputs": [],
   "source": [
    "TCanvas *cdyJMV1 = new TCanvas(\"cdyJMV1\",\"cdyJMV1\",10,10,900,700);\n",
    "    TText tdyJMV1; tdyJMV1.SetTextFont(42); tdyJMV1.SetTextAlign(21);\n",
    "    cdyJMV1->Divide(4,2);\n",
    "    cdyJMV1->cd(1); h_jet_MV1_DYee1->Draw();\n",
    "    cdyJMV1->cd(2); h_jet_MV1_DYee2->Draw();\n",
    "    cdyJMV1->cd(3); h_jet_MV1_DYmumu1->Draw();\n",
    "    cdyJMV1->cd(4); h_jet_MV1_DYmumu2->Draw();\n",
    "    cdyJMV1->cd(5); h_jet_MV1_DYtautau1->Draw();\n",
    "    cdyJMV1->cd(6); h_jet_MV1_DYtautau2->Draw();\n",
    "    cdyJMV1->cd(7); h_jet_MV1_mergedDY->Draw();\n"
   ]
  },
  {
   "cell_type": "code",
   "execution_count": null,
   "metadata": {
    "collapsed": true
   },
   "outputs": [],
   "source": [
    "TList *listDYJMV1 = new TList;\n",
    "  listDYJMV1->Add(h_jet_MV1_DYee1);\n",
    "  listDYJMV1->Add(h_jet_MV1_DYee2);\n",
    "  listDYJMV1->Add(h_jet_MV1_DYmumu1);\n",
    "  listDYJMV1->Add(h_jet_MV1_DYmumu2);\n",
    "  listDYJMV1->Add(h_jet_MV1_DYtautau1);\n",
    "  listDYJMV1->Add(h_jet_MV1_DYtautau2);\n",
    "\n",
    "  \n",
    "h_jet_MV1_mergedDY->Reset();\n",
    "h_jet_MV1_mergedDY->Merge(listDYJMV1);\n",
    "h_jet_MV1_mergedDY->SetFillColor(kBlue);\n",
    "h_jet_MV1_mergedDY->Draw();"
   ]
  },
  {
   "cell_type": "code",
   "execution_count": null,
   "metadata": {
    "collapsed": false
   },
   "outputs": [],
   "source": [
    "cdyJMV1->Draw();"
   ]
  },
  {
   "cell_type": "code",
   "execution_count": null,
   "metadata": {
    "collapsed": true
   },
   "outputs": [],
   "source": [
    "TCanvas *cdyPVXP_n = new TCanvas(\"cdyPVXP_n\",\"cdyPVXP_n\",10,10,900,700);\n",
    "    TText tdyPVXP_n; tdyPVXP_n.SetTextFont(42); tdyPVXP_n.SetTextAlign(21);\n",
    "    cdyPVXP_n->Divide(4,2);\n",
    "    cdyPVXP_n->cd(1); h_pvxp_n_DYee1->Draw();\n",
    "    cdyPVXP_n->cd(2); h_pvxp_n_DYee2->Draw();\n",
    "    cdyPVXP_n->cd(3); h_pvxp_n_DYmumu1->Draw();\n",
    "    cdyPVXP_n->cd(4); h_pvxp_n_DYmumu2->Draw();\n",
    "    cdyPVXP_n->cd(5); h_pvxp_n_DYtautau1->Draw();\n",
    "    cdyPVXP_n->cd(6); h_pvxp_n_DYtautau2->Draw();\n",
    "    cdyPVXP_n->cd(7); h_pvxp_n_mergedDY->Draw();"
   ]
  },
  {
   "cell_type": "code",
   "execution_count": null,
   "metadata": {
    "collapsed": true
   },
   "outputs": [],
   "source": [
    "TList *listDYPVXP_n = new TList;\n",
    "  listDYPVXP_n->Add(h_pvxp_n_DYee1);\n",
    "  listDYPVXP_n->Add(h_pvxp_n_DYee2);\n",
    "  listDYPVXP_n->Add(h_pvxp_n_DYmumu1);\n",
    "  listDYPVXP_n->Add(h_pvxp_n_DYmumu2);\n",
    "  listDYPVXP_n->Add(h_pvxp_n_DYtautau1);\n",
    "  listDYPVXP_n->Add(h_pvxp_n_DYtautau2);\n",
    "\n",
    "  \n",
    "h_pvxp_n_mergedDY->Reset();\n",
    "h_pvxp_n_mergedDY->Merge(listDYPVXP_n);\n",
    "h_pvxp_n_mergedDY->SetFillColor(kBlue);\n",
    "h_pvxp_n_mergedDY->Draw();"
   ]
  },
  {
   "cell_type": "code",
   "execution_count": null,
   "metadata": {
    "collapsed": false
   },
   "outputs": [],
   "source": [
    "cdyPVXP_n->Draw();"
   ]
  },
  {
   "cell_type": "code",
   "execution_count": null,
   "metadata": {
    "collapsed": true
   },
   "outputs": [],
   "source": [
    "TCanvas *cdyVXP_z = new TCanvas(\"cdyVXP_z\",\"cdyVXP_z\",10,10,900,700);\n",
    "    TText tdyVXP_z; tdyVXP_z.SetTextFont(42); tdyVXP_z.SetTextAlign(21);\n",
    "    cdyVXP_z->Divide(4,2);\n",
    "    cdyVXP_z->cd(1); h_vxp_z_DYee1->Draw();\n",
    "    cdyVXP_z->cd(2); h_vxp_z_DYee2->Draw();\n",
    "    cdyVXP_z->cd(3); h_vxp_z_DYmumu1->Draw();\n",
    "    cdyVXP_z->cd(4); h_vxp_z_DYmumu2->Draw();\n",
    "    cdyVXP_z->cd(5); h_vxp_z_DYtautau1->Draw();\n",
    "    cdyVXP_z->cd(6); h_vxp_z_DYtautau2->Draw();\n",
    "    cdyVXP_z->cd(7); h_vxp_z_mergedDY->Draw();"
   ]
  },
  {
   "cell_type": "code",
   "execution_count": null,
   "metadata": {
    "collapsed": false
   },
   "outputs": [],
   "source": [
    "TList *listDYVXP_z = new TList;\n",
    "  listDYVXP_z->Add(h_vxp_z_DYee1);\n",
    "  listDYVXP_z->Add(h_vxp_z_DYee2);\n",
    "  listDYVXP_z->Add(h_vxp_z_DYmumu1);\n",
    "  listDYVXP_z->Add(h_vxp_z_DYmumu2);\n",
    "  listDYVXP_z->Add(h_vxp_z_DYtautau1);\n",
    "  listDYVXP_z->Add(h_vxp_z_DYtautau2);\n",
    "\n",
    "  \n",
    "h_vxp_z_mergedDY->Reset();\n",
    "h_vxp_z_mergedDY->Merge(listDYVXP_z);\n",
    "h_vxp_z_mergedDY->SetFillColor(kBlue);\n",
    "h_vxp_z_mergedDY->Draw();"
   ]
  },
  {
   "cell_type": "code",
   "execution_count": null,
   "metadata": {
    "collapsed": false
   },
   "outputs": [],
   "source": [
    "cdyVXP_z->Draw();"
   ]
  },
  {
   "cell_type": "code",
   "execution_count": null,
   "metadata": {
    "collapsed": true
   },
   "outputs": [],
   "source": [
    "TCanvas *cdyMet_et = new TCanvas(\"cdyMet_et\",\"cdyMet_et\",10,10,900,700);\n",
    "    TText tdyMet_et; tdyMet_et.SetTextFont(42); tdyMet_et.SetTextAlign(21);\n",
    "    cdyMet_et->Divide(4,2);\n",
    "    cdyMet_et->cd(1); h_met_et_DYee1->Draw();\n",
    "    cdyMet_et->cd(2); h_met_et_DYee2->Draw();\n",
    "    cdyMet_et->cd(3); h_met_et_DYmumu1->Draw();\n",
    "    cdyMet_et->cd(4); h_met_et_DYmumu2->Draw();\n",
    "    cdyMet_et->cd(5); h_met_et_DYtautau1->Draw();\n",
    "    cdyMet_et->cd(6); h_met_et_DYtautau2->Draw();\n",
    "    cdyMet_et->cd(7); h_met_et_mergedDY->Draw();"
   ]
  },
  {
   "cell_type": "code",
   "execution_count": null,
   "metadata": {
    "collapsed": true
   },
   "outputs": [],
   "source": [
    "TList *listDYMet_et = new TList;\n",
    "  listDYMet_et->Add(h_met_et_DYee1);\n",
    "  listDYMet_et->Add(h_met_et_DYee2);\n",
    "  listDYMet_et->Add(h_met_et_DYmumu1);\n",
    "  listDYMet_et->Add(h_met_et_DYmumu2);\n",
    "  listDYMet_et->Add(h_met_et_DYtautau1);\n",
    "  listDYMet_et->Add(h_met_et_DYtautau2);\n",
    "\n",
    "  \n",
    "h_met_et_mergedDY->Reset();\n",
    "h_met_et_mergedDY->Merge(listDYMet_et);\n",
    "h_met_et_mergedDY->SetFillColor(kBlue);\n",
    "h_met_et_mergedDY->Draw();"
   ]
  },
  {
   "cell_type": "code",
   "execution_count": null,
   "metadata": {
    "collapsed": false
   },
   "outputs": [],
   "source": [
    "cdyMet_et->Draw();"
   ]
  },
  {
   "cell_type": "code",
   "execution_count": null,
   "metadata": {
    "collapsed": true
   },
   "outputs": [],
   "source": [
    "TCanvas *cdyInv_mass = new TCanvas(\"cdyInv_mass\",\"cdyInv_mass\",10,10,900,700);\n",
    "    TText tdyInv_mass; tdyInv_mass.SetTextFont(42); tdyInv_mass.SetTextAlign(21);\n",
    "    cdyInv_mass->Divide(4,2);\n",
    "    cdyInv_mass->cd(1); h_inv_mass_DYee1->Draw();\n",
    "    cdyInv_mass->cd(2); h_inv_mass_DYee2->Draw();\n",
    "    cdyInv_mass->cd(3); h_inv_mass_DYmumu1->Draw();\n",
    "    cdyInv_mass->cd(4); h_inv_mass_DYmumu2->Draw();\n",
    "    cdyInv_mass->cd(5); h_inv_mass_DYtautau1->Draw();\n",
    "    cdyInv_mass->cd(6); h_inv_mass_DYtautau2->Draw();\n",
    "    cdyInv_mass->cd(7); h_inv_mass_mergedDY->Draw();"
   ]
  },
  {
   "cell_type": "code",
   "execution_count": null,
   "metadata": {
    "collapsed": true
   },
   "outputs": [],
   "source": [
    "TList *listDYInv_mass = new TList;\n",
    "  listDYInv_mass->Add(h_inv_mass_DYee1);\n",
    "  listDYInv_mass->Add(h_inv_mass_DYee2);\n",
    "  listDYInv_mass->Add(h_inv_mass_DYmumu1);\n",
    "  listDYInv_mass->Add(h_inv_mass_DYmumu2);\n",
    "  listDYInv_mass->Add(h_inv_mass_DYtautau1);\n",
    "  listDYInv_mass->Add(h_inv_mass_DYtautau2);\n",
    "\n",
    "  \n",
    "h_inv_mass_mergedDY->Reset();\n",
    "h_inv_mass_mergedDY->Merge(listDYInv_mass);\n",
    "h_inv_mass_mergedDY->SetFillColor(kBlue);\n",
    "h_inv_mass_mergedDY->Draw();"
   ]
  },
  {
   "cell_type": "code",
   "execution_count": null,
   "metadata": {
    "collapsed": false
   },
   "outputs": [],
   "source": [
    "cdyInv_mass->Draw();"
   ]
  },
  {
   "cell_type": "code",
   "execution_count": null,
   "metadata": {
    "collapsed": true
   },
   "outputs": [],
   "source": [
    "TCanvas *cstop = new TCanvas(\"cstop\",\"cstop\",10,10,900,900);\n",
    "    TText tstop; tstop.SetTextFont(42); tstop.SetTextAlign(21);\n",
    "    cstop->Divide(2,2);\n",
    "    cstop->cd(1); h_lep_pt_Stchan_top->Draw();\n",
    "    cstop->cd(2); h_lep_pt_Stchan_antitop->Draw();\n",
    "    cstop->cd(3); h_lep_pt_Sschan->Draw();\n",
    "    cstop->cd(4); h_lep_pt_Swtchan->Draw();\n",
    "    "
   ]
  },
  {
   "cell_type": "code",
   "execution_count": null,
   "metadata": {
    "collapsed": true
   },
   "outputs": [],
   "source": [
    "TList *listSt = new TList;\n",
    "  listSt->Add(h_lep_pt_Stchan_top);\n",
    "  listSt->Add(h_lep_pt_Stchan_antitop);\n",
    "  listSt->Add(h_lep_pt_Sschan);\n",
    "  listSt->Add(h_lep_pt_Swtchan);\n",
    "\n",
    "h_lep_pt_mergedS->Reset();\n",
    "h_lep_pt_mergedS->Merge(listSt);\n",
    "h_lep_pt_mergedS->SetFillColor(kYellow);\n",
    "h_lep_pt_mergedS->Draw();\n",
    "  "
   ]
  },
  {
   "cell_type": "code",
   "execution_count": null,
   "metadata": {
    "collapsed": false
   },
   "outputs": [],
   "source": [
    "cstop->Draw();"
   ]
  },
  {
   "cell_type": "code",
   "execution_count": null,
   "metadata": {
    "collapsed": true
   },
   "outputs": [],
   "source": [
    "TCanvas *cstopEta = new TCanvas(\"cstopEta\",\"cstopEta\",10,10,900,900);\n",
    "    TText tstopEta; tstopEta.SetTextFont(42); tstopEta.SetTextAlign(21);\n",
    "    cstopEta->Divide(2,2);\n",
    "    cstopEta->cd(1); h_lep_eta_Stchan_top->Draw();\n",
    "    cstopEta->cd(2); h_lep_eta_Stchan_antitop->Draw();\n",
    "    cstopEta->cd(3); h_lep_eta_Sschan->Draw();\n",
    "    cstopEta->cd(4); h_lep_eta_Swtchan->Draw();"
   ]
  },
  {
   "cell_type": "code",
   "execution_count": null,
   "metadata": {
    "collapsed": true
   },
   "outputs": [],
   "source": [
    "TList *listStEta = new TList;\n",
    "  listStEta->Add(h_lep_eta_Stchan_top);\n",
    "  listStEta->Add(h_lep_eta_Stchan_antitop);\n",
    "  listStEta->Add(h_lep_eta_Sschan);\n",
    "  listStEta->Add(h_lep_eta_Swtchan);\n",
    "  \n",
    "\n",
    "h_lep_eta_mergedS->Reset();\n",
    "h_lep_eta_mergedS->Merge(listStEta);\n",
    "h_lep_eta_mergedS->SetFillColor(kBlue);\n",
    "h_lep_eta_mergedS->Draw();"
   ]
  },
  {
   "cell_type": "code",
   "execution_count": null,
   "metadata": {
    "collapsed": false
   },
   "outputs": [],
   "source": [
    "cstopEta->Draw();"
   ]
  },
  {
   "cell_type": "code",
   "execution_count": null,
   "metadata": {
    "collapsed": true
   },
   "outputs": [],
   "source": [
    "TCanvas *cstopPhi = new TCanvas(\"cstopPhi\",\"cstopPhi\",10,10,900,900);\n",
    "    TText tstopPhi; tstopPhi.SetTextFont(42); tstopPhi.SetTextAlign(21);\n",
    "    cstopPhi->Divide(2,2);\n",
    "    cstopPhi->cd(1); h_lep_phi_Stchan_top->Draw();\n",
    "    cstopPhi->cd(2); h_lep_phi_Stchan_antitop->Draw();\n",
    "    cstopPhi->cd(3); h_lep_phi_Sschan->Draw();\n",
    "    cstopPhi->cd(4); h_lep_phi_Swtchan->Draw();"
   ]
  },
  {
   "cell_type": "code",
   "execution_count": null,
   "metadata": {
    "collapsed": true
   },
   "outputs": [],
   "source": [
    "TList *listStPhi = new TList;\n",
    "  listStPhi->Add(h_lep_phi_Stchan_top);\n",
    "  listStPhi->Add(h_lep_phi_Stchan_antitop);\n",
    "  listStPhi->Add(h_lep_phi_Sschan);\n",
    "  listStPhi->Add(h_lep_phi_Swtchan);\n",
    "  \n",
    "\n",
    "h_lep_phi_mergedS->Reset();\n",
    "h_lep_phi_mergedS->Merge(listStPhi);\n",
    "h_lep_phi_mergedS->SetFillColor(kBlue);\n",
    "h_lep_phi_mergedS->Draw();"
   ]
  },
  {
   "cell_type": "code",
   "execution_count": null,
   "metadata": {
    "collapsed": false
   },
   "outputs": [],
   "source": [
    "cstopPhi->Draw();"
   ]
  },
  {
   "cell_type": "code",
   "execution_count": null,
   "metadata": {
    "collapsed": true
   },
   "outputs": [],
   "source": [
    "TCanvas *cstopE = new TCanvas(\"cstopE\",\"cstopE\",10,10,900,900);\n",
    "    TText tstopE; tstopE.SetTextFont(42); tstopE.SetTextAlign(21);\n",
    "    cstopE->Divide(2,2);\n",
    "    cstopE->cd(1); h_lep_E_Stchan_top->Draw();\n",
    "    cstopE->cd(2); h_lep_E_Stchan_antitop->Draw();\n",
    "    cstopE->cd(3); h_lep_E_Sschan->Draw();\n",
    "    cstopE->cd(4); h_lep_E_Swtchan->Draw();"
   ]
  },
  {
   "cell_type": "code",
   "execution_count": null,
   "metadata": {
    "collapsed": true
   },
   "outputs": [],
   "source": [
    "TList *listStE = new TList;\n",
    "  listStE->Add(h_lep_E_Stchan_top);\n",
    "  listStE->Add(h_lep_E_Stchan_antitop);\n",
    "  listStE->Add(h_lep_E_Sschan);\n",
    "  listStE->Add(h_lep_E_Swtchan);\n",
    "  \n",
    "\n",
    "h_lep_E_mergedS->Reset();\n",
    "h_lep_E_mergedS->Merge(listStE);\n",
    "h_lep_E_mergedS->SetFillColor(kBlue);\n",
    "h_lep_E_mergedS->Draw();"
   ]
  },
  {
   "cell_type": "code",
   "execution_count": null,
   "metadata": {
    "collapsed": false
   },
   "outputs": [],
   "source": [
    "cstopE->Draw();"
   ]
  },
  {
   "cell_type": "code",
   "execution_count": null,
   "metadata": {
    "collapsed": true
   },
   "outputs": [],
   "source": [
    "TCanvas *cstopCh = new TCanvas(\"cstopCh\",\"cstopCh\",10,10,900,900);\n",
    "    TText tstopCh; tstopCh.SetTextFont(42); tstopCh.SetTextAlign(21);\n",
    "    cstopCh->Divide(2,2);\n",
    "    cstopCh->cd(1); h_lep_charge_Stchan_top->Draw();\n",
    "    cstopCh->cd(2); h_lep_charge_Stchan_antitop->Draw();\n",
    "    cstopCh->cd(3); h_lep_charge_Sschan->Draw();\n",
    "    cstopCh->cd(4); h_lep_charge_Swtchan->Draw();"
   ]
  },
  {
   "cell_type": "code",
   "execution_count": null,
   "metadata": {
    "collapsed": true
   },
   "outputs": [],
   "source": [
    "TList *listStCh = new TList;\n",
    "  listStCh->Add(h_lep_charge_Stchan_top);\n",
    "  listStCh->Add(h_lep_charge_Stchan_antitop);\n",
    "  listStCh->Add(h_lep_charge_Sschan);\n",
    "  listStCh->Add(h_lep_charge_Swtchan);\n",
    "  \n",
    "\n",
    "h_lep_charge_mergedS->Reset();\n",
    "h_lep_charge_mergedS->Merge(listStCh);\n",
    "h_lep_charge_mergedS->SetFillColor(kBlue);\n",
    "h_lep_charge_mergedS->Draw();"
   ]
  },
  {
   "cell_type": "code",
   "execution_count": null,
   "metadata": {
    "collapsed": false
   },
   "outputs": [],
   "source": [
    "cstopCh->Draw();"
   ]
  },
  {
   "cell_type": "code",
   "execution_count": null,
   "metadata": {
    "collapsed": true
   },
   "outputs": [],
   "source": [
    "TCanvas *cstopEtc20 = new TCanvas(\"cstopEtc20\",\"cstopEtc20\",10,10,900,900);\n",
    "    TText tstopEtc20; tstopEtc20.SetTextFont(42); tstopEtc20.SetTextAlign(21);\n",
    "    cstopEtc20->Divide(2,2);\n",
    "    cstopEtc20->cd(1); h_lep_etc20_Stchan_top->Draw();\n",
    "    cstopEtc20->cd(2); h_lep_etc20_Stchan_antitop->Draw();\n",
    "    cstopEtc20->cd(3); h_lep_etc20_Sschan->Draw();\n",
    "    cstopEtc20->cd(4); h_lep_etc20_Swtchan->Draw();"
   ]
  },
  {
   "cell_type": "code",
   "execution_count": null,
   "metadata": {
    "collapsed": true
   },
   "outputs": [],
   "source": [
    "TList *listStEtc20 = new TList;\n",
    "  listStEtc20->Add(h_lep_etc20_Stchan_top);\n",
    "  listStEtc20->Add(h_lep_etc20_Stchan_antitop);\n",
    "  listStEtc20->Add(h_lep_etc20_Sschan);\n",
    "  listStEtc20->Add(h_lep_etc20_Swtchan);\n",
    "  \n",
    "\n",
    "h_lep_etc20_mergedS->Reset();\n",
    "h_lep_etc20_mergedS->Merge(listStEtc20);\n",
    "h_lep_etc20_mergedS->SetFillColor(kBlue);\n",
    "h_lep_etc20_mergedS->Draw();"
   ]
  },
  {
   "cell_type": "code",
   "execution_count": null,
   "metadata": {
    "collapsed": false
   },
   "outputs": [],
   "source": [
    "cstopEtc20->Draw();"
   ]
  },
  {
   "cell_type": "code",
   "execution_count": null,
   "metadata": {
    "collapsed": true
   },
   "outputs": [],
   "source": [
    "TCanvas *cstopPtc30 = new TCanvas(\"cstopPtc30\",\"cstopPtc30\",10,10,900,900);\n",
    "    TText tstopPtc30; tstopPtc30.SetTextFont(42); tstopPtc30.SetTextAlign(21);\n",
    "    cstopPtc30->Divide(2,2);\n",
    "    cstopPtc30->cd(1); h_lep_ptc30_Stchan_top->Draw();\n",
    "    cstopPtc30->cd(2); h_lep_ptc30_Stchan_antitop->Draw();\n",
    "    cstopPtc30->cd(3); h_lep_ptc30_Sschan->Draw();\n",
    "    cstopPtc30->cd(4); h_lep_ptc30_Swtchan->Draw();"
   ]
  },
  {
   "cell_type": "code",
   "execution_count": null,
   "metadata": {
    "collapsed": true
   },
   "outputs": [],
   "source": [
    "TList *listStPtc30 = new TList;\n",
    "  listStPtc30->Add(h_lep_ptc30_Stchan_top);\n",
    "  listStPtc30->Add(h_lep_ptc30_Stchan_antitop);\n",
    "  listStPtc30->Add(h_lep_ptc30_Sschan);\n",
    "  listStPtc30->Add(h_lep_ptc30_Swtchan);\n",
    "  \n",
    "\n",
    "h_lep_ptc30_mergedS->Reset();\n",
    "h_lep_ptc30_mergedS->Merge(listStPtc30);\n",
    "h_lep_ptc30_mergedS->SetFillColor(kBlue);\n",
    "h_lep_ptc30_mergedS->Draw();"
   ]
  },
  {
   "cell_type": "code",
   "execution_count": null,
   "metadata": {
    "collapsed": false
   },
   "outputs": [],
   "source": [
    "cstopPtc30->Draw();"
   ]
  },
  {
   "cell_type": "code",
   "execution_count": null,
   "metadata": {
    "collapsed": true
   },
   "outputs": [],
   "source": [
    "TCanvas *cstopZ0 = new TCanvas(\"cstopZ0\",\"cstopZ0\",10,10,900,900);\n",
    "    TText tstopZ0; tstopZ0.SetTextFont(42); tstopZ0.SetTextAlign(21);\n",
    "    cstopZ0->Divide(2,2);\n",
    "    cstopZ0->cd(1); h_lep_z0_Stchan_top->Draw();\n",
    "    cstopZ0->cd(2); h_lep_z0_Stchan_antitop->Draw();\n",
    "    cstopZ0->cd(3); h_lep_z0_Sschan->Draw();\n",
    "    cstopZ0->cd(4); h_lep_z0_Swtchan->Draw();"
   ]
  },
  {
   "cell_type": "code",
   "execution_count": null,
   "metadata": {
    "collapsed": true
   },
   "outputs": [],
   "source": [
    "TList *listStZ0 = new TList;\n",
    "  listStZ0->Add(h_lep_z0_Stchan_top);\n",
    "  listStZ0->Add(h_lep_z0_Stchan_antitop);\n",
    "  listStZ0->Add(h_lep_z0_Sschan);\n",
    "  listStZ0->Add(h_lep_z0_Swtchan);\n",
    "  \n",
    "\n",
    "h_lep_z0_mergedS->Reset();\n",
    "h_lep_z0_mergedS->Merge(listStZ0);\n",
    "h_lep_z0_mergedS->SetFillColor(kBlue);\n",
    "h_lep_z0_mergedS->Draw();"
   ]
  },
  {
   "cell_type": "code",
   "execution_count": null,
   "metadata": {
    "collapsed": false
   },
   "outputs": [],
   "source": [
    "cstopZ0->Draw();"
   ]
  },
  {
   "cell_type": "code",
   "execution_count": null,
   "metadata": {
    "collapsed": true
   },
   "outputs": [],
   "source": [
    "TCanvas *cstopD0 = new TCanvas(\"cstopD0\",\"cstopD0\",10,10,900,900);\n",
    "    TText tstopD0; tstopD0.SetTextFont(42); tstopD0.SetTextAlign(21);\n",
    "    cstopD0->Divide(2,2);\n",
    "    cstopD0->cd(1); h_lep_d0_Stchan_top->Draw();\n",
    "    cstopD0->cd(2); h_lep_d0_Stchan_antitop->Draw();\n",
    "    cstopD0->cd(3); h_lep_d0_Sschan->Draw();\n",
    "    cstopD0->cd(4); h_lep_d0_Swtchan->Draw();"
   ]
  },
  {
   "cell_type": "code",
   "execution_count": null,
   "metadata": {
    "collapsed": true
   },
   "outputs": [],
   "source": [
    "TList *listStD0 = new TList;\n",
    "  listStD0->Add(h_lep_d0_Stchan_top);\n",
    "  listStD0->Add(h_lep_d0_Stchan_antitop);\n",
    "  listStD0->Add(h_lep_d0_Sschan);\n",
    "  listStD0->Add(h_lep_d0_Swtchan);\n",
    "  \n",
    "\n",
    "h_lep_d0_mergedS->Reset();\n",
    "h_lep_d0_mergedS->Merge(listStD0);\n",
    "h_lep_d0_mergedS->SetFillColor(kBlue);\n",
    "h_lep_d0_mergedS->Draw();"
   ]
  },
  {
   "cell_type": "code",
   "execution_count": null,
   "metadata": {
    "collapsed": false
   },
   "outputs": [],
   "source": [
    "cstopD0->Draw();"
   ]
  },
  {
   "cell_type": "code",
   "execution_count": null,
   "metadata": {
    "collapsed": false
   },
   "outputs": [],
   "source": [
    "TCanvas *cstopPt_tl = new TCanvas(\"cstopPt_tl\",\"cstopPt_tl\",10,10,900,900);\n",
    "    TText tstopPt_tl; tstopPt_tl.SetTextFont(42); tstopPt_tl.SetTextAlign(21);\n",
    "    cstopPt_tl->Divide(2,2);\n",
    "    cstopPt_tl->cd(1); h_lep_pt_tl_Stchan_top->Draw();\n",
    "    cstopPt_tl->cd(2); h_lep_pt_tl_Stchan_antitop->Draw();\n",
    "    cstopPt_tl->cd(3); h_lep_pt_tl_Sschan->Draw();\n",
    "    cstopPt_tl->cd(4); h_lep_pt_tl_Swtchan->Draw();"
   ]
  },
  {
   "cell_type": "code",
   "execution_count": null,
   "metadata": {
    "collapsed": true
   },
   "outputs": [],
   "source": [
    "TList *listStPt_tl = new TList;\n",
    "  listStPt_tl->Add(h_lep_pt_tl_Stchan_top);\n",
    "  listStPt_tl->Add(h_lep_pt_tl_Stchan_antitop);\n",
    "  listStPt_tl->Add(h_lep_pt_tl_Sschan);\n",
    "  listStPt_tl->Add(h_lep_pt_tl_Swtchan);\n",
    "\n",
    "h_lep_pt_tl_mergedS->Reset();\n",
    "h_lep_pt_tl_mergedS->Merge(listStPt_tl);\n",
    "h_lep_pt_tl_mergedS->SetFillColor(kBlue);\n",
    "h_lep_pt_tl_mergedS->Draw();"
   ]
  },
  {
   "cell_type": "code",
   "execution_count": null,
   "metadata": {
    "collapsed": false
   },
   "outputs": [],
   "source": [
    "cstopPt_tl->Draw();"
   ]
  },
  {
   "cell_type": "code",
   "execution_count": null,
   "metadata": {
    "collapsed": true
   },
   "outputs": [],
   "source": [
    "TCanvas *cstopEta_tl = new TCanvas(\"cstopEta_tl\",\"cstopEta_tl\",10,10,900,900);\n",
    "    TText tstopEta_tl; tstopEta_tl.SetTextFont(42); tstopEta_tl.SetTextAlign(21);\n",
    "    cstopEta_tl->Divide(2,2);\n",
    "    cstopEta_tl->cd(1); h_lep_eta_tl_Stchan_top->Draw();\n",
    "    cstopEta_tl->cd(2); h_lep_eta_tl_Stchan_antitop->Draw();\n",
    "    cstopEta_tl->cd(3); h_lep_eta_tl_Sschan->Draw();\n",
    "    cstopEta_tl->cd(4); h_lep_eta_tl_Swtchan->Draw();\n"
   ]
  },
  {
   "cell_type": "code",
   "execution_count": null,
   "metadata": {
    "collapsed": true
   },
   "outputs": [],
   "source": [
    "TList *listStEta_tl = new TList;\n",
    "  listStEta_tl->Add(h_lep_eta_tl_Stchan_top);\n",
    "  listStEta_tl->Add(h_lep_eta_tl_Stchan_antitop);\n",
    "  listStEta_tl->Add(h_lep_eta_tl_Sschan);\n",
    "  listStEta_tl->Add(h_lep_eta_tl_Swtchan);\n",
    "  \n",
    "\n",
    "h_lep_eta_tl_mergedS->Reset();\n",
    "h_lep_eta_tl_mergedS->Merge(listStEta_tl);\n",
    "h_lep_eta_tl_mergedS->SetFillColor(kBlue);\n",
    "h_lep_eta_tl_mergedS->Draw();"
   ]
  },
  {
   "cell_type": "code",
   "execution_count": null,
   "metadata": {
    "collapsed": false
   },
   "outputs": [],
   "source": [
    "cstopEta_tl->Draw();"
   ]
  },
  {
   "cell_type": "code",
   "execution_count": null,
   "metadata": {
    "collapsed": true
   },
   "outputs": [],
   "source": [
    "TCanvas *cstopPhi_tl = new TCanvas(\"cstopPhi_tl\",\"cstopPhi_tl\",10,10,900,900);\n",
    "    TText tstopPhi_tl; tstopPhi_tl.SetTextFont(42); tstopPhi_tl.SetTextAlign(21);\n",
    "    cstopPhi_tl->Divide(2,2);\n",
    "    cstopPhi_tl->cd(1); h_lep_phi_tl_Stchan_top->Draw();\n",
    "    cstopPhi_tl->cd(2); h_lep_phi_tl_Stchan_antitop->Draw();\n",
    "    cstopPhi_tl->cd(3); h_lep_phi_tl_Sschan->Draw();\n",
    "    cstopPhi_tl->cd(4); h_lep_phi_tl_Swtchan->Draw();\n"
   ]
  },
  {
   "cell_type": "code",
   "execution_count": null,
   "metadata": {
    "collapsed": true
   },
   "outputs": [],
   "source": [
    "TList *listStPhi_tl = new TList;\n",
    "  listStPhi_tl->Add(h_lep_phi_tl_Stchan_top);\n",
    "  listStPhi_tl->Add(h_lep_phi_tl_Stchan_antitop);\n",
    "  listStPhi_tl->Add(h_lep_phi_tl_Sschan);\n",
    "  listStPhi_tl->Add(h_lep_phi_tl_Swtchan);\n",
    "  \n",
    "\n",
    "h_lep_phi_tl_mergedS->Reset();\n",
    "h_lep_phi_tl_mergedS->Merge(listStPhi_tl);\n",
    "h_lep_phi_tl_mergedS->SetFillColor(kBlue);\n",
    "h_lep_phi_tl_mergedS->Draw();"
   ]
  },
  {
   "cell_type": "code",
   "execution_count": null,
   "metadata": {
    "collapsed": false
   },
   "outputs": [],
   "source": [
    "cstopPhi_tl->Draw();"
   ]
  },
  {
   "cell_type": "code",
   "execution_count": null,
   "metadata": {
    "collapsed": true
   },
   "outputs": [],
   "source": [
    "TCanvas *cstopE_tl = new TCanvas(\"cstopE_tl\",\"cstopE_tl\",10,10,900,900);\n",
    "    TText tstopE_tl; tstopE_tl.SetTextFont(42); tstopE_tl.SetTextAlign(21);\n",
    "    cstopE_tl->Divide(2,2);\n",
    "    cstopE_tl->cd(1); h_lep_E_tl_Stchan_top->Draw();\n",
    "    cstopE_tl->cd(2); h_lep_E_tl_Stchan_antitop->Draw();\n",
    "    cstopE_tl->cd(3); h_lep_E_tl_Sschan->Draw();\n",
    "    cstopE_tl->cd(4); h_lep_E_tl_Swtchan->Draw();\n"
   ]
  },
  {
   "cell_type": "code",
   "execution_count": null,
   "metadata": {
    "collapsed": true
   },
   "outputs": [],
   "source": [
    "TList *listStE_tl = new TList;\n",
    "  listStE_tl->Add(h_lep_E_tl_Stchan_top);\n",
    "  listStE_tl->Add(h_lep_E_tl_Stchan_antitop);\n",
    "  listStE_tl->Add(h_lep_E_tl_Sschan);\n",
    "  listStE_tl->Add(h_lep_E_tl_Swtchan);\n",
    "  \n",
    "\n",
    "h_lep_E_tl_mergedS->Reset();\n",
    "h_lep_E_tl_mergedS->Merge(listStE_tl);\n",
    "h_lep_E_tl_mergedS->SetFillColor(kBlue);\n",
    "h_lep_E_tl_mergedS->Draw();"
   ]
  },
  {
   "cell_type": "code",
   "execution_count": null,
   "metadata": {
    "collapsed": false
   },
   "outputs": [],
   "source": [
    "cstopE_tl->Draw();"
   ]
  },
  {
   "cell_type": "code",
   "execution_count": null,
   "metadata": {
    "collapsed": true
   },
   "outputs": [],
   "source": [
    "TCanvas *cstopCh_tl = new TCanvas(\"cstopCh_tl\",\"cstopCh_tl\",10,10,900,900);\n",
    "    TText tstopCh_tl; tstopCh_tl.SetTextFont(42); tstopCh_tl.SetTextAlign(21);\n",
    "    cstopCh_tl->Divide(2,2);\n",
    "    cstopCh_tl->cd(1); h_lep_charge_tl_Stchan_top->Draw();\n",
    "    cstopCh_tl->cd(2); h_lep_charge_tl_Stchan_antitop->Draw();\n",
    "    cstopCh_tl->cd(3); h_lep_charge_tl_Sschan->Draw();\n",
    "    cstopCh_tl->cd(4); h_lep_charge_tl_Swtchan->Draw();\n"
   ]
  },
  {
   "cell_type": "code",
   "execution_count": null,
   "metadata": {
    "collapsed": true
   },
   "outputs": [],
   "source": [
    "TList *listStCh_tl = new TList;\n",
    "  listStCh_tl->Add(h_lep_charge_tl_Stchan_top);\n",
    "  listStCh_tl->Add(h_lep_charge_tl_Stchan_antitop);\n",
    "  listStCh_tl->Add(h_lep_charge_tl_Sschan);\n",
    "  listStCh_tl->Add(h_lep_charge_tl_Swtchan);\n",
    "  \n",
    "\n",
    "h_lep_charge_tl_mergedS->Reset();\n",
    "h_lep_charge_tl_mergedS->Merge(listStCh_tl);\n",
    "h_lep_charge_tl_mergedS->SetFillColor(kBlue);\n",
    "h_lep_charge_tl_mergedS->Draw();"
   ]
  },
  {
   "cell_type": "code",
   "execution_count": null,
   "metadata": {
    "collapsed": false
   },
   "outputs": [],
   "source": [
    "cstopCh_tl->Draw();"
   ]
  },
  {
   "cell_type": "code",
   "execution_count": null,
   "metadata": {
    "collapsed": true
   },
   "outputs": [],
   "source": [
    "TCanvas *cstopEtc20_tl = new TCanvas(\"cstopEtc20_tl\",\"cstopEtc20_tl\",10,10,900,900);\n",
    "    TText tstopEtc20_tl; tstopEtc20_tl.SetTextFont(42); tstopEtc20_tl.SetTextAlign(21);\n",
    "    cstopEtc20_tl->Divide(2,2);\n",
    "    cstopEtc20_tl->cd(1); h_lep_etc20_tl_Stchan_top->Draw();\n",
    "    cstopEtc20_tl->cd(2); h_lep_etc20_tl_Stchan_antitop->Draw();\n",
    "    cstopEtc20_tl->cd(3); h_lep_etc20_tl_Sschan->Draw();\n",
    "    cstopEtc20_tl->cd(4); h_lep_etc20_tl_Swtchan->Draw();\n"
   ]
  },
  {
   "cell_type": "code",
   "execution_count": null,
   "metadata": {
    "collapsed": true
   },
   "outputs": [],
   "source": [
    "TList *listStEtc20_tl = new TList;\n",
    "  listStEtc20_tl->Add(h_lep_etc20_tl_Stchan_top);\n",
    "  listStEtc20_tl->Add(h_lep_etc20_tl_Stchan_antitop);\n",
    "  listStEtc20_tl->Add(h_lep_etc20_tl_Sschan);\n",
    "  listStEtc20_tl->Add(h_lep_etc20_tl_Swtchan);\n",
    "  \n",
    "\n",
    "h_lep_etc20_tl_mergedS->Reset();\n",
    "h_lep_etc20_tl_mergedS->Merge(listStEtc20_tl);\n",
    "h_lep_etc20_tl_mergedS->SetFillColor(kBlue);\n",
    "h_lep_etc20_tl_mergedS->Draw();"
   ]
  },
  {
   "cell_type": "code",
   "execution_count": null,
   "metadata": {
    "collapsed": false
   },
   "outputs": [],
   "source": [
    "cstopEtc20_tl->Draw();"
   ]
  },
  {
   "cell_type": "code",
   "execution_count": null,
   "metadata": {
    "collapsed": true
   },
   "outputs": [],
   "source": [
    "TCanvas *cstopPtc30_tl = new TCanvas(\"cstopPtc30_tl\",\"cstopPtc30_tl\",10,10,900,900);\n",
    "    TText tstopPtc30_tl; tstopPtc30_tl.SetTextFont(42); tstopPtc30_tl.SetTextAlign(21);\n",
    "    cstopPtc30_tl->Divide(2,2);\n",
    "    cstopPtc30_tl->cd(1); h_lep_ptc30_tl_Stchan_top->Draw();\n",
    "    cstopPtc30_tl->cd(2); h_lep_ptc30_tl_Stchan_antitop->Draw();\n",
    "    cstopPtc30_tl->cd(3); h_lep_ptc30_tl_Sschan->Draw();\n",
    "    cstopPtc30_tl->cd(4); h_lep_ptc30_tl_Swtchan->Draw();\n"
   ]
  },
  {
   "cell_type": "code",
   "execution_count": null,
   "metadata": {
    "collapsed": true
   },
   "outputs": [],
   "source": [
    "TList *listStPtc30_tl = new TList;\n",
    "  listStPtc30_tl->Add(h_lep_ptc30_tl_Stchan_top);\n",
    "  listStPtc30_tl->Add(h_lep_ptc30_tl_Stchan_antitop);\n",
    "  listStPtc30_tl->Add(h_lep_ptc30_tl_Sschan);\n",
    "  listStPtc30_tl->Add(h_lep_ptc30_tl_Swtchan);\n",
    "  \n",
    "\n",
    "h_lep_ptc30_tl_mergedS->Reset();\n",
    "h_lep_ptc30_tl_mergedS->Merge(listStPtc30);\n",
    "h_lep_ptc30_tl_mergedS->SetFillColor(kBlue);\n",
    "h_lep_ptc30_tl_mergedS->Draw();"
   ]
  },
  {
   "cell_type": "code",
   "execution_count": null,
   "metadata": {
    "collapsed": false
   },
   "outputs": [],
   "source": [
    "cstopPtc30_tl->Draw();"
   ]
  },
  {
   "cell_type": "code",
   "execution_count": null,
   "metadata": {
    "collapsed": true
   },
   "outputs": [],
   "source": [
    "TCanvas *cstopZ0_tl = new TCanvas(\"cstopZ0_tl\",\"cstopZ0_tl\",10,10,900,900);\n",
    "    TText tstopZ0_tl; tstopZ0_tl.SetTextFont(42); tstopZ0_tl.SetTextAlign(21);\n",
    "    cstopZ0_tl->Divide(2,2);\n",
    "    cstopZ0_tl->cd(1); h_lep_z0_tl_Stchan_top->Draw();\n",
    "    cstopZ0_tl->cd(2); h_lep_z0_tl_Stchan_antitop->Draw();\n",
    "    cstopZ0_tl->cd(3); h_lep_z0_tl_Sschan->Draw();\n",
    "    cstopZ0_tl->cd(4); h_lep_z0_tl_Swtchan->Draw();\n",
    "\n"
   ]
  },
  {
   "cell_type": "code",
   "execution_count": null,
   "metadata": {
    "collapsed": true
   },
   "outputs": [],
   "source": [
    "TList *listStZ0_tl = new TList;\n",
    "  listStZ0_tl->Add(h_lep_z0_tl_Stchan_top);\n",
    "  listStZ0_tl->Add(h_lep_z0_tl_Stchan_antitop);\n",
    "  listStZ0_tl->Add(h_lep_z0_tl_Sschan);\n",
    "  listStZ0_tl->Add(h_lep_z0_tl_Swtchan);\n",
    "  \n",
    "\n",
    "h_lep_z0_tl_mergedS->Reset();\n",
    "h_lep_z0_tl_mergedS->Merge(listStZ0_tl);\n",
    "h_lep_z0_tl_mergedS->SetFillColor(kBlue);\n",
    "h_lep_z0_tl_mergedS->Draw();"
   ]
  },
  {
   "cell_type": "code",
   "execution_count": null,
   "metadata": {
    "collapsed": false
   },
   "outputs": [],
   "source": [
    "cstopZ0_tl->Draw();"
   ]
  },
  {
   "cell_type": "code",
   "execution_count": null,
   "metadata": {
    "collapsed": true
   },
   "outputs": [],
   "source": [
    "TCanvas *cstopD0_tl = new TCanvas(\"cstopD0_tl\",\"cstopD0_tl\",10,10,900,900);\n",
    "    TText tstopD0_tl; tstopD0_tl.SetTextFont(42); tstopD0_tl.SetTextAlign(21);\n",
    "    cstopD0_tl->Divide(2,2);\n",
    "    cstopD0_tl->cd(1); h_lep_d0_tl_Stchan_top->Draw();\n",
    "    cstopD0_tl->cd(2); h_lep_d0_tl_Stchan_antitop->Draw();\n",
    "    cstopD0_tl->cd(3); h_lep_d0_tl_Sschan->Draw();\n",
    "    cstopD0_tl->cd(4); h_lep_d0_tl_Swtchan->Draw();\n"
   ]
  },
  {
   "cell_type": "code",
   "execution_count": null,
   "metadata": {
    "collapsed": true
   },
   "outputs": [],
   "source": [
    "TList *listStD0_tl = new TList;\n",
    "  listStD0_tl->Add(h_lep_d0_tl_Stchan_top);\n",
    "  listStD0_tl->Add(h_lep_d0_tl_Stchan_antitop);\n",
    "  listStD0_tl->Add(h_lep_d0_tl_Sschan);\n",
    "  listStD0_tl->Add(h_lep_d0_tl_Swtchan);\n",
    "  \n",
    "\n",
    "h_lep_d0_tl_mergedS->Reset();\n",
    "h_lep_d0_tl_mergedS->Merge(listStD0_tl);\n",
    "h_lep_d0_tl_mergedS->SetFillColor(kBlue);\n",
    "h_lep_d0_tl_mergedS->Draw();"
   ]
  },
  {
   "cell_type": "code",
   "execution_count": null,
   "metadata": {
    "collapsed": false
   },
   "outputs": [],
   "source": [
    "cstopD0_tl->Draw();"
   ]
  },
  {
   "cell_type": "code",
   "execution_count": null,
   "metadata": {
    "collapsed": true
   },
   "outputs": [],
   "source": [
    "TCanvas *cstopJn = new TCanvas(\"cstopJn\",\"cstopJn\",10,10,900,900);\n",
    "    TText tstopJn; tstopJn.SetTextFont(42); tstopJn.SetTextAlign(21);\n",
    "    cstopJn->Divide(2,2);\n",
    "    cstopJn->cd(1); h_jet_n_Stchan_top->Draw();\n",
    "    cstopJn->cd(2); h_jet_n_Stchan_antitop->Draw();\n",
    "    cstopJn->cd(3); h_jet_n_Sschan->Draw();\n",
    "    cstopJn->cd(4); h_jet_n_Swtchan->Draw();\n"
   ]
  },
  {
   "cell_type": "code",
   "execution_count": null,
   "metadata": {
    "collapsed": true
   },
   "outputs": [],
   "source": [
    "TList *listStJn = new TList;\n",
    "  listStJn->Add(h_jet_n_Stchan_top);\n",
    "  listStJn->Add(h_jet_n_Stchan_antitop);\n",
    "  listStJn->Add(h_jet_n_Sschan);\n",
    "  listStJn->Add(h_jet_n_Swtchan);\n",
    "\n",
    "h_jet_n_mergedS->Reset();\n",
    "h_jet_n_mergedS->Merge(listStJn);\n",
    "h_jet_n_mergedS->SetFillColor(kBlue);\n",
    "h_jet_n_mergedS->Draw();"
   ]
  },
  {
   "cell_type": "code",
   "execution_count": null,
   "metadata": {
    "collapsed": false
   },
   "outputs": [],
   "source": [
    "cstopJn->Draw();"
   ]
  },
  {
   "cell_type": "code",
   "execution_count": null,
   "metadata": {
    "collapsed": true
   },
   "outputs": [],
   "source": [
    "TCanvas *cstopJnPt = new TCanvas(\"cstopJnPt\",\"cstopJnPt\",10,10,900,900);\n",
    "    TText tstopJnPt; tstopJnPt.SetTextFont(42); tstopJnPt.SetTextAlign(21);\n",
    "    cstopJnPt->Divide(2,2);\n",
    "    cstopJnPt->cd(1); h_jet_pt_Stchan_top->Draw();\n",
    "    cstopJnPt->cd(2); h_jet_pt_Stchan_antitop->Draw();\n",
    "    cstopJnPt->cd(3); h_jet_pt_Sschan->Draw();\n",
    "    cstopJnPt->cd(4); h_jet_pt_Swtchan->Draw();"
   ]
  },
  {
   "cell_type": "code",
   "execution_count": null,
   "metadata": {
    "collapsed": true
   },
   "outputs": [],
   "source": [
    "TList *listStJnPt = new TList;\n",
    "  listStJnPt->Add(h_jet_pt_Stchan_top);\n",
    "  listStJnPt->Add(h_jet_pt_Stchan_antitop);\n",
    "  listStJnPt->Add(h_jet_pt_Sschan);\n",
    "  listStJnPt->Add(h_jet_pt_Swtchan);\n",
    "\n",
    "h_jet_pt_mergedS->Reset();\n",
    "h_jet_pt_mergedS->Merge(listStJnPt);\n",
    "h_jet_pt_mergedS->SetFillColor(kBlue);\n",
    "h_jet_pt_mergedS->Draw();"
   ]
  },
  {
   "cell_type": "code",
   "execution_count": null,
   "metadata": {
    "collapsed": false
   },
   "outputs": [],
   "source": [
    "cstopJnPt->Draw();"
   ]
  },
  {
   "cell_type": "code",
   "execution_count": null,
   "metadata": {
    "collapsed": true
   },
   "outputs": [],
   "source": [
    "TCanvas *cstopJnEta = new TCanvas(\"cstopJnEta\",\"cstopJnEta\",10,10,900,900);\n",
    "    TText tstopJnEta; tstopJnEta.SetTextFont(42); tstopJnEta.SetTextAlign(21);\n",
    "    cstopJnEta->Divide(2,2);\n",
    "    cstopJnEta->cd(1); h_jet_eta_Stchan_top->Draw();\n",
    "    cstopJnEta->cd(2); h_jet_eta_Stchan_antitop->Draw();\n",
    "    cstopJnEta->cd(3); h_jet_eta_Sschan->Draw();\n",
    "    cstopJnEta->cd(4); h_jet_eta_Swtchan->Draw();"
   ]
  },
  {
   "cell_type": "code",
   "execution_count": null,
   "metadata": {
    "collapsed": true
   },
   "outputs": [],
   "source": [
    "TList *listStJnEta = new TList;\n",
    "  listStJnEta->Add(h_jet_eta_Stchan_top);\n",
    "  listStJnEta->Add(h_jet_eta_Stchan_antitop);\n",
    "  listStJnEta->Add(h_jet_eta_Sschan);\n",
    "  listStJnEta->Add(h_jet_eta_Swtchan);\n",
    "\n",
    "h_jet_eta_mergedS->Reset();\n",
    "h_jet_eta_mergedS->Merge(listStJnEta);\n",
    "h_jet_eta_mergedS->SetFillColor(kBlue);\n",
    "h_jet_eta_mergedS->Draw();"
   ]
  },
  {
   "cell_type": "code",
   "execution_count": null,
   "metadata": {
    "collapsed": false
   },
   "outputs": [],
   "source": [
    "cstopJnEta->Draw();"
   ]
  },
  {
   "cell_type": "code",
   "execution_count": null,
   "metadata": {
    "collapsed": true
   },
   "outputs": [],
   "source": [
    "TCanvas *cstopJm = new TCanvas(\"cstopJm\",\"cstopJm\",10,10,900,900);\n",
    "    TText tstopJm; tstopJm.SetTextFont(42); tstopJm.SetTextAlign(21);\n",
    "    cstopJm->Divide(2,2);\n",
    "    cstopJm->cd(1); h_jet_m_Stchan_top->Draw();\n",
    "    cstopJm->cd(2); h_jet_m_Stchan_antitop->Draw();\n",
    "    cstopJm->cd(3); h_jet_m_Sschan->Draw();\n",
    "    cstopJm->cd(4); h_jet_m_Swtchan->Draw();\n"
   ]
  },
  {
   "cell_type": "code",
   "execution_count": null,
   "metadata": {
    "collapsed": true
   },
   "outputs": [],
   "source": [
    "TList *listStJm = new TList;\n",
    "  listStJm->Add(h_jet_m_Stchan_top);\n",
    "  listStJm->Add(h_jet_m_Stchan_antitop);\n",
    "  listStJm->Add(h_jet_m_Sschan);\n",
    "  listStJm->Add(h_jet_m_Swtchan);\n",
    "\n",
    "h_jet_m_mergedS->Reset();\n",
    "h_jet_m_mergedS->Merge(listStJm);\n",
    "h_jet_m_mergedS->SetFillColor(kBlue);\n",
    "h_jet_m_mergedS->Draw();"
   ]
  },
  {
   "cell_type": "code",
   "execution_count": null,
   "metadata": {
    "collapsed": false
   },
   "outputs": [],
   "source": [
    "cstopJm->Draw();"
   ]
  },
  {
   "cell_type": "code",
   "execution_count": null,
   "metadata": {
    "collapsed": true
   },
   "outputs": [],
   "source": [
    "TCanvas *cstopJnJvf = new TCanvas(\"cstopJnJvf\",\"cstopJnJvf\",10,10,900,900);\n",
    "    TText tstopJnJvf; tstopJnJvf.SetTextFont(42); tstopJnJvf.SetTextAlign(21);\n",
    "    cstopJnJvf->Divide(2,2);\n",
    "    cstopJnJvf->cd(1); h_jet_jvf_Stchan_top->Draw();\n",
    "    cstopJnJvf->cd(2); h_jet_jvf_Stchan_antitop->Draw();\n",
    "    cstopJnJvf->cd(3); h_jet_jvf_Sschan->Draw();\n",
    "    cstopJnJvf->cd(4); h_jet_jvf_Swtchan->Draw();\n"
   ]
  },
  {
   "cell_type": "code",
   "execution_count": null,
   "metadata": {
    "collapsed": true
   },
   "outputs": [],
   "source": [
    "TList *listStJnJvf = new TList;\n",
    "  listStJnJvf->Add(h_jet_jvf_Stchan_top);\n",
    "  listStJnJvf->Add(h_jet_jvf_Stchan_antitop);\n",
    "  listStJnJvf->Add(h_jet_jvf_Sschan);\n",
    "  listStJnJvf->Add(h_jet_jvf_Swtchan);\n",
    "\n",
    "h_jet_jvf_mergedS->Reset();\n",
    "h_jet_jvf_mergedS->Merge(listStJnJvf);\n",
    "h_jet_jvf_mergedS->SetFillColor(kBlue);\n",
    "h_jet_jvf_mergedS->Draw();"
   ]
  },
  {
   "cell_type": "code",
   "execution_count": null,
   "metadata": {
    "collapsed": false
   },
   "outputs": [],
   "source": [
    "cstopJnJvf->Draw();"
   ]
  },
  {
   "cell_type": "code",
   "execution_count": null,
   "metadata": {
    "collapsed": true
   },
   "outputs": [],
   "source": [
    "TCanvas *cstopJMV1 = new TCanvas(\"cstopJMV1\",\"cstopJMV1\",10,10,900,900);\n",
    "    TText tstopJMV1; tstopJMV1.SetTextFont(42); tstopJMV1.SetTextAlign(21);\n",
    "    cstopJMV1->Divide(2,2);\n",
    "    cstopJMV1->cd(1); h_jet_MV1_Stchan_top->Draw();\n",
    "    cstopJMV1->cd(2); h_jet_MV1_Stchan_antitop->Draw();\n",
    "    cstopJMV1->cd(3); h_jet_MV1_Sschan->Draw();\n",
    "    cstopJMV1->cd(4); h_jet_MV1_Swtchan->Draw();"
   ]
  },
  {
   "cell_type": "code",
   "execution_count": null,
   "metadata": {
    "collapsed": true
   },
   "outputs": [],
   "source": [
    "TList *listStJMV1 = new TList;\n",
    "  listStJMV1->Add(h_jet_MV1_Stchan_top);\n",
    "  listStJMV1->Add(h_jet_MV1_Stchan_antitop);\n",
    "  listStJMV1->Add(h_jet_MV1_Sschan);\n",
    "  listStJMV1->Add(h_jet_MV1_Swtchan);\n",
    "\n",
    "h_jet_MV1_mergedS->Reset();\n",
    "h_jet_MV1_mergedS->Merge(listStJMV1);\n",
    "h_jet_MV1_mergedS->SetFillColor(kBlue);\n",
    "h_jet_MV1_mergedS->Draw();"
   ]
  },
  {
   "cell_type": "code",
   "execution_count": null,
   "metadata": {
    "collapsed": false
   },
   "outputs": [],
   "source": [
    "cstopJMV1->Draw();"
   ]
  },
  {
   "cell_type": "code",
   "execution_count": null,
   "metadata": {
    "collapsed": true
   },
   "outputs": [],
   "source": [
    "TCanvas *cstopPVXP_n = new TCanvas(\"cstopPVXP_n\",\"cstopPVXP_n\",10,10,900,900);\n",
    "    TText tstopPVXP_n; tstopPVXP_n.SetTextFont(42); tstopPVXP_n.SetTextAlign(21);\n",
    "    cstopPVXP_n->Divide(2,2);\n",
    "    cstopPVXP_n->cd(1); h_pvxp_n_Stchan_top->Draw();\n",
    "    cstopPVXP_n->cd(2); h_pvxp_n_Stchan_antitop->Draw();\n",
    "    cstopPVXP_n->cd(3); h_pvxp_n_Sschan->Draw();\n",
    "    cstopPVXP_n->cd(4); h_pvxp_n_Swtchan->Draw();"
   ]
  },
  {
   "cell_type": "code",
   "execution_count": null,
   "metadata": {
    "collapsed": true
   },
   "outputs": [],
   "source": [
    "TList *listStPVXP_n = new TList;\n",
    "  listStPVXP_n->Add(h_pvxp_n_Stchan_top);\n",
    "  listStPVXP_n->Add(h_pvxp_n_Stchan_antitop);\n",
    "  listStPVXP_n->Add(h_pvxp_n_Sschan);\n",
    "  listStPVXP_n->Add(h_pvxp_n_Swtchan);\n",
    "\n",
    "h_pvxp_n_mergedS->Reset();\n",
    "h_pvxp_n_mergedS->Merge(listStPVXP_n);\n",
    "h_pvxp_n_mergedS->SetFillColor(kBlue);\n",
    "h_pvxp_n_mergedS->Draw();"
   ]
  },
  {
   "cell_type": "code",
   "execution_count": null,
   "metadata": {
    "collapsed": false
   },
   "outputs": [],
   "source": [
    "cstopPVXP_n->Draw();"
   ]
  },
  {
   "cell_type": "code",
   "execution_count": null,
   "metadata": {
    "collapsed": true
   },
   "outputs": [],
   "source": [
    "TCanvas *cstopVXP_z = new TCanvas(\"cstopVXP_z\",\"cstopVXP_z\",10,10,900,900);\n",
    "    TText tstopVXP_z; tstopVXP_z.SetTextFont(42); tstopVXP_z.SetTextAlign(21);\n",
    "    cstopVXP_z->Divide(2,2);\n",
    "    cstopVXP_z->cd(1); h_vxp_z_Stchan_top->Draw();\n",
    "    cstopVXP_z->cd(2); h_vxp_z_Stchan_antitop->Draw();\n",
    "    cstopVXP_z->cd(3); h_vxp_z_Sschan->Draw();\n",
    "    cstopVXP_z->cd(4); h_vxp_z_Swtchan->Draw();"
   ]
  },
  {
   "cell_type": "code",
   "execution_count": null,
   "metadata": {
    "collapsed": true
   },
   "outputs": [],
   "source": [
    "TList *listStVXP_z = new TList;\n",
    "  listStVXP_z->Add(h_vxp_z_Stchan_top);\n",
    "  listStVXP_z->Add(h_vxp_z_Stchan_antitop);\n",
    "  listStVXP_z->Add(h_vxp_z_Sschan);\n",
    "  listStVXP_z->Add(h_vxp_z_Swtchan);\n",
    "\n",
    "h_vxp_z_mergedS->Reset();\n",
    "h_vxp_z_mergedS->Merge(listStVXP_z);\n",
    "h_vxp_z_mergedS->SetFillColor(kBlue);\n",
    "h_vxp_z_mergedS->Draw();"
   ]
  },
  {
   "cell_type": "code",
   "execution_count": null,
   "metadata": {
    "collapsed": false
   },
   "outputs": [],
   "source": [
    "cstopVXP_z->Draw();"
   ]
  },
  {
   "cell_type": "code",
   "execution_count": null,
   "metadata": {
    "collapsed": true
   },
   "outputs": [],
   "source": [
    "TCanvas *cstopMet_et = new TCanvas(\"cstopMet_et\",\"cstopMet_et\",10,10,900,900);\n",
    "    TText tstopMet_et; tstopMet_et.SetTextFont(42); tstopMet_et.SetTextAlign(21);\n",
    "    cstopMet_et->Divide(2,2);\n",
    "    cstopMet_et->cd(1); h_met_et_Stchan_top->Draw();\n",
    "    cstopMet_et->cd(2); h_met_et_Stchan_antitop->Draw();\n",
    "    cstopMet_et->cd(3); h_met_et_Sschan->Draw();\n",
    "    cstopMet_et->cd(4); h_met_et_Swtchan->Draw();"
   ]
  },
  {
   "cell_type": "code",
   "execution_count": null,
   "metadata": {
    "collapsed": true
   },
   "outputs": [],
   "source": [
    "TList *listStMet_et = new TList;\n",
    "  listStMet_et->Add(h_met_et_Stchan_top);\n",
    "  listStMet_et->Add(h_met_et_Stchan_antitop);\n",
    "  listStMet_et->Add(h_met_et_Sschan);\n",
    "  listStMet_et->Add(h_met_et_Swtchan);\n",
    "\n",
    "h_met_et_mergedS->Reset();\n",
    "h_met_et_mergedS->Merge(listStMet_et);\n",
    "h_met_et_mergedS->SetFillColor(kBlue);\n",
    "h_met_et_mergedS->Draw();"
   ]
  },
  {
   "cell_type": "code",
   "execution_count": null,
   "metadata": {
    "collapsed": false
   },
   "outputs": [],
   "source": [
    "cstopMet_et->Draw();"
   ]
  },
  {
   "cell_type": "code",
   "execution_count": null,
   "metadata": {
    "collapsed": true
   },
   "outputs": [],
   "source": [
    "TCanvas *cstopInv_mass = new TCanvas(\"cstopInv_mass\",\"cstopInv_mass\",10,10,900,900);\n",
    "    TText tstopInv_mass; tstopInv_mass.SetTextFont(42); tstopInv_mass.SetTextAlign(21);\n",
    "    cstopInv_mass->Divide(2,2);\n",
    "    cstopInv_mass->cd(1); h_inv_mass_Stchan_top->Draw();\n",
    "    cstopInv_mass->cd(2); h_inv_mass_Stchan_antitop->Draw();\n",
    "    cstopInv_mass->cd(3); h_inv_mass_Sschan->Draw();\n",
    "    cstopInv_mass->cd(4); h_inv_mass_Swtchan->Draw();"
   ]
  },
  {
   "cell_type": "code",
   "execution_count": null,
   "metadata": {
    "collapsed": true
   },
   "outputs": [],
   "source": [
    "TList *listStInv_mass = new TList;\n",
    "  listStInv_mass->Add(h_inv_mass_Stchan_top);\n",
    "  listStInv_mass->Add(h_inv_mass_Stchan_antitop);\n",
    "  listStInv_mass->Add(h_inv_mass_Sschan);\n",
    "  listStInv_mass->Add(h_inv_mass_Swtchan);\n",
    "\n",
    "h_inv_mass_mergedS->Reset();\n",
    "h_inv_mass_mergedS->Merge(listStInv_mass);\n",
    "h_inv_mass_mergedS->SetFillColor(kBlue);\n",
    "h_inv_mass_mergedS->Draw();"
   ]
  },
  {
   "cell_type": "code",
   "execution_count": null,
   "metadata": {
    "collapsed": false
   },
   "outputs": [],
   "source": [
    "cstopInv_mass->Draw();"
   ]
  },
  {
   "cell_type": "code",
   "execution_count": null,
   "metadata": {
    "collapsed": true
   },
   "outputs": [],
   "source": [
    "TCanvas *ctt = new TCanvas(\"ctt\",\"ctt\",10,10,900,900);\n",
    "    TText tt; tt.SetTextFont(42); tt.SetTextAlign(21);\n",
    "    ctt->Divide(2,1);\n",
    "    ctt->cd(1); h_lep_pt_TThad->Draw();\n",
    "    ctt->cd(2); h_lep_pt_TTlep->Draw();\n",
    "   "
   ]
  },
  {
   "cell_type": "code",
   "execution_count": null,
   "metadata": {
    "collapsed": true
   },
   "outputs": [],
   "source": [
    "TList *listt = new TList;\n",
    "  listt->Add(h_lep_pt_TThad);\n",
    "  listt->Add(h_lep_pt_TTlep);\n",
    "\n",
    "h_lep_pt_mergedTT->Reset();\n",
    "h_lep_pt_mergedTT->Merge(listt);\n",
    "h_lep_pt_mergedTT->SetFillColor(kGreen);\n",
    "h_lep_pt_mergedTT->Draw();\n",
    " "
   ]
  },
  {
   "cell_type": "code",
   "execution_count": null,
   "metadata": {
    "collapsed": false
   },
   "outputs": [],
   "source": [
    "ctt->Draw();"
   ]
  },
  {
   "cell_type": "code",
   "execution_count": null,
   "metadata": {
    "collapsed": true
   },
   "outputs": [],
   "source": [
    "TCanvas *cttEta = new TCanvas(\"cttEta\",\"cttEta\",10,10,900,900);\n",
    "    TText ttEta; ttEta.SetTextFont(42); ttEta.SetTextAlign(21);\n",
    "    cttEta->Divide(2,1);\n",
    "    cttEta->cd(1); h_lep_eta_TThad->Draw();\n",
    "    cttEta->cd(2); h_lep_eta_TTlep->Draw();"
   ]
  },
  {
   "cell_type": "code",
   "execution_count": null,
   "metadata": {
    "collapsed": true
   },
   "outputs": [],
   "source": [
    "TList *listtEta = new TList;\n",
    "  listtEta->Add(h_lep_eta_TThad);\n",
    "  listtEta->Add(h_lep_eta_TTlep);\n",
    "\n",
    "h_lep_eta_mergedTT->Reset();\n",
    "h_lep_eta_mergedTT->Merge(listtEta);\n",
    "h_lep_eta_mergedTT->SetFillColor(kBlue);\n",
    "h_lep_eta_mergedTT->Draw();"
   ]
  },
  {
   "cell_type": "code",
   "execution_count": null,
   "metadata": {
    "collapsed": false
   },
   "outputs": [],
   "source": [
    "cttEta->Draw();"
   ]
  },
  {
   "cell_type": "code",
   "execution_count": null,
   "metadata": {
    "collapsed": true
   },
   "outputs": [],
   "source": [
    "TCanvas *cttPhi = new TCanvas(\"cttPhi\",\"cttPhi\",10,10,900,900);\n",
    "    TText ttPhi; ttPhi.SetTextFont(42); ttPhi.SetTextAlign(21);\n",
    "    cttPhi->Divide(2,1);\n",
    "    cttPhi->cd(1); h_lep_phi_TThad->Draw();\n",
    "    cttPhi->cd(2); h_lep_phi_TTlep->Draw();"
   ]
  },
  {
   "cell_type": "code",
   "execution_count": null,
   "metadata": {
    "collapsed": true
   },
   "outputs": [],
   "source": [
    "TList *listtPhi = new TList;\n",
    "  listtPhi->Add(h_lep_phi_TThad);\n",
    "  listtPhi->Add(h_lep_phi_TTlep);\n",
    "\n",
    "h_lep_phi_mergedTT->Reset();\n",
    "h_lep_phi_mergedTT->Merge(listtPhi);\n",
    "h_lep_phi_mergedTT->SetFillColor(kBlue);\n",
    "h_lep_phi_mergedTT->Draw();"
   ]
  },
  {
   "cell_type": "code",
   "execution_count": null,
   "metadata": {
    "collapsed": false
   },
   "outputs": [],
   "source": [
    "cttPhi->Draw();"
   ]
  },
  {
   "cell_type": "code",
   "execution_count": null,
   "metadata": {
    "collapsed": true
   },
   "outputs": [],
   "source": [
    "TCanvas *cttE = new TCanvas(\"cttE\",\"cttE\",10,10,900,700);\n",
    "    TText ttE; ttE.SetTextFont(42); ttE.SetTextAlign(21);\n",
    "    cttE->Divide(2,1);\n",
    "    cttE->cd(1); h_lep_E_TThad->Draw();\n",
    "    cttE->cd(2); h_lep_E_TTlep->Draw();"
   ]
  },
  {
   "cell_type": "code",
   "execution_count": null,
   "metadata": {
    "collapsed": true
   },
   "outputs": [],
   "source": [
    "TList *listtE = new TList;\n",
    "  listtE->Add(h_lep_E_TThad);\n",
    "  listtE->Add(h_lep_E_TTlep);\n",
    "\n",
    "h_lep_E_mergedTT->Reset();\n",
    "h_lep_E_mergedTT->Merge(listtE);\n",
    "h_lep_E_mergedTT->SetFillColor(kBlue);\n",
    "h_lep_E_mergedTT->Draw();"
   ]
  },
  {
   "cell_type": "code",
   "execution_count": null,
   "metadata": {
    "collapsed": false
   },
   "outputs": [],
   "source": [
    "cttE->Draw();"
   ]
  },
  {
   "cell_type": "code",
   "execution_count": null,
   "metadata": {
    "collapsed": true
   },
   "outputs": [],
   "source": [
    "TCanvas *cttCh = new TCanvas(\"cttCh\",\"cttCh\",10,10,900,700);\n",
    "    TText ttCh; ttCh.SetTextFont(42); ttCh.SetTextAlign(21);\n",
    "    cttCh->Divide(2,1);\n",
    "    cttCh->cd(1); h_lep_charge_TThad->Draw();\n",
    "    cttCh->cd(2); h_lep_charge_TTlep->Draw();"
   ]
  },
  {
   "cell_type": "code",
   "execution_count": null,
   "metadata": {
    "collapsed": true
   },
   "outputs": [],
   "source": [
    "TList *listtCh = new TList;\n",
    "  listtCh->Add(h_lep_charge_TThad);\n",
    "  listtCh->Add(h_lep_charge_TTlep);\n",
    "\n",
    "h_lep_charge_mergedTT->Reset();\n",
    "h_lep_charge_mergedTT->Merge(listtCh);\n",
    "h_lep_charge_mergedTT->SetFillColor(kBlue);\n",
    "h_lep_charge_mergedTT->Draw();"
   ]
  },
  {
   "cell_type": "code",
   "execution_count": null,
   "metadata": {
    "collapsed": false
   },
   "outputs": [],
   "source": [
    "cttCh->Draw();"
   ]
  },
  {
   "cell_type": "code",
   "execution_count": null,
   "metadata": {
    "collapsed": true
   },
   "outputs": [],
   "source": [
    "TCanvas *cttEtc20 = new TCanvas(\"cttEtc20\",\"cttEtc20\",10,10,900,700);\n",
    "    TText ttEtc20; ttEtc20.SetTextFont(42); ttEtc20.SetTextAlign(21);\n",
    "    cttEtc20->Divide(2,1);\n",
    "    cttEtc20->cd(1); h_lep_etc20_TThad->Draw();\n",
    "    cttEtc20->cd(2); h_lep_etc20_TTlep->Draw();"
   ]
  },
  {
   "cell_type": "code",
   "execution_count": null,
   "metadata": {
    "collapsed": true
   },
   "outputs": [],
   "source": [
    "TList *listtEtc20 = new TList;\n",
    "  listtEtc20->Add(h_lep_etc20_TThad);\n",
    "  listtEtc20->Add(h_lep_etc20_TTlep);\n",
    "\n",
    "h_lep_etc20_mergedTT->Reset();\n",
    "h_lep_etc20_mergedTT->Merge(listtEtc20);\n",
    "h_lep_etc20_mergedTT->SetFillColor(kBlue);\n",
    "h_lep_etc20_mergedTT->Draw();"
   ]
  },
  {
   "cell_type": "code",
   "execution_count": null,
   "metadata": {
    "collapsed": false
   },
   "outputs": [],
   "source": [
    "cttEtc20->Draw();"
   ]
  },
  {
   "cell_type": "code",
   "execution_count": null,
   "metadata": {
    "collapsed": true
   },
   "outputs": [],
   "source": [
    "TCanvas *cttPtc30 = new TCanvas(\"cttPtc30\",\"cttPtc30\",10,10,900,700);\n",
    "    TText ttPtc30; ttPtc30.SetTextFont(42); ttPtc30.SetTextAlign(21);\n",
    "    cttPtc30->Divide(2,1);\n",
    "    cttPtc30->cd(1); h_lep_ptc30_TThad->Draw();\n",
    "    cttPtc30->cd(2); h_lep_ptc30_TTlep->Draw();"
   ]
  },
  {
   "cell_type": "code",
   "execution_count": null,
   "metadata": {
    "collapsed": true
   },
   "outputs": [],
   "source": [
    "TList *listtPtc30 = new TList;\n",
    "  listtPtc30->Add(h_lep_ptc30_TThad);\n",
    "  listtPtc30->Add(h_lep_ptc30_TTlep);\n",
    "\n",
    "h_lep_ptc30_mergedTT->Reset();\n",
    "h_lep_ptc30_mergedTT->Merge(listtPtc30);\n",
    "h_lep_ptc30_mergedTT->SetFillColor(kBlue);\n",
    "h_lep_ptc30_mergedTT->Draw();"
   ]
  },
  {
   "cell_type": "code",
   "execution_count": null,
   "metadata": {
    "collapsed": false
   },
   "outputs": [],
   "source": [
    "cttPtc30->Draw();"
   ]
  },
  {
   "cell_type": "code",
   "execution_count": null,
   "metadata": {
    "collapsed": true
   },
   "outputs": [],
   "source": [
    "TCanvas *cttZ0 = new TCanvas(\"cttZ0\",\"cttZ0\",10,10,900,700);\n",
    "    TText ttZ0; ttZ0.SetTextFont(42); ttZ0.SetTextAlign(21);\n",
    "    cttZ0->Divide(2,1);\n",
    "    cttZ0->cd(1); h_lep_z0_TThad->Draw();\n",
    "    cttZ0->cd(2); h_lep_z0_TTlep->Draw();"
   ]
  },
  {
   "cell_type": "code",
   "execution_count": null,
   "metadata": {
    "collapsed": true
   },
   "outputs": [],
   "source": [
    "TList *listtZ0 = new TList;\n",
    "  listtZ0->Add(h_lep_z0_TThad);\n",
    "  listtZ0->Add(h_lep_z0_TTlep);\n",
    "\n",
    "h_lep_z0_mergedTT->Reset();\n",
    "h_lep_z0_mergedTT->Merge(listtZ0);\n",
    "h_lep_z0_mergedTT->SetFillColor(kBlue);\n",
    "h_lep_z0_mergedTT->Draw();"
   ]
  },
  {
   "cell_type": "code",
   "execution_count": null,
   "metadata": {
    "collapsed": false
   },
   "outputs": [],
   "source": [
    "cttZ0->Draw();"
   ]
  },
  {
   "cell_type": "code",
   "execution_count": null,
   "metadata": {
    "collapsed": true
   },
   "outputs": [],
   "source": [
    "TCanvas *cttD0 = new TCanvas(\"cttD0\",\"cttD0\",10,10,900,700);\n",
    "    TText ttD0; ttD0.SetTextFont(42); ttD0.SetTextAlign(21);\n",
    "    cttD0->Divide(2,1);\n",
    "    cttD0->cd(1); h_lep_d0_TThad->Draw();\n",
    "    cttD0->cd(2); h_lep_d0_TTlep->Draw();"
   ]
  },
  {
   "cell_type": "code",
   "execution_count": null,
   "metadata": {
    "collapsed": true
   },
   "outputs": [],
   "source": [
    "TList *listtD0 = new TList;\n",
    "  listtD0->Add(h_lep_d0_TThad);\n",
    "  listtD0->Add(h_lep_d0_TTlep);\n",
    "\n",
    "h_lep_d0_mergedTT->Reset();\n",
    "h_lep_d0_mergedTT->Merge(listtD0);\n",
    "h_lep_d0_mergedTT->SetFillColor(kBlue);\n",
    "h_lep_d0_mergedTT->Draw();"
   ]
  },
  {
   "cell_type": "code",
   "execution_count": null,
   "metadata": {
    "collapsed": false
   },
   "outputs": [],
   "source": [
    "cttD0->Draw();"
   ]
  },
  {
   "cell_type": "code",
   "execution_count": null,
   "metadata": {
    "collapsed": true
   },
   "outputs": [],
   "source": [
    "TCanvas *cttPt_tl = new TCanvas(\"cttPt_tl\",\"cttPt_tl\",10,10,900,900);\n",
    "    TText ttPt_tl; ttPt_tl.SetTextFont(42); ttPt_tl.SetTextAlign(21);\n",
    "    cttPt_tl->Divide(2,1);\n",
    "    cttPt_tl->cd(1); h_lep_pt_tl_TThad->Draw();\n",
    "    cttPt_tl->cd(2); h_lep_pt_tl_TTlep->Draw();\n"
   ]
  },
  {
   "cell_type": "code",
   "execution_count": null,
   "metadata": {
    "collapsed": true
   },
   "outputs": [],
   "source": [
    "TList *listtPt_tl = new TList;\n",
    "  listtPt_tl->Add(h_lep_pt_tl_TThad);\n",
    "  listtPt_tl->Add(h_lep_pt_tl_TTlep);\n",
    "\n",
    "h_lep_pt_tl_mergedTT->Reset();\n",
    "h_lep_pt_tl_mergedTT->Merge(listtPt_tl);\n",
    "h_lep_pt_tl_mergedTT->SetFillColor(kBlue);\n",
    "h_lep_pt_tl_mergedTT->Draw();\n",
    " "
   ]
  },
  {
   "cell_type": "code",
   "execution_count": null,
   "metadata": {
    "collapsed": false
   },
   "outputs": [],
   "source": [
    "cttPt_tl->Draw();"
   ]
  },
  {
   "cell_type": "code",
   "execution_count": null,
   "metadata": {
    "collapsed": true
   },
   "outputs": [],
   "source": [
    "TCanvas *cttEta_tl = new TCanvas(\"cttEta_tl\",\"cttEta_tl\",10,10,900,900);\n",
    "    TText ttEta_tl; ttEta_tl.SetTextFont(42); ttEta_tl.SetTextAlign(21);\n",
    "    cttEta_tl->Divide(2,1);\n",
    "    cttEta_tl->cd(1); h_lep_eta_tl_TThad->Draw();\n",
    "    cttEta_tl->cd(2); h_lep_eta_tl_TTlep->Draw();"
   ]
  },
  {
   "cell_type": "code",
   "execution_count": null,
   "metadata": {
    "collapsed": true
   },
   "outputs": [],
   "source": [
    "TList *listtEta_tl = new TList;\n",
    "  listtEta_tl->Add(h_lep_eta_tl_TThad);\n",
    "  listtEta_tl->Add(h_lep_eta_tl_TTlep);\n",
    "\n",
    "h_lep_eta_tl_mergedTT->Reset();\n",
    "h_lep_eta_tl_mergedTT->Merge(listtEta_tl);\n",
    "h_lep_eta_tl_mergedTT->SetFillColor(kBlue);\n",
    "h_lep_eta_tl_mergedTT->Draw();"
   ]
  },
  {
   "cell_type": "code",
   "execution_count": null,
   "metadata": {
    "collapsed": false
   },
   "outputs": [],
   "source": [
    "cttEta_tl->Draw();"
   ]
  },
  {
   "cell_type": "code",
   "execution_count": null,
   "metadata": {
    "collapsed": true
   },
   "outputs": [],
   "source": [
    "TCanvas *cttPhi_tl = new TCanvas(\"cttPhi_tl\",\"cttPhi_tl\",10,10,900,900);\n",
    "    TText ttPhi_tl; ttPhi_tl.SetTextFont(42); ttPhi_tl.SetTextAlign(21);\n",
    "    cttPhi_tl->Divide(2,1);\n",
    "    cttPhi_tl->cd(1); h_lep_phi_tl_TThad->Draw();\n",
    "    cttPhi_tl->cd(2); h_lep_phi_tl_TTlep->Draw();\n"
   ]
  },
  {
   "cell_type": "code",
   "execution_count": null,
   "metadata": {
    "collapsed": true
   },
   "outputs": [],
   "source": [
    "TList *listtPhi_tl = new TList;\n",
    "  listtPhi_tl->Add(h_lep_phi_tl_TThad);\n",
    "  listtPhi_tl->Add(h_lep_phi_tl_TTlep);\n",
    "\n",
    "h_lep_phi_tl_mergedTT->Reset();\n",
    "h_lep_phi_tl_mergedTT->Merge(listtPhi_tl);\n",
    "h_lep_phi_tl_mergedTT->SetFillColor(kBlue);\n",
    "h_lep_phi_tl_mergedTT->Draw();"
   ]
  },
  {
   "cell_type": "code",
   "execution_count": null,
   "metadata": {
    "collapsed": false
   },
   "outputs": [],
   "source": [
    "cttPhi_tl->Draw();"
   ]
  },
  {
   "cell_type": "code",
   "execution_count": null,
   "metadata": {
    "collapsed": true
   },
   "outputs": [],
   "source": [
    "TCanvas *cttE_tl = new TCanvas(\"cttE_tl\",\"cttE_tl\",10,10,900,700);\n",
    "    TText ttE_tl; ttE_tl.SetTextFont(42); ttE_tl.SetTextAlign(21);\n",
    "    cttE_tl->Divide(2,1);\n",
    "    cttE_tl->cd(1); h_lep_E_tl_TThad->Draw();\n",
    "    cttE_tl->cd(2); h_lep_E_tl_TTlep->Draw();\n"
   ]
  },
  {
   "cell_type": "code",
   "execution_count": null,
   "metadata": {
    "collapsed": true
   },
   "outputs": [],
   "source": [
    "TList *listtE_tl = new TList;\n",
    "  listtE_tl->Add(h_lep_E_tl_TThad);\n",
    "  listtE_tl->Add(h_lep_E_tl_TTlep);\n",
    "\n",
    "h_lep_E_tl_mergedTT->Reset();\n",
    "h_lep_E_tl_mergedTT->Merge(listtE_tl);\n",
    "h_lep_E_tl_mergedTT->SetFillColor(kBlue);\n",
    "h_lep_E_tl_mergedTT->Draw();"
   ]
  },
  {
   "cell_type": "code",
   "execution_count": null,
   "metadata": {
    "collapsed": false
   },
   "outputs": [],
   "source": [
    "cttE_tl->Draw();"
   ]
  },
  {
   "cell_type": "code",
   "execution_count": null,
   "metadata": {
    "collapsed": true
   },
   "outputs": [],
   "source": [
    "TCanvas *cttCh_tl = new TCanvas(\"cttCh_tl\",\"cttCh_tl\",10,10,900,700);\n",
    "    TText ttCh_tl; ttCh_tl.SetTextFont(42); ttCh_tl.SetTextAlign(21);\n",
    "    cttCh_tl->Divide(2,1);\n",
    "    cttCh_tl->cd(1); h_lep_charge_tl_TThad->Draw();\n",
    "    cttCh_tl->cd(2); h_lep_charge_tl_TTlep->Draw();\n"
   ]
  },
  {
   "cell_type": "code",
   "execution_count": null,
   "metadata": {
    "collapsed": true
   },
   "outputs": [],
   "source": [
    "TList *listtCh_tl = new TList;\n",
    "  listtCh_tl->Add(h_lep_charge_tl_TThad);\n",
    "  listtCh_tl->Add(h_lep_charge_tl_TTlep);\n",
    "\n",
    "h_lep_charge_tl_mergedTT->Reset();\n",
    "h_lep_charge_tl_mergedTT->Merge(listtCh_tl);\n",
    "h_lep_charge_tl_mergedTT->SetFillColor(kBlue);\n",
    "h_lep_charge_tl_mergedTT->Draw();"
   ]
  },
  {
   "cell_type": "code",
   "execution_count": null,
   "metadata": {
    "collapsed": false
   },
   "outputs": [],
   "source": [
    "cttCh_tl->Draw();"
   ]
  },
  {
   "cell_type": "code",
   "execution_count": null,
   "metadata": {
    "collapsed": true
   },
   "outputs": [],
   "source": [
    "TCanvas *cttEtc20_tl = new TCanvas(\"cttEtc20_tl\",\"cttEtc20_tl\",10,10,900,700);\n",
    "    TText ttEtc20_tl; ttEtc20_tl.SetTextFont(42); ttEtc20_tl.SetTextAlign(21);\n",
    "    cttEtc20_tl->Divide(2,1);\n",
    "    cttEtc20_tl->cd(1); h_lep_etc20_tl_TThad->Draw();\n",
    "    cttEtc20_tl->cd(2); h_lep_etc20_tl_TTlep->Draw();\n"
   ]
  },
  {
   "cell_type": "code",
   "execution_count": null,
   "metadata": {
    "collapsed": true
   },
   "outputs": [],
   "source": [
    "TList *listtEtc20_tl = new TList;\n",
    "  listtEtc20_tl->Add(h_lep_etc20_tl_TThad);\n",
    "  listtEtc20_tl->Add(h_lep_etc20_tl_TTlep);\n",
    "\n",
    "h_lep_etc20_tl_mergedTT->Reset();\n",
    "h_lep_etc20_tl_mergedTT->Merge(listtEtc20_tl);\n",
    "h_lep_etc20_tl_mergedTT->SetFillColor(kBlue);\n",
    "h_lep_etc20_tl_mergedTT->Draw();"
   ]
  },
  {
   "cell_type": "code",
   "execution_count": null,
   "metadata": {
    "collapsed": false
   },
   "outputs": [],
   "source": [
    "cttEtc20_tl->Draw();"
   ]
  },
  {
   "cell_type": "code",
   "execution_count": null,
   "metadata": {
    "collapsed": true
   },
   "outputs": [],
   "source": [
    "TCanvas *cttPtc30_tl = new TCanvas(\"cttPtc30_tl\",\"cttPtc30_tl\",10,10,900,700);\n",
    "    TText ttPtc30_tl; ttPtc30_tl.SetTextFont(42); ttPtc30_tl.SetTextAlign(21);\n",
    "    cttPtc30_tl->Divide(2,1);\n",
    "    cttPtc30_tl->cd(1); h_lep_ptc30_tl_TThad->Draw();\n",
    "    cttPtc30_tl->cd(2); h_lep_ptc30_tl_TTlep->Draw();\n"
   ]
  },
  {
   "cell_type": "code",
   "execution_count": null,
   "metadata": {
    "collapsed": true
   },
   "outputs": [],
   "source": [
    "TList *listtPtc30_tl = new TList;\n",
    "  listtPtc30_tl->Add(h_lep_ptc30_tl_TThad);\n",
    "  listtPtc30_tl->Add(h_lep_ptc30_tl_TTlep);\n",
    "\n",
    "h_lep_ptc30_tl_mergedTT->Reset();\n",
    "h_lep_ptc30_tl_mergedTT->Merge(listtPtc30_tl);\n",
    "h_lep_ptc30_tl_mergedTT->SetFillColor(kBlue);\n",
    "h_lep_ptc30_tl_mergedTT->Draw();"
   ]
  },
  {
   "cell_type": "code",
   "execution_count": null,
   "metadata": {
    "collapsed": false
   },
   "outputs": [],
   "source": [
    "cttPtc30_tl->Draw();"
   ]
  },
  {
   "cell_type": "code",
   "execution_count": null,
   "metadata": {
    "collapsed": true
   },
   "outputs": [],
   "source": [
    "TCanvas *cttZ0_tl = new TCanvas(\"cttZ0_tl\",\"cttZ0_tl\",10,10,900,700);\n",
    "    TText ttZ0_tl; ttZ0_tl.SetTextFont(42); ttZ0_tl.SetTextAlign(21);\n",
    "    cttZ0_tl->Divide(2,1);\n",
    "    cttZ0_tl->cd(1); h_lep_z0_tl_TThad->Draw();\n",
    "    cttZ0_tl->cd(2); h_lep_z0_tl_TTlep->Draw();\n"
   ]
  },
  {
   "cell_type": "code",
   "execution_count": null,
   "metadata": {
    "collapsed": true
   },
   "outputs": [],
   "source": [
    "TList *listtZ0_tl = new TList;\n",
    "  listtZ0_tl->Add(h_lep_z0_tl_TThad);\n",
    "  listtZ0_tl->Add(h_lep_z0_tl_TTlep);\n",
    "\n",
    "h_lep_z0_tl_mergedTT->Reset();\n",
    "h_lep_z0_tl_mergedTT->Merge(listtZ0_tl);\n",
    "h_lep_z0_tl_mergedTT->SetFillColor(kBlue);\n",
    "h_lep_z0_tl_mergedTT->Draw();"
   ]
  },
  {
   "cell_type": "code",
   "execution_count": null,
   "metadata": {
    "collapsed": false
   },
   "outputs": [],
   "source": [
    "cttZ0_tl->Draw();"
   ]
  },
  {
   "cell_type": "code",
   "execution_count": null,
   "metadata": {
    "collapsed": true
   },
   "outputs": [],
   "source": [
    "TCanvas *cttD0_tl = new TCanvas(\"cttD0_tl\",\"cttD0_tl\",10,10,900,700);\n",
    "    TText ttD0_tl; ttD0_tl.SetTextFont(42); ttD0_tl.SetTextAlign(21);\n",
    "    cttD0_tl->Divide(2,1);\n",
    "    cttD0_tl->cd(1); h_lep_d0_tl_TThad->Draw();\n",
    "    cttD0_tl->cd(2); h_lep_d0_tl_TTlep->Draw();\n"
   ]
  },
  {
   "cell_type": "code",
   "execution_count": null,
   "metadata": {
    "collapsed": true
   },
   "outputs": [],
   "source": [
    "TList *listtD0_tl = new TList;\n",
    "  listtD0_tl->Add(h_lep_d0_tl_TThad);\n",
    "  listtD0_tl->Add(h_lep_d0_tl_TTlep);\n",
    "\n",
    "h_lep_d0_tl_mergedTT->Reset();\n",
    "h_lep_d0_tl_mergedTT->Merge(listtD0_tl);\n",
    "h_lep_d0_tl_mergedTT->SetFillColor(kBlue);\n",
    "h_lep_d0_tl_mergedTT->Draw();"
   ]
  },
  {
   "cell_type": "code",
   "execution_count": null,
   "metadata": {
    "collapsed": false
   },
   "outputs": [],
   "source": [
    "cttD0_tl->Draw();"
   ]
  },
  {
   "cell_type": "code",
   "execution_count": null,
   "metadata": {
    "collapsed": true
   },
   "outputs": [],
   "source": [
    "TCanvas *cttJn = new TCanvas(\"cttJn\",\"cttJn\",10,10,900,900);\n",
    "    TText ttJn; ttJn.SetTextFont(42); ttJn.SetTextAlign(21);\n",
    "    cttJn->Divide(2,1);\n",
    "    cttJn->cd(1); h_jet_n_TThad->Draw();\n",
    "    cttJn->cd(2); h_jet_n_TTlep->Draw();\n"
   ]
  },
  {
   "cell_type": "code",
   "execution_count": null,
   "metadata": {
    "collapsed": true
   },
   "outputs": [],
   "source": [
    "TList *listtJn = new TList;\n",
    "  listtJn->Add(h_jet_n_TThad);\n",
    "  listtJn->Add(h_jet_n_TTlep);\n",
    "\n",
    "h_jet_n_mergedTT->Reset();\n",
    "h_jet_n_mergedTT->Merge(listtJn);\n",
    "h_jet_n_mergedTT->SetFillColor(kBlue);\n",
    "h_jet_n_mergedTT->Draw();"
   ]
  },
  {
   "cell_type": "code",
   "execution_count": null,
   "metadata": {
    "collapsed": true
   },
   "outputs": [],
   "source": [
    "listtJn->Draw();"
   ]
  },
  {
   "cell_type": "code",
   "execution_count": null,
   "metadata": {
    "collapsed": true
   },
   "outputs": [],
   "source": [
    "TCanvas *cttJnPt = new TCanvas(\"cttJnPt\",\"cttJnPt\",10,10,900,900);\n",
    "    TText ttJnPt; ttJnPt.SetTextFont(42); ttJnPt.SetTextAlign(21);\n",
    "    cttJnPt->Divide(2,1);\n",
    "    cttJnPt->cd(1); h_jet_pt_TThad->Draw();\n",
    "    cttJnPt->cd(2); h_jet_pt_TTlep->Draw();"
   ]
  },
  {
   "cell_type": "code",
   "execution_count": null,
   "metadata": {
    "collapsed": true
   },
   "outputs": [],
   "source": [
    "TList *listtJnPt = new TList;\n",
    "  listtJnPt->Add(h_jet_pt_TThad);\n",
    "  listtJnPt->Add(h_jet_pt_TTlep);\n",
    "\n",
    "h_jet_pt_mergedTT->Reset();\n",
    "h_jet_pt_mergedTT->Merge(listtJnPt);\n",
    "h_jet_pt_mergedTT->SetFillColor(kBlue);\n",
    "h_jet_pt_mergedTT->Draw();"
   ]
  },
  {
   "cell_type": "code",
   "execution_count": null,
   "metadata": {
    "collapsed": false
   },
   "outputs": [],
   "source": [
    "cttJnPt->Draw();"
   ]
  },
  {
   "cell_type": "code",
   "execution_count": null,
   "metadata": {
    "collapsed": true
   },
   "outputs": [],
   "source": [
    "TCanvas *cttJnEta = new TCanvas(\"cttJnEta\",\"cttJnEta\",10,10,900,900);\n",
    "    TText ttJnEta; ttJnEta.SetTextFont(42); ttJnEta.SetTextAlign(21);\n",
    "    cttJnEta->Divide(2,1);\n",
    "    cttJnEta->cd(1); h_jet_eta_TThad->Draw();\n",
    "    cttJnEta->cd(2); h_jet_eta_TTlep->Draw();"
   ]
  },
  {
   "cell_type": "code",
   "execution_count": null,
   "metadata": {
    "collapsed": true
   },
   "outputs": [],
   "source": [
    "TList *listtJnEta = new TList;\n",
    "  listtJnEta->Add(h_jet_eta_TThad);\n",
    "  listtJnEta->Add(h_jet_eta_TTlep);\n",
    "\n",
    "h_jet_eta_mergedTT->Reset();\n",
    "h_jet_eta_mergedTT->Merge(listtJnEta);\n",
    "h_jet_eta_mergedTT->SetFillColor(kBlue);\n",
    "h_jet_eta_mergedTT->Draw();"
   ]
  },
  {
   "cell_type": "code",
   "execution_count": null,
   "metadata": {
    "collapsed": false
   },
   "outputs": [],
   "source": [
    "cttJnEta->Draw();"
   ]
  },
  {
   "cell_type": "code",
   "execution_count": null,
   "metadata": {
    "collapsed": true
   },
   "outputs": [],
   "source": [
    "TCanvas *cttJm = new TCanvas(\"cttJm\",\"cttJm\",10,10,900,900);\n",
    "    TText ttJm; ttJm.SetTextFont(42); ttJm.SetTextAlign(21);\n",
    "    cttJm->Divide(2,1);\n",
    "    cttJm->cd(1); h_jet_m_TThad->Draw();\n",
    "    cttJm->cd(2); h_jet_m_TTlep->Draw();\n",
    "\n"
   ]
  },
  {
   "cell_type": "code",
   "execution_count": null,
   "metadata": {
    "collapsed": true
   },
   "outputs": [],
   "source": [
    "TList *listtJm = new TList;\n",
    "  listtJm->Add(h_jet_m_TThad);\n",
    "  listtJm->Add(h_jet_m_TTlep);\n",
    "\n",
    "h_jet_m_mergedTT->Reset();\n",
    "h_jet_m_mergedTT->Merge(listtJm);\n",
    "h_jet_m_mergedTT->SetFillColor(kBlue);\n",
    "h_jet_m_mergedTT->Draw();"
   ]
  },
  {
   "cell_type": "code",
   "execution_count": null,
   "metadata": {
    "collapsed": false
   },
   "outputs": [],
   "source": [
    "cttJm->Draw();"
   ]
  },
  {
   "cell_type": "code",
   "execution_count": null,
   "metadata": {
    "collapsed": true
   },
   "outputs": [],
   "source": [
    "TCanvas *cttJnJvf = new TCanvas(\"cttJnJvf\",\"cttJnJvf\",10,10,900,900);\n",
    "    TText ttJnJvf; ttJnJvf.SetTextFont(42); ttJnJvf.SetTextAlign(21);\n",
    "    cttJnJvf->Divide(2,1);\n",
    "    cttJnJvf->cd(1); h_jet_jvf_TThad->Draw();\n",
    "    cttJnJvf->cd(2); h_jet_jvf_TTlep->Draw();\n"
   ]
  },
  {
   "cell_type": "code",
   "execution_count": null,
   "metadata": {
    "collapsed": true
   },
   "outputs": [],
   "source": [
    "TList *listtJnJvf = new TList;\n",
    "  listtJnJvf->Add(h_jet_jvf_TThad);\n",
    "  listtJnJvf->Add(h_jet_jvf_TTlep);\n",
    "\n",
    "h_jet_jvf_mergedTT->Reset();\n",
    "h_jet_jvf_mergedTT->Merge(listtJnJvf);\n",
    "h_jet_jvf_mergedTT->SetFillColor(kBlue);\n",
    "h_jet_jvf_mergedTT->Draw();"
   ]
  },
  {
   "cell_type": "code",
   "execution_count": null,
   "metadata": {
    "collapsed": false
   },
   "outputs": [],
   "source": [
    "cttJnJvf->Draw();"
   ]
  },
  {
   "cell_type": "code",
   "execution_count": null,
   "metadata": {
    "collapsed": true
   },
   "outputs": [],
   "source": [
    "TCanvas *cttJMV1 = new TCanvas(\"cttJMV1\",\"cttJMV1\",10,10,900,900);\n",
    "    TText ttJMV1; ttJMV1.SetTextFont(42); ttJMV1.SetTextAlign(21);\n",
    "    cttJMV1->Divide(2,1);\n",
    "    cttJMV1->cd(1); h_jet_MV1_TThad->Draw();\n",
    "    cttJMV1->cd(2); h_jet_MV1_TTlep->Draw();"
   ]
  },
  {
   "cell_type": "code",
   "execution_count": null,
   "metadata": {
    "collapsed": true
   },
   "outputs": [],
   "source": [
    "TList *listtJMV1 = new TList;\n",
    "  listtJMV1->Add(h_jet_MV1_TThad);\n",
    "  listtJMV1->Add(h_jet_MV1_TTlep);\n",
    "\n",
    "h_jet_MV1_mergedTT->Reset();\n",
    "h_jet_MV1_mergedTT->Merge(listtJMV1);\n",
    "h_jet_MV1_mergedTT->SetFillColor(kBlue);\n",
    "h_jet_MV1_mergedTT->Draw();"
   ]
  },
  {
   "cell_type": "code",
   "execution_count": null,
   "metadata": {
    "collapsed": false
   },
   "outputs": [],
   "source": [
    "cttJMV1->Draw();"
   ]
  },
  {
   "cell_type": "code",
   "execution_count": null,
   "metadata": {
    "collapsed": true
   },
   "outputs": [],
   "source": [
    "TCanvas *cttPVXP_n = new TCanvas(\"cttPVXP_n\",\"cttPVXP_n\",10,10,900,900);\n",
    "    TText ttPVXP_n; ttPVXP_n.SetTextFont(42); ttPVXP_n.SetTextAlign(21);\n",
    "    cttPVXP_n->Divide(2,1);\n",
    "    cttPVXP_n->cd(1); h_pvxp_n_TThad->Draw();\n",
    "    cttPVXP_n->cd(2); h_pvxp_n_TTlep->Draw();"
   ]
  },
  {
   "cell_type": "code",
   "execution_count": null,
   "metadata": {
    "collapsed": true
   },
   "outputs": [],
   "source": [
    "TList *listtPVXP_n = new TList;\n",
    "  listtPVXP_n->Add(h_pvxp_n_TThad);\n",
    "  listtPVXP_n->Add(h_pvxp_n_TTlep);\n",
    "\n",
    "h_pvxp_n_mergedTT->Reset();\n",
    "h_pvxp_n_mergedTT->Merge(listtPVXP_n);\n",
    "h_pvxp_n_mergedTT->SetFillColor(kBlue);\n",
    "h_pvxp_n_mergedTT->Draw();"
   ]
  },
  {
   "cell_type": "code",
   "execution_count": null,
   "metadata": {
    "collapsed": false
   },
   "outputs": [],
   "source": [
    "cttPVXP_n->Draw();"
   ]
  },
  {
   "cell_type": "code",
   "execution_count": null,
   "metadata": {
    "collapsed": true
   },
   "outputs": [],
   "source": [
    "TCanvas *cttVXP_z = new TCanvas(\"cttVXP_z\",\"cttVXP_z\",10,10,900,900);\n",
    "    TText ttVXP_z; ttVXP_z.SetTextFont(42); ttVXP_z.SetTextAlign(21);\n",
    "    cttVXP_z->Divide(2,1);\n",
    "    cttVXP_z->cd(1); h_vxp_z_TThad->Draw();\n",
    "    cttVXP_z->cd(2); h_vxp_z_TTlep->Draw();"
   ]
  },
  {
   "cell_type": "code",
   "execution_count": null,
   "metadata": {
    "collapsed": true
   },
   "outputs": [],
   "source": [
    "TList *listtVXP_z = new TList;\n",
    "  listtVXP_z->Add(h_vxp_z_TThad);\n",
    "  listtVXP_z->Add(h_vxp_z_TTlep);\n",
    "\n",
    "h_vxp_z_mergedTT->Reset();\n",
    "h_vxp_z_mergedTT->Merge(listtVXP_z);\n",
    "h_vxp_z_mergedTT->SetFillColor(kBlue);\n",
    "h_vxp_z_mergedTT->Draw();"
   ]
  },
  {
   "cell_type": "code",
   "execution_count": null,
   "metadata": {
    "collapsed": false
   },
   "outputs": [],
   "source": [
    "cttVXP_z->Draw();"
   ]
  },
  {
   "cell_type": "code",
   "execution_count": null,
   "metadata": {
    "collapsed": true
   },
   "outputs": [],
   "source": [
    "TCanvas *cttMet_et = new TCanvas(\"cttMet_et\",\"cttMet_et\",10,10,900,900);\n",
    "    TText ttMet_et; ttMet_et.SetTextFont(42); ttMet_et.SetTextAlign(21);\n",
    "    cttMet_et->Divide(2,1);\n",
    "    cttMet_et->cd(1); h_met_et_TThad->Draw();\n",
    "    cttMet_et->cd(2); h_met_et_TTlep->Draw();"
   ]
  },
  {
   "cell_type": "code",
   "execution_count": null,
   "metadata": {
    "collapsed": true
   },
   "outputs": [],
   "source": [
    "TList *listtMet_et = new TList;\n",
    "  listtMet_et->Add(h_met_et_TThad);\n",
    "  listtMet_et->Add(h_met_et_TTlep);\n",
    "\n",
    "h_met_et_mergedTT->Reset();\n",
    "h_met_et_mergedTT->Merge(listtMet_et);\n",
    "h_met_et_mergedTT->SetFillColor(kBlue);\n",
    "h_met_et_mergedTT->Draw();"
   ]
  },
  {
   "cell_type": "code",
   "execution_count": null,
   "metadata": {
    "collapsed": false
   },
   "outputs": [],
   "source": [
    "cttMet_et->Draw();"
   ]
  },
  {
   "cell_type": "code",
   "execution_count": null,
   "metadata": {
    "collapsed": true
   },
   "outputs": [],
   "source": [
    "TCanvas *cttInv_mass = new TCanvas(\"cttInv_mass\",\"cttInv_mass\",10,10,900,900);\n",
    "    TText ttInv_mass; ttInv_mass.SetTextFont(42); ttInv_mass.SetTextAlign(21);\n",
    "    cttInv_mass->Divide(2,1);\n",
    "    cttInv_mass->cd(1); h_inv_mass_TThad->Draw();\n",
    "    cttInv_mass->cd(2); h_inv_mass_TTlep->Draw();"
   ]
  },
  {
   "cell_type": "code",
   "execution_count": null,
   "metadata": {
    "collapsed": true
   },
   "outputs": [],
   "source": [
    "TList *listtInv_mass = new TList;\n",
    "  listtInv_mass->Add(h_inv_mass_TThad);\n",
    "  listtInv_mass->Add(h_inv_mass_TTlep);\n",
    "\n",
    "h_inv_mass_mergedTT->Reset();\n",
    "h_inv_mass_mergedTT->Merge(listtInv_mass);\n",
    "h_inv_mass_mergedTT->SetFillColor(kBlue);\n",
    "h_inv_mass_mergedTT->Draw();"
   ]
  },
  {
   "cell_type": "code",
   "execution_count": null,
   "metadata": {
    "collapsed": false
   },
   "outputs": [],
   "source": [
    "cttInv_mass->Draw();"
   ]
  },
  {
   "cell_type": "code",
   "execution_count": null,
   "metadata": {
    "collapsed": true
   },
   "outputs": [],
   "source": [
    "  TCanvas *cw = new TCanvas(\"cw\",\"cw\",10,10,900,900);\n",
    "    TText tw; tw.SetTextFont(42); tw.SetTextAlign(21);\n",
    "    cw->Divide(3,4);\n",
    "    cw->cd(1); h_lep_pt_WenuW->Draw();\n",
    "    cw->cd(2); h_lep_pt_WenuJ->Draw();\n",
    "    cw->cd(3); h_lep_pt_WenuN->Draw();\n",
    "    cw->cd(4); h_lep_pt_WmunuW->Draw();\n",
    "    cw->cd(5); h_lep_pt_WmunuJ->Draw();\n",
    "    cw->cd(6); h_lep_pt_WmunuN->Draw();\n",
    "    cw->cd(7); h_lep_pt_WtaunuW->Draw();\n",
    "    cw->cd(8); h_lep_pt_WtaunuJ->Draw();\n",
    "    cw->cd(9); h_lep_pt_WtaunuN->Draw();\n",
    "    cw->cd(10);h_lep_pt_mergedW->Draw();"
   ]
  },
  {
   "cell_type": "code",
   "execution_count": null,
   "metadata": {
    "collapsed": true
   },
   "outputs": [],
   "source": [
    "TList *listW = new TList;\n",
    "  listW->Add(h_lep_pt_WenuW);\n",
    "  listW->Add(h_lep_pt_WenuJ);\n",
    "  listW->Add(h_lep_pt_WenuN);\n",
    "  listW->Add(h_lep_pt_WmunuW);\n",
    "  listW->Add(h_lep_pt_WmunuJ);\n",
    "  listW->Add(h_lep_pt_WmunuN);\n",
    "  listW->Add(h_lep_pt_WtaunuW);\n",
    "  listW->Add(h_lep_pt_WtaunuJ);\n",
    "  listW->Add(h_lep_pt_WtaunuN);\n",
    "\n",
    "  \n",
    "h_lep_pt_mergedW->Reset();\n",
    "h_lep_pt_mergedW->Merge(listW);\n",
    "h_lep_pt_mergedW->SetFillColor(kRed);\n",
    "h_lep_pt_mergedW->Draw();"
   ]
  },
  {
   "cell_type": "code",
   "execution_count": null,
   "metadata": {
    "collapsed": false
   },
   "outputs": [],
   "source": [
    "cw->Draw();"
   ]
  },
  {
   "cell_type": "code",
   "execution_count": null,
   "metadata": {
    "collapsed": true
   },
   "outputs": [],
   "source": [
    " TCanvas *cwEta = new TCanvas(\"cwEta\",\"cwEta\",10,10,900,900);\n",
    "    TText twEta; twEta.SetTextFont(42); twEta.SetTextAlign(21);\n",
    "    cwEta->Divide(3,4);\n",
    "    cwEta->cd(1); h_lep_eta_WenuW->Draw();\n",
    "    cwEta->cd(2); h_lep_eta_WenuJ->Draw();\n",
    "    cwEta->cd(3); h_lep_eta_WenuN->Draw();\n",
    "    cwEta->cd(4); h_lep_eta_WmunuW->Draw();\n",
    "    cwEta->cd(5); h_lep_eta_WmunuJ->Draw();\n",
    "    cwEta->cd(6); h_lep_eta_WmunuN->Draw();\n",
    "    cwEta->cd(7); h_lep_eta_WtaunuW->Draw();\n",
    "    cwEta->cd(8); h_lep_eta_WtaunuJ->Draw();\n",
    "    cwEta->cd(9); h_lep_eta_WtaunuN->Draw();\n",
    "    cwEta->cd(10);h_lep_eta_mergedW->Draw();"
   ]
  },
  {
   "cell_type": "code",
   "execution_count": null,
   "metadata": {
    "collapsed": true
   },
   "outputs": [],
   "source": [
    "TList *listWEta = new TList;\n",
    "  listWEta->Add(h_lep_eta_WenuW);\n",
    "  listWEta->Add(h_lep_eta_WenuJ);\n",
    "  listWEta->Add(h_lep_eta_WenuN);\n",
    "  listWEta->Add(h_lep_eta_WmunuW);\n",
    "  listWEta->Add(h_lep_eta_WmunuJ);\n",
    "  listWEta->Add(h_lep_eta_WmunuN);\n",
    "  listWEta->Add(h_lep_eta_WtaunuW);\n",
    "  listWEta->Add(h_lep_eta_WtaunuJ);\n",
    "  listWEta->Add(h_lep_eta_WtaunuN);\n",
    "\n",
    "  \n",
    "h_lep_eta_mergedW->Reset();\n",
    "h_lep_eta_mergedW->Merge(listWEta);\n",
    "h_lep_eta_mergedW->SetFillColor(kBlue);\n",
    "h_lep_eta_mergedW->Draw();"
   ]
  },
  {
   "cell_type": "code",
   "execution_count": null,
   "metadata": {
    "collapsed": false
   },
   "outputs": [],
   "source": [
    "cwEta->Draw();"
   ]
  },
  {
   "cell_type": "code",
   "execution_count": null,
   "metadata": {
    "collapsed": true
   },
   "outputs": [],
   "source": [
    " TCanvas *cwPhi = new TCanvas(\"cwPhi\",\"cwPhi\",10,10,900,900);\n",
    "    TText twPhi; twPhi.SetTextFont(42); twPhi.SetTextAlign(21);\n",
    "    cwPhi->Divide(3,4);\n",
    "    cwPhi->cd(1); h_lep_phi_WenuW->Draw();\n",
    "    cwPhi->cd(2); h_lep_phi_WenuJ->Draw();\n",
    "    cwPhi->cd(3); h_lep_phi_WenuN->Draw();\n",
    "    cwPhi->cd(4); h_lep_phi_WmunuW->Draw();\n",
    "    cwPhi->cd(5); h_lep_phi_WmunuJ->Draw();\n",
    "    cwPhi->cd(6); h_lep_phi_WmunuN->Draw();\n",
    "    cwPhi->cd(7); h_lep_phi_WtaunuW->Draw();\n",
    "    cwPhi->cd(8); h_lep_phi_WtaunuJ->Draw();\n",
    "    cwPhi->cd(9); h_lep_phi_WtaunuN->Draw();\n",
    "    cwPhi->cd(10);h_lep_phi_mergedW->Draw();"
   ]
  },
  {
   "cell_type": "code",
   "execution_count": null,
   "metadata": {
    "collapsed": true
   },
   "outputs": [],
   "source": [
    "TList *listWPhi = new TList;\n",
    "  listWPhi->Add(h_lep_phi_WenuW);\n",
    "  listWPhi->Add(h_lep_phi_WenuJ);\n",
    "  listWPhi->Add(h_lep_phi_WenuN);\n",
    "  listWPhi->Add(h_lep_phi_WmunuW);\n",
    "  listWPhi->Add(h_lep_phi_WmunuJ);\n",
    "  listWPhi->Add(h_lep_phi_WmunuN);\n",
    "  listWPhi->Add(h_lep_phi_WtaunuW);\n",
    "  listWPhi->Add(h_lep_phi_WtaunuJ);\n",
    "  listWPhi->Add(h_lep_phi_WtaunuN);\n",
    "\n",
    "  \n",
    "h_lep_phi_mergedW->Reset();\n",
    "h_lep_phi_mergedW->Merge(listWPhi);\n",
    "h_lep_phi_mergedW->SetFillColor(kBlue);\n",
    "h_lep_phi_mergedW->Draw();"
   ]
  },
  {
   "cell_type": "code",
   "execution_count": null,
   "metadata": {
    "collapsed": false
   },
   "outputs": [],
   "source": [
    "cwPhi->Draw();"
   ]
  },
  {
   "cell_type": "code",
   "execution_count": null,
   "metadata": {
    "collapsed": true
   },
   "outputs": [],
   "source": [
    " TCanvas *cwE = new TCanvas(\"cwE\",\"cwE\",10,10,900,900);\n",
    "    TText twE; twE.SetTextFont(42); twE.SetTextAlign(21);\n",
    "    cwE->Divide(3,4);\n",
    "    cwE->cd(1); h_lep_E_WenuW->Draw();\n",
    "    cwE->cd(2); h_lep_E_WenuJ->Draw();\n",
    "    cwE->cd(3); h_lep_E_WenuN->Draw();\n",
    "    cwE->cd(4); h_lep_E_WmunuW->Draw();\n",
    "    cwE->cd(5); h_lep_E_WmunuJ->Draw();\n",
    "    cwE->cd(6); h_lep_E_WmunuN->Draw();\n",
    "    cwE->cd(7); h_lep_E_WtaunuW->Draw();\n",
    "    cwE->cd(8); h_lep_E_WtaunuJ->Draw();\n",
    "    cwE->cd(9); h_lep_E_WtaunuN->Draw();\n",
    "    cwE->cd(10);h_lep_E_mergedW->Draw();"
   ]
  },
  {
   "cell_type": "code",
   "execution_count": null,
   "metadata": {
    "collapsed": true
   },
   "outputs": [],
   "source": [
    "TList *listWE = new TList;\n",
    "  listWE->Add(h_lep_E_WenuW);\n",
    "  listWE->Add(h_lep_E_WenuJ);\n",
    "  listWE->Add(h_lep_E_WenuN);\n",
    "  listWE->Add(h_lep_E_WmunuW);\n",
    "  listWE->Add(h_lep_E_WmunuJ);\n",
    "  listWE->Add(h_lep_E_WmunuN);\n",
    "  listWE->Add(h_lep_E_WtaunuW);\n",
    "  listWE->Add(h_lep_E_WtaunuJ);\n",
    "  listWE->Add(h_lep_E_WtaunuN);\n",
    "\n",
    "  \n",
    "h_lep_E_mergedW->Reset();\n",
    "h_lep_E_mergedW->Merge(listWE);\n",
    "h_lep_E_mergedW->SetFillColor(kBlue);\n",
    "h_lep_E_mergedW->Draw();"
   ]
  },
  {
   "cell_type": "code",
   "execution_count": null,
   "metadata": {
    "collapsed": false
   },
   "outputs": [],
   "source": [
    "cwE->Draw();"
   ]
  },
  {
   "cell_type": "code",
   "execution_count": null,
   "metadata": {
    "collapsed": true
   },
   "outputs": [],
   "source": [
    "TCanvas *cwCh = new TCanvas(\"cwCh\",\"cwCh\",10,10,900,900);\n",
    "    TText twCh; twCh.SetTextFont(42); twCh.SetTextAlign(21);\n",
    "    cwCh->Divide(3,4);\n",
    "    cwCh->cd(1); h_lep_charge_WenuW->Draw();\n",
    "    cwCh->cd(2); h_lep_charge_WenuJ->Draw();\n",
    "    cwCh->cd(3); h_lep_charge_WenuN->Draw();\n",
    "    cwCh->cd(4); h_lep_charge_WmunuW->Draw();\n",
    "    cwCh->cd(5); h_lep_charge_WmunuJ->Draw();\n",
    "    cwCh->cd(6); h_lep_charge_WmunuN->Draw();\n",
    "    cwCh->cd(7); h_lep_charge_WtaunuW->Draw();\n",
    "    cwCh->cd(8); h_lep_charge_WtaunuJ->Draw();\n",
    "    cwCh->cd(9); h_lep_charge_WtaunuN->Draw();\n",
    "    cwCh->cd(10);h_lep_charge_mergedW->Draw();"
   ]
  },
  {
   "cell_type": "code",
   "execution_count": null,
   "metadata": {
    "collapsed": false
   },
   "outputs": [],
   "source": [
    "TList *listWCh = new TList;\n",
    "  listWCh->Add(h_lep_charge_WenuW);\n",
    "  listWCh->Add(h_lep_charge_WenuJ);\n",
    "  listWCh->Add(h_lep_charge_WenuN);\n",
    "  listWCh->Add(h_lep_charge_WmunuW);\n",
    "  listWCh->Add(h_lep_charge_WmunuJ);\n",
    "  listWCh->Add(h_lep_charge_WmunuN);\n",
    "  listWCh->Add(h_lep_charge_WtaunuW);\n",
    "  listWCh->Add(h_lep_charge_WtaunuJ);\n",
    "  listWCh->Add(h_lep_charge_WtaunuN);\n",
    "\n",
    "  \n",
    "h_lep_charge_mergedW->Reset();\n",
    "h_lep_charge_mergedW->Merge(listWCh);\n",
    "h_lep_charge_mergedW->SetFillColor(kBlue);\n",
    "h_lep_charge_mergedW->Draw();"
   ]
  },
  {
   "cell_type": "code",
   "execution_count": null,
   "metadata": {
    "collapsed": false
   },
   "outputs": [],
   "source": [
    "cwCh->Draw();"
   ]
  },
  {
   "cell_type": "code",
   "execution_count": null,
   "metadata": {
    "collapsed": true
   },
   "outputs": [],
   "source": [
    " TCanvas *cwEtc20 = new TCanvas(\"cwEtc20\",\"cwEtc20\",10,10,900,900);\n",
    "    TText twEtc20; twEtc20.SetTextFont(42); twEtc20.SetTextAlign(21);\n",
    "    cwEtc20->Divide(3,4);\n",
    "    cwEtc20->cd(1); h_lep_etc20_WenuW->Draw();\n",
    "    cwEtc20->cd(2); h_lep_etc20_WenuJ->Draw();\n",
    "    cwEtc20->cd(3); h_lep_etc20_WenuN->Draw();\n",
    "    cwEtc20->cd(4); h_lep_etc20_WmunuW->Draw();\n",
    "    cwEtc20->cd(5); h_lep_etc20_WmunuJ->Draw();\n",
    "    cwEtc20->cd(6); h_lep_etc20_WmunuN->Draw();\n",
    "    cwEtc20->cd(7); h_lep_etc20_WtaunuW->Draw();\n",
    "    cwEtc20->cd(8); h_lep_etc20_WtaunuJ->Draw();\n",
    "    cwEtc20->cd(9); h_lep_etc20_WtaunuN->Draw();\n",
    "    cwEtc20->cd(10);h_lep_etc20_mergedW->Draw();"
   ]
  },
  {
   "cell_type": "code",
   "execution_count": null,
   "metadata": {
    "collapsed": true
   },
   "outputs": [],
   "source": [
    "TList *listWEtc20 = new TList;\n",
    "  listWEtc20->Add(h_lep_etc20_WenuW);\n",
    "  listWEtc20->Add(h_lep_etc20_WenuJ);\n",
    "  listWEtc20->Add(h_lep_etc20_WenuN);\n",
    "  listWEtc20->Add(h_lep_etc20_WmunuW);\n",
    "  listWEtc20->Add(h_lep_etc20_WmunuJ);\n",
    "  listWEtc20->Add(h_lep_etc20_WmunuN);\n",
    "  listWEtc20->Add(h_lep_etc20_WtaunuW);\n",
    "  listWEtc20->Add(h_lep_etc20_WtaunuJ);\n",
    "  listWEtc20->Add(h_lep_etc20_WtaunuN);\n",
    "\n",
    "  \n",
    "h_lep_etc20_mergedW->Reset();\n",
    "h_lep_etc20_mergedW->Merge(listWEtc20);\n",
    "h_lep_etc20_mergedW->SetFillColor(kBlue);\n",
    "h_lep_etc20_mergedW->Draw();"
   ]
  },
  {
   "cell_type": "code",
   "execution_count": null,
   "metadata": {
    "collapsed": false
   },
   "outputs": [],
   "source": [
    "cwEtc20->Draw();"
   ]
  },
  {
   "cell_type": "code",
   "execution_count": null,
   "metadata": {
    "collapsed": true
   },
   "outputs": [],
   "source": [
    "TCanvas *cwPtc30 = new TCanvas(\"cwPtc30\",\"cwPtc30\",10,10,900,900);\n",
    "    TText twPtc30; twPtc30.SetTextFont(42); twPtc30.SetTextAlign(21);\n",
    "    cwPtc30->Divide(3,4);\n",
    "    cwPtc30->cd(1); h_lep_ptc30_WenuW->Draw();\n",
    "    cwPtc30->cd(2); h_lep_ptc30_WenuJ->Draw();\n",
    "    cwPtc30->cd(3); h_lep_ptc30_WenuN->Draw();\n",
    "    cwPtc30->cd(4); h_lep_ptc30_WmunuW->Draw();\n",
    "    cwPtc30->cd(5); h_lep_ptc30_WmunuJ->Draw();\n",
    "    cwPtc30->cd(6); h_lep_ptc30_WmunuN->Draw();\n",
    "    cwPtc30->cd(7); h_lep_ptc30_WtaunuW->Draw();\n",
    "    cwPtc30->cd(8); h_lep_ptc30_WtaunuJ->Draw();\n",
    "    cwPtc30->cd(9); h_lep_ptc30_WtaunuN->Draw();\n",
    "    cwPtc30->cd(10);h_lep_ptc30_mergedW->Draw();"
   ]
  },
  {
   "cell_type": "code",
   "execution_count": null,
   "metadata": {
    "collapsed": true
   },
   "outputs": [],
   "source": [
    " TList *listWPtc30 = new TList;\n",
    "  listWPtc30->Add(h_lep_ptc30_WenuW);\n",
    "  listWPtc30->Add(h_lep_ptc30_WenuJ);\n",
    "  listWPtc30->Add(h_lep_ptc30_WenuN);\n",
    "  listWPtc30->Add(h_lep_ptc30_WmunuW);\n",
    "  listWPtc30->Add(h_lep_ptc30_WmunuJ);\n",
    "  listWPtc30->Add(h_lep_ptc30_WmunuN);\n",
    "  listWPtc30->Add(h_lep_ptc30_WtaunuW);\n",
    "  listWPtc30->Add(h_lep_ptc30_WtaunuJ);\n",
    "  listWPtc30->Add(h_lep_ptc30_WtaunuN);\n",
    "\n",
    "  \n",
    "h_lep_ptc30_mergedW->Reset();\n",
    "h_lep_ptc30_mergedW->Merge(listWPtc30);\n",
    "h_lep_ptc30_mergedW->SetFillColor(kBlue);\n",
    "h_lep_ptc30_mergedW->Draw();"
   ]
  },
  {
   "cell_type": "code",
   "execution_count": null,
   "metadata": {
    "collapsed": false
   },
   "outputs": [],
   "source": [
    "cwPtc30->Draw();"
   ]
  },
  {
   "cell_type": "code",
   "execution_count": null,
   "metadata": {
    "collapsed": true
   },
   "outputs": [],
   "source": [
    " TCanvas *cwZ0 = new TCanvas(\"cwZ0\",\"cwZ0\",10,10,900,900);\n",
    "    TText twZ0; twZ0.SetTextFont(42); twZ0.SetTextAlign(21);\n",
    "    cwZ0->Divide(3,4);\n",
    "    cwZ0->cd(1); h_lep_z0_WenuW->Draw();\n",
    "    cwZ0->cd(2); h_lep_z0_WenuJ->Draw();\n",
    "    cwZ0->cd(3); h_lep_z0_WenuN->Draw();\n",
    "    cwZ0->cd(4); h_lep_z0_WmunuW->Draw();\n",
    "    cwZ0->cd(5); h_lep_z0_WmunuJ->Draw();\n",
    "    cwZ0->cd(6); h_lep_z0_WmunuN->Draw();\n",
    "    cwZ0->cd(7); h_lep_z0_WtaunuW->Draw();\n",
    "    cwZ0->cd(8); h_lep_z0_WtaunuJ->Draw();\n",
    "    cwZ0->cd(9); h_lep_z0_WtaunuN->Draw();\n",
    "    cwZ0->cd(10);h_lep_z0_mergedW->Draw();"
   ]
  },
  {
   "cell_type": "code",
   "execution_count": null,
   "metadata": {
    "collapsed": true
   },
   "outputs": [],
   "source": [
    "TList *listWZ0 = new TList;\n",
    "  listWZ0->Add(h_lep_z0_WenuW);\n",
    "  listWZ0->Add(h_lep_z0_WenuJ);\n",
    "  listWZ0->Add(h_lep_z0_WenuN);\n",
    "  listWZ0->Add(h_lep_z0_WmunuW);\n",
    "  listWZ0->Add(h_lep_z0_WmunuJ);\n",
    "  listWZ0->Add(h_lep_z0_WmunuN);\n",
    "  listWZ0->Add(h_lep_z0_WtaunuW);\n",
    "  listWZ0->Add(h_lep_z0_WtaunuJ);\n",
    "  listWZ0->Add(h_lep_z0_WtaunuN);\n",
    "\n",
    "  \n",
    "h_lep_z0_mergedW->Reset();\n",
    "h_lep_z0_mergedW->Merge(listWZ0);\n",
    "h_lep_z0_mergedW->SetFillColor(kBlue);\n",
    "h_lep_z0_mergedW->Draw();"
   ]
  },
  {
   "cell_type": "code",
   "execution_count": null,
   "metadata": {
    "collapsed": false
   },
   "outputs": [],
   "source": [
    "cwZ0->Draw();"
   ]
  },
  {
   "cell_type": "code",
   "execution_count": null,
   "metadata": {
    "collapsed": true
   },
   "outputs": [],
   "source": [
    "TCanvas *cwD0 = new TCanvas(\"cwD0\",\"cwD0\",10,10,900,900);\n",
    "    TText twD0; twD0.SetTextFont(42); twD0.SetTextAlign(21);\n",
    "    cwD0->Divide(3,4);\n",
    "    cwD0->cd(1); h_lep_d0_WenuW->Draw();\n",
    "    cwD0->cd(2); h_lep_d0_WenuJ->Draw();\n",
    "    cwD0->cd(3); h_lep_d0_WenuN->Draw();\n",
    "    cwD0->cd(4); h_lep_d0_WmunuW->Draw();\n",
    "    cwD0->cd(5); h_lep_d0_WmunuJ->Draw();\n",
    "    cwD0->cd(6); h_lep_d0_WmunuN->Draw();\n",
    "    cwD0->cd(7); h_lep_d0_WtaunuW->Draw();\n",
    "    cwD0->cd(8); h_lep_d0_WtaunuJ->Draw();\n",
    "    cwD0->cd(9); h_lep_d0_WtaunuN->Draw();\n",
    "    cwD0->cd(10);h_lep_d0_mergedW->Draw();"
   ]
  },
  {
   "cell_type": "code",
   "execution_count": null,
   "metadata": {
    "collapsed": true
   },
   "outputs": [],
   "source": [
    "TList *listWD0 = new TList;\n",
    "  listWD0->Add(h_lep_d0_WenuW);\n",
    "  listWD0->Add(h_lep_d0_WenuJ);\n",
    "  listWD0->Add(h_lep_d0_WenuN);\n",
    "  listWD0->Add(h_lep_d0_WmunuW);\n",
    "  listWD0->Add(h_lep_d0_WmunuJ);\n",
    "  listWD0->Add(h_lep_d0_WmunuN);\n",
    "  listWD0->Add(h_lep_d0_WtaunuW);\n",
    "  listWD0->Add(h_lep_d0_WtaunuJ);\n",
    "  listWD0->Add(h_lep_d0_WtaunuN);\n",
    "\n",
    "  \n",
    "h_lep_d0_mergedW->Reset();\n",
    "h_lep_d0_mergedW->Merge(listWD0);\n",
    "h_lep_d0_mergedW->SetFillColor(kBlue);\n",
    "h_lep_d0_mergedW->Draw();"
   ]
  },
  {
   "cell_type": "code",
   "execution_count": null,
   "metadata": {
    "collapsed": false
   },
   "outputs": [],
   "source": [
    "cwD0->Draw();"
   ]
  },
  {
   "cell_type": "code",
   "execution_count": null,
   "metadata": {
    "collapsed": true
   },
   "outputs": [],
   "source": [
    " TCanvas *cwPt_tl = new TCanvas(\"cwPt_tl\",\"cwPt_tl\",10,10,900,900);\n",
    "    TText twPt_tl; twPt_tl.SetTextFont(42); twPt_tl.SetTextAlign(21);\n",
    "    cwPt_tl->Divide(3,4);\n",
    "    cwPt_tl->cd(1); h_lep_pt_tl_WenuW->Draw();\n",
    "    cwPt_tl->cd(2); h_lep_pt_tl_WenuJ->Draw();\n",
    "    cwPt_tl->cd(3); h_lep_pt_tl_WenuN->Draw();\n",
    "    cwPt_tl->cd(4); h_lep_pt_tl_WmunuW->Draw();\n",
    "    cwPt_tl->cd(5); h_lep_pt_tl_WmunuJ->Draw();\n",
    "    cwPt_tl->cd(6); h_lep_pt_tl_WmunuN->Draw();\n",
    "    cwPt_tl->cd(7); h_lep_pt_tl_WtaunuW->Draw();\n",
    "    cwPt_tl->cd(8); h_lep_pt_tl_WtaunuJ->Draw();\n",
    "    cwPt_tl->cd(9); h_lep_pt_tl_WtaunuN->Draw();\n",
    "    cwPt_tl->cd(10);h_lep_pt_tl_mergedW->Draw();\n",
    "\n"
   ]
  },
  {
   "cell_type": "code",
   "execution_count": null,
   "metadata": {
    "collapsed": true
   },
   "outputs": [],
   "source": [
    "TList *listWPt_tl = new TList;\n",
    "  listWPt_tl->Add(h_lep_pt_tl_WenuW);\n",
    "  listWPt_tl->Add(h_lep_pt_tl_WenuJ);\n",
    "  listWPt_tl->Add(h_lep_pt_tl_WenuN);\n",
    "  listWPt_tl->Add(h_lep_pt_tl_WmunuW);\n",
    "  listWPt_tl->Add(h_lep_pt_tl_WmunuJ);\n",
    "  listWPt_tl->Add(h_lep_pt_tl_WmunuN);\n",
    "  listWPt_tl->Add(h_lep_pt_tl_WtaunuW);\n",
    "  listWPt_tl->Add(h_lep_pt_tl_WtaunuJ);\n",
    "  listWPt_tl->Add(h_lep_pt_tl_WtaunuN);\n",
    "\n",
    "  \n",
    "h_lep_pt_tl_mergedW->Reset();\n",
    "h_lep_pt_tl_mergedW->Merge(listWPt_tl);\n",
    "h_lep_pt_tl_mergedW->SetFillColor(kBlue);\n",
    "h_lep_pt_tl_mergedW->Draw();"
   ]
  },
  {
   "cell_type": "code",
   "execution_count": null,
   "metadata": {
    "collapsed": false
   },
   "outputs": [],
   "source": [
    "cwPt_tl->Draw();"
   ]
  },
  {
   "cell_type": "code",
   "execution_count": null,
   "metadata": {
    "collapsed": true
   },
   "outputs": [],
   "source": [
    "TCanvas *cwEta_tl = new TCanvas(\"cwEta_tl\",\"cwEta_tl\",10,10,900,900);\n",
    "    TText twEta_tl; twEta_tl.SetTextFont(42); twEta_tl.SetTextAlign(21);\n",
    "    cwEta_tl->Divide(3,4);\n",
    "    cwEta_tl->cd(1); h_lep_eta_tl_WenuW->Draw();\n",
    "    cwEta_tl->cd(2); h_lep_eta_tl_WenuJ->Draw();\n",
    "    cwEta_tl->cd(3); h_lep_eta_tl_WenuN->Draw();\n",
    "    cwEta_tl->cd(4); h_lep_eta_tl_WmunuW->Draw();\n",
    "    cwEta_tl->cd(5); h_lep_eta_tl_WmunuJ->Draw();\n",
    "    cwEta_tl->cd(6); h_lep_eta_tl_WmunuN->Draw();\n",
    "    cwEta_tl->cd(7); h_lep_eta_tl_WtaunuW->Draw();\n",
    "    cwEta_tl->cd(8); h_lep_eta_tl_WtaunuJ->Draw();\n",
    "    cwEta_tl->cd(9); h_lep_eta_tl_WtaunuN->Draw();\n",
    "    cwEta_tl->cd(10);h_lep_eta_tl_mergedW->Draw();\n",
    "\n"
   ]
  },
  {
   "cell_type": "code",
   "execution_count": null,
   "metadata": {
    "collapsed": true
   },
   "outputs": [],
   "source": [
    "TList *listWEta_tl = new TList;\n",
    "  listWEta_tl->Add(h_lep_eta_tl_WenuW);\n",
    "  listWEta_tl->Add(h_lep_eta_tl_WenuJ);\n",
    "  listWEta_tl->Add(h_lep_eta_tl_WenuN);\n",
    "  listWEta_tl->Add(h_lep_eta_tl_WmunuW);\n",
    "  listWEta_tl->Add(h_lep_eta_tl_WmunuJ);\n",
    "  listWEta_tl->Add(h_lep_eta_tl_WmunuN);\n",
    "  listWEta_tl->Add(h_lep_eta_tl_WtaunuW);\n",
    "  listWEta_tl->Add(h_lep_eta_tl_WtaunuJ);\n",
    "  listWEta_tl->Add(h_lep_eta_tl_WtaunuN);\n",
    "\n",
    "  \n",
    "h_lep_eta_tl_mergedW->Reset();\n",
    "h_lep_eta_tl_mergedW->Merge(listWEta_tl);\n",
    "h_lep_eta_tl_mergedW->SetFillColor(kBlue);\n",
    "h_lep_eta_tl_mergedW->Draw();"
   ]
  },
  {
   "cell_type": "code",
   "execution_count": null,
   "metadata": {
    "collapsed": false
   },
   "outputs": [],
   "source": [
    "cwEta_tl->Draw();"
   ]
  },
  {
   "cell_type": "code",
   "execution_count": null,
   "metadata": {
    "collapsed": true
   },
   "outputs": [],
   "source": [
    " TCanvas *cwPhi_tl = new TCanvas(\"cwPhi_tl\",\"cwPhi_tl\",10,10,900,900);\n",
    "    TText twPhi_tl; twPhi_tl.SetTextFont(42); twPhi_tl.SetTextAlign(21);\n",
    "    cwPhi_tl->Divide(3,4);\n",
    "    cwPhi_tl->cd(1); h_lep_phi_tl_WenuW->Draw();\n",
    "    cwPhi_tl->cd(2); h_lep_phi_tl_WenuJ->Draw();\n",
    "    cwPhi_tl->cd(3); h_lep_phi_tl_WenuN->Draw();\n",
    "    cwPhi_tl->cd(4); h_lep_phi_tl_WmunuW->Draw();\n",
    "    cwPhi_tl->cd(5); h_lep_phi_tl_WmunuJ->Draw();\n",
    "    cwPhi_tl->cd(6); h_lep_phi_tl_WmunuN->Draw();\n",
    "    cwPhi_tl->cd(7); h_lep_phi_tl_WtaunuW->Draw();\n",
    "    cwPhi_tl->cd(8); h_lep_phi_tl_WtaunuJ->Draw();\n",
    "    cwPhi_tl->cd(9); h_lep_phi_tl_WtaunuN->Draw();\n",
    "    cwPhi_tl->cd(10);h_lep_phi_tl_mergedW->Draw(); \n"
   ]
  },
  {
   "cell_type": "code",
   "execution_count": null,
   "metadata": {
    "collapsed": true
   },
   "outputs": [],
   "source": [
    "TList *listWPhi_tl = new TList;\n",
    "  listWPhi_tl->Add(h_lep_phi_tl_WenuW);\n",
    "  listWPhi_tl->Add(h_lep_phi_tl_WenuJ);\n",
    "  listWPhi_tl->Add(h_lep_phi_tl_WenuN);\n",
    "  listWPhi_tl->Add(h_lep_phi_tl_WmunuW);\n",
    "  listWPhi_tl->Add(h_lep_phi_tl_WmunuJ);\n",
    "  listWPhi_tl->Add(h_lep_phi_tl_WmunuN);\n",
    "  listWPhi_tl->Add(h_lep_phi_tl_WtaunuW);\n",
    "  listWPhi_tl->Add(h_lep_phi_tl_WtaunuJ);\n",
    "  listWPhi_tl->Add(h_lep_phi_tl_WtaunuN);\n",
    "\n",
    "  \n",
    "h_lep_phi_tl_mergedW->Reset();\n",
    "h_lep_phi_tl_mergedW->Merge(listWPhi_tl);\n",
    "h_lep_phi_tl_mergedW->SetFillColor(kBlue);\n",
    "h_lep_phi_tl_mergedW->Draw();"
   ]
  },
  {
   "cell_type": "code",
   "execution_count": null,
   "metadata": {
    "collapsed": false
   },
   "outputs": [],
   "source": [
    "cwPhi_tl->Draw();"
   ]
  },
  {
   "cell_type": "code",
   "execution_count": null,
   "metadata": {
    "collapsed": true
   },
   "outputs": [],
   "source": [
    "TCanvas *cwE_tl = new TCanvas(\"cwE_tl\",\"cwE_tl\",10,10,900,900);\n",
    "    TText twE_tl; twE_tl.SetTextFont(42); twE_tl.SetTextAlign(21);\n",
    "    cwE_tl->Divide(3,4);\n",
    "    cwE_tl->cd(1); h_lep_E_tl_WenuW->Draw();\n",
    "    cwE_tl->cd(2); h_lep_E_tl_WenuJ->Draw();\n",
    "    cwE_tl->cd(3); h_lep_E_tl_WenuN->Draw();\n",
    "    cwE_tl->cd(4); h_lep_E_tl_WmunuW->Draw();\n",
    "    cwE_tl->cd(5); h_lep_E_tl_WmunuJ->Draw();\n",
    "    cwE_tl->cd(6); h_lep_E_tl_WmunuN->Draw();\n",
    "    cwE_tl->cd(7); h_lep_E_tl_WtaunuW->Draw();\n",
    "    cwE_tl->cd(8); h_lep_E_tl_WtaunuJ->Draw();\n",
    "    cwE_tl->cd(9); h_lep_E_tl_WtaunuN->Draw();\n",
    "    cwE_tl->cd(10);h_lep_E_tl_mergedW->Draw();\n"
   ]
  },
  {
   "cell_type": "code",
   "execution_count": null,
   "metadata": {
    "collapsed": true
   },
   "outputs": [],
   "source": [
    "TList *listWE_tl = new TList;\n",
    "  listWE_tl->Add(h_lep_E_tl_WenuW);\n",
    "  listWE_tl->Add(h_lep_E_tl_WenuJ);\n",
    "  listWE_tl->Add(h_lep_E_tl_WenuN);\n",
    "  listWE_tl->Add(h_lep_E_tl_WmunuW);\n",
    "  listWE_tl->Add(h_lep_E_tl_WmunuJ);\n",
    "  listWE_tl->Add(h_lep_E_tl_WmunuN);\n",
    "  listWE_tl->Add(h_lep_E_tl_WtaunuW);\n",
    "  listWE_tl->Add(h_lep_E_tl_WtaunuJ);\n",
    "  listWE_tl->Add(h_lep_E_tl_WtaunuN);\n",
    "\n",
    "  \n",
    "h_lep_E_tl_mergedW->Reset();\n",
    "h_lep_E_tl_mergedW->Merge(listWE_tl);\n",
    "h_lep_E_tl_mergedW->SetFillColor(kBlue);\n",
    "h_lep_E_tl_mergedW->Draw();"
   ]
  },
  {
   "cell_type": "code",
   "execution_count": null,
   "metadata": {
    "collapsed": false
   },
   "outputs": [],
   "source": [
    "cwE_tl->Draw();"
   ]
  },
  {
   "cell_type": "code",
   "execution_count": null,
   "metadata": {
    "collapsed": true
   },
   "outputs": [],
   "source": [
    "TCanvas *cwCh_tl = new TCanvas(\"cwCh_tl\",\"cwCh_tl\",10,10,900,900);\n",
    "    TText twCh_tl; twCh_tl.SetTextFont(42); twCh_tl.SetTextAlign(21);\n",
    "    cwCh_tl->Divide(3,4);\n",
    "    cwCh_tl->cd(1); h_lep_charge_tl_WenuW->Draw();\n",
    "    cwCh_tl->cd(2); h_lep_charge_tl_WenuJ->Draw();\n",
    "    cwCh_tl->cd(3); h_lep_charge_tl_WenuN->Draw();\n",
    "    cwCh_tl->cd(4); h_lep_charge_tl_WmunuW->Draw();\n",
    "    cwCh_tl->cd(5); h_lep_charge_tl_WmunuJ->Draw();\n",
    "    cwCh_tl->cd(6); h_lep_charge_tl_WmunuN->Draw();\n",
    "    cwCh_tl->cd(7); h_lep_charge_tl_WtaunuW->Draw();\n",
    "    cwCh_tl->cd(8); h_lep_charge_tl_WtaunuJ->Draw();\n",
    "    cwCh_tl->cd(9); h_lep_charge_tl_WtaunuN->Draw();\n",
    "    cwCh_tl->cd(10);h_lep_charge_tl_mergedW->Draw();\n",
    "\n"
   ]
  },
  {
   "cell_type": "code",
   "execution_count": null,
   "metadata": {
    "collapsed": true
   },
   "outputs": [],
   "source": [
    "TList *listWCh_tl = new TList;\n",
    "  listWCh_tl->Add(h_lep_charge_tl_WenuW);\n",
    "  listWCh_tl->Add(h_lep_charge_tl_WenuJ);\n",
    "  listWCh_tl->Add(h_lep_charge_tl_WenuN);\n",
    "  listWCh_tl->Add(h_lep_charge_tl_WmunuW);\n",
    "  listWCh_tl->Add(h_lep_charge_tl_WmunuJ);\n",
    "  listWCh_tl->Add(h_lep_charge_tl_WmunuN);\n",
    "  listWCh_tl->Add(h_lep_charge_tl_WtaunuW);\n",
    "  listWCh_tl->Add(h_lep_charge_tl_WtaunuJ);\n",
    "  listWCh_tl->Add(h_lep_charge_tl_WtaunuN);\n",
    "\n",
    "  \n",
    "h_lep_charge_tl_mergedW->Reset();\n",
    "h_lep_charge_tl_mergedW->Merge(listWCh_tl);\n",
    "h_lep_charge_tl_mergedW->SetFillColor(kBlue);\n",
    "h_lep_charge_tl_mergedW->Draw();"
   ]
  },
  {
   "cell_type": "code",
   "execution_count": null,
   "metadata": {
    "collapsed": false
   },
   "outputs": [],
   "source": [
    "cwCh_tl->Draw();"
   ]
  },
  {
   "cell_type": "code",
   "execution_count": null,
   "metadata": {
    "collapsed": true
   },
   "outputs": [],
   "source": [
    "TCanvas *cwEtc20_tl = new TCanvas(\"cwEtc20_tl\",\"cwEtc20_tl\",10,10,900,900);\n",
    "    TText twEtc20_tl; twEtc20_tl.SetTextFont(42); twEtc20_tl.SetTextAlign(21);\n",
    "    cwEtc20_tl->Divide(3,4);\n",
    "    cwEtc20_tl->cd(1); h_lep_etc20_tl_WenuW->Draw();\n",
    "    cwEtc20_tl->cd(2); h_lep_etc20_tl_WenuJ->Draw();\n",
    "    cwEtc20_tl->cd(3); h_lep_etc20_tl_WenuN->Draw();\n",
    "    cwEtc20_tl->cd(4); h_lep_etc20_tl_WmunuW->Draw();\n",
    "    cwEtc20_tl->cd(5); h_lep_etc20_tl_WmunuJ->Draw();\n",
    "    cwEtc20_tl->cd(6); h_lep_etc20_tl_WmunuN->Draw();\n",
    "    cwEtc20_tl->cd(7); h_lep_etc20_tl_WtaunuW->Draw();\n",
    "    cwEtc20_tl->cd(8); h_lep_etc20_tl_WtaunuJ->Draw();\n",
    "    cwEtc20_tl->cd(9); h_lep_etc20_tl_WtaunuN->Draw();\n",
    "    cwEtc20_tl->cd(10);h_lep_etc20_tl_mergedW->Draw();\n"
   ]
  },
  {
   "cell_type": "code",
   "execution_count": null,
   "metadata": {
    "collapsed": true
   },
   "outputs": [],
   "source": [
    "TList *listWEtc20_tl = new TList;\n",
    "  listWEtc20_tl->Add(h_lep_etc20_tl_WenuW);\n",
    "  listWEtc20_tl->Add(h_lep_etc20_tl_WenuJ);\n",
    "  listWEtc20_tl->Add(h_lep_etc20_tl_WenuN);\n",
    "  listWEtc20_tl->Add(h_lep_etc20_tl_WmunuW);\n",
    "  listWEtc20_tl->Add(h_lep_etc20_tl_WmunuJ);\n",
    "  listWEtc20_tl->Add(h_lep_etc20_tl_WmunuN);\n",
    "  listWEtc20_tl->Add(h_lep_etc20_tl_WtaunuW);\n",
    "  listWEtc20_tl->Add(h_lep_etc20_tl_WtaunuJ);\n",
    "  listWEtc20_tl->Add(h_lep_etc20_tl_WtaunuN);\n",
    "\n",
    "  \n",
    "h_lep_etc20_tl_mergedW->Reset();\n",
    "h_lep_etc20_tl_mergedW->Merge(listWEtc20);\n",
    "h_lep_etc20_tl_mergedW->SetFillColor(kBlue);\n",
    "h_lep_etc20_tl_mergedW->Draw();"
   ]
  },
  {
   "cell_type": "code",
   "execution_count": null,
   "metadata": {
    "collapsed": false
   },
   "outputs": [],
   "source": [
    "cwEtc20_tl->Draw();"
   ]
  },
  {
   "cell_type": "code",
   "execution_count": null,
   "metadata": {
    "collapsed": true
   },
   "outputs": [],
   "source": [
    "TCanvas *cwPtc30_tl = new TCanvas(\"cwPtc30_tl\",\"cwPtc30_tl\",10,10,900,900);\n",
    "    TText twPtc30_tl; twPtc30_tl.SetTextFont(42); twPtc30_tl.SetTextAlign(21);\n",
    "    cwPtc30_tl->Divide(3,4);\n",
    "    cwPtc30_tl->cd(1); h_lep_ptc30_tl_WenuW->Draw();\n",
    "    cwPtc30_tl->cd(2); h_lep_ptc30_tl_WenuJ->Draw();\n",
    "    cwPtc30_tl->cd(3); h_lep_ptc30_tl_WenuN->Draw();\n",
    "    cwPtc30_tl->cd(4); h_lep_ptc30_tl_WmunuW->Draw();\n",
    "    cwPtc30_tl->cd(5); h_lep_ptc30_tl_WmunuJ->Draw();\n",
    "    cwPtc30_tl->cd(6); h_lep_ptc30_tl_WmunuN->Draw();\n",
    "    cwPtc30_tl->cd(7); h_lep_ptc30_tl_WtaunuW->Draw();\n",
    "    cwPtc30_tl->cd(8); h_lep_ptc30_tl_WtaunuJ->Draw();\n",
    "    cwPtc30_tl->cd(9); h_lep_ptc30_tl_WtaunuN->Draw();\n",
    "    cwPtc30_tl->cd(10);h_lep_ptc30_tl_mergedW->Draw(); \n"
   ]
  },
  {
   "cell_type": "code",
   "execution_count": null,
   "metadata": {
    "collapsed": true
   },
   "outputs": [],
   "source": [
    "TList *listWPtc30_tl = new TList;\n",
    "  listWPtc30_tl->Add(h_lep_ptc30_tl_WenuW);\n",
    "  listWPtc30_tl->Add(h_lep_ptc30_tl_WenuJ);\n",
    "  listWPtc30_tl->Add(h_lep_ptc30_tl_WenuN);\n",
    "  listWPtc30_tl->Add(h_lep_ptc30_tl_WmunuW);\n",
    "  listWPtc30_tl->Add(h_lep_ptc30_tl_WmunuJ);\n",
    "  listWPtc30_tl->Add(h_lep_ptc30_tl_WmunuN);\n",
    "  listWPtc30_tl->Add(h_lep_ptc30_tl_WtaunuW);\n",
    "  listWPtc30_tl->Add(h_lep_ptc30_tl_WtaunuJ);\n",
    "  listWPtc30_tl->Add(h_lep_ptc30_tl_WtaunuN);\n",
    "\n",
    "  \n",
    "h_lep_ptc30_tl_mergedW->Reset();\n",
    "h_lep_ptc30_tl_mergedW->Merge(listWPtc30_tl);\n",
    "h_lep_ptc30_tl_mergedW->SetFillColor(kBlue);\n",
    "h_lep_ptc30_tl_mergedW->Draw();"
   ]
  },
  {
   "cell_type": "code",
   "execution_count": null,
   "metadata": {
    "collapsed": false
   },
   "outputs": [],
   "source": [
    "cwPtc30_tl->Draw();"
   ]
  },
  {
   "cell_type": "code",
   "execution_count": null,
   "metadata": {
    "collapsed": true
   },
   "outputs": [],
   "source": [
    " TCanvas *cwZ0_tl = new TCanvas(\"cwZ0_tl\",\"cwZ0_tl\",10,10,900,900);\n",
    "    TText twZ0_tl; twZ0_tl.SetTextFont(42); twZ0_tl.SetTextAlign(21);\n",
    "    cwZ0_tl->Divide(3,4);\n",
    "    cwZ0_tl->cd(1); h_lep_z0_tl_WenuW->Draw();\n",
    "    cwZ0_tl->cd(2); h_lep_z0_tl_WenuJ->Draw();\n",
    "    cwZ0_tl->cd(3); h_lep_z0_tl_WenuN->Draw();\n",
    "    cwZ0_tl->cd(4); h_lep_z0_WmunuW->Draw();\n",
    "    cwZ0_tl->cd(5); h_lep_z0_tl_WmunuJ->Draw();\n",
    "    cwZ0_tl->cd(6); h_lep_z0_tl_WmunuN->Draw();\n",
    "    cwZ0_tl->cd(7); h_lep_z0_tl_WtaunuW->Draw();\n",
    "    cwZ0_tl->cd(8); h_lep_z0_tl_WtaunuJ->Draw();\n",
    "    cwZ0_tl->cd(9); h_lep_z0_tl_WtaunuN->Draw();\n",
    "    cwZ0_tl->cd(10);h_lep_z0_tl_mergedW->Draw();\n"
   ]
  },
  {
   "cell_type": "code",
   "execution_count": null,
   "metadata": {
    "collapsed": true
   },
   "outputs": [],
   "source": [
    "TList *listWZ0_tl = new TList;\n",
    "  listWZ0_tl->Add(h_lep_z0_tl_WenuW);\n",
    "  listWZ0_tl->Add(h_lep_z0_tl_WenuJ);\n",
    "  listWZ0_tl->Add(h_lep_z0_tl_WenuN);\n",
    "  listWZ0_tl->Add(h_lep_z0_tl_WmunuW);\n",
    "  listWZ0_tl->Add(h_lep_z0_tl_WmunuJ);\n",
    "  listWZ0_tl->Add(h_lep_z0_tl_WmunuN);\n",
    "  listWZ0_tl->Add(h_lep_z0_tl_WtaunuW);\n",
    "  listWZ0_tl->Add(h_lep_z0_tl_WtaunuJ);\n",
    "  listWZ0_tl->Add(h_lep_z0_tl_WtaunuN);\n",
    "\n",
    "  \n",
    "h_lep_z0_tl_mergedW->Reset();\n",
    "h_lep_z0_tl_mergedW->Merge(listWZ0_tl);\n",
    "h_lep_z0_tl_mergedW->SetFillColor(kBlue);\n",
    "h_lep_z0_tl_mergedW->Draw();"
   ]
  },
  {
   "cell_type": "code",
   "execution_count": null,
   "metadata": {
    "collapsed": false
   },
   "outputs": [],
   "source": [
    "cwZ0_tl->Draw();"
   ]
  },
  {
   "cell_type": "code",
   "execution_count": null,
   "metadata": {
    "collapsed": true
   },
   "outputs": [],
   "source": [
    "TCanvas *cwD0_tl = new TCanvas(\"cwD0_tl\",\"cwD0_tl\",10,10,900,900);\n",
    "    TText twD0_tl; twD0_tl.SetTextFont(42); twD0_tl.SetTextAlign(21);\n",
    "    cwD0_tl->Divide(3,4);\n",
    "    cwD0_tl->cd(1); h_lep_d0_tl_WenuW->Draw();\n",
    "    cwD0_tl->cd(2); h_lep_d0_tl_WenuJ->Draw();\n",
    "    cwD0_tl->cd(3); h_lep_d0_tl_WenuN->Draw();\n",
    "    cwD0_tl->cd(4); h_lep_d0_tl_WmunuW->Draw();\n",
    "    cwD0_tl->cd(5); h_lep_d0_tl_WmunuJ->Draw();\n",
    "    cwD0_tl->cd(6); h_lep_d0_tl_WmunuN->Draw();\n",
    "    cwD0_tl->cd(7); h_lep_d0_tl_WtaunuW->Draw();\n",
    "    cwD0_tl->cd(8); h_lep_d0_tl_WtaunuJ->Draw();\n",
    "    cwD0_tl->cd(9); h_lep_d0_tl_WtaunuN->Draw();\n",
    "    cwD0_tl->cd(10);h_lep_d0_tl_mergedW->Draw();\n"
   ]
  },
  {
   "cell_type": "code",
   "execution_count": null,
   "metadata": {
    "collapsed": true
   },
   "outputs": [],
   "source": [
    "TList *listWD0_tl = new TList;\n",
    "  listWD0_tl->Add(h_lep_d0_tl_WenuW);\n",
    "  listWD0_tl->Add(h_lep_d0_tl_WenuJ);\n",
    "  listWD0_tl->Add(h_lep_d0_tl_WenuN);\n",
    "  listWD0_tl->Add(h_lep_d0_tl_WmunuW);\n",
    "  listWD0_tl->Add(h_lep_d0_tl_WmunuJ);\n",
    "  listWD0_tl->Add(h_lep_d0_tl_WmunuN);\n",
    "  listWD0_tl->Add(h_lep_d0_tl_WtaunuW);\n",
    "  listWD0_tl->Add(h_lep_d0_tl_WtaunuJ);\n",
    "  listWD0_tl->Add(h_lep_d0_tl_WtaunuN);\n",
    "\n",
    "  \n",
    "h_lep_d0_tl_mergedW->Reset();\n",
    "h_lep_d0_tl_mergedW->Merge(listWD0_tl);\n",
    "h_lep_d0_tl_mergedW->SetFillColor(kBlue);\n",
    "h_lep_d0_tl_mergedW->Draw();"
   ]
  },
  {
   "cell_type": "code",
   "execution_count": null,
   "metadata": {
    "collapsed": false
   },
   "outputs": [],
   "source": [
    "cwD0_tl->Draw();"
   ]
  },
  {
   "cell_type": "code",
   "execution_count": null,
   "metadata": {
    "collapsed": true
   },
   "outputs": [],
   "source": [
    " TCanvas *cwJn = new TCanvas(\"cwJn\",\"cwJn\",10,10,900,900);\n",
    "    TText twJn; twJn.SetTextFont(42); twJn.SetTextAlign(21);\n",
    "    cwJn->Divide(3,4);\n",
    "    cwJn->cd(1); h_jet_n_WenuW->Draw();\n",
    "    cwJn->cd(2); h_jet_n_WenuJ->Draw();\n",
    "    cwJn->cd(3); h_jet_n_WenuN->Draw();\n",
    "    cwJn->cd(4); h_jet_n_WmunuW->Draw();\n",
    "    cwJn->cd(5); h_jet_n_WmunuJ->Draw();\n",
    "    cwJn->cd(6); h_jet_n_WmunuN->Draw();\n",
    "    cwJn->cd(7); h_jet_n_WtaunuW->Draw();\n",
    "    cwJn->cd(8); h_jet_n_WtaunuJ->Draw();\n",
    "    cwJn->cd(9); h_jet_n_WtaunuN->Draw();\n",
    "    cwJn->cd(10);h_jet_n_mergedW->Draw();\n"
   ]
  },
  {
   "cell_type": "code",
   "execution_count": null,
   "metadata": {
    "collapsed": true
   },
   "outputs": [],
   "source": [
    "TList *listWJn = new TList;\n",
    "  listWJn->Add(h_jet_n_WenuW);\n",
    "  listWJn->Add(h_jet_n_WenuJ);\n",
    "  listWJn->Add(h_jet_n_WenuN);\n",
    "  listWJn->Add(h_jet_n_WmunuW);\n",
    "  listWJn->Add(h_jet_n_WmunuJ);\n",
    "  listWJn->Add(h_jet_n_WmunuN);\n",
    "  listWJn->Add(h_jet_n_WtaunuW);\n",
    "  listWJn->Add(h_jet_n_WtaunuJ);\n",
    "  listWJn->Add(h_jet_n_WtaunuN);\n",
    "\n",
    "  \n",
    "h_jet_n_mergedW->Reset();\n",
    "h_jet_n_mergedW->Merge(listWJn);\n",
    "h_jet_n_mergedW->SetFillColor(kBlue);\n",
    "h_jet_n_mergedW->Draw();"
   ]
  },
  {
   "cell_type": "code",
   "execution_count": null,
   "metadata": {
    "collapsed": false
   },
   "outputs": [],
   "source": [
    "cwJn->Draw();"
   ]
  },
  {
   "cell_type": "code",
   "execution_count": null,
   "metadata": {
    "collapsed": true
   },
   "outputs": [],
   "source": [
    " TCanvas *cwJnPt = new TCanvas(\"cwJnPt\",\"cwJnPt\",10,10,900,900);\n",
    "    TText twJnPt; twJnPt.SetTextFont(42); twJnPt.SetTextAlign(21);\n",
    "    cwJnPt->Divide(3,4);\n",
    "    cwJnPt->cd(1); h_jet_pt_WenuW->Draw();\n",
    "    cwJnPt->cd(2); h_jet_pt_WenuJ->Draw();\n",
    "    cwJnPt->cd(3); h_jet_pt_WenuN->Draw();\n",
    "    cwJnPt->cd(4); h_jet_pt_WmunuW->Draw();\n",
    "    cwJnPt->cd(5); h_jet_pt_WmunuJ->Draw();\n",
    "    cwJnPt->cd(6); h_jet_pt_WmunuN->Draw();\n",
    "    cwJnPt->cd(7); h_jet_pt_WtaunuW->Draw();\n",
    "    cwJnPt->cd(8); h_jet_pt_WtaunuJ->Draw();\n",
    "    cwJnPt->cd(9); h_jet_pt_WtaunuN->Draw();\n",
    "    cwJnPt->cd(10);h_jet_pt_mergedW->Draw();"
   ]
  },
  {
   "cell_type": "code",
   "execution_count": null,
   "metadata": {
    "collapsed": true
   },
   "outputs": [],
   "source": [
    "TList *listWJnPt = new TList;\n",
    "  listWJnPt->Add(h_jet_pt_WenuW);\n",
    "  listWJnPt->Add(h_jet_pt_WenuJ);\n",
    "  listWJnPt->Add(h_jet_pt_WenuN);\n",
    "  listWJnPt->Add(h_jet_pt_WmunuW);\n",
    "  listWJnPt->Add(h_jet_pt_WmunuJ);\n",
    "  listWJnPt->Add(h_jet_pt_WmunuN);\n",
    "  listWJnPt->Add(h_jet_pt_WtaunuW);\n",
    "  listWJnPt->Add(h_jet_pt_WtaunuJ);\n",
    "  listWJnPt->Add(h_jet_pt_WtaunuN);\n",
    "\n",
    "  \n",
    "h_jet_pt_mergedW->Reset();\n",
    "h_jet_pt_mergedW->Merge(listWJnPt);\n",
    "h_jet_pt_mergedW->SetFillColor(kBlue);\n",
    "h_jet_pt_mergedW->Draw();"
   ]
  },
  {
   "cell_type": "code",
   "execution_count": null,
   "metadata": {
    "collapsed": false
   },
   "outputs": [],
   "source": [
    "cwJnPt->Draw();"
   ]
  },
  {
   "cell_type": "code",
   "execution_count": null,
   "metadata": {
    "collapsed": true
   },
   "outputs": [],
   "source": [
    " TCanvas *cwJnEta = new TCanvas(\"cwJnEta\",\"cwJnEta\",10,10,900,900);\n",
    "    TText twJnEta; twJnEta.SetTextFont(42); twJnEta.SetTextAlign(21);\n",
    "    cwJnEta->Divide(3,4);\n",
    "    cwJnEta->cd(1); h_jet_eta_WenuW->Draw();\n",
    "    cwJnEta->cd(2); h_jet_eta_WenuJ->Draw();\n",
    "    cwJnEta->cd(3); h_jet_eta_WenuN->Draw();\n",
    "    cwJnEta->cd(4); h_jet_eta_WmunuW->Draw();\n",
    "    cwJnEta->cd(5); h_jet_eta_WmunuJ->Draw();\n",
    "    cwJnEta->cd(6); h_jet_eta_WmunuN->Draw();\n",
    "    cwJnEta->cd(7); h_jet_eta_WtaunuW->Draw();\n",
    "    cwJnEta->cd(8); h_jet_eta_WtaunuJ->Draw();\n",
    "    cwJnEta->cd(9); h_jet_eta_WtaunuN->Draw();\n",
    "    cwJnEta->cd(10);h_jet_eta_mergedW->Draw();"
   ]
  },
  {
   "cell_type": "code",
   "execution_count": null,
   "metadata": {
    "collapsed": true
   },
   "outputs": [],
   "source": [
    "TList *listWJnEta = new TList;\n",
    "  listWJnEta->Add(h_jet_eta_WenuW);\n",
    "  listWJnEta->Add(h_jet_eta_WenuJ);\n",
    "  listWJnEta->Add(h_jet_eta_WenuN);\n",
    "  listWJnEta->Add(h_jet_eta_WmunuW);\n",
    "  listWJnEta->Add(h_jet_eta_WmunuJ);\n",
    "  listWJnEta->Add(h_jet_eta_WmunuN);\n",
    "  listWJnEta->Add(h_jet_eta_WtaunuW);\n",
    "  listWJnEta->Add(h_jet_eta_WtaunuJ);\n",
    "  listWJnEta->Add(h_jet_eta_WtaunuN);\n",
    "\n",
    "  \n",
    "h_jet_eta_mergedW->Reset();\n",
    "h_jet_eta_mergedW->Merge(listWJnEta);\n",
    "h_jet_eta_mergedW->SetFillColor(kBlue);\n",
    "h_jet_eta_mergedW->Draw();"
   ]
  },
  {
   "cell_type": "code",
   "execution_count": null,
   "metadata": {
    "collapsed": false
   },
   "outputs": [],
   "source": [
    "cwJnEta->Draw();"
   ]
  },
  {
   "cell_type": "code",
   "execution_count": null,
   "metadata": {
    "collapsed": true
   },
   "outputs": [],
   "source": [
    " TCanvas *cwJm = new TCanvas(\"cwJm\",\"cwJm\",10,10,900,900);\n",
    "    TText twJm; twJm.SetTextFont(42); twJm.SetTextAlign(21);\n",
    "    cwJm->Divide(3,4);\n",
    "    cwJm->cd(1); h_jet_m_WenuW->Draw();\n",
    "    cwJm->cd(2); h_jet_m_WenuJ->Draw();\n",
    "    cwJm->cd(3); h_jet_m_WenuN->Draw();\n",
    "    cwJm->cd(4); h_jet_m_WmunuW->Draw();\n",
    "    cwJm->cd(5); h_jet_m_WmunuJ->Draw();\n",
    "    cwJm->cd(6); h_jet_m_WmunuN->Draw();\n",
    "    cwJm->cd(7); h_jet_m_WtaunuW->Draw();\n",
    "    cwJm->cd(8); h_jet_m_WtaunuJ->Draw();\n",
    "    cwJm->cd(9); h_jet_m_WtaunuN->Draw();\n",
    "    cwJm->cd(10);h_jet_m_mergedW->Draw();\n",
    "\n"
   ]
  },
  {
   "cell_type": "code",
   "execution_count": null,
   "metadata": {
    "collapsed": true
   },
   "outputs": [],
   "source": [
    "TList *listWJm = new TList;\n",
    "  listWJm->Add(h_jet_m_WenuW);\n",
    "  listWJm->Add(h_jet_m_WenuJ);\n",
    "  listWJm->Add(h_jet_m_WenuN);\n",
    "  listWJm->Add(h_jet_m_WmunuW);\n",
    "  listWJm->Add(h_jet_m_WmunuJ);\n",
    "  listWJm->Add(h_jet_m_WmunuN);\n",
    "  listWJm->Add(h_jet_m_WtaunuW);\n",
    "  listWJm->Add(h_jet_m_WtaunuJ);\n",
    "  listWJm->Add(h_jet_m_WtaunuN);\n",
    "\n",
    "  \n",
    "h_jet_m_mergedW->Reset();\n",
    "h_jet_m_mergedW->Merge(listWJm);\n",
    "h_jet_m_mergedW->SetFillColor(kBlue);\n",
    "h_jet_m_mergedW->Draw();"
   ]
  },
  {
   "cell_type": "code",
   "execution_count": null,
   "metadata": {
    "collapsed": false
   },
   "outputs": [],
   "source": [
    "cwJm->Draw();"
   ]
  },
  {
   "cell_type": "code",
   "execution_count": null,
   "metadata": {
    "collapsed": true
   },
   "outputs": [],
   "source": [
    " TCanvas *cwJnJvf = new TCanvas(\"cwJnJvf\",\"cwJnJvf\",10,10,900,900);\n",
    "    TText twJnJvf; twJnJvf.SetTextFont(42); twJnJvf.SetTextAlign(21);\n",
    "    cwJnJvf->Divide(3,4);\n",
    "    cwJnJvf->cd(1); h_jet_jvf_WenuW->Draw();\n",
    "    cwJnJvf->cd(2); h_jet_jvf_WenuJ->Draw();\n",
    "    cwJnJvf->cd(3); h_jet_jvf_WenuN->Draw();\n",
    "    cwJnJvf->cd(4); h_jet_jvf_WmunuW->Draw();\n",
    "    cwJnJvf->cd(5); h_jet_jvf_WmunuJ->Draw();\n",
    "    cwJnJvf->cd(6); h_jet_jvf_WmunuN->Draw();\n",
    "    cwJnJvf->cd(7); h_jet_jvf_WtaunuW->Draw();\n",
    "    cwJnJvf->cd(8); h_jet_jvf_WtaunuJ->Draw();\n",
    "    cwJnJvf->cd(9); h_jet_jvf_WtaunuN->Draw();\n",
    "    cwJnJvf->cd(10);h_jet_jvf_mergedW->Draw();\n"
   ]
  },
  {
   "cell_type": "code",
   "execution_count": null,
   "metadata": {
    "collapsed": true
   },
   "outputs": [],
   "source": [
    "TList *listWJnJvf = new TList;\n",
    "  listWJnJvf->Add(h_jet_jvf_WenuW);\n",
    "  listWJnJvf->Add(h_jet_jvf_WenuJ);\n",
    "  listWJnJvf->Add(h_jet_jvf_WenuN);\n",
    "  listWJnJvf->Add(h_jet_jvf_WmunuW);\n",
    "  listWJnJvf->Add(h_jet_jvf_WmunuJ);\n",
    "  listWJnJvf->Add(h_jet_jvf_WmunuN);\n",
    "  listWJnJvf->Add(h_jet_jvf_WtaunuW);\n",
    "  listWJnJvf->Add(h_jet_jvf_WtaunuJ);\n",
    "  listWJnJvf->Add(h_jet_jvf_WtaunuN);\n",
    "\n",
    "  \n",
    "h_jet_jvf_mergedW->Reset();\n",
    "h_jet_jvf_mergedW->Merge(listWJnJvf);\n",
    "h_jet_jvf_mergedW->SetFillColor(kBlue);\n",
    "h_jet_jvf_mergedW->Draw();"
   ]
  },
  {
   "cell_type": "code",
   "execution_count": null,
   "metadata": {
    "collapsed": false
   },
   "outputs": [],
   "source": [
    "cwJnJvf->Draw();"
   ]
  },
  {
   "cell_type": "code",
   "execution_count": null,
   "metadata": {
    "collapsed": true
   },
   "outputs": [],
   "source": [
    " TCanvas *cwJMV1 = new TCanvas(\"cwJMV1\",\"cwJMV1\",10,10,900,900);\n",
    "    TText twJMV1; twJMV1.SetTextFont(42); twJMV1.SetTextAlign(21);\n",
    "    cwJMV1->Divide(3,4);\n",
    "    cwJMV1->cd(1); h_jet_MV1_WenuW->Draw();\n",
    "    cwJMV1->cd(2); h_jet_MV1_WenuJ->Draw();\n",
    "    cwJMV1->cd(3); h_jet_MV1_WenuN->Draw();\n",
    "    cwJMV1->cd(4); h_jet_MV1_WmunuW->Draw();\n",
    "    cwJMV1->cd(5); h_jet_MV1_WmunuJ->Draw();\n",
    "    cwJMV1->cd(6); h_jet_MV1_WmunuN->Draw();\n",
    "    cwJMV1->cd(7); h_jet_MV1_WtaunuW->Draw();\n",
    "    cwJMV1->cd(8); h_jet_MV1_WtaunuJ->Draw();\n",
    "    cwJMV1->cd(9); h_jet_MV1_WtaunuN->Draw();\n",
    "    cwJMV1->cd(10);h_jet_MV1_mergedW->Draw();"
   ]
  },
  {
   "cell_type": "code",
   "execution_count": null,
   "metadata": {
    "collapsed": false
   },
   "outputs": [],
   "source": [
    "TList *listWJMV1 = new TList;\n",
    "  listWJMV1->Add(h_jet_MV1_WenuW);\n",
    "  listWJMV1->Add(h_jet_MV1_WenuJ);\n",
    "  listWJMV1->Add(h_jet_MV1_WenuN);\n",
    "  listWJMV1->Add(h_jet_MV1_WmunuW);\n",
    "  listWJMV1->Add(h_jet_MV1_WmunuJ);\n",
    "  listWJMV1->Add(h_jet_MV1_WmunuN);\n",
    "  listWJMV1->Add(h_jet_MV1_WtaunuW);\n",
    "  listWJMV1->Add(h_jet_MV1_WtaunuJ);\n",
    "  listWJMV1->Add(h_jet_MV1_WtaunuN);\n",
    "\n",
    "  \n",
    "h_jet_MV1_mergedW->Reset();\n",
    "h_jet_MV1_mergedW->Merge(listWJMV1);\n",
    "h_jet_MV1_mergedW->SetFillColor(kBlue);\n",
    "h_jet_MV1_mergedW->Draw();"
   ]
  },
  {
   "cell_type": "code",
   "execution_count": null,
   "metadata": {
    "collapsed": false
   },
   "outputs": [],
   "source": [
    "cwJMV1->Draw();"
   ]
  },
  {
   "cell_type": "code",
   "execution_count": null,
   "metadata": {
    "collapsed": false
   },
   "outputs": [],
   "source": [
    "TCanvas *cwPVXP_n = new TCanvas(\"cwPVXP_n\",\"cwPVXP_n\",10,10,900,900);\n",
    "    TText twPVXP_n; twPVXP_n.SetTextFont(42); twPVXP_n.SetTextAlign(21);\n",
    "    cwPVXP_n->Divide(3,4);\n",
    "    cwPVXP_n->cd(1); h_pvxp_n_WenuW->Draw();\n",
    "    cwPVXP_n->cd(2); h_pvxp_n_WenuJ->Draw();\n",
    "    cwPVXP_n->cd(3); h_pvxp_n_WenuN->Draw();\n",
    "    cwPVXP_n->cd(4); h_pvxp_n_WmunuW->Draw();\n",
    "    cwPVXP_n->cd(5); h_pvxp_n_WmunuJ->Draw();\n",
    "    cwPVXP_n->cd(6); h_pvxp_n_WmunuN->Draw();\n",
    "    cwPVXP_n->cd(7); h_pvxp_n_WtaunuW->Draw();\n",
    "    cwPVXP_n->cd(8); h_pvxp_n_WtaunuJ->Draw();\n",
    "    cwPVXP_n->cd(9); h_pvxp_n_WtaunuN->Draw();\n",
    "    cwPVXP_n->cd(10);h_pvxp_n_mergedW->Draw();"
   ]
  },
  {
   "cell_type": "code",
   "execution_count": null,
   "metadata": {
    "collapsed": true
   },
   "outputs": [],
   "source": [
    "TList *listWPVXP_n = new TList;\n",
    "  listWPVXP_n->Add(h_pvxp_n_WenuW);\n",
    "  listWPVXP_n->Add(h_pvxp_n_WenuJ);\n",
    "  listWPVXP_n->Add(h_pvxp_n_WenuN);\n",
    "  listWPVXP_n->Add(h_pvxp_n_WmunuW);\n",
    "  listWPVXP_n->Add(h_pvxp_n_WmunuJ);\n",
    "  listWPVXP_n->Add(h_pvxp_n_WmunuN);\n",
    "  listWPVXP_n->Add(h_pvxp_n_WtaunuW);\n",
    "  listWPVXP_n->Add(h_pvxp_n_WtaunuJ);\n",
    "  listWPVXP_n->Add(h_pvxp_n_WtaunuN);\n",
    "\n",
    "  \n",
    "h_pvxp_n_mergedW->Reset();\n",
    "h_pvxp_n_mergedW->Merge(listWPVXP_n);\n",
    "h_pvxp_n_mergedW->SetFillColor(kBlue);\n",
    "h_pvxp_n_mergedW->Draw();"
   ]
  },
  {
   "cell_type": "code",
   "execution_count": null,
   "metadata": {
    "collapsed": false
   },
   "outputs": [],
   "source": [
    "cwPVXP_n->Draw();"
   ]
  },
  {
   "cell_type": "code",
   "execution_count": null,
   "metadata": {
    "collapsed": false
   },
   "outputs": [],
   "source": [
    "TCanvas *cwVXP_z = new TCanvas(\"cwVXP_z\",\"cwVXP_z\",10,10,900,900);\n",
    "    TText twVXP_z; twVXP_z.SetTextFont(42); twVXP_z.SetTextAlign(21);\n",
    "    cwVXP_z->Divide(3,4);\n",
    "    cwVXP_z->cd(1); h_pvxp_n_WenuW->Draw();\n",
    "    cwVXP_z->cd(2); h_pvxp_n_WenuJ->Draw();\n",
    "    cwVXP_z->cd(3); h_pvxp_n_WenuN->Draw();\n",
    "    cwVXP_z->cd(4); h_pvxp_n_WmunuW->Draw();\n",
    "    cwVXP_z->cd(5); h_pvxp_n_WmunuJ->Draw();\n",
    "    cwVXP_z->cd(6); h_pvxp_n_WmunuN->Draw();\n",
    "    cwVXP_z->cd(7); h_pvxp_n_WtaunuW->Draw();\n",
    "    cwVXP_z->cd(8); h_pvxp_n_WtaunuJ->Draw();\n",
    "    cwVXP_z->cd(9); h_pvxp_n_WtaunuN->Draw();\n",
    "    cwVXP_z->cd(10);h_pvxp_n_mergedW->Draw();"
   ]
  },
  {
   "cell_type": "code",
   "execution_count": null,
   "metadata": {
    "collapsed": true
   },
   "outputs": [],
   "source": [
    "TList *listWVXP_z = new TList;\n",
    "  listWVXP_z->Add(h_vxp_z_WenuW);\n",
    "  listWVXP_z->Add(h_vxp_z_WenuJ);\n",
    "  listWVXP_z->Add(h_vxp_z_WenuN);\n",
    "  listWVXP_z->Add(h_vxp_z_WmunuW);\n",
    "  listWVXP_z->Add(h_vxp_z_WmunuJ);\n",
    "  listWVXP_z->Add(h_vxp_z_WmunuN);\n",
    "  listWVXP_z->Add(h_vxp_z_WtaunuW);\n",
    "  listWVXP_z->Add(h_vxp_z_WtaunuJ);\n",
    "  listWVXP_z->Add(h_vxp_z_WtaunuN);\n",
    "\n",
    "  \n",
    "h_vxp_z_mergedW->Reset();\n",
    "h_vxp_z_mergedW->Merge(listWVXP_z);\n",
    "h_vxp_z_mergedW->SetFillColor(kBlue);\n",
    "h_vxp_z_mergedW->Draw();"
   ]
  },
  {
   "cell_type": "code",
   "execution_count": null,
   "metadata": {
    "collapsed": false
   },
   "outputs": [],
   "source": [
    "cwVXP_z->Draw();"
   ]
  },
  {
   "cell_type": "code",
   "execution_count": null,
   "metadata": {
    "collapsed": false
   },
   "outputs": [],
   "source": [
    "TCanvas *cwMet_et = new TCanvas(\"cwMet_et\",\"cwMet_et\",10,10,900,900);\n",
    "    TText twMet_et; twMet_et.SetTextFont(42); twMet_et.SetTextAlign(21);\n",
    "    cwMet_et->Divide(3,4);\n",
    "    cwMet_et->cd(1); h_met_et_WenuW->Draw();\n",
    "    cwMet_et->cd(2); h_met_et_WenuJ->Draw();\n",
    "    cwMet_et->cd(3); h_met_et_WenuN->Draw();\n",
    "    cwMet_et->cd(4); h_met_et_WmunuW->Draw();\n",
    "    cwMet_et->cd(5); h_met_et_WmunuJ->Draw();\n",
    "    cwMet_et->cd(6); h_met_et_WmunuN->Draw();\n",
    "    cwMet_et->cd(7); h_met_et_WtaunuW->Draw();\n",
    "    cwMet_et->cd(8); h_met_et_WtaunuJ->Draw();\n",
    "    cwMet_et->cd(9); h_met_et_WtaunuN->Draw();\n",
    "    cwMet_et->cd(10);h_met_et_mergedW->Draw();"
   ]
  },
  {
   "cell_type": "code",
   "execution_count": null,
   "metadata": {
    "collapsed": true
   },
   "outputs": [],
   "source": [
    "TList *listWMet_et = new TList;\n",
    "  listWMet_et->Add(h_met_et_WenuW);\n",
    "  listWMet_et->Add(h_met_et_WenuJ);\n",
    "  listWMet_et->Add(h_met_et_WenuN);\n",
    "  listWMet_et->Add(h_met_et_WmunuW);\n",
    "  listWMet_et->Add(h_met_et_WmunuJ);\n",
    "  listWMet_et->Add(h_met_et_WmunuN);\n",
    "  listWMet_et->Add(h_met_et_WtaunuW);\n",
    "  listWMet_et->Add(h_met_et_WtaunuJ);\n",
    "  listWMet_et->Add(h_met_et_WtaunuN);\n",
    "\n",
    "  \n",
    "h_met_et_mergedW->Reset();\n",
    "h_met_et_mergedW->Merge(listWMet_et);\n",
    "h_met_et_mergedW->SetFillColor(kBlue);\n",
    "h_met_et_mergedW->Draw();"
   ]
  },
  {
   "cell_type": "code",
   "execution_count": null,
   "metadata": {
    "collapsed": false
   },
   "outputs": [],
   "source": [
    "cwMet_et->Draw();"
   ]
  },
  {
   "cell_type": "code",
   "execution_count": null,
   "metadata": {
    "collapsed": false
   },
   "outputs": [],
   "source": [
    "TCanvas *cwInv_mass = new TCanvas(\"cwInv_mass\",\"cwInv_mass\",10,10,900,900);\n",
    "    TText twInv_mass; twInv_mass.SetTextFont(42); twInv_mass.SetTextAlign(21);\n",
    "    cwInv_mass->Divide(3,4);\n",
    "    cwInv_mass->cd(1); h_inv_mass_WenuW->Draw();\n",
    "    cwInv_mass->cd(2); h_inv_mass_WenuJ->Draw();\n",
    "    cwInv_mass->cd(3); h_inv_mass_WenuN->Draw();\n",
    "    cwInv_mass->cd(4); h_inv_mass_WmunuW->Draw();\n",
    "    cwInv_mass->cd(5); h_inv_mass_WmunuJ->Draw();\n",
    "    cwInv_mass->cd(6); h_inv_mass_WmunuN->Draw();\n",
    "    cwInv_mass->cd(7); h_inv_mass_WtaunuW->Draw();\n",
    "    cwInv_mass->cd(8); h_inv_mass_WtaunuJ->Draw();\n",
    "    cwInv_mass->cd(9); h_inv_mass_WtaunuN->Draw();\n",
    "    cwInv_mass->cd(10);h_inv_mass_mergedW->Draw();"
   ]
  },
  {
   "cell_type": "code",
   "execution_count": null,
   "metadata": {
    "collapsed": false
   },
   "outputs": [],
   "source": [
    "TList *listWInv_mass = new TList;\n",
    "  listWInv_mass->Add(h_inv_mass_WenuW);\n",
    "  listWInv_mass->Add(h_inv_mass_WenuJ);\n",
    "  listWInv_mass->Add(h_inv_mass_WenuN);\n",
    "  listWInv_mass->Add(h_inv_mass_WmunuW);\n",
    "  listWInv_mass->Add(h_inv_mass_WmunuJ);\n",
    "  listWInv_mass->Add(h_inv_mass_WmunuN);\n",
    "  listWInv_mass->Add(h_inv_mass_WtaunuW);\n",
    "  listWInv_mass->Add(h_inv_mass_WtaunuJ);\n",
    "  listWInv_mass->Add(h_inv_mass_WtaunuN);\n",
    "\n",
    "  \n",
    "h_inv_mass_mergedW->Reset();\n",
    "h_inv_mass_mergedW->Merge(listWInv_mass);\n",
    "h_inv_mass_mergedW->SetFillColor(kBlue);\n",
    "h_inv_mass_mergedW->Draw();"
   ]
  },
  {
   "cell_type": "code",
   "execution_count": null,
   "metadata": {
    "collapsed": false
   },
   "outputs": [],
   "source": [
    "cwInv_mass->Draw();"
   ]
  },
  {
   "cell_type": "code",
   "execution_count": null,
   "metadata": {
    "collapsed": true
   },
   "outputs": [],
   "source": [
    "THStack *hsPt = new THStack(\"hsPt\",\"\");\n",
    "    hsPt->Add(h_lep_pt_mergedZ);\n",
    "    hsPt->Add(h_lep_pt_mergedD);\n",
    "    hsPt->Add(h_lep_pt_mergedDY);\n",
    "    hsPt->Add(h_lep_pt_mergedS);\n",
    "    hsPt->Add(h_lep_pt_mergedTT);\n",
    "    hsPt->Add(h_lep_pt_mergedW);"
   ]
  },
  {
   "cell_type": "code",
   "execution_count": null,
   "metadata": {
    "collapsed": false
   },
   "outputs": [],
   "source": [
    "TCanvas *cStPt = new TCanvas(\"cStPt\",\"cStPt\",10,10,700,900);\n",
    "   TText TStPt; TStPt.SetTextFont(42); TStPt.SetTextAlign(21);\n",
    "   cStPt->Divide(1,1);\n",
    "   cStPt->cd(1); hsPt->Draw(); \n",
    "   "
   ]
  },
  {
   "cell_type": "code",
   "execution_count": null,
   "metadata": {
    "collapsed": false
   },
   "outputs": [],
   "source": [
    "cStPt->Draw();"
   ]
  },
  {
   "cell_type": "code",
   "execution_count": null,
   "metadata": {
    "collapsed": true
   },
   "outputs": [],
   "source": []
  },
  {
   "cell_type": "code",
   "execution_count": null,
   "metadata": {
    "collapsed": true
   },
   "outputs": [],
   "source": []
  }
 ],
 "metadata": {
  "kernelspec": {
   "display_name": "ROOT C++",
   "language": "c++",
   "name": "root"
  },
  "language_info": {
   "codemirror_mode": "text/x-c++src",
   "file_extension": ".C",
   "mimetype": " text/x-c++src",
   "name": "c++"
  }
 },
 "nbformat": 4,
 "nbformat_minor": 0
}
