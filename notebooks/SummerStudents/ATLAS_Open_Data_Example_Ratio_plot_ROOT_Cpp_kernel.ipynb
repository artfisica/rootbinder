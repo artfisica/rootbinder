{
 "cells": [
  {
   "cell_type": "markdown",
   "metadata": {},
   "source": [
    "  <div id=\"logo ATLAS\" style=\"float:left; clear:both; padding: 0.0cm 0.0cm 0.0cm 0.0cm; text-align: center; width:92%; margin:0px auto; background-color:white; border:none!important;\">\n",
    "            <img class=\"img-responsive\" src=\"http://atlas-opendata.web.cern.ch/atlas-opendata/DataAndTools/pictures/opendata-top-transblack.png\" alt=\"Visualisations\" style=\"width:60%\">\n",
    "  </div>"
   ]
  },
  {
   "cell_type": "markdown",
   "metadata": {},
   "source": [
    "<CENTER>\n",
    "    <h1>Example of a Ratio plot ROOT C++ kernel</h1>\n",
    "</CENTER>\n",
    "\n",
    "<p>This example will help you to make a ratio plot as in the Outreach Note and at the same time, to practice the comments style of your notebooks</p>\n",
    "<p><b>July 21st, 2016 - CERN</b></p>"
   ]
  },
  {
   "cell_type": "markdown",
   "metadata": {},
   "source": [
    "<b>First Steps:</b> Create and fill your two histograms"
   ]
  },
  {
   "cell_type": "markdown",
   "metadata": {},
   "source": [
    "<b>a) Create histograms:</b> You can take this example and jump this step, since you already have two histograms, the total MC and the Data."
   ]
  },
  {
   "cell_type": "code",
   "execution_count": 1,
   "metadata": {
    "collapsed": false
   },
   "outputs": [],
   "source": [
    "   // Histogram number 1\n",
    "   TH1F *h1 = new TH1F(\"h1\",\"test1\",100,-3,3);\n",
    "   h1->FillRandom(\"gaus\",200000);\n",
    "   h1->GetXaxis()->SetLabelFont(63); //font in pixels\n",
    "   h1->GetXaxis()->SetLabelSize(16); //in pixels\n",
    "   h1->GetYaxis()->SetLabelFont(63); //font in pixels\n",
    "   h1->GetYaxis()->SetLabelSize(16); //in pixels"
   ]
  },
  {
   "cell_type": "code",
   "execution_count": 2,
   "metadata": {
    "collapsed": false
   },
   "outputs": [],
   "source": [
    "   // Histogram number 2\n",
    "   TH1F *h2 = new TH1F(\"h2\",\"test2\",100,-3,3);\n",
    "   h2->FillRandom(\"gaus\",100000);"
   ]
  },
  {
   "cell_type": "markdown",
   "metadata": {},
   "source": [
    "<b>b) Create the Canvas and the two pads:</b> Here we define one single canvas and two pads (2x1 grid) when in the pad on the two will be the plots of the histograms and in the lower pad the ratio plot. As you see in the next cell, both histograms are draw in the same pad "
   ]
  },
  {
   "cell_type": "code",
   "execution_count": 3,
   "metadata": {
    "collapsed": false
   },
   "outputs": [],
   "source": [
    "   // Definition of the canvas\n",
    "   TCanvas *c1 = new TCanvas(\"c1\",\"example\",600,700);\n",
    "\n",
    "   // Definition of the first pad for the histograms\n",
    "   TPad *pad1 = new TPad(\"pad1\",\"pad1\",0,0.3,1,1);\n",
    "   pad1->SetBottomMargin(0);\n",
    "   pad1->Draw();\n",
    "   pad1->cd();\n",
    "   h1->DrawCopy();\n",
    "   h2->Draw(\"same\");\n",
    "   c1->cd();"
   ]
  },
  {
   "cell_type": "markdown",
   "metadata": {},
   "source": [
    "<b>Now the second pad:</b>"
   ]
  },
  {
   "cell_type": "code",
   "execution_count": 4,
   "metadata": {
    "collapsed": false
   },
   "outputs": [],
   "source": [
    "   // Definition of the second pad for the ratio\n",
    "   TPad *pad2 = new TPad(\"pad2\",\"pad2\",0,0,1,0.3);\n",
    "   pad2->SetTopMargin(0);\n",
    "   pad2->Draw();\n",
    "   pad2->cd();\n",
    "   h1->Sumw2();\n",
    "   h1->SetStats(0);\n",
    "   h1->Divide(h2);\n",
    "   h1->SetMarkerStyle(21);\n",
    "   h1->Draw(\"ep\");\n",
    "   c1->cd();"
   ]
  },
  {
   "cell_type": "markdown",
   "metadata": {},
   "source": [
    "<b>c) Draw the Canvas</b>"
   ]
  },
  {
   "cell_type": "code",
   "execution_count": 5,
   "metadata": {
    "collapsed": false
   },
   "outputs": [
    {
     "data": {
      "image/png": "[encoded data removed]",
      "text/plain": [
       "<IPython.core.display.Image object>"
      ]
     },
     "metadata": {},
     "output_type": "display_data"
    }
   ],
   "source": [
    "c1->Draw();"
   ]
  },
  {
   "cell_type": "markdown",
   "metadata": {},
   "source": [
    "<hr>"
   ]
  },
  {
   "cell_type": "markdown",
   "metadata": {},
   "source": [
    "<CENTER>\n",
    "    <h2>Bonus</h2>\n",
    "    <p>Example of how to include the header in your notebooks</p>\n",
    "    <p><i>Note: to create HTML cell, the type should be \"markdown\"</i></p>\n",
    "</CENTER>"
   ]
  },
  {
   "cell_type": "markdown",
   "metadata": {},
   "source": [
    "  <div id=\"W_analysis\" style=\"float:left; clear:both; padding: 0.0cm 0.0cm 0.0cm 0.0cm; text-align: center; width:92%; margin:0px auto; background-color:#e3f4fd; border:none!important;\">\n",
    "    <table width=\"100%\" border=\"0\" style=\"float:center; clear:both; border:none!important;\">\n",
    "      <tr>\n",
    "        <td style=\"width:33%; padding: 0.5cm 0.5cm 0.5cm 0.5cm;\">\n",
    "            <img class=\"img-responsive\" src=\"http://atlas-opendata.web.cern.ch/atlas-opendata/DataAndTools/pictures/opendata-top-transblack.png\" alt=\"Visualisations\" style=\"width:100%\">\n",
    "        </td>\n",
    "        <td style=\"width:33%; text-align: left; padding: 1cm 0.5cm 1cm 0.5cm;\">\n",
    "          <h1 style=\"font-family:verdana; font-size:260%;\">The <b><a href=\"#\">W Analysis</a> ROOTbook</b></h1>\n",
    "          <p style=\"font-family:verdana; font-size:110%;\">\n",
    "            The W boson analysis is intended to provide an example for a high statistics analysis using the ATLAS open data dataset. Furthermore it tests the description of the real data by the simulated W boson data which represents the most extensive dataset in terms of luminosity.\n",
    "          </p>\n",
    "        </td>\n",
    "        <td style=\"width:33%; padding: 0.2cm 0.2cm 0.2cm 0.2cm;\">\n",
    "            <img class=\"img-responsive\" src=\"http://atlas-opendata.web.cern.ch/atlas-opendata/DataAndTools/pictures/handmade_WAnalysis.png\" alt=\"Visualisations\" style=\"width:100%\">\n",
    "        </td>\n",
    "      </tr>\n",
    "    </table>\n",
    "  </div>"
   ]
  },
  {
   "cell_type": "markdown",
   "metadata": {},
   "source": [
    "  <div id=\"Z_analysis\" style=\"float:left; clear:both; padding: 0.0cm 0.0cm 0.0cm 0.0cm; text-align: center; width:92%; margin:0px auto; background-color:#d1ecfc; border:none!important;\">\n",
    "    <table width=\"100%\" border=\"0\" style=\"float:center; clear:both; border:none!important;\">\n",
    "      <tr>\n",
    "        <td style=\"width:33%; padding: 0.5cm 0.5cm 0.5cm 0.5cm;\">\n",
    "            <img class=\"img-responsive\" src=\"http://atlas-opendata.web.cern.ch/atlas-opendata/DataAndTools/pictures/opendata-top-transblack.png\" alt=\"Visualisations\" style=\"width:100%\">\n",
    "        </td>\n",
    "        <td style=\"width:33%; text-align: left; padding: 1cm 0.5cm 1cm 0.5cm;\">\n",
    "          <h1 style=\"font-family:verdana; font-size:260%;\">The <b><a href=\"#\">Z Analysis</a> ROOTbook</b></h1>\n",
    "          <p style=\"font-family:verdana; font-size:110%;\">\n",
    "            Many analyses selecting leptons suffer from Z + jets as a contributing background due to its large production cross section. It is therefore vital to check the correct modelling of this process by the Monte-Carlo simulated data.\n",
    "            It is important to measure well known Standard Model particles, to confirm that we understand properly the detector and software. We are then ready to search for new physics.\n",
    "          </p>\n",
    "        </td>\n",
    "        <td style=\"width:33%; padding: 0.2cm 0.2cm 0.2cm 0.2cm;\">\n",
    "            <img class=\"img-responsive\" src=\"http://atlas-opendata.web.cern.ch/atlas-opendata/DataAndTools/pictures/handmade_ZAnalysis.png\" alt=\"Visualisations\" style=\"width:100%\">\n",
    "        </td>\n",
    "      </tr>\n",
    "    </table>\n",
    "  </div>"
   ]
  },
  {
   "cell_type": "markdown",
   "metadata": {},
   "source": [
    "<h2>Or...</h2>"
   ]
  },
  {
   "cell_type": "markdown",
   "metadata": {},
   "source": [
    "  <div id=\"logo ATLAS\" style=\"float:left; clear:both; padding: 0.0cm 0.0cm 0.0cm 0.0cm; text-align: center; width:92%; margin:0px auto; background-color:white; border:none!important;\">\n",
    "            <img class=\"img-responsive\" src=\"http://atlas-opendata.web.cern.ch/atlas-opendata/DataAndTools/pictures/opendata-top-transblack.png\" alt=\"Visualisations\" style=\"width:60%\">\n",
    "  </div>\n",
    "  \n",
    "  <div id=\"W_analysis\" style=\"float:left; clear:both; padding: 0.0cm 0.0cm 0.0cm 0.0cm; text-align: center; width:92%; margin:0px auto; background-color:#e3f4fd; border:none!important;\">\n",
    "    <table width=\"100%\" border=\"0\" style=\"float:center; clear:both; border:none!important;\">\n",
    "      <tr>\n",
    "        <td style=\"width:50%; text-align: left; padding: 1cm 0.5cm 1cm 0.5cm;\">\n",
    "          <h1 style=\"font-family:verdana; font-size:260%;\">The <b><a href=\"#\">W Analysis</a> ROOTbook</b></h1>\n",
    "          <p style=\"font-family:verdana; font-size:110%;\">\n",
    "            The W boson analysis is intended to provide an example for a high statistics analysis using the ATLAS open data dataset. Furthermore it tests the description of the real data by the simulated W boson data which represents the most extensive dataset in terms of luminosity.\n",
    "          </p>\n",
    "        </td>\n",
    "        <td style=\"width:50%; padding: 0.2cm 0.2cm 0.2cm 0.2cm;\">\n",
    "            <img class=\"img-responsive\" src=\"http://atlas-opendata.web.cern.ch/atlas-opendata/DataAndTools/pictures/handmade_WAnalysis.png\" alt=\"Visualisations\" style=\"width:100%\">\n",
    "        </td>\n",
    "      </tr>\n",
    "    </table>\n",
    "  </div>"
   ]
  },
  {
   "cell_type": "markdown",
   "metadata": {},
   "source": [
    "<h2>...and...</h2>"
   ]
  },
  {
   "cell_type": "markdown",
   "metadata": {},
   "source": [
    "  <div id=\"logo ATLAS\" style=\"float:left; clear:both; padding: 0.0cm 0.0cm 0.0cm 0.0cm; text-align: center; width:92%; margin:0px auto; background-color:white; border:none!important;\">\n",
    "            <img class=\"img-responsive\" src=\"http://atlas-opendata.web.cern.ch/atlas-opendata/DataAndTools/pictures/opendata-top-transblack.png\" alt=\"Visualisations\" style=\"width:60%\">\n",
    "  </div>\n",
    "  \n",
    "  <div id=\"Z_analysis\" style=\"float:left; clear:both; padding: 0.0cm 0.0cm 0.0cm 0.0cm; text-align: center; width:92%; margin:0px auto; background-color:#d1ecfc; border:none!important;\">\n",
    "    <table width=\"100%\" border=\"0\" style=\"float:center; clear:both; border:none!important;\">\n",
    "      <tr>\n",
    "        <td style=\"width:50%; text-align: left; padding: 1cm 0.5cm 1cm 0.5cm;\">\n",
    "          <h1 style=\"font-family:verdana; font-size:260%;\">The <b><a href=\"#\">Z Analysis</a> ROOTbook</b></h1>\n",
    "          <p style=\"font-family:verdana; font-size:110%;\">\n",
    "            Many analyses selecting leptons suffer from Z + jets as a contributing background due to its large production cross section. It is therefore vital to check the correct modelling of this process by the Monte-Carlo simulated data.\n",
    "            It is important to measure well known Standard Model particles, to confirm that we understand properly the detector and software. We are then ready to search for new physics.\n",
    "          </p>\n",
    "        </td>\n",
    "        <td style=\"width:50%; padding: 0.2cm 0.2cm 0.2cm 0.2cm;\">\n",
    "            <img class=\"img-responsive\" src=\"http://atlas-opendata.web.cern.ch/atlas-opendata/DataAndTools/pictures/handmade_ZAnalysis.png\" alt=\"Visualisations\" style=\"width:100%\">\n",
    "        </td>\n",
    "      </tr>\n",
    "    </table>\n",
    "  </div>"
   ]
  },
  {
   "cell_type": "markdown",
   "metadata": {},
   "source": [
    "<hr>"
   ]
  },
  {
   "cell_type": "markdown",
   "metadata": {},
   "source": [
    "<p><b>Author:</b> <a href=\"mailto:arturos@cern.ch\">arturos@cern.ch</a> for the <b>ATLAS Collaboration</b></p>"
   ]
  }
 ],
 "metadata": {
  "kernelspec": {
   "display_name": "ROOT C++",
   "language": "c++",
   "name": "root"
  },
  "language_info": {
   "codemirror_mode": "text/x-c++src",
   "file_extension": ".C",
   "mimetype": " text/x-c++src",
   "name": "c++"
  }
 },
 "nbformat": 4,
 "nbformat_minor": 0
}
