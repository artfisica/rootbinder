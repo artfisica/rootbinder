{
 "cells": [
  {
   "cell_type": "markdown",
   "metadata": {},
   "source": [
    "<CENTER>\n",
    "<img src=\"http://www.atlas.ch/photos/atlas_photos/selected-photos/logos/2015/ATLAS-Logo-Ref-RGB.png\" alt=\"ATLAS logo blck and blue\" style=\"width:80%\">\n",
    "<h2><a href=\"http://atlas.ch\">ATLAS</a> Data and Tool example notebook</h2>\n",
    "<b>Created: March, 2016.</b>\n",
    "<a href=\"https://atlas-outreach.web.cern.ch/data-tools-group\">Outreach Team</a> and for more information, visit the <a href=\"https://home.cern\">CERN</a> <a href=\"https://opendata.cern.ch\"> OpenData portal</a> site!\n",
    "</CENTER>\n",
    "</br>"
   ]
  },
  {
   "cell_type": "markdown",
   "metadata": {},
   "source": [
    "<h2>An introduction to the ATLAS public datasets</h2>\n",
    "<p>This is a notebook using the <b>ROOT Prompt kernel</b> that using <i>c++</i> langauge, is intended to show the way to call and interact with the datasets released by the ATLAS experiment with focus in Education and Training activities:</p>"
   ]
  },
  {
   "cell_type": "code",
   "execution_count": 1,
   "metadata": {
    "collapsed": false
   },
   "outputs": [],
   "source": [
    "//#include \"files.h\""
   ]
  },
  {
   "cell_type": "code",
   "execution_count": 2,
   "metadata": {
    "collapsed": true
   },
   "outputs": [],
   "source": [
    "TChain *InputDataEgamma = new TChain(\"mini\");\n",
    "TChain *InputDataMuons  = new TChain(\"mini\");\n",
    "TChain *InputMonteCarlo = new TChain(\"mini\");",
   ]
  },
  {
   "cell_type": "markdown",
   "metadata": {},
   "source": [
    "<p><b>1.</b> We can start creating a <a href=\"https://root.cern.ch/TChain.html\">TChain</a> for each type of samples to be used. In this way we can add more that one file if they correspond the same family. For exmaple:</p>\n",
    "<p>    <b>1.a</b> ggggg</p>\n",
    "<p>    <b>1.b</b> ggggg</p>\n",
    "<p></p>"
   ]
  },
  {
   "cell_type": "markdown",
   "metadata": {},
   "source": [
    "<p><b>2.</b> Now... <a href=\"https://outreach.atlas.ch/repository.html\">ATLAS datasets repository</a> ...correspond the same family as in the step before:</p>"
   ]
  },
  {
   "cell_type": "code",
   "execution_count": 3,
   "metadata": {
    "collapsed": false
   },
   "outputs": [],
   "source": [
    "/*\n",
    "InputDataEgamma->Add(\"/Users/clitemnestra/Downloads/DataEgammaA.root\");\n",
    "*/\n",
    "\n",
    "InputDataEgamma->Add(\"http://arturos.web.cern.ch/arturos/napoli/OutReach/data/DataEgammaA.root\");\n",
    "/*\n",
    "InputDataEgamma->Add(\"http://arturos.web.cern.ch/arturos/napoli/OutReach/data/DataEgammaB.root\");\n",
    "InputDataEgamma->Add(\"http://arturos.web.cern.ch/arturos/napoli/OutReach/data/DataEgammaC.root\");\n",
    "InputDataEgamma->Add(\"http://arturos.web.cern.ch/arturos/napoli/OutReach/data/DataEgammaD.root\");\n",
    "InputDataEgamma->Add(\"http://arturos.web.cern.ch/arturos/napoli/OutReach/data/DataEgammaE.root\");\n",
    "InputDataEgamma->Add(\"http://arturos.web.cern.ch/arturos/napoli/OutReach/data/DataEgammaG.root\");\n",
    "InputDataEgamma->Add(\"http://arturos.web.cern.ch/arturos/napoli/OutReach/data/DataEgammaH.root\");\n",
    "InputDataEgamma->Add(\"http://arturos.web.cern.ch/arturos/napoli/OutReach/data/DataEgammaI.root\");\n",
    "InputDataEgamma->Add(\"http://arturos.web.cern.ch/arturos/napoli/OutReach/data/DataEgammaJ.root\");\n",
    "InputDataEgamma->Add(\"http://arturos.web.cern.ch/arturos/napoli/OutReach/data/DataEgammaL.root\");\n",
    "*/"
   ]
  },
  {
   "cell_type": "markdown",
   "metadata": {
    "collapsed": true
   },
   "source": [
    "<p>(Text)</p>"
   ]
  },
  {
   "cell_type": "code",
   "execution_count": 4,
   "metadata": {
    "collapsed": true
   },
   "outputs": [],
   "source": [
    "/*\n",
    "InputDataMuons->Add(\"http://arturos.web.cern.ch/arturos/napoli/OutReach/data/DataMuonsA.root\");\n",
    "InputDataMuons->Add(\"http://arturos.web.cern.ch/arturos/napoli/OutReach/data/DataMuonsB.root\");\n",
    "InputDataMuons->Add(\"http://arturos.web.cern.ch/arturos/napoli/OutReach/data/DataMuonsC.root\");\n",
    "InputDataMuons->Add(\"http://arturos.web.cern.ch/arturos/napoli/OutReach/data/DataMuonsD.root\");\n",
    "InputDataMuons->Add(\"http://arturos.web.cern.ch/arturos/napoli/OutReach/data/DataMuonsE.root\");\n",
    "InputDataMuons->Add(\"http://arturos.web.cern.ch/arturos/napoli/OutReach/data/DataMuonsG.root\");\n",
    "InputDataMuons->Add(\"http://arturos.web.cern.ch/arturos/napoli/OutReach/data/DataMuonsH.root\");\n",
    "InputDataMuons->Add(\"http://arturos.web.cern.ch/arturos/napoli/OutReach/data/DataMuonsI.root\");\n",
    "InputDataMuons->Add(\"http://arturos.web.cern.ch/arturos/napoli/OutReach/data/DataMuonsJ.root\");\n",
    "InputDataMuons->Add(\"http://arturos.web.cern.ch/arturos/napoli/OutReach/data/DataMuonsL.root\");*/"
   ]
  },
  {
   "cell_type": "markdown",
   "metadata": {},
   "source": [
    "<p><b>Text</b></p>"
   ]
  },
  {
   "cell_type": "code",
   "execution_count": 5,
   "metadata": {
    "collapsed": true
   },
   "outputs": [],
   "source": [
    "/*\n",
    "InputMonteCarlo->Add(\"http://arturos.web.cern.ch/arturos/napoli/OutReach/mc/mc_105985.WW.root\");\n",
    "InputMonteCarlo->Add(\"http://arturos.web.cern.ch/arturos/napoli/OutReach/mc/mc_105986.ZZ.root\");\n",
    "InputMonteCarlo->Add(\"http://arturos.web.cern.ch/arturos/napoli/OutReach/mc/mc_105987.WZ.root\");\n",
    "InputMonteCarlo->Add(\"http://arturos.web.cern.ch/arturos/napoli/OutReach/mc/mc_110090.stop_tchan_top.root\");\n",
    "InputMonteCarlo->Add(\"http://arturos.web.cern.ch/arturos/napoli/OutReach/mc/mc_110091.stop_tchan_antitop.root\");\n",
    "InputMonteCarlo->Add(\"http://arturos.web.cern.ch/arturos/napoli/OutReach/mc/mc_110119.stop_schan.root\");\n",
    "InputMonteCarlo->Add(\"http://arturos.web.cern.ch/arturos/napoli/OutReach/mc/mc_110140.stop_wtchan.root\");\n",
    "InputMonteCarlo->Add(\"http://arturos.web.cern.ch/arturos/napoli/OutReach/mc/mc_110899.ZPrime400.root\");\n",
    "InputMonteCarlo->Add(\"http://arturos.web.cern.ch/arturos/napoli/OutReach/mc/mc_110901.ZPrime500.root\");\n",
    "InputMonteCarlo->Add(\"http://arturos.web.cern.ch/arturos/napoli/OutReach/mc/mc_110902.ZPrime750.root\");\n",
    "InputMonteCarlo->Add(\"http://arturos.web.cern.ch/arturos/napoli/OutReach/mc/mc_110903.ZPrime1000.root\");\n",
    "InputMonteCarlo->Add(\"http://arturos.web.cern.ch/arturos/napoli/OutReach/mc/mc_110904.ZPrime1250.root\");\n",
    "InputMonteCarlo->Add(\"http://arturos.web.cern.ch/arturos/napoli/OutReach/mc/mc_110905.ZPrime1500.root\");\n",
    "InputMonteCarlo->Add(\"http://arturos.web.cern.ch/arturos/napoli/OutReach/mc/mc_110906.ZPrime1750.root\");\n",
    "InputMonteCarlo->Add(\"http://arturos.web.cern.ch/arturos/napoli/OutReach/mc/mc_110907.ZPrime2000.root\");\n",
    "InputMonteCarlo->Add(\"http://arturos.web.cern.ch/arturos/napoli/OutReach/mc/mc_110908.ZPrime2250.root\");\n",
    "InputMonteCarlo->Add(\"http://arturos.web.cern.ch/arturos/napoli/OutReach/mc/mc_110909.ZPrime2500.root\");\n",
    "InputMonteCarlo->Add(\"http://arturos.web.cern.ch/arturos/napoli/OutReach/mc/mc_110910.ZPrime3000.root\");\n",
    "InputMonteCarlo->Add(\"http://arturos.web.cern.ch/arturos/napoli/OutReach/mc/mc_117049.ttbar_had.root\");\n",
    "InputMonteCarlo->Add(\"http://arturos.web.cern.ch/arturos/napoli/OutReach/mc/mc_117050.ttbar_lep.root\");\n",
    "\n",
    "InputMonteCarlo->Add(\"http://arturos.web.cern.ch/arturos/napoli/OutReach/mc/mc_147770.Zee.root\");\n",
    "\n",
    "InputMonteCarlo->Add(\"http://arturos.web.cern.ch/arturos/napoli/OutReach/mc/mc_147771.Zmumu.root\");\n",
    "InputMonteCarlo->Add(\"http://arturos.web.cern.ch/arturos/napoli/OutReach/mc/mc_147772.Ztautau.root\");\n",
    "InputMonteCarlo->Add(\"http://arturos.web.cern.ch/arturos/napoli/OutReach/mc/mc_158020.ZPrime_ee.root\");\n",
    "InputMonteCarlo->Add(\"http://arturos.web.cern.ch/arturos/napoli/OutReach/mc/mc_158026.ZPrime_mm.root\");\n",
    "InputMonteCarlo->Add(\"http://arturos.web.cern.ch/arturos/napoli/OutReach/mc/mc_160155.ggH125_ZZ4lep.root\");\n",
    "InputMonteCarlo->Add(\"http://arturos.web.cern.ch/arturos/napoli/OutReach/mc/mc_160205.VBFH125_ZZ4lep.root\");\n",
    "InputMonteCarlo->Add(\"http://arturos.web.cern.ch/arturos/napoli/OutReach/mc/mc_161005.ggH125_WW2lep.root\");\n",
    "InputMonteCarlo->Add(\"http://arturos.web.cern.ch/arturos/napoli/OutReach/mc/mc_161055.VBFH125_WW2lep.root\");\n",
    "InputMonteCarlo->Add(\"http://arturos.web.cern.ch/arturos/napoli/OutReach/mc/mc_167740.WenuWithB.root\");\n",
    "InputMonteCarlo->Add(\"http://arturos.web.cern.ch/arturos/napoli/OutReach/mc/mc_167741.WenuJetsBVeto.root\");\n",
    "InputMonteCarlo->Add(\"http://arturos.web.cern.ch/arturos/napoli/OutReach/mc/mc_167742.WenuNoJetsBVeto.root\");\n",
    "InputMonteCarlo->Add(\"http://arturos.web.cern.ch/arturos/napoli/OutReach/mc/mc_167743.WmunuWithB.root\");\n",
    "InputMonteCarlo->Add(\"http://arturos.web.cern.ch/arturos/napoli/OutReach/mc/mc_167744.WmunuJetsBVeto.root\");\n",
    "InputMonteCarlo->Add(\"http://arturos.web.cern.ch/arturos/napoli/OutReach/mc/mc_167745.WmunuNoJetsBVeto.root\");\n",
    "InputMonteCarlo->Add(\"http://arturos.web.cern.ch/arturos/napoli/OutReach/mc/mc_167746.WtaunuWithB.root\");\n",
    "InputMonteCarlo->Add(\"http://arturos.web.cern.ch/arturos/napoli/OutReach/mc/mc_167747.WtaunuJetsBVeto.root\");\n",
    "InputMonteCarlo->Add(\"http://arturos.web.cern.ch/arturos/napoli/OutReach/mc/mc_167748.WtaunuNoJetsBVeto.root\");\n",
    "*/"
   ]
  },
  {
   "cell_type": "markdown",
   "metadata": {},
   "source": [
    "<p>Text</p>"
   ]
  },
  {
   "cell_type": "code",
   "execution_count": 6,
   "metadata": {
    "collapsed": false
   },
   "outputs": [],
   "source": [
    "Int_t InputEgamma_lep_n;\n",
    "\n",
    "Float_t InputEgamma_lep_pt[5],\n",
    "        InputEgamma_lep_eta[5],\n",
    "        InputEgamma_lep_phi[5],\n",
    "        InputEgamma_lep_type[5];"
   ]
  },
  {
   "cell_type": "code",
   "execution_count": 7,
   "metadata": {
    "collapsed": false
   },
   "outputs": [],
   "source": [
    "Int_t InputMuons_lep_n;\n",
    "\n",
    "Float_t InputMuons_lep_pt[5],\n",
    "        InputMuons_lep_eta[5],\n",
    "        InputMuons_lep_phi[5],\n",
    "        InputMuons_lep_type[5];"
   ]
  },
  {
   "cell_type": "code",
   "execution_count": 8,
   "metadata": {
    "collapsed": false
   },
   "outputs": [],
   "source": [
    "Int_t InputMC_lep_n;\n",
    "\n",
    "Float_t InputMC_lep_pt[5],\n",
    "        InputMC_lep_eta[5],\n",
    "        InputMC_lep_phi[5],\n",
    "        InputMC_lep_type[5];"
   ]
  },
  {
   "cell_type": "markdown",
   "metadata": {},
   "source": [
    "<p>Text</p>"
   ]
  },
  {
   "cell_type": "code",
   "execution_count": 9,
   "metadata": {
    "collapsed": true
   },
   "outputs": [],
   "source": [
    "InputDataEgamma->SetBranchAddress(\"lep_n\",    &InputEgamma_lep_n);\n",
    "InputDataEgamma->SetBranchAddress(\"lep_pt\",   &InputEgamma_lep_pt);\n",
    "InputDataEgamma->SetBranchAddress(\"lep_eta\",  &InputEgamma_lep_eta);\n",
    "InputDataEgamma->SetBranchAddress(\"lep_phi\",  &InputEgamma_lep_phi);\n",
    "InputDataEgamma->SetBranchAddress(\"lep_type\", &InputEgamma_lep_type);"
   ]
  },
  {
   "cell_type": "markdown",
   "metadata": {},
   "source": [
    "<p>Text</p>"
   ]
  },
  {
   "cell_type": "code",
   "execution_count": 10,
   "metadata": {
    "collapsed": true
   },
   "outputs": [],
   "source": [
    "InputDataMuons->SetBranchAddress(\"lep_n\",  &InputMuons_lep_n);\n",
    "InputDataMuons->SetBranchAddress(\"lep_pt\", &InputMuons_lep_pt);\n",
    "InputDataMuons->SetBranchAddress(\"lep_eta\",&InputMuons_lep_eta);\n",
    "InputDataMuons->SetBranchAddress(\"lep_phi\",&InputMuons_lep_phi);\n",
    "InputDataMuons->SetBranchAddress(\"lep_type\",&InputMuons_lep_type);"
   ]
  },
  {
   "cell_type": "markdown",
   "metadata": {},
   "source": [
    "<p>Text</p>"
   ]
  },
  {
   "cell_type": "code",
   "execution_count": 11,
   "metadata": {
    "collapsed": false
   },
   "outputs": [],
   "source": [
    "InputMonteCarlo->SetBranchAddress(\"lep_n\",  &InputMC_lep_n);\n",
    "InputMonteCarlo->SetBranchAddress(\"lep_pt\", &InputMC_lep_pt);\n",
    "InputMonteCarlo->SetBranchAddress(\"lep_eta\",&InputMC_lep_eta);\n",
    "InputMonteCarlo->SetBranchAddress(\"lep_phi\",&InputMC_lep_phi);\n",
    "InputMonteCarlo->SetBranchAddress(\"lep_type\",&InputMC_lep_type);"
   ]
  },
  {
   "cell_type": "markdown",
   "metadata": {},
   "source": [
    "<p>Text</p>"
   ]
  },
  {
   "cell_type": "code",
   "execution_count": 12,
   "metadata": {
    "collapsed": false
   },
   "outputs": [],
   "source": [
    "TH1F *h_lep_pt   = new TH1F(\"h_lep_pt\",\"h_lep_pt\",100,0,250000);\n",
    "TH1F *h_lep_pt_2 = new TH1F(\"h_lep_pt_2\",\"h_lep_pt\",100,0,250000);\n",
    "TH1F *h_lep12_IM = new TH1F(\"h_lep12_IM\",\"h_lep12_IM\",100,0,800000);\n",
    "TH1I *h_lep12_type = new TH1I(\"h_lep12_type\",\"h_lep12_type\",40,-20,20);"
   ]
  },
  {
   "cell_type": "markdown",
   "metadata": {},
   "source": [
    "<p>Text</p>"
   ]
  },
  {
   "cell_type": "code",
   "execution_count": 13,
   "metadata": {
    "collapsed": false
   },
   "outputs": [],
   "source": [
    "h_lep_pt->SetMarkerStyle(8);\n",
    "h_lep_pt->SetMarkerSize(0.5);\n",
    "h_lep_pt_2->SetLineColor(0);\n",
    "\n",
    "h_lep_pt_2->SetMarkerStyle(8);\n",
    "h_lep_pt_2->SetMarkerSize(0.5);\n",
    "h_lep_pt_2->SetLineColor(2);"
   ]
  },
  {
   "cell_type": "markdown",
   "metadata": {},
   "source": [
    "<p>Text</p>"
   ]
  },
  {
   "cell_type": "code",
   "execution_count": 14,
   "metadata": {
    "collapsed": false
   },
   "outputs": [],
   "source": [
    "int nentries,nbytes,i;\n",
    "nentries=(Int_t)InputDataEgamma->GetEntries();\n",
    "\n",
    "// Variables for...\n",
    "float M;\n",
    "\n",
    "for (i = 0;i<nentries;i++) {\n",
    "    nbytes = InputDataEgamma->GetEntry(i);\n",
    "        \n",
    "    //Uncut histogram\n",
    "    h_lep_pt->Fill(InputEgamma_lep_pt[0]);\n",
    "    h_lep12_type->Fill(InputEgamma_lep_type[0]);\n",
    "    \n",
    "\n",
    "    //Cut histogram\n",
    "    if (InputEgamma_lep_n>1 && InputEgamma_lep_pt[1]>15000.)\n",
    "    {\n",
    "        h_lep_pt_2->Fill(InputEgamma_lep_pt[1]);\n",
    "        \n",
    "        // Calculation of the invarriant mass of the two leading leptons, using:\n",
    "        // InvMass^2 = 2.pt_{lep1}.pt_{lep2}.(\\cosh{(eta_{lep1}.eta_{lep2})} - \\cos{(phi_{lep1}.phi_{lep2})})\n",
    "        M = sqrt(2*InputEgamma_lep_pt[0]*InputEgamma_lep_pt[1]*\n",
    "                 (  TMath::CosH(InputEgamma_lep_eta[0]*InputEgamma_lep_eta[1]) \n",
    "                  - TMath::Cos(InputEgamma_lep_phi[0]*InputEgamma_lep_phi[1])));\n",
    "        \n",
    "        \n",
    "      //Fill ...\n",
    "      h_lep12_IM->Fill(M);\n",
    "      h_lep12_type->Fill(InputEgamma_lep_type[1]);\n",
    "    }\n",
    "  }"
   ]
  },
  {
   "cell_type": "markdown",
   "metadata": {},
   "source": [
    "<p>Text</p>"
   ]
  },
  {
   "cell_type": "code",
   "execution_count": 15,
   "metadata": {
    "collapsed": false
   },
   "outputs": [],
   "source": [
    "TCanvas *c1 = new TCanvas(\"c1\",\"c1\",50,50,800,600);\n",
    "c1->SetFillColor(0);\n",
    "//gStyle->SetOptStat(0);\n",
    "gStyle->SetPalette(1);\n",
    "\n",
    "TCanvas *c2 = new TCanvas(\"c2\",\"c2\",50,50,800,600);\n",
    "c2->SetFillColor(0);"
   ]
  },
  {
   "cell_type": "markdown",
   "metadata": {},
   "source": [
    "<p>Text</p>"
   ]
  },
  {
   "cell_type": "code",
   "execution_count": 16,
   "metadata": {
    "collapsed": false
   },
   "outputs": [],
   "source": [
    "  TLegend *leg = new TLegend(0.8,0.8,0.98,0.98);\n",
    "  leg->AddEntry(h_lep_pt,\"Uncut\",\"P\");\n",
    "  leg->AddEntry(h_lep_pt_2,\"Cut\",\"P\");"
   ]
  },
  {
   "cell_type": "markdown",
   "metadata": {},
   "source": [
    "<p>Text</p>"
   ]
  },
  {
   "cell_type": "code",
   "execution_count": 17,
   "metadata": {
    "collapsed": false
   },
   "outputs": [],
   "source": [
    "  c1->cd();\n",
    "  h_lep_pt->Draw();\n",
    "  h_lep_pt_2->Draw(\"same\");\n",
    "  //leg->Draw();"
   ]
  },
  {
   "cell_type": "markdown",
   "metadata": {},
   "source": [
    "<p>Text</p>"
   ]
  },
  {
   "cell_type": "code",
   "execution_count": 18,
   "metadata": {
    "collapsed": false
   },
   "outputs": [
    {
     "data": {
      "image/png": "iVBORw0KGgoAAAANSUhEUgAAAxwAAAI8CAIAAAD0vjrdAAAABmJLR0QAAAAAAAD5Q7t/AAAgAElE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\n",
      "text/plain": [
       "<IPython.core.display.Image object>"
      ]
     },
     "metadata": {},
     "output_type": "display_data"
    }
   ],
   "source": [
    "c1->Draw();"
   ]
  },
  {
   "cell_type": "markdown",
   "metadata": {},
   "source": [
    "<p>Legend of the plot</p>"
   ]
  },
  {
   "cell_type": "code",
   "execution_count": 19,
   "metadata": {
    "collapsed": false
   },
   "outputs": [],
   "source": [
    "  c2->cd();\n",
    "  h_lep12_IM->Draw();"
   ]
  },
  {
   "cell_type": "markdown",
   "metadata": {},
   "source": [
    "<p>Text</p>"
   ]
  },
  {
   "cell_type": "code",
   "execution_count": 20,
   "metadata": {
    "collapsed": false
   },
   "outputs": [
    {
     "data": {
      "image/png": "iVBORw0KGgoAAAANSUhEUgAAAxwAAAI8CAIAAAD0vjrdAAAABmJLR0QAAAAAAAD5Q7t/AAAgAElE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\nAQBkIFQBAGQgVAEAZPD/Aa8qtqL6KyEZAAAAAElFTkSuQmCC\n",
      "text/plain": [
       "<IPython.core.display.Image object>"
      ]
     },
     "metadata": {},
     "output_type": "display_data"
    }
   ],
   "source": [
    "c2->Draw();"
   ]
  },
  {
   "cell_type": "markdown",
   "metadata": {},
   "source": [
    "<p>\n",
    "<b>Figure 2:</b>\n",
    "Invariant mass (<i>InvMass</i>) of the di-lepton system. For this calculation we use the equation as described in <a href=\"https://en.wikipedia.org/wiki/Invariant_mass#Collider_experiments\">Ref[4]</a>:\n",
    "$$InvMass^2 = 2.pt_{lep1}.pt_{lep2}.(\\cosh{(eta_{lep1}.eta_{lep2})} - \\cos{(phi_{lep1}.phi_{lep2})})$$\n",
    "</p>"
   ]
  },
  {
   "cell_type": "markdown",
   "metadata": {
    "collapsed": true
   },
   "source": [
    "$$c = \\sqrt{a^2 + b^2}$$"
   ]
  },
  {
   "cell_type": "markdown",
   "metadata": {},
   "source": [
    "<h3>References</h3>\n",
    "<ol>\n",
    "  <li>primera</li>\n",
    "  <li>segunda</li>\n",
    "  <li>tercera</li>\n",
    "  <li><a href=\"https://en.wikipedia.org/wiki/Invariant_mass#Collider_experiments\">Wikipedia</a></li>\n",
    "</ol> \n",
    "\n",
    "<h3>Notes</h3>\n",
    "<al>\n",
    "  <li>This notebook can be very large but fter it can be \"include\" in other to reduce the amount of repetitive work as creating TChain and/or charge their varibles.</li>\n",
    "  <li></li>\n",
    "</al>"
   ]
  },
  {
   "cell_type": "markdown",
   "metadata": {},
   "source": [
    "<CENTER>\n",
    "<h3>Example brought to you by the ATLAS Outreach Data&Tools group with the help of CERN!</h3>\n",
    "</CENTER>"
   ]
  },
  {
   "cell_type": "code",
   "execution_count": null,
   "metadata": {
    "collapsed": true
   },
   "outputs": [],
   "source": []
  }
 ],
 "metadata": {
  "kernelspec": {
   "display_name": "ROOT Prompt",
   "language": "c++",
   "name": "root"
  },
  "language_info": {
   "codemirror_mode": {
    "name": "ipython",
    "version": 2
   },
   "file_extension": ".py",
   "mimetype": "text/x-python",
   "name": "python",
   "nbconvert_exporter": "python",
   "pygments_lexer": "ipython2",
   "version": "2.7.11"
  }
 },
 "nbformat": 4,
 "nbformat_minor": 0
}
