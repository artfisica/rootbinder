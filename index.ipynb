{
 "cells": [
  {
   "cell_type": "markdown",
   "metadata": {},
   "source": [
    "![title](images/banner.png)\n",
<<<<<<< HEAD
=======
    "    <p style=\"margin-right:5%; margin-left:5%; font-size:22px; font-weight: 200; line-height: 1.2em\">\n",
    "[ROOT](root.cern.ch) is a framework for data processing, born at [CERN](www.cern.ch), at the heart of high-energy physics research. Every day, thousands of physicists use ROOT applications to analyze petabytes of data or to perform simulations.</p>\n",
    "\n",
    "# How to run this demo on CERN resources\n",
    "<hr style=\"border-top-width: 4px; border-top-color: #34609b;\">\n",
    "<p style=\"margin-right:5%; margin-left:5%; font-size:22px; font-weight: 200; line-height: 1.2em\">\n",
    "Have a look to the CERN Notebook service, SWAN: http://swan.web.cern.ch\n",
    "</p>\n",
>>>>>>> cernphsft/master
    "\n",
    "<img src=\"images/ATLAS-Logo-Ref-RGB.png\" alt=\"ATLAS logo black and blue\" style=\"width:50%\">\n",
    "\n",
    "# Example of ROOTbook using ATLAS public datasets\n",
    "<table style=\"border-style: hidden; border-collapse: collapse;\">\n",
    "<tr>\n",
    "  <td style=\"border-style: hidden;\">\n",
    "  <a data-content=\"Image\" href=\"notebooks/PyROOT_Example.ipynb\" class=\"test\"><img class='thumbnail'style='float: left; height: 200px; margin-right: 15px; margin-top: 15px; -web-kit-shadow: None !important; box-shadow: None !important; margin-bottom: 0px;' src=\"images/pythonLogo.png\"></a>\n",
    "  </td>\n",
    "  <td style=\"border-style: hidden;\">\n",
    "  <a data-content=\"Image\" href=\"notebooks/DataAndTools_cpp_notebook_03_2016_example01_v0.0.ipynb\" class=\"test\"><img class='thumbnail'style='float: left; height: 200px; margin-right: 15px; margin-top: 15px; -web-kit-shadow: None !important; box-shadow: None !important; margin-bottom: 0px;' src=\"images/cppLogo_v2.png\"></a>\n",
    "  </td>\n",
    "</tr>\n",
    "\n",
    "<tr>\n",
    "  <td style=\"border-style: hidden;\">\n",
    "  <p style=\"font-size:22px; font-weight: 200; line-height: 1.2em;text-align:center;\" align =\"right\">Python</p>\n",
    "  </td>\n",
    "  <td style=\"border-style: hidden;\">\n",
    "  <p style=\"font-size:22px; font-weight: 200; line-height: 1.2em;text-align:center;\">C++</p>\n",
    "  </td>\n",
    "</tr>\n",
    "</table>"
   ]
  },
  {
   "cell_type": "markdown",
   "metadata": {},
   "source": [
<<<<<<< HEAD
    "View these notebooks on [GitHub](https://github.com/artfisica/rootbinder/tree/master/notebooks/)"
=======
    "# More ROOTBooks!\n",
    "<hr style=\"border-top-width: 4px; border-top-color: #34609b;\">\n",
    "\n",
    "<table style=\"border-style: hidden; border-collapse: collapse;\">\n",
    "\n",
    "<!-- FIRST ROW -->\n",
    "\n",
    "<tr>\n",
    "  <td style=\"border-style: hidden;\">\n",
    "  <a data-content=\"Image\" href=\"notebooks/GeometryVisualization.ipynb\" class=\"test\"><img class='thumbnail'style='float: left; height: 200px; margin-right: 15px; margin-top: 15px; -web-kit-shadow: None !important; box-shadow: None !important; margin-bottom: 0px;' src=\"images/spaceStation.png\"></a>\n",
    "  </td>\n",
    "  <td style=\"border-style: hidden;\">\n",
    "  <a data-content=\"Image\" href=\"notebooks/HiggsFit.ipynb\" class=\"test\"><img class='thumbnail'style='float: left; height: 200px; margin-right: 15px; margin-top: 15px; -web-kit-shadow: None !important; box-shadow: None !important; margin-bottom: 0px;' src=\"images/higgsOriz.png\"></a>\n",
    "  </td>\n",
    "</tr>\n",
    "\n",
    "<tr>\n",
    "  <td style=\"border-style: hidden;\">\n",
    "  <p style=\"font-size:22px; font-weight: 200; line-height: 1.2em\">3D Geometries Visualization</p>\n",
    "  </td> \n",
    "  <td style=\"border-style: hidden;\">\n",
    "  <p style=\"font-size:22px; font-weight: 200; line-height: 1.2em\">Modelling and Fitting: Higgs</p>\n",
    "  </td>\n",
    "  <!--\n",
    "  <td style=\"border-style: hidden;\">\n",
    "  <p style=\"font-size:22px; font-weight: 200; line-height: 1.2em\">Technology: MVA</p>\n",
    "  </td>\n",
    "  -->\n",
    "</tr>\n",
    "\n",
    "<!-- END OF FIRST ROW -->\n",
    "<!-- Second ROW -->\n",
    "\n",
    "<table style=\"border-style: hidden; border-collapse: collapse;\">\n",
    "<tr>\n",
    "  <td style=\"border-style: hidden;\">\n",
    "  <a data-content=\"Image\" href=\"notebooks/C++FromPython.ipynb\" class=\"test\"><img class='thumbnail'style='float: left; height: 200px; margin-right: 15px; margin-top: 15px; -web-kit-shadow: None !important; box-shadow: None !important; margin-bottom: 0px;' src=\"images/C++NoBindings_v3.png\"></a>\n",
    "  </td>\n",
    "  <td style=\"border-style: hidden;\">\n",
    "  <a data-content=\"Image\" href=\"notebooks/FastjetInteractive.ipynb\" class=\"test\"><img class='thumbnail'style='float: left; height: 200px; margin-right: 15px; margin-top: 15px; -web-kit-shadow: None !important; box-shadow: None !important; margin-bottom: 0px;' src=\"images/AliceJetResized.png\"></a>\n",
    "  </td>\n",
    "</tr>\n",
    "\n",
    "<tr>\n",
    "  <td style=\"border-style: hidden;\">\n",
    "  <p style=\"font-size:22px; font-weight: 200; line-height: 1.2em\">Extending Python with C++</p>\n",
    "  </td>\n",
    "  <td style=\"border-style: hidden;\">\n",
    "  <p style=\"font-size:22px; font-weight: 200; line-height: 1.2em\">Interactive 3rd Party Libs</p>\n",
    "  </td>\n",
    "</tr>\n",
    "\n",
    "<!-- END OF SECOND ROW -->\n",
    "\n",
    "<!-- Third ROW -->\n",
    "\n",
    "<table style=\"border-style: hidden; border-collapse: collapse;\">\n",
    "<tr>\n",
    "  <td style=\"border-style: hidden;\">\n",
    "  <a data-content=\"Image\" href=\"notebooks/Slits.ipynb\" class=\"test\"><img class='thumbnail'style='float: left; height: 200px; margin-right: 15px; margin-top: 15px; -web-kit-shadow: None !important; box-shadow: None !important; margin-bottom: 0px;' src=\"images/Slits.png\"></a>\n",
    "  </td>\n",
    "</tr>\n",
    "<tr>\n",
    "  <td style=\"border-style: hidden;\">\n",
    "  <p style=\"font-size:22px; font-weight: 200; line-height: 1.2em\">Education: Intereference</p>\n",
    "  </td> \n",
    "</tr>\n",
    "<!-- End of the third row -->\n",
    "\n",
    "</table>"
   ]
  },
  {
   "cell_type": "markdown",
   "metadata": {},
   "source": [
    "# C++ Interactive shell\n",
    "<hr style=\"border-top-width: 4px; border-top-color: #34609b;\">\n",
    "<p style=\"margin-right:10%; margin-left:5%; font-size:18px; font-weight: 200; line-height: 1.2em\">\n",
    "Yes. ROOT features a full blown C++ interpreter built on top of [LLVM and Clang](http://clang.llvm.org/) libraries.\n",
    "</p>\n",
    "<a data-content=\"Image\" href=\"notebooks/Interactive_C++_Shell.ipynb\" class=\"test\"><img class='thumbnail'style='float: left; width: 147; margin-right: 15px; margin-top: 15px; -web-kit-shadow: None !important; box-shadow: None !important; margin-bottom: 0px;' src=\"images/ROOTShell.png\"></a>"
   ]
  },
  {
   "cell_type": "markdown",
   "metadata": {},
   "source": [
    "<a href=\"https://swan002.cern.ch/?projurl=https://github.com/dpiparo/rootbinder.git\" target=\"_blank\"><img alt=\"\" src=\"https://img.shields.io/badge/Open%20in-SWAN-orange.svg\" style=\"width: 98px; height: 20px;\" /></a>\n",
    "\n",
    "View these notebooks on [GitHub](https://github.com/cernphsft?tab=repositories)"
>>>>>>> cernphsft/master
   ]
  }
 ],
 "metadata": {
  "kernelspec": {
   "display_name": "Python 2",
   "language": "python",
   "name": "python2"
  },
  "language_info": {
   "codemirror_mode": {
    "name": "ipython",
    "version": 2
   },
   "file_extension": ".py",
   "mimetype": "text/x-python",
   "name": "python",
   "nbconvert_exporter": "python",
   "pygments_lexer": "ipython2",
   "version": "2.7.10"
  }
 },
 "nbformat": 4,
 "nbformat_minor": 0
}
