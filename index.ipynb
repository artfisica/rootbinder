{
 "cells": [
  {
   "cell_type": "markdown",
   "metadata": {},
   "source": [
    "![title](images/banner.png)\n",
    "\n",
    "<img src=\"images/ATLAS-Logo-Ref-RGB.png\" alt=\"ATLAS logo black and blue\" style=\"width:50%\">\n",
    "\n",
    "# Example of ROOTbook using ATLAS public datasets\n",
    "<table style=\"border-style: hidden; border-collapse: collapse;\">\n",
    "<tr>\n",
    "  <td style=\"border-style: hidden;\">\n",
    "  <a data-content=\"Image\" href=\"notebooks/PyROOT_Example.ipynb\" class=\"test\"><img class='thumbnail'style='float: left; height: 200px; margin-right: 15px; margin-top: 15px; -web-kit-shadow: None !important; box-shadow: None !important; margin-bottom: 0px;' src=\"images/pythonLogo.png\"></a>\n",
    "  </td>\n",
    "  <td style=\"border-style: hidden;\">\n",
    "  <a data-content=\"Image\" href=\"notebooks/DataAndTools_cpp_notebook_03_2016_example01_v0.0.ipynb\" class=\"test\"><img class='thumbnail'style='float: left; height: 200px; margin-right: 15px; margin-top: 15px; -web-kit-shadow: None !important; box-shadow: None !important; margin-bottom: 0px;' src=\"images/cppLogo_v2.png\"></a>\n",
    "  </td>\n",
    "</tr>\n",
    "\n",
    "<tr>\n",
    "  <td style=\"border-style: hidden;\">\n",
    "  <p style=\"font-size:22px; font-weight: 200; line-height: 1.2em;text-align:center;\" align =\"right\">Python</p>\n",
    "  </td>\n",
    "  <td style=\"border-style: hidden;\">\n",
    "  <p style=\"font-size:22px; font-weight: 200; line-height: 1.2em;text-align:center;\">C++</p>\n",
    "  </td>\n",
    "</tr>\n",
    "</table>"
   ]
  },
  {
   "cell_type": "markdown",
   "metadata": {},
   "source": [
    "View these notebooks on [GitHub](https://github.com/artfisica)"
   ]
  }
 ],
 "metadata": {
  "kernelspec": {
   "display_name": "Python 2",
   "language": "python",
   "name": "python2"
  },
  "language_info": {
   "codemirror_mode": {
    "name": "ipython",
    "version": 2
   },
   "file_extension": ".py",
   "mimetype": "text/x-python",
   "name": "python",
   "nbconvert_exporter": "python",
   "pygments_lexer": "ipython2",
   "version": "2.7.10"
  }
 },
 "nbformat": 4,
 "nbformat_minor": 0
}
